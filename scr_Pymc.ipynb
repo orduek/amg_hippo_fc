{
 "cells": [
  {
   "cell_type": "markdown",
   "metadata": {},
   "source": [
    "# Use PyMC Model for Bayes Hierarchical RL\n",
    "- Estimate learning rate (i.e. alpha) for each subject using this model"
   ]
  },
  {
   "cell_type": "code",
   "execution_count": 1,
   "metadata": {},
   "outputs": [],
   "source": [
    "%config Completer.use_jedi = False\n",
    "\n",
    "import pandas as pd\n",
    "import numpy as np\n",
    "import matplotlib.pyplot as plt\n",
    "import seaborn as sns\n",
    "import theano\n",
    "import theano.tensor as tt\n",
    "import scipy\n",
    "import os\n",
    "# import stan\n",
    "\n",
    "import pymc3 as pm\n",
    "import arviz as az\n",
    "# import learning package\n",
    "#import DMpy"
   ]
  },
  {
   "cell_type": "code",
   "execution_count": 3,
   "metadata": {},
   "outputs": [
    {
     "data": {
      "text/html": [
       "<div>\n",
       "<style scoped>\n",
       "    .dataframe tbody tr th:only-of-type {\n",
       "        vertical-align: middle;\n",
       "    }\n",
       "\n",
       "    .dataframe tbody tr th {\n",
       "        vertical-align: top;\n",
       "    }\n",
       "\n",
       "    .dataframe thead th {\n",
       "        text-align: right;\n",
       "    }\n",
       "</style>\n",
       "<table border=\"1\" class=\"dataframe\">\n",
       "  <thead>\n",
       "    <tr style=\"text-align: right;\">\n",
       "      <th></th>\n",
       "      <th>Event.Nr</th>\n",
       "      <th>CDA.nSCR</th>\n",
       "      <th>CDA.Latency</th>\n",
       "      <th>CDA.AmpSum</th>\n",
       "      <th>CDA.SCR</th>\n",
       "      <th>CDA.ISCR</th>\n",
       "      <th>CDA.PhasicMax</th>\n",
       "      <th>CDA.Tonic</th>\n",
       "      <th>TTP.nSCR</th>\n",
       "      <th>TTP.Latency</th>\n",
       "      <th>TTP.AmpSum</th>\n",
       "      <th>Global.Mean</th>\n",
       "      <th>Global.MaxDeflection</th>\n",
       "      <th>Event.NID</th>\n",
       "      <th>Event.Name</th>\n",
       "      <th>Condition</th>\n",
       "      <th>group</th>\n",
       "      <th>sub</th>\n",
       "    </tr>\n",
       "  </thead>\n",
       "  <tbody>\n",
       "    <tr>\n",
       "      <th>0</th>\n",
       "      <td>1</td>\n",
       "      <td>5</td>\n",
       "      <td>0.8435</td>\n",
       "      <td>0.2852</td>\n",
       "      <td>0.0003</td>\n",
       "      <td>0.1339</td>\n",
       "      <td>8.1296</td>\n",
       "      <td>2.3324</td>\n",
       "      <td>1</td>\n",
       "      <td>3.9335</td>\n",
       "      <td>0.5884</td>\n",
       "      <td>2.4822</td>\n",
       "      <td>0.5884</td>\n",
       "      <td>5</td>\n",
       "      <td>5</td>\n",
       "      <td>CSplusUS1</td>\n",
       "      <td>HC</td>\n",
       "      <td>189</td>\n",
       "    </tr>\n",
       "    <tr>\n",
       "      <th>1</th>\n",
       "      <td>2</td>\n",
       "      <td>4</td>\n",
       "      <td>0.7335</td>\n",
       "      <td>0.1033</td>\n",
       "      <td>0.0012</td>\n",
       "      <td>0.4737</td>\n",
       "      <td>0.3046</td>\n",
       "      <td>4.0029</td>\n",
       "      <td>0</td>\n",
       "      <td>NaN</td>\n",
       "      <td>0.0000</td>\n",
       "      <td>4.3933</td>\n",
       "      <td>0.0000</td>\n",
       "      <td>5</td>\n",
       "      <td>5</td>\n",
       "      <td>CSminus1</td>\n",
       "      <td>HC</td>\n",
       "      <td>189</td>\n",
       "    </tr>\n",
       "    <tr>\n",
       "      <th>2</th>\n",
       "      <td>3</td>\n",
       "      <td>3</td>\n",
       "      <td>2.9835</td>\n",
       "      <td>0.0783</td>\n",
       "      <td>0.0008</td>\n",
       "      <td>0.3237</td>\n",
       "      <td>0.1352</td>\n",
       "      <td>3.9579</td>\n",
       "      <td>1</td>\n",
       "      <td>2.8335</td>\n",
       "      <td>0.0260</td>\n",
       "      <td>3.9900</td>\n",
       "      <td>0.0154</td>\n",
       "      <td>5</td>\n",
       "      <td>5</td>\n",
       "      <td>CSplus1</td>\n",
       "      <td>HC</td>\n",
       "      <td>189</td>\n",
       "    </tr>\n",
       "    <tr>\n",
       "      <th>3</th>\n",
       "      <td>4</td>\n",
       "      <td>1</td>\n",
       "      <td>3.4935</td>\n",
       "      <td>0.1772</td>\n",
       "      <td>0.0002</td>\n",
       "      <td>0.0993</td>\n",
       "      <td>7.0748</td>\n",
       "      <td>3.8756</td>\n",
       "      <td>1</td>\n",
       "      <td>3.5335</td>\n",
       "      <td>0.5186</td>\n",
       "      <td>3.9212</td>\n",
       "      <td>0.5186</td>\n",
       "      <td>5</td>\n",
       "      <td>5</td>\n",
       "      <td>CSplusUS1</td>\n",
       "      <td>HC</td>\n",
       "      <td>189</td>\n",
       "    </tr>\n",
       "    <tr>\n",
       "      <th>4</th>\n",
       "      <td>5</td>\n",
       "      <td>0</td>\n",
       "      <td>NaN</td>\n",
       "      <td>0.0000</td>\n",
       "      <td>0.0004</td>\n",
       "      <td>0.1532</td>\n",
       "      <td>0.1604</td>\n",
       "      <td>4.2513</td>\n",
       "      <td>0</td>\n",
       "      <td>NaN</td>\n",
       "      <td>0.0000</td>\n",
       "      <td>4.3461</td>\n",
       "      <td>0.0000</td>\n",
       "      <td>5</td>\n",
       "      <td>5</td>\n",
       "      <td>CSminus1</td>\n",
       "      <td>HC</td>\n",
       "      <td>189</td>\n",
       "    </tr>\n",
       "  </tbody>\n",
       "</table>\n",
       "</div>"
      ],
      "text/plain": [
       "   Event.Nr  CDA.nSCR CDA.Latency  CDA.AmpSum  CDA.SCR  CDA.ISCR  \\\n",
       "0         1         5      0.8435      0.2852   0.0003    0.1339   \n",
       "1         2         4      0.7335      0.1033   0.0012    0.4737   \n",
       "2         3         3      2.9835      0.0783   0.0008    0.3237   \n",
       "3         4         1      3.4935      0.1772   0.0002    0.0993   \n",
       "4         5         0         NaN      0.0000   0.0004    0.1532   \n",
       "\n",
       "   CDA.PhasicMax  CDA.Tonic  TTP.nSCR TTP.Latency  TTP.AmpSum  Global.Mean  \\\n",
       "0         8.1296     2.3324         1      3.9335      0.5884       2.4822   \n",
       "1         0.3046     4.0029         0         NaN      0.0000       4.3933   \n",
       "2         0.1352     3.9579         1      2.8335      0.0260       3.9900   \n",
       "3         7.0748     3.8756         1      3.5335      0.5186       3.9212   \n",
       "4         0.1604     4.2513         0         NaN      0.0000       4.3461   \n",
       "\n",
       "   Global.MaxDeflection  Event.NID  Event.Name  Condition group  sub  \n",
       "0                0.5884          5           5  CSplusUS1    HC  189  \n",
       "1                0.0000          5           5   CSminus1    HC  189  \n",
       "2                0.0154          5           5    CSplus1    HC  189  \n",
       "3                0.5186          5           5  CSplusUS1    HC  189  \n",
       "4                0.0000          5           5   CSminus1    HC  189  "
      ]
     },
     "execution_count": 3,
     "metadata": {},
     "output_type": "execute_result"
    }
   ],
   "source": [
    "# read scr file\n",
    "#scr = pd.read_csv('/media/Data/Lab_Projects/PTSD_Reversal/Behavioral/SCR3.csv')\n",
    "scr = pd.read_csv('Behavioral/SCR3.csv')\n",
    "scr.head()\n"
   ]
  },
  {
   "cell_type": "code",
   "execution_count": 4,
   "metadata": {},
   "outputs": [],
   "source": [
    "scr = scr[['sub','Condition','Event.Nr','CDA.AmpSum']]\n",
    "scr['sub'] = scr['sub'].astype('string')\n",
    "for i in scr.iterrows():\n",
    "    if len(i[1]['sub'])<=2:\n",
    "        #print(i[1]['sub'])\n",
    "        sub = 'sub-0' + str(i[1]['sub'])\n",
    "    else:\n",
    "        sub = 'sub-' + str(i[1]['sub'])\n",
    "    #print(sub)\n",
    "    scr.at[i[0], 'sub'] = sub\n",
    "    "
   ]
  },
  {
   "cell_type": "code",
   "execution_count": 5,
   "metadata": {},
   "outputs": [
    {
     "data": {
      "text/plain": [
       "101"
      ]
     },
     "execution_count": 5,
     "metadata": {},
     "output_type": "execute_result"
    }
   ],
   "source": [
    "len(scr['sub'].unique())"
   ]
  },
  {
   "cell_type": "code",
   "execution_count": 6,
   "metadata": {},
   "outputs": [
    {
     "data": {
      "text/plain": [
       "86"
      ]
     },
     "execution_count": 6,
     "metadata": {},
     "output_type": "execute_result"
    }
   ],
   "source": [
    "# grab subjects with 69 trials\n",
    "scr_clean = scr.copy() # make a copy of original\n",
    "for sub in scr['sub'].unique():\n",
    "    df = scr[scr['sub']==sub]\n",
    "    #print (len(df))\n",
    "    if len(df)<69:\n",
    "        scr_clean = scr_clean[scr_clean['sub']!=sub]\n",
    "len(scr_clean['sub'].unique()) # total of 86 valid subjects"
   ]
  },
  {
   "cell_type": "code",
   "execution_count": 7,
   "metadata": {},
   "outputs": [
    {
     "data": {
      "text/plain": [
       "array([ 1,  2,  3, ..., 67, 68, 69])"
      ]
     },
     "execution_count": 7,
     "metadata": {},
     "output_type": "execute_result"
    }
   ],
   "source": [
    "# grab just two subjects for now\n",
    "scrTwo = scr_clean#[(scr['sub']==152) |(scr['sub']==189) | (scr['sub']==86) | (scr['sub']==48)]\n",
    "scrTwo['Event.Nr'].values"
   ]
  },
  {
   "cell_type": "markdown",
   "metadata": {},
   "source": [
    "Organize the data for the analysis"
   ]
  },
  {
   "cell_type": "code",
   "execution_count": 8,
   "metadata": {},
   "outputs": [
    {
     "name": "stdout",
     "output_type": "stream",
     "text": [
      "(5934,)\n",
      "(5934,)\n",
      "(5934,)\n"
     ]
    }
   ],
   "source": [
    "# organize data accordingly\n",
    "# first, grab just the relevant variables (subject, trial, stimuli, shock)\n",
    "# we need to generate a new variable shock (1=yes, 0=no)\n",
    "# we also need a new variable stim (1=CS+, 2=CS-)\n",
    "scrVec = scrTwo['CDA.AmpSum'].values\n",
    "print(scrVec.shape)\n",
    "shockVec = np.zeros(len(scrVec), dtype=np.int32) # vector to capture shock (1=yes, 0=no)\n",
    "stimVec = np.zeros(len(scrVec), dtype=np.int32) # vector to capture stimulus (1=CS+, 2= CS-)\n",
    "\n",
    "for i, cond in enumerate(scrTwo['Condition'].values):\n",
    "    if cond=='CSplusUS1':\n",
    "        shockVec[i]= 1\n",
    "        stimVec[i] = 1\n",
    "    elif cond=='CSminusUS2':\n",
    "            # after reversal so minus becomes plus\n",
    "        shockVec[i]= 1\n",
    "        stimVec[i] = 0\n",
    "    elif cond=='CSplus2':\n",
    "            # after reversal so plus becomes minus\n",
    "            shockVec[i]=0\n",
    "            stimVec[i] = 1\n",
    "    elif cond=='CSplus1':\n",
    "            stimVec[i] = 1\n",
    "            shockVec[i]= 0\n",
    "    elif cond=='CSminus1':\n",
    "            stimVec[i] = 0\n",
    "            shockVec[i] = 0\n",
    "    elif cond=='CSminus2':\n",
    "        stimVec[i] = 0\n",
    "        shockVec[i] = 0\n",
    "    else:\n",
    "        print(f' Condition is {cond}')\n",
    "        stimVec[i] = 9\n",
    "        shockVec[i] = 9\n",
    "print(shockVec.shape)\n",
    "print(stimVec.shape)"
   ]
  },
  {
   "cell_type": "code",
   "execution_count": 9,
   "metadata": {},
   "outputs": [],
   "source": [
    "n_trials, n_subj = 69,len(scrTwo['sub'].unique())\n",
    "trials, subj = np.meshgrid(range(n_trials), range(n_subj))\n",
    "trials = tt.as_tensor_variable(trials.T)\n",
    "subj = tt.as_tensor_variable(subj.T)\n",
    "stim = np.reshape(stimVec, (n_subj,n_trials)).T # transform to matrix trials x subject\n",
    "shock = np.reshape(shockVec, (n_subj,n_trials)).T \n",
    "scrMat = np.reshape(scrVec, (n_subj, n_trials)).T"
   ]
  },
  {
   "cell_type": "code",
   "execution_count": 10,
   "metadata": {},
   "outputs": [],
   "source": [
    "stim = tt.as_tensor_variable(stim)\n",
    "shock = tt.as_tensor_variable(shock)\n"
   ]
  },
  {
   "cell_type": "markdown",
   "metadata": {},
   "source": [
    "# Build PyMC code"
   ]
  },
  {
   "cell_type": "code",
   "execution_count": 11,
   "metadata": {},
   "outputs": [],
   "source": [
    "#scrs = tt.zeros(30) # set empty scr tensor (vector)\n",
    "   \n",
    "# generate functions to run\n",
    "def update_Q(stim, shock,\n",
    "             Qs,vec,\n",
    "             alpha, n_subj):\n",
    "    \"\"\"\n",
    "    This function updates the Q table according to the RL update rule.\n",
    "    It will be called by theano.scan to do so recursevely, given the observed data and the alpha parameter\n",
    "    This could have been replaced be the following lamba expression in the theano.scan fn argument:\n",
    "        fn=lamba action, reward, Qs, alpha: tt.set_subtensor(Qs[action], Qs[action] + alpha * (reward - Qs[action]))\n",
    "    \"\"\"\n",
    "      \n",
    "    PE = shock - Qs[tt.arange(n_subj), stim]\n",
    "    Qs = tt.set_subtensor(Qs[tt.arange(n_subj),stim], Qs[tt.arange(n_subj),stim] + alpha * PE)\n",
    "    \n",
    "    # in order to get a vector of expected outcome (dependent on the stimulus presentes [CS+, CS-] \n",
    "    # we us if statement (switch in theano)\n",
    "    vec = tt.set_subtensor(vec[tt.arange(n_subj),0], (tt.switch(tt.eq(stim,1), \n",
    "                                                                Qs[tt.arange(n_subj),1], Qs[tt.arange(n_subj),0])))\n",
    "    \n",
    "    return Qs, vec\n",
    "\n",
    "def theano_llik_td(alpha,  stim, shock, n_subj):\n",
    "   # stim = theano.shared(np.asarray(stim, dtype='int16'))\n",
    "   # shock = theano.shared(np.asarray(shock, dtype='int16'))\n",
    "\n",
    "    # Compute the Qs values\n",
    "    Qs = 0.5 * tt.ones((n_subj,2), dtype='float64') # set values for boths stimuli (CS+, CS-)\n",
    "    vec = 0.5 * tt.ones((n_subj,1), dtype='float64') # vector to save the relevant stimulus's expactation\n",
    "    [Qs,vec], updates = theano.scan(\n",
    "        fn=update_Q,\n",
    "        sequences=[stim, shock],\n",
    "        outputs_info=[Qs, vec],\n",
    "        non_sequences=[alpha, n_subj])\n",
    "\n",
    "       \n",
    "    return Qs, vec"
   ]
  },
  {
   "cell_type": "code",
   "execution_count": null,
   "metadata": {
    "tags": []
   },
   "outputs": [],
   "source": [
    "with pm.Model() as m:\n",
    "  \n",
    "      \n",
    "    alpha = pm.Beta('alpha', 1,1, shape=n_subj)\n",
    "    beta = pm.Normal('beta',0, 1, shape=n_subj)\n",
    "    eps = pm.HalfNormal('eps', 5)\n",
    "    \n",
    "    Qs = 0.5 * tt.ones((n_subj,2), dtype='float64') # set values for boths stimuli (CS+, CS-)\n",
    "    vec = 0.5 * tt.ones((n_subj,1), dtype='float64') # vector to save the relevant stimulus's expactation\n",
    "    \n",
    "    [Qs,vec], updates = theano.scan(\n",
    "        fn=update_Q,\n",
    "        sequences=[stim, shock],\n",
    "        outputs_info=[Qs, vec],\n",
    "        non_sequences=[alpha, n_subj])\n",
    "   \n",
    "    \n",
    "    vec_ = vec[trials, subj,0] * beta[subj]\n",
    "    \n",
    "    scrs = pm.Normal('scrs', vec_, eps, observed=scrMat) \n",
    "    \n",
    "    # add matrix of expected values (trials X subjects)\n",
    "    ev = pm.Deterministic('expected_value', vec_)\n",
    "    \n",
    "    tr = pm.sample(target_accept=.9, chains=4, cores=10, return_inferencedata=True)"
   ]
  },
  {
   "cell_type": "code",
   "execution_count": null,
   "metadata": {},
   "outputs": [],
   "source": [
    "az.plot_trace(tr, var_names='alpha')"
   ]
  },
  {
   "cell_type": "code",
   "execution_count": null,
   "metadata": {},
   "outputs": [],
   "source": [
    "az.summary(tr, var_names='alpha')"
   ]
  },
  {
   "cell_type": "markdown",
   "metadata": {},
   "source": [
    "# Add intercept"
   ]
  },
  {
   "cell_type": "code",
   "execution_count": null,
   "metadata": {},
   "outputs": [],
   "source": [
    "# try alpha as beta distribution\n",
    "with pm.Model() as m2:\n",
    "  \n",
    "    intercept = pm.Normal('intercept', 0,.5, shape=n_subj)  \n",
    "    alpha = pm.Beta('alpha', 1,1, shape=n_subj)\n",
    "    beta = pm.Normal('beta',0, .5, shape=n_subj)\n",
    "    eps = pm.HalfNormal('eps', 1)\n",
    "    \n",
    "    Qs = 0.5 * tt.ones((n_subj,2), dtype='float64') # set values for boths stimuli (CS+, CS-)\n",
    "    vec = 0.5 * tt.ones((n_subj,1), dtype='float64') # vector to save the relevant stimulus's expactation\n",
    "    \n",
    "    [Qs,vec], updates = theano.scan(\n",
    "        fn=update_Q,\n",
    "        sequences=[stim, shock],\n",
    "        outputs_info=[Qs, vec],\n",
    "        non_sequences=[alpha, n_subj])\n",
    "   \n",
    "    \n",
    "    vec_ = intercept[subj] + vec[trials, subj,0] * beta[subj]\n",
    "    \n",
    "    scrs = pm.Normal('scrs', vec_, eps, observed=scrMat) \n",
    "    \n",
    "    trI = pm.sample(target_accept=.9, chains=4, cores=10, return_inferencedata=True)"
   ]
  },
  {
   "cell_type": "code",
   "execution_count": null,
   "metadata": {},
   "outputs": [],
   "source": [
    "az.summary(trI)"
   ]
  },
  {
   "cell_type": "code",
   "execution_count": null,
   "metadata": {},
   "outputs": [],
   "source": [
    "az.compare({'model1': tr, 'model2_intercept':trI}) "
   ]
  },
  {
   "cell_type": "markdown",
   "metadata": {},
   "source": [
    "# Set intercept as all subjects"
   ]
  },
  {
   "cell_type": "code",
   "execution_count": null,
   "metadata": {},
   "outputs": [],
   "source": [
    "with pm.Model() as m3:\n",
    "  \n",
    "    intercept = pm.Normal('intercept', 0,.5)  \n",
    "    alpha = pm.Beta('alpha', 1,1, shape=n_subj)\n",
    "    beta = pm.Normal('beta',0, .5, shape=n_subj)\n",
    "    eps = pm.HalfNormal('eps', 1)\n",
    "    \n",
    "    Qs = 0.5 * tt.ones((n_subj,2), dtype='float64') # set values for boths stimuli (CS+, CS-)\n",
    "    vec = 0.5 * tt.ones((n_subj,1), dtype='float64') # vector to save the relevant stimulus's expactation\n",
    "    \n",
    "    [Qs,vec], updates = theano.scan(\n",
    "        fn=update_Q,\n",
    "        sequences=[stim, shock],\n",
    "        outputs_info=[Qs, vec],\n",
    "        non_sequences=[alpha, n_subj])\n",
    "   \n",
    "    \n",
    "    vec_ = intercept + vec[trials, subj,0] * beta[subj]\n",
    "    \n",
    "    scrs = pm.Normal('scrs', vec_, eps, observed=scrMat) \n",
    "    \n",
    "    tr3 = pm.sample(target_accept=.9, chains=4, cores=10, return_inferencedata=True)"
   ]
  },
  {
   "cell_type": "code",
   "execution_count": null,
   "metadata": {},
   "outputs": [],
   "source": [
    "az.summary(tr3)"
   ]
  },
  {
   "cell_type": "code",
   "execution_count": null,
   "metadata": {},
   "outputs": [],
   "source": [
    "az.compare({'model1': tr, 'model2_intercept':trI, 'model3_jointIntercept':tr3}) "
   ]
  },
  {
   "cell_type": "markdown",
   "metadata": {},
   "source": [
    "# Joint Slope"
   ]
  },
  {
   "cell_type": "code",
   "execution_count": null,
   "metadata": {},
   "outputs": [],
   "source": [
    "with pm.Model() as m4:\n",
    "  \n",
    "    intercept = pm.Normal('intercept', 0,.5,  shape=n_subj)  \n",
    "    alpha = pm.Beta('alpha', 1,1, shape=n_subj)\n",
    "    beta = pm.Normal('beta',0, .5)\n",
    "    eps = pm.HalfNormal('eps', 1)\n",
    "    \n",
    "    Qs = 0.5 * tt.ones((n_subj,2), dtype='float64') # set values for boths stimuli (CS+, CS-)\n",
    "    vec = 0.5 * tt.ones((n_subj,1), dtype='float64') # vector to save the relevant stimulus's expactation\n",
    "    \n",
    "    [Qs,vec], updates = theano.scan(\n",
    "        fn=update_Q,\n",
    "        sequences=[stim, shock],\n",
    "        outputs_info=[Qs, vec],\n",
    "        non_sequences=[alpha, n_subj])\n",
    "   \n",
    "    \n",
    "    vec_ = intercept[subj] + vec[trials, subj,0] * beta\n",
    "    \n",
    "    scrs = pm.Normal('scrs', vec_, eps, observed=scrMat) \n",
    "    \n",
    "    tr4 = pm.sample(target_accept=.9, chains=4, cores=10, return_inferencedata=True)"
   ]
  },
  {
   "cell_type": "code",
   "execution_count": null,
   "metadata": {},
   "outputs": [],
   "source": [
    "az.summary(tr4)"
   ]
  },
  {
   "cell_type": "code",
   "execution_count": null,
   "metadata": {},
   "outputs": [],
   "source": [
    "az.compare({'model1': tr, 'model2_intercept':trI, 'model3_jointIntercept':tr3,\n",
    "           'model4_jointBeta':tr4}) "
   ]
  },
  {
   "cell_type": "markdown",
   "metadata": {},
   "source": [
    "# Both intercept and slope are joined"
   ]
  },
  {
   "cell_type": "code",
   "execution_count": null,
   "metadata": {},
   "outputs": [],
   "source": [
    "with pm.Model() as m5:\n",
    "  \n",
    "    intercept = pm.Normal('intercept', 0,.5)  \n",
    "    alpha = pm.Beta('alpha', 1,1, shape=n_subj)\n",
    "    beta = pm.Normal('beta',0, .5)\n",
    "    eps = pm.HalfNormal('eps', 1)\n",
    "    \n",
    "    Qs = 0.5 * tt.ones((n_subj,2), dtype='float64') # set values for boths stimuli (CS+, CS-)\n",
    "    vec = 0.5 * tt.ones((n_subj,1), dtype='float64') # vector to save the relevant stimulus's expactation\n",
    "    \n",
    "    [Qs,vec], updates = theano.scan(\n",
    "        fn=update_Q,\n",
    "        sequences=[stim, shock],\n",
    "        outputs_info=[Qs, vec],\n",
    "        non_sequences=[alpha, n_subj])\n",
    "   \n",
    "    \n",
    "    vec_ = intercept + vec[trials, subj,0] * beta\n",
    "    \n",
    "    scrs = pm.Normal('scrs', vec_, eps, observed=scrMat) \n",
    "    # add matrix of expected values (trials X subjects)\n",
    "    ev = pm.Deterministic('expected_value', vec_)\n",
    "    \n",
    "    tr5 = pm.sample(target_accept=.9, chains=4, cores=10, return_inferencedata=True)"
   ]
  },
  {
   "cell_type": "code",
   "execution_count": null,
   "metadata": {},
   "outputs": [],
   "source": [
    "az.summary(tr5)"
   ]
  },
  {
   "cell_type": "code",
   "execution_count": null,
   "metadata": {},
   "outputs": [],
   "source": [
    "az.compare({'model1': tr, 'model2_intercept':trI, 'model3_jointIntercept':tr3,\n",
    "           'model4_jointBeta':tr4, 'model5': tr5}) "
   ]
  },
  {
   "cell_type": "markdown",
   "metadata": {},
   "source": [
    "## Use reparametarization on $\\alpha$"
   ]
  },
  {
   "cell_type": "code",
   "execution_count": null,
   "metadata": {},
   "outputs": [],
   "source": [
    "with pm.Model() as m_pooled:\n",
    "    \n",
    "    intercept = pm.Normal('intercept', 0, 2)\n",
    "    alpha_mu = pm.Beta('alpha_mu', 1, 1)\n",
    "    alpha_sd = pm.HalfNormal('alpha_sd',.5)\n",
    "    alpha_matt = pm.Normal('alpha_matt', mu=0, sd=1, shape=n_subj)\n",
    "    alpha = pm.Deterministic('alpha', alpha_mu + alpha_sd * alpha_matt)\n",
    "    beta = pm.Normal('beta',0, 5, shape= n_subj)\n",
    "    eps = pm.HalfNormal('eps', 5)\n",
    "  \n",
    "    Qs = 0.5 * tt.ones((n_subj,2), dtype='float64') # set values for boths stimuli (CS+, CS-)\n",
    "    vec = 0.5 * tt.ones((n_subj,1), dtype='float64') # vector to save the relevant stimulus's expactation\n",
    "    \n",
    "    [Qs,vec], updates = theano.scan(\n",
    "        fn=update_Q,\n",
    "        sequences=[stim, shock],\n",
    "        outputs_info=[Qs, vec],\n",
    "        non_sequences=[alpha, n_subj])\n",
    "   \n",
    "    \n",
    "    vec_ = intercept + vec[trials, subj,0] * beta[subj]\n",
    "    \n",
    "    scrs = pm.Normal('scrs', vec_, eps, observed=scrMat) \n",
    "    \n",
    "    trH_1 = pm.sample(target_accept=.9, chains=4, cores=8, return_inferencedata=True)"
   ]
  },
  {
   "cell_type": "code",
   "execution_count": null,
   "metadata": {
    "tags": []
   },
   "outputs": [],
   "source": [
    "az.summary(trH_1)"
   ]
  },
  {
   "cell_type": "code",
   "execution_count": null,
   "metadata": {},
   "outputs": [],
   "source": [
    "az.compare({'model1': tr, 'model2_intercept':trI, 'model3_jointIntercept':tr3,\n",
    "           'model4_jointBeta':tr4, 'model5': tr5, 'pooledAlpha':trH_1}) "
   ]
  },
  {
   "cell_type": "markdown",
   "metadata": {},
   "source": [
    "# Pooling intercet , slope and alpha"
   ]
  },
  {
   "cell_type": "code",
   "execution_count": null,
   "metadata": {},
   "outputs": [],
   "source": [
    "with pm.Model() as m_pooled2:\n",
    "    \n",
    "    intercept_mu = pm.Normal('intercept_mu', 0, 1)\n",
    "    intercept_sd = pm.HalfNormal('intercept_sd',5)\n",
    "    intercept_matt = pm.Normal('alpha_matt', mu=0, sd=1, shape=n_subj)\n",
    "    intercept = pm.Deterministic('intercept',intercept_mu + intercept_sd * intercept_matt)\n",
    "    \n",
    "    alpha = pm.Beta('alpha', 1, 1, shape = n_subj)\n",
    "   \n",
    "    beta_mu = pm.Normal('beta_mu', 0,1)\n",
    "    beta_sd = pm.HalfNormal('beta_sd', 5)\n",
    "    beta_matt = pm.Normal('beta_matt', 0,1, shape=n_subj)\n",
    "    beta = pm.Deterministic('beta', beta_mu + beta_sd*beta_matt)\n",
    "    eps = pm.HalfNormal('eps', 5)\n",
    "  \n",
    "    Qs = 0.5 * tt.ones((n_subj,2), dtype='float64') # set values for boths stimuli (CS+, CS-)\n",
    "    vec = 0.5 * tt.ones((n_subj,1), dtype='float64') # vector to save the relevant stimulus's expactation\n",
    "    \n",
    "    [Qs,vec], updates = theano.scan(\n",
    "        fn=update_Q,\n",
    "        sequences=[stim, shock],\n",
    "        outputs_info=[Qs, vec],\n",
    "        non_sequences=[alpha, n_subj])\n",
    "   \n",
    "    \n",
    "    vec_ = intercept[subj] + vec[trials, subj,0] * beta[subj]\n",
    "    \n",
    "    scrs = pm.Normal('scrs', vec_, eps, observed=scrMat) \n",
    "    \n",
    "    trH_2 = pm.sample(target_accept=.9, chains=4, cores=10, return_inferencedata=True)"
   ]
  },
  {
   "cell_type": "code",
   "execution_count": null,
   "metadata": {},
   "outputs": [],
   "source": [
    "az.compare({'model1': tr, 'model2_intercept':trI, 'model3_jointIntercept':tr3,\n",
    "           'model4_jointBeta':tr4, 'model5': tr5, 'pooledAlpha':trH_1, 'fully_pooled':trH_2}) "
   ]
  },
  {
   "cell_type": "markdown",
   "metadata": {},
   "source": [
    "# Similar to Stan model"
   ]
  },
  {
   "cell_type": "code",
   "execution_count": null,
   "metadata": {
    "tags": []
   },
   "outputs": [],
   "source": [
    "with pm.Model() as m_stan:\n",
    "    mu = pm.Normal('mu', 0, 1, shape=3)\n",
    "    sd = pm.HalfNormal('sd',5, shape=3)\n",
    "     \n",
    "    intercept_matt = pm.Normal('intercept_matt', mu=0, sd=1, shape=n_subj)\n",
    "    intercept = pm.Deterministic('intercept',intercept_matt + mu[1]*sd[1] )\n",
    "    \n",
    "    \n",
    "    alpha_h = pm.Beta('alpha_h',1,  1, shape = n_subj)\n",
    "    alpha = pm.Deterministic('alpha', alpha_h + mu[0]* sd[0])\n",
    "    \n",
    "    \n",
    "    beta_matt = pm.Normal('beta_matt',0, 1, shape=n_subj)\n",
    "    beta = pm.Deterministic('beta', beta_matt + mu[2]*sd[2])\n",
    "    \n",
    "    eps = pm.HalfNormal('eps', 5)\n",
    "  \n",
    "    Qs = 0.5 * tt.ones((n_subj,2), dtype='float64') # set values for boths stimuli (CS+, CS-)\n",
    "    vec = 0.5 * tt.ones((n_subj,1), dtype='float64') # vector to save the relevant stimulus's expactation\n",
    "    \n",
    "    [Qs,vec], updates = theano.scan(\n",
    "        fn=update_Q,\n",
    "        sequences=[stim, shock],\n",
    "        outputs_info=[Qs, vec],\n",
    "        non_sequences=[alpha, n_subj])\n",
    "   \n",
    "    \n",
    "    vec_ = intercept[subj] + vec[trials, subj,0] * beta[subj]\n",
    "    \n",
    "    scrs = pm.Normal('scrs', vec_, eps, observed=scrMat) \n",
    "    \n",
    "    trH_Stan = pm.sample(target_accept=.9, chains=4, cores=10, return_inferencedata=True)"
   ]
  },
  {
   "cell_type": "markdown",
   "metadata": {},
   "source": [
    "# Model using hyperparameter in different way\n",
    "- For reference:\n",
    "https://docs.pymc.io/en/v3/pymc-examples/examples/case_studies/hierarchical_partial_pooling.html"
   ]
  },
  {
   "cell_type": "code",
   "execution_count": 12,
   "metadata": {},
   "outputs": [
    {
     "name": "stderr",
     "output_type": "stream",
     "text": [
      "Auto-assigning NUTS sampler...\n",
      "Initializing NUTS using jitter+adapt_diag...\n",
      "Multiprocess sampling (4 chains in 10 jobs)\n",
      "NUTS: [eps, beta, beta_sd, beta_h, alpha, kappa_log, phi]\n"
     ]
    },
    {
     "data": {
      "text/html": [
       "\n",
       "    <div>\n",
       "        <style>\n",
       "            /* Turns off some styling */\n",
       "            progress {\n",
       "                /* gets rid of default border in Firefox and Opera. */\n",
       "                border: none;\n",
       "                /* Needs to be in here for Safari polyfill so background images work as expected. */\n",
       "                background-size: auto;\n",
       "            }\n",
       "            .progress-bar-interrupted, .progress-bar-interrupted::-webkit-progress-bar {\n",
       "                background: #F44336;\n",
       "            }\n",
       "        </style>\n",
       "      <progress value='8000' class='' max='8000' style='width:300px; height:20px; vertical-align: middle;'></progress>\n",
       "      100.00% [8000/8000 15:09<00:00 Sampling 4 chains, 0 divergences]\n",
       "    </div>\n",
       "    "
      ],
      "text/plain": [
       "<IPython.core.display.HTML object>"
      ]
     },
     "metadata": {},
     "output_type": "display_data"
    },
    {
     "name": "stderr",
     "output_type": "stream",
     "text": [
      "Sampling 4 chains for 1_000 tune and 1_000 draw iterations (4_000 + 4_000 draws total) took 912 seconds.\n"
     ]
    }
   ],
   "source": [
    "with pm.Model() as m5:\n",
    "    \n",
    "    # α\n",
    "    phi = pm.Uniform(\"phi\", lower=0.0, upper=1.0)\n",
    "    kappa_log = pm.Exponential(\"kappa_log\", lam=1.5)\n",
    "    kappa = pm.Deterministic(\"kappa\", tt.exp(kappa_log))\n",
    "    alpha = pm.Beta(\"alpha\", alpha=phi * kappa, beta=(1.0 - phi) * kappa, shape=n_subj)\n",
    "    \n",
    "    # β\n",
    "    beta_h = pm.Normal('beta_h', 0,1)\n",
    "    beta_sd = pm.HalfNormal('beta_sd', 5)\n",
    "    beta = pm.Normal('beta',beta_h, beta_sd, shape=n_subj)\n",
    "       \n",
    "    eps = pm.HalfNormal('eps', 5)\n",
    "    \n",
    "    Qs = 0.5 * tt.ones((n_subj,2), dtype='float64') # set values for boths stimuli (CS+, CS-)\n",
    "    vec0 = 0.5 * tt.ones((n_subj,1), dtype='float64') # vector to save the relevant stimulus's expactation\n",
    "    \n",
    "    [Qs,vec], updates = theano.scan(\n",
    "        fn=update_Q,\n",
    "        sequences=[stim, shock],\n",
    "        outputs_info=[Qs, vec0],\n",
    "        non_sequences=[alpha, n_subj])\n",
    "   \n",
    "     \n",
    "    vec_ = vec[trials, subj,0] * beta[subj]\n",
    "    # add matrix of expected values (trials X subjects)\n",
    "    ev = pm.Deterministic('expected_value', vec_)\n",
    "    \n",
    "    scrs = pm.Normal('scrs', vec_, eps, observed=scrMat) \n",
    "    trH_phi = pm.sample(target_accept=.9, chains=4, cores=10, return_inferencedata=True)"
   ]
  },
  {
   "cell_type": "code",
   "execution_count": null,
   "metadata": {},
   "outputs": [],
   "source": [
    "az.summary(trH_phi)"
   ]
  },
  {
   "cell_type": "code",
   "execution_count": null,
   "metadata": {},
   "outputs": [],
   "source": [
    "az.compare({'simpleModel':tr, 'hierarchy':trH_phi})"
   ]
  },
  {
   "cell_type": "markdown",
   "metadata": {},
   "source": [
    "### Same but with intercept"
   ]
  },
  {
   "cell_type": "code",
   "execution_count": null,
   "metadata": {},
   "outputs": [],
   "source": [
    "with pm.Model() as m5_intercept:\n",
    "    \n",
    "    # intercept\n",
    "    mu = pm.Normal('mu', 0, 1)\n",
    "    sd = pm.HalfNormal('sd',5) \n",
    "    intercept_matt = pm.Normal('intercept_matt', mu=0, sd=1, shape=n_subj)\n",
    "    intercept = pm.Deterministic('intercept',intercept_matt + mu*sd)\n",
    "    \n",
    "    # \\alpha\n",
    "    phi = pm.Uniform(\"phi\", lower=0.0, upper=1.0)\n",
    "    kappa_log = pm.Exponential(\"kappa_log\", lam=1.5)\n",
    "    kappa = pm.Deterministic(\"kappa\", tt.exp(kappa_log))\n",
    "    alpha = pm.Beta(\"alpha\", alpha=phi * kappa, beta=(1.0 - phi) * kappa, shape=n_subj)\n",
    "    \n",
    "    # \\beta\n",
    "    beta_h = pm.Normal('beta_h', 0,1)\n",
    "    beta_sd = pm.HalfNormal('beta_sd', 5)\n",
    "    beta = pm.Normal('beta',beta_h, beta_sd, shape=n_subj)\n",
    "       \n",
    "    eps = pm.HalfNormal('eps', 5)\n",
    "    \n",
    "    Qs = 0.5 * tt.ones((n_subj,2), dtype='float64') # set values for boths stimuli (CS+, CS-)\n",
    "    vec0 = 0.5 * tt.ones((n_subj,1), dtype='float64') # vector to save the relevant stimulus's expactation\n",
    "    \n",
    "    [Qs,vec], updates = theano.scan(\n",
    "        fn=update_Q,\n",
    "        sequences=[stim, shock],\n",
    "        outputs_info=[Qs, vec0],\n",
    "        non_sequences=[alpha, n_subj])\n",
    "   \n",
    "     \n",
    "    vec_ = vec[trials, subj,0] * beta[subj]\n",
    "    \n",
    "    scrs = pm.Normal('scrs', vec_, eps, observed=scrMat) \n",
    "    trH_phi2 = pm.sample(target_accept=.9, chains=4, cores=10, return_inferencedata=True)"
   ]
  },
  {
   "cell_type": "code",
   "execution_count": null,
   "metadata": {},
   "outputs": [],
   "source": [
    "az.summary(trH_phi2)"
   ]
  },
  {
   "cell_type": "code",
   "execution_count": null,
   "metadata": {},
   "outputs": [],
   "source": [
    "comp = az.compare({'model1': trH_phi, 'model2':trH_phi2, 'nonHModel':tr}, ic='loo')\n",
    "comp"
   ]
  },
  {
   "cell_type": "code",
   "execution_count": null,
   "metadata": {},
   "outputs": [],
   "source": [
    "az.plot_compare(comp, insample_dev=False);"
   ]
  },
  {
   "cell_type": "markdown",
   "metadata": {},
   "source": [
    "## Take the better model, remove pooling of $\\beta$"
   ]
  },
  {
   "cell_type": "code",
   "execution_count": null,
   "metadata": {},
   "outputs": [],
   "source": [
    "with pm.Model() as m5_b:\n",
    "    \n",
    "    # α\n",
    "    phi = pm.Uniform(\"phi\", lower=0.0, upper=1.0)\n",
    "    kappa_log = pm.Exponential(\"kappa_log\", lam=1.5)\n",
    "    kappa = pm.Deterministic(\"kappa\", tt.exp(kappa_log))\n",
    "    alpha = pm.Beta(\"alpha\", alpha=phi * kappa, beta=(1.0 - phi) * kappa, shape=n_subj)\n",
    "    \n",
    "    # β\n",
    "    # beta_h = pm.Normal('beta_h', 0,1)\n",
    "    # beta_sd = pm.HalfNormal('beta_sd', 5)\n",
    "    beta = pm.Normal('beta',0, 1, shape=n_subj)\n",
    "       \n",
    "    eps = pm.HalfNormal('eps', 5)\n",
    "    \n",
    "    Qs = 0.5 * tt.ones((n_subj,2), dtype='float64') # set values for boths stimuli (CS+, CS-)\n",
    "    vec0 = 0.5 * tt.ones((n_subj,1), dtype='float64') # vector to save the relevant stimulus's expactation\n",
    "    \n",
    "    [Qs,vec], updates = theano.scan(\n",
    "        fn=update_Q,\n",
    "        sequences=[stim, shock],\n",
    "        outputs_info=[Qs, vec0],\n",
    "        non_sequences=[alpha, n_subj])\n",
    "   \n",
    "     \n",
    "    vec_ = vec[trials, subj,0] * beta[subj]\n",
    "    \n",
    "    scrs = pm.Normal('scrs', vec_, eps, observed=scrMat) \n",
    "    trH_phiB = pm.sample(target_accept=.9, chains=4, cores=10, return_inferencedata=True)"
   ]
  },
  {
   "cell_type": "code",
   "execution_count": null,
   "metadata": {},
   "outputs": [],
   "source": [
    "az.compare({'model1': trH_phi, 'model2':trH_phi2, 'model3':trH_phiB}, ic='loo')"
   ]
  },
  {
   "cell_type": "markdown",
   "metadata": {},
   "source": [
    "# Correlate with actual data"
   ]
  },
  {
   "cell_type": "code",
   "execution_count": 13,
   "metadata": {},
   "outputs": [
    {
     "data": {
      "text/plain": [
       "(69, 86, 4000)"
      ]
     },
     "execution_count": 13,
     "metadata": {},
     "output_type": "execute_result"
    }
   ],
   "source": [
    "# stack all chains\n",
    "a = trH_phi.posterior.stack(draws=('chain','draw'))\n",
    "a = a.expected_value\n",
    "a.shape"
   ]
  },
  {
   "cell_type": "code",
   "execution_count": 14,
   "metadata": {
    "tags": []
   },
   "outputs": [
    {
     "data": {
      "text/plain": [
       "(69, 86)"
      ]
     },
     "execution_count": 14,
     "metadata": {},
     "output_type": "execute_result"
    }
   ],
   "source": [
    "mean_a = np.mean(a, axis=2)\n",
    "mean_a.shape"
   ]
  },
  {
   "cell_type": "code",
   "execution_count": 15,
   "metadata": {
    "collapsed": true,
    "jupyter": {
     "outputs_hidden": true
    },
    "tags": []
   },
   "outputs": [
    {
     "name": "stdout",
     "output_type": "stream",
     "text": [
      "(-0.33286460006070084, 0.005195763236209987)\n",
      "(0.5826656123909641, 1.5000846251351352e-07)\n",
      "(0.9575614076854719, 6.426955973894355e-38)\n",
      "(0.5442927598048287, 1.3365943392192447e-06)\n",
      "(0.4141053979479696, 0.0004044132594870383)\n",
      "(0.7132701424824176, 6.118606230732143e-12)\n",
      "(0.3872937234141185, 0.0010102777666347977)\n",
      "(0.1727498037426438, 0.15576817099629878)\n",
      "(0.5496103570833403, 1.0031723380921498e-06)\n",
      "(0.4116587330560583, 0.0004410611374825212)\n",
      "(0.3171545568822146, 0.007924182058421995)\n",
      "(0.7368376521457707, 5.298944518461537e-13)\n",
      "(0.6150514438948389, 1.8784423659493987e-08)\n",
      "(0.22714186357924288, 0.06052813439240643)\n",
      "(0.42941045270004635, 0.00023150720433479414)\n",
      "(0.05365737154246632, 0.6614699059407464)\n",
      "(0.4411559808631015, 0.00014815023623009467)\n",
      "(0.5671329638525228, 3.759311210044476e-07)\n",
      "(0.5288806668517048, 2.987954812764173e-06)\n",
      "(0.7026958582180782, 1.6966938831669493e-11)\n",
      "(0.608450278257646, 2.9237632104802628e-08)\n",
      "(0.345092081972994, 0.0036847479498327363)\n",
      "(0.4570124195652395, 7.89865058704425e-05)\n",
      "(0.5670503729516634, 3.777247218699494e-07)\n",
      "(0.7210670975446773, 2.7998843816170786e-12)\n",
      "(0.47224444379348296, 4.1899645236799896e-05)\n",
      "(0.5561436621970931, 7.003047930949625e-07)\n",
      "(0.47532656635722015, 3.6719278012487054e-05)\n",
      "(0.8241463930467728, 3.3606275082933445e-18)\n",
      "(0.42055158820145827, 0.00032076602267217176)\n",
      "(0.7366911735924649, 5.384434322279898e-13)\n",
      "(0.5855814543982696, 1.255693074043569e-07)\n",
      "(0.7680323862585141, 1.3501032687123445e-14)\n",
      "(0.6262112386300223, 8.68346583248784e-09)\n",
      "(0.7061072850793956, 1.2269549460863079e-11)\n",
      "(0.573313355803218, 2.6230779529624455e-07)\n",
      "(0.6790578719883065, 1.4232941643298295e-10)\n",
      "(0.5120271033441404, 6.890638359803629e-06)\n",
      "(0.9007919995764658, 5.752146622012974e-26)\n",
      "(0.73582223038522, 5.919418021606223e-13)\n",
      "(0.31222847429895945, 0.00900591573751543)\n",
      "(0.47228223089360505, 4.1832224974100135e-05)\n",
      "(0.6243832597012814, 9.87394666398315e-09)\n",
      "(0.9270156214245017, 3.0271115964535788e-30)\n",
      "(0.34382434689786606, 0.0038207988613438272)\n",
      "(0.606586401430434, 3.3067676401916066e-08)\n",
      "(0.39870010176621673, 0.0006907653062293841)\n",
      "(0.43889815769651186, 0.0001616282810078262)\n",
      "(0.3833693195007042, 0.0011478939484092674)\n",
      "(0.6632846615670545, 5.291602908551729e-10)\n",
      "(0.725048331721796, 1.859243437291136e-12)\n",
      "(0.4763781585475324, 3.509233817796555e-05)\n",
      "(0.47364968431686966, 3.9459005252856685e-05)\n",
      "(0.6451406391172069, 2.1821425325160034e-09)\n",
      "(0.4322383170556038, 0.00020822468523934957)\n",
      "(0.643084673892554, 2.5470456260954134e-09)\n",
      "(0.422927786854634, 0.00029415848615696845)\n",
      "(0.7237462996115906, 2.1272785750913107e-12)\n",
      "(0.04826736845826739, 0.6936963113867523)\n",
      "(0.49122090283839137, 1.8214661294939447e-05)\n",
      "(0.5702724212341213, 3.1341018306686867e-07)\n",
      "(0.03979303608897306, 0.7454567978235902)\n",
      "(0.7211685585459321, 2.7710655141693236e-12)\n",
      "(0.9497573958430555, 1.6190289928684402e-35)\n",
      "(0.42929142858988734, 0.0002325375940252345)\n",
      "(0.6461103840394087, 2.0278355707801693e-09)\n",
      "(0.5909086845990293, 9.032509791197212e-08)\n",
      "(0.5501346945033398, 9.749232873990373e-07)\n",
      "(-0.038386595175408406, 0.7541642812351891)\n",
      "(0.5731908665563995, 2.6420437529177764e-07)\n",
      "(0.6690059613509871, 3.316722586062082e-10)\n",
      "(0.6085897395122282, 2.896864397612393e-08)\n",
      "(0.6051697296418854, 3.629180161301441e-08)\n",
      "(0.5307497462985994, 2.7159259593307443e-06)\n",
      "(0.5015290889000014, 1.1342658585112063e-05)\n",
      "(0.685885648315472, 7.859372539760053e-11)\n",
      "(0.5579850256463867, 6.319626306231663e-07)\n",
      "(0.5294192357593418, 2.9070597496767036e-06)\n",
      "(0.4478126105675527, 0.00011419934653683525)\n",
      "(0.7155819050795896, 4.865912023195151e-12)\n",
      "(0.4821234942551081, 2.7323491338949482e-05)\n",
      "(0.5165084148559095, 5.541848130671312e-06)\n",
      "(-0.2902144775442292, 0.015564471274305615)\n",
      "(0.26546962231705185, 0.02748280413970451)\n",
      "(0.3845791278472316, 0.0011037656298548888)\n",
      "(0.49763288350802315, 1.3590908727995034e-05)\n"
     ]
    }
   ],
   "source": [
    "# calculate \n",
    "for i in np.arange(n_subj):\n",
    "    cor1 = scipy.stats.pearsonr(scrMat[:,i], mean_a[:,i])\n",
    "    print(cor1)"
   ]
  },
  {
   "cell_type": "code",
   "execution_count": 16,
   "metadata": {},
   "outputs": [],
   "source": [
    "# seems that some subjects are really problematic. \n",
    "# should consider removing them from analysis\n",
    "scr_clean['sub'].unique()\n",
    "mean_a_vec = np.reshape(mean_a.T, (69*86,1)) # reshape to fit dataframe"
   ]
  },
  {
   "cell_type": "code",
   "execution_count": 17,
   "metadata": {},
   "outputs": [],
   "source": [
    "len(scr_clean)\n",
    "scr_clean['expected_value'] = mean_a_vec.values"
   ]
  },
  {
   "cell_type": "code",
   "execution_count": 18,
   "metadata": {},
   "outputs": [],
   "source": [
    "scr_clean['scr'] = scr_clean['CDA.AmpSum']"
   ]
  },
  {
   "cell_type": "markdown",
   "metadata": {},
   "source": [
    "# Load brain data\n",
    "Hippocampus - amygdala coupling"
   ]
  },
  {
   "cell_type": "code",
   "execution_count": 19,
   "metadata": {},
   "outputs": [
    {
     "data": {
      "text/html": [
       "<div>\n",
       "<style scoped>\n",
       "    .dataframe tbody tr th:only-of-type {\n",
       "        vertical-align: middle;\n",
       "    }\n",
       "\n",
       "    .dataframe tbody tr th {\n",
       "        vertical-align: top;\n",
       "    }\n",
       "\n",
       "    .dataframe thead th {\n",
       "        text-align: right;\n",
       "    }\n",
       "</style>\n",
       "<table border=\"1\" class=\"dataframe\">\n",
       "  <thead>\n",
       "    <tr style=\"text-align: right;\">\n",
       "      <th></th>\n",
       "      <th>index</th>\n",
       "      <th>subject</th>\n",
       "      <th>trialNo</th>\n",
       "      <th>condition</th>\n",
       "      <th>coupling</th>\n",
       "      <th>amg</th>\n",
       "    </tr>\n",
       "  </thead>\n",
       "  <tbody>\n",
       "    <tr>\n",
       "      <th>0</th>\n",
       "      <td>0</td>\n",
       "      <td>sub-167</td>\n",
       "      <td>1</td>\n",
       "      <td>CSplusUS1</td>\n",
       "      <td>0.761905</td>\n",
       "      <td>-0.665134</td>\n",
       "    </tr>\n",
       "    <tr>\n",
       "      <th>1</th>\n",
       "      <td>1</td>\n",
       "      <td>sub-167</td>\n",
       "      <td>2</td>\n",
       "      <td>CSminus1</td>\n",
       "      <td>-0.238095</td>\n",
       "      <td>-0.060757</td>\n",
       "    </tr>\n",
       "    <tr>\n",
       "      <th>2</th>\n",
       "      <td>2</td>\n",
       "      <td>sub-167</td>\n",
       "      <td>3</td>\n",
       "      <td>CSplus1</td>\n",
       "      <td>0.095238</td>\n",
       "      <td>0.984678</td>\n",
       "    </tr>\n",
       "    <tr>\n",
       "      <th>3</th>\n",
       "      <td>3</td>\n",
       "      <td>sub-167</td>\n",
       "      <td>4</td>\n",
       "      <td>CSplusUS1</td>\n",
       "      <td>0.523810</td>\n",
       "      <td>0.488085</td>\n",
       "    </tr>\n",
       "    <tr>\n",
       "      <th>4</th>\n",
       "      <td>4</td>\n",
       "      <td>sub-167</td>\n",
       "      <td>5</td>\n",
       "      <td>CSminus1</td>\n",
       "      <td>-0.428571</td>\n",
       "      <td>0.053875</td>\n",
       "    </tr>\n",
       "    <tr>\n",
       "      <th>...</th>\n",
       "      <td>...</td>\n",
       "      <td>...</td>\n",
       "      <td>...</td>\n",
       "      <td>...</td>\n",
       "      <td>...</td>\n",
       "      <td>...</td>\n",
       "    </tr>\n",
       "    <tr>\n",
       "      <th>5101</th>\n",
       "      <td>1720</td>\n",
       "      <td>sub-200</td>\n",
       "      <td>65</td>\n",
       "      <td>CSminus2</td>\n",
       "      <td>-0.023810</td>\n",
       "      <td>-0.128837</td>\n",
       "    </tr>\n",
       "    <tr>\n",
       "      <th>5102</th>\n",
       "      <td>1721</td>\n",
       "      <td>sub-200</td>\n",
       "      <td>66</td>\n",
       "      <td>CSplus2</td>\n",
       "      <td>-0.500000</td>\n",
       "      <td>-0.126025</td>\n",
       "    </tr>\n",
       "    <tr>\n",
       "      <th>5103</th>\n",
       "      <td>1722</td>\n",
       "      <td>sub-200</td>\n",
       "      <td>67</td>\n",
       "      <td>CSminus2</td>\n",
       "      <td>-0.119048</td>\n",
       "      <td>-0.097882</td>\n",
       "    </tr>\n",
       "    <tr>\n",
       "      <th>5104</th>\n",
       "      <td>1723</td>\n",
       "      <td>sub-200</td>\n",
       "      <td>68</td>\n",
       "      <td>CSplus2</td>\n",
       "      <td>0.452381</td>\n",
       "      <td>0.117315</td>\n",
       "    </tr>\n",
       "    <tr>\n",
       "      <th>5105</th>\n",
       "      <td>1724</td>\n",
       "      <td>sub-200</td>\n",
       "      <td>69</td>\n",
       "      <td>CSminus2</td>\n",
       "      <td>0.400000</td>\n",
       "      <td>-0.397169</td>\n",
       "    </tr>\n",
       "  </tbody>\n",
       "</table>\n",
       "<p>5106 rows × 6 columns</p>\n",
       "</div>"
      ],
      "text/plain": [
       "      index  subject  trialNo  condition  coupling       amg\n",
       "0         0  sub-167        1  CSplusUS1  0.761905 -0.665134\n",
       "1         1  sub-167        2   CSminus1 -0.238095 -0.060757\n",
       "2         2  sub-167        3    CSplus1  0.095238  0.984678\n",
       "3         3  sub-167        4  CSplusUS1  0.523810  0.488085\n",
       "4         4  sub-167        5   CSminus1 -0.428571  0.053875\n",
       "...     ...      ...      ...        ...       ...       ...\n",
       "5101   1720  sub-200       65   CSminus2 -0.023810 -0.128837\n",
       "5102   1721  sub-200       66    CSplus2 -0.500000 -0.126025\n",
       "5103   1722  sub-200       67   CSminus2 -0.119048 -0.097882\n",
       "5104   1723  sub-200       68    CSplus2  0.452381  0.117315\n",
       "5105   1724  sub-200       69   CSminus2  0.400000 -0.397169\n",
       "\n",
       "[5106 rows x 6 columns]"
      ]
     },
     "execution_count": 19,
     "metadata": {},
     "output_type": "execute_result"
    }
   ],
   "source": [
    "amg_hipp = pd.read_csv('amg_hipp_fc_allTrials.csv')\n",
    "amg_hipp\n"
   ]
  },
  {
   "cell_type": "code",
   "execution_count": 20,
   "metadata": {},
   "outputs": [
    {
     "data": {
      "text/html": [
       "<div>\n",
       "<style scoped>\n",
       "    .dataframe tbody tr th:only-of-type {\n",
       "        vertical-align: middle;\n",
       "    }\n",
       "\n",
       "    .dataframe tbody tr th {\n",
       "        vertical-align: top;\n",
       "    }\n",
       "\n",
       "    .dataframe thead th {\n",
       "        text-align: right;\n",
       "    }\n",
       "</style>\n",
       "<table border=\"1\" class=\"dataframe\">\n",
       "  <thead>\n",
       "    <tr style=\"text-align: right;\">\n",
       "      <th></th>\n",
       "      <th>sub</th>\n",
       "      <th>Condition</th>\n",
       "      <th>Event.Nr</th>\n",
       "      <th>CDA.AmpSum</th>\n",
       "      <th>expected_value</th>\n",
       "      <th>scr</th>\n",
       "      <th>index</th>\n",
       "      <th>subject</th>\n",
       "      <th>trialNo</th>\n",
       "      <th>condition</th>\n",
       "      <th>coupling</th>\n",
       "      <th>amg</th>\n",
       "    </tr>\n",
       "  </thead>\n",
       "  <tbody>\n",
       "    <tr>\n",
       "      <th>0</th>\n",
       "      <td>sub-189</td>\n",
       "      <td>CSplusUS1</td>\n",
       "      <td>1</td>\n",
       "      <td>0.2852</td>\n",
       "      <td>0.773505</td>\n",
       "      <td>0.2852</td>\n",
       "      <td>1794</td>\n",
       "      <td>sub-189</td>\n",
       "      <td>1</td>\n",
       "      <td>CSplusUS1</td>\n",
       "      <td>0.309524</td>\n",
       "      <td>0.981121</td>\n",
       "    </tr>\n",
       "    <tr>\n",
       "      <th>1</th>\n",
       "      <td>sub-189</td>\n",
       "      <td>CSminus1</td>\n",
       "      <td>2</td>\n",
       "      <td>0.1033</td>\n",
       "      <td>0.771380</td>\n",
       "      <td>0.1033</td>\n",
       "      <td>1795</td>\n",
       "      <td>sub-189</td>\n",
       "      <td>2</td>\n",
       "      <td>CSminus1</td>\n",
       "      <td>-0.571429</td>\n",
       "      <td>-0.027048</td>\n",
       "    </tr>\n",
       "    <tr>\n",
       "      <th>2</th>\n",
       "      <td>sub-189</td>\n",
       "      <td>CSplus1</td>\n",
       "      <td>3</td>\n",
       "      <td>0.0783</td>\n",
       "      <td>0.772439</td>\n",
       "      <td>0.0783</td>\n",
       "      <td>1796</td>\n",
       "      <td>sub-189</td>\n",
       "      <td>3</td>\n",
       "      <td>CSplus1</td>\n",
       "      <td>-0.476190</td>\n",
       "      <td>-0.045910</td>\n",
       "    </tr>\n",
       "    <tr>\n",
       "      <th>3</th>\n",
       "      <td>sub-189</td>\n",
       "      <td>CSplusUS1</td>\n",
       "      <td>4</td>\n",
       "      <td>0.1772</td>\n",
       "      <td>0.773501</td>\n",
       "      <td>0.1772</td>\n",
       "      <td>1797</td>\n",
       "      <td>sub-189</td>\n",
       "      <td>4</td>\n",
       "      <td>CSplusUS1</td>\n",
       "      <td>0.166667</td>\n",
       "      <td>-0.674150</td>\n",
       "    </tr>\n",
       "    <tr>\n",
       "      <th>4</th>\n",
       "      <td>sub-189</td>\n",
       "      <td>CSminus1</td>\n",
       "      <td>5</td>\n",
       "      <td>0.0000</td>\n",
       "      <td>0.770322</td>\n",
       "      <td>0.0000</td>\n",
       "      <td>1798</td>\n",
       "      <td>sub-189</td>\n",
       "      <td>5</td>\n",
       "      <td>CSminus1</td>\n",
       "      <td>0.214286</td>\n",
       "      <td>-0.065602</td>\n",
       "    </tr>\n",
       "  </tbody>\n",
       "</table>\n",
       "</div>"
      ],
      "text/plain": [
       "       sub  Condition  Event.Nr  CDA.AmpSum  expected_value     scr  index  \\\n",
       "0  sub-189  CSplusUS1         1      0.2852        0.773505  0.2852   1794   \n",
       "1  sub-189   CSminus1         2      0.1033        0.771380  0.1033   1795   \n",
       "2  sub-189    CSplus1         3      0.0783        0.772439  0.0783   1796   \n",
       "3  sub-189  CSplusUS1         4      0.1772        0.773501  0.1772   1797   \n",
       "4  sub-189   CSminus1         5      0.0000        0.770322  0.0000   1798   \n",
       "\n",
       "   subject  trialNo  condition  coupling       amg  \n",
       "0  sub-189        1  CSplusUS1  0.309524  0.981121  \n",
       "1  sub-189        2   CSminus1 -0.571429 -0.027048  \n",
       "2  sub-189        3    CSplus1 -0.476190 -0.045910  \n",
       "3  sub-189        4  CSplusUS1  0.166667 -0.674150  \n",
       "4  sub-189        5   CSminus1  0.214286 -0.065602  "
      ]
     },
     "execution_count": 20,
     "metadata": {},
     "output_type": "execute_result"
    }
   ],
   "source": [
    "dfAll = pd.merge(scr_clean, amg_hipp, right_on=['subject','trialNo'], left_on=['sub','Event.Nr'])\n",
    "dfAll.head()"
   ]
  },
  {
   "cell_type": "code",
   "execution_count": 21,
   "metadata": {},
   "outputs": [
    {
     "data": {
      "text/plain": [
       "65"
      ]
     },
     "execution_count": 21,
     "metadata": {},
     "output_type": "execute_result"
    }
   ],
   "source": [
    "len(dfAll['sub'].unique())"
   ]
  },
  {
   "cell_type": "code",
   "execution_count": 22,
   "metadata": {},
   "outputs": [
    {
     "name": "stdout",
     "output_type": "stream",
     "text": [
      "                Mixed Linear Model Regression Results\n",
      "=====================================================================\n",
      "Model:               MixedLM    Dependent Variable:    expected_value\n",
      "No. Observations:    4485       Method:                REML          \n",
      "No. Groups:          65         Scale:                 0.1802        \n",
      "Min. group size:     69         Log-Likelihood:        -2692.2399    \n",
      "Max. group size:     69         Converged:             Yes           \n",
      "Mean group size:     69.0                                            \n",
      "---------------------------------------------------------------------\n",
      "                           Coef.  Std.Err.   z    P>|z| [0.025 0.975]\n",
      "---------------------------------------------------------------------\n",
      "Intercept                   0.428    0.062  6.883 0.000  0.306  0.550\n",
      "C(condition)[T.CSminus2]    0.243    0.030  8.063 0.000  0.184  0.303\n",
      "C(condition)[T.CSminusUS2]  0.396    0.031 12.684 0.000  0.335  0.457\n",
      "C(condition)[T.CSplus1]     0.192    0.022  8.916 0.000  0.150  0.234\n",
      "C(condition)[T.CSplus2]     0.061    0.030  2.055 0.040  0.003  0.120\n",
      "C(condition)[T.CSplusUS1]   0.363    0.027 13.694 0.000  0.311  0.415\n",
      "coupling                    0.046    0.016  2.772 0.006  0.013  0.078\n",
      "amg                        -0.023    0.015 -1.584 0.113 -0.053  0.006\n",
      "trialNo                    -0.006    0.001 -9.564 0.000 -0.007 -0.005\n",
      "subject Var                 0.230    0.097                           \n",
      "=====================================================================\n",
      "\n"
     ]
    }
   ],
   "source": [
    "# Statistical analysis\n",
    "import statsmodels.api as sm\n",
    "import statsmodels.formula.api as smf\n",
    "glm = smf.mixedlm('expected_value ~ coupling + C(condition) + amg + trialNo', data=dfAll, \n",
    "    groups = 'subject', \n",
    "                 missing='drop')\n",
    "model1 = glm.fit()\n",
    "print(model1.summary())"
   ]
  },
  {
   "cell_type": "code",
   "execution_count": 23,
   "metadata": {},
   "outputs": [
    {
     "data": {
      "image/png": "[encoded data removed]",
      "text/plain": [
       "<Figure size 864x504 with 1 Axes>"
      ]
     },
     "metadata": {
      "needs_background": "light"
     },
     "output_type": "display_data"
    }
   ],
   "source": [
    "plt.rc('figure', figsize=(12, 7))\n",
    "plt.text(0.01, 0.05, str(model1.summary()), {'fontsize': 12}, fontproperties = 'monospace') \n",
    "plt.axis('off')\n",
    "plt.tight_layout()\n",
    "plt.savefig('outputEV_Coupling.png')"
   ]
  },
  {
   "cell_type": "markdown",
   "metadata": {},
   "source": [
    "# Summary:\n",
    "- Amg-Hippocampus coupling is significantly predicting expected value!\n",
    "\n",
    "## Look at groups?"
   ]
  },
  {
   "cell_type": "code",
   "execution_count": 30,
   "metadata": {},
   "outputs": [],
   "source": [
    "dfGroups = pd.read_csv('Behavioral/SubGroupLists.csv', dtype={'Sub': 'string'})\n",
    "dfGroups = dfGroups[['Sub','group', 'Eprime']]\n",
    "for i in dfGroups.iterrows():\n",
    "    dfGroups.at[i[0], 'Sub'] = \"sub-\" + str(i[1].Sub)\n"
   ]
  },
  {
   "cell_type": "code",
   "execution_count": 32,
   "metadata": {},
   "outputs": [
    {
     "data": {
      "text/html": [
       "<div>\n",
       "<style scoped>\n",
       "    .dataframe tbody tr th:only-of-type {\n",
       "        vertical-align: middle;\n",
       "    }\n",
       "\n",
       "    .dataframe tbody tr th {\n",
       "        vertical-align: top;\n",
       "    }\n",
       "\n",
       "    .dataframe thead th {\n",
       "        text-align: right;\n",
       "    }\n",
       "</style>\n",
       "<table border=\"1\" class=\"dataframe\">\n",
       "  <thead>\n",
       "    <tr style=\"text-align: right;\">\n",
       "      <th></th>\n",
       "      <th>sub</th>\n",
       "      <th>Condition</th>\n",
       "      <th>Event.Nr</th>\n",
       "      <th>CDA.AmpSum</th>\n",
       "      <th>expected_value</th>\n",
       "      <th>scr</th>\n",
       "      <th>index</th>\n",
       "      <th>subject</th>\n",
       "      <th>trialNo</th>\n",
       "      <th>condition</th>\n",
       "      <th>coupling</th>\n",
       "      <th>amg</th>\n",
       "      <th>Sub</th>\n",
       "      <th>group</th>\n",
       "      <th>Eprime</th>\n",
       "    </tr>\n",
       "  </thead>\n",
       "  <tbody>\n",
       "    <tr>\n",
       "      <th>0</th>\n",
       "      <td>sub-189</td>\n",
       "      <td>CSplusUS1</td>\n",
       "      <td>1</td>\n",
       "      <td>0.2852</td>\n",
       "      <td>0.773505</td>\n",
       "      <td>0.2852</td>\n",
       "      <td>1794</td>\n",
       "      <td>sub-189</td>\n",
       "      <td>1</td>\n",
       "      <td>CSplusUS1</td>\n",
       "      <td>0.309524</td>\n",
       "      <td>0.981121</td>\n",
       "      <td>sub-189</td>\n",
       "      <td>HC</td>\n",
       "      <td>A</td>\n",
       "    </tr>\n",
       "    <tr>\n",
       "      <th>1</th>\n",
       "      <td>sub-189</td>\n",
       "      <td>CSminus1</td>\n",
       "      <td>2</td>\n",
       "      <td>0.1033</td>\n",
       "      <td>0.771380</td>\n",
       "      <td>0.1033</td>\n",
       "      <td>1795</td>\n",
       "      <td>sub-189</td>\n",
       "      <td>2</td>\n",
       "      <td>CSminus1</td>\n",
       "      <td>-0.571429</td>\n",
       "      <td>-0.027048</td>\n",
       "      <td>sub-189</td>\n",
       "      <td>HC</td>\n",
       "      <td>A</td>\n",
       "    </tr>\n",
       "    <tr>\n",
       "      <th>2</th>\n",
       "      <td>sub-189</td>\n",
       "      <td>CSplus1</td>\n",
       "      <td>3</td>\n",
       "      <td>0.0783</td>\n",
       "      <td>0.772439</td>\n",
       "      <td>0.0783</td>\n",
       "      <td>1796</td>\n",
       "      <td>sub-189</td>\n",
       "      <td>3</td>\n",
       "      <td>CSplus1</td>\n",
       "      <td>-0.476190</td>\n",
       "      <td>-0.045910</td>\n",
       "      <td>sub-189</td>\n",
       "      <td>HC</td>\n",
       "      <td>A</td>\n",
       "    </tr>\n",
       "    <tr>\n",
       "      <th>3</th>\n",
       "      <td>sub-189</td>\n",
       "      <td>CSplusUS1</td>\n",
       "      <td>4</td>\n",
       "      <td>0.1772</td>\n",
       "      <td>0.773501</td>\n",
       "      <td>0.1772</td>\n",
       "      <td>1797</td>\n",
       "      <td>sub-189</td>\n",
       "      <td>4</td>\n",
       "      <td>CSplusUS1</td>\n",
       "      <td>0.166667</td>\n",
       "      <td>-0.674150</td>\n",
       "      <td>sub-189</td>\n",
       "      <td>HC</td>\n",
       "      <td>A</td>\n",
       "    </tr>\n",
       "    <tr>\n",
       "      <th>4</th>\n",
       "      <td>sub-189</td>\n",
       "      <td>CSminus1</td>\n",
       "      <td>5</td>\n",
       "      <td>0.0000</td>\n",
       "      <td>0.770322</td>\n",
       "      <td>0.0000</td>\n",
       "      <td>1798</td>\n",
       "      <td>sub-189</td>\n",
       "      <td>5</td>\n",
       "      <td>CSminus1</td>\n",
       "      <td>0.214286</td>\n",
       "      <td>-0.065602</td>\n",
       "      <td>sub-189</td>\n",
       "      <td>HC</td>\n",
       "      <td>A</td>\n",
       "    </tr>\n",
       "  </tbody>\n",
       "</table>\n",
       "</div>"
      ],
      "text/plain": [
       "       sub  Condition  Event.Nr  CDA.AmpSum  expected_value     scr  index  \\\n",
       "0  sub-189  CSplusUS1         1      0.2852        0.773505  0.2852   1794   \n",
       "1  sub-189   CSminus1         2      0.1033        0.771380  0.1033   1795   \n",
       "2  sub-189    CSplus1         3      0.0783        0.772439  0.0783   1796   \n",
       "3  sub-189  CSplusUS1         4      0.1772        0.773501  0.1772   1797   \n",
       "4  sub-189   CSminus1         5      0.0000        0.770322  0.0000   1798   \n",
       "\n",
       "   subject  trialNo  condition  coupling       amg      Sub group Eprime  \n",
       "0  sub-189        1  CSplusUS1  0.309524  0.981121  sub-189    HC      A  \n",
       "1  sub-189        2   CSminus1 -0.571429 -0.027048  sub-189    HC      A  \n",
       "2  sub-189        3    CSplus1 -0.476190 -0.045910  sub-189    HC      A  \n",
       "3  sub-189        4  CSplusUS1  0.166667 -0.674150  sub-189    HC      A  \n",
       "4  sub-189        5   CSminus1  0.214286 -0.065602  sub-189    HC      A  "
      ]
     },
     "execution_count": 32,
     "metadata": {},
     "output_type": "execute_result"
    }
   ],
   "source": [
    "dfAll = pd.merge(dfAll, dfGroups, left_on='subject',right_on='Sub')\n",
    "dfAll.head()"
   ]
  },
  {
   "cell_type": "code",
   "execution_count": 35,
   "metadata": {},
   "outputs": [
    {
     "name": "stdout",
     "output_type": "stream",
     "text": [
      "                Mixed Linear Model Regression Results\n",
      "=====================================================================\n",
      "Model:               MixedLM    Dependent Variable:    expected_value\n",
      "No. Observations:    4485       Method:                REML          \n",
      "No. Groups:          65         Scale:                 0.1801        \n",
      "Min. group size:     69         Log-Likelihood:        -2689.3026    \n",
      "Max. group size:     69         Converged:             Yes           \n",
      "Mean group size:     69.0                                            \n",
      "---------------------------------------------------------------------\n",
      "                           Coef.  Std.Err.   z    P>|z| [0.025 0.975]\n",
      "---------------------------------------------------------------------\n",
      "Intercept                   0.778    0.101  7.738 0.000  0.581  0.975\n",
      "C(group)[T.VCC]            -0.497    0.131 -3.779 0.000 -0.754 -0.239\n",
      "C(group)[T.VPTSD]          -0.492    0.137 -3.600 0.000 -0.760 -0.224\n",
      "C(condition)[T.CSminus2]    0.244    0.030  8.080 0.000  0.185  0.303\n",
      "C(condition)[T.CSminusUS2]  0.395    0.031 12.657 0.000  0.334  0.456\n",
      "C(condition)[T.CSplus1]     0.192    0.022  8.897 0.000  0.149  0.234\n",
      "C(condition)[T.CSplus2]     0.061    0.030  2.058 0.040  0.003  0.120\n",
      "C(condition)[T.CSplusUS1]   0.364    0.027 13.721 0.000  0.312  0.416\n",
      "coupling                    0.080    0.031  2.578 0.010  0.019  0.141\n",
      "coupling:C(group)[T.VCC]   -0.073    0.041 -1.807 0.071 -0.153  0.006\n",
      "coupling:C(group)[T.VPTSD] -0.016    0.042 -0.389 0.697 -0.099  0.066\n",
      "amg                        -0.023    0.015 -1.583 0.113 -0.053  0.006\n",
      "trialNo                    -0.006    0.001 -9.507 0.000 -0.007 -0.005\n",
      "subject Var                 0.184    0.079                           \n",
      "=====================================================================\n",
      "\n"
     ]
    }
   ],
   "source": [
    "# Statistical analysis\n",
    "import statsmodels.api as sm\n",
    "import statsmodels.formula.api as smf\n",
    "glm2 = smf.mixedlm('expected_value ~ coupling*C(group) + C(condition) + amg + trialNo', data=dfAll, \n",
    "    groups = 'subject', \n",
    "                 missing='drop')\n",
    "model2 = glm2.fit()\n",
    "print(model2.summary())"
   ]
  },
  {
   "cell_type": "code",
   "execution_count": 38,
   "metadata": {},
   "outputs": [
    {
     "data": {
      "image/png": "[encoded data removed]",
      "text/plain": [
       "<Figure size 864x504 with 1 Axes>"
      ]
     },
     "metadata": {
      "needs_background": "light"
     },
     "output_type": "display_data"
    }
   ],
   "source": [
    "plt.rc('figure', figsize=(12, 7))\n",
    "plt.text(0.01, 0.05, str(model2.summary()), {'fontsize': 12}, fontproperties = 'monospace') \n",
    "plt.axis('off')\n",
    "plt.tight_layout()\n",
    "plt.savefig('outputEV_Coupling_groups.png')"
   ]
  },
  {
   "cell_type": "markdown",
   "metadata": {},
   "source": [
    "# Summary\n",
    "- Coupling predicting changes\n",
    "- Difference between HC and CC/PTSD\n",
    "- Maybe because of reversal? "
   ]
  },
  {
   "cell_type": "code",
   "execution_count": 45,
   "metadata": {
    "tags": []
   },
   "outputs": [
    {
     "name": "stdout",
     "output_type": "stream",
     "text": [
      "(3030,)\n",
      "(3030,)\n",
      "(3030,)\n"
     ]
    }
   ],
   "source": [
    "# Test just first stage of reversal\n",
    "# first build RL model\n",
    "scr_1 = scr[scr['Event.Nr']<=30]\n",
    "\n",
    "scrVec = scr_1['CDA.AmpSum'].values\n",
    "print(scrVec.shape)\n",
    "shockVec = np.zeros(len(scrVec), dtype=np.int32) # vector to capture shock (1=yes, 0=no)\n",
    "stimVec = np.zeros(len(scrVec), dtype=np.int32) # vector to capture stimulus (1=CS+, 2= CS-)\n",
    "\n",
    "for i, cond in enumerate(scr_1['Condition'].values):\n",
    "    if cond=='CSplusUS1':\n",
    "        shockVec[i]= 1\n",
    "        stimVec[i] = 1\n",
    "    elif cond=='CSplus1':\n",
    "            stimVec[i] = 1\n",
    "            shockVec[i]= 0\n",
    "    elif cond=='CSminus1':\n",
    "            stimVec[i] = 0\n",
    "            shockVec[i] = 0\n",
    "    else:\n",
    "        print(f' Condition is {cond}')\n",
    "        stimVec[i] = 9\n",
    "        shockVec[i] = 9\n",
    "print(shockVec.shape)\n",
    "print(stimVec.shape)\n"
   ]
  },
  {
   "cell_type": "code",
   "execution_count": 47,
   "metadata": {},
   "outputs": [],
   "source": [
    "n_trials, n_subj = 30,len(scr_1['sub'].unique())\n",
    "trials, subj = np.meshgrid(range(n_trials), range(n_subj))\n",
    "trials = tt.as_tensor_variable(trials.T)\n",
    "subj = tt.as_tensor_variable(subj.T)\n",
    "stim = np.reshape(stimVec, (n_subj,n_trials)).T # transform to matrix trials x subject\n",
    "shock = np.reshape(shockVec, (n_subj,n_trials)).T \n",
    "scrMat = np.reshape(scrVec, (n_subj, n_trials)).T\n",
    "\n",
    "stim = tt.as_tensor_variable(stim)\n",
    "shock = tt.as_tensor_variable(shock)\n"
   ]
  },
  {
   "cell_type": "code",
   "execution_count": 48,
   "metadata": {},
   "outputs": [
    {
     "name": "stderr",
     "output_type": "stream",
     "text": [
      "Auto-assigning NUTS sampler...\n",
      "Initializing NUTS using jitter+adapt_diag...\n",
      "Multiprocess sampling (4 chains in 10 jobs)\n",
      "NUTS: [eps, beta, beta_sd, beta_h, alpha, kappa_log, phi]\n"
     ]
    },
    {
     "data": {
      "text/html": [
       "\n",
       "    <div>\n",
       "        <style>\n",
       "            /* Turns off some styling */\n",
       "            progress {\n",
       "                /* gets rid of default border in Firefox and Opera. */\n",
       "                border: none;\n",
       "                /* Needs to be in here for Safari polyfill so background images work as expected. */\n",
       "                background-size: auto;\n",
       "            }\n",
       "            .progress-bar-interrupted, .progress-bar-interrupted::-webkit-progress-bar {\n",
       "                background: #F44336;\n",
       "            }\n",
       "        </style>\n",
       "      <progress value='8000' class='' max='8000' style='width:300px; height:20px; vertical-align: middle;'></progress>\n",
       "      100.00% [8000/8000 05:40<00:00 Sampling 4 chains, 0 divergences]\n",
       "    </div>\n",
       "    "
      ],
      "text/plain": [
       "<IPython.core.display.HTML object>"
      ]
     },
     "metadata": {},
     "output_type": "display_data"
    },
    {
     "name": "stderr",
     "output_type": "stream",
     "text": [
      "Sampling 4 chains for 1_000 tune and 1_000 draw iterations (4_000 + 4_000 draws total) took 342 seconds.\n"
     ]
    }
   ],
   "source": [
    "# run model\n",
    "with pm.Model() as m5_1stPart:\n",
    "    \n",
    "    # α\n",
    "    phi = pm.Uniform(\"phi\", lower=0.0, upper=1.0)\n",
    "    kappa_log = pm.Exponential(\"kappa_log\", lam=1.5)\n",
    "    kappa = pm.Deterministic(\"kappa\", tt.exp(kappa_log))\n",
    "    alpha = pm.Beta(\"alpha\", alpha=phi * kappa, beta=(1.0 - phi) * kappa, shape=n_subj)\n",
    "    \n",
    "    # β\n",
    "    beta_h = pm.Normal('beta_h', 0,1)\n",
    "    beta_sd = pm.HalfNormal('beta_sd', 5)\n",
    "    beta = pm.Normal('beta',beta_h, beta_sd, shape=n_subj)\n",
    "       \n",
    "    eps = pm.HalfNormal('eps', 5)\n",
    "    \n",
    "    Qs = 0.5 * tt.ones((n_subj,2), dtype='float64') # set values for boths stimuli (CS+, CS-)\n",
    "    vec0 = 0.5 * tt.ones((n_subj,1), dtype='float64') # vector to save the relevant stimulus's expactation\n",
    "    \n",
    "    [Qs,vec], updates = theano.scan(\n",
    "        fn=update_Q,\n",
    "        sequences=[stim, shock],\n",
    "        outputs_info=[Qs, vec0],\n",
    "        non_sequences=[alpha, n_subj])\n",
    "   \n",
    "     \n",
    "    vec_ = vec[trials, subj,0] * beta[subj]\n",
    "    # add matrix of expected values (trials X subjects)\n",
    "    ev = pm.Deterministic('expected_value', vec_)\n",
    "    \n",
    "    scrs = pm.Normal('scrs', vec_, eps, observed=scrMat) \n",
    "    tr_firstPart = pm.sample(target_accept=.9, chains=4, cores=10, return_inferencedata=True)"
   ]
  },
  {
   "cell_type": "code",
   "execution_count": 49,
   "metadata": {},
   "outputs": [
    {
     "data": {
      "text/html": [
       "<div>\n",
       "<style scoped>\n",
       "    .dataframe tbody tr th:only-of-type {\n",
       "        vertical-align: middle;\n",
       "    }\n",
       "\n",
       "    .dataframe tbody tr th {\n",
       "        vertical-align: top;\n",
       "    }\n",
       "\n",
       "    .dataframe thead th {\n",
       "        text-align: right;\n",
       "    }\n",
       "</style>\n",
       "<table border=\"1\" class=\"dataframe\">\n",
       "  <thead>\n",
       "    <tr style=\"text-align: right;\">\n",
       "      <th></th>\n",
       "      <th>mean</th>\n",
       "      <th>sd</th>\n",
       "      <th>hdi_3%</th>\n",
       "      <th>hdi_97%</th>\n",
       "      <th>mcse_mean</th>\n",
       "      <th>mcse_sd</th>\n",
       "      <th>ess_bulk</th>\n",
       "      <th>ess_tail</th>\n",
       "      <th>r_hat</th>\n",
       "    </tr>\n",
       "  </thead>\n",
       "  <tbody>\n",
       "    <tr>\n",
       "      <th>beta_h</th>\n",
       "      <td>1.680</td>\n",
       "      <td>0.183</td>\n",
       "      <td>1.333</td>\n",
       "      <td>2.026</td>\n",
       "      <td>0.002</td>\n",
       "      <td>0.001</td>\n",
       "      <td>9677.0</td>\n",
       "      <td>2497.0</td>\n",
       "      <td>1.0</td>\n",
       "    </tr>\n",
       "    <tr>\n",
       "      <th>beta[0]</th>\n",
       "      <td>0.303</td>\n",
       "      <td>0.256</td>\n",
       "      <td>-0.199</td>\n",
       "      <td>0.767</td>\n",
       "      <td>0.003</td>\n",
       "      <td>0.003</td>\n",
       "      <td>8475.0</td>\n",
       "      <td>2957.0</td>\n",
       "      <td>1.0</td>\n",
       "    </tr>\n",
       "    <tr>\n",
       "      <th>beta[1]</th>\n",
       "      <td>1.732</td>\n",
       "      <td>0.249</td>\n",
       "      <td>1.254</td>\n",
       "      <td>2.191</td>\n",
       "      <td>0.003</td>\n",
       "      <td>0.002</td>\n",
       "      <td>6060.0</td>\n",
       "      <td>3333.0</td>\n",
       "      <td>1.0</td>\n",
       "    </tr>\n",
       "    <tr>\n",
       "      <th>beta[2]</th>\n",
       "      <td>3.738</td>\n",
       "      <td>0.269</td>\n",
       "      <td>3.226</td>\n",
       "      <td>4.229</td>\n",
       "      <td>0.003</td>\n",
       "      <td>0.002</td>\n",
       "      <td>6026.0</td>\n",
       "      <td>3546.0</td>\n",
       "      <td>1.0</td>\n",
       "    </tr>\n",
       "    <tr>\n",
       "      <th>beta[3]</th>\n",
       "      <td>2.075</td>\n",
       "      <td>0.265</td>\n",
       "      <td>1.585</td>\n",
       "      <td>2.581</td>\n",
       "      <td>0.003</td>\n",
       "      <td>0.002</td>\n",
       "      <td>7888.0</td>\n",
       "      <td>2766.0</td>\n",
       "      <td>1.0</td>\n",
       "    </tr>\n",
       "    <tr>\n",
       "      <th>...</th>\n",
       "      <td>...</td>\n",
       "      <td>...</td>\n",
       "      <td>...</td>\n",
       "      <td>...</td>\n",
       "      <td>...</td>\n",
       "      <td>...</td>\n",
       "      <td>...</td>\n",
       "      <td>...</td>\n",
       "      <td>...</td>\n",
       "    </tr>\n",
       "    <tr>\n",
       "      <th>expected_value[29, 96]</th>\n",
       "      <td>0.032</td>\n",
       "      <td>0.047</td>\n",
       "      <td>-0.003</td>\n",
       "      <td>0.133</td>\n",
       "      <td>0.001</td>\n",
       "      <td>0.001</td>\n",
       "      <td>5132.0</td>\n",
       "      <td>2435.0</td>\n",
       "      <td>1.0</td>\n",
       "    </tr>\n",
       "    <tr>\n",
       "      <th>expected_value[29, 97]</th>\n",
       "      <td>0.077</td>\n",
       "      <td>0.069</td>\n",
       "      <td>0.000</td>\n",
       "      <td>0.202</td>\n",
       "      <td>0.001</td>\n",
       "      <td>0.001</td>\n",
       "      <td>6414.0</td>\n",
       "      <td>2613.0</td>\n",
       "      <td>1.0</td>\n",
       "    </tr>\n",
       "    <tr>\n",
       "      <th>expected_value[29, 98]</th>\n",
       "      <td>0.015</td>\n",
       "      <td>0.033</td>\n",
       "      <td>-0.018</td>\n",
       "      <td>0.095</td>\n",
       "      <td>0.001</td>\n",
       "      <td>0.000</td>\n",
       "      <td>4871.0</td>\n",
       "      <td>3100.0</td>\n",
       "      <td>1.0</td>\n",
       "    </tr>\n",
       "    <tr>\n",
       "      <th>expected_value[29, 99]</th>\n",
       "      <td>0.007</td>\n",
       "      <td>0.017</td>\n",
       "      <td>0.000</td>\n",
       "      <td>0.029</td>\n",
       "      <td>0.000</td>\n",
       "      <td>0.000</td>\n",
       "      <td>6447.0</td>\n",
       "      <td>2567.0</td>\n",
       "      <td>1.0</td>\n",
       "    </tr>\n",
       "    <tr>\n",
       "      <th>expected_value[29, 100]</th>\n",
       "      <td>0.004</td>\n",
       "      <td>0.008</td>\n",
       "      <td>0.000</td>\n",
       "      <td>0.014</td>\n",
       "      <td>0.000</td>\n",
       "      <td>0.000</td>\n",
       "      <td>7196.0</td>\n",
       "      <td>2299.0</td>\n",
       "      <td>1.0</td>\n",
       "    </tr>\n",
       "  </tbody>\n",
       "</table>\n",
       "<p>3238 rows × 9 columns</p>\n",
       "</div>"
      ],
      "text/plain": [
       "                          mean     sd  hdi_3%  hdi_97%  mcse_mean  mcse_sd  \\\n",
       "beta_h                   1.680  0.183   1.333    2.026      0.002    0.001   \n",
       "beta[0]                  0.303  0.256  -0.199    0.767      0.003    0.003   \n",
       "beta[1]                  1.732  0.249   1.254    2.191      0.003    0.002   \n",
       "beta[2]                  3.738  0.269   3.226    4.229      0.003    0.002   \n",
       "beta[3]                  2.075  0.265   1.585    2.581      0.003    0.002   \n",
       "...                        ...    ...     ...      ...        ...      ...   \n",
       "expected_value[29, 96]   0.032  0.047  -0.003    0.133      0.001    0.001   \n",
       "expected_value[29, 97]   0.077  0.069   0.000    0.202      0.001    0.001   \n",
       "expected_value[29, 98]   0.015  0.033  -0.018    0.095      0.001    0.000   \n",
       "expected_value[29, 99]   0.007  0.017   0.000    0.029      0.000    0.000   \n",
       "expected_value[29, 100]  0.004  0.008   0.000    0.014      0.000    0.000   \n",
       "\n",
       "                         ess_bulk  ess_tail  r_hat  \n",
       "beta_h                     9677.0    2497.0    1.0  \n",
       "beta[0]                    8475.0    2957.0    1.0  \n",
       "beta[1]                    6060.0    3333.0    1.0  \n",
       "beta[2]                    6026.0    3546.0    1.0  \n",
       "beta[3]                    7888.0    2766.0    1.0  \n",
       "...                           ...       ...    ...  \n",
       "expected_value[29, 96]     5132.0    2435.0    1.0  \n",
       "expected_value[29, 97]     6414.0    2613.0    1.0  \n",
       "expected_value[29, 98]     4871.0    3100.0    1.0  \n",
       "expected_value[29, 99]     6447.0    2567.0    1.0  \n",
       "expected_value[29, 100]    7196.0    2299.0    1.0  \n",
       "\n",
       "[3238 rows x 9 columns]"
      ]
     },
     "execution_count": 49,
     "metadata": {},
     "output_type": "execute_result"
    }
   ],
   "source": [
    "az.summary(tr_firstPart)"
   ]
  },
  {
   "cell_type": "code",
   "execution_count": 50,
   "metadata": {},
   "outputs": [
    {
     "name": "stdout",
     "output_type": "stream",
     "text": [
      "(30, 101, 4000)\n"
     ]
    },
    {
     "data": {
      "text/plain": [
       "(30, 101)"
      ]
     },
     "execution_count": 50,
     "metadata": {},
     "output_type": "execute_result"
    }
   ],
   "source": [
    "# stack all chains\n",
    "b = tr_firstPart.posterior.stack(draws=('chain','draw'))\n",
    "b = b.expected_value\n",
    "print(b.shape)\n",
    "\n",
    "mean_b = np.mean(b, axis=2)\n",
    "mean_b.shape"
   ]
  },
  {
   "cell_type": "code",
   "execution_count": 52,
   "metadata": {
    "collapsed": true,
    "jupyter": {
     "outputs_hidden": true
    },
    "tags": []
   },
   "outputs": [
    {
     "name": "stdout",
     "output_type": "stream",
     "text": [
      "(0.6768321853617298, 4.009330522660171e-05)\n",
      "(0.4231474534927742, 0.019814073456368736)\n",
      "(0.9423449469450209, 7.704748530534286e-15)\n",
      "(0.5505725675720514, 0.0016182494541318183)\n",
      "(0.3867774164960823, 0.03473699138213348)\n",
      "(0.77858451524778, 4.056588690012224e-07)\n",
      "(0.4062105741085954, 0.025920688421142625)\n",
      "(0.3559383525489235, 0.05354830327526823)\n",
      "(0.6136275596676269, 0.00031077566516669425)\n",
      "(0.7253535423850037, 5.7654251111423e-06)\n",
      "(0.47849275634877425, 0.007478700619966696)\n",
      "(0.5743166596728955, 0.0009037628142868754)\n",
      "(0.7798980504740507, 3.7654205763118074e-07)\n",
      "(0.6405579081649269, 0.00013732166998032375)\n",
      "(0.3550935586894243, 0.054158559783994864)\n",
      "(0.4155582517153405, 0.022384520039639394)\n",
      "(0.33534501120034976, 0.07005140548779129)\n",
      "(0.4151576600639719, 0.022527467643471633)\n",
      "(0.578128330046804, 0.0008196833530201793)\n",
      "(0.6215650595204978, 0.0002461974903294659)\n",
      "(0.8335939375848666, 1.0714899021297713e-08)\n",
      "(0.6890816899243736, 2.5441701072733235e-05)\n",
      "(0.7469193545825689, 2.1272332780723264e-06)\n",
      "(0.6909065073382671, 2.3730737137691383e-05)\n",
      "(0.23530969969761725, 0.21066260549966256)\n",
      "(0.45780924833573283, 0.010962158597447584)\n",
      "(0.5505166881751268, 0.0016203879824415314)\n",
      "(0.6699001298518232, 5.138512862712377e-05)\n",
      "(0.6314872888305827, 0.00018235163223569858)\n",
      "(0.29379055841868407, 0.11507564725951869)\n",
      "(0.516915814620619, 0.0034461760897234735)\n",
      "(0.36563261936607905, 0.046926736131376594)\n",
      "(0.4844943505085829, 0.006664094532505413)\n",
      "(0.8136437511913217, 4.586420645676559e-08)\n",
      "(0.4164964739031161, 0.022052637921081125)\n",
      "(0.7062641747477232, 1.2942155273080347e-05)\n",
      "(0.6475463490885732, 0.0001096792069489096)\n",
      "(0.6486439446463627, 0.00010582088379990152)\n",
      "(0.60903434279097, 0.0003546198012593053)\n",
      "(0.7076238158669067, 1.2243415976758431e-05)\n",
      "(0.568919674307845, 0.0010356872703717605)\n",
      "(0.6702621720937312, 5.073156972840844e-05)\n",
      "(0.38362846791057287, 0.036370091028316946)\n",
      "(0.9495448897255389, 1.244916106904422e-15)\n",
      "(0.8404157743661272, 6.234983346896484e-09)\n",
      "(0.3440530999795122, 0.0626487038502876)\n",
      "(0.4718655601499606, 0.008474697864669858)\n",
      "(0.613558239009025, 0.0003113999933542258)\n",
      "(0.524684487688134, 0.002914125732120181)\n",
      "(0.9593029268712528, 6.525128909492317e-17)\n",
      "(0.416180229345501, 0.022164049878109517)\n",
      "(0.549009019675338, 0.001679021769141107)\n",
      "(0.3890566875937373, 0.03359225125325166)\n",
      "(0.4994295621150969, 0.004956923124774257)\n",
      "(0.4496238794380643, 0.01267437541931922)\n",
      "(0.7272616503723339, 5.298453190924765e-06)\n",
      "(0.7956699708312984, 1.4775094343744452e-07)\n",
      "(0.5719131535433372, 0.0009605773727458265)\n",
      "(0.609165568921342, 0.0003532951656856976)\n",
      "(0.7179247423804997, 7.958594321077165e-06)\n",
      "(0.4650853184465986, 0.009607403405357977)\n",
      "(0.7871585782712549, 2.4716776019344103e-07)\n",
      "(0.45739288241190296, 0.011044300652856295)\n",
      "(0.7865678501704916, 2.559335823268649e-07)\n",
      "(-0.009250816065914805, 0.9613044267802918)\n",
      "(0.5376121781676645, 0.0021850520753763634)\n",
      "(0.5712158693899415, 0.000977633685126313)\n",
      "(0.4170322056546641, 0.021864951761742364)\n",
      "(0.17389854965915402, 0.3580753910143633)\n",
      "(0.7596284873814585, 1.1273841137581983e-06)\n",
      "(0.9574836784998871, 1.1901492012528345e-16)\n",
      "(0.5980755124404179, 0.0004819724682368986)\n",
      "(0.4652386587895954, 0.00958044454123548)\n",
      "(0.553944227016788, 0.0014936694336437648)\n",
      "(0.8282154337832318, 1.614707512481017e-08)\n",
      "(0.5946241881970598, 0.0005296667208502779)\n",
      "(0.4636660067780253, 0.00985998009496668)\n",
      "(0.3986221153148326, 0.029115882196465534)\n",
      "(0.32090823687622894, 0.08379722248658761)\n",
      "(0.507571156180536, 0.004194944954129827)\n",
      "(0.6133655362669889, 0.0003131413750193655)\n",
      "(0.6668868066223547, 5.71237840113302e-05)\n",
      "(0.3529418320887291, 0.055737697239666116)\n",
      "(0.4521920044358257, 0.0121146388884559)\n",
      "(0.3206518051002354, 0.08405876749109073)\n",
      "(0.58727404668239, 0.0006452882883254581)\n",
      "(0.5076582857800533, 0.004187367058671329)\n",
      "(0.6555930826691546, 8.407495325190502e-05)\n",
      "(0.5717254277004936, 0.0009651435508798551)\n",
      "(0.5766228137093099, 0.000852036127624583)\n",
      "(0.4726407409546839, 0.008352699708847387)\n",
      "(0.10191780505074169, 0.5920237081369177)\n",
      "(0.7561484656683192, 1.346529570250799e-06)\n",
      "(0.49123115405180084, 0.005840680588385251)\n",
      "(0.3780567224267123, 0.039410795517875255)\n",
      "(0.3729668234807614, 0.04236366680497891)\n",
      "(0.33106802712223965, 0.07392713357356959)\n",
      "(0.6021571308949663, 0.00043048092451045963)\n",
      "(0.3497197684308519, 0.05816986782369631)\n",
      "(0.47322041737509274, 0.008262442812436094)\n",
      "(0.6278418616894929, 0.0002038575964169711)\n"
     ]
    }
   ],
   "source": [
    "# calculate \n",
    "for i in np.arange(n_subj):\n",
    "    cor1 = scipy.stats.pearsonr(scrMat[:,i], mean_b[:,i])\n",
    "    print(cor1)"
   ]
  },
  {
   "cell_type": "code",
   "execution_count": 53,
   "metadata": {},
   "outputs": [
    {
     "name": "stderr",
     "output_type": "stream",
     "text": [
      "/tmp/ipykernel_4575/2305217894.py:4: SettingWithCopyWarning: \n",
      "A value is trying to be set on a copy of a slice from a DataFrame.\n",
      "Try using .loc[row_indexer,col_indexer] = value instead\n",
      "\n",
      "See the caveats in the documentation: https://pandas.pydata.org/pandas-docs/stable/user_guide/indexing.html#returning-a-view-versus-a-copy\n",
      "  scr_1['expected_value'] = mean_b_vec.values\n",
      "/tmp/ipykernel_4575/2305217894.py:5: SettingWithCopyWarning: \n",
      "A value is trying to be set on a copy of a slice from a DataFrame.\n",
      "Try using .loc[row_indexer,col_indexer] = value instead\n",
      "\n",
      "See the caveats in the documentation: https://pandas.pydata.org/pandas-docs/stable/user_guide/indexing.html#returning-a-view-versus-a-copy\n",
      "  scr_1['scr'] = scr_1['CDA.AmpSum']\n"
     ]
    }
   ],
   "source": [
    "\n",
    "scr_1['sub'].unique()\n",
    "mean_b_vec = np.reshape(mean_b.T, (30*len(scr_1['sub'].unique()),1)) # reshape to fit dataframe\n",
    "len(scr_clean)\n",
    "scr_1['expected_value'] = mean_b_vec.values\n",
    "scr_1['scr'] = scr_1['CDA.AmpSum']"
   ]
  },
  {
   "cell_type": "code",
   "execution_count": 58,
   "metadata": {},
   "outputs": [
    {
     "data": {
      "text/html": [
       "<div>\n",
       "<style scoped>\n",
       "    .dataframe tbody tr th:only-of-type {\n",
       "        vertical-align: middle;\n",
       "    }\n",
       "\n",
       "    .dataframe tbody tr th {\n",
       "        vertical-align: top;\n",
       "    }\n",
       "\n",
       "    .dataframe thead th {\n",
       "        text-align: right;\n",
       "    }\n",
       "</style>\n",
       "<table border=\"1\" class=\"dataframe\">\n",
       "  <thead>\n",
       "    <tr style=\"text-align: right;\">\n",
       "      <th></th>\n",
       "      <th>sub</th>\n",
       "      <th>Condition</th>\n",
       "      <th>Event.Nr</th>\n",
       "      <th>CDA.AmpSum</th>\n",
       "      <th>expected_value</th>\n",
       "      <th>scr</th>\n",
       "      <th>index</th>\n",
       "      <th>subject</th>\n",
       "      <th>trialNo</th>\n",
       "      <th>condition</th>\n",
       "      <th>coupling</th>\n",
       "      <th>amg</th>\n",
       "      <th>Sub</th>\n",
       "      <th>group</th>\n",
       "      <th>Eprime</th>\n",
       "    </tr>\n",
       "  </thead>\n",
       "  <tbody>\n",
       "    <tr>\n",
       "      <th>0</th>\n",
       "      <td>sub-189</td>\n",
       "      <td>CSplusUS1</td>\n",
       "      <td>1</td>\n",
       "      <td>0.2852</td>\n",
       "      <td>0.196651</td>\n",
       "      <td>0.2852</td>\n",
       "      <td>1794</td>\n",
       "      <td>sub-189</td>\n",
       "      <td>1</td>\n",
       "      <td>CSplusUS1</td>\n",
       "      <td>0.309524</td>\n",
       "      <td>0.981121</td>\n",
       "      <td>sub-189</td>\n",
       "      <td>HC</td>\n",
       "      <td>A</td>\n",
       "    </tr>\n",
       "    <tr>\n",
       "      <th>1</th>\n",
       "      <td>sub-189</td>\n",
       "      <td>CSminus1</td>\n",
       "      <td>2</td>\n",
       "      <td>0.1033</td>\n",
       "      <td>0.106369</td>\n",
       "      <td>0.1033</td>\n",
       "      <td>1795</td>\n",
       "      <td>sub-189</td>\n",
       "      <td>2</td>\n",
       "      <td>CSminus1</td>\n",
       "      <td>-0.571429</td>\n",
       "      <td>-0.027048</td>\n",
       "      <td>sub-189</td>\n",
       "      <td>HC</td>\n",
       "      <td>A</td>\n",
       "    </tr>\n",
       "    <tr>\n",
       "      <th>2</th>\n",
       "      <td>sub-189</td>\n",
       "      <td>CSplus1</td>\n",
       "      <td>3</td>\n",
       "      <td>0.0783</td>\n",
       "      <td>0.133744</td>\n",
       "      <td>0.0783</td>\n",
       "      <td>1796</td>\n",
       "      <td>sub-189</td>\n",
       "      <td>3</td>\n",
       "      <td>CSplus1</td>\n",
       "      <td>-0.476190</td>\n",
       "      <td>-0.045910</td>\n",
       "      <td>sub-189</td>\n",
       "      <td>HC</td>\n",
       "      <td>A</td>\n",
       "    </tr>\n",
       "    <tr>\n",
       "      <th>3</th>\n",
       "      <td>sub-189</td>\n",
       "      <td>CSplusUS1</td>\n",
       "      <td>4</td>\n",
       "      <td>0.1772</td>\n",
       "      <td>0.187123</td>\n",
       "      <td>0.1772</td>\n",
       "      <td>1797</td>\n",
       "      <td>sub-189</td>\n",
       "      <td>4</td>\n",
       "      <td>CSplusUS1</td>\n",
       "      <td>0.166667</td>\n",
       "      <td>-0.674150</td>\n",
       "      <td>sub-189</td>\n",
       "      <td>HC</td>\n",
       "      <td>A</td>\n",
       "    </tr>\n",
       "    <tr>\n",
       "      <th>4</th>\n",
       "      <td>sub-189</td>\n",
       "      <td>CSminus1</td>\n",
       "      <td>5</td>\n",
       "      <td>0.0000</td>\n",
       "      <td>0.078994</td>\n",
       "      <td>0.0000</td>\n",
       "      <td>1798</td>\n",
       "      <td>sub-189</td>\n",
       "      <td>5</td>\n",
       "      <td>CSminus1</td>\n",
       "      <td>0.214286</td>\n",
       "      <td>-0.065602</td>\n",
       "      <td>sub-189</td>\n",
       "      <td>HC</td>\n",
       "      <td>A</td>\n",
       "    </tr>\n",
       "  </tbody>\n",
       "</table>\n",
       "</div>"
      ],
      "text/plain": [
       "       sub  Condition  Event.Nr  CDA.AmpSum  expected_value     scr  index  \\\n",
       "0  sub-189  CSplusUS1         1      0.2852        0.196651  0.2852   1794   \n",
       "1  sub-189   CSminus1         2      0.1033        0.106369  0.1033   1795   \n",
       "2  sub-189    CSplus1         3      0.0783        0.133744  0.0783   1796   \n",
       "3  sub-189  CSplusUS1         4      0.1772        0.187123  0.1772   1797   \n",
       "4  sub-189   CSminus1         5      0.0000        0.078994  0.0000   1798   \n",
       "\n",
       "   subject  trialNo  condition  coupling       amg      Sub group Eprime  \n",
       "0  sub-189        1  CSplusUS1  0.309524  0.981121  sub-189    HC      A  \n",
       "1  sub-189        2   CSminus1 -0.571429 -0.027048  sub-189    HC      A  \n",
       "2  sub-189        3    CSplus1 -0.476190 -0.045910  sub-189    HC      A  \n",
       "3  sub-189        4  CSplusUS1  0.166667 -0.674150  sub-189    HC      A  \n",
       "4  sub-189        5   CSminus1  0.214286 -0.065602  sub-189    HC      A  "
      ]
     },
     "execution_count": 58,
     "metadata": {},
     "output_type": "execute_result"
    }
   ],
   "source": [
    "dfAll_1 = pd.merge(scr_1, amg_hipp, right_on=['subject','trialNo'], left_on=['sub','Event.Nr'])\n",
    "dfAll_1 = pd.merge(dfAll_1, dfGroups, left_on='subject',right_on='Sub')\n",
    "\n",
    "dfAll_1.head()"
   ]
  },
  {
   "cell_type": "code",
   "execution_count": 59,
   "metadata": {},
   "outputs": [
    {
     "name": "stdout",
     "output_type": "stream",
     "text": [
      "                Mixed Linear Model Regression Results\n",
      "======================================================================\n",
      "Model:                MixedLM    Dependent Variable:    expected_value\n",
      "No. Observations:     2010       Method:                REML          \n",
      "No. Groups:           67         Scale:                 0.2153        \n",
      "Min. group size:      30         Log-Likelihood:        -1454.0359    \n",
      "Max. group size:      30         Converged:             Yes           \n",
      "Mean group size:      30.0                                            \n",
      "----------------------------------------------------------------------\n",
      "                           Coef.  Std.Err.    z    P>|z| [0.025 0.975]\n",
      "----------------------------------------------------------------------\n",
      "Intercept                   0.988    0.130   7.585 0.000  0.733  1.243\n",
      "C(group)[T.VCC]            -0.567    0.169  -3.365 0.001 -0.898 -0.237\n",
      "C(group)[T.VPTSD]          -0.550    0.175  -3.143 0.002 -0.893 -0.207\n",
      "C(condition)[T.CSplus1]     0.283    0.023  12.139 0.000  0.237  0.328\n",
      "C(condition)[T.CSplusUS1]   0.447    0.029  15.398 0.000  0.390  0.504\n",
      "coupling                    0.161    0.052   3.127 0.002  0.060  0.262\n",
      "coupling:C(group)[T.VCC]   -0.164    0.067  -2.454 0.014 -0.295 -0.033\n",
      "coupling:C(group)[T.VPTSD] -0.163    0.070  -2.320 0.020 -0.301 -0.025\n",
      "amg                        -0.017    0.024  -0.693 0.489 -0.065  0.031\n",
      "trialNo                    -0.018    0.001 -14.736 0.000 -0.021 -0.016\n",
      "subject Var                 0.305    0.121                            \n",
      "======================================================================\n",
      "\n"
     ]
    }
   ],
   "source": [
    "glm3 = smf.mixedlm('expected_value ~ coupling*C(group) + C(condition) + amg + trialNo', data=dfAll_1, \n",
    "    groups = 'subject', \n",
    "                 missing='drop')\n",
    "model3 = glm3.fit()\n",
    "print(model3.summary())"
   ]
  },
  {
   "cell_type": "code",
   "execution_count": 96,
   "metadata": {},
   "outputs": [
    {
     "data": {
      "text/html": [
       "<div>\n",
       "<style scoped>\n",
       "    .dataframe tbody tr th:only-of-type {\n",
       "        vertical-align: middle;\n",
       "    }\n",
       "\n",
       "    .dataframe tbody tr th {\n",
       "        vertical-align: top;\n",
       "    }\n",
       "\n",
       "    .dataframe thead th {\n",
       "        text-align: right;\n",
       "    }\n",
       "</style>\n",
       "<table border=\"1\" class=\"dataframe\">\n",
       "  <thead>\n",
       "    <tr style=\"text-align: right;\">\n",
       "      <th></th>\n",
       "      <th></th>\n",
       "      <th>CDA.AmpSum</th>\n",
       "      <th>expected_value</th>\n",
       "      <th>scr</th>\n",
       "      <th>index</th>\n",
       "      <th>trialNo</th>\n",
       "      <th>coupling</th>\n",
       "      <th>amg</th>\n",
       "    </tr>\n",
       "    <tr>\n",
       "      <th>group</th>\n",
       "      <th>Event.Nr</th>\n",
       "      <th></th>\n",
       "      <th></th>\n",
       "      <th></th>\n",
       "      <th></th>\n",
       "      <th></th>\n",
       "      <th></th>\n",
       "      <th></th>\n",
       "    </tr>\n",
       "  </thead>\n",
       "  <tbody>\n",
       "    <tr>\n",
       "      <th rowspan=\"5\" valign=\"top\">HC</th>\n",
       "      <th>1</th>\n",
       "      <td>2.778047</td>\n",
       "      <td>1.989717</td>\n",
       "      <td>2.778047</td>\n",
       "      <td>1114.894737</td>\n",
       "      <td>1.0</td>\n",
       "      <td>0.235589</td>\n",
       "      <td>0.419645</td>\n",
       "    </tr>\n",
       "    <tr>\n",
       "      <th>2</th>\n",
       "      <td>1.519479</td>\n",
       "      <td>1.257478</td>\n",
       "      <td>1.519479</td>\n",
       "      <td>1115.894737</td>\n",
       "      <td>2.0</td>\n",
       "      <td>0.031328</td>\n",
       "      <td>0.242327</td>\n",
       "    </tr>\n",
       "    <tr>\n",
       "      <th>3</th>\n",
       "      <td>1.589632</td>\n",
       "      <td>1.136855</td>\n",
       "      <td>1.589632</td>\n",
       "      <td>1116.894737</td>\n",
       "      <td>3.0</td>\n",
       "      <td>0.149123</td>\n",
       "      <td>0.011517</td>\n",
       "    </tr>\n",
       "    <tr>\n",
       "      <th>4</th>\n",
       "      <td>1.837347</td>\n",
       "      <td>1.912771</td>\n",
       "      <td>1.837347</td>\n",
       "      <td>1117.894737</td>\n",
       "      <td>4.0</td>\n",
       "      <td>0.097744</td>\n",
       "      <td>-0.024410</td>\n",
       "    </tr>\n",
       "    <tr>\n",
       "      <th>5</th>\n",
       "      <td>0.696737</td>\n",
       "      <td>0.845123</td>\n",
       "      <td>0.696737</td>\n",
       "      <td>1118.894737</td>\n",
       "      <td>5.0</td>\n",
       "      <td>0.005013</td>\n",
       "      <td>-0.280668</td>\n",
       "    </tr>\n",
       "    <tr>\n",
       "      <th>...</th>\n",
       "      <th>...</th>\n",
       "      <td>...</td>\n",
       "      <td>...</td>\n",
       "      <td>...</td>\n",
       "      <td>...</td>\n",
       "      <td>...</td>\n",
       "      <td>...</td>\n",
       "      <td>...</td>\n",
       "    </tr>\n",
       "    <tr>\n",
       "      <th rowspan=\"5\" valign=\"top\">VPTSD</th>\n",
       "      <th>26</th>\n",
       "      <td>0.106818</td>\n",
       "      <td>0.363967</td>\n",
       "      <td>0.106818</td>\n",
       "      <td>1593.181818</td>\n",
       "      <td>26.0</td>\n",
       "      <td>-0.045455</td>\n",
       "      <td>-0.065275</td>\n",
       "    </tr>\n",
       "    <tr>\n",
       "      <th>27</th>\n",
       "      <td>0.066945</td>\n",
       "      <td>0.055499</td>\n",
       "      <td>0.066945</td>\n",
       "      <td>1594.181818</td>\n",
       "      <td>27.0</td>\n",
       "      <td>0.059524</td>\n",
       "      <td>0.086063</td>\n",
       "    </tr>\n",
       "    <tr>\n",
       "      <th>28</th>\n",
       "      <td>0.134355</td>\n",
       "      <td>0.232579</td>\n",
       "      <td>0.134355</td>\n",
       "      <td>1595.181818</td>\n",
       "      <td>28.0</td>\n",
       "      <td>0.147186</td>\n",
       "      <td>-0.032194</td>\n",
       "    </tr>\n",
       "    <tr>\n",
       "      <th>29</th>\n",
       "      <td>0.118709</td>\n",
       "      <td>0.168857</td>\n",
       "      <td>0.118709</td>\n",
       "      <td>1596.181818</td>\n",
       "      <td>29.0</td>\n",
       "      <td>0.160173</td>\n",
       "      <td>0.038585</td>\n",
       "    </tr>\n",
       "    <tr>\n",
       "      <th>30</th>\n",
       "      <td>0.097036</td>\n",
       "      <td>0.049690</td>\n",
       "      <td>0.097036</td>\n",
       "      <td>1597.181818</td>\n",
       "      <td>30.0</td>\n",
       "      <td>0.051948</td>\n",
       "      <td>0.072184</td>\n",
       "    </tr>\n",
       "  </tbody>\n",
       "</table>\n",
       "<p>90 rows × 7 columns</p>\n",
       "</div>"
      ],
      "text/plain": [
       "                CDA.AmpSum  expected_value       scr        index  trialNo  \\\n",
       "group Event.Nr                                                               \n",
       "HC    1           2.778047        1.989717  2.778047  1114.894737      1.0   \n",
       "      2           1.519479        1.257478  1.519479  1115.894737      2.0   \n",
       "      3           1.589632        1.136855  1.589632  1116.894737      3.0   \n",
       "      4           1.837347        1.912771  1.837347  1117.894737      4.0   \n",
       "      5           0.696737        0.845123  0.696737  1118.894737      5.0   \n",
       "...                    ...             ...       ...          ...      ...   \n",
       "VPTSD 26          0.106818        0.363967  0.106818  1593.181818     26.0   \n",
       "      27          0.066945        0.055499  0.066945  1594.181818     27.0   \n",
       "      28          0.134355        0.232579  0.134355  1595.181818     28.0   \n",
       "      29          0.118709        0.168857  0.118709  1596.181818     29.0   \n",
       "      30          0.097036        0.049690  0.097036  1597.181818     30.0   \n",
       "\n",
       "                coupling       amg  \n",
       "group Event.Nr                      \n",
       "HC    1         0.235589  0.419645  \n",
       "      2         0.031328  0.242327  \n",
       "      3         0.149123  0.011517  \n",
       "      4         0.097744 -0.024410  \n",
       "      5         0.005013 -0.280668  \n",
       "...                  ...       ...  \n",
       "VPTSD 26       -0.045455 -0.065275  \n",
       "      27        0.059524  0.086063  \n",
       "      28        0.147186 -0.032194  \n",
       "      29        0.160173  0.038585  \n",
       "      30        0.051948  0.072184  \n",
       "\n",
       "[90 rows x 7 columns]"
      ]
     },
     "execution_count": 96,
     "metadata": {},
     "output_type": "execute_result"
    }
   ],
   "source": [
    "forPlot = dfAll_1.groupby(['group','Event.Nr']).mean()\n",
    "forPlot"
   ]
  },
  {
   "cell_type": "code",
   "execution_count": 97,
   "metadata": {},
   "outputs": [
    {
     "name": "stderr",
     "output_type": "stream",
     "text": [
      "/gpfs/ysm/project/joormann/oad4/conda_envs/neuroAnalysis/lib/python3.9/site-packages/seaborn/_decorators.py:36: FutureWarning: Pass the following variables as keyword args: x, y. From version 0.12, the only valid positional argument will be `data`, and passing other arguments without an explicit keyword will result in an error or misinterpretation.\n",
      "  warnings.warn(\n",
      "/gpfs/ysm/project/joormann/oad4/conda_envs/neuroAnalysis/lib/python3.9/site-packages/seaborn/_decorators.py:36: FutureWarning: Pass the following variables as keyword args: x, y. From version 0.12, the only valid positional argument will be `data`, and passing other arguments without an explicit keyword will result in an error or misinterpretation.\n",
      "  warnings.warn(\n",
      "/gpfs/ysm/project/joormann/oad4/conda_envs/neuroAnalysis/lib/python3.9/site-packages/seaborn/_decorators.py:36: FutureWarning: Pass the following variables as keyword args: x, y. From version 0.12, the only valid positional argument will be `data`, and passing other arguments without an explicit keyword will result in an error or misinterpretation.\n",
      "  warnings.warn(\n"
     ]
    },
    {
     "data": {
      "text/plain": [
       "<matplotlib.legend.Legend at 0x2b8b28f9fe20>"
      ]
     },
     "execution_count": 97,
     "metadata": {},
     "output_type": "execute_result"
    },
    {
     "data": {
      "image/png": "[encoded data removed]",
      "text/plain": [
       "<Figure size 864x504 with 1 Axes>"
      ]
     },
     "metadata": {
      "needs_background": "light"
     },
     "output_type": "display_data"
    }
   ],
   "source": [
    "sns.regplot(forPlot['expected_value']['HC'], forPlot['coupling']['HC'], label='HC')\n",
    "sns.regplot(forPlot['expected_value']['VCC'], forPlot['coupling']['VCC'], label='CC')\n",
    "sns.regplot(forPlot['expected_value']['VPTSD'], forPlot['coupling']['VPTSD'], label='PTSD')\n",
    "plt.legend()"
   ]
  },
  {
   "cell_type": "code",
   "execution_count": 98,
   "metadata": {},
   "outputs": [
    {
     "name": "stderr",
     "output_type": "stream",
     "text": [
      "/gpfs/ysm/project/joormann/oad4/conda_envs/neuroAnalysis/lib/python3.9/site-packages/seaborn/_decorators.py:36: FutureWarning: Pass the following variables as keyword args: x, y. From version 0.12, the only valid positional argument will be `data`, and passing other arguments without an explicit keyword will result in an error or misinterpretation.\n",
      "  warnings.warn(\n",
      "/gpfs/ysm/project/joormann/oad4/conda_envs/neuroAnalysis/lib/python3.9/site-packages/seaborn/_decorators.py:36: FutureWarning: Pass the following variables as keyword args: x, y. From version 0.12, the only valid positional argument will be `data`, and passing other arguments without an explicit keyword will result in an error or misinterpretation.\n",
      "  warnings.warn(\n",
      "/gpfs/ysm/project/joormann/oad4/conda_envs/neuroAnalysis/lib/python3.9/site-packages/seaborn/_decorators.py:36: FutureWarning: Pass the following variables as keyword args: x, y. From version 0.12, the only valid positional argument will be `data`, and passing other arguments without an explicit keyword will result in an error or misinterpretation.\n",
      "  warnings.warn(\n"
     ]
    },
    {
     "data": {
      "text/plain": [
       "<matplotlib.legend.Legend at 0x2b8b2882c160>"
      ]
     },
     "execution_count": 98,
     "metadata": {},
     "output_type": "execute_result"
    },
    {
     "data": {
      "image/png": "[encoded data removed]",
      "text/plain": [
       "<Figure size 864x504 with 1 Axes>"
      ]
     },
     "metadata": {
      "needs_background": "light"
     },
     "output_type": "display_data"
    }
   ],
   "source": [
    "# all experiment\n",
    "forPlot = dfAll.groupby(['group','Event.Nr']).mean()\n",
    "sns.regplot(forPlot['expected_value']['HC'], forPlot['coupling']['HC'], label='HC')\n",
    "sns.regplot(forPlot['expected_value']['VCC'], forPlot['coupling']['VCC'], label='CC')\n",
    "sns.regplot(forPlot['expected_value']['VPTSD'], forPlot['coupling']['VPTSD'], label='PTSD')\n",
    "plt.legend()"
   ]
  },
  {
   "cell_type": "markdown",
   "metadata": {},
   "source": [
    "## Second part (after reversal)"
   ]
  },
  {
   "cell_type": "code",
   "execution_count": 107,
   "metadata": {
    "tags": []
   },
   "outputs": [
    {
     "name": "stdout",
     "output_type": "stream",
     "text": [
      "(3354,)\n",
      "(3354,)\n",
      "(3354,)\n"
     ]
    }
   ],
   "source": [
    "# Test just first stage of reversal\n",
    "# first build RL model\n",
    "scr_2 = scr[scr['Event.Nr']>30]\n",
    "for sub in scr_2['sub'].unique():\n",
    "    df = scr_2[scr_2['sub']==sub]\n",
    "    #print(len(df))\n",
    "    #print (len(df))\n",
    "    if len(df)<39:\n",
    "        scr_2 = scr_2[scr_2['sub']!=sub]\n",
    "len(scr_2['sub'].unique()) # total of 86 valid subjects\n",
    "scrVec = scr_2['CDA.AmpSum'].values\n",
    "print(scrVec.shape)\n",
    "shockVec = np.zeros(len(scrVec), dtype=np.int32) # vector to capture shock (1=yes, 0=no)\n",
    "stimVec = np.zeros(len(scrVec), dtype=np.int32) # vector to capture stimulus (1=CS+, 2= CS-)\n",
    "\n",
    "for i, cond in enumerate(scr_2['Condition'].values):\n",
    "    if cond=='CSminusUS2':\n",
    "        shockVec[i]= 1\n",
    "        stimVec[i] = 1\n",
    "    elif cond=='CSplus2':\n",
    "            stimVec[i] = 1\n",
    "            shockVec[i]= 0\n",
    "    elif cond=='CSminus2':\n",
    "            stimVec[i] = 0\n",
    "            shockVec[i] = 0\n",
    "    else:\n",
    "        print(f' Condition is {cond}')\n",
    "        stimVec[i] = 9\n",
    "        shockVec[i] = 9\n",
    "print(shockVec.shape)\n",
    "print(stimVec.shape)\n"
   ]
  },
  {
   "cell_type": "code",
   "execution_count": 108,
   "metadata": {},
   "outputs": [],
   "source": [
    "n_trials, n_subj = 39,len(scr_2['sub'].unique())\n",
    "trials, subj = np.meshgrid(range(n_trials), range(n_subj))\n",
    "trials = tt.as_tensor_variable(trials.T)\n",
    "subj = tt.as_tensor_variable(subj.T)\n",
    "stim = np.reshape(stimVec, (n_subj,n_trials)).T # transform to matrix trials x subject\n",
    "shock = np.reshape(shockVec, (n_subj,n_trials)).T \n",
    "scrMat = np.reshape(scrVec, (n_subj, n_trials)).T\n",
    "\n",
    "stim = tt.as_tensor_variable(stim)\n",
    "shock = tt.as_tensor_variable(shock)\n"
   ]
  },
  {
   "cell_type": "code",
   "execution_count": 109,
   "metadata": {},
   "outputs": [
    {
     "name": "stderr",
     "output_type": "stream",
     "text": [
      "Auto-assigning NUTS sampler...\n",
      "Initializing NUTS using jitter+adapt_diag...\n",
      "Multiprocess sampling (4 chains in 10 jobs)\n",
      "NUTS: [eps, beta, beta_sd, beta_h, alpha, kappa_log, phi]\n"
     ]
    },
    {
     "data": {
      "text/html": [
       "\n",
       "    <div>\n",
       "        <style>\n",
       "            /* Turns off some styling */\n",
       "            progress {\n",
       "                /* gets rid of default border in Firefox and Opera. */\n",
       "                border: none;\n",
       "                /* Needs to be in here for Safari polyfill so background images work as expected. */\n",
       "                background-size: auto;\n",
       "            }\n",
       "            .progress-bar-interrupted, .progress-bar-interrupted::-webkit-progress-bar {\n",
       "                background: #F44336;\n",
       "            }\n",
       "        </style>\n",
       "      <progress value='8000' class='' max='8000' style='width:300px; height:20px; vertical-align: middle;'></progress>\n",
       "      100.00% [8000/8000 19:23<00:00 Sampling 4 chains, 0 divergences]\n",
       "    </div>\n",
       "    "
      ],
      "text/plain": [
       "<IPython.core.display.HTML object>"
      ]
     },
     "metadata": {},
     "output_type": "display_data"
    },
    {
     "name": "stderr",
     "output_type": "stream",
     "text": [
      "Sampling 4 chains for 1_000 tune and 1_000 draw iterations (4_000 + 4_000 draws total) took 1165 seconds.\n",
      "The estimated number of effective samples is smaller than 200 for some parameters.\n"
     ]
    }
   ],
   "source": [
    "# run model\n",
    "with pm.Model() as m5_2ndPart:\n",
    "    \n",
    "    # α\n",
    "    phi = pm.Uniform(\"phi\", lower=0.0, upper=1.0)\n",
    "    kappa_log = pm.Exponential(\"kappa_log\", lam=1.5)\n",
    "    kappa = pm.Deterministic(\"kappa\", tt.exp(kappa_log))\n",
    "    alpha = pm.Beta(\"alpha\", alpha=phi * kappa, beta=(1.0 - phi) * kappa, shape=n_subj)\n",
    "    \n",
    "    # β\n",
    "    beta_h = pm.Normal('beta_h', 0,1)\n",
    "    beta_sd = pm.HalfNormal('beta_sd', 5)\n",
    "    beta = pm.Normal('beta',beta_h, beta_sd, shape=n_subj)\n",
    "       \n",
    "    eps = pm.HalfNormal('eps', 5)\n",
    "    \n",
    "    Qs = 0.5 * tt.ones((n_subj,2), dtype='float64') # set values for boths stimuli (CS+, CS-)\n",
    "    vec0 = 0.5 * tt.ones((n_subj,1), dtype='float64') # vector to save the relevant stimulus's expactation\n",
    "    \n",
    "    [Qs,vec], updates = theano.scan(\n",
    "        fn=update_Q,\n",
    "        sequences=[stim, shock],\n",
    "        outputs_info=[Qs, vec0],\n",
    "        non_sequences=[alpha, n_subj])\n",
    "   \n",
    "     \n",
    "    vec_ = vec[trials, subj,0] * beta[subj]\n",
    "    # add matrix of expected values (trials X subjects)\n",
    "    ev = pm.Deterministic('expected_value', vec_)\n",
    "    \n",
    "    scrs = pm.Normal('scrs', vec_, eps, observed=scrMat) \n",
    "    tr_secondPart = pm.sample(target_accept=.9, chains=4, cores=10, return_inferencedata=True)"
   ]
  },
  {
   "cell_type": "code",
   "execution_count": 110,
   "metadata": {},
   "outputs": [
    {
     "name": "stdout",
     "output_type": "stream",
     "text": [
      "(39, 86, 4000)\n"
     ]
    },
    {
     "data": {
      "text/plain": [
       "(39, 86)"
      ]
     },
     "execution_count": 110,
     "metadata": {},
     "output_type": "execute_result"
    }
   ],
   "source": [
    "# stack all chains\n",
    "c = tr_secondPart.posterior.stack(draws=('chain','draw'))\n",
    "c = c.expected_value\n",
    "print(c.shape)\n",
    "\n",
    "mean_c = np.mean(c, axis=2)\n",
    "mean_c.shape"
   ]
  },
  {
   "cell_type": "code",
   "execution_count": 112,
   "metadata": {
    "collapsed": true,
    "jupyter": {
     "outputs_hidden": true
    },
    "tags": []
   },
   "outputs": [
    {
     "name": "stdout",
     "output_type": "stream",
     "text": [
      "(0.1104082350158959, 0.503421317139628)\n",
      "(0.08042834472986837, 0.626454724038485)\n",
      "(0.9887207726458529, 4.077179046740726e-32)\n",
      "(0.41144822202366466, 0.009260569144128166)\n",
      "(-0.1502305707312255, 0.3613157623197772)\n",
      "(0.7194022645192121, 2.4667375523551146e-07)\n",
      "(0.032517710800334367, 0.8442049068108956)\n",
      "(-0.19626026708089722, 0.23112874841472572)\n",
      "(0.09966254250822527, 0.5460773443826588)\n",
      "(0.28549832587960866, 0.07810259765297307)\n",
      "(-0.31642146163087137, 0.04970290077151094)\n",
      "(0.4518786524099112, 0.0038790953701914057)\n",
      "(0.2750330052176877, 0.09016021319044756)\n",
      "(0.17571553600208148, 0.28462240408398654)\n",
      "(-0.009794409014626304, 0.9528108545047128)\n",
      "(0.05396392796360623, 0.7442141204293529)\n",
      "(-0.2652017429418406, 0.10274996105059864)\n",
      "(0.18418257589495804, 0.26167862598235786)\n",
      "(0.050783262798029784, 0.7588272472529242)\n",
      "(0.0019639648095031367, 0.9905325986499782)\n",
      "(0.5741037717340104, 0.000132675086335259)\n",
      "(0.6970768860256591, 8.215714257865665e-07)\n",
      "(0.26901093285103567, 0.09772190410764835)\n",
      "(0.012607831293210959, 0.9392781944078957)\n",
      "(0.5074355678868656, 0.0009765592725481626)\n",
      "(0.5512126087590541, 0.0002761122578574769)\n",
      "(0.5180990098511683, 0.0007291273949940691)\n",
      "(0.565518696240538, 0.00017575168832223643)\n",
      "(0.8033429245149801, 7.501570016908068e-10)\n",
      "(0.17591339541849466, 0.28407181214450156)\n",
      "(0.2909334739230031, 0.07235805791584193)\n",
      "(-0.3538679989701093, 0.027100700049246064)\n",
      "(0.8599759482690251, 2.329227389126185e-12)\n",
      "(-0.040557593186925325, 0.8063463210981886)\n",
      "(0.79919328785366, 1.0629027124783239e-09)\n",
      "(0.4699173555483245, 0.0025410675295770655)\n",
      "(-0.36743462899312185, 0.02138477513867202)\n",
      "(-0.06432893714519344, 0.6972266628758433)\n",
      "(0.9036836231118703, 3.3680411134881524e-15)\n",
      "(0.35007899970735584, 0.02890573647556965)\n",
      "(-0.06362233841049765, 0.7003970264854199)\n",
      "(0.31136678754324904, 0.053670229748092046)\n",
      "(0.8420843037673248, 1.8373138574034373e-11)\n",
      "(0.9089316952446981, 1.2501901879513579e-15)\n",
      "(-0.05538633782429585, 0.7377071811197614)\n",
      "(0.37529780057746004, 0.018559606943518932)\n",
      "(0.11590985834398032, 0.4822553357381944)\n",
      "(0.19377974742116302, 0.23719548816056316)\n",
      "(0.3049106871263595, 0.05910177392176592)\n",
      "(-0.09667913370913656, 0.5582172116311868)\n",
      "(0.4718425861899801, 0.0024256119066906087)\n",
      "(0.2300945509953869, 0.15878253241158463)\n",
      "(-0.18621113926728305, 0.25636914991727944)\n",
      "(0.13452032788273852, 0.4142327710596103)\n",
      "(0.3194678601116364, 0.04742803862054221)\n",
      "(-0.006794888029288834, 0.9672529482473475)\n",
      "(0.2073407271425783, 0.20532313421192244)\n",
      "(-0.047151352940978566, 0.7756148505851438)\n",
      "(-0.05739725667815791, 0.7285388172159114)\n",
      "(0.2931502769084606, 0.07011255400422474)\n",
      "(0.3013037786238323, 0.06232150922382401)\n",
      "(0.014147031326423525, 0.9318814567079143)\n",
      "(0.7512901633144216, 3.575344401853455e-08)\n",
      "(0.9507587274108803, 2.053601925405702e-20)\n",
      "(-0.40550367804768644, 0.010435489128178295)\n",
      "(0.2605382904793022, 0.1091714186359554)\n",
      "(0.5967018935398831, 6.089426769463847e-05)\n",
      "(0.49021534188658294, 0.001535125192722962)\n",
      "(-0.3416911609427953, 0.033256032878363095)\n",
      "(-0.2577077240319728, 0.11321473183458798)\n",
      "(0.526448720988719, 0.0005761155387876675)\n",
      "(0.3671304804657959, 0.02150088905820561)\n",
      "(0.12756947421710252, 0.4389774890954409)\n",
      "(0.3549523253950376, 0.026601653971579608)\n",
      "(0.1495899620254615, 0.36339044784689656)\n",
      "(0.7393672480780724, 7.60342035710483e-08)\n",
      "(0.7886995808250863, 2.477756222479749e-09)\n",
      "(-0.32487246407060794, 0.043599177782938515)\n",
      "(0.17980155689817912, 0.2733923499965307)\n",
      "(0.32481424086334515, 0.043639049218535175)\n",
      "(-0.2787030069719293, 0.08577841991919694)\n",
      "(0.8144599958854081, 2.827935237348496e-10)\n",
      "(-0.26354841069718393, 0.10499273793822854)\n",
      "(0.00029773891801576635, 0.9985647014718293)\n",
      "(0.23867666588846875, 0.1433898993499081)\n",
      "(0.6147699836008406, 3.1281060724359156e-05)\n"
     ]
    }
   ],
   "source": [
    "# calculate \n",
    "for i in np.arange(n_subj):\n",
    "    cor2 = scipy.stats.pearsonr(scrMat[:,i], mean_c[:,i])\n",
    "    print(cor2)\n",
    "\n",
    "scr_2['sub'].unique()\n",
    "mean_c_vec = np.reshape(mean_c.T, (39*len(scr_2['sub'].unique()),1)) # reshape to fit dataframe\n",
    "\n",
    "scr_2['expected_value'] = mean_c_vec.values\n",
    "scr_2['scr'] = scr_2['CDA.AmpSum']"
   ]
  },
  {
   "cell_type": "code",
   "execution_count": 113,
   "metadata": {},
   "outputs": [
    {
     "data": {
      "text/html": [
       "<div>\n",
       "<style scoped>\n",
       "    .dataframe tbody tr th:only-of-type {\n",
       "        vertical-align: middle;\n",
       "    }\n",
       "\n",
       "    .dataframe tbody tr th {\n",
       "        vertical-align: top;\n",
       "    }\n",
       "\n",
       "    .dataframe thead th {\n",
       "        text-align: right;\n",
       "    }\n",
       "</style>\n",
       "<table border=\"1\" class=\"dataframe\">\n",
       "  <thead>\n",
       "    <tr style=\"text-align: right;\">\n",
       "      <th></th>\n",
       "      <th>sub</th>\n",
       "      <th>Condition</th>\n",
       "      <th>Event.Nr</th>\n",
       "      <th>CDA.AmpSum</th>\n",
       "      <th>expected_value</th>\n",
       "      <th>scr</th>\n",
       "      <th>index</th>\n",
       "      <th>subject</th>\n",
       "      <th>trialNo</th>\n",
       "      <th>condition</th>\n",
       "      <th>coupling</th>\n",
       "      <th>amg</th>\n",
       "      <th>Sub</th>\n",
       "      <th>group</th>\n",
       "      <th>Eprime</th>\n",
       "    </tr>\n",
       "  </thead>\n",
       "  <tbody>\n",
       "    <tr>\n",
       "      <th>0</th>\n",
       "      <td>sub-189</td>\n",
       "      <td>CSminusUS2</td>\n",
       "      <td>31</td>\n",
       "      <td>0.1891</td>\n",
       "      <td>1.377526</td>\n",
       "      <td>0.1891</td>\n",
       "      <td>1824</td>\n",
       "      <td>sub-189</td>\n",
       "      <td>31</td>\n",
       "      <td>CSminusUS2</td>\n",
       "      <td>0.309524</td>\n",
       "      <td>-0.019869</td>\n",
       "      <td>sub-189</td>\n",
       "      <td>HC</td>\n",
       "      <td>A</td>\n",
       "    </tr>\n",
       "    <tr>\n",
       "      <th>1</th>\n",
       "      <td>sub-189</td>\n",
       "      <td>CSplus2</td>\n",
       "      <td>32</td>\n",
       "      <td>0.1990</td>\n",
       "      <td>1.360865</td>\n",
       "      <td>0.1990</td>\n",
       "      <td>1825</td>\n",
       "      <td>sub-189</td>\n",
       "      <td>32</td>\n",
       "      <td>CSplus2</td>\n",
       "      <td>-0.095238</td>\n",
       "      <td>1.367512</td>\n",
       "      <td>sub-189</td>\n",
       "      <td>HC</td>\n",
       "      <td>A</td>\n",
       "    </tr>\n",
       "    <tr>\n",
       "      <th>2</th>\n",
       "      <td>sub-189</td>\n",
       "      <td>CSminus2</td>\n",
       "      <td>33</td>\n",
       "      <td>0.0109</td>\n",
       "      <td>1.344925</td>\n",
       "      <td>0.0109</td>\n",
       "      <td>1826</td>\n",
       "      <td>sub-189</td>\n",
       "      <td>33</td>\n",
       "      <td>CSminus2</td>\n",
       "      <td>-0.547619</td>\n",
       "      <td>0.636185</td>\n",
       "      <td>sub-189</td>\n",
       "      <td>HC</td>\n",
       "      <td>A</td>\n",
       "    </tr>\n",
       "    <tr>\n",
       "      <th>3</th>\n",
       "      <td>sub-189</td>\n",
       "      <td>CSminusUS2</td>\n",
       "      <td>34</td>\n",
       "      <td>0.1214</td>\n",
       "      <td>1.377174</td>\n",
       "      <td>0.1214</td>\n",
       "      <td>1827</td>\n",
       "      <td>sub-189</td>\n",
       "      <td>34</td>\n",
       "      <td>CSminusUS2</td>\n",
       "      <td>0.476190</td>\n",
       "      <td>0.615788</td>\n",
       "      <td>sub-189</td>\n",
       "      <td>HC</td>\n",
       "      <td>A</td>\n",
       "    </tr>\n",
       "    <tr>\n",
       "      <th>4</th>\n",
       "      <td>sub-189</td>\n",
       "      <td>CSplus2</td>\n",
       "      <td>35</td>\n",
       "      <td>2.0312</td>\n",
       "      <td>1.360522</td>\n",
       "      <td>2.0312</td>\n",
       "      <td>1828</td>\n",
       "      <td>sub-189</td>\n",
       "      <td>35</td>\n",
       "      <td>CSplus2</td>\n",
       "      <td>-0.547619</td>\n",
       "      <td>-0.159760</td>\n",
       "      <td>sub-189</td>\n",
       "      <td>HC</td>\n",
       "      <td>A</td>\n",
       "    </tr>\n",
       "  </tbody>\n",
       "</table>\n",
       "</div>"
      ],
      "text/plain": [
       "       sub   Condition  Event.Nr  CDA.AmpSum  expected_value     scr  index  \\\n",
       "0  sub-189  CSminusUS2        31      0.1891        1.377526  0.1891   1824   \n",
       "1  sub-189     CSplus2        32      0.1990        1.360865  0.1990   1825   \n",
       "2  sub-189    CSminus2        33      0.0109        1.344925  0.0109   1826   \n",
       "3  sub-189  CSminusUS2        34      0.1214        1.377174  0.1214   1827   \n",
       "4  sub-189     CSplus2        35      2.0312        1.360522  2.0312   1828   \n",
       "\n",
       "   subject  trialNo   condition  coupling       amg      Sub group Eprime  \n",
       "0  sub-189       31  CSminusUS2  0.309524 -0.019869  sub-189    HC      A  \n",
       "1  sub-189       32     CSplus2 -0.095238  1.367512  sub-189    HC      A  \n",
       "2  sub-189       33    CSminus2 -0.547619  0.636185  sub-189    HC      A  \n",
       "3  sub-189       34  CSminusUS2  0.476190  0.615788  sub-189    HC      A  \n",
       "4  sub-189       35     CSplus2 -0.547619 -0.159760  sub-189    HC      A  "
      ]
     },
     "execution_count": 113,
     "metadata": {},
     "output_type": "execute_result"
    }
   ],
   "source": [
    "dfAll_2 = pd.merge(scr_2, amg_hipp, right_on=['subject','trialNo'], left_on=['sub','Event.Nr'])\n",
    "dfAll_2 = pd.merge(dfAll_2, dfGroups, left_on='subject',right_on='Sub')\n",
    "\n",
    "dfAll_2.head()"
   ]
  },
  {
   "cell_type": "code",
   "execution_count": 114,
   "metadata": {},
   "outputs": [
    {
     "name": "stdout",
     "output_type": "stream",
     "text": [
      "                Mixed Linear Model Regression Results\n",
      "=====================================================================\n",
      "Model:               MixedLM    Dependent Variable:    expected_value\n",
      "No. Observations:    2535       Method:                REML          \n",
      "No. Groups:          65         Scale:                 0.1300        \n",
      "Min. group size:     39         Log-Likelihood:        -1158.2035    \n",
      "Max. group size:     39         Converged:             Yes           \n",
      "Mean group size:     39.0                                            \n",
      "---------------------------------------------------------------------\n",
      "                           Coef.  Std.Err.   z    P>|z| [0.025 0.975]\n",
      "---------------------------------------------------------------------\n",
      "Intercept                   0.338    0.062  5.418 0.000  0.216  0.461\n",
      "C(condition)[T.CSminusUS2]  0.175    0.021  8.448 0.000  0.134  0.216\n",
      "C(condition)[T.CSplus2]     0.019    0.016  1.197 0.231 -0.012  0.050\n",
      "coupling                    0.034    0.019  1.814 0.070 -0.003  0.072\n",
      "amg                        -0.026    0.017 -1.537 0.124 -0.058  0.007\n",
      "trialNo                    -0.002    0.001 -3.277 0.001 -0.003 -0.001\n",
      "subject Var                 0.173    0.088                           \n",
      "=====================================================================\n",
      "\n"
     ]
    }
   ],
   "source": [
    "glm4 = smf.mixedlm('expected_value ~ coupling*C(group) + C(condition) + amg + trialNo', data=dfAll_2, \n",
    "    groups = 'subject', \n",
    "                 missing='drop')\n",
    "model4 = glm4.fit()\n",
    "print(model4.summary())"
   ]
  },
  {
   "cell_type": "code",
   "execution_count": 116,
   "metadata": {},
   "outputs": [
    {
     "name": "stderr",
     "output_type": "stream",
     "text": [
      "/gpfs/ysm/project/joormann/oad4/conda_envs/neuroAnalysis/lib/python3.9/site-packages/seaborn/_decorators.py:36: FutureWarning: Pass the following variables as keyword args: x, y. From version 0.12, the only valid positional argument will be `data`, and passing other arguments without an explicit keyword will result in an error or misinterpretation.\n",
      "  warnings.warn(\n",
      "/gpfs/ysm/project/joormann/oad4/conda_envs/neuroAnalysis/lib/python3.9/site-packages/seaborn/_decorators.py:36: FutureWarning: Pass the following variables as keyword args: x, y. From version 0.12, the only valid positional argument will be `data`, and passing other arguments without an explicit keyword will result in an error or misinterpretation.\n",
      "  warnings.warn(\n",
      "/gpfs/ysm/project/joormann/oad4/conda_envs/neuroAnalysis/lib/python3.9/site-packages/seaborn/_decorators.py:36: FutureWarning: Pass the following variables as keyword args: x, y. From version 0.12, the only valid positional argument will be `data`, and passing other arguments without an explicit keyword will result in an error or misinterpretation.\n",
      "  warnings.warn(\n"
     ]
    },
    {
     "data": {
      "text/plain": [
       "<matplotlib.legend.Legend at 0x2b8b3c4b28e0>"
      ]
     },
     "execution_count": 116,
     "metadata": {},
     "output_type": "execute_result"
    },
    {
     "data": {
      "image/png": "[encoded data removed]",
      "text/plain": [
       "<Figure size 864x504 with 1 Axes>"
      ]
     },
     "metadata": {
      "needs_background": "light"
     },
     "output_type": "display_data"
    }
   ],
   "source": [
    "# all experiment\n",
    "forPlot = dfAll_2.groupby(['group','Event.Nr']).mean()\n",
    "sns.regplot(forPlot['expected_value']['HC'], forPlot['coupling']['HC'], label='HC')\n",
    "sns.regplot(forPlot['expected_value']['VCC'], forPlot['coupling']['VCC'], label='CC')\n",
    "sns.regplot(forPlot['expected_value']['VPTSD'], forPlot['coupling']['VPTSD'], label='PTSD')\n",
    "plt.legend()"
   ]
  }
 ],
 "metadata": {
  "interpreter": {
   "hash": "5e405ff2f839620d6a09f52036c3a6f28ae3d8af733c0d3b4601cc4729e2f166"
  },
  "kernelspec": {
   "display_name": "Python 3 (ipykernel)",
   "language": "python",
   "name": "python3"
  },
  "language_info": {
   "codemirror_mode": {
    "name": "ipython",
    "version": 3
   },
   "file_extension": ".py",
   "mimetype": "text/x-python",
   "name": "python",
   "nbconvert_exporter": "python",
   "pygments_lexer": "ipython3",
   "version": "3.9.7"
  }
 },
 "nbformat": 4,
 "nbformat_minor": 4
}
