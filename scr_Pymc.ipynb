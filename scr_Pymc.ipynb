{
 "cells": [
  {
   "cell_type": "markdown",
   "metadata": {},
   "source": [
    "# Use PyMC Model for Bayes Hierarchical RL\n",
    "- Estimate learning rate (i.e. alpha) for each subject using this model"
   ]
  },
  {
   "cell_type": "code",
   "execution_count": 1,
   "metadata": {},
   "outputs": [],
   "source": [
    "%config Completer.use_jedi = False\n",
    "\n",
    "import pandas as pd\n",
    "import numpy as np\n",
    "import matplotlib.pyplot as plt\n",
    "import seaborn as sns\n",
    "import theano\n",
    "import theano.tensor as tt\n",
    "import scipy\n",
    "import os\n",
    "# import stan\n",
    "\n",
    "import pymc3 as pm\n",
    "import arviz as az\n",
    "# import learning package\n",
    "#import DMpy"
   ]
  },
  {
   "cell_type": "code",
   "execution_count": 2,
   "metadata": {},
   "outputs": [
    {
     "data": {
      "text/html": [
       "<div>\n",
       "<style scoped>\n",
       "    .dataframe tbody tr th:only-of-type {\n",
       "        vertical-align: middle;\n",
       "    }\n",
       "\n",
       "    .dataframe tbody tr th {\n",
       "        vertical-align: top;\n",
       "    }\n",
       "\n",
       "    .dataframe thead th {\n",
       "        text-align: right;\n",
       "    }\n",
       "</style>\n",
       "<table border=\"1\" class=\"dataframe\">\n",
       "  <thead>\n",
       "    <tr style=\"text-align: right;\">\n",
       "      <th></th>\n",
       "      <th>Event.Nr</th>\n",
       "      <th>CDA.nSCR</th>\n",
       "      <th>CDA.Latency</th>\n",
       "      <th>CDA.AmpSum</th>\n",
       "      <th>CDA.SCR</th>\n",
       "      <th>CDA.ISCR</th>\n",
       "      <th>CDA.PhasicMax</th>\n",
       "      <th>CDA.Tonic</th>\n",
       "      <th>TTP.nSCR</th>\n",
       "      <th>TTP.Latency</th>\n",
       "      <th>TTP.AmpSum</th>\n",
       "      <th>Global.Mean</th>\n",
       "      <th>Global.MaxDeflection</th>\n",
       "      <th>Event.NID</th>\n",
       "      <th>Event.Name</th>\n",
       "      <th>Condition</th>\n",
       "      <th>group</th>\n",
       "      <th>sub</th>\n",
       "    </tr>\n",
       "  </thead>\n",
       "  <tbody>\n",
       "    <tr>\n",
       "      <th>0</th>\n",
       "      <td>1</td>\n",
       "      <td>5</td>\n",
       "      <td>0.8435</td>\n",
       "      <td>0.2852</td>\n",
       "      <td>0.0003</td>\n",
       "      <td>0.1339</td>\n",
       "      <td>8.1296</td>\n",
       "      <td>2.3324</td>\n",
       "      <td>1</td>\n",
       "      <td>3.9335</td>\n",
       "      <td>0.5884</td>\n",
       "      <td>2.4822</td>\n",
       "      <td>0.5884</td>\n",
       "      <td>5</td>\n",
       "      <td>5</td>\n",
       "      <td>CSplusUS1</td>\n",
       "      <td>HC</td>\n",
       "      <td>189</td>\n",
       "    </tr>\n",
       "    <tr>\n",
       "      <th>1</th>\n",
       "      <td>2</td>\n",
       "      <td>4</td>\n",
       "      <td>0.7335</td>\n",
       "      <td>0.1033</td>\n",
       "      <td>0.0012</td>\n",
       "      <td>0.4737</td>\n",
       "      <td>0.3046</td>\n",
       "      <td>4.0029</td>\n",
       "      <td>0</td>\n",
       "      <td>NaN</td>\n",
       "      <td>0.0000</td>\n",
       "      <td>4.3933</td>\n",
       "      <td>0.0000</td>\n",
       "      <td>5</td>\n",
       "      <td>5</td>\n",
       "      <td>CSminus1</td>\n",
       "      <td>HC</td>\n",
       "      <td>189</td>\n",
       "    </tr>\n",
       "    <tr>\n",
       "      <th>2</th>\n",
       "      <td>3</td>\n",
       "      <td>3</td>\n",
       "      <td>2.9835</td>\n",
       "      <td>0.0783</td>\n",
       "      <td>0.0008</td>\n",
       "      <td>0.3237</td>\n",
       "      <td>0.1352</td>\n",
       "      <td>3.9579</td>\n",
       "      <td>1</td>\n",
       "      <td>2.8335</td>\n",
       "      <td>0.0260</td>\n",
       "      <td>3.9900</td>\n",
       "      <td>0.0154</td>\n",
       "      <td>5</td>\n",
       "      <td>5</td>\n",
       "      <td>CSplus1</td>\n",
       "      <td>HC</td>\n",
       "      <td>189</td>\n",
       "    </tr>\n",
       "    <tr>\n",
       "      <th>3</th>\n",
       "      <td>4</td>\n",
       "      <td>1</td>\n",
       "      <td>3.4935</td>\n",
       "      <td>0.1772</td>\n",
       "      <td>0.0002</td>\n",
       "      <td>0.0993</td>\n",
       "      <td>7.0748</td>\n",
       "      <td>3.8756</td>\n",
       "      <td>1</td>\n",
       "      <td>3.5335</td>\n",
       "      <td>0.5186</td>\n",
       "      <td>3.9212</td>\n",
       "      <td>0.5186</td>\n",
       "      <td>5</td>\n",
       "      <td>5</td>\n",
       "      <td>CSplusUS1</td>\n",
       "      <td>HC</td>\n",
       "      <td>189</td>\n",
       "    </tr>\n",
       "    <tr>\n",
       "      <th>4</th>\n",
       "      <td>5</td>\n",
       "      <td>0</td>\n",
       "      <td>NaN</td>\n",
       "      <td>0.0000</td>\n",
       "      <td>0.0004</td>\n",
       "      <td>0.1532</td>\n",
       "      <td>0.1604</td>\n",
       "      <td>4.2513</td>\n",
       "      <td>0</td>\n",
       "      <td>NaN</td>\n",
       "      <td>0.0000</td>\n",
       "      <td>4.3461</td>\n",
       "      <td>0.0000</td>\n",
       "      <td>5</td>\n",
       "      <td>5</td>\n",
       "      <td>CSminus1</td>\n",
       "      <td>HC</td>\n",
       "      <td>189</td>\n",
       "    </tr>\n",
       "  </tbody>\n",
       "</table>\n",
       "</div>"
      ],
      "text/plain": [
       "   Event.Nr  CDA.nSCR CDA.Latency  CDA.AmpSum  CDA.SCR  CDA.ISCR  \\\n",
       "0         1         5      0.8435      0.2852   0.0003    0.1339   \n",
       "1         2         4      0.7335      0.1033   0.0012    0.4737   \n",
       "2         3         3      2.9835      0.0783   0.0008    0.3237   \n",
       "3         4         1      3.4935      0.1772   0.0002    0.0993   \n",
       "4         5         0         NaN      0.0000   0.0004    0.1532   \n",
       "\n",
       "   CDA.PhasicMax  CDA.Tonic  TTP.nSCR TTP.Latency  TTP.AmpSum  Global.Mean  \\\n",
       "0         8.1296     2.3324         1      3.9335      0.5884       2.4822   \n",
       "1         0.3046     4.0029         0         NaN      0.0000       4.3933   \n",
       "2         0.1352     3.9579         1      2.8335      0.0260       3.9900   \n",
       "3         7.0748     3.8756         1      3.5335      0.5186       3.9212   \n",
       "4         0.1604     4.2513         0         NaN      0.0000       4.3461   \n",
       "\n",
       "   Global.MaxDeflection  Event.NID  Event.Name  Condition group  sub  \n",
       "0                0.5884          5           5  CSplusUS1    HC  189  \n",
       "1                0.0000          5           5   CSminus1    HC  189  \n",
       "2                0.0154          5           5    CSplus1    HC  189  \n",
       "3                0.5186          5           5  CSplusUS1    HC  189  \n",
       "4                0.0000          5           5   CSminus1    HC  189  "
      ]
     },
     "execution_count": 2,
     "metadata": {},
     "output_type": "execute_result"
    }
   ],
   "source": [
    "# read scr file\n",
    "#scr = pd.read_csv('/media/Data/Lab_Projects/PTSD_Reversal/Behavioral/SCR3.csv')\n",
    "scr = pd.read_csv('Behavioral/SCR3.csv')\n",
    "scr.head()\n"
   ]
  },
  {
   "cell_type": "code",
   "execution_count": 3,
   "metadata": {},
   "outputs": [],
   "source": [
    "scr = scr[['sub','Condition','Event.Nr','CDA.AmpSum']]\n",
    "scr['sub'] = scr['sub'].astype('string')\n",
    "for i in scr.iterrows():\n",
    "    if len(i[1]['sub'])<=2:\n",
    "        #print(i[1]['sub'])\n",
    "        sub = 'sub-0' + str(i[1]['sub'])\n",
    "    else:\n",
    "        sub = 'sub-' + str(i[1]['sub'])\n",
    "    #print(sub)\n",
    "    scr.at[i[0], 'sub'] = sub\n",
    "    "
   ]
  },
  {
   "cell_type": "code",
   "execution_count": 4,
   "metadata": {},
   "outputs": [
    {
     "data": {
      "text/plain": [
       "101"
      ]
     },
     "execution_count": 4,
     "metadata": {},
     "output_type": "execute_result"
    }
   ],
   "source": [
    "len(scr['sub'].unique())"
   ]
  },
  {
   "cell_type": "code",
   "execution_count": 5,
   "metadata": {},
   "outputs": [
    {
     "data": {
      "text/plain": [
       "86"
      ]
     },
     "execution_count": 5,
     "metadata": {},
     "output_type": "execute_result"
    }
   ],
   "source": [
    "# grab subjects with 69 trials\n",
    "scr_clean = scr.copy() # make a copy of original\n",
    "for sub in scr['sub'].unique():\n",
    "    df = scr[scr['sub']==sub]\n",
    "    #print (len(df))\n",
    "    if len(df)<69:\n",
    "        scr_clean = scr_clean[scr_clean['sub']!=sub]\n",
    "len(scr_clean['sub'].unique()) # total of 86 valid subjects"
   ]
  },
  {
   "cell_type": "code",
   "execution_count": 6,
   "metadata": {},
   "outputs": [
    {
     "data": {
      "text/plain": [
       "array([ 1,  2,  3, ..., 67, 68, 69])"
      ]
     },
     "execution_count": 6,
     "metadata": {},
     "output_type": "execute_result"
    }
   ],
   "source": [
    "# grab just two subjects for now\n",
    "scrTwo = scr_clean#[(scr['sub']==152) |(scr['sub']==189) | (scr['sub']==86) | (scr['sub']==48)]\n",
    "scrTwo['Event.Nr'].values"
   ]
  },
  {
   "cell_type": "markdown",
   "metadata": {},
   "source": [
    "Organize the data for the analysis"
   ]
  },
  {
   "cell_type": "code",
   "execution_count": 7,
   "metadata": {},
   "outputs": [
    {
     "name": "stdout",
     "output_type": "stream",
     "text": [
      "(5934,)\n",
      "(5934,)\n",
      "(5934,)\n"
     ]
    }
   ],
   "source": [
    "# organize data accordingly\n",
    "# first, grab just the relevant variables (subject, trial, stimuli, shock)\n",
    "# we need to generate a new variable shock (1=yes, 0=no)\n",
    "# we also need a new variable stim (1=CS+, 2=CS-)\n",
    "scrVec = scrTwo['CDA.AmpSum'].values\n",
    "print(scrVec.shape)\n",
    "shockVec = np.zeros(len(scrVec), dtype=np.int32) # vector to capture shock (1=yes, 0=no)\n",
    "stimVec = np.zeros(len(scrVec), dtype=np.int32) # vector to capture stimulus (1=CS+, 2= CS-)\n",
    "\n",
    "for i, cond in enumerate(scrTwo['Condition'].values):\n",
    "    if cond=='CSplusUS1':\n",
    "        shockVec[i]= 1\n",
    "        stimVec[i] = 1\n",
    "    elif cond=='CSminusUS2':\n",
    "            # after reversal so minus becomes plus\n",
    "        shockVec[i]= 1\n",
    "        stimVec[i] = 0\n",
    "    elif cond=='CSplus2':\n",
    "            # after reversal so plus becomes minus\n",
    "            shockVec[i]=0\n",
    "            stimVec[i] = 1\n",
    "    elif cond=='CSplus1':\n",
    "            stimVec[i] = 1\n",
    "            shockVec[i]= 0\n",
    "    elif cond=='CSminus1':\n",
    "            stimVec[i] = 0\n",
    "            shockVec[i] = 0\n",
    "    elif cond=='CSminus2':\n",
    "        stimVec[i] = 0\n",
    "        shockVec[i] = 0\n",
    "    else:\n",
    "        print(f' Condition is {cond}')\n",
    "        stimVec[i] = 9\n",
    "        shockVec[i] = 9\n",
    "print(shockVec.shape)\n",
    "print(stimVec.shape)"
   ]
  },
  {
   "cell_type": "code",
   "execution_count": 8,
   "metadata": {},
   "outputs": [],
   "source": [
    "n_trials, n_subj = 69,len(scrTwo['sub'].unique())\n",
    "trials, subj = np.meshgrid(range(n_trials), range(n_subj))\n",
    "trials = tt.as_tensor_variable(trials.T)\n",
    "subj = tt.as_tensor_variable(subj.T)\n",
    "stim = np.reshape(stimVec, (n_subj,n_trials)).T # transform to matrix trials x subject\n",
    "shock = np.reshape(shockVec, (n_subj,n_trials)).T \n",
    "scrMat = np.reshape(scrVec, (n_subj, n_trials)).T"
   ]
  },
  {
   "cell_type": "code",
   "execution_count": 9,
   "metadata": {},
   "outputs": [],
   "source": [
    "stim = tt.as_tensor_variable(stim)\n",
    "shock = tt.as_tensor_variable(shock)\n"
   ]
  },
  {
   "cell_type": "markdown",
   "metadata": {},
   "source": [
    "# Build PyMC code"
   ]
  },
  {
   "cell_type": "code",
   "execution_count": 10,
   "metadata": {},
   "outputs": [],
   "source": [
    "#scrs = tt.zeros(30) # set empty scr tensor (vector)\n",
    "   \n",
    "# generate functions to run\n",
    "def update_Q(stim, shock,\n",
    "             Qs,vec,\n",
    "             alpha, n_subj):\n",
    "    \"\"\"\n",
    "    This function updates the Q table according to the RL update rule.\n",
    "    It will be called by theano.scan to do so recursevely, given the observed data and the alpha parameter\n",
    "    This could have been replaced be the following lamba expression in the theano.scan fn argument:\n",
    "        fn=lamba action, reward, Qs, alpha: tt.set_subtensor(Qs[action], Qs[action] + alpha * (reward - Qs[action]))\n",
    "    \"\"\"\n",
    "      \n",
    "    PE = shock - Qs[tt.arange(n_subj), stim]\n",
    "    Qs = tt.set_subtensor(Qs[tt.arange(n_subj),stim], Qs[tt.arange(n_subj),stim] + alpha * PE)\n",
    "    \n",
    "    # in order to get a vector of expected outcome (dependent on the stimulus presentes [CS+, CS-] \n",
    "    # we us if statement (switch in theano)\n",
    "    vec = tt.set_subtensor(vec[tt.arange(n_subj),0], (tt.switch(tt.eq(stim,1), \n",
    "                                                                Qs[tt.arange(n_subj),1], Qs[tt.arange(n_subj),0])))\n",
    "    \n",
    "    return Qs, vec, PE\n",
    "\n",
    "def theano_llik_td(alpha,  stim, shock, n_subj):\n",
    "   # stim = theano.shared(np.asarray(stim, dtype='int16'))\n",
    "   # shock = theano.shared(np.asarray(shock, dtype='int16'))\n",
    "\n",
    "    # Compute the Qs values\n",
    "    Qs = 0.5 * tt.ones((n_subj,2), dtype='float64') # set values for boths stimuli (CS+, CS-)\n",
    "    vec = 0.5 * tt.ones((n_subj,1), dtype='float64') # vector to save the relevant stimulus's expactation\n",
    "    [Qs,vec, PE], updates = theano.scan(\n",
    "        fn=update_Q,\n",
    "        sequences=[stim, shock],\n",
    "        outputs_info=[Qs, vec, None],\n",
    "        non_sequences=[alpha, n_subj])\n",
    "\n",
    "       \n",
    "    return Qs, vec, PE"
   ]
  },
  {
   "cell_type": "code",
   "execution_count": null,
   "metadata": {
    "tags": []
   },
   "outputs": [],
   "source": [
    "with pm.Model() as m:\n",
    "  \n",
    "      \n",
    "    alpha = pm.Beta('alpha', 1,1, shape=n_subj)\n",
    "    beta = pm.Normal('beta',0, 1, shape=n_subj)\n",
    "    eps = pm.HalfNormal('eps', 5)\n",
    "    \n",
    "    Qs = 0.5 * tt.ones((n_subj,2), dtype='float64') # set values for boths stimuli (CS+, CS-)\n",
    "    vec = 0.5 * tt.ones((n_subj,1), dtype='float64') # vector to save the relevant stimulus's expactation\n",
    "    \n",
    "    [Qs,vec, pe], updates = theano.scan(\n",
    "        fn=update_Q,\n",
    "        sequences=[stim, shock],\n",
    "        outputs_info=[Qs, vec, None],\n",
    "        non_sequences=[alpha, n_subj])\n",
    "   \n",
    "    \n",
    "    vec_ = vec[trials, subj,0] * beta[subj]\n",
    "    \n",
    "    scrs = pm.Normal('scrs', vec_, eps, observed=scrMat) \n",
    "    \n",
    "    # add matrix of expected values (trials X subjects)\n",
    "    ev = pm.Deterministic('expected_value', vec_)\n",
    "    # add PE\n",
    "    pe = pm.Deterministic('pe', pe)\n",
    "    \n",
    "    tr = pm.sample(target_accept=.9, chains=4, cores=10, return_inferencedata=True)"
   ]
  },
  {
   "cell_type": "code",
   "execution_count": null,
   "metadata": {},
   "outputs": [],
   "source": [
    "az.plot_trace(tr, var_names='alpha')"
   ]
  },
  {
   "cell_type": "code",
   "execution_count": null,
   "metadata": {},
   "outputs": [],
   "source": [
    "az.summary(tr, var_names='alpha')"
   ]
  },
  {
   "cell_type": "markdown",
   "metadata": {},
   "source": [
    "# Add intercept"
   ]
  },
  {
   "cell_type": "code",
   "execution_count": null,
   "metadata": {},
   "outputs": [],
   "source": [
    "# try alpha as beta distribution\n",
    "with pm.Model() as m2:\n",
    "  \n",
    "    intercept = pm.Normal('intercept', 0,.5, shape=n_subj)  \n",
    "    alpha = pm.Beta('alpha', 1,1, shape=n_subj)\n",
    "    beta = pm.Normal('beta',0, .5, shape=n_subj)\n",
    "    eps = pm.HalfNormal('eps', 1)\n",
    "    \n",
    "    Qs = 0.5 * tt.ones((n_subj,2), dtype='float64') # set values for boths stimuli (CS+, CS-)\n",
    "    vec = 0.5 * tt.ones((n_subj,1), dtype='float64') # vector to save the relevant stimulus's expactation\n",
    "    \n",
    "    [Qs,vec], updates = theano.scan(\n",
    "        fn=update_Q,\n",
    "        sequences=[stim, shock],\n",
    "        outputs_info=[Qs, vec],\n",
    "        non_sequences=[alpha, n_subj])\n",
    "   \n",
    "    \n",
    "    vec_ = intercept[subj] + vec[trials, subj,0] * beta[subj]\n",
    "    \n",
    "    scrs = pm.Normal('scrs', vec_, eps, observed=scrMat) \n",
    "    \n",
    "    trI = pm.sample(target_accept=.9, chains=4, cores=10, return_inferencedata=True)"
   ]
  },
  {
   "cell_type": "code",
   "execution_count": null,
   "metadata": {},
   "outputs": [],
   "source": [
    "az.summary(trI)"
   ]
  },
  {
   "cell_type": "code",
   "execution_count": null,
   "metadata": {},
   "outputs": [],
   "source": [
    "az.compare({'model1': tr, 'model2_intercept':trI}) "
   ]
  },
  {
   "cell_type": "markdown",
   "metadata": {},
   "source": [
    "# Set intercept as all subjects"
   ]
  },
  {
   "cell_type": "code",
   "execution_count": null,
   "metadata": {},
   "outputs": [],
   "source": [
    "with pm.Model() as m3:\n",
    "  \n",
    "    intercept = pm.Normal('intercept', 0,.5)  \n",
    "    alpha = pm.Beta('alpha', 1,1, shape=n_subj)\n",
    "    beta = pm.Normal('beta',0, .5, shape=n_subj)\n",
    "    eps = pm.HalfNormal('eps', 1)\n",
    "    \n",
    "    Qs = 0.5 * tt.ones((n_subj,2), dtype='float64') # set values for boths stimuli (CS+, CS-)\n",
    "    vec = 0.5 * tt.ones((n_subj,1), dtype='float64') # vector to save the relevant stimulus's expactation\n",
    "    \n",
    "    [Qs,vec], updates = theano.scan(\n",
    "        fn=update_Q,\n",
    "        sequences=[stim, shock],\n",
    "        outputs_info=[Qs, vec],\n",
    "        non_sequences=[alpha, n_subj])\n",
    "   \n",
    "    \n",
    "    vec_ = intercept + vec[trials, subj,0] * beta[subj]\n",
    "    \n",
    "    scrs = pm.Normal('scrs', vec_, eps, observed=scrMat) \n",
    "    \n",
    "    tr3 = pm.sample(target_accept=.9, chains=4, cores=10, return_inferencedata=True)"
   ]
  },
  {
   "cell_type": "code",
   "execution_count": null,
   "metadata": {},
   "outputs": [],
   "source": [
    "az.summary(tr3)"
   ]
  },
  {
   "cell_type": "code",
   "execution_count": null,
   "metadata": {},
   "outputs": [],
   "source": [
    "az.compare({'model1': tr, 'model2_intercept':trI, 'model3_jointIntercept':tr3}) "
   ]
  },
  {
   "cell_type": "markdown",
   "metadata": {},
   "source": [
    "# Joint Slope"
   ]
  },
  {
   "cell_type": "code",
   "execution_count": null,
   "metadata": {},
   "outputs": [],
   "source": [
    "with pm.Model() as m4:\n",
    "  \n",
    "    intercept = pm.Normal('intercept', 0,.5,  shape=n_subj)  \n",
    "    alpha = pm.Beta('alpha', 1,1, shape=n_subj)\n",
    "    beta = pm.Normal('beta',0, .5)\n",
    "    eps = pm.HalfNormal('eps', 1)\n",
    "    \n",
    "    Qs = 0.5 * tt.ones((n_subj,2), dtype='float64') # set values for boths stimuli (CS+, CS-)\n",
    "    vec = 0.5 * tt.ones((n_subj,1), dtype='float64') # vector to save the relevant stimulus's expactation\n",
    "    \n",
    "    [Qs,vec], updates = theano.scan(\n",
    "        fn=update_Q,\n",
    "        sequences=[stim, shock],\n",
    "        outputs_info=[Qs, vec],\n",
    "        non_sequences=[alpha, n_subj])\n",
    "   \n",
    "    \n",
    "    vec_ = intercept[subj] + vec[trials, subj,0] * beta\n",
    "    \n",
    "    scrs = pm.Normal('scrs', vec_, eps, observed=scrMat) \n",
    "    \n",
    "    tr4 = pm.sample(target_accept=.9, chains=4, cores=10, return_inferencedata=True)"
   ]
  },
  {
   "cell_type": "code",
   "execution_count": null,
   "metadata": {},
   "outputs": [],
   "source": [
    "az.summary(tr4)"
   ]
  },
  {
   "cell_type": "code",
   "execution_count": null,
   "metadata": {},
   "outputs": [],
   "source": [
    "az.compare({'model1': tr, 'model2_intercept':trI, 'model3_jointIntercept':tr3,\n",
    "           'model4_jointBeta':tr4}) "
   ]
  },
  {
   "cell_type": "markdown",
   "metadata": {},
   "source": [
    "# Both intercept and slope are joined"
   ]
  },
  {
   "cell_type": "code",
   "execution_count": null,
   "metadata": {},
   "outputs": [],
   "source": [
    "with pm.Model() as m5:\n",
    "  \n",
    "    intercept = pm.Normal('intercept', 0,.5)  \n",
    "    alpha = pm.Beta('alpha', 1,1, shape=n_subj)\n",
    "    beta = pm.Normal('beta',0, .5)\n",
    "    eps = pm.HalfNormal('eps', 1)\n",
    "    \n",
    "    Qs = 0.5 * tt.ones((n_subj,2), dtype='float64') # set values for boths stimuli (CS+, CS-)\n",
    "    vec = 0.5 * tt.ones((n_subj,1), dtype='float64') # vector to save the relevant stimulus's expactation\n",
    "    \n",
    "    [Qs,vec], updates = theano.scan(\n",
    "        fn=update_Q,\n",
    "        sequences=[stim, shock],\n",
    "        outputs_info=[Qs, vec],\n",
    "        non_sequences=[alpha, n_subj])\n",
    "   \n",
    "    \n",
    "    vec_ = intercept + vec[trials, subj,0] * beta\n",
    "    \n",
    "    scrs = pm.Normal('scrs', vec_, eps, observed=scrMat) \n",
    "    # add matrix of expected values (trials X subjects)\n",
    "    ev = pm.Deterministic('expected_value', vec_)\n",
    "    \n",
    "    tr5 = pm.sample(target_accept=.9, chains=4, cores=10, return_inferencedata=True)"
   ]
  },
  {
   "cell_type": "code",
   "execution_count": null,
   "metadata": {},
   "outputs": [],
   "source": [
    "az.summary(tr5)"
   ]
  },
  {
   "cell_type": "code",
   "execution_count": null,
   "metadata": {},
   "outputs": [],
   "source": [
    "az.compare({'model1': tr, 'model2_intercept':trI, 'model3_jointIntercept':tr3,\n",
    "           'model4_jointBeta':tr4, 'model5': tr5}) "
   ]
  },
  {
   "cell_type": "markdown",
   "metadata": {},
   "source": [
    "## Use reparametarization on $\\alpha$"
   ]
  },
  {
   "cell_type": "code",
   "execution_count": null,
   "metadata": {},
   "outputs": [],
   "source": [
    "with pm.Model() as m_pooled:\n",
    "    \n",
    "    intercept = pm.Normal('intercept', 0, 2)\n",
    "    alpha_mu = pm.Beta('alpha_mu', 1, 1)\n",
    "    alpha_sd = pm.HalfNormal('alpha_sd',.5)\n",
    "    alpha_matt = pm.Normal('alpha_matt', mu=0, sd=1, shape=n_subj)\n",
    "    alpha = pm.Deterministic('alpha', alpha_mu + alpha_sd * alpha_matt)\n",
    "    beta = pm.Normal('beta',0, 5, shape= n_subj)\n",
    "    eps = pm.HalfNormal('eps', 5)\n",
    "  \n",
    "    Qs = 0.5 * tt.ones((n_subj,2), dtype='float64') # set values for boths stimuli (CS+, CS-)\n",
    "    vec = 0.5 * tt.ones((n_subj,1), dtype='float64') # vector to save the relevant stimulus's expactation\n",
    "    \n",
    "    [Qs,vec], updates = theano.scan(\n",
    "        fn=update_Q,\n",
    "        sequences=[stim, shock],\n",
    "        outputs_info=[Qs, vec],\n",
    "        non_sequences=[alpha, n_subj])\n",
    "   \n",
    "    \n",
    "    vec_ = intercept + vec[trials, subj,0] * beta[subj]\n",
    "    \n",
    "    scrs = pm.Normal('scrs', vec_, eps, observed=scrMat) \n",
    "    \n",
    "    trH_1 = pm.sample(target_accept=.9, chains=4, cores=8, return_inferencedata=True)"
   ]
  },
  {
   "cell_type": "code",
   "execution_count": null,
   "metadata": {
    "tags": []
   },
   "outputs": [],
   "source": [
    "az.summary(trH_1)"
   ]
  },
  {
   "cell_type": "code",
   "execution_count": null,
   "metadata": {},
   "outputs": [],
   "source": [
    "az.compare({'model1': tr, 'model2_intercept':trI, 'model3_jointIntercept':tr3,\n",
    "           'model4_jointBeta':tr4, 'model5': tr5, 'pooledAlpha':trH_1}) "
   ]
  },
  {
   "cell_type": "markdown",
   "metadata": {},
   "source": [
    "# Pooling intercet , slope and alpha"
   ]
  },
  {
   "cell_type": "code",
   "execution_count": null,
   "metadata": {},
   "outputs": [],
   "source": [
    "with pm.Model() as m_pooled2:\n",
    "    \n",
    "    intercept_mu = pm.Normal('intercept_mu', 0, 1)\n",
    "    intercept_sd = pm.HalfNormal('intercept_sd',5)\n",
    "    intercept_matt = pm.Normal('alpha_matt', mu=0, sd=1, shape=n_subj)\n",
    "    intercept = pm.Deterministic('intercept',intercept_mu + intercept_sd * intercept_matt)\n",
    "    \n",
    "    alpha = pm.Beta('alpha', 1, 1, shape = n_subj)\n",
    "   \n",
    "    beta_mu = pm.Normal('beta_mu', 0,1)\n",
    "    beta_sd = pm.HalfNormal('beta_sd', 5)\n",
    "    beta_matt = pm.Normal('beta_matt', 0,1, shape=n_subj)\n",
    "    beta = pm.Deterministic('beta', beta_mu + beta_sd*beta_matt)\n",
    "    eps = pm.HalfNormal('eps', 5)\n",
    "  \n",
    "    Qs = 0.5 * tt.ones((n_subj,2), dtype='float64') # set values for boths stimuli (CS+, CS-)\n",
    "    vec = 0.5 * tt.ones((n_subj,1), dtype='float64') # vector to save the relevant stimulus's expactation\n",
    "    \n",
    "    [Qs,vec], updates = theano.scan(\n",
    "        fn=update_Q,\n",
    "        sequences=[stim, shock],\n",
    "        outputs_info=[Qs, vec],\n",
    "        non_sequences=[alpha, n_subj])\n",
    "   \n",
    "    \n",
    "    vec_ = intercept[subj] + vec[trials, subj,0] * beta[subj]\n",
    "    \n",
    "    scrs = pm.Normal('scrs', vec_, eps, observed=scrMat) \n",
    "    \n",
    "    trH_2 = pm.sample(target_accept=.9, chains=4, cores=10, return_inferencedata=True)"
   ]
  },
  {
   "cell_type": "code",
   "execution_count": null,
   "metadata": {},
   "outputs": [],
   "source": [
    "az.compare({'model1': tr, 'model2_intercept':trI, 'model3_jointIntercept':tr3,\n",
    "           'model4_jointBeta':tr4, 'model5': tr5, 'pooledAlpha':trH_1, 'fully_pooled':trH_2}) "
   ]
  },
  {
   "cell_type": "markdown",
   "metadata": {},
   "source": [
    "# Similar to Stan model"
   ]
  },
  {
   "cell_type": "code",
   "execution_count": null,
   "metadata": {
    "tags": []
   },
   "outputs": [],
   "source": [
    "with pm.Model() as m_stan:\n",
    "    mu = pm.Normal('mu', 0, 1, shape=3)\n",
    "    sd = pm.HalfNormal('sd',5, shape=3)\n",
    "     \n",
    "    intercept_matt = pm.Normal('intercept_matt', mu=0, sd=1, shape=n_subj)\n",
    "    intercept = pm.Deterministic('intercept',intercept_matt + mu[1]*sd[1] )\n",
    "    \n",
    "    \n",
    "    alpha_h = pm.Beta('alpha_h',1,  1, shape = n_subj)\n",
    "    alpha = pm.Deterministic('alpha', alpha_h + mu[0]* sd[0])\n",
    "    \n",
    "    \n",
    "    beta_matt = pm.Normal('beta_matt',0, 1, shape=n_subj)\n",
    "    beta = pm.Deterministic('beta', beta_matt + mu[2]*sd[2])\n",
    "    \n",
    "    eps = pm.HalfNormal('eps', 5)\n",
    "  \n",
    "    Qs = 0.5 * tt.ones((n_subj,2), dtype='float64') # set values for boths stimuli (CS+, CS-)\n",
    "    vec = 0.5 * tt.ones((n_subj,1), dtype='float64') # vector to save the relevant stimulus's expactation\n",
    "    \n",
    "    [Qs,vec], updates = theano.scan(\n",
    "        fn=update_Q,\n",
    "        sequences=[stim, shock],\n",
    "        outputs_info=[Qs, vec],\n",
    "        non_sequences=[alpha, n_subj])\n",
    "   \n",
    "    \n",
    "    vec_ = intercept[subj] + vec[trials, subj,0] * beta[subj]\n",
    "    \n",
    "    scrs = pm.Normal('scrs', vec_, eps, observed=scrMat) \n",
    "    \n",
    "    trH_Stan = pm.sample(target_accept=.9, chains=4, cores=10, return_inferencedata=True)"
   ]
  },
  {
   "cell_type": "markdown",
   "metadata": {},
   "source": [
    "# Model using hyperparameter in different way\n",
    "- For reference:\n",
    "https://docs.pymc.io/en/v3/pymc-examples/examples/case_studies/hierarchical_partial_pooling.html"
   ]
  },
  {
   "cell_type": "code",
   "execution_count": 11,
   "metadata": {},
   "outputs": [
    {
     "name": "stderr",
     "output_type": "stream",
     "text": [
      "Auto-assigning NUTS sampler...\n",
      "Initializing NUTS using jitter+adapt_diag...\n",
      "Multiprocess sampling (4 chains in 10 jobs)\n",
      "NUTS: [eps, beta, beta_sd, beta_h, alpha, kappa_log, phi]\n"
     ]
    },
    {
     "data": {
      "text/html": [
       "\n",
       "    <div>\n",
       "        <style>\n",
       "            /* Turns off some styling */\n",
       "            progress {\n",
       "                /* gets rid of default border in Firefox and Opera. */\n",
       "                border: none;\n",
       "                /* Needs to be in here for Safari polyfill so background images work as expected. */\n",
       "                background-size: auto;\n",
       "            }\n",
       "            .progress-bar-interrupted, .progress-bar-interrupted::-webkit-progress-bar {\n",
       "                background: #F44336;\n",
       "            }\n",
       "        </style>\n",
       "      <progress value='8000' class='' max='8000' style='width:300px; height:20px; vertical-align: middle;'></progress>\n",
       "      100.00% [8000/8000 13:44<00:00 Sampling 4 chains, 0 divergences]\n",
       "    </div>\n",
       "    "
      ],
      "text/plain": [
       "<IPython.core.display.HTML object>"
      ]
     },
     "metadata": {},
     "output_type": "display_data"
    },
    {
     "name": "stderr",
     "output_type": "stream",
     "text": [
      "Sampling 4 chains for 1_000 tune and 1_000 draw iterations (4_000 + 4_000 draws total) took 826 seconds.\n"
     ]
    }
   ],
   "source": [
    "with pm.Model() as m5:\n",
    "    \n",
    "    # α\n",
    "    phi = pm.Uniform(\"phi\", lower=0.0, upper=1.0)\n",
    "    kappa_log = pm.Exponential(\"kappa_log\", lam=1.5)\n",
    "    kappa = pm.Deterministic(\"kappa\", tt.exp(kappa_log))\n",
    "    alpha = pm.Beta(\"alpha\", alpha=phi * kappa, beta=(1.0 - phi) * kappa, shape=n_subj)\n",
    "    \n",
    "    # β\n",
    "    beta_h = pm.Normal('beta_h', 0,1)\n",
    "    beta_sd = pm.HalfNormal('beta_sd', 5)\n",
    "    beta = pm.Normal('beta',beta_h, beta_sd, shape=n_subj)\n",
    "       \n",
    "    eps = pm.HalfNormal('eps', 5)\n",
    "    \n",
    "    Qs = 0.5 * tt.ones((n_subj,2), dtype='float64') # set values for boths stimuli (CS+, CS-)\n",
    "    vec = 0.5 * tt.ones((n_subj,1), dtype='float64') # vector to save the relevant stimulus's expactation\n",
    "    \n",
    "    [Qs,vec, pe], updates = theano.scan(\n",
    "        fn=update_Q,\n",
    "        sequences=[stim, shock],\n",
    "        outputs_info=[Qs, vec, None],\n",
    "        non_sequences=[alpha, n_subj])\n",
    "   \n",
    "     \n",
    "    vec_ = vec[trials, subj,0] * beta[subj]\n",
    "    # add matrix of expected values (trials X subjects)\n",
    "    ev = pm.Deterministic('expected_value', vec_)\n",
    "    # add PE\n",
    "    pe = pm.Deterministic('pe', pe)\n",
    "    \n",
    "    scrs = pm.Normal('scrs', vec_, eps, observed=scrMat) \n",
    "    trH_phi = pm.sample(target_accept=.9, chains=4, cores=10, return_inferencedata=True)"
   ]
  },
  {
   "cell_type": "code",
   "execution_count": null,
   "metadata": {
    "tags": []
   },
   "outputs": [],
   "source": [
    "az.summary(trH_phi)"
   ]
  },
  {
   "cell_type": "code",
   "execution_count": null,
   "metadata": {},
   "outputs": [],
   "source": [
    "az.compare({'simpleModel':tr, 'hierarchy':trH_phi})"
   ]
  },
  {
   "cell_type": "markdown",
   "metadata": {},
   "source": [
    "### Same but with intercept"
   ]
  },
  {
   "cell_type": "code",
   "execution_count": null,
   "metadata": {},
   "outputs": [],
   "source": [
    "with pm.Model() as m5_intercept:\n",
    "    \n",
    "    # intercept\n",
    "    mu = pm.Normal('mu', 0, 1)\n",
    "    sd = pm.HalfNormal('sd',5) \n",
    "    intercept_matt = pm.Normal('intercept_matt', mu=0, sd=1, shape=n_subj)\n",
    "    intercept = pm.Deterministic('intercept',intercept_matt + mu*sd)\n",
    "    \n",
    "    # \\alpha\n",
    "    phi = pm.Uniform(\"phi\", lower=0.0, upper=1.0)\n",
    "    kappa_log = pm.Exponential(\"kappa_log\", lam=1.5)\n",
    "    kappa = pm.Deterministic(\"kappa\", tt.exp(kappa_log))\n",
    "    alpha = pm.Beta(\"alpha\", alpha=phi * kappa, beta=(1.0 - phi) * kappa, shape=n_subj)\n",
    "    \n",
    "    # \\beta\n",
    "    beta_h = pm.Normal('beta_h', 0,1)\n",
    "    beta_sd = pm.HalfNormal('beta_sd', 5)\n",
    "    beta = pm.Normal('beta',beta_h, beta_sd, shape=n_subj)\n",
    "       \n",
    "    eps = pm.HalfNormal('eps', 5)\n",
    "    \n",
    "    Qs = 0.5 * tt.ones((n_subj,2), dtype='float64') # set values for boths stimuli (CS+, CS-)\n",
    "    vec0 = 0.5 * tt.ones((n_subj,1), dtype='float64') # vector to save the relevant stimulus's expactation\n",
    "    \n",
    "    [Qs,vec], updates = theano.scan(\n",
    "        fn=update_Q,\n",
    "        sequences=[stim, shock],\n",
    "        outputs_info=[Qs, vec0],\n",
    "        non_sequences=[alpha, n_subj])\n",
    "   \n",
    "     \n",
    "    vec_ = vec[trials, subj,0] * beta[subj]\n",
    "    \n",
    "    scrs = pm.Normal('scrs', vec_, eps, observed=scrMat) \n",
    "    trH_phi2 = pm.sample(target_accept=.9, chains=4, cores=10, return_inferencedata=True)"
   ]
  },
  {
   "cell_type": "code",
   "execution_count": null,
   "metadata": {},
   "outputs": [],
   "source": [
    "az.summary(trH_phi2)"
   ]
  },
  {
   "cell_type": "code",
   "execution_count": null,
   "metadata": {},
   "outputs": [],
   "source": [
    "comp = az.compare({'model1': trH_phi, 'model2':trH_phi2, 'nonHModel':tr}, ic='loo')\n",
    "comp"
   ]
  },
  {
   "cell_type": "code",
   "execution_count": null,
   "metadata": {},
   "outputs": [],
   "source": [
    "az.plot_compare(comp, insample_dev=False);"
   ]
  },
  {
   "cell_type": "markdown",
   "metadata": {},
   "source": [
    "# Correlate with actual data"
   ]
  },
  {
   "cell_type": "code",
   "execution_count": 12,
   "metadata": {
    "tags": []
   },
   "outputs": [
    {
     "data": {
      "text/html": [
       "<div>\n",
       "<style scoped>\n",
       "    .dataframe tbody tr th:only-of-type {\n",
       "        vertical-align: middle;\n",
       "    }\n",
       "\n",
       "    .dataframe tbody tr th {\n",
       "        vertical-align: top;\n",
       "    }\n",
       "\n",
       "    .dataframe thead th {\n",
       "        text-align: right;\n",
       "    }\n",
       "</style>\n",
       "<table border=\"1\" class=\"dataframe\">\n",
       "  <thead>\n",
       "    <tr style=\"text-align: right;\">\n",
       "      <th></th>\n",
       "      <th>subject</th>\n",
       "      <th>alphas</th>\n",
       "    </tr>\n",
       "  </thead>\n",
       "  <tbody>\n",
       "    <tr>\n",
       "      <th>0</th>\n",
       "      <td>sub-189</td>\n",
       "      <td>0.001360</td>\n",
       "    </tr>\n",
       "    <tr>\n",
       "      <th>1</th>\n",
       "      <td>sub-086</td>\n",
       "      <td>0.092429</td>\n",
       "    </tr>\n",
       "    <tr>\n",
       "      <th>2</th>\n",
       "      <td>sub-205</td>\n",
       "      <td>0.859179</td>\n",
       "    </tr>\n",
       "    <tr>\n",
       "      <th>3</th>\n",
       "      <td>sub-071</td>\n",
       "      <td>0.193670</td>\n",
       "    </tr>\n",
       "    <tr>\n",
       "      <th>4</th>\n",
       "      <td>sub-087</td>\n",
       "      <td>0.061154</td>\n",
       "    </tr>\n",
       "    <tr>\n",
       "      <th>...</th>\n",
       "      <td>...</td>\n",
       "      <td>...</td>\n",
       "    </tr>\n",
       "    <tr>\n",
       "      <th>81</th>\n",
       "      <td>sub-010</td>\n",
       "      <td>0.244547</td>\n",
       "    </tr>\n",
       "    <tr>\n",
       "      <th>82</th>\n",
       "      <td>sub-158</td>\n",
       "      <td>0.001376</td>\n",
       "    </tr>\n",
       "    <tr>\n",
       "      <th>83</th>\n",
       "      <td>sub-083</td>\n",
       "      <td>0.193163</td>\n",
       "    </tr>\n",
       "    <tr>\n",
       "      <th>84</th>\n",
       "      <td>sub-126</td>\n",
       "      <td>0.299816</td>\n",
       "    </tr>\n",
       "    <tr>\n",
       "      <th>85</th>\n",
       "      <td>sub-152</td>\n",
       "      <td>0.319230</td>\n",
       "    </tr>\n",
       "  </tbody>\n",
       "</table>\n",
       "<p>86 rows × 2 columns</p>\n",
       "</div>"
      ],
      "text/plain": [
       "    subject    alphas\n",
       "0   sub-189  0.001360\n",
       "1   sub-086  0.092429\n",
       "2   sub-205  0.859179\n",
       "3   sub-071  0.193670\n",
       "4   sub-087  0.061154\n",
       "..      ...       ...\n",
       "81  sub-010  0.244547\n",
       "82  sub-158  0.001376\n",
       "83  sub-083  0.193163\n",
       "84  sub-126  0.299816\n",
       "85  sub-152  0.319230\n",
       "\n",
       "[86 rows x 2 columns]"
      ]
     },
     "execution_count": 12,
     "metadata": {},
     "output_type": "execute_result"
    }
   ],
   "source": [
    "# grab alphas\n",
    "alphas = trH_phi.posterior.stack(draws=('chain','draw'))\n",
    "alphas = np.mean(alphas.alpha, axis=1)\n",
    "alphas = pd.DataFrame({'subject': scr_clean['sub'].unique(), 'alphas':alphas })\n",
    "alphas"
   ]
  },
  {
   "cell_type": "code",
   "execution_count": 13,
   "metadata": {},
   "outputs": [
    {
     "data": {
      "text/plain": [
       "(69, 86, 4000)"
      ]
     },
     "execution_count": 13,
     "metadata": {},
     "output_type": "execute_result"
    }
   ],
   "source": [
    "# stack all chains\n",
    "a = trH_phi.posterior.stack(draws=('chain','draw'))\n",
    "a = a.expected_value\n",
    "a.shape"
   ]
  },
  {
   "cell_type": "code",
   "execution_count": 14,
   "metadata": {
    "tags": []
   },
   "outputs": [
    {
     "data": {
      "text/plain": [
       "(69, 86)"
      ]
     },
     "execution_count": 14,
     "metadata": {},
     "output_type": "execute_result"
    }
   ],
   "source": [
    "mean_a = np.mean(a, axis=2)\n",
    "mean_a.shape"
   ]
  },
  {
   "cell_type": "code",
   "execution_count": 15,
   "metadata": {},
   "outputs": [
    {
     "data": {
      "text/plain": [
       "array([ 0.5       , -0.5       , -0.50067991,  0.5000023 , -0.49932009,\n",
       "       -0.50067763, -0.49999543, -0.49864248,  0.50068446, -0.49796715,\n",
       "        0.50000222, -0.5006777 , -0.4972941 , -0.4999955 , -0.49662331,\n",
       "       -0.49595476, -0.49931562,  0.50136197, -0.49528846, -0.49932255,\n",
       "       -0.49864492, -0.49462437, -0.49796958,  0.50270348, -0.4939625 ,\n",
       "       -0.49798553, -0.49330282, -0.49731238, -0.49664149, -0.49264534,\n",
       "        0.50800998, -0.49597284, -0.4926967 ,  0.5079589 , -0.49530643,\n",
       "       -0.49274749, -0.49464225, -0.49209162, -0.49143791, -0.49398028,\n",
       "        0.50921364, -0.49149677, -0.49332051,  0.5091551 , -0.49155499,\n",
       "       -0.49266292, -0.49200751, -0.4909028 , -0.49135427,  0.50974724,\n",
       "       -0.49096468, -0.49070317, -0.4903143 , -0.48966606, -0.49005422,\n",
       "        0.51098005, -0.4894074 , -0.48973577, -0.48876269, -0.48908929,\n",
       "        0.51155508, -0.48812009, -0.48747958, -0.48916248, -0.48851772,\n",
       "       -0.48684116, -0.48787507, -0.48620481, -0.48723451])"
      ]
     },
     "execution_count": 15,
     "metadata": {},
     "output_type": "execute_result"
    }
   ],
   "source": [
    "# grab Prediction error\n",
    "mean_pe = trH_phi.posterior.stack(draws=('chain','draw')).pe\n",
    "mean_pe = np.mean(mean_pe, axis=2)\n",
    "mean_pe[:,0].values"
   ]
  },
  {
   "cell_type": "code",
   "execution_count": 16,
   "metadata": {
    "collapsed": true,
    "jupyter": {
     "outputs_hidden": true
    },
    "tags": []
   },
   "outputs": [
    {
     "name": "stdout",
     "output_type": "stream",
     "text": [
      "(-0.3327834825759949, 0.005207388444929092)\n",
      "(0.5831998563206628, 1.4521840246079828e-07)\n",
      "(0.9575765541901455, 6.352106430895376e-38)\n",
      "(0.5437954324871666, 1.3726059462435658e-06)\n",
      "(0.4142749563706875, 0.00040197953156067965)\n",
      "(0.7131969193846922, 6.162938128072017e-12)\n",
      "(0.38752222735415354, 0.0010027449740324312)\n",
      "(0.1727262239372838, 0.15582549408090965)\n",
      "(0.5496907853739743, 9.98789791462173e-07)\n",
      "(0.41237175499392636, 0.0004300800420841049)\n",
      "(0.31838540224388057, 0.007672349596629393)\n",
      "(0.7363793365098348, 5.570858358133675e-13)\n",
      "(0.6148722159029519, 1.9013991816776548e-08)\n",
      "(0.22705653448927926, 0.06062746100662244)\n",
      "(0.429772299148344, 0.0002284003640681991)\n",
      "(0.05218003946990669, 0.6702449900260334)\n",
      "(0.44104722067845603, 0.0001487750057855243)\n",
      "(0.5666214666186339, 3.8716961855409807e-07)\n",
      "(0.5284920612271848, 3.0476301345529563e-06)\n",
      "(0.7027026126109513, 1.6956129538971336e-11)\n",
      "(0.5983375679013112, 5.648459021475032e-08)\n",
      "(0.3457499530789697, 0.0036158572205244525)\n",
      "(0.4555943665195084, 8.366247602611687e-05)\n",
      "(0.5668912113294309, 3.812039638425242e-07)\n",
      "(0.7203247554405996, 3.0196435985029e-12)\n",
      "(0.47028495328162373, 4.553708040259717e-05)\n",
      "(0.5616760825902476, 5.134354042830654e-07)\n",
      "(0.47621968381828333, 3.533315968124431e-05)\n",
      "(0.8241732132979239, 3.345042605499483e-18)\n",
      "(0.4200259304717486, 0.0003269417354040535)\n",
      "(0.7371910179158919, 5.098031386102381e-13)\n",
      "(0.5853729847929863, 1.2718338917522575e-07)\n",
      "(0.7682267564214219, 1.3172424373961332e-14)\n",
      "(0.6242240083578855, 9.984692874658913e-09)\n",
      "(0.7023512384434519, 1.7527276443543903e-11)\n",
      "(0.572886304319679, 2.689763491534797e-07)\n",
      "(0.6785787729385095, 1.4829741648883345e-10)\n",
      "(0.5118436183238457, 6.95191602973363e-06)\n",
      "(0.9007520446174467, 5.826408511195232e-26)\n",
      "(0.7358624200259848, 5.893588853531187e-13)\n",
      "(0.3129886621258974, 0.00883100713480442)\n",
      "(0.46820543695960565, 4.9715824698775125e-05)\n",
      "(0.6212302745395903, 1.2299551083740139e-08)\n",
      "(0.9268655191969055, 3.234849522853406e-30)\n",
      "(0.34229833186678327, 0.0039904710048309045)\n",
      "(0.6079807548235222, 3.0160739435926725e-08)\n",
      "(0.3990172741234268, 0.0006833685293807303)\n",
      "(0.43844935589797257, 0.00016443817507089326)\n",
      "(0.38276143136305635, 0.0011706630533355035)\n",
      "(0.6642717478354913, 4.885389947537083e-10)\n",
      "(0.7256206389442902, 1.7519534878388094e-12)\n",
      "(0.4765495709550635, 3.4833571514965354e-05)\n",
      "(0.47364183573761903, 3.947226279050839e-05)\n",
      "(0.6451204904290011, 2.1854641165539293e-09)\n",
      "(0.4319542118225346, 0.00021046270176117488)\n",
      "(0.643071197068841, 2.5496188067955838e-09)\n",
      "(0.4240502097375831, 0.0002823064680538904)\n",
      "(0.7224638177126101, 2.427232419830763e-12)\n",
      "(0.04829579446178428, 0.6935248636392011)\n",
      "(0.4919560243231453, 1.7618552502975462e-05)\n",
      "(0.5678624037265684, 3.604350374275519e-07)\n",
      "(0.039854065509557675, 0.745079665303554)\n",
      "(0.7211264456645167, 2.7829925561436036e-12)\n",
      "(0.9497784830732955, 1.5969638368998602e-35)\n",
      "(0.42937493848203595, 0.00023181421118994756)\n",
      "(0.6458605114197232, 2.0665713408876918e-09)\n",
      "(0.5913546369519127, 8.784442628137104e-08)\n",
      "(0.5498480984642656, 9.902697839649995e-07)\n",
      "(-0.0333479558983746, 0.7856036107190961)\n",
      "(0.573842212627427, 2.5426566647313176e-07)\n",
      "(0.6687996324223553, 3.3736714023944193e-10)\n",
      "(0.6082234762371841, 2.9680141727748534e-08)\n",
      "(0.6041492776089588, 3.879634838936052e-08)\n",
      "(0.5315058130385483, 2.6126302203834134e-06)\n",
      "(0.4993389790583411, 1.255965887436749e-05)\n",
      "(0.6623295093595387, 5.715179667926656e-10)\n",
      "(0.5557089043609414, 7.174264582303129e-07)\n",
      "(0.5299813203961944, 2.8248249557591614e-06)\n",
      "(0.4487340490182765, 0.0001101113217768066)\n",
      "(0.7166090824772519, 4.391817151144624e-12)\n",
      "(0.48180331281735517, 2.7710471251704137e-05)\n",
      "(0.510575583535065, 7.389521002651557e-06)\n",
      "(-0.2905171601502239, 0.01545197586928872)\n",
      "(0.26612543615644413, 0.027088353710421894)\n",
      "(0.38444063961591257, 0.0011087381588445542)\n",
      "(0.4978328773777038, 1.3466063743811519e-05)\n"
     ]
    }
   ],
   "source": [
    "# calculate \n",
    "for i in np.arange(n_subj):\n",
    "    cor1 = scipy.stats.pearsonr(scrMat[:,i], mean_a[:,i])\n",
    "    print(cor1)"
   ]
  },
  {
   "cell_type": "code",
   "execution_count": 17,
   "metadata": {},
   "outputs": [],
   "source": [
    "# seems that some subjects are really problematic. \n",
    "# should consider removing them from analysis\n",
    "scr_clean['sub'].unique()\n",
    "mean_a_vec = np.reshape(mean_a.T, (69*86,1)) # reshape to fit dataframe\n",
    "mean_pe_vec = np.reshape(mean_pe.T, (69*86,1)) # reshape PE"
   ]
  },
  {
   "cell_type": "code",
   "execution_count": 18,
   "metadata": {},
   "outputs": [],
   "source": [
    "len(scr_clean)\n",
    "scr_clean['expected_value'] = mean_a_vec.values\n",
    "scr_clean['pe'] = mean_pe_vec.values"
   ]
  },
  {
   "cell_type": "code",
   "execution_count": 19,
   "metadata": {},
   "outputs": [],
   "source": [
    "scr_clean['scr'] = scr_clean['CDA.AmpSum']"
   ]
  },
  {
   "cell_type": "markdown",
   "metadata": {},
   "source": [
    "# Load brain data\n",
    "Hippocampus - amygdala coupling"
   ]
  },
  {
   "cell_type": "code",
   "execution_count": 21,
   "metadata": {},
   "outputs": [
    {
     "data": {
      "text/html": [
       "<div>\n",
       "<style scoped>\n",
       "    .dataframe tbody tr th:only-of-type {\n",
       "        vertical-align: middle;\n",
       "    }\n",
       "\n",
       "    .dataframe tbody tr th {\n",
       "        vertical-align: top;\n",
       "    }\n",
       "\n",
       "    .dataframe thead th {\n",
       "        text-align: right;\n",
       "    }\n",
       "</style>\n",
       "<table border=\"1\" class=\"dataframe\">\n",
       "  <thead>\n",
       "    <tr style=\"text-align: right;\">\n",
       "      <th></th>\n",
       "      <th>index</th>\n",
       "      <th>subject</th>\n",
       "      <th>trialNo</th>\n",
       "      <th>condition</th>\n",
       "      <th>coupling</th>\n",
       "      <th>amg</th>\n",
       "    </tr>\n",
       "  </thead>\n",
       "  <tbody>\n",
       "    <tr>\n",
       "      <th>0</th>\n",
       "      <td>0</td>\n",
       "      <td>sub-167</td>\n",
       "      <td>1</td>\n",
       "      <td>CSplusUS1</td>\n",
       "      <td>0.761905</td>\n",
       "      <td>-0.665134</td>\n",
       "    </tr>\n",
       "    <tr>\n",
       "      <th>1</th>\n",
       "      <td>1</td>\n",
       "      <td>sub-167</td>\n",
       "      <td>2</td>\n",
       "      <td>CSminus1</td>\n",
       "      <td>-0.238095</td>\n",
       "      <td>-0.060757</td>\n",
       "    </tr>\n",
       "    <tr>\n",
       "      <th>2</th>\n",
       "      <td>2</td>\n",
       "      <td>sub-167</td>\n",
       "      <td>3</td>\n",
       "      <td>CSplus1</td>\n",
       "      <td>0.095238</td>\n",
       "      <td>0.984678</td>\n",
       "    </tr>\n",
       "    <tr>\n",
       "      <th>3</th>\n",
       "      <td>3</td>\n",
       "      <td>sub-167</td>\n",
       "      <td>4</td>\n",
       "      <td>CSplusUS1</td>\n",
       "      <td>0.523810</td>\n",
       "      <td>0.488085</td>\n",
       "    </tr>\n",
       "    <tr>\n",
       "      <th>4</th>\n",
       "      <td>4</td>\n",
       "      <td>sub-167</td>\n",
       "      <td>5</td>\n",
       "      <td>CSminus1</td>\n",
       "      <td>-0.428571</td>\n",
       "      <td>0.053875</td>\n",
       "    </tr>\n",
       "    <tr>\n",
       "      <th>...</th>\n",
       "      <td>...</td>\n",
       "      <td>...</td>\n",
       "      <td>...</td>\n",
       "      <td>...</td>\n",
       "      <td>...</td>\n",
       "      <td>...</td>\n",
       "    </tr>\n",
       "    <tr>\n",
       "      <th>5101</th>\n",
       "      <td>1720</td>\n",
       "      <td>sub-200</td>\n",
       "      <td>65</td>\n",
       "      <td>CSminus2</td>\n",
       "      <td>-0.023810</td>\n",
       "      <td>-0.128837</td>\n",
       "    </tr>\n",
       "    <tr>\n",
       "      <th>5102</th>\n",
       "      <td>1721</td>\n",
       "      <td>sub-200</td>\n",
       "      <td>66</td>\n",
       "      <td>CSplus2</td>\n",
       "      <td>-0.500000</td>\n",
       "      <td>-0.126025</td>\n",
       "    </tr>\n",
       "    <tr>\n",
       "      <th>5103</th>\n",
       "      <td>1722</td>\n",
       "      <td>sub-200</td>\n",
       "      <td>67</td>\n",
       "      <td>CSminus2</td>\n",
       "      <td>-0.119048</td>\n",
       "      <td>-0.097882</td>\n",
       "    </tr>\n",
       "    <tr>\n",
       "      <th>5104</th>\n",
       "      <td>1723</td>\n",
       "      <td>sub-200</td>\n",
       "      <td>68</td>\n",
       "      <td>CSplus2</td>\n",
       "      <td>0.452381</td>\n",
       "      <td>0.117315</td>\n",
       "    </tr>\n",
       "    <tr>\n",
       "      <th>5105</th>\n",
       "      <td>1724</td>\n",
       "      <td>sub-200</td>\n",
       "      <td>69</td>\n",
       "      <td>CSminus2</td>\n",
       "      <td>0.400000</td>\n",
       "      <td>-0.397169</td>\n",
       "    </tr>\n",
       "  </tbody>\n",
       "</table>\n",
       "<p>5106 rows × 6 columns</p>\n",
       "</div>"
      ],
      "text/plain": [
       "      index  subject  trialNo  condition  coupling       amg\n",
       "0         0  sub-167        1  CSplusUS1  0.761905 -0.665134\n",
       "1         1  sub-167        2   CSminus1 -0.238095 -0.060757\n",
       "2         2  sub-167        3    CSplus1  0.095238  0.984678\n",
       "3         3  sub-167        4  CSplusUS1  0.523810  0.488085\n",
       "4         4  sub-167        5   CSminus1 -0.428571  0.053875\n",
       "...     ...      ...      ...        ...       ...       ...\n",
       "5101   1720  sub-200       65   CSminus2 -0.023810 -0.128837\n",
       "5102   1721  sub-200       66    CSplus2 -0.500000 -0.126025\n",
       "5103   1722  sub-200       67   CSminus2 -0.119048 -0.097882\n",
       "5104   1723  sub-200       68    CSplus2  0.452381  0.117315\n",
       "5105   1724  sub-200       69   CSminus2  0.400000 -0.397169\n",
       "\n",
       "[5106 rows x 6 columns]"
      ]
     },
     "execution_count": 21,
     "metadata": {},
     "output_type": "execute_result"
    }
   ],
   "source": [
    "amg_hipp = pd.read_csv('amg_hipp_fc_allTrials.csv')\n",
    "amg_hipp"
   ]
  },
  {
   "cell_type": "code",
   "execution_count": 22,
   "metadata": {},
   "outputs": [
    {
     "data": {
      "text/html": [
       "<div>\n",
       "<style scoped>\n",
       "    .dataframe tbody tr th:only-of-type {\n",
       "        vertical-align: middle;\n",
       "    }\n",
       "\n",
       "    .dataframe tbody tr th {\n",
       "        vertical-align: top;\n",
       "    }\n",
       "\n",
       "    .dataframe thead th {\n",
       "        text-align: right;\n",
       "    }\n",
       "</style>\n",
       "<table border=\"1\" class=\"dataframe\">\n",
       "  <thead>\n",
       "    <tr style=\"text-align: right;\">\n",
       "      <th></th>\n",
       "      <th>sub</th>\n",
       "      <th>Condition</th>\n",
       "      <th>Event.Nr</th>\n",
       "      <th>CDA.AmpSum</th>\n",
       "      <th>expected_value</th>\n",
       "      <th>pe</th>\n",
       "      <th>scr</th>\n",
       "      <th>index</th>\n",
       "      <th>subject</th>\n",
       "      <th>trialNo</th>\n",
       "      <th>condition</th>\n",
       "      <th>coupling</th>\n",
       "      <th>amg</th>\n",
       "    </tr>\n",
       "  </thead>\n",
       "  <tbody>\n",
       "    <tr>\n",
       "      <th>0</th>\n",
       "      <td>sub-189</td>\n",
       "      <td>CSplusUS1</td>\n",
       "      <td>1</td>\n",
       "      <td>0.2852</td>\n",
       "      <td>0.775073</td>\n",
       "      <td>0.500000</td>\n",
       "      <td>0.2852</td>\n",
       "      <td>1794</td>\n",
       "      <td>sub-189</td>\n",
       "      <td>1</td>\n",
       "      <td>CSplusUS1</td>\n",
       "      <td>0.309524</td>\n",
       "      <td>0.981121</td>\n",
       "    </tr>\n",
       "    <tr>\n",
       "      <th>1</th>\n",
       "      <td>sub-189</td>\n",
       "      <td>CSminus1</td>\n",
       "      <td>2</td>\n",
       "      <td>0.1033</td>\n",
       "      <td>0.772940</td>\n",
       "      <td>-0.500000</td>\n",
       "      <td>0.1033</td>\n",
       "      <td>1795</td>\n",
       "      <td>sub-189</td>\n",
       "      <td>2</td>\n",
       "      <td>CSminus1</td>\n",
       "      <td>-0.571429</td>\n",
       "      <td>-0.027048</td>\n",
       "    </tr>\n",
       "    <tr>\n",
       "      <th>2</th>\n",
       "      <td>sub-189</td>\n",
       "      <td>CSplus1</td>\n",
       "      <td>3</td>\n",
       "      <td>0.0783</td>\n",
       "      <td>0.774003</td>\n",
       "      <td>-0.500680</td>\n",
       "      <td>0.0783</td>\n",
       "      <td>1796</td>\n",
       "      <td>sub-189</td>\n",
       "      <td>3</td>\n",
       "      <td>CSplus1</td>\n",
       "      <td>-0.476190</td>\n",
       "      <td>-0.045910</td>\n",
       "    </tr>\n",
       "    <tr>\n",
       "      <th>3</th>\n",
       "      <td>sub-189</td>\n",
       "      <td>CSplusUS1</td>\n",
       "      <td>4</td>\n",
       "      <td>0.1772</td>\n",
       "      <td>0.775070</td>\n",
       "      <td>0.500002</td>\n",
       "      <td>0.1772</td>\n",
       "      <td>1797</td>\n",
       "      <td>sub-189</td>\n",
       "      <td>4</td>\n",
       "      <td>CSplusUS1</td>\n",
       "      <td>0.166667</td>\n",
       "      <td>-0.674150</td>\n",
       "    </tr>\n",
       "    <tr>\n",
       "      <th>4</th>\n",
       "      <td>sub-189</td>\n",
       "      <td>CSminus1</td>\n",
       "      <td>5</td>\n",
       "      <td>0.0000</td>\n",
       "      <td>0.771878</td>\n",
       "      <td>-0.499320</td>\n",
       "      <td>0.0000</td>\n",
       "      <td>1798</td>\n",
       "      <td>sub-189</td>\n",
       "      <td>5</td>\n",
       "      <td>CSminus1</td>\n",
       "      <td>0.214286</td>\n",
       "      <td>-0.065602</td>\n",
       "    </tr>\n",
       "  </tbody>\n",
       "</table>\n",
       "</div>"
      ],
      "text/plain": [
       "       sub  Condition  Event.Nr  CDA.AmpSum  expected_value        pe     scr  \\\n",
       "0  sub-189  CSplusUS1         1      0.2852        0.775073  0.500000  0.2852   \n",
       "1  sub-189   CSminus1         2      0.1033        0.772940 -0.500000  0.1033   \n",
       "2  sub-189    CSplus1         3      0.0783        0.774003 -0.500680  0.0783   \n",
       "3  sub-189  CSplusUS1         4      0.1772        0.775070  0.500002  0.1772   \n",
       "4  sub-189   CSminus1         5      0.0000        0.771878 -0.499320  0.0000   \n",
       "\n",
       "   index  subject  trialNo  condition  coupling       amg  \n",
       "0   1794  sub-189        1  CSplusUS1  0.309524  0.981121  \n",
       "1   1795  sub-189        2   CSminus1 -0.571429 -0.027048  \n",
       "2   1796  sub-189        3    CSplus1 -0.476190 -0.045910  \n",
       "3   1797  sub-189        4  CSplusUS1  0.166667 -0.674150  \n",
       "4   1798  sub-189        5   CSminus1  0.214286 -0.065602  "
      ]
     },
     "execution_count": 22,
     "metadata": {},
     "output_type": "execute_result"
    }
   ],
   "source": [
    "dfAll = pd.merge(scr_clean, amg_hipp, right_on=['subject','trialNo'], left_on=['sub','Event.Nr'])\n",
    "dfAll.head()"
   ]
  },
  {
   "cell_type": "code",
   "execution_count": 23,
   "metadata": {},
   "outputs": [],
   "source": [
    "dfAll.to_csv('scr_amg_hipp_all.csv', index=False)"
   ]
  },
  {
   "cell_type": "code",
   "execution_count": 24,
   "metadata": {},
   "outputs": [
    {
     "data": {
      "text/plain": [
       "65"
      ]
     },
     "execution_count": 24,
     "metadata": {},
     "output_type": "execute_result"
    }
   ],
   "source": [
    "len(dfAll['sub'].unique())"
   ]
  },
  {
   "cell_type": "code",
   "execution_count": 25,
   "metadata": {},
   "outputs": [
    {
     "name": "stdout",
     "output_type": "stream",
     "text": [
      "                Mixed Linear Model Regression Results\n",
      "=====================================================================\n",
      "Model:               MixedLM    Dependent Variable:    expected_value\n",
      "No. Observations:    4485       Method:                REML          \n",
      "No. Groups:          65         Scale:                 0.1801        \n",
      "Min. group size:     69         Log-Likelihood:        -2691.4828    \n",
      "Max. group size:     69         Converged:             Yes           \n",
      "Mean group size:     69.0                                            \n",
      "---------------------------------------------------------------------\n",
      "                           Coef.  Std.Err.   z    P>|z| [0.025 0.975]\n",
      "---------------------------------------------------------------------\n",
      "Intercept                   0.428    0.062  6.886 0.000  0.306  0.550\n",
      "C(condition)[T.CSminus2]    0.244    0.030  8.078 0.000  0.185  0.303\n",
      "C(condition)[T.CSminusUS2]  0.396    0.031 12.695 0.000  0.335  0.457\n",
      "C(condition)[T.CSplus1]     0.192    0.022  8.928 0.000  0.150  0.235\n",
      "C(condition)[T.CSplus2]     0.062    0.030  2.060 0.039  0.003  0.120\n",
      "C(condition)[T.CSplusUS1]   0.363    0.027 13.700 0.000  0.311  0.415\n",
      "coupling                    0.046    0.016  2.770 0.006  0.013  0.078\n",
      "amg                        -0.023    0.015 -1.581 0.114 -0.053  0.006\n",
      "trialNo                    -0.006    0.001 -9.571 0.000 -0.007 -0.005\n",
      "subject Var                 0.230    0.097                           \n",
      "=====================================================================\n",
      "\n"
     ]
    }
   ],
   "source": [
    "# Statistical analysis\n",
    "import statsmodels.api as sm\n",
    "import statsmodels.formula.api as smf\n",
    "glm = smf.mixedlm('expected_value ~ coupling + C(condition) + amg + trialNo', data=dfAll, \n",
    "    groups = 'subject', \n",
    "                 missing='drop')\n",
    "model1 = glm.fit()\n",
    "print(model1.summary())"
   ]
  },
  {
   "cell_type": "code",
   "execution_count": 26,
   "metadata": {},
   "outputs": [
    {
     "data": {
      "image/png": "[encoded data removed]",
      "text/plain": [
       "<Figure size 864x504 with 1 Axes>"
      ]
     },
     "metadata": {
      "needs_background": "light"
     },
     "output_type": "display_data"
    }
   ],
   "source": [
    "plt.rc('figure', figsize=(12, 7))\n",
    "plt.text(0.01, 0.05, str(model1.summary()), {'fontsize': 12}, fontproperties = 'monospace') \n",
    "plt.axis('off')\n",
    "plt.tight_layout()\n",
    "plt.savefig('outputEV_Coupling.png')"
   ]
  },
  {
   "cell_type": "markdown",
   "metadata": {},
   "source": [
    "# Plotting results"
   ]
  },
  {
   "cell_type": "code",
   "execution_count": 120,
   "metadata": {},
   "outputs": [
    {
     "data": {
      "text/plain": [
       "(0.4261606814835369, 0.0002611977020820867)"
      ]
     },
     "execution_count": 120,
     "metadata": {},
     "output_type": "execute_result"
    },
    {
     "data": {
      "image/png": "[encoded data removed]",
      "text/plain": [
       "<Figure size 360x360 with 1 Axes>"
      ]
     },
     "metadata": {
      "needs_background": "light"
     },
     "output_type": "display_data"
    }
   ],
   "source": [
    "# plot results\n",
    "forPlot = dfAll.groupby(['Event.Nr']).mean()\n",
    "sns.lmplot(x ='pe', y='coupling', data= forPlot).savefig('pe_couploing.png')\n",
    "\n",
    "scipy.stats.pearsonr(forPlot['pe'], forPlot['coupling'])"
   ]
  },
  {
   "cell_type": "code",
   "execution_count": 52,
   "metadata": {},
   "outputs": [],
   "source": [
    "dfAll_csp = dfAll[(dfAll['condition']=='CSplus1') | (dfAll['condition']=='CSplusUS1') |\n",
    "                  (dfAll['condition']=='CSminusUS2') | (dfAll['condition']=='CSminus2')]"
   ]
  },
  {
   "cell_type": "code",
   "execution_count": 59,
   "metadata": {},
   "outputs": [
    {
     "data": {
      "text/plain": [
       "(0.21039677974791576, 0.1867114845848106)"
      ]
     },
     "execution_count": 59,
     "metadata": {},
     "output_type": "execute_result"
    },
    {
     "data": {
      "image/png": "[encoded data removed]",
      "text/plain": [
       "<Figure size 360x360 with 1 Axes>"
      ]
     },
     "metadata": {
      "needs_background": "light"
     },
     "output_type": "display_data"
    }
   ],
   "source": [
    "dfAll_csp\n",
    "forPlot = dfAll_csp.groupby(['Event.Nr']).mean()\n",
    "sns.lmplot(x = 'pe', y='coupling', data=forPlot)\n",
    "scipy.stats.pearsonr(forPlot['expected_value'], forPlot['coupling'])"
   ]
  },
  {
   "cell_type": "code",
   "execution_count": 58,
   "metadata": {},
   "outputs": [
    {
     "data": {
      "text/plain": [
       "(-0.5465947300788264, 0.002616532130912588)"
      ]
     },
     "execution_count": 58,
     "metadata": {},
     "output_type": "execute_result"
    },
    {
     "data": {
      "image/png": "[encoded data removed]",
      "text/plain": [
       "<Figure size 360x360 with 1 Axes>"
      ]
     },
     "metadata": {
      "needs_background": "light"
     },
     "output_type": "display_data"
    }
   ],
   "source": [
    "# minus\n",
    "dfAll_csm = dfAll[(dfAll['condition']=='CSminus1') | (dfAll['condition']=='CSplus2')]\n",
    "\n",
    "forPlot = dfAll_csm.groupby(['Event.Nr']).mean()\n",
    "sns.lmplot(x = 'pe', y='coupling', data=forPlot)\n",
    "scipy.stats.pearsonr(forPlot['expected_value'], forPlot['coupling'])"
   ]
  },
  {
   "cell_type": "code",
   "execution_count": 60,
   "metadata": {},
   "outputs": [
    {
     "data": {
      "text/plain": [
       "(-0.1715855251694367, 0.38263536623088207)"
      ]
     },
     "execution_count": 60,
     "metadata": {},
     "output_type": "execute_result"
    },
    {
     "data": {
      "image/png": "[encoded data removed]",
      "text/plain": [
       "<Figure size 360x360 with 1 Axes>"
      ]
     },
     "metadata": {
      "needs_background": "light"
     },
     "output_type": "display_data"
    }
   ],
   "source": [
    "# only cs+ no us\n",
    "dfAll_csp_noUS= dfAll[(dfAll['condition']=='CSplus1') | (dfAll['condition']=='CSminus2')]\n",
    "\n",
    "forPlot = dfAll_csp_noUS.groupby(['Event.Nr']).mean()\n",
    "sns.lmplot(x = 'pe', y='coupling', data=forPlot)\n",
    "scipy.stats.pearsonr(forPlot['expected_value'], forPlot['coupling'])"
   ]
  },
  {
   "cell_type": "code",
   "execution_count": 61,
   "metadata": {},
   "outputs": [
    {
     "data": {
      "text/plain": [
       "(0.27344288304633285, 0.3660094067824403)"
      ]
     },
     "execution_count": 61,
     "metadata": {},
     "output_type": "execute_result"
    },
    {
     "data": {
      "image/png": "[encoded data removed]",
      "text/plain": [
       "<Figure size 360x360 with 1 Axes>"
      ]
     },
     "metadata": {
      "needs_background": "light"
     },
     "output_type": "display_data"
    }
   ],
   "source": [
    "# only us\n",
    "dfAll_csp_US= dfAll[(dfAll['condition']=='CSplusUS1') | (dfAll['condition']=='CSminusUS2')]\n",
    "\n",
    "forPlot = dfAll_csp_US.groupby(['Event.Nr']).mean()\n",
    "sns.lmplot(x = 'pe', y='coupling', data=forPlot)\n",
    "scipy.stats.pearsonr(forPlot['expected_value'], forPlot['coupling'])"
   ]
  },
  {
   "cell_type": "markdown",
   "metadata": {},
   "source": [
    "# Summary:\n",
    "- Amg-Hippocampus coupling is significantly predicting expected value!\n",
    "\n",
    "## Look at groups?"
   ]
  },
  {
   "cell_type": "code",
   "execution_count": 64,
   "metadata": {},
   "outputs": [],
   "source": [
    "dfGroups = pd.read_csv('Behavioral/SubGroupLists.csv', dtype={'Sub': 'string'})\n",
    "dfGroups = dfGroups[['Sub','group', 'Eprime']]\n",
    "for i in dfGroups.iterrows():\n",
    "    dfGroups.at[i[0], 'Sub'] = \"sub-\" + str(i[1].Sub)\n"
   ]
  },
  {
   "cell_type": "code",
   "execution_count": 68,
   "metadata": {},
   "outputs": [
    {
     "data": {
      "text/html": [
       "<div>\n",
       "<style scoped>\n",
       "    .dataframe tbody tr th:only-of-type {\n",
       "        vertical-align: middle;\n",
       "    }\n",
       "\n",
       "    .dataframe tbody tr th {\n",
       "        vertical-align: top;\n",
       "    }\n",
       "\n",
       "    .dataframe thead th {\n",
       "        text-align: right;\n",
       "    }\n",
       "</style>\n",
       "<table border=\"1\" class=\"dataframe\">\n",
       "  <thead>\n",
       "    <tr style=\"text-align: right;\">\n",
       "      <th></th>\n",
       "      <th>Source</th>\n",
       "      <th>ddof1</th>\n",
       "      <th>ddof2</th>\n",
       "      <th>F</th>\n",
       "      <th>p-unc</th>\n",
       "      <th>np2</th>\n",
       "    </tr>\n",
       "  </thead>\n",
       "  <tbody>\n",
       "    <tr>\n",
       "      <th>0</th>\n",
       "      <td>group</td>\n",
       "      <td>2</td>\n",
       "      <td>70</td>\n",
       "      <td>3.029728</td>\n",
       "      <td>0.05471</td>\n",
       "      <td>0.079667</td>\n",
       "    </tr>\n",
       "  </tbody>\n",
       "</table>\n",
       "</div>"
      ],
      "text/plain": [
       "  Source  ddof1  ddof2         F    p-unc       np2\n",
       "0  group      2     70  3.029728  0.05471  0.079667"
      ]
     },
     "execution_count": 68,
     "metadata": {},
     "output_type": "execute_result"
    },
    {
     "data": {
      "image/png": "[encoded data removed]",
      "text/plain": [
       "<Figure size 360x360 with 1 Axes>"
      ]
     },
     "metadata": {
      "needs_background": "light"
     },
     "output_type": "display_data"
    }
   ],
   "source": [
    "# test alphas and groups\n",
    "alphas_b = pd.merge(alphas, dfGroups, left_on='subject', right_on='Sub')\n",
    "sns.catplot(x='group',y='alphas', data=alphas_b, kind='violin')\n",
    "import pingouin as pg\n",
    "pg.anova(data=alphas_b, between='group',dv='alphas')"
   ]
  },
  {
   "cell_type": "code",
   "execution_count": null,
   "metadata": {},
   "outputs": [],
   "source": [
    "alphas_b.groupby('group').describe()"
   ]
  },
  {
   "cell_type": "code",
   "execution_count": 69,
   "metadata": {},
   "outputs": [
    {
     "data": {
      "text/html": [
       "<div>\n",
       "<style scoped>\n",
       "    .dataframe tbody tr th:only-of-type {\n",
       "        vertical-align: middle;\n",
       "    }\n",
       "\n",
       "    .dataframe tbody tr th {\n",
       "        vertical-align: top;\n",
       "    }\n",
       "\n",
       "    .dataframe thead th {\n",
       "        text-align: right;\n",
       "    }\n",
       "</style>\n",
       "<table border=\"1\" class=\"dataframe\">\n",
       "  <thead>\n",
       "    <tr style=\"text-align: right;\">\n",
       "      <th></th>\n",
       "      <th>T</th>\n",
       "      <th>dof</th>\n",
       "      <th>alternative</th>\n",
       "      <th>p-val</th>\n",
       "      <th>CI95%</th>\n",
       "      <th>cohen-d</th>\n",
       "      <th>BF10</th>\n",
       "      <th>power</th>\n",
       "    </tr>\n",
       "  </thead>\n",
       "  <tbody>\n",
       "    <tr>\n",
       "      <th>T-test</th>\n",
       "      <td>2.489563</td>\n",
       "      <td>27.293869</td>\n",
       "      <td>two-sided</td>\n",
       "      <td>0.019172</td>\n",
       "      <td>[0.02, 0.23]</td>\n",
       "      <td>0.714778</td>\n",
       "      <td>3.315</td>\n",
       "      <td>0.71416</td>\n",
       "    </tr>\n",
       "  </tbody>\n",
       "</table>\n",
       "</div>"
      ],
      "text/plain": [
       "               T        dof alternative     p-val         CI95%   cohen-d  \\\n",
       "T-test  2.489563  27.293869   two-sided  0.019172  [0.02, 0.23]  0.714778   \n",
       "\n",
       "         BF10    power  \n",
       "T-test  3.315  0.71416  "
      ]
     },
     "execution_count": 69,
     "metadata": {},
     "output_type": "execute_result"
    }
   ],
   "source": [
    "pg.ttest(alphas_b['alphas'][alphas_b['group']=='VPTSD'], alphas_b['alphas'][alphas_b['group']=='VCC'])"
   ]
  },
  {
   "cell_type": "code",
   "execution_count": 70,
   "metadata": {},
   "outputs": [
    {
     "data": {
      "text/html": [
       "<div>\n",
       "<style scoped>\n",
       "    .dataframe tbody tr th:only-of-type {\n",
       "        vertical-align: middle;\n",
       "    }\n",
       "\n",
       "    .dataframe tbody tr th {\n",
       "        vertical-align: top;\n",
       "    }\n",
       "\n",
       "    .dataframe thead th {\n",
       "        text-align: right;\n",
       "    }\n",
       "</style>\n",
       "<table border=\"1\" class=\"dataframe\">\n",
       "  <thead>\n",
       "    <tr style=\"text-align: right;\">\n",
       "      <th></th>\n",
       "      <th>sub</th>\n",
       "      <th>Condition</th>\n",
       "      <th>Event.Nr</th>\n",
       "      <th>CDA.AmpSum</th>\n",
       "      <th>expected_value</th>\n",
       "      <th>pe</th>\n",
       "      <th>scr</th>\n",
       "      <th>index</th>\n",
       "      <th>subject</th>\n",
       "      <th>trialNo</th>\n",
       "      <th>condition</th>\n",
       "      <th>coupling</th>\n",
       "      <th>amg</th>\n",
       "      <th>Sub</th>\n",
       "      <th>group</th>\n",
       "      <th>Eprime</th>\n",
       "    </tr>\n",
       "  </thead>\n",
       "  <tbody>\n",
       "    <tr>\n",
       "      <th>0</th>\n",
       "      <td>sub-189</td>\n",
       "      <td>CSplusUS1</td>\n",
       "      <td>1</td>\n",
       "      <td>0.2852</td>\n",
       "      <td>0.775073</td>\n",
       "      <td>0.500000</td>\n",
       "      <td>0.2852</td>\n",
       "      <td>1794</td>\n",
       "      <td>sub-189</td>\n",
       "      <td>1</td>\n",
       "      <td>CSplusUS1</td>\n",
       "      <td>0.309524</td>\n",
       "      <td>0.981121</td>\n",
       "      <td>sub-189</td>\n",
       "      <td>HC</td>\n",
       "      <td>A</td>\n",
       "    </tr>\n",
       "    <tr>\n",
       "      <th>1</th>\n",
       "      <td>sub-189</td>\n",
       "      <td>CSminus1</td>\n",
       "      <td>2</td>\n",
       "      <td>0.1033</td>\n",
       "      <td>0.772940</td>\n",
       "      <td>-0.500000</td>\n",
       "      <td>0.1033</td>\n",
       "      <td>1795</td>\n",
       "      <td>sub-189</td>\n",
       "      <td>2</td>\n",
       "      <td>CSminus1</td>\n",
       "      <td>-0.571429</td>\n",
       "      <td>-0.027048</td>\n",
       "      <td>sub-189</td>\n",
       "      <td>HC</td>\n",
       "      <td>A</td>\n",
       "    </tr>\n",
       "    <tr>\n",
       "      <th>2</th>\n",
       "      <td>sub-189</td>\n",
       "      <td>CSplus1</td>\n",
       "      <td>3</td>\n",
       "      <td>0.0783</td>\n",
       "      <td>0.774003</td>\n",
       "      <td>-0.500680</td>\n",
       "      <td>0.0783</td>\n",
       "      <td>1796</td>\n",
       "      <td>sub-189</td>\n",
       "      <td>3</td>\n",
       "      <td>CSplus1</td>\n",
       "      <td>-0.476190</td>\n",
       "      <td>-0.045910</td>\n",
       "      <td>sub-189</td>\n",
       "      <td>HC</td>\n",
       "      <td>A</td>\n",
       "    </tr>\n",
       "    <tr>\n",
       "      <th>3</th>\n",
       "      <td>sub-189</td>\n",
       "      <td>CSplusUS1</td>\n",
       "      <td>4</td>\n",
       "      <td>0.1772</td>\n",
       "      <td>0.775070</td>\n",
       "      <td>0.500002</td>\n",
       "      <td>0.1772</td>\n",
       "      <td>1797</td>\n",
       "      <td>sub-189</td>\n",
       "      <td>4</td>\n",
       "      <td>CSplusUS1</td>\n",
       "      <td>0.166667</td>\n",
       "      <td>-0.674150</td>\n",
       "      <td>sub-189</td>\n",
       "      <td>HC</td>\n",
       "      <td>A</td>\n",
       "    </tr>\n",
       "    <tr>\n",
       "      <th>4</th>\n",
       "      <td>sub-189</td>\n",
       "      <td>CSminus1</td>\n",
       "      <td>5</td>\n",
       "      <td>0.0000</td>\n",
       "      <td>0.771878</td>\n",
       "      <td>-0.499320</td>\n",
       "      <td>0.0000</td>\n",
       "      <td>1798</td>\n",
       "      <td>sub-189</td>\n",
       "      <td>5</td>\n",
       "      <td>CSminus1</td>\n",
       "      <td>0.214286</td>\n",
       "      <td>-0.065602</td>\n",
       "      <td>sub-189</td>\n",
       "      <td>HC</td>\n",
       "      <td>A</td>\n",
       "    </tr>\n",
       "  </tbody>\n",
       "</table>\n",
       "</div>"
      ],
      "text/plain": [
       "       sub  Condition  Event.Nr  CDA.AmpSum  expected_value        pe     scr  \\\n",
       "0  sub-189  CSplusUS1         1      0.2852        0.775073  0.500000  0.2852   \n",
       "1  sub-189   CSminus1         2      0.1033        0.772940 -0.500000  0.1033   \n",
       "2  sub-189    CSplus1         3      0.0783        0.774003 -0.500680  0.0783   \n",
       "3  sub-189  CSplusUS1         4      0.1772        0.775070  0.500002  0.1772   \n",
       "4  sub-189   CSminus1         5      0.0000        0.771878 -0.499320  0.0000   \n",
       "\n",
       "   index  subject  trialNo  condition  coupling       amg      Sub group  \\\n",
       "0   1794  sub-189        1  CSplusUS1  0.309524  0.981121  sub-189    HC   \n",
       "1   1795  sub-189        2   CSminus1 -0.571429 -0.027048  sub-189    HC   \n",
       "2   1796  sub-189        3    CSplus1 -0.476190 -0.045910  sub-189    HC   \n",
       "3   1797  sub-189        4  CSplusUS1  0.166667 -0.674150  sub-189    HC   \n",
       "4   1798  sub-189        5   CSminus1  0.214286 -0.065602  sub-189    HC   \n",
       "\n",
       "  Eprime  \n",
       "0      A  \n",
       "1      A  \n",
       "2      A  \n",
       "3      A  \n",
       "4      A  "
      ]
     },
     "execution_count": 70,
     "metadata": {},
     "output_type": "execute_result"
    }
   ],
   "source": [
    "dfAll = pd.merge(dfAll, dfGroups, left_on='subject',right_on='Sub')\n",
    "dfAll.head()"
   ]
  },
  {
   "cell_type": "code",
   "execution_count": 71,
   "metadata": {},
   "outputs": [
    {
     "name": "stdout",
     "output_type": "stream",
     "text": [
      "                Mixed Linear Model Regression Results\n",
      "=====================================================================\n",
      "Model:               MixedLM    Dependent Variable:    expected_value\n",
      "No. Observations:    4485       Method:                REML          \n",
      "No. Groups:          65         Scale:                 0.1801        \n",
      "Min. group size:     69         Log-Likelihood:        -2688.5584    \n",
      "Max. group size:     69         Converged:             Yes           \n",
      "Mean group size:     69.0                                            \n",
      "---------------------------------------------------------------------\n",
      "                           Coef.  Std.Err.   z    P>|z| [0.025 0.975]\n",
      "---------------------------------------------------------------------\n",
      "Intercept                   0.778    0.101  7.739 0.000  0.581  0.975\n",
      "C(group)[T.VCC]            -0.496    0.131 -3.777 0.000 -0.754 -0.239\n",
      "C(group)[T.VPTSD]          -0.492    0.137 -3.601 0.000 -0.760 -0.224\n",
      "C(condition)[T.CSminus2]    0.244    0.030  8.095 0.000  0.185  0.303\n",
      "C(condition)[T.CSminusUS2]  0.395    0.031 12.667 0.000  0.334  0.457\n",
      "C(condition)[T.CSplus1]     0.192    0.022  8.909 0.000  0.150  0.234\n",
      "C(condition)[T.CSplus2]     0.062    0.030  2.062 0.039  0.003  0.120\n",
      "C(condition)[T.CSplusUS1]   0.364    0.027 13.727 0.000  0.312  0.416\n",
      "coupling                    0.080    0.031  2.576 0.010  0.019  0.141\n",
      "coupling:C(group)[T.VCC]   -0.073    0.041 -1.803 0.071 -0.153  0.006\n",
      "coupling:C(group)[T.VPTSD] -0.016    0.042 -0.390 0.697 -0.099  0.066\n",
      "amg                        -0.023    0.015 -1.580 0.114 -0.053  0.006\n",
      "trialNo                    -0.006    0.001 -9.515 0.000 -0.007 -0.005\n",
      "subject Var                 0.184    0.079                           \n",
      "=====================================================================\n",
      "\n"
     ]
    }
   ],
   "source": [
    "# Statistical analysis\n",
    "import statsmodels.api as sm\n",
    "import statsmodels.formula.api as smf\n",
    "glm2 = smf.mixedlm('expected_value ~ coupling*C(group) + C(condition) + amg + trialNo', data=dfAll, \n",
    "    groups = 'subject', \n",
    "                 missing='drop')\n",
    "model2 = glm2.fit()\n",
    "print(model2.summary())"
   ]
  },
  {
   "cell_type": "code",
   "execution_count": null,
   "metadata": {},
   "outputs": [],
   "source": [
    "plt.rc('figure', figsize=(12, 7))\n",
    "plt.text(0.01, 0.05, str(model2.summary()), {'fontsize': 12}, fontproperties = 'monospace') \n",
    "plt.axis('off')\n",
    "plt.tight_layout()\n",
    "plt.savefig('outputEV_Coupling_groups.png')"
   ]
  },
  {
   "cell_type": "code",
   "execution_count": 119,
   "metadata": {},
   "outputs": [
    {
     "data": {
      "text/plain": [
       "<seaborn.axisgrid.FacetGrid at 0x2ab5decdfa90>"
      ]
     },
     "execution_count": 119,
     "metadata": {},
     "output_type": "execute_result"
    },
    {
     "data": {
      "image/png": "[encoded data removed]",
      "text/plain": [
       "<Figure size 428.875x360 with 1 Axes>"
      ]
     },
     "metadata": {
      "needs_background": "light"
     },
     "output_type": "display_data"
    }
   ],
   "source": [
    "# using aggregate to summarize across groups\n",
    "# this link is a nice reference: https://www.shanelynn.ie/summarising-aggregation-and-grouping-data-in-python-pandas/\n",
    "dd = dfAll.groupby(['group', 'Event.Nr'], as_index=False).agg({'pe': 'mean', 'coupling':'mean'})\n",
    "\n",
    "# plot\n",
    "sns.lmplot(x='pe', y='coupling', hue='group', data=dd)"
   ]
  },
  {
   "cell_type": "markdown",
   "metadata": {},
   "source": [
    "# Summary\n",
    "- Coupling predicting changes\n",
    "- Difference between HC and CC/PTSD\n",
    "- Maybe because of reversal? "
   ]
  },
  {
   "cell_type": "code",
   "execution_count": null,
   "metadata": {
    "tags": []
   },
   "outputs": [],
   "source": [
    "# Test just first stage of reversal\n",
    "# first build RL model\n",
    "scr_1 = scr[scr['Event.Nr']<=30]\n",
    "\n",
    "scrVec = scr_1['CDA.AmpSum'].values\n",
    "print(scrVec.shape)\n",
    "shockVec = np.zeros(len(scrVec), dtype=np.int32) # vector to capture shock (1=yes, 0=no)\n",
    "stimVec = np.zeros(len(scrVec), dtype=np.int32) # vector to capture stimulus (1=CS+, 2= CS-)\n",
    "\n",
    "for i, cond in enumerate(scr_1['Condition'].values):\n",
    "    if cond=='CSplusUS1':\n",
    "        shockVec[i]= 1\n",
    "        stimVec[i] = 1\n",
    "    elif cond=='CSplus1':\n",
    "            stimVec[i] = 1\n",
    "            shockVec[i]= 0\n",
    "    elif cond=='CSminus1':\n",
    "            stimVec[i] = 0\n",
    "            shockVec[i] = 0\n",
    "    else:\n",
    "        print(f' Condition is {cond}')\n",
    "        stimVec[i] = 9\n",
    "        shockVec[i] = 9\n",
    "print(shockVec.shape)\n",
    "print(stimVec.shape)\n"
   ]
  },
  {
   "cell_type": "code",
   "execution_count": null,
   "metadata": {},
   "outputs": [],
   "source": [
    "n_trials, n_subj = 30,len(scr_1['sub'].unique())\n",
    "trials, subj = np.meshgrid(range(n_trials), range(n_subj))\n",
    "trials = tt.as_tensor_variable(trials.T)\n",
    "subj = tt.as_tensor_variable(subj.T)\n",
    "stim = np.reshape(stimVec, (n_subj,n_trials)).T # transform to matrix trials x subject\n",
    "shock = np.reshape(shockVec, (n_subj,n_trials)).T \n",
    "scrMat = np.reshape(scrVec, (n_subj, n_trials)).T\n",
    "\n",
    "stim = tt.as_tensor_variable(stim)\n",
    "shock = tt.as_tensor_variable(shock)\n"
   ]
  },
  {
   "cell_type": "code",
   "execution_count": null,
   "metadata": {},
   "outputs": [],
   "source": [
    "# run model\n",
    "with pm.Model() as m5_1stPart:\n",
    "    \n",
    "    # α\n",
    "    phi = pm.Uniform(\"phi\", lower=0.0, upper=1.0)\n",
    "    kappa_log = pm.Exponential(\"kappa_log\", lam=1.5)\n",
    "    kappa = pm.Deterministic(\"kappa\", tt.exp(kappa_log))\n",
    "    alpha = pm.Beta(\"alpha\", alpha=phi * kappa, beta=(1.0 - phi) * kappa, shape=n_subj)\n",
    "    \n",
    "    # β\n",
    "    beta_h = pm.Normal('beta_h', 0,1)\n",
    "    beta_sd = pm.HalfNormal('beta_sd', 5)\n",
    "    beta = pm.Normal('beta',beta_h, beta_sd, shape=n_subj)\n",
    "       \n",
    "    eps = pm.HalfNormal('eps', 5)\n",
    "    \n",
    "    Qs = 0.5 * tt.ones((n_subj,2), dtype='float64') # set values for boths stimuli (CS+, CS-)\n",
    "    vec0 = 0.5 * tt.ones((n_subj,1), dtype='float64') # vector to save the relevant stimulus's expactation\n",
    "    \n",
    "    [Qs,vec, pe], updates = theano.scan(\n",
    "        fn=update_Q,\n",
    "        sequences=[stim, shock],\n",
    "        outputs_info=[Qs, vec0, None],\n",
    "        non_sequences=[alpha, n_subj])\n",
    "   \n",
    "     \n",
    "    vec_ = vec[trials, subj,0] * beta[subj]\n",
    "    # add matrix of expected values (trials X subjects)\n",
    "    ev = pm.Deterministic('expected_value', vec_)\n",
    "    # add pe\n",
    "    pe_v = pm.Deterministic('pe', pe)\n",
    "    scrs = pm.Normal('scrs', vec_, eps, observed=scrMat) \n",
    "    tr_firstPart = pm.sample(target_accept=.9, chains=4, cores=10, return_inferencedata=True)"
   ]
  },
  {
   "cell_type": "code",
   "execution_count": null,
   "metadata": {},
   "outputs": [],
   "source": [
    "az.summary(tr_firstPart)"
   ]
  },
  {
   "cell_type": "code",
   "execution_count": null,
   "metadata": {},
   "outputs": [],
   "source": [
    "# stack all chains\n",
    "b = tr_firstPart.posterior.stack(draws=('chain','draw'))\n",
    "b = b.expected_value\n",
    "print(b.shape)\n",
    "b_pe = tr_firstPart.posterior.stack(draws=('chain','draw')).pe\n",
    "\n",
    "mean_b = np.mean(b, axis=2)\n",
    "mean_b_pe = np.mean(b_pe, axis=2)\n",
    "mean_b.shape"
   ]
  },
  {
   "cell_type": "code",
   "execution_count": null,
   "metadata": {
    "tags": []
   },
   "outputs": [],
   "source": [
    "# calculate \n",
    "for i in np.arange(n_subj):\n",
    "    cor1 = scipy.stats.pearsonr(scrMat[:,i], mean_b[:,i])\n",
    "    print(cor1)"
   ]
  },
  {
   "cell_type": "markdown",
   "metadata": {},
   "source": [
    "expected value per trial = y axis\n",
    "coulint per trial = x axis \n",
    "both across subjects\n",
    "\n",
    "try to split CS+ and CS-"
   ]
  },
  {
   "cell_type": "code",
   "execution_count": null,
   "metadata": {},
   "outputs": [],
   "source": [
    "\n",
    "scr_1['sub'].unique()\n",
    "mean_b_vec = np.reshape(mean_b.T, (30*len(scr_1['sub'].unique()),1)) # reshape to fit dataframe\n",
    "mean_b_pe_vec = np.reshape(mean_b_pe.T, (30*len(scr_1['sub'].unique()),1)) # reshape to fit dataframe\n",
    "len(scr_clean)\n",
    "scr_1['expected_value'] = mean_b_vec.values\n",
    "scr_1['pe'] = mean_b_pe_vec\n",
    "scr_1['scr'] = scr_1['CDA.AmpSum']"
   ]
  },
  {
   "cell_type": "code",
   "execution_count": null,
   "metadata": {},
   "outputs": [],
   "source": [
    "dfAll_1 = pd.merge(scr_1, amg_hipp, right_on=['subject','trialNo'], left_on=['sub','Event.Nr'])\n",
    "dfAll_1 = pd.merge(dfAll_1, dfGroups, left_on='subject',right_on='Sub')\n",
    "\n",
    "dfAll_1.head()"
   ]
  },
  {
   "cell_type": "code",
   "execution_count": null,
   "metadata": {},
   "outputs": [],
   "source": [
    "dfAll_1.to_csv('scr_amg_hipp_part1.csv', index=False)"
   ]
  },
  {
   "cell_type": "code",
   "execution_count": null,
   "metadata": {},
   "outputs": [],
   "source": [
    "glm3 = smf.mixedlm('pe ~ coupling*C(group) * C(condition) + amg + trialNo', data=dfAll_1, \n",
    "    groups = 'subject', \n",
    "                 missing='drop')\n",
    "model3 = glm3.fit()\n",
    "print(model3.summary())"
   ]
  },
  {
   "cell_type": "code",
   "execution_count": null,
   "metadata": {},
   "outputs": [],
   "source": [
    "forPlot = dfAll_1.groupby(['group','Event.Nr']).mean()\n",
    "forPlot"
   ]
  },
  {
   "cell_type": "code",
   "execution_count": null,
   "metadata": {},
   "outputs": [],
   "source": [
    "sns.regplot(forPlot['expected_value']['HC'], forPlot['coupling']['HC'], label='HC')\n",
    "sns.regplot(forPlot['expected_value']['VCC'], forPlot['coupling']['VCC'], label='CC')\n",
    "sns.regplot(forPlot['expected_value']['VPTSD'], forPlot['coupling']['VPTSD'], label='PTSD')\n",
    "plt.legend()"
   ]
  },
  {
   "cell_type": "code",
   "execution_count": null,
   "metadata": {},
   "outputs": [],
   "source": [
    "sns.regplot(forPlot['expected_value'], forPlot['coupling'])"
   ]
  },
  {
   "cell_type": "code",
   "execution_count": null,
   "metadata": {},
   "outputs": [],
   "source": [
    "# all experiment\n",
    "forPlot = dfAll.groupby(['group','Event.Nr']).mean()\n",
    "sns.regplot(forPlot['expected_value']['HC'], forPlot['coupling']['HC'], label='HC')\n",
    "sns.regplot(forPlot['expected_value']['VCC'], forPlot['coupling']['VCC'], label='CC')\n",
    "sns.regplot(forPlot['expected_value']['VPTSD'], forPlot['coupling']['VPTSD'], label='PTSD')\n",
    "plt.legend()"
   ]
  },
  {
   "cell_type": "markdown",
   "metadata": {},
   "source": [
    "## Second part (after reversal)"
   ]
  },
  {
   "cell_type": "code",
   "execution_count": null,
   "metadata": {
    "tags": []
   },
   "outputs": [],
   "source": [
    "# Test just first stage of reversal\n",
    "# first build RL model\n",
    "scr_2 = scr[scr['Event.Nr']>30]\n",
    "for sub in scr_2['sub'].unique():\n",
    "    df = scr_2[scr_2['sub']==sub]\n",
    "    #print(len(df))\n",
    "    #print (len(df))\n",
    "    if len(df)<39:\n",
    "        scr_2 = scr_2[scr_2['sub']!=sub]\n",
    "len(scr_2['sub'].unique()) # total of 86 valid subjects\n",
    "scrVec = scr_2['CDA.AmpSum'].values\n",
    "print(scrVec.shape)\n",
    "shockVec = np.zeros(len(scrVec), dtype=np.int32) # vector to capture shock (1=yes, 0=no)\n",
    "stimVec = np.zeros(len(scrVec), dtype=np.int32) # vector to capture stimulus (1=CS+, 2= CS-)\n",
    "\n",
    "for i, cond in enumerate(scr_2['Condition'].values):\n",
    "    if cond=='CSminusUS2':\n",
    "        shockVec[i]= 1\n",
    "        stimVec[i] = 1\n",
    "    elif cond=='CSplus2':\n",
    "            stimVec[i] = 1\n",
    "            shockVec[i]= 0\n",
    "    elif cond=='CSminus2':\n",
    "            stimVec[i] = 0\n",
    "            shockVec[i] = 0\n",
    "    else:\n",
    "        print(f' Condition is {cond}')\n",
    "        stimVec[i] = 9\n",
    "        shockVec[i] = 9\n",
    "print(shockVec.shape)\n",
    "print(stimVec.shape)\n"
   ]
  },
  {
   "cell_type": "code",
   "execution_count": null,
   "metadata": {},
   "outputs": [],
   "source": [
    "n_trials, n_subj = 39,len(scr_2['sub'].unique())\n",
    "trials, subj = np.meshgrid(range(n_trials), range(n_subj))\n",
    "trials = tt.as_tensor_variable(trials.T)\n",
    "subj = tt.as_tensor_variable(subj.T)\n",
    "stim = np.reshape(stimVec, (n_subj,n_trials)).T # transform to matrix trials x subject\n",
    "shock = np.reshape(shockVec, (n_subj,n_trials)).T \n",
    "scrMat = np.reshape(scrVec, (n_subj, n_trials)).T\n",
    "\n",
    "stim = tt.as_tensor_variable(stim)\n",
    "shock = tt.as_tensor_variable(shock)\n"
   ]
  },
  {
   "cell_type": "code",
   "execution_count": null,
   "metadata": {},
   "outputs": [],
   "source": [
    "# run model\n",
    "with pm.Model() as m5_2ndPart:\n",
    "    \n",
    "    # α\n",
    "    phi = pm.Uniform(\"phi\", lower=0.0, upper=1.0)\n",
    "    kappa_log = pm.Exponential(\"kappa_log\", lam=1.5)\n",
    "    kappa = pm.Deterministic(\"kappa\", tt.exp(kappa_log))\n",
    "    alpha = pm.Beta(\"alpha\", alpha=phi * kappa, beta=(1.0 - phi) * kappa, shape=n_subj)\n",
    "    \n",
    "    # β\n",
    "    beta_h = pm.Normal('beta_h', 0,1)\n",
    "    beta_sd = pm.HalfNormal('beta_sd', 5)\n",
    "    beta = pm.Normal('beta',beta_h, beta_sd, shape=n_subj)\n",
    "       \n",
    "    eps = pm.HalfNormal('eps', 5)\n",
    "    \n",
    "    Qs = 0.5 * tt.ones((n_subj,2), dtype='float64') # set values for boths stimuli (CS+, CS-)\n",
    "    vec0 = 0.5 * tt.ones((n_subj,1), dtype='float64') # vector to save the relevant stimulus's expactation\n",
    "    \n",
    "    [Qs,vec], updates = theano.scan(\n",
    "        fn=update_Q,\n",
    "        sequences=[stim, shock],\n",
    "        outputs_info=[Qs, vec0],\n",
    "        non_sequences=[alpha, n_subj])\n",
    "   \n",
    "     \n",
    "    vec_ = vec[trials, subj,0] * beta[subj]\n",
    "    # add matrix of expected values (trials X subjects)\n",
    "    ev = pm.Deterministic('expected_value', vec_)\n",
    "    \n",
    "    scrs = pm.Normal('scrs', vec_, eps, observed=scrMat) \n",
    "    tr_secondPart = pm.sample(target_accept=.9, chains=4, cores=10, return_inferencedata=True)"
   ]
  },
  {
   "cell_type": "code",
   "execution_count": null,
   "metadata": {},
   "outputs": [],
   "source": [
    "# stack all chains\n",
    "c = tr_secondPart.posterior.stack(draws=('chain','draw'))\n",
    "c = c.expected_value\n",
    "print(c.shape)\n",
    "\n",
    "mean_c = np.mean(c, axis=2)\n",
    "mean_c.shape"
   ]
  },
  {
   "cell_type": "code",
   "execution_count": null,
   "metadata": {
    "tags": []
   },
   "outputs": [],
   "source": [
    "# calculate \n",
    "for i in np.arange(n_subj):\n",
    "    cor2 = scipy.stats.pearsonr(scrMat[:,i], mean_c[:,i])\n",
    "    print(cor2)\n",
    "\n",
    "scr_2['sub'].unique()\n",
    "mean_c_vec = np.reshape(mean_c.T, (39*len(scr_2['sub'].unique()),1)) # reshape to fit dataframe\n",
    "\n",
    "scr_2['expected_value'] = mean_c_vec.values\n",
    "scr_2['scr'] = scr_2['CDA.AmpSum']"
   ]
  },
  {
   "cell_type": "code",
   "execution_count": null,
   "metadata": {},
   "outputs": [],
   "source": [
    "dfAll_2 = pd.merge(scr_2, amg_hipp, right_on=['subject','trialNo'], left_on=['sub','Event.Nr'])\n",
    "dfAll_2 = pd.merge(dfAll_2, dfGroups, left_on='subject',right_on='Sub')\n",
    "\n",
    "dfAll_2.head()"
   ]
  },
  {
   "cell_type": "code",
   "execution_count": null,
   "metadata": {},
   "outputs": [],
   "source": [
    "glm4 = smf.mixedlm('expected_value ~ coupling*C(group) + C(condition) + amg + trialNo', data=dfAll_2, \n",
    "    groups = 'subject', \n",
    "                 missing='drop')\n",
    "model4 = glm4.fit()\n",
    "print(model4.summary())"
   ]
  },
  {
   "cell_type": "code",
   "execution_count": null,
   "metadata": {},
   "outputs": [],
   "source": [
    "# all experiment\n",
    "forPlot = dfAll_2.groupby(['group','Event.Nr']).mean()\n",
    "sns.regplot(forPlot['expected_value']['HC'], forPlot['coupling']['HC'], label='HC')\n",
    "sns.regplot(forPlot['expected_value']['VCC'], forPlot['coupling']['VCC'], label='CC')\n",
    "sns.regplot(forPlot['expected_value']['VPTSD'], forPlot['coupling']['VPTSD'], label='PTSD')\n",
    "plt.legend()"
   ]
  }
 ],
 "metadata": {
  "interpreter": {
   "hash": "5e405ff2f839620d6a09f52036c3a6f28ae3d8af733c0d3b4601cc4729e2f166"
  },
  "kernelspec": {
   "display_name": "Python 3 (ipykernel)",
   "language": "python",
   "name": "python3"
  },
  "language_info": {
   "codemirror_mode": {
    "name": "ipython",
    "version": 3
   },
   "file_extension": ".py",
   "mimetype": "text/x-python",
   "name": "python",
   "nbconvert_exporter": "python",
   "pygments_lexer": "ipython3",
   "version": "3.9.9"
  }
 },
 "nbformat": 4,
 "nbformat_minor": 4
}
