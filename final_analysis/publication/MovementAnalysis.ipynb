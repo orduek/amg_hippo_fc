{
 "cells": [
  {
   "cell_type": "markdown",
   "id": "3b79f87e-6d81-4e31-bb52-e343eeea1c65",
   "metadata": {},
   "source": [
    "## Analysis of movement during different conditions\n",
    "- Comparing the CS+US vs. CS+ and CS- in movement\n"
   ]
  },
  {
   "cell_type": "code",
   "execution_count": 21,
   "id": "85bd0551-2521-46fc-ab89-f88d62b95d43",
   "metadata": {},
   "outputs": [],
   "source": [
    "import pandas as pd\n",
    "import numpy as np\n",
    "import matplotlib.pyplot as plt\n",
    "import seaborn as sns\n",
    "import glob\n",
    "\n",
    "import pingouin as pg\n",
    "import pymc3 as pm\n",
    "import arviz as az"
   ]
  },
  {
   "cell_type": "code",
   "execution_count": 2,
   "id": "89df588d-3e41-412a-8eff-75ebc0db12af",
   "metadata": {},
   "outputs": [],
   "source": [
    "subject_list = ['sub-189', 'sub-205', 'sub-071', 'sub-204', 'sub-085', 'sub-100', 'sub-132', 'sub-185', 'sub-167', 'sub-043', 'sub-062', 'sub-073',\n",
    "       'sub-082', 'sub-030', 'sub-160', 'sub-196', 'sub-1223', 'sub-169', 'sub-1222', 'sub-055', 'sub-170', 'sub-047', 'sub-177', 'sub-130',\n",
    "       'sub-172', 'sub-200', 'sub-173', 'sub-026', 'sub-059', 'sub-072', 'sub-1232', 'sub-166', 'sub-032', 'sub-016', 'sub-1205', 'sub-186',\n",
    "       'sub-056', 'sub-053', 'sub-150', 'sub-065', 'sub-154', 'sub-193', 'sub-165', 'sub-103', 'sub-168', 'sub-102', 'sub-048', 'sub-027',\n",
    "       'sub-182', 'sub-202', 'sub-203', 'sub-066', 'sub-038', 'sub-184', 'sub-171', 'sub-179', 'sub-153', 'sub-144', 'sub-178', 'sub-063',\n",
    "       'sub-010', 'sub-158', 'sub-083', 'sub-126', 'sub-152']\n"
   ]
  },
  {
   "cell_type": "code",
   "execution_count": 3,
   "id": "9485a866-27bc-4c1c-bb5d-1955dcb7f8ba",
   "metadata": {},
   "outputs": [],
   "source": [
    "# read FD\n",
    "file_temp = '/gpfs/gibbs/pi/levy_ifat/Nachshon/shared/reversal/fmriprep/{sub}/ses-1/func/{sub}_ses-1_task-*_desc-confounds_regressors.tsv'\n",
    "events_temp = '/gpfs/gibbs/pi/levy_ifat/Or/RV_FSL/eventfiles/{sub}.csv'\n"
   ]
  },
  {
   "cell_type": "code",
   "execution_count": 4,
   "id": "b277bc82-1804-4b08-a7f6-974f6d44462d",
   "metadata": {},
   "outputs": [],
   "source": [
    "d = pd.read_csv(glob.glob(file_temp.format(sub='sub-010'))[0], sep=\"\\t\").fillna(0)"
   ]
  },
  {
   "cell_type": "code",
   "execution_count": 8,
   "id": "a31a5bbc-8dea-49fc-b181-3abc3c558faf",
   "metadata": {
    "tags": []
   },
   "outputs": [
    {
     "name": "stdout",
     "output_type": "stream",
     "text": [
      "/gpfs/gibbs/pi/levy_ifat/Nachshon/shared/reversal/fmriprep/sub-189/ses-1/func/sub-189_ses-1_task-552_desc-confounds_regressors.tsv\n",
      "/gpfs/gibbs/pi/levy_ifat/Nachshon/shared/reversal/fmriprep/sub-205/ses-1/func/sub-205_ses-1_task-552_desc-confounds_regressors.tsv\n",
      "/gpfs/gibbs/pi/levy_ifat/Nachshon/shared/reversal/fmriprep/sub-071/ses-1/func/sub-071_ses-1_task-552_desc-confounds_regressors.tsv\n",
      "/gpfs/gibbs/pi/levy_ifat/Nachshon/shared/reversal/fmriprep/sub-204/ses-1/func/sub-204_ses-1_task-552_desc-confounds_regressors.tsv\n",
      "/gpfs/gibbs/pi/levy_ifat/Nachshon/shared/reversal/fmriprep/sub-085/ses-1/func/sub-085_ses-1_task-552_desc-confounds_regressors.tsv\n",
      "/gpfs/gibbs/pi/levy_ifat/Nachshon/shared/reversal/fmriprep/sub-100/ses-1/func/sub-100_ses-1_task-552_desc-confounds_regressors.tsv\n",
      "/gpfs/gibbs/pi/levy_ifat/Nachshon/shared/reversal/fmriprep/sub-132/ses-1/func/sub-132_ses-1_task-570_desc-confounds_regressors.tsv\n",
      "/gpfs/gibbs/pi/levy_ifat/Nachshon/shared/reversal/fmriprep/sub-185/ses-1/func/sub-185_ses-1_task-552_desc-confounds_regressors.tsv\n",
      "/gpfs/gibbs/pi/levy_ifat/Nachshon/shared/reversal/fmriprep/sub-167/ses-1/func/sub-167_ses-1_task-552_desc-confounds_regressors.tsv\n",
      "/gpfs/gibbs/pi/levy_ifat/Nachshon/shared/reversal/fmriprep/sub-043/ses-1/func/sub-043_ses-1_task-552a_desc-confounds_regressors.tsv\n",
      "/gpfs/gibbs/pi/levy_ifat/Nachshon/shared/reversal/fmriprep/sub-062/ses-1/func/sub-062_ses-1_task-552a_desc-confounds_regressors.tsv\n",
      "/gpfs/gibbs/pi/levy_ifat/Nachshon/shared/reversal/fmriprep/sub-073/ses-1/func/sub-073_ses-1_task-552_desc-confounds_regressors.tsv\n",
      "/gpfs/gibbs/pi/levy_ifat/Nachshon/shared/reversal/fmriprep/sub-082/ses-1/func/sub-082_ses-1_task-552_desc-confounds_regressors.tsv\n",
      "/gpfs/gibbs/pi/levy_ifat/Nachshon/shared/reversal/fmriprep/sub-030/ses-1/func/sub-030_ses-1_task-552_desc-confounds_regressors.tsv\n",
      "/gpfs/gibbs/pi/levy_ifat/Nachshon/shared/reversal/fmriprep/sub-160/ses-1/func/sub-160_ses-1_task-552_desc-confounds_regressors.tsv\n",
      "/gpfs/gibbs/pi/levy_ifat/Nachshon/shared/reversal/fmriprep/sub-196/ses-1/func/sub-196_ses-1_task-552_desc-confounds_regressors.tsv\n",
      "/gpfs/gibbs/pi/levy_ifat/Nachshon/shared/reversal/fmriprep/sub-1223/ses-1/func/sub-1223_ses-1_task-552_desc-confounds_regressors.tsv\n",
      "/gpfs/gibbs/pi/levy_ifat/Nachshon/shared/reversal/fmriprep/sub-169/ses-1/func/sub-169_ses-1_task-552_desc-confounds_regressors.tsv\n",
      "/gpfs/gibbs/pi/levy_ifat/Nachshon/shared/reversal/fmriprep/sub-1222/ses-1/func/sub-1222_ses-1_task-552_desc-confounds_regressors.tsv\n",
      "/gpfs/gibbs/pi/levy_ifat/Nachshon/shared/reversal/fmriprep/sub-055/ses-1/func/sub-055_ses-1_task-552_desc-confounds_regressors.tsv\n",
      "/gpfs/gibbs/pi/levy_ifat/Nachshon/shared/reversal/fmriprep/sub-170/ses-1/func/sub-170_ses-1_task-552_desc-confounds_regressors.tsv\n",
      "/gpfs/gibbs/pi/levy_ifat/Nachshon/shared/reversal/fmriprep/sub-047/ses-1/func/sub-047_ses-1_task-552_desc-confounds_regressors.tsv\n",
      "/gpfs/gibbs/pi/levy_ifat/Nachshon/shared/reversal/fmriprep/sub-177/ses-1/func/sub-177_ses-1_task-552_desc-confounds_regressors.tsv\n",
      "/gpfs/gibbs/pi/levy_ifat/Nachshon/shared/reversal/fmriprep/sub-130/ses-1/func/sub-130_ses-1_task-570_desc-confounds_regressors.tsv\n",
      "/gpfs/gibbs/pi/levy_ifat/Nachshon/shared/reversal/fmriprep/sub-172/ses-1/func/sub-172_ses-1_task-552_desc-confounds_regressors.tsv\n",
      "/gpfs/gibbs/pi/levy_ifat/Nachshon/shared/reversal/fmriprep/sub-200/ses-1/func/sub-200_ses-1_task-552_desc-confounds_regressors.tsv\n",
      "/gpfs/gibbs/pi/levy_ifat/Nachshon/shared/reversal/fmriprep/sub-173/ses-1/func/sub-173_ses-1_task-552_desc-confounds_regressors.tsv\n",
      "/gpfs/gibbs/pi/levy_ifat/Nachshon/shared/reversal/fmriprep/sub-026/ses-1/func/sub-026_ses-1_task-552_desc-confounds_regressors.tsv\n",
      "/gpfs/gibbs/pi/levy_ifat/Nachshon/shared/reversal/fmriprep/sub-059/ses-1/func/sub-059_ses-1_task-552_desc-confounds_regressors.tsv\n",
      "/gpfs/gibbs/pi/levy_ifat/Nachshon/shared/reversal/fmriprep/sub-072/ses-1/func/sub-072_ses-1_task-552_desc-confounds_regressors.tsv\n",
      "/gpfs/gibbs/pi/levy_ifat/Nachshon/shared/reversal/fmriprep/sub-1232/ses-1/func/sub-1232_ses-1_task-552_desc-confounds_regressors.tsv\n",
      "/gpfs/gibbs/pi/levy_ifat/Nachshon/shared/reversal/fmriprep/sub-166/ses-1/func/sub-166_ses-1_task-552_desc-confounds_regressors.tsv\n",
      "/gpfs/gibbs/pi/levy_ifat/Nachshon/shared/reversal/fmriprep/sub-032/ses-1/func/sub-032_ses-1_task-552_desc-confounds_regressors.tsv\n",
      "/gpfs/gibbs/pi/levy_ifat/Nachshon/shared/reversal/fmriprep/sub-016/ses-1/func/sub-016_ses-1_task-552_desc-confounds_regressors.tsv\n",
      "/gpfs/gibbs/pi/levy_ifat/Nachshon/shared/reversal/fmriprep/sub-1205/ses-1/func/sub-1205_ses-1_task-552_desc-confounds_regressors.tsv\n",
      "/gpfs/gibbs/pi/levy_ifat/Nachshon/shared/reversal/fmriprep/sub-186/ses-1/func/sub-186_ses-1_task-552_desc-confounds_regressors.tsv\n",
      "/gpfs/gibbs/pi/levy_ifat/Nachshon/shared/reversal/fmriprep/sub-056/ses-1/func/sub-056_ses-1_task-552a_desc-confounds_regressors.tsv\n",
      "/gpfs/gibbs/pi/levy_ifat/Nachshon/shared/reversal/fmriprep/sub-053/ses-1/func/sub-053_ses-1_task-552a_desc-confounds_regressors.tsv\n",
      "/gpfs/gibbs/pi/levy_ifat/Nachshon/shared/reversal/fmriprep/sub-150/ses-1/func/sub-150_ses-1_task-570_desc-confounds_regressors.tsv\n",
      "/gpfs/gibbs/pi/levy_ifat/Nachshon/shared/reversal/fmriprep/sub-065/ses-1/func/sub-065_ses-1_task-552a_desc-confounds_regressors.tsv\n",
      "/gpfs/gibbs/pi/levy_ifat/Nachshon/shared/reversal/fmriprep/sub-154/ses-1/func/sub-154_ses-1_task-570_desc-confounds_regressors.tsv\n",
      "/gpfs/gibbs/pi/levy_ifat/Nachshon/shared/reversal/fmriprep/sub-193/ses-1/func/sub-193_ses-1_task-552_desc-confounds_regressors.tsv\n",
      "/gpfs/gibbs/pi/levy_ifat/Nachshon/shared/reversal/fmriprep/sub-165/ses-1/func/sub-165_ses-1_task-552_desc-confounds_regressors.tsv\n",
      "/gpfs/gibbs/pi/levy_ifat/Nachshon/shared/reversal/fmriprep/sub-103/ses-1/func/sub-103_ses-1_task-552_desc-confounds_regressors.tsv\n",
      "/gpfs/gibbs/pi/levy_ifat/Nachshon/shared/reversal/fmriprep/sub-168/ses-1/func/sub-168_ses-1_task-552_desc-confounds_regressors.tsv\n",
      "/gpfs/gibbs/pi/levy_ifat/Nachshon/shared/reversal/fmriprep/sub-102/ses-1/func/sub-102_ses-1_task-552a_desc-confounds_regressors.tsv\n",
      "/gpfs/gibbs/pi/levy_ifat/Nachshon/shared/reversal/fmriprep/sub-048/ses-1/func/sub-048_ses-1_task-552_desc-confounds_regressors.tsv\n",
      "/gpfs/gibbs/pi/levy_ifat/Nachshon/shared/reversal/fmriprep/sub-027/ses-1/func/sub-027_ses-1_task-552_desc-confounds_regressors.tsv\n",
      "/gpfs/gibbs/pi/levy_ifat/Nachshon/shared/reversal/fmriprep/sub-182/ses-1/func/sub-182_ses-1_task-552_desc-confounds_regressors.tsv\n",
      "/gpfs/gibbs/pi/levy_ifat/Nachshon/shared/reversal/fmriprep/sub-202/ses-1/func/sub-202_ses-1_task-552a_desc-confounds_regressors.tsv\n",
      "/gpfs/gibbs/pi/levy_ifat/Nachshon/shared/reversal/fmriprep/sub-203/ses-1/func/sub-203_ses-1_task-552_desc-confounds_regressors.tsv\n",
      "/gpfs/gibbs/pi/levy_ifat/Nachshon/shared/reversal/fmriprep/sub-066/ses-1/func/sub-066_ses-1_task-552a_desc-confounds_regressors.tsv\n",
      "/gpfs/gibbs/pi/levy_ifat/Nachshon/shared/reversal/fmriprep/sub-038/ses-1/func/sub-038_ses-1_task-552_desc-confounds_regressors.tsv\n",
      "/gpfs/gibbs/pi/levy_ifat/Nachshon/shared/reversal/fmriprep/sub-184/ses-1/func/sub-184_ses-1_task-552_desc-confounds_regressors.tsv\n",
      "/gpfs/gibbs/pi/levy_ifat/Nachshon/shared/reversal/fmriprep/sub-171/ses-1/func/sub-171_ses-1_task-552_desc-confounds_regressors.tsv\n",
      "/gpfs/gibbs/pi/levy_ifat/Nachshon/shared/reversal/fmriprep/sub-179/ses-1/func/sub-179_ses-1_task-552_desc-confounds_regressors.tsv\n",
      "/gpfs/gibbs/pi/levy_ifat/Nachshon/shared/reversal/fmriprep/sub-153/ses-1/func/sub-153_ses-1_task-570_desc-confounds_regressors.tsv\n",
      "/gpfs/gibbs/pi/levy_ifat/Nachshon/shared/reversal/fmriprep/sub-144/ses-1/func/sub-144_ses-1_task-570_desc-confounds_regressors.tsv\n",
      "/gpfs/gibbs/pi/levy_ifat/Nachshon/shared/reversal/fmriprep/sub-178/ses-1/func/sub-178_ses-1_task-552_desc-confounds_regressors.tsv\n",
      "/gpfs/gibbs/pi/levy_ifat/Nachshon/shared/reversal/fmriprep/sub-063/ses-1/func/sub-063_ses-1_task-552a_desc-confounds_regressors.tsv\n",
      "/gpfs/gibbs/pi/levy_ifat/Nachshon/shared/reversal/fmriprep/sub-010/ses-1/func/sub-010_ses-1_task-552_desc-confounds_regressors.tsv\n",
      "/gpfs/gibbs/pi/levy_ifat/Nachshon/shared/reversal/fmriprep/sub-158/ses-1/func/sub-158_ses-1_task-570_desc-confounds_regressors.tsv\n",
      "/gpfs/gibbs/pi/levy_ifat/Nachshon/shared/reversal/fmriprep/sub-083/ses-1/func/sub-083_ses-1_task-552_desc-confounds_regressors.tsv\n",
      "/gpfs/gibbs/pi/levy_ifat/Nachshon/shared/reversal/fmriprep/sub-126/ses-1/func/sub-126_ses-1_task-570_desc-confounds_regressors.tsv\n",
      "/gpfs/gibbs/pi/levy_ifat/Nachshon/shared/reversal/fmriprep/sub-152/ses-1/func/sub-152_ses-1_task-570_desc-confounds_regressors.tsv\n"
     ]
    }
   ],
   "source": [
    "df = []\n",
    "for sub in subject_list:\n",
    "    file = file_temp.format(sub=sub)\n",
    "    file = glob.glob(file)[0]\n",
    "    print(file)\n",
    "    events = events_temp.format(sub=sub)\n",
    "    fd = pd.read_csv(file, sep='\\t').fillna(0)\n",
    "    fd['framewise_displacement'].values\n",
    "    # read events file\n",
    "    ev = pd.read_csv(events)\n",
    "\n",
    "    # average FD per condition\n",
    "    fd_mean_us = []\n",
    "    fd_mean_cs = []\n",
    "    fd_mean_csm = []\n",
    "    fd_mean_total = []\n",
    "    f = fd['framewise_displacement'].values\n",
    "   \n",
    "    for i in ev.iterrows():\n",
    "        on =int(i[1].onset / 2)\n",
    "        cond = i[1].trial_type\n",
    "       # print(on)\n",
    "       # print(cond)\n",
    "        # average FD\n",
    "        f_avg = np.mean(f[on:on+2])\n",
    "       # print(f_avg)\n",
    "        fd_mean_total.append(f_avg)   \n",
    "        if (cond=='CSplusUS1' or cond=='CSminusUS2'):\n",
    "         #   print('US')\n",
    "            fd_mean_us.append(f_avg)\n",
    "        elif (cond=='CSplus1' or cond=='CSplus2'):\n",
    "          #  print('Plus')\n",
    "            fd_mean_cs.append(f_avg)\n",
    "        else:\n",
    "           # print('Minus')\n",
    "            fd_mean_csm.append(f_avg)\n",
    "    # conditions for each subject\n",
    "    conditions = ['US','CS','CSm']\n",
    "    # average per condition\n",
    "    fd_s = [np.mean(fd_mean_us), np.mean(fd_mean_cs), np.mean(fd_mean_csm)]\n",
    "    newD = pd.DataFrame({'subject': pd.Series([sub,sub,sub]), 'cond':pd.Series(conditions), 'fd':pd.Series(fd_s)})\n",
    "    df.append(newD)"
   ]
  },
  {
   "cell_type": "code",
   "execution_count": 9,
   "id": "81d843b8-6a13-4144-a66f-98195c6edb84",
   "metadata": {},
   "outputs": [],
   "source": [
    "df2 = pd.concat(df)"
   ]
  },
  {
   "cell_type": "code",
   "execution_count": 10,
   "id": "b7fe4ad5-f001-4b45-8084-7aaad5c69cc4",
   "metadata": {},
   "outputs": [
    {
     "data": {
      "text/html": [
       "<div>\n",
       "<style scoped>\n",
       "    .dataframe tbody tr th:only-of-type {\n",
       "        vertical-align: middle;\n",
       "    }\n",
       "\n",
       "    .dataframe tbody tr th {\n",
       "        vertical-align: top;\n",
       "    }\n",
       "\n",
       "    .dataframe thead th {\n",
       "        text-align: right;\n",
       "    }\n",
       "</style>\n",
       "<table border=\"1\" class=\"dataframe\">\n",
       "  <thead>\n",
       "    <tr style=\"text-align: right;\">\n",
       "      <th></th>\n",
       "      <th>subject</th>\n",
       "      <th>cond</th>\n",
       "      <th>fd</th>\n",
       "    </tr>\n",
       "  </thead>\n",
       "  <tbody>\n",
       "    <tr>\n",
       "      <th>0</th>\n",
       "      <td>sub-189</td>\n",
       "      <td>US</td>\n",
       "      <td>0.161557</td>\n",
       "    </tr>\n",
       "    <tr>\n",
       "      <th>1</th>\n",
       "      <td>sub-189</td>\n",
       "      <td>CS</td>\n",
       "      <td>0.111459</td>\n",
       "    </tr>\n",
       "    <tr>\n",
       "      <th>2</th>\n",
       "      <td>sub-189</td>\n",
       "      <td>CSm</td>\n",
       "      <td>0.135004</td>\n",
       "    </tr>\n",
       "    <tr>\n",
       "      <th>0</th>\n",
       "      <td>sub-205</td>\n",
       "      <td>US</td>\n",
       "      <td>0.107154</td>\n",
       "    </tr>\n",
       "    <tr>\n",
       "      <th>1</th>\n",
       "      <td>sub-205</td>\n",
       "      <td>CS</td>\n",
       "      <td>0.103271</td>\n",
       "    </tr>\n",
       "    <tr>\n",
       "      <th>...</th>\n",
       "      <td>...</td>\n",
       "      <td>...</td>\n",
       "      <td>...</td>\n",
       "    </tr>\n",
       "    <tr>\n",
       "      <th>1</th>\n",
       "      <td>sub-126</td>\n",
       "      <td>CS</td>\n",
       "      <td>0.167514</td>\n",
       "    </tr>\n",
       "    <tr>\n",
       "      <th>2</th>\n",
       "      <td>sub-126</td>\n",
       "      <td>CSm</td>\n",
       "      <td>0.187928</td>\n",
       "    </tr>\n",
       "    <tr>\n",
       "      <th>0</th>\n",
       "      <td>sub-152</td>\n",
       "      <td>US</td>\n",
       "      <td>0.138973</td>\n",
       "    </tr>\n",
       "    <tr>\n",
       "      <th>1</th>\n",
       "      <td>sub-152</td>\n",
       "      <td>CS</td>\n",
       "      <td>0.142968</td>\n",
       "    </tr>\n",
       "    <tr>\n",
       "      <th>2</th>\n",
       "      <td>sub-152</td>\n",
       "      <td>CSm</td>\n",
       "      <td>0.124659</td>\n",
       "    </tr>\n",
       "  </tbody>\n",
       "</table>\n",
       "<p>195 rows × 3 columns</p>\n",
       "</div>"
      ],
      "text/plain": [
       "    subject cond        fd\n",
       "0   sub-189   US  0.161557\n",
       "1   sub-189   CS  0.111459\n",
       "2   sub-189  CSm  0.135004\n",
       "0   sub-205   US  0.107154\n",
       "1   sub-205   CS  0.103271\n",
       "..      ...  ...       ...\n",
       "1   sub-126   CS  0.167514\n",
       "2   sub-126  CSm  0.187928\n",
       "0   sub-152   US  0.138973\n",
       "1   sub-152   CS  0.142968\n",
       "2   sub-152  CSm  0.124659\n",
       "\n",
       "[195 rows x 3 columns]"
      ]
     },
     "execution_count": 10,
     "metadata": {},
     "output_type": "execute_result"
    }
   ],
   "source": [
    "df2"
   ]
  },
  {
   "cell_type": "code",
   "execution_count": 11,
   "id": "c3d6cd89-5c9d-4126-b335-7b1d65efd3d2",
   "metadata": {},
   "outputs": [
    {
     "data": {
      "text/html": [
       "<div>\n",
       "<style scoped>\n",
       "    .dataframe tbody tr th:only-of-type {\n",
       "        vertical-align: middle;\n",
       "    }\n",
       "\n",
       "    .dataframe tbody tr th {\n",
       "        vertical-align: top;\n",
       "    }\n",
       "\n",
       "    .dataframe thead th {\n",
       "        text-align: right;\n",
       "    }\n",
       "</style>\n",
       "<table border=\"1\" class=\"dataframe\">\n",
       "  <thead>\n",
       "    <tr style=\"text-align: right;\">\n",
       "      <th></th>\n",
       "      <th>Source</th>\n",
       "      <th>ddof1</th>\n",
       "      <th>ddof2</th>\n",
       "      <th>F</th>\n",
       "      <th>p-unc</th>\n",
       "      <th>np2</th>\n",
       "      <th>eps</th>\n",
       "    </tr>\n",
       "  </thead>\n",
       "  <tbody>\n",
       "    <tr>\n",
       "      <th>0</th>\n",
       "      <td>cond</td>\n",
       "      <td>2</td>\n",
       "      <td>128</td>\n",
       "      <td>2.285206</td>\n",
       "      <td>0.10589</td>\n",
       "      <td>0.034475</td>\n",
       "      <td>0.622016</td>\n",
       "    </tr>\n",
       "  </tbody>\n",
       "</table>\n",
       "</div>"
      ],
      "text/plain": [
       "  Source  ddof1  ddof2         F    p-unc       np2       eps\n",
       "0   cond      2    128  2.285206  0.10589  0.034475  0.622016"
      ]
     },
     "execution_count": 11,
     "metadata": {},
     "output_type": "execute_result"
    }
   ],
   "source": [
    "pg.rm_anova(data=df2, dv='fd', within='cond', subject='subject')"
   ]
  },
  {
   "cell_type": "code",
   "execution_count": 80,
   "id": "8cb486da-e62a-4ad2-b174-92af0366e4b2",
   "metadata": {},
   "outputs": [
    {
     "data": {
      "text/html": [
       "<div>\n",
       "<style scoped>\n",
       "    .dataframe tbody tr th:only-of-type {\n",
       "        vertical-align: middle;\n",
       "    }\n",
       "\n",
       "    .dataframe tbody tr th {\n",
       "        vertical-align: top;\n",
       "    }\n",
       "\n",
       "    .dataframe thead th {\n",
       "        text-align: right;\n",
       "    }\n",
       "</style>\n",
       "<table border=\"1\" class=\"dataframe\">\n",
       "  <thead>\n",
       "    <tr style=\"text-align: right;\">\n",
       "      <th></th>\n",
       "      <th>T</th>\n",
       "      <th>dof</th>\n",
       "      <th>alternative</th>\n",
       "      <th>p-val</th>\n",
       "      <th>CI95%</th>\n",
       "      <th>cohen-d</th>\n",
       "      <th>BF10</th>\n",
       "      <th>power</th>\n",
       "    </tr>\n",
       "  </thead>\n",
       "  <tbody>\n",
       "    <tr>\n",
       "      <th>T-test</th>\n",
       "      <td>-0.213248</td>\n",
       "      <td>64</td>\n",
       "      <td>two-sided</td>\n",
       "      <td>0.831811</td>\n",
       "      <td>[-0.01, 0.01]</td>\n",
       "      <td>0.005987</td>\n",
       "      <td>0.139</td>\n",
       "      <td>0.050259</td>\n",
       "    </tr>\n",
       "  </tbody>\n",
       "</table>\n",
       "</div>"
      ],
      "text/plain": [
       "               T  dof alternative     p-val          CI95%   cohen-d   BF10  \\\n",
       "T-test -0.213248   64   two-sided  0.831811  [-0.01, 0.01]  0.005987  0.139   \n",
       "\n",
       "           power  \n",
       "T-test  0.050259  "
      ]
     },
     "execution_count": 80,
     "metadata": {},
     "output_type": "execute_result"
    }
   ],
   "source": [
    "pg.ttest(df2.fd[df2.cond=='US'],df2.fd[df2.cond=='CSm'], paired=True)"
   ]
  },
  {
   "cell_type": "code",
   "execution_count": 81,
   "id": "626a0f3f-3f82-487f-96d8-2e584c2f0b41",
   "metadata": {},
   "outputs": [
    {
     "data": {
      "text/html": [
       "<div>\n",
       "<style scoped>\n",
       "    .dataframe tbody tr th:only-of-type {\n",
       "        vertical-align: middle;\n",
       "    }\n",
       "\n",
       "    .dataframe tbody tr th {\n",
       "        vertical-align: top;\n",
       "    }\n",
       "\n",
       "    .dataframe thead th {\n",
       "        text-align: right;\n",
       "    }\n",
       "</style>\n",
       "<table border=\"1\" class=\"dataframe\">\n",
       "  <thead>\n",
       "    <tr style=\"text-align: right;\">\n",
       "      <th></th>\n",
       "      <th>T</th>\n",
       "      <th>dof</th>\n",
       "      <th>alternative</th>\n",
       "      <th>p-val</th>\n",
       "      <th>CI95%</th>\n",
       "      <th>cohen-d</th>\n",
       "      <th>BF10</th>\n",
       "      <th>power</th>\n",
       "    </tr>\n",
       "  </thead>\n",
       "  <tbody>\n",
       "    <tr>\n",
       "      <th>T-test</th>\n",
       "      <td>1.475753</td>\n",
       "      <td>64</td>\n",
       "      <td>two-sided</td>\n",
       "      <td>0.144914</td>\n",
       "      <td>[-0.0, 0.03]</td>\n",
       "      <td>0.11682</td>\n",
       "      <td>0.381</td>\n",
       "      <td>0.152927</td>\n",
       "    </tr>\n",
       "  </tbody>\n",
       "</table>\n",
       "</div>"
      ],
      "text/plain": [
       "               T  dof alternative     p-val         CI95%  cohen-d   BF10  \\\n",
       "T-test  1.475753   64   two-sided  0.144914  [-0.0, 0.03]  0.11682  0.381   \n",
       "\n",
       "           power  \n",
       "T-test  0.152927  "
      ]
     },
     "execution_count": 81,
     "metadata": {},
     "output_type": "execute_result"
    }
   ],
   "source": [
    "pg.ttest(df2.fd[df2.cond=='US'],df2.fd[df2.cond=='CS'], paired=True)"
   ]
  },
  {
   "cell_type": "code",
   "execution_count": 82,
   "id": "978d218c-5a99-4c7a-9fe6-cb047fa83aa6",
   "metadata": {},
   "outputs": [
    {
     "data": {
      "text/html": [
       "<div>\n",
       "<style scoped>\n",
       "    .dataframe tbody tr th:only-of-type {\n",
       "        vertical-align: middle;\n",
       "    }\n",
       "\n",
       "    .dataframe tbody tr th {\n",
       "        vertical-align: top;\n",
       "    }\n",
       "\n",
       "    .dataframe thead th {\n",
       "        text-align: right;\n",
       "    }\n",
       "</style>\n",
       "<table border=\"1\" class=\"dataframe\">\n",
       "  <thead>\n",
       "    <tr style=\"text-align: right;\">\n",
       "      <th></th>\n",
       "      <th>T</th>\n",
       "      <th>dof</th>\n",
       "      <th>alternative</th>\n",
       "      <th>p-val</th>\n",
       "      <th>CI95%</th>\n",
       "      <th>cohen-d</th>\n",
       "      <th>BF10</th>\n",
       "      <th>power</th>\n",
       "    </tr>\n",
       "  </thead>\n",
       "  <tbody>\n",
       "    <tr>\n",
       "      <th>T-test</th>\n",
       "      <td>-1.675672</td>\n",
       "      <td>64</td>\n",
       "      <td>two-sided</td>\n",
       "      <td>0.098682</td>\n",
       "      <td>[-0.03, 0.0]</td>\n",
       "      <td>0.119293</td>\n",
       "      <td>0.51</td>\n",
       "      <td>0.157454</td>\n",
       "    </tr>\n",
       "  </tbody>\n",
       "</table>\n",
       "</div>"
      ],
      "text/plain": [
       "               T  dof alternative     p-val         CI95%   cohen-d  BF10  \\\n",
       "T-test -1.675672   64   two-sided  0.098682  [-0.03, 0.0]  0.119293  0.51   \n",
       "\n",
       "           power  \n",
       "T-test  0.157454  "
      ]
     },
     "execution_count": 82,
     "metadata": {},
     "output_type": "execute_result"
    }
   ],
   "source": [
    "pg.ttest(df2.fd[df2.cond=='CS'],df2.fd[df2.cond=='CSm'], paired=True)"
   ]
  },
  {
   "cell_type": "code",
   "execution_count": 72,
   "id": "30bbd1f2-0653-4100-9170-debff926f97c",
   "metadata": {},
   "outputs": [
    {
     "data": {
      "text/html": [
       "<div>\n",
       "<style scoped>\n",
       "    .dataframe tbody tr th:only-of-type {\n",
       "        vertical-align: middle;\n",
       "    }\n",
       "\n",
       "    .dataframe tbody tr th {\n",
       "        vertical-align: top;\n",
       "    }\n",
       "\n",
       "    .dataframe thead tr th {\n",
       "        text-align: left;\n",
       "    }\n",
       "\n",
       "    .dataframe thead tr:last-of-type th {\n",
       "        text-align: right;\n",
       "    }\n",
       "</style>\n",
       "<table border=\"1\" class=\"dataframe\">\n",
       "  <thead>\n",
       "    <tr>\n",
       "      <th></th>\n",
       "      <th colspan=\"8\" halign=\"left\">fd</th>\n",
       "    </tr>\n",
       "    <tr>\n",
       "      <th></th>\n",
       "      <th>count</th>\n",
       "      <th>mean</th>\n",
       "      <th>std</th>\n",
       "      <th>min</th>\n",
       "      <th>25%</th>\n",
       "      <th>50%</th>\n",
       "      <th>75%</th>\n",
       "      <th>max</th>\n",
       "    </tr>\n",
       "    <tr>\n",
       "      <th>cond</th>\n",
       "      <th></th>\n",
       "      <th></th>\n",
       "      <th></th>\n",
       "      <th></th>\n",
       "      <th></th>\n",
       "      <th></th>\n",
       "      <th></th>\n",
       "      <th></th>\n",
       "    </tr>\n",
       "  </thead>\n",
       "  <tbody>\n",
       "    <tr>\n",
       "      <th>CS</th>\n",
       "      <td>65.0</td>\n",
       "      <td>0.166985</td>\n",
       "      <td>0.092822</td>\n",
       "      <td>0.061886</td>\n",
       "      <td>0.107435</td>\n",
       "      <td>0.141123</td>\n",
       "      <td>0.193194</td>\n",
       "      <td>0.582391</td>\n",
       "    </tr>\n",
       "    <tr>\n",
       "      <th>CSm</th>\n",
       "      <td>65.0</td>\n",
       "      <td>0.179450</td>\n",
       "      <td>0.114984</td>\n",
       "      <td>0.064717</td>\n",
       "      <td>0.116680</td>\n",
       "      <td>0.142291</td>\n",
       "      <td>0.206081</td>\n",
       "      <td>0.721009</td>\n",
       "    </tr>\n",
       "    <tr>\n",
       "      <th>US</th>\n",
       "      <td>65.0</td>\n",
       "      <td>0.178781</td>\n",
       "      <td>0.108516</td>\n",
       "      <td>0.069305</td>\n",
       "      <td>0.118852</td>\n",
       "      <td>0.147927</td>\n",
       "      <td>0.207947</td>\n",
       "      <td>0.715791</td>\n",
       "    </tr>\n",
       "  </tbody>\n",
       "</table>\n",
       "</div>"
      ],
      "text/plain": [
       "        fd                                                              \\\n",
       "     count      mean       std       min       25%       50%       75%   \n",
       "cond                                                                     \n",
       "CS    65.0  0.166985  0.092822  0.061886  0.107435  0.141123  0.193194   \n",
       "CSm   65.0  0.179450  0.114984  0.064717  0.116680  0.142291  0.206081   \n",
       "US    65.0  0.178781  0.108516  0.069305  0.118852  0.147927  0.207947   \n",
       "\n",
       "                \n",
       "           max  \n",
       "cond            \n",
       "CS    0.582391  \n",
       "CSm   0.721009  \n",
       "US    0.715791  "
      ]
     },
     "execution_count": 72,
     "metadata": {},
     "output_type": "execute_result"
    }
   ],
   "source": [
    "df2.groupby('cond').describe()"
   ]
  },
  {
   "cell_type": "code",
   "execution_count": 75,
   "id": "ccfb5339-6d03-4c7f-b4e1-53e06eebebaf",
   "metadata": {},
   "outputs": [
    {
     "data": {
      "text/plain": [
       "<AxesSubplot:xlabel='cond', ylabel='fd'>"
      ]
     },
     "execution_count": 75,
     "metadata": {},
     "output_type": "execute_result"
    },
    {
     "data": {
      "image/png": "[encoded data removed]",
      "text/plain": [
       "<Figure size 432x288 with 1 Axes>"
      ]
     },
     "metadata": {
      "needs_background": "light"
     },
     "output_type": "display_data"
    }
   ],
   "source": [
    "sns.swarmplot(x='cond', y='fd', data=df2)"
   ]
  },
  {
   "cell_type": "markdown",
   "id": "482ef3ca-5073-43c8-abb7-146578bc0af3",
   "metadata": {},
   "source": [
    "No difference between the different conditions."
   ]
  },
  {
   "cell_type": "markdown",
   "id": "1f3c67de-60df-447e-bfc9-b406816798b2",
   "metadata": {},
   "source": [
    "# Bayesian analysis"
   ]
  },
  {
   "cell_type": "code",
   "execution_count": 18,
   "id": "ea958b4c-5dde-4d3c-be19-209b85cb4e6a",
   "metadata": {},
   "outputs": [],
   "source": [
    "df2['subject'] = df2['subject'].astype('category')\n",
    "#df['condition'] = df['condition'].astype('category')\n",
    "\n",
    "n_sub = len(df2['subject'].unique())\n",
    "subIDX = df2['subject'].cat.codes.values\n",
    "# condition\n",
    "n_cond = len(df2['cond'].unique())\n",
    "#condIDX = df['condition'].cat.codes.values\n",
    "\n",
    "# trialNo\n",
    "y = df2['fd'].values\n",
    "\n",
    "df2['cond'] = df2['cond'].astype('category')\n",
    "# generating condition index\n",
    "condIDX = df2.cond.cat.codes.values"
   ]
  },
  {
   "cell_type": "code",
   "execution_count": null,
   "id": "24e4efe7-a960-479b-9e17-e0288039559c",
   "metadata": {},
   "outputs": [],
   "source": []
  },
  {
   "cell_type": "code",
   "execution_count": 23,
   "id": "6eea49f4-184e-48f1-bce0-155df973cca6",
   "metadata": {},
   "outputs": [
    {
     "name": "stderr",
     "output_type": "stream",
     "text": [
      "Auto-assigning NUTS sampler...\n",
      "Initializing NUTS using jitter+adapt_diag...\n",
      "Multiprocess sampling (4 chains in 10 jobs)\n",
      "NUTS: [eps, b_matt, sigma_b, mu_b, a_matt, sigma_a, mu_a]\n"
     ]
    },
    {
     "data": {
      "text/html": [
       "\n",
       "<style>\n",
       "    /* Turns off some styling */\n",
       "    progress {\n",
       "        /* gets rid of default border in Firefox and Opera. */\n",
       "        border: none;\n",
       "        /* Needs to be in here for Safari polyfill so background images work as expected. */\n",
       "        background-size: auto;\n",
       "    }\n",
       "    .progress-bar-interrupted, .progress-bar-interrupted::-webkit-progress-bar {\n",
       "        background: #F44336;\n",
       "    }\n",
       "</style>\n"
      ],
      "text/plain": [
       "<IPython.core.display.HTML object>"
      ]
     },
     "metadata": {},
     "output_type": "display_data"
    },
    {
     "data": {
      "text/html": [
       "\n",
       "    <div>\n",
       "      <progress value='16000' class='' max='16000' style='width:300px; height:20px; vertical-align: middle;'></progress>\n",
       "      100.00% [16000/16000 08:25<00:00 Sampling 4 chains, 2 divergences]\n",
       "    </div>\n",
       "    "
      ],
      "text/plain": [
       "<IPython.core.display.HTML object>"
      ]
     },
     "metadata": {},
     "output_type": "display_data"
    },
    {
     "name": "stderr",
     "output_type": "stream",
     "text": [
      "Sampling 4 chains for 2_000 tune and 2_000 draw iterations (8_000 + 8_000 draws total) took 507 seconds.\n",
      "There were 2 divergences after tuning. Increase `target_accept` or reparameterize.\n",
      "The number of effective samples is smaller than 25% for some parameters.\n"
     ]
    }
   ],
   "source": [
    "with pm.Model() as model1:\n",
    "    \n",
    "    \n",
    "    mu_a = pm.Normal('mu_a', mu=0, sigma=.5)\n",
    "    sigma_a = pm.HalfCauchy('sigma_a', .5)\n",
    "    a_matt = pm.Normal('a_matt', mu=0, sd=1, shape=n_sub)\n",
    "    a = pm.Deterministic('a', mu_a + sigma_a*a_matt)\n",
    "    \n",
    "    mu_b = pm.Normal('mu_b', mu=0, sigma=.5)\n",
    "    sigma_b = pm.HalfCauchy('sigma_b', .5)\n",
    "    b_matt = pm.Normal('b_matt', mu=0, sigma=1, shape=n_cond)\n",
    "    b_cond = pm.Deterministic('b_cond', mu_b + sigma_b*b_matt)\n",
    "     \n",
    "  \n",
    "    eps = pm.HalfCauchy('eps', .5)\n",
    "    \n",
    "    # make mu a determenistic distribution so we can test later vs. actual data\n",
    "    \n",
    "    mu = pm.Deterministic('mu',a[subIDX] + b_cond[condIDX])\n",
    "    \n",
    "    y_hat = pm.Normal('y_hat', mu=mu, sigma=eps, observed=y)\n",
    "    \n",
    "    trace = pm.sample(target_accept=.95, chains=4, cores=10, return_inferencedata=True, draws=2000, tune=2000)    "
   ]
  },
  {
   "cell_type": "code",
   "execution_count": 26,
   "id": "b8e24a20-b317-45c9-bd5f-4455625a1929",
   "metadata": {},
   "outputs": [
    {
     "data": {
      "text/html": [
       "<div>\n",
       "<style scoped>\n",
       "    .dataframe tbody tr th:only-of-type {\n",
       "        vertical-align: middle;\n",
       "    }\n",
       "\n",
       "    .dataframe tbody tr th {\n",
       "        vertical-align: top;\n",
       "    }\n",
       "\n",
       "    .dataframe thead th {\n",
       "        text-align: right;\n",
       "    }\n",
       "</style>\n",
       "<table border=\"1\" class=\"dataframe\">\n",
       "  <thead>\n",
       "    <tr style=\"text-align: right;\">\n",
       "      <th></th>\n",
       "      <th>mean</th>\n",
       "      <th>sd</th>\n",
       "      <th>hdi_3%</th>\n",
       "      <th>hdi_97%</th>\n",
       "      <th>mcse_mean</th>\n",
       "      <th>mcse_sd</th>\n",
       "      <th>ess_bulk</th>\n",
       "      <th>ess_tail</th>\n",
       "      <th>r_hat</th>\n",
       "    </tr>\n",
       "  </thead>\n",
       "  <tbody>\n",
       "    <tr>\n",
       "      <th>mu_a</th>\n",
       "      <td>0.087</td>\n",
       "      <td>0.354</td>\n",
       "      <td>-0.556</td>\n",
       "      <td>0.784</td>\n",
       "      <td>0.006</td>\n",
       "      <td>0.004</td>\n",
       "      <td>3762.0</td>\n",
       "      <td>4626.0</td>\n",
       "      <td>1.0</td>\n",
       "    </tr>\n",
       "    <tr>\n",
       "      <th>mu_b</th>\n",
       "      <td>0.086</td>\n",
       "      <td>0.354</td>\n",
       "      <td>-0.585</td>\n",
       "      <td>0.744</td>\n",
       "      <td>0.006</td>\n",
       "      <td>0.004</td>\n",
       "      <td>3785.0</td>\n",
       "      <td>4514.0</td>\n",
       "      <td>1.0</td>\n",
       "    </tr>\n",
       "  </tbody>\n",
       "</table>\n",
       "</div>"
      ],
      "text/plain": [
       "       mean     sd  hdi_3%  hdi_97%  mcse_mean  mcse_sd  ess_bulk  ess_tail  \\\n",
       "mu_a  0.087  0.354  -0.556    0.784      0.006    0.004    3762.0    4626.0   \n",
       "mu_b  0.086  0.354  -0.585    0.744      0.006    0.004    3785.0    4514.0   \n",
       "\n",
       "      r_hat  \n",
       "mu_a    1.0  \n",
       "mu_b    1.0  "
      ]
     },
     "execution_count": 26,
     "metadata": {},
     "output_type": "execute_result"
    }
   ],
   "source": [
    "az.summary(trace, var_names=['mu_a','mu_b'])"
   ]
  },
  {
   "cell_type": "code",
   "execution_count": 27,
   "id": "f0cbedd1-e2b3-4d19-a63c-13e314a468d9",
   "metadata": {},
   "outputs": [],
   "source": [
    "# stacking\n",
    "trStacked = trace.posterior.stack(draws=('chain','draw'))"
   ]
  },
  {
   "cell_type": "code",
   "execution_count": 28,
   "id": "0fe249ee-cf29-4744-b508-7d0d49922f9a",
   "metadata": {},
   "outputs": [],
   "source": [
    "csminus = trStacked.b_cond[0,:].values\n",
    "csplus = trStacked.b_cond[1,:].values\n",
    "csPlusUS = trStacked.b_cond[2,:].values\n",
    "csall = np.mean(np.stack([csminus, csplus]), axis=0) # averaging across CSs\n",
    "usVcs = csPlusUS - csall"
   ]
  },
  {
   "cell_type": "code",
   "execution_count": 31,
   "id": "c894062f-cae5-4c4f-ac40-0c338d5f4949",
   "metadata": {},
   "outputs": [
    {
     "data": {
      "text/plain": [
       "Text(0.5, 1.0, 'CSPlusUS-CS Movement')"
      ]
     },
     "execution_count": 31,
     "metadata": {},
     "output_type": "execute_result"
    },
    {
     "data": {
      "text/plain": [
       "<Figure size 1296x216 with 0 Axes>"
      ]
     },
     "metadata": {},
     "output_type": "display_data"
    },
    {
     "data": {
      "image/png": "[encoded data removed]",
      "text/plain": [
       "<Figure size 432x288 with 1 Axes>"
      ]
     },
     "metadata": {},
     "output_type": "display_data"
    }
   ],
   "source": [
    "sns.set_style('ticks')\n",
    "fig = plt.figure(figsize=(18,3))\n",
    "az.plot_posterior(usVcs, point_estimate='mean', kind='hist', ref_val=0).set_title(\"CSPlusUS-CS Movement\")\n"
   ]
  },
  {
   "cell_type": "code",
   "execution_count": 33,
   "id": "32be9eaf-4113-4dab-9cdc-dfd5b31e188d",
   "metadata": {},
   "outputs": [
    {
     "data": {
      "text/plain": [
       "0.778375"
      ]
     },
     "execution_count": 33,
     "metadata": {},
     "output_type": "execute_result"
    }
   ],
   "source": [
    "sum(usVcs > 0) / 8000"
   ]
  },
  {
   "cell_type": "code",
   "execution_count": 30,
   "id": "8aebdb17-e4fe-4596-b2a0-cc7de695382f",
   "metadata": {},
   "outputs": [
    {
     "name": "stderr",
     "output_type": "stream",
     "text": [
      "arviz - WARNING - Shape validation failed: input_shape: (1, 8000), minimum_shape: (chains=2, draws=4)\n"
     ]
    },
    {
     "name": "stdout",
     "output_type": "stream",
     "text": [
      "Standardized coeficient 0.7826170462775169\n"
     ]
    },
    {
     "data": {
      "text/html": [
       "<div>\n",
       "<style scoped>\n",
       "    .dataframe tbody tr th:only-of-type {\n",
       "        vertical-align: middle;\n",
       "    }\n",
       "\n",
       "    .dataframe tbody tr th {\n",
       "        vertical-align: top;\n",
       "    }\n",
       "\n",
       "    .dataframe thead th {\n",
       "        text-align: right;\n",
       "    }\n",
       "</style>\n",
       "<table border=\"1\" class=\"dataframe\">\n",
       "  <thead>\n",
       "    <tr style=\"text-align: right;\">\n",
       "      <th></th>\n",
       "      <th>mean</th>\n",
       "      <th>sd</th>\n",
       "      <th>hdi_3%</th>\n",
       "      <th>hdi_97%</th>\n",
       "      <th>mcse_mean</th>\n",
       "      <th>mcse_sd</th>\n",
       "      <th>ess_bulk</th>\n",
       "      <th>ess_tail</th>\n",
       "      <th>r_hat</th>\n",
       "    </tr>\n",
       "  </thead>\n",
       "  <tbody>\n",
       "    <tr>\n",
       "      <th>x</th>\n",
       "      <td>0.004</td>\n",
       "      <td>0.005</td>\n",
       "      <td>-0.005</td>\n",
       "      <td>0.015</td>\n",
       "      <td>0.0</td>\n",
       "      <td>0.0</td>\n",
       "      <td>5767.0</td>\n",
       "      <td>7803.0</td>\n",
       "      <td>NaN</td>\n",
       "    </tr>\n",
       "  </tbody>\n",
       "</table>\n",
       "</div>"
      ],
      "text/plain": [
       "    mean     sd  hdi_3%  hdi_97%  mcse_mean  mcse_sd  ess_bulk  ess_tail  \\\n",
       "x  0.004  0.005  -0.005    0.015        0.0      0.0    5767.0    7803.0   \n",
       "\n",
       "   r_hat  \n",
       "x    NaN  "
      ]
     },
     "execution_count": 30,
     "metadata": {},
     "output_type": "execute_result"
    }
   ],
   "source": [
    "print(f'Standardized coeficient {np.mean(usVcs) / np.std(usVcs)}')\n",
    "az.summary(usVcs)"
   ]
  }
 ],
 "metadata": {
  "kernelspec": {
   "display_name": "Python 3 (ipykernel)",
   "language": "python",
   "name": "python3"
  },
  "language_info": {
   "codemirror_mode": {
    "name": "ipython",
    "version": 3
   },
   "file_extension": ".py",
   "mimetype": "text/x-python",
   "name": "python",
   "nbconvert_exporter": "python",
   "pygments_lexer": "ipython3",
   "version": "3.9.9"
  }
 },
 "nbformat": 4,
 "nbformat_minor": 5
}
