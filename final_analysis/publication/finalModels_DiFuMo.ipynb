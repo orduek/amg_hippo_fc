{
 "cells": [
  {
   "cell_type": "markdown",
   "id": "19d1860b-6347-419d-b2e3-b91b1cfe8732",
   "metadata": {},
   "source": [
    "# Running the final (best selected) models for comparison between conditions / assessing coefficient"
   ]
  },
  {
   "cell_type": "code",
   "execution_count": 2,
   "id": "25c2fd51-7c20-4f35-b362-122c65c3509d",
   "metadata": {},
   "outputs": [],
   "source": [
    "import pandas as pd\n",
    "import numpy as np\n",
    "import pymc3 as pm\n",
    "import arviz as az\n",
    "\n",
    "import matplotlib.pyplot as plt\n",
    "import seaborn as sns"
   ]
  },
  {
   "cell_type": "code",
   "execution_count": 3,
   "id": "9cf77fb3-9754-42e4-b365-b9feb5647194",
   "metadata": {},
   "outputs": [],
   "source": [
    "# grab data\n",
    "df = pd.read_csv('../../scr_amg_hipp_all.csv')"
   ]
  },
  {
   "cell_type": "code",
   "execution_count": 4,
   "id": "dc7b6e19-8b89-4bd8-8436-01d6f9bbd5ec",
   "metadata": {},
   "outputs": [
    {
     "data": {
      "text/html": [
       "<div>\n",
       "<style scoped>\n",
       "    .dataframe tbody tr th:only-of-type {\n",
       "        vertical-align: middle;\n",
       "    }\n",
       "\n",
       "    .dataframe tbody tr th {\n",
       "        vertical-align: top;\n",
       "    }\n",
       "\n",
       "    .dataframe thead th {\n",
       "        text-align: right;\n",
       "    }\n",
       "</style>\n",
       "<table border=\"1\" class=\"dataframe\">\n",
       "  <thead>\n",
       "    <tr style=\"text-align: right;\">\n",
       "      <th></th>\n",
       "      <th>sub</th>\n",
       "      <th>Condition</th>\n",
       "      <th>Event.Nr</th>\n",
       "      <th>CDA.AmpSum</th>\n",
       "      <th>expected_value</th>\n",
       "      <th>pe</th>\n",
       "      <th>scr</th>\n",
       "      <th>index</th>\n",
       "      <th>subject</th>\n",
       "      <th>trialNo</th>\n",
       "      <th>condition</th>\n",
       "      <th>coupling</th>\n",
       "      <th>amg</th>\n",
       "      <th>Sub</th>\n",
       "      <th>group</th>\n",
       "      <th>Eprime</th>\n",
       "      <th>amg_vmpfc</th>\n",
       "      <th>amg_HippAnt</th>\n",
       "      <th>amg_ctrl</th>\n",
       "    </tr>\n",
       "  </thead>\n",
       "  <tbody>\n",
       "    <tr>\n",
       "      <th>0</th>\n",
       "      <td>sub-189</td>\n",
       "      <td>CSplusUS1</td>\n",
       "      <td>1</td>\n",
       "      <td>0.2852</td>\n",
       "      <td>0.775073</td>\n",
       "      <td>0.500000</td>\n",
       "      <td>0.2852</td>\n",
       "      <td>1794</td>\n",
       "      <td>sub-189</td>\n",
       "      <td>1</td>\n",
       "      <td>CSplusUS1</td>\n",
       "      <td>0.309524</td>\n",
       "      <td>0.981121</td>\n",
       "      <td>sub-189</td>\n",
       "      <td>HC</td>\n",
       "      <td>A</td>\n",
       "      <td>0.904762</td>\n",
       "      <td>0.571429</td>\n",
       "      <td>0.523810</td>\n",
       "    </tr>\n",
       "    <tr>\n",
       "      <th>1</th>\n",
       "      <td>sub-189</td>\n",
       "      <td>CSminus1</td>\n",
       "      <td>2</td>\n",
       "      <td>0.1033</td>\n",
       "      <td>0.772940</td>\n",
       "      <td>-0.500000</td>\n",
       "      <td>0.1033</td>\n",
       "      <td>1795</td>\n",
       "      <td>sub-189</td>\n",
       "      <td>2</td>\n",
       "      <td>CSminus1</td>\n",
       "      <td>-0.571429</td>\n",
       "      <td>-0.027048</td>\n",
       "      <td>sub-189</td>\n",
       "      <td>HC</td>\n",
       "      <td>A</td>\n",
       "      <td>0.404762</td>\n",
       "      <td>-0.119048</td>\n",
       "      <td>0.404762</td>\n",
       "    </tr>\n",
       "    <tr>\n",
       "      <th>2</th>\n",
       "      <td>sub-189</td>\n",
       "      <td>CSplus1</td>\n",
       "      <td>3</td>\n",
       "      <td>0.0783</td>\n",
       "      <td>0.774003</td>\n",
       "      <td>-0.500680</td>\n",
       "      <td>0.0783</td>\n",
       "      <td>1796</td>\n",
       "      <td>sub-189</td>\n",
       "      <td>3</td>\n",
       "      <td>CSplus1</td>\n",
       "      <td>-0.476190</td>\n",
       "      <td>-0.045910</td>\n",
       "      <td>sub-189</td>\n",
       "      <td>HC</td>\n",
       "      <td>A</td>\n",
       "      <td>0.333333</td>\n",
       "      <td>-0.642857</td>\n",
       "      <td>0.119048</td>\n",
       "    </tr>\n",
       "    <tr>\n",
       "      <th>3</th>\n",
       "      <td>sub-189</td>\n",
       "      <td>CSplusUS1</td>\n",
       "      <td>4</td>\n",
       "      <td>0.1772</td>\n",
       "      <td>0.775070</td>\n",
       "      <td>0.500002</td>\n",
       "      <td>0.1772</td>\n",
       "      <td>1797</td>\n",
       "      <td>sub-189</td>\n",
       "      <td>4</td>\n",
       "      <td>CSplusUS1</td>\n",
       "      <td>0.166667</td>\n",
       "      <td>-0.674150</td>\n",
       "      <td>sub-189</td>\n",
       "      <td>HC</td>\n",
       "      <td>A</td>\n",
       "      <td>0.690476</td>\n",
       "      <td>0.357143</td>\n",
       "      <td>0.285714</td>\n",
       "    </tr>\n",
       "    <tr>\n",
       "      <th>4</th>\n",
       "      <td>sub-189</td>\n",
       "      <td>CSminus1</td>\n",
       "      <td>5</td>\n",
       "      <td>0.0000</td>\n",
       "      <td>0.771878</td>\n",
       "      <td>-0.499320</td>\n",
       "      <td>0.0000</td>\n",
       "      <td>1798</td>\n",
       "      <td>sub-189</td>\n",
       "      <td>5</td>\n",
       "      <td>CSminus1</td>\n",
       "      <td>0.214286</td>\n",
       "      <td>-0.065602</td>\n",
       "      <td>sub-189</td>\n",
       "      <td>HC</td>\n",
       "      <td>A</td>\n",
       "      <td>0.595238</td>\n",
       "      <td>0.309524</td>\n",
       "      <td>0.214286</td>\n",
       "    </tr>\n",
       "  </tbody>\n",
       "</table>\n",
       "</div>"
      ],
      "text/plain": [
       "       sub  Condition  Event.Nr  CDA.AmpSum  expected_value        pe     scr  \\\n",
       "0  sub-189  CSplusUS1         1      0.2852        0.775073  0.500000  0.2852   \n",
       "1  sub-189   CSminus1         2      0.1033        0.772940 -0.500000  0.1033   \n",
       "2  sub-189    CSplus1         3      0.0783        0.774003 -0.500680  0.0783   \n",
       "3  sub-189  CSplusUS1         4      0.1772        0.775070  0.500002  0.1772   \n",
       "4  sub-189   CSminus1         5      0.0000        0.771878 -0.499320  0.0000   \n",
       "\n",
       "   index  subject  trialNo  condition  coupling       amg      Sub group  \\\n",
       "0   1794  sub-189        1  CSplusUS1  0.309524  0.981121  sub-189    HC   \n",
       "1   1795  sub-189        2   CSminus1 -0.571429 -0.027048  sub-189    HC   \n",
       "2   1796  sub-189        3    CSplus1 -0.476190 -0.045910  sub-189    HC   \n",
       "3   1797  sub-189        4  CSplusUS1  0.166667 -0.674150  sub-189    HC   \n",
       "4   1798  sub-189        5   CSminus1  0.214286 -0.065602  sub-189    HC   \n",
       "\n",
       "  Eprime  amg_vmpfc  amg_HippAnt  amg_ctrl  \n",
       "0      A   0.904762     0.571429  0.523810  \n",
       "1      A   0.404762    -0.119048  0.404762  \n",
       "2      A   0.333333    -0.642857  0.119048  \n",
       "3      A   0.690476     0.357143  0.285714  \n",
       "4      A   0.595238     0.309524  0.214286  "
      ]
     },
     "execution_count": 4,
     "metadata": {},
     "output_type": "execute_result"
    }
   ],
   "source": [
    "df.head()"
   ]
  },
  {
   "cell_type": "code",
   "execution_count": 5,
   "id": "865b3f4c-05c7-4084-8200-d7206e06d148",
   "metadata": {},
   "outputs": [],
   "source": [
    "# organize data for the Bayes analysis\n",
    "df['sub'] = df['sub'].astype('category')\n",
    "#df['condition'] = df['condition'].astype('category')\n",
    "\n",
    "n_sub = len(df['sub'].unique())\n",
    "subIDX = df['sub'].cat.codes.values\n",
    "# condition\n",
    "n_cond = len(df['condition'].unique())\n",
    "#condIDX = df['condition'].cat.codes.values\n",
    "trials = df.trialNo.values - 1\n",
    "amygdala = df.amg.values\n",
    "df['cond'] = df['condition']#\n",
    "df = df.replace(to_replace={'cond': {'CSminus1':0, 'CSplus1':1, 'CSplusUS1':2, 'CSplus2':3, 'CSminus2':4, 'CSminusUS2':5}})\n",
    "condIDX = df.cond.values"
   ]
  },
  {
   "cell_type": "code",
   "execution_count": 30,
   "id": "7f092580-8230-4e26-8176-8d5de2394647",
   "metadata": {
    "collapsed": true,
    "jupyter": {
     "outputs_hidden": true
    },
    "tags": []
   },
   "outputs": [
    {
     "name": "stderr",
     "output_type": "stream",
     "text": [
      "Auto-assigning NUTS sampler...\n",
      "Initializing NUTS using jitter+adapt_diag...\n"
     ]
    },
    {
     "ename": "KeyboardInterrupt",
     "evalue": "",
     "output_type": "error",
     "traceback": [
      "\u001b[0;31m---------------------------------------------------------------------------\u001b[0m",
      "\u001b[0;31mKeyboardInterrupt\u001b[0m                         Traceback (most recent call last)",
      "Input \u001b[0;32mIn [30]\u001b[0m, in \u001b[0;36m<module>\u001b[0;34m\u001b[0m\n\u001b[1;32m     26\u001b[0m mu \u001b[38;5;241m=\u001b[39m pm\u001b[38;5;241m.\u001b[39mDeterministic(\u001b[38;5;124m'\u001b[39m\u001b[38;5;124mmu\u001b[39m\u001b[38;5;124m'\u001b[39m,a[subIDX] \u001b[38;5;241m+\u001b[39m b_cond[condIDX] \u001b[38;5;241m+\u001b[39m b_trials\u001b[38;5;241m*\u001b[39mtrials \u001b[38;5;241m+\u001b[39m b_amg\u001b[38;5;241m*\u001b[39mdf\u001b[38;5;241m.\u001b[39mamg)\n\u001b[1;32m     28\u001b[0m y_hat \u001b[38;5;241m=\u001b[39m pm\u001b[38;5;241m.\u001b[39mNormal(\u001b[38;5;124m'\u001b[39m\u001b[38;5;124my_hat\u001b[39m\u001b[38;5;124m'\u001b[39m, mu\u001b[38;5;241m=\u001b[39mmu, sigma\u001b[38;5;241m=\u001b[39meps, observed\u001b[38;5;241m=\u001b[39mdf\u001b[38;5;241m.\u001b[39mcoupling)\n\u001b[0;32m---> 30\u001b[0m trace \u001b[38;5;241m=\u001b[39m \u001b[43mpm\u001b[49m\u001b[38;5;241;43m.\u001b[39;49m\u001b[43msample\u001b[49m\u001b[43m(\u001b[49m\u001b[43mtarget_accept\u001b[49m\u001b[38;5;241;43m=\u001b[39;49m\u001b[38;5;241;43m.95\u001b[39;49m\u001b[43m,\u001b[49m\u001b[43m \u001b[49m\u001b[43mchains\u001b[49m\u001b[38;5;241;43m=\u001b[39;49m\u001b[38;5;241;43m4\u001b[39;49m\u001b[43m,\u001b[49m\u001b[43m \u001b[49m\u001b[43mcores\u001b[49m\u001b[38;5;241;43m=\u001b[39;49m\u001b[38;5;241;43m4\u001b[39;49m\u001b[43m,\u001b[49m\u001b[43m \u001b[49m\u001b[43mreturn_inferencedata\u001b[49m\u001b[38;5;241;43m=\u001b[39;49m\u001b[38;5;28;43;01mTrue\u001b[39;49;00m\u001b[43m,\u001b[49m\u001b[43m \u001b[49m\u001b[43mdraws\u001b[49m\u001b[38;5;241;43m=\u001b[39;49m\u001b[38;5;241;43m2000\u001b[39;49m\u001b[43m,\u001b[49m\u001b[43m \u001b[49m\u001b[43mtune\u001b[49m\u001b[38;5;241;43m=\u001b[39;49m\u001b[38;5;241;43m2000\u001b[39;49m\u001b[43m,\u001b[49m\u001b[43m \u001b[49m\u001b[43mrandom_seed\u001b[49m\u001b[38;5;241;43m=\u001b[39;49m\u001b[38;5;241;43m123\u001b[39;49m\u001b[43m)\u001b[49m\n",
      "File \u001b[0;32m/gpfs/ysm/project/joormann/oad4/conda_envs/neuroAnalysis/lib/python3.9/site-packages/pymc3/sampling.py:496\u001b[0m, in \u001b[0;36msample\u001b[0;34m(draws, step, init, n_init, start, trace, chain_idx, chains, cores, tune, progressbar, model, random_seed, discard_tuned_samples, compute_convergence_checks, callback, jitter_max_retries, return_inferencedata, idata_kwargs, mp_ctx, pickle_backend, **kwargs)\u001b[0m\n\u001b[1;32m    493\u001b[0m \u001b[38;5;28;01mtry\u001b[39;00m:\n\u001b[1;32m    494\u001b[0m     \u001b[38;5;66;03m# By default, try to use NUTS\u001b[39;00m\n\u001b[1;32m    495\u001b[0m     _log\u001b[38;5;241m.\u001b[39minfo(\u001b[38;5;124m\"\u001b[39m\u001b[38;5;124mAuto-assigning NUTS sampler...\u001b[39m\u001b[38;5;124m\"\u001b[39m)\n\u001b[0;32m--> 496\u001b[0m     start_, step \u001b[38;5;241m=\u001b[39m \u001b[43minit_nuts\u001b[49m\u001b[43m(\u001b[49m\n\u001b[1;32m    497\u001b[0m \u001b[43m        \u001b[49m\u001b[43minit\u001b[49m\u001b[38;5;241;43m=\u001b[39;49m\u001b[43minit\u001b[49m\u001b[43m,\u001b[49m\n\u001b[1;32m    498\u001b[0m \u001b[43m        \u001b[49m\u001b[43mchains\u001b[49m\u001b[38;5;241;43m=\u001b[39;49m\u001b[43mchains\u001b[49m\u001b[43m,\u001b[49m\n\u001b[1;32m    499\u001b[0m \u001b[43m        \u001b[49m\u001b[43mn_init\u001b[49m\u001b[38;5;241;43m=\u001b[39;49m\u001b[43mn_init\u001b[49m\u001b[43m,\u001b[49m\n\u001b[1;32m    500\u001b[0m \u001b[43m        \u001b[49m\u001b[43mmodel\u001b[49m\u001b[38;5;241;43m=\u001b[39;49m\u001b[43mmodel\u001b[49m\u001b[43m,\u001b[49m\n\u001b[1;32m    501\u001b[0m \u001b[43m        \u001b[49m\u001b[43mrandom_seed\u001b[49m\u001b[38;5;241;43m=\u001b[39;49m\u001b[43mrandom_seed\u001b[49m\u001b[43m,\u001b[49m\n\u001b[1;32m    502\u001b[0m \u001b[43m        \u001b[49m\u001b[43mprogressbar\u001b[49m\u001b[38;5;241;43m=\u001b[39;49m\u001b[43mprogressbar\u001b[49m\u001b[43m,\u001b[49m\n\u001b[1;32m    503\u001b[0m \u001b[43m        \u001b[49m\u001b[43mjitter_max_retries\u001b[49m\u001b[38;5;241;43m=\u001b[39;49m\u001b[43mjitter_max_retries\u001b[49m\u001b[43m,\u001b[49m\n\u001b[1;32m    504\u001b[0m \u001b[43m        \u001b[49m\u001b[38;5;241;43m*\u001b[39;49m\u001b[38;5;241;43m*\u001b[39;49m\u001b[43mkwargs\u001b[49m\u001b[43m,\u001b[49m\n\u001b[1;32m    505\u001b[0m \u001b[43m    \u001b[49m\u001b[43m)\u001b[49m\n\u001b[1;32m    506\u001b[0m     \u001b[38;5;28;01mif\u001b[39;00m start \u001b[38;5;129;01mis\u001b[39;00m \u001b[38;5;28;01mNone\u001b[39;00m:\n\u001b[1;32m    507\u001b[0m         start \u001b[38;5;241m=\u001b[39m start_\n",
      "File \u001b[0;32m/gpfs/ysm/project/joormann/oad4/conda_envs/neuroAnalysis/lib/python3.9/site-packages/pymc3/sampling.py:2098\u001b[0m, in \u001b[0;36minit_nuts\u001b[0;34m(init, chains, n_init, model, random_seed, progressbar, jitter_max_retries, **kwargs)\u001b[0m\n\u001b[1;32m   2096\u001b[0m     potential \u001b[38;5;241m=\u001b[39m quadpotential\u001b[38;5;241m.\u001b[39mQuadPotentialDiagAdapt(model\u001b[38;5;241m.\u001b[39mndim, mean, var, \u001b[38;5;241m10\u001b[39m)\n\u001b[1;32m   2097\u001b[0m \u001b[38;5;28;01melif\u001b[39;00m init \u001b[38;5;241m==\u001b[39m \u001b[38;5;124m\"\u001b[39m\u001b[38;5;124mjitter+adapt_diag\u001b[39m\u001b[38;5;124m\"\u001b[39m:\n\u001b[0;32m-> 2098\u001b[0m     start \u001b[38;5;241m=\u001b[39m \u001b[43m_init_jitter\u001b[49m\u001b[43m(\u001b[49m\u001b[43mmodel\u001b[49m\u001b[43m,\u001b[49m\u001b[43m \u001b[49m\u001b[43mchains\u001b[49m\u001b[43m,\u001b[49m\u001b[43m \u001b[49m\u001b[43mjitter_max_retries\u001b[49m\u001b[43m)\u001b[49m\n\u001b[1;32m   2099\u001b[0m     mean \u001b[38;5;241m=\u001b[39m np\u001b[38;5;241m.\u001b[39mmean([model\u001b[38;5;241m.\u001b[39mdict_to_array(vals) \u001b[38;5;28;01mfor\u001b[39;00m vals \u001b[38;5;129;01min\u001b[39;00m start], axis\u001b[38;5;241m=\u001b[39m\u001b[38;5;241m0\u001b[39m)\n\u001b[1;32m   2100\u001b[0m     var \u001b[38;5;241m=\u001b[39m np\u001b[38;5;241m.\u001b[39mones_like(mean)\n",
      "File \u001b[0;32m/gpfs/ysm/project/joormann/oad4/conda_envs/neuroAnalysis/lib/python3.9/site-packages/pymc3/sampling.py:1991\u001b[0m, in \u001b[0;36m_init_jitter\u001b[0;34m(model, chains, jitter_max_retries)\u001b[0m\n\u001b[1;32m   1989\u001b[0m \u001b[38;5;28;01mif\u001b[39;00m i \u001b[38;5;241m<\u001b[39m jitter_max_retries:\n\u001b[1;32m   1990\u001b[0m     \u001b[38;5;28;01mtry\u001b[39;00m:\n\u001b[0;32m-> 1991\u001b[0m         \u001b[43mcheck_start_vals\u001b[49m\u001b[43m(\u001b[49m\u001b[43mmean\u001b[49m\u001b[43m,\u001b[49m\u001b[43m \u001b[49m\u001b[43mmodel\u001b[49m\u001b[43m)\u001b[49m\n\u001b[1;32m   1992\u001b[0m     \u001b[38;5;28;01mexcept\u001b[39;00m SamplingError:\n\u001b[1;32m   1993\u001b[0m         \u001b[38;5;28;01mpass\u001b[39;00m\n",
      "File \u001b[0;32m/gpfs/ysm/project/joormann/oad4/conda_envs/neuroAnalysis/lib/python3.9/site-packages/pymc3/util.py:234\u001b[0m, in \u001b[0;36mcheck_start_vals\u001b[0;34m(start, model)\u001b[0m\n\u001b[1;32m    228\u001b[0m     valid_keys \u001b[38;5;241m=\u001b[39m \u001b[38;5;124m\"\u001b[39m\u001b[38;5;124m, \u001b[39m\u001b[38;5;124m\"\u001b[39m\u001b[38;5;241m.\u001b[39mjoin(model\u001b[38;5;241m.\u001b[39mnamed_vars\u001b[38;5;241m.\u001b[39mkeys())\n\u001b[1;32m    229\u001b[0m     \u001b[38;5;28;01mraise\u001b[39;00m \u001b[38;5;167;01mKeyError\u001b[39;00m(\n\u001b[1;32m    230\u001b[0m         \u001b[38;5;124m\"\u001b[39m\u001b[38;5;124mSome start parameters do not appear in the model!\u001b[39m\u001b[38;5;130;01m\\n\u001b[39;00m\u001b[38;5;124m\"\u001b[39m\n\u001b[1;32m    231\u001b[0m         \u001b[38;5;124m\"\u001b[39m\u001b[38;5;124mValid keys are: \u001b[39m\u001b[38;5;132;01m{}\u001b[39;00m\u001b[38;5;124m, but \u001b[39m\u001b[38;5;132;01m{}\u001b[39;00m\u001b[38;5;124m was supplied\u001b[39m\u001b[38;5;124m\"\u001b[39m\u001b[38;5;241m.\u001b[39mformat(valid_keys, extra_keys)\n\u001b[1;32m    232\u001b[0m     )\n\u001b[0;32m--> 234\u001b[0m initial_eval \u001b[38;5;241m=\u001b[39m \u001b[43mmodel\u001b[49m\u001b[38;5;241;43m.\u001b[39;49m\u001b[43mcheck_test_point\u001b[49m\u001b[43m(\u001b[49m\u001b[43mtest_point\u001b[49m\u001b[38;5;241;43m=\u001b[39;49m\u001b[43melem\u001b[49m\u001b[43m)\u001b[49m\n\u001b[1;32m    236\u001b[0m \u001b[38;5;28;01mif\u001b[39;00m \u001b[38;5;129;01mnot\u001b[39;00m np\u001b[38;5;241m.\u001b[39mall(np\u001b[38;5;241m.\u001b[39misfinite(initial_eval)):\n\u001b[1;32m    237\u001b[0m     \u001b[38;5;28;01mraise\u001b[39;00m SamplingError(\n\u001b[1;32m    238\u001b[0m         \u001b[38;5;124m\"\u001b[39m\u001b[38;5;124mInitial evaluation of model at starting point failed!\u001b[39m\u001b[38;5;130;01m\\n\u001b[39;00m\u001b[38;5;124m\"\u001b[39m\n\u001b[1;32m    239\u001b[0m         \u001b[38;5;124m\"\u001b[39m\u001b[38;5;124mStarting values:\u001b[39m\u001b[38;5;130;01m\\n\u001b[39;00m\u001b[38;5;132;01m{}\u001b[39;00m\u001b[38;5;130;01m\\n\u001b[39;00m\u001b[38;5;130;01m\\n\u001b[39;00m\u001b[38;5;124m\"\u001b[39m\n\u001b[1;32m    240\u001b[0m         \u001b[38;5;124m\"\u001b[39m\u001b[38;5;124mInitial evaluation results:\u001b[39m\u001b[38;5;130;01m\\n\u001b[39;00m\u001b[38;5;132;01m{}\u001b[39;00m\u001b[38;5;124m\"\u001b[39m\u001b[38;5;241m.\u001b[39mformat(elem, \u001b[38;5;28mstr\u001b[39m(initial_eval))\n\u001b[1;32m    241\u001b[0m     )\n",
      "File \u001b[0;32m/gpfs/ysm/project/joormann/oad4/conda_envs/neuroAnalysis/lib/python3.9/site-packages/pymc3/model.py:1384\u001b[0m, in \u001b[0;36mModel.check_test_point\u001b[0;34m(self, test_point, round_vals)\u001b[0m\n\u001b[1;32m   1380\u001b[0m \u001b[38;5;28;01mif\u001b[39;00m test_point \u001b[38;5;129;01mis\u001b[39;00m \u001b[38;5;28;01mNone\u001b[39;00m:\n\u001b[1;32m   1381\u001b[0m     test_point \u001b[38;5;241m=\u001b[39m \u001b[38;5;28mself\u001b[39m\u001b[38;5;241m.\u001b[39mtest_point\n\u001b[1;32m   1383\u001b[0m \u001b[38;5;28;01mreturn\u001b[39;00m Series(\n\u001b[0;32m-> 1384\u001b[0m     {RV\u001b[38;5;241m.\u001b[39mname: np\u001b[38;5;241m.\u001b[39mround(RV\u001b[38;5;241m.\u001b[39mlogp(test_point), round_vals) \u001b[38;5;28;01mfor\u001b[39;00m RV \u001b[38;5;129;01min\u001b[39;00m \u001b[38;5;28mself\u001b[39m\u001b[38;5;241m.\u001b[39mbasic_RVs},\n\u001b[1;32m   1385\u001b[0m     name\u001b[38;5;241m=\u001b[39m\u001b[38;5;124m\"\u001b[39m\u001b[38;5;124mLog-probability of test_point\u001b[39m\u001b[38;5;124m\"\u001b[39m,\n\u001b[1;32m   1386\u001b[0m )\n",
      "File \u001b[0;32m/gpfs/ysm/project/joormann/oad4/conda_envs/neuroAnalysis/lib/python3.9/site-packages/pymc3/model.py:1384\u001b[0m, in \u001b[0;36m<dictcomp>\u001b[0;34m(.0)\u001b[0m\n\u001b[1;32m   1380\u001b[0m \u001b[38;5;28;01mif\u001b[39;00m test_point \u001b[38;5;129;01mis\u001b[39;00m \u001b[38;5;28;01mNone\u001b[39;00m:\n\u001b[1;32m   1381\u001b[0m     test_point \u001b[38;5;241m=\u001b[39m \u001b[38;5;28mself\u001b[39m\u001b[38;5;241m.\u001b[39mtest_point\n\u001b[1;32m   1383\u001b[0m \u001b[38;5;28;01mreturn\u001b[39;00m Series(\n\u001b[0;32m-> 1384\u001b[0m     {RV\u001b[38;5;241m.\u001b[39mname: np\u001b[38;5;241m.\u001b[39mround(\u001b[43mRV\u001b[49m\u001b[38;5;241;43m.\u001b[39;49m\u001b[43mlogp\u001b[49m(test_point), round_vals) \u001b[38;5;28;01mfor\u001b[39;00m RV \u001b[38;5;129;01min\u001b[39;00m \u001b[38;5;28mself\u001b[39m\u001b[38;5;241m.\u001b[39mbasic_RVs},\n\u001b[1;32m   1385\u001b[0m     name\u001b[38;5;241m=\u001b[39m\u001b[38;5;124m\"\u001b[39m\u001b[38;5;124mLog-probability of test_point\u001b[39m\u001b[38;5;124m\"\u001b[39m,\n\u001b[1;32m   1386\u001b[0m )\n",
      "File \u001b[0;32m/gpfs/ysm/project/joormann/oad4/conda_envs/neuroAnalysis/lib/python3.9/site-packages/pymc3/model.py:417\u001b[0m, in \u001b[0;36mFactor.logp\u001b[0;34m(self)\u001b[0m\n\u001b[1;32m    414\u001b[0m \u001b[38;5;129m@property\u001b[39m\n\u001b[1;32m    415\u001b[0m \u001b[38;5;28;01mdef\u001b[39;00m \u001b[38;5;21mlogp\u001b[39m(\u001b[38;5;28mself\u001b[39m):\n\u001b[1;32m    416\u001b[0m     \u001b[38;5;124;03m\"\"\"Compiled log probability density function\"\"\"\u001b[39;00m\n\u001b[0;32m--> 417\u001b[0m     \u001b[38;5;28;01mreturn\u001b[39;00m \u001b[38;5;28;43mself\u001b[39;49m\u001b[38;5;241;43m.\u001b[39;49m\u001b[43mmodel\u001b[49m\u001b[38;5;241;43m.\u001b[39;49m\u001b[43mfn\u001b[49m\u001b[43m(\u001b[49m\u001b[38;5;28;43mself\u001b[39;49m\u001b[38;5;241;43m.\u001b[39;49m\u001b[43mlogpt\u001b[49m\u001b[43m)\u001b[49m\n",
      "File \u001b[0;32m/gpfs/ysm/project/joormann/oad4/conda_envs/neuroAnalysis/lib/python3.9/site-packages/pymc3/model.py:1278\u001b[0m, in \u001b[0;36mModel.fn\u001b[0;34m(self, outs, mode, *args, **kwargs)\u001b[0m\n\u001b[1;32m   1265\u001b[0m \u001b[38;5;28;01mdef\u001b[39;00m \u001b[38;5;21mfn\u001b[39m(\u001b[38;5;28mself\u001b[39m, outs, mode\u001b[38;5;241m=\u001b[39m\u001b[38;5;28;01mNone\u001b[39;00m, \u001b[38;5;241m*\u001b[39margs, \u001b[38;5;241m*\u001b[39m\u001b[38;5;241m*\u001b[39mkwargs):\n\u001b[1;32m   1266\u001b[0m     \u001b[38;5;124;03m\"\"\"Compiles a Theano function which returns the values of ``outs``\u001b[39;00m\n\u001b[1;32m   1267\u001b[0m \u001b[38;5;124;03m    and takes values of model vars as arguments.\u001b[39;00m\n\u001b[1;32m   1268\u001b[0m \n\u001b[0;32m   (...)\u001b[0m\n\u001b[1;32m   1276\u001b[0m \u001b[38;5;124;03m    Compiled Theano function\u001b[39;00m\n\u001b[1;32m   1277\u001b[0m \u001b[38;5;124;03m    \"\"\"\u001b[39;00m\n\u001b[0;32m-> 1278\u001b[0m     \u001b[38;5;28;01mreturn\u001b[39;00m LoosePointFunc(\u001b[38;5;28;43mself\u001b[39;49m\u001b[38;5;241;43m.\u001b[39;49m\u001b[43mmakefn\u001b[49m\u001b[43m(\u001b[49m\u001b[43mouts\u001b[49m\u001b[43m,\u001b[49m\u001b[43m \u001b[49m\u001b[43mmode\u001b[49m\u001b[43m,\u001b[49m\u001b[43m \u001b[49m\u001b[38;5;241;43m*\u001b[39;49m\u001b[43margs\u001b[49m\u001b[43m,\u001b[49m\u001b[43m \u001b[49m\u001b[38;5;241;43m*\u001b[39;49m\u001b[38;5;241;43m*\u001b[39;49m\u001b[43mkwargs\u001b[49m\u001b[43m)\u001b[49m, \u001b[38;5;28mself\u001b[39m)\n",
      "File \u001b[0;32m/gpfs/ysm/project/joormann/oad4/conda_envs/neuroAnalysis/lib/python3.9/site-packages/pymc3/model.py:1254\u001b[0m, in \u001b[0;36mModel.makefn\u001b[0;34m(self, outs, mode, *args, **kwargs)\u001b[0m\n\u001b[1;32m   1241\u001b[0m \u001b[38;5;124;03m\"\"\"Compiles a Theano function which returns ``outs`` and takes the variable\u001b[39;00m\n\u001b[1;32m   1242\u001b[0m \u001b[38;5;124;03mancestors of ``outs`` as inputs.\u001b[39;00m\n\u001b[1;32m   1243\u001b[0m \n\u001b[0;32m   (...)\u001b[0m\n\u001b[1;32m   1251\u001b[0m \u001b[38;5;124;03mCompiled Theano function\u001b[39;00m\n\u001b[1;32m   1252\u001b[0m \u001b[38;5;124;03m\"\"\"\u001b[39;00m\n\u001b[1;32m   1253\u001b[0m \u001b[38;5;28;01mwith\u001b[39;00m \u001b[38;5;28mself\u001b[39m:\n\u001b[0;32m-> 1254\u001b[0m     \u001b[38;5;28;01mreturn\u001b[39;00m \u001b[43mtheano\u001b[49m\u001b[38;5;241;43m.\u001b[39;49m\u001b[43mfunction\u001b[49m\u001b[43m(\u001b[49m\n\u001b[1;32m   1255\u001b[0m \u001b[43m        \u001b[49m\u001b[38;5;28;43mself\u001b[39;49m\u001b[38;5;241;43m.\u001b[39;49m\u001b[43mvars\u001b[49m\u001b[43m,\u001b[49m\n\u001b[1;32m   1256\u001b[0m \u001b[43m        \u001b[49m\u001b[43mouts\u001b[49m\u001b[43m,\u001b[49m\n\u001b[1;32m   1257\u001b[0m \u001b[43m        \u001b[49m\u001b[43mallow_input_downcast\u001b[49m\u001b[38;5;241;43m=\u001b[39;49m\u001b[38;5;28;43;01mTrue\u001b[39;49;00m\u001b[43m,\u001b[49m\n\u001b[1;32m   1258\u001b[0m \u001b[43m        \u001b[49m\u001b[43mon_unused_input\u001b[49m\u001b[38;5;241;43m=\u001b[39;49m\u001b[38;5;124;43m\"\u001b[39;49m\u001b[38;5;124;43mignore\u001b[39;49m\u001b[38;5;124;43m\"\u001b[39;49m\u001b[43m,\u001b[49m\n\u001b[1;32m   1259\u001b[0m \u001b[43m        \u001b[49m\u001b[43maccept_inplace\u001b[49m\u001b[38;5;241;43m=\u001b[39;49m\u001b[38;5;28;43;01mTrue\u001b[39;49;00m\u001b[43m,\u001b[49m\n\u001b[1;32m   1260\u001b[0m \u001b[43m        \u001b[49m\u001b[43mmode\u001b[49m\u001b[38;5;241;43m=\u001b[39;49m\u001b[43mmode\u001b[49m\u001b[43m,\u001b[49m\n\u001b[1;32m   1261\u001b[0m \u001b[43m        \u001b[49m\u001b[38;5;241;43m*\u001b[39;49m\u001b[43margs\u001b[49m\u001b[43m,\u001b[49m\n\u001b[1;32m   1262\u001b[0m \u001b[43m        \u001b[49m\u001b[38;5;241;43m*\u001b[39;49m\u001b[38;5;241;43m*\u001b[39;49m\u001b[43mkwargs\u001b[49m\u001b[43m,\u001b[49m\n\u001b[1;32m   1263\u001b[0m \u001b[43m    \u001b[49m\u001b[43m)\u001b[49m\n",
      "File \u001b[0;32m/gpfs/ysm/project/joormann/oad4/conda_envs/neuroAnalysis/lib/python3.9/site-packages/theano/compile/function/__init__.py:337\u001b[0m, in \u001b[0;36mfunction\u001b[0;34m(inputs, outputs, mode, updates, givens, no_default_updates, accept_inplace, name, rebuild_strict, allow_input_downcast, profile, on_unused_input)\u001b[0m\n\u001b[1;32m    331\u001b[0m     fn \u001b[38;5;241m=\u001b[39m orig_function(\n\u001b[1;32m    332\u001b[0m         inputs, outputs, mode\u001b[38;5;241m=\u001b[39mmode, accept_inplace\u001b[38;5;241m=\u001b[39maccept_inplace, name\u001b[38;5;241m=\u001b[39mname\n\u001b[1;32m    333\u001b[0m     )\n\u001b[1;32m    334\u001b[0m \u001b[38;5;28;01melse\u001b[39;00m:\n\u001b[1;32m    335\u001b[0m     \u001b[38;5;66;03m# note: pfunc will also call orig_function -- orig_function is\u001b[39;00m\n\u001b[1;32m    336\u001b[0m     \u001b[38;5;66;03m#      a choke point that all compilation must pass through\u001b[39;00m\n\u001b[0;32m--> 337\u001b[0m     fn \u001b[38;5;241m=\u001b[39m \u001b[43mpfunc\u001b[49m\u001b[43m(\u001b[49m\n\u001b[1;32m    338\u001b[0m \u001b[43m        \u001b[49m\u001b[43mparams\u001b[49m\u001b[38;5;241;43m=\u001b[39;49m\u001b[43minputs\u001b[49m\u001b[43m,\u001b[49m\n\u001b[1;32m    339\u001b[0m \u001b[43m        \u001b[49m\u001b[43moutputs\u001b[49m\u001b[38;5;241;43m=\u001b[39;49m\u001b[43moutputs\u001b[49m\u001b[43m,\u001b[49m\n\u001b[1;32m    340\u001b[0m \u001b[43m        \u001b[49m\u001b[43mmode\u001b[49m\u001b[38;5;241;43m=\u001b[39;49m\u001b[43mmode\u001b[49m\u001b[43m,\u001b[49m\n\u001b[1;32m    341\u001b[0m \u001b[43m        \u001b[49m\u001b[43mupdates\u001b[49m\u001b[38;5;241;43m=\u001b[39;49m\u001b[43mupdates\u001b[49m\u001b[43m,\u001b[49m\n\u001b[1;32m    342\u001b[0m \u001b[43m        \u001b[49m\u001b[43mgivens\u001b[49m\u001b[38;5;241;43m=\u001b[39;49m\u001b[43mgivens\u001b[49m\u001b[43m,\u001b[49m\n\u001b[1;32m    343\u001b[0m \u001b[43m        \u001b[49m\u001b[43mno_default_updates\u001b[49m\u001b[38;5;241;43m=\u001b[39;49m\u001b[43mno_default_updates\u001b[49m\u001b[43m,\u001b[49m\n\u001b[1;32m    344\u001b[0m \u001b[43m        \u001b[49m\u001b[43maccept_inplace\u001b[49m\u001b[38;5;241;43m=\u001b[39;49m\u001b[43maccept_inplace\u001b[49m\u001b[43m,\u001b[49m\n\u001b[1;32m    345\u001b[0m \u001b[43m        \u001b[49m\u001b[43mname\u001b[49m\u001b[38;5;241;43m=\u001b[39;49m\u001b[43mname\u001b[49m\u001b[43m,\u001b[49m\n\u001b[1;32m    346\u001b[0m \u001b[43m        \u001b[49m\u001b[43mrebuild_strict\u001b[49m\u001b[38;5;241;43m=\u001b[39;49m\u001b[43mrebuild_strict\u001b[49m\u001b[43m,\u001b[49m\n\u001b[1;32m    347\u001b[0m \u001b[43m        \u001b[49m\u001b[43mallow_input_downcast\u001b[49m\u001b[38;5;241;43m=\u001b[39;49m\u001b[43mallow_input_downcast\u001b[49m\u001b[43m,\u001b[49m\n\u001b[1;32m    348\u001b[0m \u001b[43m        \u001b[49m\u001b[43mon_unused_input\u001b[49m\u001b[38;5;241;43m=\u001b[39;49m\u001b[43mon_unused_input\u001b[49m\u001b[43m,\u001b[49m\n\u001b[1;32m    349\u001b[0m \u001b[43m        \u001b[49m\u001b[43mprofile\u001b[49m\u001b[38;5;241;43m=\u001b[39;49m\u001b[43mprofile\u001b[49m\u001b[43m,\u001b[49m\n\u001b[1;32m    350\u001b[0m \u001b[43m        \u001b[49m\u001b[43moutput_keys\u001b[49m\u001b[38;5;241;43m=\u001b[39;49m\u001b[43moutput_keys\u001b[49m\u001b[43m,\u001b[49m\n\u001b[1;32m    351\u001b[0m \u001b[43m    \u001b[49m\u001b[43m)\u001b[49m\n\u001b[1;32m    352\u001b[0m \u001b[38;5;28;01mreturn\u001b[39;00m fn\n",
      "File \u001b[0;32m/gpfs/ysm/project/joormann/oad4/conda_envs/neuroAnalysis/lib/python3.9/site-packages/theano/compile/function/pfunc.py:524\u001b[0m, in \u001b[0;36mpfunc\u001b[0;34m(params, outputs, mode, updates, givens, no_default_updates, accept_inplace, name, rebuild_strict, allow_input_downcast, profile, on_unused_input, output_keys)\u001b[0m\n\u001b[1;32m    519\u001b[0m         si \u001b[38;5;241m=\u001b[39m In(\n\u001b[1;32m    520\u001b[0m             variable\u001b[38;5;241m=\u001b[39msv, value\u001b[38;5;241m=\u001b[39msv\u001b[38;5;241m.\u001b[39mcontainer, mutable\u001b[38;5;241m=\u001b[39m\u001b[38;5;28;01mFalse\u001b[39;00m, borrow\u001b[38;5;241m=\u001b[39m\u001b[38;5;28;01mTrue\u001b[39;00m, shared\u001b[38;5;241m=\u001b[39m\u001b[38;5;28;01mTrue\u001b[39;00m\n\u001b[1;32m    521\u001b[0m         )\n\u001b[1;32m    522\u001b[0m     inputs\u001b[38;5;241m.\u001b[39mappend(si)\n\u001b[0;32m--> 524\u001b[0m \u001b[38;5;28;01mreturn\u001b[39;00m \u001b[43morig_function\u001b[49m\u001b[43m(\u001b[49m\n\u001b[1;32m    525\u001b[0m \u001b[43m    \u001b[49m\u001b[43minputs\u001b[49m\u001b[43m,\u001b[49m\n\u001b[1;32m    526\u001b[0m \u001b[43m    \u001b[49m\u001b[43mcloned_outputs\u001b[49m\u001b[43m,\u001b[49m\n\u001b[1;32m    527\u001b[0m \u001b[43m    \u001b[49m\u001b[43mmode\u001b[49m\u001b[43m,\u001b[49m\n\u001b[1;32m    528\u001b[0m \u001b[43m    \u001b[49m\u001b[43maccept_inplace\u001b[49m\u001b[38;5;241;43m=\u001b[39;49m\u001b[43maccept_inplace\u001b[49m\u001b[43m,\u001b[49m\n\u001b[1;32m    529\u001b[0m \u001b[43m    \u001b[49m\u001b[43mname\u001b[49m\u001b[38;5;241;43m=\u001b[39;49m\u001b[43mname\u001b[49m\u001b[43m,\u001b[49m\n\u001b[1;32m    530\u001b[0m \u001b[43m    \u001b[49m\u001b[43mprofile\u001b[49m\u001b[38;5;241;43m=\u001b[39;49m\u001b[43mprofile\u001b[49m\u001b[43m,\u001b[49m\n\u001b[1;32m    531\u001b[0m \u001b[43m    \u001b[49m\u001b[43mon_unused_input\u001b[49m\u001b[38;5;241;43m=\u001b[39;49m\u001b[43mon_unused_input\u001b[49m\u001b[43m,\u001b[49m\n\u001b[1;32m    532\u001b[0m \u001b[43m    \u001b[49m\u001b[43moutput_keys\u001b[49m\u001b[38;5;241;43m=\u001b[39;49m\u001b[43moutput_keys\u001b[49m\u001b[43m,\u001b[49m\n\u001b[1;32m    533\u001b[0m \u001b[43m\u001b[49m\u001b[43m)\u001b[49m\n",
      "File \u001b[0;32m/gpfs/ysm/project/joormann/oad4/conda_envs/neuroAnalysis/lib/python3.9/site-packages/theano/compile/function/types.py:1970\u001b[0m, in \u001b[0;36morig_function\u001b[0;34m(inputs, outputs, mode, accept_inplace, name, profile, on_unused_input, output_keys)\u001b[0m\n\u001b[1;32m   1968\u001b[0m \u001b[38;5;28;01mtry\u001b[39;00m:\n\u001b[1;32m   1969\u001b[0m     Maker \u001b[38;5;241m=\u001b[39m \u001b[38;5;28mgetattr\u001b[39m(mode, \u001b[38;5;124m\"\u001b[39m\u001b[38;5;124mfunction_maker\u001b[39m\u001b[38;5;124m\"\u001b[39m, FunctionMaker)\n\u001b[0;32m-> 1970\u001b[0m     m \u001b[38;5;241m=\u001b[39m \u001b[43mMaker\u001b[49m\u001b[43m(\u001b[49m\n\u001b[1;32m   1971\u001b[0m \u001b[43m        \u001b[49m\u001b[43minputs\u001b[49m\u001b[43m,\u001b[49m\n\u001b[1;32m   1972\u001b[0m \u001b[43m        \u001b[49m\u001b[43moutputs\u001b[49m\u001b[43m,\u001b[49m\n\u001b[1;32m   1973\u001b[0m \u001b[43m        \u001b[49m\u001b[43mmode\u001b[49m\u001b[43m,\u001b[49m\n\u001b[1;32m   1974\u001b[0m \u001b[43m        \u001b[49m\u001b[43maccept_inplace\u001b[49m\u001b[38;5;241;43m=\u001b[39;49m\u001b[43maccept_inplace\u001b[49m\u001b[43m,\u001b[49m\n\u001b[1;32m   1975\u001b[0m \u001b[43m        \u001b[49m\u001b[43mprofile\u001b[49m\u001b[38;5;241;43m=\u001b[39;49m\u001b[43mprofile\u001b[49m\u001b[43m,\u001b[49m\n\u001b[1;32m   1976\u001b[0m \u001b[43m        \u001b[49m\u001b[43mon_unused_input\u001b[49m\u001b[38;5;241;43m=\u001b[39;49m\u001b[43mon_unused_input\u001b[49m\u001b[43m,\u001b[49m\n\u001b[1;32m   1977\u001b[0m \u001b[43m        \u001b[49m\u001b[43moutput_keys\u001b[49m\u001b[38;5;241;43m=\u001b[39;49m\u001b[43moutput_keys\u001b[49m\u001b[43m,\u001b[49m\n\u001b[1;32m   1978\u001b[0m \u001b[43m        \u001b[49m\u001b[43mname\u001b[49m\u001b[38;5;241;43m=\u001b[39;49m\u001b[43mname\u001b[49m\u001b[43m,\u001b[49m\n\u001b[1;32m   1979\u001b[0m \u001b[43m    \u001b[49m\u001b[43m)\u001b[49m\n\u001b[1;32m   1980\u001b[0m     \u001b[38;5;28;01mwith\u001b[39;00m config\u001b[38;5;241m.\u001b[39mchange_flags(compute_test_value\u001b[38;5;241m=\u001b[39m\u001b[38;5;124m\"\u001b[39m\u001b[38;5;124moff\u001b[39m\u001b[38;5;124m\"\u001b[39m):\n\u001b[1;32m   1981\u001b[0m         fn \u001b[38;5;241m=\u001b[39m m\u001b[38;5;241m.\u001b[39mcreate(defaults)\n",
      "File \u001b[0;32m/gpfs/ysm/project/joormann/oad4/conda_envs/neuroAnalysis/lib/python3.9/site-packages/theano/compile/function/types.py:1615\u001b[0m, in \u001b[0;36mFunctionMaker.__init__\u001b[0;34m(self, inputs, outputs, mode, accept_inplace, function_builder, profile, on_unused_input, fgraph, output_keys, name)\u001b[0m\n\u001b[1;32m   1611\u001b[0m     optimizer_profile \u001b[38;5;241m=\u001b[39m \u001b[38;5;28mself\u001b[39m\u001b[38;5;241m.\u001b[39moptimize_graph_with_cache(\n\u001b[1;32m   1612\u001b[0m         optimizer, inputs, outputs\n\u001b[1;32m   1613\u001b[0m     )\n\u001b[1;32m   1614\u001b[0m \u001b[38;5;28;01melse\u001b[39;00m:\n\u001b[0;32m-> 1615\u001b[0m     optimizer_profile \u001b[38;5;241m=\u001b[39m \u001b[43moptimizer\u001b[49m\u001b[43m(\u001b[49m\u001b[43mfgraph\u001b[49m\u001b[43m)\u001b[49m\n\u001b[1;32m   1617\u001b[0m end_optimizer \u001b[38;5;241m=\u001b[39m time\u001b[38;5;241m.\u001b[39mtime()\n\u001b[1;32m   1618\u001b[0m opt_time \u001b[38;5;241m=\u001b[39m end_optimizer \u001b[38;5;241m-\u001b[39m start_optimizer\n",
      "File \u001b[0;32m/gpfs/ysm/project/joormann/oad4/conda_envs/neuroAnalysis/lib/python3.9/site-packages/theano/graph/opt.py:92\u001b[0m, in \u001b[0;36mGlobalOptimizer.__call__\u001b[0;34m(self, fgraph)\u001b[0m\n\u001b[1;32m     86\u001b[0m \u001b[38;5;28;01mdef\u001b[39;00m \u001b[38;5;21m__call__\u001b[39m(\u001b[38;5;28mself\u001b[39m, fgraph):\n\u001b[1;32m     87\u001b[0m     \u001b[38;5;124;03m\"\"\"\u001b[39;00m\n\u001b[1;32m     88\u001b[0m \n\u001b[1;32m     89\u001b[0m \u001b[38;5;124;03m    Same as self.optimize(fgraph).\u001b[39;00m\n\u001b[1;32m     90\u001b[0m \n\u001b[1;32m     91\u001b[0m \u001b[38;5;124;03m    \"\"\"\u001b[39;00m\n\u001b[0;32m---> 92\u001b[0m     \u001b[38;5;28;01mreturn\u001b[39;00m \u001b[38;5;28;43mself\u001b[39;49m\u001b[38;5;241;43m.\u001b[39;49m\u001b[43moptimize\u001b[49m\u001b[43m(\u001b[49m\u001b[43mfgraph\u001b[49m\u001b[43m)\u001b[49m\n",
      "File \u001b[0;32m/gpfs/ysm/project/joormann/oad4/conda_envs/neuroAnalysis/lib/python3.9/site-packages/theano/graph/opt.py:83\u001b[0m, in \u001b[0;36mGlobalOptimizer.optimize\u001b[0;34m(self, fgraph, *args, **kwargs)\u001b[0m\n\u001b[1;32m     75\u001b[0m \u001b[38;5;124;03m\"\"\"\u001b[39;00m\n\u001b[1;32m     76\u001b[0m \n\u001b[1;32m     77\u001b[0m \u001b[38;5;124;03mThis is meant as a shortcut to:\u001b[39;00m\n\u001b[0;32m   (...)\u001b[0m\n\u001b[1;32m     80\u001b[0m \n\u001b[1;32m     81\u001b[0m \u001b[38;5;124;03m\"\"\"\u001b[39;00m\n\u001b[1;32m     82\u001b[0m \u001b[38;5;28mself\u001b[39m\u001b[38;5;241m.\u001b[39madd_requirements(fgraph)\n\u001b[0;32m---> 83\u001b[0m ret \u001b[38;5;241m=\u001b[39m \u001b[38;5;28;43mself\u001b[39;49m\u001b[38;5;241;43m.\u001b[39;49m\u001b[43mapply\u001b[49m\u001b[43m(\u001b[49m\u001b[43mfgraph\u001b[49m\u001b[43m,\u001b[49m\u001b[43m \u001b[49m\u001b[38;5;241;43m*\u001b[39;49m\u001b[43margs\u001b[49m\u001b[43m,\u001b[49m\u001b[43m \u001b[49m\u001b[38;5;241;43m*\u001b[39;49m\u001b[38;5;241;43m*\u001b[39;49m\u001b[43mkwargs\u001b[49m\u001b[43m)\u001b[49m\n\u001b[1;32m     84\u001b[0m \u001b[38;5;28;01mreturn\u001b[39;00m ret\n",
      "File \u001b[0;32m/gpfs/ysm/project/joormann/oad4/conda_envs/neuroAnalysis/lib/python3.9/site-packages/theano/graph/opt.py:245\u001b[0m, in \u001b[0;36mSeqOptimizer.apply\u001b[0;34m(self, fgraph)\u001b[0m\n\u001b[1;32m    243\u001b[0m nb_nodes_before \u001b[38;5;241m=\u001b[39m \u001b[38;5;28mlen\u001b[39m(fgraph\u001b[38;5;241m.\u001b[39mapply_nodes)\n\u001b[1;32m    244\u001b[0m t0 \u001b[38;5;241m=\u001b[39m time\u001b[38;5;241m.\u001b[39mtime()\n\u001b[0;32m--> 245\u001b[0m sub_prof \u001b[38;5;241m=\u001b[39m \u001b[43moptimizer\u001b[49m\u001b[38;5;241;43m.\u001b[39;49m\u001b[43moptimize\u001b[49m\u001b[43m(\u001b[49m\u001b[43mfgraph\u001b[49m\u001b[43m)\u001b[49m\n\u001b[1;32m    246\u001b[0m l\u001b[38;5;241m.\u001b[39mappend(\u001b[38;5;28mfloat\u001b[39m(time\u001b[38;5;241m.\u001b[39mtime() \u001b[38;5;241m-\u001b[39m t0))\n\u001b[1;32m    247\u001b[0m sub_profs\u001b[38;5;241m.\u001b[39mappend(sub_prof)\n",
      "File \u001b[0;32m/gpfs/ysm/project/joormann/oad4/conda_envs/neuroAnalysis/lib/python3.9/site-packages/theano/graph/opt.py:83\u001b[0m, in \u001b[0;36mGlobalOptimizer.optimize\u001b[0;34m(self, fgraph, *args, **kwargs)\u001b[0m\n\u001b[1;32m     75\u001b[0m \u001b[38;5;124;03m\"\"\"\u001b[39;00m\n\u001b[1;32m     76\u001b[0m \n\u001b[1;32m     77\u001b[0m \u001b[38;5;124;03mThis is meant as a shortcut to:\u001b[39;00m\n\u001b[0;32m   (...)\u001b[0m\n\u001b[1;32m     80\u001b[0m \n\u001b[1;32m     81\u001b[0m \u001b[38;5;124;03m\"\"\"\u001b[39;00m\n\u001b[1;32m     82\u001b[0m \u001b[38;5;28mself\u001b[39m\u001b[38;5;241m.\u001b[39madd_requirements(fgraph)\n\u001b[0;32m---> 83\u001b[0m ret \u001b[38;5;241m=\u001b[39m \u001b[38;5;28;43mself\u001b[39;49m\u001b[38;5;241;43m.\u001b[39;49m\u001b[43mapply\u001b[49m\u001b[43m(\u001b[49m\u001b[43mfgraph\u001b[49m\u001b[43m,\u001b[49m\u001b[43m \u001b[49m\u001b[38;5;241;43m*\u001b[39;49m\u001b[43margs\u001b[49m\u001b[43m,\u001b[49m\u001b[43m \u001b[49m\u001b[38;5;241;43m*\u001b[39;49m\u001b[38;5;241;43m*\u001b[39;49m\u001b[43mkwargs\u001b[49m\u001b[43m)\u001b[49m\n\u001b[1;32m     84\u001b[0m \u001b[38;5;28;01mreturn\u001b[39;00m ret\n",
      "File \u001b[0;32m/gpfs/ysm/project/joormann/oad4/conda_envs/neuroAnalysis/lib/python3.9/site-packages/theano/graph/opt.py:2537\u001b[0m, in \u001b[0;36mEquilibriumOptimizer.apply\u001b[0;34m(self, fgraph, start_from)\u001b[0m\n\u001b[1;32m   2535\u001b[0m nb \u001b[38;5;241m=\u001b[39m change_tracker\u001b[38;5;241m.\u001b[39mnb_imported\n\u001b[1;32m   2536\u001b[0m t_opt \u001b[38;5;241m=\u001b[39m time\u001b[38;5;241m.\u001b[39mtime()\n\u001b[0;32m-> 2537\u001b[0m lopt_change \u001b[38;5;241m=\u001b[39m \u001b[38;5;28;43mself\u001b[39;49m\u001b[38;5;241;43m.\u001b[39;49m\u001b[43mprocess_node\u001b[49m\u001b[43m(\u001b[49m\u001b[43mfgraph\u001b[49m\u001b[43m,\u001b[49m\u001b[43m \u001b[49m\u001b[43mnode\u001b[49m\u001b[43m,\u001b[49m\u001b[43m \u001b[49m\u001b[43mlopt\u001b[49m\u001b[43m)\u001b[49m\n\u001b[1;32m   2538\u001b[0m time_opts[lopt] \u001b[38;5;241m+\u001b[39m\u001b[38;5;241m=\u001b[39m time\u001b[38;5;241m.\u001b[39mtime() \u001b[38;5;241m-\u001b[39m t_opt\n\u001b[1;32m   2539\u001b[0m \u001b[38;5;28;01mif\u001b[39;00m \u001b[38;5;129;01mnot\u001b[39;00m lopt_change:\n",
      "File \u001b[0;32m/gpfs/ysm/project/joormann/oad4/conda_envs/neuroAnalysis/lib/python3.9/site-packages/theano/graph/opt.py:2017\u001b[0m, in \u001b[0;36mNavigatorOptimizer.process_node\u001b[0;34m(self, fgraph, node, lopt)\u001b[0m\n\u001b[1;32m   2015\u001b[0m lopt \u001b[38;5;241m=\u001b[39m lopt \u001b[38;5;129;01mor\u001b[39;00m \u001b[38;5;28mself\u001b[39m\u001b[38;5;241m.\u001b[39mlocal_opt\n\u001b[1;32m   2016\u001b[0m \u001b[38;5;28;01mtry\u001b[39;00m:\n\u001b[0;32m-> 2017\u001b[0m     replacements \u001b[38;5;241m=\u001b[39m \u001b[43mlopt\u001b[49m\u001b[38;5;241;43m.\u001b[39;49m\u001b[43mtransform\u001b[49m\u001b[43m(\u001b[49m\u001b[43mfgraph\u001b[49m\u001b[43m,\u001b[49m\u001b[43m \u001b[49m\u001b[43mnode\u001b[49m\u001b[43m)\u001b[49m\n\u001b[1;32m   2018\u001b[0m \u001b[38;5;28;01mexcept\u001b[39;00m \u001b[38;5;167;01mException\u001b[39;00m \u001b[38;5;28;01mas\u001b[39;00m e:\n\u001b[1;32m   2019\u001b[0m     \u001b[38;5;28;01mif\u001b[39;00m \u001b[38;5;28mself\u001b[39m\u001b[38;5;241m.\u001b[39mfailure_callback \u001b[38;5;129;01mis\u001b[39;00m \u001b[38;5;129;01mnot\u001b[39;00m \u001b[38;5;28;01mNone\u001b[39;00m:\n",
      "File \u001b[0;32m/gpfs/ysm/project/joormann/oad4/conda_envs/neuroAnalysis/lib/python3.9/site-packages/theano/graph/opt.py:1209\u001b[0m, in \u001b[0;36mFromFunctionLocalOptimizer.transform\u001b[0;34m(self, *args, **kwargs)\u001b[0m\n\u001b[1;32m   1208\u001b[0m \u001b[38;5;28;01mdef\u001b[39;00m \u001b[38;5;21mtransform\u001b[39m(\u001b[38;5;28mself\u001b[39m, \u001b[38;5;241m*\u001b[39margs, \u001b[38;5;241m*\u001b[39m\u001b[38;5;241m*\u001b[39mkwargs):\n\u001b[0;32m-> 1209\u001b[0m     \u001b[38;5;28;01mreturn\u001b[39;00m \u001b[38;5;28;43mself\u001b[39;49m\u001b[38;5;241;43m.\u001b[39;49m\u001b[43mfn\u001b[49m\u001b[43m(\u001b[49m\u001b[38;5;241;43m*\u001b[39;49m\u001b[43margs\u001b[49m\u001b[43m,\u001b[49m\u001b[43m \u001b[49m\u001b[38;5;241;43m*\u001b[39;49m\u001b[38;5;241;43m*\u001b[39;49m\u001b[43mkwargs\u001b[49m\u001b[43m)\u001b[49m\n",
      "File \u001b[0;32m/gpfs/ysm/project/joormann/oad4/conda_envs/neuroAnalysis/lib/python3.9/site-packages/theano/tensor/opt.py:744\u001b[0m, in \u001b[0;36mlocal_dimshuffle_lift\u001b[0;34m(fgraph, node)\u001b[0m\n\u001b[1;32m    742\u001b[0m new_inputs \u001b[38;5;241m=\u001b[39m []\n\u001b[1;32m    743\u001b[0m \u001b[38;5;28;01mfor\u001b[39;00m inp \u001b[38;5;129;01min\u001b[39;00m inode\u001b[38;5;241m.\u001b[39minputs:\n\u001b[0;32m--> 744\u001b[0m     new_inp \u001b[38;5;241m=\u001b[39m \u001b[43mop\u001b[49m\u001b[38;5;241;43m.\u001b[39;49m\u001b[38;5;18;43m__class__\u001b[39;49m\u001b[43m(\u001b[49m\u001b[43minp\u001b[49m\u001b[38;5;241;43m.\u001b[39;49m\u001b[43mtype\u001b[49m\u001b[38;5;241;43m.\u001b[39;49m\u001b[43mbroadcastable\u001b[49m\u001b[43m,\u001b[49m\u001b[43m \u001b[49m\u001b[43mop\u001b[49m\u001b[38;5;241;43m.\u001b[39;49m\u001b[43mnew_order\u001b[49m\u001b[43m)\u001b[49m(inp)\n\u001b[1;32m    745\u001b[0m     new_inputs\u001b[38;5;241m.\u001b[39mappend(apply_local_dimshuffle_lift(fgraph, new_inp))\n\u001b[1;32m    746\u001b[0m copy_stack_trace(node\u001b[38;5;241m.\u001b[39moutputs[\u001b[38;5;241m0\u001b[39m], new_inputs)\n",
      "File \u001b[0;32m/gpfs/ysm/project/joormann/oad4/conda_envs/neuroAnalysis/lib/python3.9/site-packages/theano/tensor/elemwise.py:158\u001b[0m, in \u001b[0;36mDimShuffle.__init__\u001b[0;34m(self, input_broadcastable, new_order, inplace)\u001b[0m\n\u001b[1;32m    157\u001b[0m \u001b[38;5;28;01mdef\u001b[39;00m \u001b[38;5;21m__init__\u001b[39m(\u001b[38;5;28mself\u001b[39m, input_broadcastable, new_order, inplace\u001b[38;5;241m=\u001b[39m\u001b[38;5;28;01mTrue\u001b[39;00m):\n\u001b[0;32m--> 158\u001b[0m     \u001b[38;5;28;43msuper\u001b[39;49m\u001b[43m(\u001b[49m\u001b[43m)\u001b[49m\u001b[38;5;241;43m.\u001b[39;49m\u001b[38;5;21;43m__init__\u001b[39;49m\u001b[43m(\u001b[49m\u001b[43m[\u001b[49m\u001b[38;5;28;43mself\u001b[39;49m\u001b[38;5;241;43m.\u001b[39;49m\u001b[43mc_func_file\u001b[49m\u001b[43m]\u001b[49m\u001b[43m,\u001b[49m\u001b[43m \u001b[49m\u001b[38;5;28;43mself\u001b[39;49m\u001b[38;5;241;43m.\u001b[39;49m\u001b[43mc_func_name\u001b[49m\u001b[43m)\u001b[49m\n\u001b[1;32m    159\u001b[0m     \u001b[38;5;28mself\u001b[39m\u001b[38;5;241m.\u001b[39minput_broadcastable \u001b[38;5;241m=\u001b[39m \u001b[38;5;28mtuple\u001b[39m(input_broadcastable)\n\u001b[1;32m    160\u001b[0m     \u001b[38;5;28mself\u001b[39m\u001b[38;5;241m.\u001b[39mnew_order \u001b[38;5;241m=\u001b[39m \u001b[38;5;28mtuple\u001b[39m(new_order)\n",
      "File \u001b[0;32m/gpfs/ysm/project/joormann/oad4/conda_envs/neuroAnalysis/lib/python3.9/site-packages/theano/graph/op.py:941\u001b[0m, in \u001b[0;36mExternalCOp.__init__\u001b[0;34m(self, func_files, func_name)\u001b[0m\n\u001b[1;32m    938\u001b[0m \u001b[38;5;66;03m# Keep the original name. If we reload old pickle, we want to\u001b[39;00m\n\u001b[1;32m    939\u001b[0m \u001b[38;5;66;03m# find the new path and new version of the file in Theano.\u001b[39;00m\n\u001b[1;32m    940\u001b[0m \u001b[38;5;28mself\u001b[39m\u001b[38;5;241m.\u001b[39mfunc_files \u001b[38;5;241m=\u001b[39m func_files\n\u001b[0;32m--> 941\u001b[0m \u001b[38;5;28;43mself\u001b[39;49m\u001b[38;5;241;43m.\u001b[39;49m\u001b[43mload_c_code\u001b[49m\u001b[43m(\u001b[49m\u001b[43mfunc_files\u001b[49m\u001b[43m)\u001b[49m\n\u001b[1;32m    943\u001b[0m \u001b[38;5;28;01mif\u001b[39;00m \u001b[38;5;28mlen\u001b[39m(\u001b[38;5;28mself\u001b[39m\u001b[38;5;241m.\u001b[39mcode_sections) \u001b[38;5;241m==\u001b[39m \u001b[38;5;241m0\u001b[39m:\n\u001b[1;32m    944\u001b[0m     \u001b[38;5;28;01mraise\u001b[39;00m \u001b[38;5;167;01mValueError\u001b[39;00m(\u001b[38;5;124m\"\u001b[39m\u001b[38;5;124mNo sections where defined in C files\u001b[39m\u001b[38;5;124m\"\u001b[39m)\n",
      "File \u001b[0;32m/gpfs/ysm/project/joormann/oad4/conda_envs/neuroAnalysis/lib/python3.9/site-packages/theano/graph/op.py:966\u001b[0m, in \u001b[0;36mExternalCOp.load_c_code\u001b[0;34m(self, func_files)\u001b[0m\n\u001b[1;32m    963\u001b[0m \u001b[38;5;28;01mfor\u001b[39;00m func_file \u001b[38;5;129;01min\u001b[39;00m func_files:\n\u001b[1;32m    964\u001b[0m     \u001b[38;5;66;03m# U (universal) will convert all new lines format to \\n.\u001b[39;00m\n\u001b[1;32m    965\u001b[0m     \u001b[38;5;28;01mwith\u001b[39;00m \u001b[38;5;28mopen\u001b[39m(func_file) \u001b[38;5;28;01mas\u001b[39;00m f:\n\u001b[0;32m--> 966\u001b[0m         \u001b[38;5;28mself\u001b[39m\u001b[38;5;241m.\u001b[39mfunc_codes\u001b[38;5;241m.\u001b[39mappend(\u001b[43mf\u001b[49m\u001b[38;5;241;43m.\u001b[39;49m\u001b[43mread\u001b[49m\u001b[43m(\u001b[49m\u001b[43m)\u001b[49m)\n\u001b[1;32m    968\u001b[0m \u001b[38;5;66;03m# If both the old section markers and the new section markers are\u001b[39;00m\n\u001b[1;32m    969\u001b[0m \u001b[38;5;66;03m# present, raise an error because we don't know which ones to follow.\u001b[39;00m\n\u001b[1;32m    970\u001b[0m old_markers_present \u001b[38;5;241m=\u001b[39m \u001b[38;5;28;01mFalse\u001b[39;00m\n",
      "File \u001b[0;32m/gpfs/ysm/project/joormann/oad4/conda_envs/neuroAnalysis/lib/python3.9/codecs.py:324\u001b[0m, in \u001b[0;36mBufferedIncrementalDecoder.decode\u001b[0;34m(self, input, final)\u001b[0m\n\u001b[1;32m    322\u001b[0m (result, consumed) \u001b[38;5;241m=\u001b[39m \u001b[38;5;28mself\u001b[39m\u001b[38;5;241m.\u001b[39m_buffer_decode(data, \u001b[38;5;28mself\u001b[39m\u001b[38;5;241m.\u001b[39merrors, final)\n\u001b[1;32m    323\u001b[0m \u001b[38;5;66;03m# keep undecoded input until the next call\u001b[39;00m\n\u001b[0;32m--> 324\u001b[0m \u001b[38;5;28mself\u001b[39m\u001b[38;5;241m.\u001b[39mbuffer \u001b[38;5;241m=\u001b[39m data[consumed:]\n\u001b[1;32m    325\u001b[0m \u001b[38;5;28;01mreturn\u001b[39;00m result\n",
      "\u001b[0;31mKeyboardInterrupt\u001b[0m: "
     ]
    }
   ],
   "source": [
    "# use reparametarization of the same model\n",
    "# add hyperpriors\n",
    "with pm.Model() as model:\n",
    "    \n",
    "    \n",
    "    mu_a = pm.Normal('mu_a', mu=0, sigma=.5)\n",
    "    sigma_a = pm.HalfCauchy('sigma_a', .5)\n",
    "    a_matt = pm.Normal('a_matt', mu=0, sd=1, shape=n_sub)\n",
    "    a = pm.Deterministic('a', mu_a + sigma_a*a_matt)\n",
    "    \n",
    "    mu_b = pm.Normal('mu_b', mu=0, sigma=.5)\n",
    "    sigma_b = pm.HalfCauchy('sigma_b', .5)\n",
    "    b_matt = pm.Normal('b_matt', mu=0, sigma=1, shape=n_cond)\n",
    "    b_cond = pm.Deterministic('b_cond', mu_b + sigma_b*b_matt)\n",
    "    \n",
    "    # add trials and amygdala activation\n",
    "    b_trials = pm.Normal('b_trials', mu=0, sigma=.5)\n",
    "    b_amg = pm.Normal('b_amg', mu=0, sigma=.5)\n",
    "   \n",
    "   \n",
    "  \n",
    "    eps = pm.HalfCauchy('eps', .5)\n",
    "    \n",
    "    # make mu a determenistic distribution so we can test later vs. actual data\n",
    "    \n",
    "    mu = pm.Deterministic('mu',a[subIDX] + b_cond[condIDX] + b_trials*trials + b_amg*df.amg)\n",
    "    \n",
    "    y_hat = pm.Normal('y_hat', mu=mu, sigma=eps, observed=df.coupling)\n",
    "    \n",
    "    trace = pm.sample(target_accept=.95, chains=4, cores=4, return_inferencedata=True, draws=2000, tune=2000, random_seed=123)    "
   ]
  },
  {
   "cell_type": "code",
   "execution_count": 17,
   "id": "502e60a9-6c7e-4160-bb3c-f84e6fa76f86",
   "metadata": {},
   "outputs": [
    {
     "data": {
      "text/html": [
       "<div>\n",
       "<style scoped>\n",
       "    .dataframe tbody tr th:only-of-type {\n",
       "        vertical-align: middle;\n",
       "    }\n",
       "\n",
       "    .dataframe tbody tr th {\n",
       "        vertical-align: top;\n",
       "    }\n",
       "\n",
       "    .dataframe thead th {\n",
       "        text-align: right;\n",
       "    }\n",
       "</style>\n",
       "<table border=\"1\" class=\"dataframe\">\n",
       "  <thead>\n",
       "    <tr style=\"text-align: right;\">\n",
       "      <th></th>\n",
       "      <th>mean</th>\n",
       "      <th>sd</th>\n",
       "      <th>hdi_3%</th>\n",
       "      <th>hdi_97%</th>\n",
       "      <th>mcse_mean</th>\n",
       "      <th>mcse_sd</th>\n",
       "      <th>ess_bulk</th>\n",
       "      <th>ess_tail</th>\n",
       "      <th>r_hat</th>\n",
       "    </tr>\n",
       "  </thead>\n",
       "  <tbody>\n",
       "    <tr>\n",
       "      <th>b_cond[0]</th>\n",
       "      <td>-0.001</td>\n",
       "      <td>0.352</td>\n",
       "      <td>-0.640</td>\n",
       "      <td>0.672</td>\n",
       "      <td>0.006</td>\n",
       "      <td>0.004</td>\n",
       "      <td>3321.0</td>\n",
       "      <td>4837.0</td>\n",
       "      <td>1.0</td>\n",
       "    </tr>\n",
       "    <tr>\n",
       "      <th>b_cond[1]</th>\n",
       "      <td>-0.022</td>\n",
       "      <td>0.352</td>\n",
       "      <td>-0.656</td>\n",
       "      <td>0.652</td>\n",
       "      <td>0.006</td>\n",
       "      <td>0.004</td>\n",
       "      <td>3313.0</td>\n",
       "      <td>4747.0</td>\n",
       "      <td>1.0</td>\n",
       "    </tr>\n",
       "    <tr>\n",
       "      <th>b_cond[2]</th>\n",
       "      <td>0.071</td>\n",
       "      <td>0.352</td>\n",
       "      <td>-0.589</td>\n",
       "      <td>0.723</td>\n",
       "      <td>0.006</td>\n",
       "      <td>0.004</td>\n",
       "      <td>3337.0</td>\n",
       "      <td>4733.0</td>\n",
       "      <td>1.0</td>\n",
       "    </tr>\n",
       "    <tr>\n",
       "      <th>b_cond[3]</th>\n",
       "      <td>-0.040</td>\n",
       "      <td>0.353</td>\n",
       "      <td>-0.675</td>\n",
       "      <td>0.647</td>\n",
       "      <td>0.006</td>\n",
       "      <td>0.004</td>\n",
       "      <td>3289.0</td>\n",
       "      <td>4837.0</td>\n",
       "      <td>1.0</td>\n",
       "    </tr>\n",
       "    <tr>\n",
       "      <th>b_cond[4]</th>\n",
       "      <td>-0.036</td>\n",
       "      <td>0.353</td>\n",
       "      <td>-0.670</td>\n",
       "      <td>0.644</td>\n",
       "      <td>0.006</td>\n",
       "      <td>0.004</td>\n",
       "      <td>3273.0</td>\n",
       "      <td>4880.0</td>\n",
       "      <td>1.0</td>\n",
       "    </tr>\n",
       "    <tr>\n",
       "      <th>b_cond[5]</th>\n",
       "      <td>0.039</td>\n",
       "      <td>0.353</td>\n",
       "      <td>-0.603</td>\n",
       "      <td>0.713</td>\n",
       "      <td>0.006</td>\n",
       "      <td>0.004</td>\n",
       "      <td>3302.0</td>\n",
       "      <td>4868.0</td>\n",
       "      <td>1.0</td>\n",
       "    </tr>\n",
       "    <tr>\n",
       "      <th>b_matt[0]</th>\n",
       "      <td>-0.066</td>\n",
       "      <td>0.500</td>\n",
       "      <td>-1.027</td>\n",
       "      <td>0.853</td>\n",
       "      <td>0.010</td>\n",
       "      <td>0.007</td>\n",
       "      <td>2423.0</td>\n",
       "      <td>4059.0</td>\n",
       "      <td>1.0</td>\n",
       "    </tr>\n",
       "    <tr>\n",
       "      <th>b_matt[1]</th>\n",
       "      <td>-0.435</td>\n",
       "      <td>0.529</td>\n",
       "      <td>-1.463</td>\n",
       "      <td>0.532</td>\n",
       "      <td>0.011</td>\n",
       "      <td>0.008</td>\n",
       "      <td>2289.0</td>\n",
       "      <td>3437.0</td>\n",
       "      <td>1.0</td>\n",
       "    </tr>\n",
       "    <tr>\n",
       "      <th>b_matt[2]</th>\n",
       "      <td>1.221</td>\n",
       "      <td>0.647</td>\n",
       "      <td>-0.037</td>\n",
       "      <td>2.367</td>\n",
       "      <td>0.012</td>\n",
       "      <td>0.009</td>\n",
       "      <td>2669.0</td>\n",
       "      <td>4571.0</td>\n",
       "      <td>1.0</td>\n",
       "    </tr>\n",
       "    <tr>\n",
       "      <th>b_matt[3]</th>\n",
       "      <td>-0.749</td>\n",
       "      <td>0.545</td>\n",
       "      <td>-1.832</td>\n",
       "      <td>0.209</td>\n",
       "      <td>0.011</td>\n",
       "      <td>0.008</td>\n",
       "      <td>2314.0</td>\n",
       "      <td>3763.0</td>\n",
       "      <td>1.0</td>\n",
       "    </tr>\n",
       "    <tr>\n",
       "      <th>b_matt[4]</th>\n",
       "      <td>-0.658</td>\n",
       "      <td>0.539</td>\n",
       "      <td>-1.678</td>\n",
       "      <td>0.334</td>\n",
       "      <td>0.011</td>\n",
       "      <td>0.008</td>\n",
       "      <td>2467.0</td>\n",
       "      <td>3905.0</td>\n",
       "      <td>1.0</td>\n",
       "    </tr>\n",
       "    <tr>\n",
       "      <th>b_matt[5]</th>\n",
       "      <td>0.684</td>\n",
       "      <td>0.584</td>\n",
       "      <td>-0.389</td>\n",
       "      <td>1.778</td>\n",
       "      <td>0.011</td>\n",
       "      <td>0.008</td>\n",
       "      <td>2709.0</td>\n",
       "      <td>4506.0</td>\n",
       "      <td>1.0</td>\n",
       "    </tr>\n",
       "  </tbody>\n",
       "</table>\n",
       "</div>"
      ],
      "text/plain": [
       "            mean     sd  hdi_3%  hdi_97%  mcse_mean  mcse_sd  ess_bulk  \\\n",
       "b_cond[0] -0.001  0.352  -0.640    0.672      0.006    0.004    3321.0   \n",
       "b_cond[1] -0.022  0.352  -0.656    0.652      0.006    0.004    3313.0   \n",
       "b_cond[2]  0.071  0.352  -0.589    0.723      0.006    0.004    3337.0   \n",
       "b_cond[3] -0.040  0.353  -0.675    0.647      0.006    0.004    3289.0   \n",
       "b_cond[4] -0.036  0.353  -0.670    0.644      0.006    0.004    3273.0   \n",
       "b_cond[5]  0.039  0.353  -0.603    0.713      0.006    0.004    3302.0   \n",
       "b_matt[0] -0.066  0.500  -1.027    0.853      0.010    0.007    2423.0   \n",
       "b_matt[1] -0.435  0.529  -1.463    0.532      0.011    0.008    2289.0   \n",
       "b_matt[2]  1.221  0.647  -0.037    2.367      0.012    0.009    2669.0   \n",
       "b_matt[3] -0.749  0.545  -1.832    0.209      0.011    0.008    2314.0   \n",
       "b_matt[4] -0.658  0.539  -1.678    0.334      0.011    0.008    2467.0   \n",
       "b_matt[5]  0.684  0.584  -0.389    1.778      0.011    0.008    2709.0   \n",
       "\n",
       "           ess_tail  r_hat  \n",
       "b_cond[0]    4837.0    1.0  \n",
       "b_cond[1]    4747.0    1.0  \n",
       "b_cond[2]    4733.0    1.0  \n",
       "b_cond[3]    4837.0    1.0  \n",
       "b_cond[4]    4880.0    1.0  \n",
       "b_cond[5]    4868.0    1.0  \n",
       "b_matt[0]    4059.0    1.0  \n",
       "b_matt[1]    3437.0    1.0  \n",
       "b_matt[2]    4571.0    1.0  \n",
       "b_matt[3]    3763.0    1.0  \n",
       "b_matt[4]    3905.0    1.0  \n",
       "b_matt[5]    4506.0    1.0  "
      ]
     },
     "execution_count": 17,
     "metadata": {},
     "output_type": "execute_result"
    }
   ],
   "source": [
    "az.summary(trace, var_names=['b_cond'])"
   ]
  },
  {
   "cell_type": "code",
   "execution_count": 46,
   "id": "20956304-8519-4c00-9dc4-fcc9418ae117",
   "metadata": {},
   "outputs": [
    {
     "data": {
      "text/plain": [
       "(4, 2000, 6)"
      ]
     },
     "execution_count": 46,
     "metadata": {},
     "output_type": "execute_result"
    }
   ],
   "source": [
    "trStacked = trace.posterior.stack(draws=('chain','draw'))\n",
    "csminus1 = trStacked.b_cond[0,:].values\n",
    "csplus1 = trStacked.b_cond[1,:].values\n",
    "csPlusUS1 = trStacked.b_cond[2,:].values\n",
    "csminus2 = trStacked.b_cond[4,:].values\n",
    "csplus2 = trStacked.b_cond[3,:].values\n",
    "csPlusUS2 = trStacked.b_cond[5,:].values\n",
    "csUSboth = np.mean(np.stack([csPlusUS1, csPlusUS2]), axis=0) # averaging across USs\n",
    "csall = np.mean(np.stack([csminus1,csminus2, csplus1, csplus2]), axis=0) # averaging across CSs\n",
    "usVcs = csUSboth - csall"
   ]
  },
  {
   "cell_type": "code",
   "execution_count": null,
   "id": "4809bc20-e7f2-4e03-adaf-a3afc922cd1c",
   "metadata": {},
   "outputs": [],
   "source": [
    "sns.set_style('ticks')\n",
    "fig = plt.figure(figsize=(18,3))\n",
    "az.plot_posterior(usVcs, point_estimate='mean', kind='hist', ref_val=0).set_title(\"CSPlusUS-CS\")"
   ]
  },
  {
   "cell_type": "code",
   "execution_count": null,
   "id": "2f15ccdb-616b-4538-8ab4-f1f275d5401c",
   "metadata": {},
   "outputs": [],
   "source": [
    "print(f'Standardized coeficient {np.mean(usVcs) / np.std(usVcs)}')\n",
    "az.summary(usVcs)"
   ]
  },
  {
   "cell_type": "code",
   "execution_count": null,
   "id": "bf77e22f-e7da-4494-a0c7-2fa4d0ff78c5",
   "metadata": {},
   "outputs": [],
   "source": [
    "# visualization\n",
    "sns.set(font_scale = 1.15)\n",
    "sns.set_style(\"white\")\n",
    "g = sns.catplot(y='coupling',x='condition', data=df, kind='bar', ci=68)\n",
    "g.set_xlabels(\"\")\n",
    "g.set_xticklabels(\n",
    "    labels=[\"CS+US1\", \"CS-1\", \"CS+1\", \"CS+US2\", \"CSminus2\", \"CSplus2\"], rotation=30)\n",
    "plt.text(0.9, 0.165, \"*\")\n",
    "plt.hlines(0.16, 0.1,1.9)\n",
    "plt.text(4, 0.197, \"*\")\n",
    "plt.hlines(0.195, 3.1,5)\n",
    "g.set_ylabels(\"Amygdala Hippocampus Coupling\")\n",
    "g.savefig('coupling_different_Conditions.png', dpi=300, bbox_inches='tight')"
   ]
  },
  {
   "cell_type": "markdown",
   "id": "59838219-aaf3-4490-bc9e-ea0d9e262ff8",
   "metadata": {},
   "source": [
    "## SCR and amg-hippocampus"
   ]
  },
  {
   "cell_type": "code",
   "execution_count": null,
   "id": "b4f28b5e-8629-4817-96f7-aaf88eb5df91",
   "metadata": {},
   "outputs": [],
   "source": [
    "with pm.Model() as model1_scr:\n",
    "    \n",
    "    \n",
    "    mu_a = pm.Normal('mu_a', mu=0, sigma=.5)\n",
    "    sigma_a = pm.HalfCauchy('sigma_a', .5)\n",
    "    a_matt = pm.Normal('a_matt', mu=0, sd=1, shape=n_sub)\n",
    "    a = pm.Deterministic('a', mu_a + sigma_a*a_matt)\n",
    "        \n",
    "    mu_b = pm.Normal('mu_b', mu=0, sigma=.5)\n",
    "    sigma_b = pm.HalfCauchy('sigma_b', .5)\n",
    "    b_matt = pm.Normal('b_matt', mu=0, sigma=1, shape=n_cond)\n",
    "    b_cond = pm.Deterministic('b_cond', mu_b + sigma_b*b_matt)\n",
    "    \n",
    "    # add trials and amygdala activation\n",
    "    b_trials = pm.Normal('b_trials', mu=0, sigma=.5)\n",
    "    b_amg = pm.Normal('b_amg', mu=0, sigma=.5)\n",
    "    \n",
    "    # add coupling\n",
    "    b_coup = pm.Normal('b_coup', mu=0, sigma=.5)\n",
    "    \n",
    "    \n",
    "  \n",
    "    eps = pm.HalfCauchy('eps', .5)\n",
    "    \n",
    "    # make mu a determenistic distribution so we can test later vs. actual data\n",
    "    \n",
    "    mu = pm.Deterministic('mu',a[subIDX] + b_cond[condIDX] + b_trials*trials + b_amg*df.amg + b_coup*df.coupling)\n",
    "    \n",
    "    y_hat = pm.Normal('y_hat', mu=mu, sigma=eps, observed=df.scr)\n",
    "   \n",
    "    \n",
    "    trace_scr = pm.sample(target_accept=.95, chains=4, cores=10, return_inferencedata=True, draws=2000, tune=2000)    "
   ]
  },
  {
   "cell_type": "code",
   "execution_count": null,
   "id": "6d91558c-082e-4f75-857f-cf86a798f27c",
   "metadata": {},
   "outputs": [],
   "source": [
    "az.summary(trace_scr, var_names=['mu_a','b_coup', 'b_cond'])"
   ]
  },
  {
   "cell_type": "code",
   "execution_count": null,
   "id": "4937107b-24ca-4dfd-a86a-f01fb8c70083",
   "metadata": {},
   "outputs": [],
   "source": [
    "sns.set_style(\"ticks\")\n",
    "az.plot_posterior(trace_scr, var_names=['b_coup'], kind='hist', point_estimate='mean',\n",
    "                 ref_val=0)"
   ]
  },
  {
   "cell_type": "markdown",
   "id": "e1d2e1ed-d9b0-4659-8b33-196ca07e96a6",
   "metadata": {},
   "source": [
    "## Prediction error and amg-posterior hippocampus"
   ]
  },
  {
   "cell_type": "code",
   "execution_count": null,
   "id": "fa3afd5c-a78d-400e-b0cc-618ca1cfea52",
   "metadata": {},
   "outputs": [],
   "source": [
    "with pm.Model() as model_pe:\n",
    "    \n",
    "    # adding intercept\n",
    "    intercept = pm.Normal('intercept', mu=0, sigma=1)\n",
    "    \n",
    "    mu_a = pm.Normal('mu_a', mu=0, sigma=.5)\n",
    "    sigma_a = pm.HalfCauchy('sigma_a', .5)\n",
    "    a_matt = pm.Normal('a_matt', mu=0, sd=1, shape=n_sub)\n",
    "    a = pm.Deterministic('a', mu_a + sigma_a*a_matt)\n",
    "        \n",
    "    \n",
    "    # add trials and amygdala activation\n",
    "    b_trials = pm.Normal('b_trials', mu=0, sigma=.5)\n",
    "    b_amg = pm.Normal('b_amg', mu=0, sigma=.5)\n",
    "    \n",
    "    # add coupling\n",
    "    #b_coup = pm.Normal('b_coup', mu=0, sigma=.5)\n",
    "    mu_coup = pm.Normal('mu_coup', mu=0, sigma=.5)\n",
    "    sigma_coup = pm.HalfCauchy('sigma_coup', .5)\n",
    "    coup_matt = pm.Normal('coup_matt', mu=0, sd=1, shape=n_sub)\n",
    "    b_coup = pm.Deterministic('b_coup', mu_coup + sigma_coup*coup_matt)\n",
    "    \n",
    "  \n",
    "    eps = pm.HalfCauchy('eps', .5)\n",
    "    \n",
    "    # make mu a determenistic distribution so we can test later vs. actual data\n",
    "    \n",
    "    mu = pm.Deterministic('mu',intercept + a[subIDX] + b_trials*trials + b_amg*df.amg + b_coup[subIDX]*df.coupling)\n",
    "    \n",
    "    y_hat = pm.Normal('y_hat', mu=mu, sigma=eps, observed=df.pe)\n",
    "   \n",
    "    \n",
    "    trace_pe = pm.sample(target_accept=.95, chains=4, cores=10, return_inferencedata=True, draws=2000, tune=2000)"
   ]
  },
  {
   "cell_type": "code",
   "execution_count": null,
   "id": "511e2395-2c10-4818-930d-5a5b932ff5a1",
   "metadata": {},
   "outputs": [],
   "source": [
    "az.summary(trace_pe, var_names=['mu_coup','b_coup','b_amg','b_trials', 'mu_a', 'intercept'])"
   ]
  },
  {
   "cell_type": "code",
   "execution_count": null,
   "id": "bf5bc072-639a-48e3-8e7e-8ff9a070b2a2",
   "metadata": {},
   "outputs": [],
   "source": [
    "sns.set_style(\"ticks\")\n",
    "p = az.plot_posterior(trace1_pe, var_names=['mu_coup'],\n",
    "                 kind='hist', ref_val=0, point_estimate='mean')\n",
    "p[0].set_title(\"Amg-Hipp Coupling\")"
   ]
  },
  {
   "cell_type": "code",
   "execution_count": null,
   "id": "c05a096c-199f-4676-b8cc-981193f81bce",
   "metadata": {},
   "outputs": [],
   "source": [
    "# visualization\n",
    "# plot results\n",
    "forPlot = df.groupby(['Event.Nr']).mean()\n",
    "sns.set(font_scale = 1.15)\n",
    "sns.set_style(\"whitegrid\")\n",
    "a = sns.lmplot(x ='pe', y='coupling', data= forPlot)\n",
    "a.set_axis_labels(\"Prediction Error\")\n",
    "a.set_ylabels(\"Amygdala Hippocampus Coupling\")\n",
    "plt.text(-0.6,0.23, \"r=0.42, p<0.0003\")\n",
    "\n",
    "a.set(xlim = (-0.7,0.95))\n",
    "a.set(xticks=np.linspace(-0.7, 0.95, 6).round(1))\n",
    "a.savefig('pe_coupling.png', dpi=300, bbox_inches='tight')\n",
    "pg.corr(forPlot['pe'], forPlot['coupling'])"
   ]
  },
  {
   "cell_type": "markdown",
   "id": "05bc2b98-633c-478c-990e-6488f6553f64",
   "metadata": {},
   "source": [
    "# Amygdala vmPFC"
   ]
  },
  {
   "cell_type": "code",
   "execution_count": null,
   "id": "1322caaf-833b-4e79-9d71-f888ff2ca06c",
   "metadata": {},
   "outputs": [],
   "source": [
    "with pm.Model() as model1_vmpfc:\n",
    "    \n",
    "    \n",
    "    mu_a = pm.Normal('mu_a', mu=0, sigma=.5)\n",
    "    sigma_a = pm.HalfCauchy('sigma_a', .5)\n",
    "    a_matt = pm.Normal('a_matt', mu=0, sd=1, shape=n_sub)\n",
    "    a = pm.Deterministic('a', mu_a + sigma_a*a_matt)\n",
    "    \n",
    "    mu_b = pm.Normal('mu_b', mu=0, sigma=.5)\n",
    "    sigma_b = pm.HalfCauchy('sigma_b', .5)\n",
    "    b_matt = pm.Normal('b_matt', mu=0, sigma=1, shape=n_cond)\n",
    "    b_cond = pm.Deterministic('b_cond', mu_b + sigma_b*b_matt)\n",
    "    \n",
    "    # add trials and amygdala activation\n",
    "    b_trials = pm.Normal('b_trials', mu=0, sigma=.5)\n",
    "    b_amg = pm.Normal('b_amg', mu=0, sigma=.5)\n",
    "   \n",
    "   \n",
    "  \n",
    "    eps = pm.HalfCauchy('eps', .5)\n",
    "    \n",
    "    # make mu a determenistic distribution so we can test later vs. actual data\n",
    "    \n",
    "    mu = pm.Deterministic('mu',a[subIDX] + b_cond[condIDX] + b_trials*trials + b_amg*df.amg)\n",
    "    \n",
    "    y_hat = pm.Normal('y_hat', mu=mu, sigma=eps, observed=df['amg_vmpfc'])\n",
    "    \n",
    "    trace1_vmpfc = pm.sample(target_accept=.95, chains=4, cores=10, return_inferencedata=True, draws=2000, tune=2000)    "
   ]
  },
  {
   "cell_type": "code",
   "execution_count": null,
   "id": "9cb1ca12-6ca0-4135-a6d2-83960da7a934",
   "metadata": {},
   "outputs": [],
   "source": [
    "trStackedvmPFC = trace1_vmpfc.posterior.stack(draws=('chain','draw'))\n",
    "csminus1 = trStackedvmPFC.b_cond[0,:].values\n",
    "csplus1 = trStackedvmPFC.b_cond[1,:].values\n",
    "csPlusUS1 = trStackedvmPFC.b_cond[2,:].values\n",
    "csminus2 = trStackedvmPFC.b_cond[4,:].values\n",
    "csplus2 = trStackedvmPFC.b_cond[3,:].values\n",
    "csPlusUS2 = trStackedvmPFC.b_cond[5,:].values\n",
    "csUSboth = np.mean(np.stack([csPlusUS1, csPlusUS2]), axis=0) # averaging across USs\n",
    "csall = np.mean(np.stack([csminus1,csminus2, csplus1, csplus2]), axis=0) # averaging across CSs\n",
    "usVcs = csUSboth - csall\n"
   ]
  },
  {
   "cell_type": "code",
   "execution_count": null,
   "id": "d32cfc6d-d252-4c06-9c18-69bcb0567973",
   "metadata": {},
   "outputs": [],
   "source": [
    "sns.set_style('ticks')\n",
    "fig = plt.figure(figsize=(18,3))\n",
    "az.plot_posterior(usVcs, point_estimate='mean', kind='hist', ref_val=0).set_title(\"CSPlusUS-CS in vmPFC\")\n"
   ]
  },
  {
   "cell_type": "code",
   "execution_count": null,
   "id": "9a8fca4b-1e5e-440a-88ae-7d2240454272",
   "metadata": {},
   "outputs": [],
   "source": [
    "print(f'Standardized coeficient {np.mean(usVcs) / np.std(usVcs)}')\n",
    "az.summary(usVcs)"
   ]
  },
  {
   "cell_type": "code",
   "execution_count": null,
   "id": "0d8213ee-8f66-4047-87dd-5088e7617177",
   "metadata": {},
   "outputs": [],
   "source": [
    "# visualization\n",
    "sns.set(font_scale = 1.15)\n",
    "sns.set_style(\"white\")\n",
    "g = sns.catplot(y='coupling',x='condition', data=dfvmpfc, kind='bar', ci=68)\n",
    "g.set_xlabels(\"\")\n",
    "g.set_xticklabels(\n",
    "    labels=[\"CS+US1\", \"CS-1\", \"CS+1\", \"CS+US2\", \"CSminus2\", \"CSplus2\"], rotation=30)\n",
    "g.set_ylabels(\"Amygdala vmPFC Coupling\")\n",
    "#g.savefig('coupling_different_Conditions.png', dpi=300, bbox_inches='tight')"
   ]
  },
  {
   "cell_type": "markdown",
   "id": "32068ada-b47a-484e-b6cc-b9be6c299435",
   "metadata": {},
   "source": [
    "## SCR"
   ]
  },
  {
   "cell_type": "code",
   "execution_count": null,
   "id": "3a8f4105-9c63-45c6-bbee-57d5bb432e4d",
   "metadata": {},
   "outputs": [],
   "source": [
    "with pm.Model() as scr_vmpfc:\n",
    "    \n",
    "    \n",
    "    mu_a = pm.Normal('mu_a', mu=0, sigma=.5)\n",
    "    sigma_a = pm.HalfCauchy('sigma_a', .5)\n",
    "    a_matt = pm.Normal('a_matt', mu=0, sd=1, shape=n_sub)\n",
    "    a = pm.Deterministic('a', mu_a + sigma_a*a_matt)\n",
    "        \n",
    "    mu_b = pm.Normal('mu_b', mu=0, sigma=.5)\n",
    "    sigma_b = pm.HalfCauchy('sigma_b', .5)\n",
    "    b_matt = pm.Normal('b_matt', mu=0, sigma=1, shape=n_cond)\n",
    "    b_cond = pm.Deterministic('b_cond', mu_b + sigma_b*b_matt)\n",
    "    \n",
    "    # add trials and amygdala activation\n",
    "    b_trials = pm.Normal('b_trials', mu=0, sigma=.5)\n",
    "    b_amg = pm.Normal('b_amg', mu=0, sigma=.5)\n",
    "    \n",
    "    # add coupling\n",
    "    b_coup = pm.Normal('b_coup', mu=0, sigma=.5)\n",
    "    \n",
    "    \n",
    "  \n",
    "    eps = pm.HalfCauchy('eps', .5)\n",
    "    \n",
    "    # make mu a determenistic distribution so we can test later vs. actual data\n",
    "    \n",
    "    #mu = pm.Deterministic('mu',a[subIDX] + b_cond[condIDX] + b_trials*trials + b_amg*df.amg + b_coup*df.amg_vmpfc)\n",
    "    \n",
    "    mu = a[subIDX] + b_cond[condIDX] + b_trials*trials + b_amg*df.amg + b_coup*df.amg_vmpfc\n",
    "    \n",
    "    y_hat = pm.Normal('y_hat', mu=mu, sigma=eps, observed=df.scr)\n",
    "   \n",
    "    \n",
    "    trace1_scr_vmpfc = pm.sample(target_accept=.98, chains=4, cores=10, return_inferencedata=True, draws=2000, tune=2000, random_seed=145)  "
   ]
  },
  {
   "cell_type": "code",
   "execution_count": null,
   "id": "f225ef14-8f00-46b7-b138-78d1a9262f5d",
   "metadata": {},
   "outputs": [],
   "source": [
    "az.summary(trace1_scr_vmpfc, var_names=['b_coup','b_cond','b_matt'])"
   ]
  },
  {
   "cell_type": "code",
   "execution_count": null,
   "id": "5e564cef-80c1-41b0-9a05-e5c8b541016d",
   "metadata": {},
   "outputs": [],
   "source": [
    "az.plot_posterior(trace1_scr_vmpfc,var_names=['b_coup'], kind='hist', ref_val=0, point_estimate='mean')"
   ]
  },
  {
   "cell_type": "markdown",
   "id": "3a869bfa-e330-4d04-8ae7-e50044f53ede",
   "metadata": {},
   "source": [
    "## prediction error"
   ]
  },
  {
   "cell_type": "code",
   "execution_count": null,
   "id": "d753fe21-9add-4e63-a42a-2214780d246d",
   "metadata": {},
   "outputs": [],
   "source": [
    "with pm.Model() as model_pe_vmpfc:\n",
    "    \n",
    "    # adding intercept\n",
    "    intercept = pm.Normal('intercept', mu=0, sigma=1)\n",
    "    \n",
    "    mu_a = pm.Normal('mu_a', mu=0, sigma=.5)\n",
    "    sigma_a = pm.HalfCauchy('sigma_a', .5)\n",
    "    a_matt = pm.Normal('a_matt', mu=0, sd=1, shape=n_sub)\n",
    "    a = pm.Deterministic('a', mu_a + sigma_a*a_matt)\n",
    "        \n",
    "    \n",
    "    # add trials and amygdala activation\n",
    "    b_trials = pm.Normal('b_trials', mu=0, sigma=.5)\n",
    "    b_amg = pm.Normal('b_amg', mu=0, sigma=.5)\n",
    "    \n",
    "    # add coupling\n",
    "    #b_coup = pm.Normal('b_coup', mu=0, sigma=.5)\n",
    "    mu_coup = pm.Normal('mu_coup', mu=0, sigma=.5)\n",
    "    sigma_coup = pm.HalfCauchy('sigma_coup', .5)\n",
    "    coup_matt = pm.Normal('coup_matt', mu=0, sd=1, shape=n_sub)\n",
    "    b_coup = pm.Deterministic('b_coup', mu_coup + sigma_coup*coup_matt)\n",
    "    \n",
    "  \n",
    "    eps = pm.HalfCauchy('eps', .5)\n",
    "    \n",
    "    # make mu a determenistic distribution so we can test later vs. actual data\n",
    "    \n",
    "    mu = pm.Deterministic('mu',intercept + a[subIDX] + b_trials*trials + b_amg*df.amg + b_coup[subIDX]*df.amg_vmpfc)\n",
    "    \n",
    "    y_hat = pm.Normal('y_hat', mu=mu, sigma=eps, observed=df.pe)\n",
    "   \n",
    "    \n",
    "    trace_pe_vmpfc = pm.sample(target_accept=.95, chains=4, cores=10, return_inferencedata=True, draws=2000, tune=2000)"
   ]
  },
  {
   "cell_type": "code",
   "execution_count": null,
   "id": "431f2d92-e1e3-43ba-8005-b27df5720ddc",
   "metadata": {},
   "outputs": [],
   "source": [
    "az.summary(trace_pe_vmpfc, var_names=['mu_coup','b_coup','b_amg','mu_a'])"
   ]
  },
  {
   "cell_type": "code",
   "execution_count": null,
   "id": "df927cc3-631e-430c-80ec-aab66e53668c",
   "metadata": {},
   "outputs": [],
   "source": [
    "sns.set_style(\"ticks\")\n",
    "az.plot_posterior(trace3_pe_vmpfc, var_names=['mu_coup','b_amg'], kind='hist',\n",
    "                 ref_val=0)"
   ]
  },
  {
   "cell_type": "markdown",
   "id": "0ea330b9-52ec-4c3c-b5d5-847d4a7576f9",
   "metadata": {},
   "source": [
    "## Amygdala and Anterior Hippocampus"
   ]
  },
  {
   "cell_type": "code",
   "execution_count": 7,
   "id": "65f12f97-057a-4ac3-bae6-4d8d0afd2f33",
   "metadata": {},
   "outputs": [
    {
     "name": "stderr",
     "output_type": "stream",
     "text": [
      "Auto-assigning NUTS sampler...\n",
      "Initializing NUTS using jitter+adapt_diag...\n",
      "Multiprocess sampling (4 chains in 10 jobs)\n",
      "NUTS: [eps, b_amg, b_trials, b_matt, sigma_b, mu_b, a_matt, sigma_a, mu_a]\n"
     ]
    },
    {
     "data": {
      "text/html": [
       "\n",
       "    <div>\n",
       "        <style>\n",
       "            /* Turns off some styling */\n",
       "            progress {\n",
       "                /* gets rid of default border in Firefox and Opera. */\n",
       "                border: none;\n",
       "                /* Needs to be in here for Safari polyfill so background images work as expected. */\n",
       "                background-size: auto;\n",
       "            }\n",
       "            .progress-bar-interrupted, .progress-bar-interrupted::-webkit-progress-bar {\n",
       "                background: #F44336;\n",
       "            }\n",
       "        </style>\n",
       "      <progress value='16000' class='' max='16000' style='width:300px; height:20px; vertical-align: middle;'></progress>\n",
       "      100.00% [16000/16000 09:02<00:00 Sampling 4 chains, 0 divergences]\n",
       "    </div>\n",
       "    "
      ],
      "text/plain": [
       "<IPython.core.display.HTML object>"
      ]
     },
     "metadata": {},
     "output_type": "display_data"
    },
    {
     "name": "stderr",
     "output_type": "stream",
     "text": [
      "Sampling 4 chains for 2_000 tune and 2_000 draw iterations (8_000 + 8_000 draws total) took 544 seconds.\n",
      "The number of effective samples is smaller than 25% for some parameters.\n"
     ]
    }
   ],
   "source": [
    "with pm.Model() as model1_antHipp:\n",
    "    \n",
    "    \n",
    "    mu_a = pm.Normal('mu_a', mu=0, sigma=.5)\n",
    "    sigma_a = pm.HalfCauchy('sigma_a', .5)\n",
    "    a_matt = pm.Normal('a_matt', mu=0, sd=1, shape=n_sub)\n",
    "    a = pm.Deterministic('a', mu_a + sigma_a*a_matt)\n",
    "    \n",
    "    mu_b = pm.Normal('mu_b', mu=0, sigma=.5)\n",
    "    sigma_b = pm.HalfCauchy('sigma_b', .5)\n",
    "    b_matt = pm.Normal('b_matt', mu=0, sigma=1, shape=n_cond)\n",
    "    b_cond = pm.Deterministic('b_cond', mu_b + sigma_b*b_matt)\n",
    "    \n",
    "    # add trials and amygdala activation\n",
    "    b_trials = pm.Normal('b_trials', mu=0, sigma=.5)\n",
    "    b_amg = pm.Normal('b_amg', mu=0, sigma=.5)\n",
    "   \n",
    "   \n",
    "  \n",
    "    eps = pm.HalfCauchy('eps', .5)\n",
    "    \n",
    "    # make mu a determenistic distribution so we can test later vs. actual data\n",
    "    \n",
    "    mu = pm.Deterministic('mu',a[subIDX] + b_cond[condIDX] + b_trials*trials + b_amg*df.amg)\n",
    "    \n",
    "    y_hat = pm.Normal('y_hat', mu=mu, sigma=eps, observed=df['amg_HippAnt'])\n",
    "    \n",
    "    trace1_antHipp = pm.sample(target_accept=.95, chains=4, cores=10, return_inferencedata=True, draws=2000, tune=2000)    "
   ]
  },
  {
   "cell_type": "code",
   "execution_count": 9,
   "id": "f20468b7-3793-4945-ac14-84ba3e268a9b",
   "metadata": {},
   "outputs": [],
   "source": [
    "trStackedantHip = trace1_antHipp.posterior.stack(draws=('chain','draw'))\n",
    "csminus1 = trStackedantHip.b_cond[0,:].values\n",
    "csplus1 = trStackedantHip.b_cond[1,:].values\n",
    "csPlusUS1 = trStackedantHip.b_cond[2,:].values\n",
    "csminus2 = trStackedantHip.b_cond[4,:].values\n",
    "csplus2 = trStackedantHip.b_cond[3,:].values\n",
    "csPlusUS2 = trStackedantHip.b_cond[5,:].values\n",
    "csUSboth = np.mean(np.stack([csPlusUS1, csPlusUS2]), axis=0) # averaging across USs\n",
    "csall = np.mean(np.stack([csminus1,csminus2, csplus1, csplus2]), axis=0) # averaging across CSs\n",
    "usVcs = csUSboth - csall\n"
   ]
  },
  {
   "cell_type": "code",
   "execution_count": 10,
   "id": "69834faa-17af-414e-a58f-d1c05f8a0687",
   "metadata": {},
   "outputs": [
    {
     "data": {
      "text/plain": [
       "Text(0.5, 1.0, 'CSPlusUS-CS in anterior Hippocampus')"
      ]
     },
     "execution_count": 10,
     "metadata": {},
     "output_type": "execute_result"
    },
    {
     "data": {
      "text/plain": [
       "<Figure size 1296x216 with 0 Axes>"
      ]
     },
     "metadata": {},
     "output_type": "display_data"
    },
    {
     "data": {
      "image/png": "[encoded data removed]",
      "text/plain": [
       "<Figure size 432x288 with 1 Axes>"
      ]
     },
     "metadata": {},
     "output_type": "display_data"
    }
   ],
   "source": [
    "sns.set_style('ticks')\n",
    "fig = plt.figure(figsize=(18,3))\n",
    "az.plot_posterior(usVcs, point_estimate='mean', kind='hist', ref_val=0).set_title(\"CSPlusUS-CS in anterior Hippocampus\")\n"
   ]
  },
  {
   "cell_type": "code",
   "execution_count": 11,
   "id": "8af2051d-3fce-436c-961e-647f0aa71ec3",
   "metadata": {},
   "outputs": [
    {
     "name": "stderr",
     "output_type": "stream",
     "text": [
      "arviz - WARNING - Shape validation failed: input_shape: (1, 8000), minimum_shape: (chains=2, draws=4)\n"
     ]
    },
    {
     "name": "stdout",
     "output_type": "stream",
     "text": [
      "Standardized coeficient 2.7758577170553806\n"
     ]
    },
    {
     "data": {
      "text/html": [
       "<div>\n",
       "<style scoped>\n",
       "    .dataframe tbody tr th:only-of-type {\n",
       "        vertical-align: middle;\n",
       "    }\n",
       "\n",
       "    .dataframe tbody tr th {\n",
       "        vertical-align: top;\n",
       "    }\n",
       "\n",
       "    .dataframe thead th {\n",
       "        text-align: right;\n",
       "    }\n",
       "</style>\n",
       "<table border=\"1\" class=\"dataframe\">\n",
       "  <thead>\n",
       "    <tr style=\"text-align: right;\">\n",
       "      <th></th>\n",
       "      <th>mean</th>\n",
       "      <th>sd</th>\n",
       "      <th>hdi_3%</th>\n",
       "      <th>hdi_97%</th>\n",
       "      <th>mcse_mean</th>\n",
       "      <th>mcse_sd</th>\n",
       "      <th>ess_bulk</th>\n",
       "      <th>ess_tail</th>\n",
       "      <th>r_hat</th>\n",
       "    </tr>\n",
       "  </thead>\n",
       "  <tbody>\n",
       "    <tr>\n",
       "      <th>x</th>\n",
       "      <td>0.043</td>\n",
       "      <td>0.016</td>\n",
       "      <td>0.015</td>\n",
       "      <td>0.073</td>\n",
       "      <td>0.0</td>\n",
       "      <td>0.0</td>\n",
       "      <td>4754.0</td>\n",
       "      <td>3233.0</td>\n",
       "      <td>NaN</td>\n",
       "    </tr>\n",
       "  </tbody>\n",
       "</table>\n",
       "</div>"
      ],
      "text/plain": [
       "    mean     sd  hdi_3%  hdi_97%  mcse_mean  mcse_sd  ess_bulk  ess_tail  \\\n",
       "x  0.043  0.016   0.015    0.073        0.0      0.0    4754.0    3233.0   \n",
       "\n",
       "   r_hat  \n",
       "x    NaN  "
      ]
     },
     "execution_count": 11,
     "metadata": {},
     "output_type": "execute_result"
    }
   ],
   "source": [
    "print(f'Standardized coeficient {np.mean(usVcs) / np.std(usVcs)}')\n",
    "az.summary(usVcs)"
   ]
  },
  {
   "cell_type": "code",
   "execution_count": 1,
   "id": "8b55e7b2-5613-432d-9b99-98b941382441",
   "metadata": {},
   "outputs": [
    {
     "ename": "NameError",
     "evalue": "name 'sns' is not defined",
     "output_type": "error",
     "traceback": [
      "\u001b[0;31m---------------------------------------------------------------------------\u001b[0m",
      "\u001b[0;31mNameError\u001b[0m                                 Traceback (most recent call last)",
      "Input \u001b[0;32mIn [1]\u001b[0m, in \u001b[0;36m<module>\u001b[0;34m\u001b[0m\n\u001b[1;32m      1\u001b[0m \u001b[38;5;66;03m# visualization\u001b[39;00m\n\u001b[0;32m----> 2\u001b[0m \u001b[43msns\u001b[49m\u001b[38;5;241m.\u001b[39mset(font_scale \u001b[38;5;241m=\u001b[39m \u001b[38;5;241m1.15\u001b[39m)\n\u001b[1;32m      3\u001b[0m sns\u001b[38;5;241m.\u001b[39mset_style(\u001b[38;5;124m\"\u001b[39m\u001b[38;5;124mwhite\u001b[39m\u001b[38;5;124m\"\u001b[39m)\n\u001b[1;32m      4\u001b[0m g \u001b[38;5;241m=\u001b[39m sns\u001b[38;5;241m.\u001b[39mcatplot(y\u001b[38;5;241m=\u001b[39m\u001b[38;5;124m'\u001b[39m\u001b[38;5;124mcoupling\u001b[39m\u001b[38;5;124m'\u001b[39m,x\u001b[38;5;241m=\u001b[39m\u001b[38;5;124m'\u001b[39m\u001b[38;5;124mcondition\u001b[39m\u001b[38;5;124m'\u001b[39m, data\u001b[38;5;241m=\u001b[39mdf, kind\u001b[38;5;241m=\u001b[39m\u001b[38;5;124m'\u001b[39m\u001b[38;5;124mbar\u001b[39m\u001b[38;5;124m'\u001b[39m, ci\u001b[38;5;241m=\u001b[39m\u001b[38;5;241m68\u001b[39m)\n",
      "\u001b[0;31mNameError\u001b[0m: name 'sns' is not defined"
     ]
    }
   ],
   "source": [
    "# visualization\n",
    "sns.set(font_scale = 1.15)\n",
    "sns.set_style(\"white\")\n",
    "g = sns.catplot(y='coupling',x='condition', data=df, kind='bar', ci=68)\n",
    "g.set_xlabels(\"\")\n",
    "g.set_xticklabels(\n",
    "    labels=[\"CS+US\", \"CS-\", \"CS+\", \"CS+US\", \"CS-\", \"CS+\"], rotation=30)\n",
    "g.set_ylabels(\"Amygdala Anterior Hippocampus Coupling\")\n",
    "#g.savefig('coupling_different_Conditions.png', dpi=300, bbox_inches='tight')"
   ]
  },
  {
   "cell_type": "markdown",
   "id": "adcffaa9-efdf-4a1a-97a3-45d477b2b949",
   "metadata": {},
   "source": [
    "## SCR"
   ]
  },
  {
   "cell_type": "code",
   "execution_count": 14,
   "id": "f451085f-7775-4e26-b389-95be74b740bf",
   "metadata": {},
   "outputs": [
    {
     "name": "stderr",
     "output_type": "stream",
     "text": [
      "Auto-assigning NUTS sampler...\n",
      "Initializing NUTS using jitter+adapt_diag...\n",
      "Multiprocess sampling (4 chains in 10 jobs)\n",
      "NUTS: [eps, b_coup, b_amg, b_trials, b_matt, sigma_b, mu_b, a_matt, sigma_a, mu_a]\n"
     ]
    },
    {
     "data": {
      "text/html": [
       "\n",
       "    <div>\n",
       "        <style>\n",
       "            /* Turns off some styling */\n",
       "            progress {\n",
       "                /* gets rid of default border in Firefox and Opera. */\n",
       "                border: none;\n",
       "                /* Needs to be in here for Safari polyfill so background images work as expected. */\n",
       "                background-size: auto;\n",
       "            }\n",
       "            .progress-bar-interrupted, .progress-bar-interrupted::-webkit-progress-bar {\n",
       "                background: #F44336;\n",
       "            }\n",
       "        </style>\n",
       "      <progress value='16000' class='' max='16000' style='width:300px; height:20px; vertical-align: middle;'></progress>\n",
       "      100.00% [16000/16000 08:18<00:00 Sampling 4 chains, 0 divergences]\n",
       "    </div>\n",
       "    "
      ],
      "text/plain": [
       "<IPython.core.display.HTML object>"
      ]
     },
     "metadata": {},
     "output_type": "display_data"
    },
    {
     "name": "stderr",
     "output_type": "stream",
     "text": [
      "Sampling 4 chains for 2_000 tune and 2_000 draw iterations (8_000 + 8_000 draws total) took 499 seconds.\n",
      "The number of effective samples is smaller than 10% for some parameters.\n"
     ]
    }
   ],
   "source": [
    "with pm.Model() as scr_antHipp:\n",
    "    \n",
    "    \n",
    "    mu_a = pm.Normal('mu_a', mu=0, sigma=.5)\n",
    "    sigma_a = pm.HalfCauchy('sigma_a', .5)\n",
    "    a_matt = pm.Normal('a_matt', mu=0, sd=1, shape=n_sub)\n",
    "    a = pm.Deterministic('a', mu_a + sigma_a*a_matt)\n",
    "        \n",
    "    mu_b = pm.Normal('mu_b', mu=0, sigma=.5)\n",
    "    sigma_b = pm.HalfCauchy('sigma_b', .5)\n",
    "    b_matt = pm.Normal('b_matt', mu=0, sigma=1, shape=n_cond)\n",
    "    b_cond = pm.Deterministic('b_cond', mu_b + sigma_b*b_matt)\n",
    "    \n",
    "    # add trials and amygdala activation\n",
    "    b_trials = pm.Normal('b_trials', mu=0, sigma=.5)\n",
    "    b_amg = pm.Normal('b_amg', mu=0, sigma=.5)\n",
    "    \n",
    "    # add coupling\n",
    "    b_coup = pm.Normal('b_coup', mu=0, sigma=.5)\n",
    "    \n",
    "    eps = pm.HalfCauchy('eps', .5)\n",
    "    \n",
    "       \n",
    "    mu = a[subIDX] + b_cond[condIDX] + b_trials*trials + b_amg*df.amg + b_coup*df.amg_HippAnt\n",
    "    \n",
    "    y_hat = pm.Normal('y_hat', mu=mu, sigma=eps, observed=df.scr)\n",
    "   \n",
    "    trace1_scr_antHipp = pm.sample(target_accept=.98, chains=4, cores=10, return_inferencedata=True, draws=2000, tune=2000, random_seed=145)  "
   ]
  },
  {
   "cell_type": "code",
   "execution_count": 15,
   "id": "cd2cf7e5-3a3d-4e37-a50d-c99a04a0325b",
   "metadata": {},
   "outputs": [
    {
     "data": {
      "text/html": [
       "<div>\n",
       "<style scoped>\n",
       "    .dataframe tbody tr th:only-of-type {\n",
       "        vertical-align: middle;\n",
       "    }\n",
       "\n",
       "    .dataframe tbody tr th {\n",
       "        vertical-align: top;\n",
       "    }\n",
       "\n",
       "    .dataframe thead th {\n",
       "        text-align: right;\n",
       "    }\n",
       "</style>\n",
       "<table border=\"1\" class=\"dataframe\">\n",
       "  <thead>\n",
       "    <tr style=\"text-align: right;\">\n",
       "      <th></th>\n",
       "      <th>mean</th>\n",
       "      <th>sd</th>\n",
       "      <th>hdi_3%</th>\n",
       "      <th>hdi_97%</th>\n",
       "      <th>mcse_mean</th>\n",
       "      <th>mcse_sd</th>\n",
       "      <th>ess_bulk</th>\n",
       "      <th>ess_tail</th>\n",
       "      <th>r_hat</th>\n",
       "    </tr>\n",
       "  </thead>\n",
       "  <tbody>\n",
       "    <tr>\n",
       "      <th>b_coup</th>\n",
       "      <td>0.031</td>\n",
       "      <td>0.024</td>\n",
       "      <td>-0.013</td>\n",
       "      <td>0.078</td>\n",
       "      <td>0.000</td>\n",
       "      <td>0.000</td>\n",
       "      <td>6806.0</td>\n",
       "      <td>6050.0</td>\n",
       "      <td>1.0</td>\n",
       "    </tr>\n",
       "    <tr>\n",
       "      <th>b_cond[0]</th>\n",
       "      <td>0.055</td>\n",
       "      <td>0.362</td>\n",
       "      <td>-0.646</td>\n",
       "      <td>0.706</td>\n",
       "      <td>0.007</td>\n",
       "      <td>0.005</td>\n",
       "      <td>2969.0</td>\n",
       "      <td>4257.0</td>\n",
       "      <td>1.0</td>\n",
       "    </tr>\n",
       "    <tr>\n",
       "      <th>b_cond[1]</th>\n",
       "      <td>0.282</td>\n",
       "      <td>0.362</td>\n",
       "      <td>-0.397</td>\n",
       "      <td>0.959</td>\n",
       "      <td>0.007</td>\n",
       "      <td>0.005</td>\n",
       "      <td>2951.0</td>\n",
       "      <td>4198.0</td>\n",
       "      <td>1.0</td>\n",
       "    </tr>\n",
       "    <tr>\n",
       "      <th>b_cond[2]</th>\n",
       "      <td>0.710</td>\n",
       "      <td>0.362</td>\n",
       "      <td>0.017</td>\n",
       "      <td>1.376</td>\n",
       "      <td>0.007</td>\n",
       "      <td>0.005</td>\n",
       "      <td>2973.0</td>\n",
       "      <td>4222.0</td>\n",
       "      <td>1.0</td>\n",
       "    </tr>\n",
       "    <tr>\n",
       "      <th>b_cond[3]</th>\n",
       "      <td>0.262</td>\n",
       "      <td>0.363</td>\n",
       "      <td>-0.436</td>\n",
       "      <td>0.931</td>\n",
       "      <td>0.007</td>\n",
       "      <td>0.005</td>\n",
       "      <td>2994.0</td>\n",
       "      <td>4341.0</td>\n",
       "      <td>1.0</td>\n",
       "    </tr>\n",
       "    <tr>\n",
       "      <th>b_cond[4]</th>\n",
       "      <td>0.357</td>\n",
       "      <td>0.363</td>\n",
       "      <td>-0.333</td>\n",
       "      <td>1.028</td>\n",
       "      <td>0.007</td>\n",
       "      <td>0.005</td>\n",
       "      <td>2992.0</td>\n",
       "      <td>4405.0</td>\n",
       "      <td>1.0</td>\n",
       "    </tr>\n",
       "    <tr>\n",
       "      <th>b_cond[5]</th>\n",
       "      <td>0.568</td>\n",
       "      <td>0.363</td>\n",
       "      <td>-0.105</td>\n",
       "      <td>1.262</td>\n",
       "      <td>0.007</td>\n",
       "      <td>0.005</td>\n",
       "      <td>2984.0</td>\n",
       "      <td>4232.0</td>\n",
       "      <td>1.0</td>\n",
       "    </tr>\n",
       "    <tr>\n",
       "      <th>b_matt[0]</th>\n",
       "      <td>-1.159</td>\n",
       "      <td>0.592</td>\n",
       "      <td>-2.310</td>\n",
       "      <td>-0.104</td>\n",
       "      <td>0.015</td>\n",
       "      <td>0.011</td>\n",
       "      <td>1531.0</td>\n",
       "      <td>2854.0</td>\n",
       "      <td>1.0</td>\n",
       "    </tr>\n",
       "    <tr>\n",
       "      <th>b_matt[1]</th>\n",
       "      <td>-0.290</td>\n",
       "      <td>0.440</td>\n",
       "      <td>-1.134</td>\n",
       "      <td>0.529</td>\n",
       "      <td>0.011</td>\n",
       "      <td>0.008</td>\n",
       "      <td>1475.0</td>\n",
       "      <td>2942.0</td>\n",
       "      <td>1.0</td>\n",
       "    </tr>\n",
       "    <tr>\n",
       "      <th>b_matt[2]</th>\n",
       "      <td>1.346</td>\n",
       "      <td>0.582</td>\n",
       "      <td>0.267</td>\n",
       "      <td>2.420</td>\n",
       "      <td>0.015</td>\n",
       "      <td>0.011</td>\n",
       "      <td>1545.0</td>\n",
       "      <td>2957.0</td>\n",
       "      <td>1.0</td>\n",
       "    </tr>\n",
       "    <tr>\n",
       "      <th>b_matt[3]</th>\n",
       "      <td>-0.366</td>\n",
       "      <td>0.450</td>\n",
       "      <td>-1.230</td>\n",
       "      <td>0.459</td>\n",
       "      <td>0.012</td>\n",
       "      <td>0.008</td>\n",
       "      <td>1514.0</td>\n",
       "      <td>2901.0</td>\n",
       "      <td>1.0</td>\n",
       "    </tr>\n",
       "    <tr>\n",
       "      <th>b_matt[4]</th>\n",
       "      <td>-0.003</td>\n",
       "      <td>0.423</td>\n",
       "      <td>-0.769</td>\n",
       "      <td>0.815</td>\n",
       "      <td>0.011</td>\n",
       "      <td>0.008</td>\n",
       "      <td>1499.0</td>\n",
       "      <td>2708.0</td>\n",
       "      <td>1.0</td>\n",
       "    </tr>\n",
       "    <tr>\n",
       "      <th>b_matt[5]</th>\n",
       "      <td>0.804</td>\n",
       "      <td>0.478</td>\n",
       "      <td>-0.095</td>\n",
       "      <td>1.681</td>\n",
       "      <td>0.012</td>\n",
       "      <td>0.009</td>\n",
       "      <td>1499.0</td>\n",
       "      <td>2656.0</td>\n",
       "      <td>1.0</td>\n",
       "    </tr>\n",
       "  </tbody>\n",
       "</table>\n",
       "</div>"
      ],
      "text/plain": [
       "            mean     sd  hdi_3%  hdi_97%  mcse_mean  mcse_sd  ess_bulk  \\\n",
       "b_coup     0.031  0.024  -0.013    0.078      0.000    0.000    6806.0   \n",
       "b_cond[0]  0.055  0.362  -0.646    0.706      0.007    0.005    2969.0   \n",
       "b_cond[1]  0.282  0.362  -0.397    0.959      0.007    0.005    2951.0   \n",
       "b_cond[2]  0.710  0.362   0.017    1.376      0.007    0.005    2973.0   \n",
       "b_cond[3]  0.262  0.363  -0.436    0.931      0.007    0.005    2994.0   \n",
       "b_cond[4]  0.357  0.363  -0.333    1.028      0.007    0.005    2992.0   \n",
       "b_cond[5]  0.568  0.363  -0.105    1.262      0.007    0.005    2984.0   \n",
       "b_matt[0] -1.159  0.592  -2.310   -0.104      0.015    0.011    1531.0   \n",
       "b_matt[1] -0.290  0.440  -1.134    0.529      0.011    0.008    1475.0   \n",
       "b_matt[2]  1.346  0.582   0.267    2.420      0.015    0.011    1545.0   \n",
       "b_matt[3] -0.366  0.450  -1.230    0.459      0.012    0.008    1514.0   \n",
       "b_matt[4] -0.003  0.423  -0.769    0.815      0.011    0.008    1499.0   \n",
       "b_matt[5]  0.804  0.478  -0.095    1.681      0.012    0.009    1499.0   \n",
       "\n",
       "           ess_tail  r_hat  \n",
       "b_coup       6050.0    1.0  \n",
       "b_cond[0]    4257.0    1.0  \n",
       "b_cond[1]    4198.0    1.0  \n",
       "b_cond[2]    4222.0    1.0  \n",
       "b_cond[3]    4341.0    1.0  \n",
       "b_cond[4]    4405.0    1.0  \n",
       "b_cond[5]    4232.0    1.0  \n",
       "b_matt[0]    2854.0    1.0  \n",
       "b_matt[1]    2942.0    1.0  \n",
       "b_matt[2]    2957.0    1.0  \n",
       "b_matt[3]    2901.0    1.0  \n",
       "b_matt[4]    2708.0    1.0  \n",
       "b_matt[5]    2656.0    1.0  "
      ]
     },
     "execution_count": 15,
     "metadata": {},
     "output_type": "execute_result"
    }
   ],
   "source": [
    "az.summary(trace1_scr_antHipp, var_names=['b_coup','b_cond','b_matt'])"
   ]
  },
  {
   "cell_type": "code",
   "execution_count": 20,
   "id": "5b8e3f91-f880-487e-b9a8-502411e7c044",
   "metadata": {},
   "outputs": [
    {
     "data": {
      "text/plain": [
       "1.2916666666666667"
      ]
     },
     "execution_count": 20,
     "metadata": {},
     "output_type": "execute_result"
    }
   ],
   "source": [
    "0.031/0.024"
   ]
  },
  {
   "cell_type": "code",
   "execution_count": 16,
   "id": "53a8bf51-9306-4a4f-a69a-0260d320d029",
   "metadata": {},
   "outputs": [
    {
     "data": {
      "text/plain": [
       "<AxesSubplot:title={'center':'b_coup'}>"
      ]
     },
     "execution_count": 16,
     "metadata": {},
     "output_type": "execute_result"
    },
    {
     "data": {
      "image/png": "[encoded data removed]",
      "text/plain": [
       "<Figure size 432x288 with 1 Axes>"
      ]
     },
     "metadata": {},
     "output_type": "display_data"
    }
   ],
   "source": [
    "az.plot_posterior(trace1_scr_antHipp,var_names=['b_coup'], kind='hist', ref_val=0, point_estimate='mean')"
   ]
  },
  {
   "cell_type": "markdown",
   "id": "0e513c4f-39a3-4edb-b1c1-a70123dab1d2",
   "metadata": {},
   "source": [
    "## prediction error"
   ]
  },
  {
   "cell_type": "code",
   "execution_count": 17,
   "id": "e4caad32-8e4d-4fe3-bab7-c456668814f4",
   "metadata": {},
   "outputs": [
    {
     "name": "stderr",
     "output_type": "stream",
     "text": [
      "Auto-assigning NUTS sampler...\n",
      "Initializing NUTS using jitter+adapt_diag...\n",
      "Multiprocess sampling (4 chains in 10 jobs)\n",
      "NUTS: [eps, coup_matt, sigma_coup, mu_coup, b_amg, b_trials, a_matt, sigma_a, mu_a, intercept]\n"
     ]
    },
    {
     "data": {
      "text/html": [
       "\n",
       "    <div>\n",
       "        <style>\n",
       "            /* Turns off some styling */\n",
       "            progress {\n",
       "                /* gets rid of default border in Firefox and Opera. */\n",
       "                border: none;\n",
       "                /* Needs to be in here for Safari polyfill so background images work as expected. */\n",
       "                background-size: auto;\n",
       "            }\n",
       "            .progress-bar-interrupted, .progress-bar-interrupted::-webkit-progress-bar {\n",
       "                background: #F44336;\n",
       "            }\n",
       "        </style>\n",
       "      <progress value='16000' class='' max='16000' style='width:300px; height:20px; vertical-align: middle;'></progress>\n",
       "      100.00% [16000/16000 14:27<00:00 Sampling 4 chains, 0 divergences]\n",
       "    </div>\n",
       "    "
      ],
      "text/plain": [
       "<IPython.core.display.HTML object>"
      ]
     },
     "metadata": {},
     "output_type": "display_data"
    },
    {
     "name": "stderr",
     "output_type": "stream",
     "text": [
      "Sampling 4 chains for 2_000 tune and 2_000 draw iterations (8_000 + 8_000 draws total) took 868 seconds.\n",
      "The number of effective samples is smaller than 25% for some parameters.\n"
     ]
    }
   ],
   "source": [
    "with pm.Model() as model_pe_antHipp:\n",
    "    \n",
    "    # adding intercept\n",
    "    intercept = pm.Normal('intercept', mu=0, sigma=1)\n",
    "    \n",
    "    mu_a = pm.Normal('mu_a', mu=0, sigma=.5)\n",
    "    sigma_a = pm.HalfCauchy('sigma_a', .5)\n",
    "    a_matt = pm.Normal('a_matt', mu=0, sd=1, shape=n_sub)\n",
    "    a = pm.Deterministic('a', mu_a + sigma_a*a_matt)\n",
    "        \n",
    "    \n",
    "    # add trials and amygdala activation\n",
    "    b_trials = pm.Normal('b_trials', mu=0, sigma=.5)\n",
    "    b_amg = pm.Normal('b_amg', mu=0, sigma=.5)\n",
    "    \n",
    "    # add coupling\n",
    "    #b_coup = pm.Normal('b_coup', mu=0, sigma=.5)\n",
    "    mu_coup = pm.Normal('mu_coup', mu=0, sigma=.5)\n",
    "    sigma_coup = pm.HalfCauchy('sigma_coup', .5)\n",
    "    coup_matt = pm.Normal('coup_matt', mu=0, sd=1, shape=n_sub)\n",
    "    b_coup = pm.Deterministic('b_coup', mu_coup + sigma_coup*coup_matt)\n",
    "    \n",
    "  \n",
    "    eps = pm.HalfCauchy('eps', .5)\n",
    "    \n",
    "    # make mu a determenistic distribution so we can test later vs. actual data\n",
    "    \n",
    "    mu = pm.Deterministic('mu',intercept + a[subIDX] + b_trials*trials + b_amg*df.amg + b_coup[subIDX]*df.amg_HippAnt)\n",
    "    \n",
    "    y_hat = pm.Normal('y_hat', mu=mu, sigma=eps, observed=df.pe)\n",
    "   \n",
    "    \n",
    "    trace_pe_antHipp = pm.sample(target_accept=.95, chains=4, cores=10, return_inferencedata=True, draws=2000, tune=2000)"
   ]
  },
  {
   "cell_type": "code",
   "execution_count": 18,
   "id": "b5c6f236-06a1-4fb1-b76e-149a508f1510",
   "metadata": {},
   "outputs": [
    {
     "data": {
      "text/html": [
       "<div>\n",
       "<style scoped>\n",
       "    .dataframe tbody tr th:only-of-type {\n",
       "        vertical-align: middle;\n",
       "    }\n",
       "\n",
       "    .dataframe tbody tr th {\n",
       "        vertical-align: top;\n",
       "    }\n",
       "\n",
       "    .dataframe thead th {\n",
       "        text-align: right;\n",
       "    }\n",
       "</style>\n",
       "<table border=\"1\" class=\"dataframe\">\n",
       "  <thead>\n",
       "    <tr style=\"text-align: right;\">\n",
       "      <th></th>\n",
       "      <th>mean</th>\n",
       "      <th>sd</th>\n",
       "      <th>hdi_3%</th>\n",
       "      <th>hdi_97%</th>\n",
       "      <th>mcse_mean</th>\n",
       "      <th>mcse_sd</th>\n",
       "      <th>ess_bulk</th>\n",
       "      <th>ess_tail</th>\n",
       "      <th>r_hat</th>\n",
       "    </tr>\n",
       "  </thead>\n",
       "  <tbody>\n",
       "    <tr>\n",
       "      <th>mu_coup</th>\n",
       "      <td>0.050</td>\n",
       "      <td>0.018</td>\n",
       "      <td>0.017</td>\n",
       "      <td>0.084</td>\n",
       "      <td>0.000</td>\n",
       "      <td>0.000</td>\n",
       "      <td>12097.0</td>\n",
       "      <td>6831.0</td>\n",
       "      <td>1.0</td>\n",
       "    </tr>\n",
       "    <tr>\n",
       "      <th>b_coup[0]</th>\n",
       "      <td>0.033</td>\n",
       "      <td>0.059</td>\n",
       "      <td>-0.080</td>\n",
       "      <td>0.144</td>\n",
       "      <td>0.000</td>\n",
       "      <td>0.001</td>\n",
       "      <td>15649.0</td>\n",
       "      <td>6192.0</td>\n",
       "      <td>1.0</td>\n",
       "    </tr>\n",
       "    <tr>\n",
       "      <th>b_coup[1]</th>\n",
       "      <td>0.048</td>\n",
       "      <td>0.060</td>\n",
       "      <td>-0.071</td>\n",
       "      <td>0.165</td>\n",
       "      <td>0.000</td>\n",
       "      <td>0.001</td>\n",
       "      <td>18495.0</td>\n",
       "      <td>5518.0</td>\n",
       "      <td>1.0</td>\n",
       "    </tr>\n",
       "    <tr>\n",
       "      <th>b_coup[2]</th>\n",
       "      <td>0.087</td>\n",
       "      <td>0.059</td>\n",
       "      <td>-0.022</td>\n",
       "      <td>0.201</td>\n",
       "      <td>0.001</td>\n",
       "      <td>0.000</td>\n",
       "      <td>11205.0</td>\n",
       "      <td>6423.0</td>\n",
       "      <td>1.0</td>\n",
       "    </tr>\n",
       "    <tr>\n",
       "      <th>b_coup[3]</th>\n",
       "      <td>0.062</td>\n",
       "      <td>0.060</td>\n",
       "      <td>-0.053</td>\n",
       "      <td>0.177</td>\n",
       "      <td>0.000</td>\n",
       "      <td>0.001</td>\n",
       "      <td>16897.0</td>\n",
       "      <td>6297.0</td>\n",
       "      <td>1.0</td>\n",
       "    </tr>\n",
       "    <tr>\n",
       "      <th>...</th>\n",
       "      <td>...</td>\n",
       "      <td>...</td>\n",
       "      <td>...</td>\n",
       "      <td>...</td>\n",
       "      <td>...</td>\n",
       "      <td>...</td>\n",
       "      <td>...</td>\n",
       "      <td>...</td>\n",
       "      <td>...</td>\n",
       "    </tr>\n",
       "    <tr>\n",
       "      <th>b_coup[62]</th>\n",
       "      <td>0.028</td>\n",
       "      <td>0.061</td>\n",
       "      <td>-0.094</td>\n",
       "      <td>0.142</td>\n",
       "      <td>0.000</td>\n",
       "      <td>0.001</td>\n",
       "      <td>15361.0</td>\n",
       "      <td>5978.0</td>\n",
       "      <td>1.0</td>\n",
       "    </tr>\n",
       "    <tr>\n",
       "      <th>b_coup[63]</th>\n",
       "      <td>0.114</td>\n",
       "      <td>0.066</td>\n",
       "      <td>0.005</td>\n",
       "      <td>0.245</td>\n",
       "      <td>0.001</td>\n",
       "      <td>0.001</td>\n",
       "      <td>6034.0</td>\n",
       "      <td>6105.0</td>\n",
       "      <td>1.0</td>\n",
       "    </tr>\n",
       "    <tr>\n",
       "      <th>b_coup[64]</th>\n",
       "      <td>-0.014</td>\n",
       "      <td>0.071</td>\n",
       "      <td>-0.153</td>\n",
       "      <td>0.112</td>\n",
       "      <td>0.001</td>\n",
       "      <td>0.001</td>\n",
       "      <td>7159.0</td>\n",
       "      <td>5786.0</td>\n",
       "      <td>1.0</td>\n",
       "    </tr>\n",
       "    <tr>\n",
       "      <th>b_amg</th>\n",
       "      <td>-0.004</td>\n",
       "      <td>0.014</td>\n",
       "      <td>-0.030</td>\n",
       "      <td>0.024</td>\n",
       "      <td>0.000</td>\n",
       "      <td>0.000</td>\n",
       "      <td>20569.0</td>\n",
       "      <td>5686.0</td>\n",
       "      <td>1.0</td>\n",
       "    </tr>\n",
       "    <tr>\n",
       "      <th>mu_a</th>\n",
       "      <td>-0.026</td>\n",
       "      <td>0.436</td>\n",
       "      <td>-0.823</td>\n",
       "      <td>0.821</td>\n",
       "      <td>0.004</td>\n",
       "      <td>0.005</td>\n",
       "      <td>11189.0</td>\n",
       "      <td>5994.0</td>\n",
       "      <td>1.0</td>\n",
       "    </tr>\n",
       "  </tbody>\n",
       "</table>\n",
       "<p>68 rows × 9 columns</p>\n",
       "</div>"
      ],
      "text/plain": [
       "             mean     sd  hdi_3%  hdi_97%  mcse_mean  mcse_sd  ess_bulk  \\\n",
       "mu_coup     0.050  0.018   0.017    0.084      0.000    0.000   12097.0   \n",
       "b_coup[0]   0.033  0.059  -0.080    0.144      0.000    0.001   15649.0   \n",
       "b_coup[1]   0.048  0.060  -0.071    0.165      0.000    0.001   18495.0   \n",
       "b_coup[2]   0.087  0.059  -0.022    0.201      0.001    0.000   11205.0   \n",
       "b_coup[3]   0.062  0.060  -0.053    0.177      0.000    0.001   16897.0   \n",
       "...           ...    ...     ...      ...        ...      ...       ...   \n",
       "b_coup[62]  0.028  0.061  -0.094    0.142      0.000    0.001   15361.0   \n",
       "b_coup[63]  0.114  0.066   0.005    0.245      0.001    0.001    6034.0   \n",
       "b_coup[64] -0.014  0.071  -0.153    0.112      0.001    0.001    7159.0   \n",
       "b_amg      -0.004  0.014  -0.030    0.024      0.000    0.000   20569.0   \n",
       "mu_a       -0.026  0.436  -0.823    0.821      0.004    0.005   11189.0   \n",
       "\n",
       "            ess_tail  r_hat  \n",
       "mu_coup       6831.0    1.0  \n",
       "b_coup[0]     6192.0    1.0  \n",
       "b_coup[1]     5518.0    1.0  \n",
       "b_coup[2]     6423.0    1.0  \n",
       "b_coup[3]     6297.0    1.0  \n",
       "...              ...    ...  \n",
       "b_coup[62]    5978.0    1.0  \n",
       "b_coup[63]    6105.0    1.0  \n",
       "b_coup[64]    5786.0    1.0  \n",
       "b_amg         5686.0    1.0  \n",
       "mu_a          5994.0    1.0  \n",
       "\n",
       "[68 rows x 9 columns]"
      ]
     },
     "execution_count": 18,
     "metadata": {},
     "output_type": "execute_result"
    }
   ],
   "source": [
    "az.summary(trace_pe_antHipp, var_names=['mu_coup','b_coup','b_amg','mu_a'])"
   ]
  },
  {
   "cell_type": "code",
   "execution_count": 21,
   "id": "e71d7ea1-2d4b-43f0-8e9f-79b696de8be2",
   "metadata": {},
   "outputs": [
    {
     "data": {
      "text/plain": [
       "2.777777777777778"
      ]
     },
     "execution_count": 21,
     "metadata": {},
     "output_type": "execute_result"
    }
   ],
   "source": [
    "0.05/0.018"
   ]
  },
  {
   "cell_type": "code",
   "execution_count": 19,
   "id": "0f2ced00-8dd4-4e16-a7b4-4f821d03d530",
   "metadata": {},
   "outputs": [
    {
     "data": {
      "text/plain": [
       "array([<AxesSubplot:title={'center':'mu_coup'}>,\n",
       "       <AxesSubplot:title={'center':'b_amg'}>], dtype=object)"
      ]
     },
     "execution_count": 19,
     "metadata": {},
     "output_type": "execute_result"
    },
    {
     "data": {
      "image/png": "[encoded data removed]",
      "text/plain": [
       "<Figure size 993.6x331.2 with 2 Axes>"
      ]
     },
     "metadata": {},
     "output_type": "display_data"
    }
   ],
   "source": [
    "sns.set_style(\"ticks\")\n",
    "az.plot_posterior(trace_pe_antHipp, var_names=['mu_coup','b_amg'], kind='hist',\n",
    "                 ref_val=0)"
   ]
  },
  {
   "cell_type": "markdown",
   "id": "70dfcea2-e25a-4ed9-88df-99789086a3dd",
   "metadata": {},
   "source": [
    "## Amygdala and Supramarginal Gyrus Left"
   ]
  },
  {
   "cell_type": "code",
   "execution_count": 5,
   "id": "d35b9058-e360-4d75-907e-8c86fed79a05",
   "metadata": {},
   "outputs": [],
   "source": [
    "from models import *"
   ]
  },
  {
   "cell_type": "code",
   "execution_count": 32,
   "id": "ae9c2bc9-a409-43cd-9220-28c9345e7e1e",
   "metadata": {},
   "outputs": [
    {
     "name": "stderr",
     "output_type": "stream",
     "text": [
      "Auto-assigning NUTS sampler...\n",
      "Initializing NUTS using jitter+adapt_diag...\n",
      "Multiprocess sampling (4 chains in 4 jobs)\n",
      "NUTS: [eps, b_amg, b_trials, b_matt, sigma_b, mu_b, a_matt, sigma_a, mu_a]\n"
     ]
    },
    {
     "data": {
      "text/html": [
       "\n",
       "    <div>\n",
       "        <style>\n",
       "            /* Turns off some styling */\n",
       "            progress {\n",
       "                /* gets rid of default border in Firefox and Opera. */\n",
       "                border: none;\n",
       "                /* Needs to be in here for Safari polyfill so background images work as expected. */\n",
       "                background-size: auto;\n",
       "            }\n",
       "            .progress-bar-interrupted, .progress-bar-interrupted::-webkit-progress-bar {\n",
       "                background: #F44336;\n",
       "            }\n",
       "        </style>\n",
       "      <progress value='16000' class='' max='16000' style='width:300px; height:20px; vertical-align: middle;'></progress>\n",
       "      100.00% [16000/16000 09:09<00:00 Sampling 4 chains, 0 divergences]\n",
       "    </div>\n",
       "    "
      ],
      "text/plain": [
       "<IPython.core.display.HTML object>"
      ]
     },
     "metadata": {},
     "output_type": "display_data"
    },
    {
     "name": "stderr",
     "output_type": "stream",
     "text": [
      "Sampling 4 chains for 2_000 tune and 2_000 draw iterations (8_000 + 8_000 draws total) took 551 seconds.\n"
     ]
    }
   ],
   "source": [
    "trace1_ctrl = conditionModel(n_sub, n_cond, subIDX, condIDX, trials, df, 'amg_ctrl')"
   ]
  },
  {
   "cell_type": "code",
   "execution_count": 33,
   "id": "ae985e5e-8ab6-41eb-81ca-a9b5b54144e9",
   "metadata": {},
   "outputs": [],
   "source": [
    "trStackedCtrl = trace1_ctrl.posterior.stack(draws=('chain','draw'))\n",
    "csminus1 = trStackedCtrl.b_cond[0,:].values\n",
    "csplus1 = trStackedCtrl.b_cond[1,:].values\n",
    "csPlusUS1 = trStackedCtrl.b_cond[2,:].values\n",
    "csminus2 = trStackedCtrl.b_cond[4,:].values\n",
    "csplus2 = trStackedCtrl.b_cond[3,:].values\n",
    "csPlusUS2 = trStackedCtrl.b_cond[5,:].values\n",
    "csUSboth = np.mean(np.stack([csPlusUS1, csPlusUS2]), axis=0) # averaging across USs\n",
    "csall = np.mean(np.stack([csminus1,csminus2, csplus1, csplus2]), axis=0) # averaging across CSs\n",
    "usVcs = csUSboth - csall\n"
   ]
  },
  {
   "cell_type": "code",
   "execution_count": 34,
   "id": "1911d30b-1735-41a6-9935-f832e7bb0b1c",
   "metadata": {},
   "outputs": [
    {
     "data": {
      "text/plain": [
       "Text(0.5, 1.0, 'CSPlusUS-CS in Supramarginal Gyrus')"
      ]
     },
     "execution_count": 34,
     "metadata": {},
     "output_type": "execute_result"
    },
    {
     "data": {
      "text/plain": [
       "<Figure size 1296x216 with 0 Axes>"
      ]
     },
     "metadata": {},
     "output_type": "display_data"
    },
    {
     "data": {
      "image/png": "[encoded data removed]",
      "text/plain": [
       "<Figure size 432x288 with 1 Axes>"
      ]
     },
     "metadata": {},
     "output_type": "display_data"
    }
   ],
   "source": [
    "sns.set_style('ticks')\n",
    "fig = plt.figure(figsize=(18,3))\n",
    "az.plot_posterior(usVcs, point_estimate='mean', kind='hist', ref_val=0).set_title(\"CSPlusUS-CS in Supramarginal Gyrus\")\n"
   ]
  },
  {
   "cell_type": "code",
   "execution_count": 35,
   "id": "080f7cbf-1637-49f6-a1f2-04e11e034099",
   "metadata": {},
   "outputs": [
    {
     "name": "stderr",
     "output_type": "stream",
     "text": [
      "arviz - WARNING - Shape validation failed: input_shape: (1, 8000), minimum_shape: (chains=2, draws=4)\n"
     ]
    },
    {
     "name": "stdout",
     "output_type": "stream",
     "text": [
      "Standardized coeficient 0.3585686525082373\n"
     ]
    },
    {
     "data": {
      "text/html": [
       "<div>\n",
       "<style scoped>\n",
       "    .dataframe tbody tr th:only-of-type {\n",
       "        vertical-align: middle;\n",
       "    }\n",
       "\n",
       "    .dataframe tbody tr th {\n",
       "        vertical-align: top;\n",
       "    }\n",
       "\n",
       "    .dataframe thead th {\n",
       "        text-align: right;\n",
       "    }\n",
       "</style>\n",
       "<table border=\"1\" class=\"dataframe\">\n",
       "  <thead>\n",
       "    <tr style=\"text-align: right;\">\n",
       "      <th></th>\n",
       "      <th>mean</th>\n",
       "      <th>sd</th>\n",
       "      <th>hdi_3%</th>\n",
       "      <th>hdi_97%</th>\n",
       "      <th>mcse_mean</th>\n",
       "      <th>mcse_sd</th>\n",
       "      <th>ess_bulk</th>\n",
       "      <th>ess_tail</th>\n",
       "      <th>r_hat</th>\n",
       "    </tr>\n",
       "  </thead>\n",
       "  <tbody>\n",
       "    <tr>\n",
       "      <th>x</th>\n",
       "      <td>0.004</td>\n",
       "      <td>0.01</td>\n",
       "      <td>-0.015</td>\n",
       "      <td>0.024</td>\n",
       "      <td>0.0</td>\n",
       "      <td>0.0</td>\n",
       "      <td>8159.0</td>\n",
       "      <td>7416.0</td>\n",
       "      <td>NaN</td>\n",
       "    </tr>\n",
       "  </tbody>\n",
       "</table>\n",
       "</div>"
      ],
      "text/plain": [
       "    mean    sd  hdi_3%  hdi_97%  mcse_mean  mcse_sd  ess_bulk  ess_tail  r_hat\n",
       "x  0.004  0.01  -0.015    0.024        0.0      0.0    8159.0    7416.0    NaN"
      ]
     },
     "execution_count": 35,
     "metadata": {},
     "output_type": "execute_result"
    }
   ],
   "source": [
    "print(f'Standardized coeficient {np.mean(usVcs) / np.std(usVcs)}')\n",
    "az.summary(usVcs)"
   ]
  },
  {
   "cell_type": "code",
   "execution_count": 36,
   "id": "bfc01cd5-b497-414c-a4c0-77ab057c9d47",
   "metadata": {},
   "outputs": [
    {
     "name": "stderr",
     "output_type": "stream",
     "text": [
      "Auto-assigning NUTS sampler...\n",
      "Initializing NUTS using jitter+adapt_diag...\n",
      "Multiprocess sampling (4 chains in 10 jobs)\n",
      "NUTS: [eps, b_coup, b_amg, b_trials, b_matt, sigma_b, mu_b, a_matt, sigma_a, mu_a]\n"
     ]
    },
    {
     "data": {
      "text/html": [
       "\n",
       "    <div>\n",
       "        <style>\n",
       "            /* Turns off some styling */\n",
       "            progress {\n",
       "                /* gets rid of default border in Firefox and Opera. */\n",
       "                border: none;\n",
       "                /* Needs to be in here for Safari polyfill so background images work as expected. */\n",
       "                background-size: auto;\n",
       "            }\n",
       "            .progress-bar-interrupted, .progress-bar-interrupted::-webkit-progress-bar {\n",
       "                background: #F44336;\n",
       "            }\n",
       "        </style>\n",
       "      <progress value='16000' class='' max='16000' style='width:300px; height:20px; vertical-align: middle;'></progress>\n",
       "      100.00% [16000/16000 06:37<00:00 Sampling 4 chains, 0 divergences]\n",
       "    </div>\n",
       "    "
      ],
      "text/plain": [
       "<IPython.core.display.HTML object>"
      ]
     },
     "metadata": {},
     "output_type": "display_data"
    },
    {
     "name": "stderr",
     "output_type": "stream",
     "text": [
      "Sampling 4 chains for 2_000 tune and 2_000 draw iterations (8_000 + 8_000 draws total) took 398 seconds.\n",
      "The number of effective samples is smaller than 10% for some parameters.\n"
     ]
    }
   ],
   "source": [
    "trace_scr_ctrl = scrModel(n_sub, n_cond, subIDX, condIDX, trials, df, 'scr', 'amg_ctrl')"
   ]
  },
  {
   "cell_type": "code",
   "execution_count": 37,
   "id": "3e08e9f9-a708-4b60-837e-fe9c52770291",
   "metadata": {},
   "outputs": [
    {
     "data": {
      "text/html": [
       "<div>\n",
       "<style scoped>\n",
       "    .dataframe tbody tr th:only-of-type {\n",
       "        vertical-align: middle;\n",
       "    }\n",
       "\n",
       "    .dataframe tbody tr th {\n",
       "        vertical-align: top;\n",
       "    }\n",
       "\n",
       "    .dataframe thead th {\n",
       "        text-align: right;\n",
       "    }\n",
       "</style>\n",
       "<table border=\"1\" class=\"dataframe\">\n",
       "  <thead>\n",
       "    <tr style=\"text-align: right;\">\n",
       "      <th></th>\n",
       "      <th>mean</th>\n",
       "      <th>sd</th>\n",
       "      <th>hdi_3%</th>\n",
       "      <th>hdi_97%</th>\n",
       "      <th>mcse_mean</th>\n",
       "      <th>mcse_sd</th>\n",
       "      <th>ess_bulk</th>\n",
       "      <th>ess_tail</th>\n",
       "      <th>r_hat</th>\n",
       "    </tr>\n",
       "  </thead>\n",
       "  <tbody>\n",
       "    <tr>\n",
       "      <th>b_coup</th>\n",
       "      <td>0.012</td>\n",
       "      <td>0.023</td>\n",
       "      <td>-0.032</td>\n",
       "      <td>0.055</td>\n",
       "      <td>0.000</td>\n",
       "      <td>0.000</td>\n",
       "      <td>8868.0</td>\n",
       "      <td>5520.0</td>\n",
       "      <td>1.0</td>\n",
       "    </tr>\n",
       "    <tr>\n",
       "      <th>b_cond[0]</th>\n",
       "      <td>0.065</td>\n",
       "      <td>0.356</td>\n",
       "      <td>-0.617</td>\n",
       "      <td>0.712</td>\n",
       "      <td>0.006</td>\n",
       "      <td>0.004</td>\n",
       "      <td>3961.0</td>\n",
       "      <td>4407.0</td>\n",
       "      <td>1.0</td>\n",
       "    </tr>\n",
       "    <tr>\n",
       "      <th>b_cond[1]</th>\n",
       "      <td>0.292</td>\n",
       "      <td>0.356</td>\n",
       "      <td>-0.385</td>\n",
       "      <td>0.943</td>\n",
       "      <td>0.006</td>\n",
       "      <td>0.004</td>\n",
       "      <td>3956.0</td>\n",
       "      <td>4368.0</td>\n",
       "      <td>1.0</td>\n",
       "    </tr>\n",
       "    <tr>\n",
       "      <th>b_cond[2]</th>\n",
       "      <td>0.721</td>\n",
       "      <td>0.357</td>\n",
       "      <td>0.060</td>\n",
       "      <td>1.392</td>\n",
       "      <td>0.006</td>\n",
       "      <td>0.004</td>\n",
       "      <td>3941.0</td>\n",
       "      <td>4530.0</td>\n",
       "      <td>1.0</td>\n",
       "    </tr>\n",
       "    <tr>\n",
       "      <th>b_cond[3]</th>\n",
       "      <td>0.274</td>\n",
       "      <td>0.358</td>\n",
       "      <td>-0.397</td>\n",
       "      <td>0.936</td>\n",
       "      <td>0.006</td>\n",
       "      <td>0.004</td>\n",
       "      <td>3962.0</td>\n",
       "      <td>4516.0</td>\n",
       "      <td>1.0</td>\n",
       "    </tr>\n",
       "    <tr>\n",
       "      <th>b_cond[4]</th>\n",
       "      <td>0.368</td>\n",
       "      <td>0.358</td>\n",
       "      <td>-0.307</td>\n",
       "      <td>1.026</td>\n",
       "      <td>0.006</td>\n",
       "      <td>0.004</td>\n",
       "      <td>3971.0</td>\n",
       "      <td>4419.0</td>\n",
       "      <td>1.0</td>\n",
       "    </tr>\n",
       "    <tr>\n",
       "      <th>b_cond[5]</th>\n",
       "      <td>0.581</td>\n",
       "      <td>0.358</td>\n",
       "      <td>-0.105</td>\n",
       "      <td>1.237</td>\n",
       "      <td>0.006</td>\n",
       "      <td>0.004</td>\n",
       "      <td>3932.0</td>\n",
       "      <td>4510.0</td>\n",
       "      <td>1.0</td>\n",
       "    </tr>\n",
       "  </tbody>\n",
       "</table>\n",
       "</div>"
      ],
      "text/plain": [
       "            mean     sd  hdi_3%  hdi_97%  mcse_mean  mcse_sd  ess_bulk  \\\n",
       "b_coup     0.012  0.023  -0.032    0.055      0.000    0.000    8868.0   \n",
       "b_cond[0]  0.065  0.356  -0.617    0.712      0.006    0.004    3961.0   \n",
       "b_cond[1]  0.292  0.356  -0.385    0.943      0.006    0.004    3956.0   \n",
       "b_cond[2]  0.721  0.357   0.060    1.392      0.006    0.004    3941.0   \n",
       "b_cond[3]  0.274  0.358  -0.397    0.936      0.006    0.004    3962.0   \n",
       "b_cond[4]  0.368  0.358  -0.307    1.026      0.006    0.004    3971.0   \n",
       "b_cond[5]  0.581  0.358  -0.105    1.237      0.006    0.004    3932.0   \n",
       "\n",
       "           ess_tail  r_hat  \n",
       "b_coup       5520.0    1.0  \n",
       "b_cond[0]    4407.0    1.0  \n",
       "b_cond[1]    4368.0    1.0  \n",
       "b_cond[2]    4530.0    1.0  \n",
       "b_cond[3]    4516.0    1.0  \n",
       "b_cond[4]    4419.0    1.0  \n",
       "b_cond[5]    4510.0    1.0  "
      ]
     },
     "execution_count": 37,
     "metadata": {},
     "output_type": "execute_result"
    }
   ],
   "source": [
    "az.summary(trace_scr_ctrl, var_names=['b_coup','b_cond'])"
   ]
  },
  {
   "cell_type": "code",
   "execution_count": 9,
   "id": "f86ae50b-14a2-453f-8185-024b106c55c1",
   "metadata": {},
   "outputs": [
    {
     "data": {
      "text/plain": [
       "0.5217391304347826"
      ]
     },
     "execution_count": 9,
     "metadata": {},
     "output_type": "execute_result"
    }
   ],
   "source": [
    "0.012/0.023"
   ]
  },
  {
   "cell_type": "code",
   "execution_count": 38,
   "id": "17bd61ed-7c0a-4ff5-8217-14cba5235e18",
   "metadata": {},
   "outputs": [
    {
     "data": {
      "text/plain": [
       "Text(0.5, 1.0, 'SCR and Functional Connectivity of Amygdala and Supramarginal Gyrus left')"
      ]
     },
     "execution_count": 38,
     "metadata": {},
     "output_type": "execute_result"
    },
    {
     "data": {
      "text/plain": [
       "<Figure size 1296x216 with 0 Axes>"
      ]
     },
     "metadata": {},
     "output_type": "display_data"
    },
    {
     "data": {
      "image/png": "[encoded data removed]",
      "text/plain": [
       "<Figure size 432x288 with 1 Axes>"
      ]
     },
     "metadata": {},
     "output_type": "display_data"
    }
   ],
   "source": [
    "sns.set_style('ticks')\n",
    "fig = plt.figure(figsize=(18,3))\n",
    "az.plot_posterior(trace_scr_ctrl, var_names='b_coup',\n",
    "                  point_estimate='mean', kind='hist', ref_val=0).set_title(\"SCR and Functional Connectivity of Amygdala and Supramarginal Gyrus left\")\n"
   ]
  },
  {
   "cell_type": "code",
   "execution_count": 6,
   "id": "9f01b6ba-cb3a-411d-a8b6-30fc26244da4",
   "metadata": {},
   "outputs": [
    {
     "name": "stderr",
     "output_type": "stream",
     "text": [
      "Auto-assigning NUTS sampler...\n",
      "Initializing NUTS using jitter+adapt_diag...\n",
      "Multiprocess sampling (4 chains in 10 jobs)\n",
      "NUTS: [eps, coup_matt, sigma_coup, mu_coup, b_amg, b_trials, a_matt, sigma_a, mu_a, intercept]\n"
     ]
    },
    {
     "data": {
      "text/html": [
       "\n",
       "    <div>\n",
       "        <style>\n",
       "            /* Turns off some styling */\n",
       "            progress {\n",
       "                /* gets rid of default border in Firefox and Opera. */\n",
       "                border: none;\n",
       "                /* Needs to be in here for Safari polyfill so background images work as expected. */\n",
       "                background-size: auto;\n",
       "            }\n",
       "            .progress-bar-interrupted, .progress-bar-interrupted::-webkit-progress-bar {\n",
       "                background: #F44336;\n",
       "            }\n",
       "        </style>\n",
       "      <progress value='16000' class='' max='16000' style='width:300px; height:20px; vertical-align: middle;'></progress>\n",
       "      100.00% [16000/16000 14:21<00:00 Sampling 4 chains, 0 divergences]\n",
       "    </div>\n",
       "    "
      ],
      "text/plain": [
       "<IPython.core.display.HTML object>"
      ]
     },
     "metadata": {},
     "output_type": "display_data"
    },
    {
     "name": "stderr",
     "output_type": "stream",
     "text": [
      "Sampling 4 chains for 2_000 tune and 2_000 draw iterations (8_000 + 8_000 draws total) took 862 seconds.\n"
     ]
    }
   ],
   "source": [
    "trace_pe_ctrl = peModel(n_sub, n_cond, subIDX, condIDX, trials, df, 'amg_ctrl')"
   ]
  },
  {
   "cell_type": "code",
   "execution_count": 7,
   "id": "cf32abc3-ca9f-4c0b-9b94-b9dc11e3fa6d",
   "metadata": {},
   "outputs": [
    {
     "data": {
      "text/html": [
       "<div>\n",
       "<style scoped>\n",
       "    .dataframe tbody tr th:only-of-type {\n",
       "        vertical-align: middle;\n",
       "    }\n",
       "\n",
       "    .dataframe tbody tr th {\n",
       "        vertical-align: top;\n",
       "    }\n",
       "\n",
       "    .dataframe thead th {\n",
       "        text-align: right;\n",
       "    }\n",
       "</style>\n",
       "<table border=\"1\" class=\"dataframe\">\n",
       "  <thead>\n",
       "    <tr style=\"text-align: right;\">\n",
       "      <th></th>\n",
       "      <th>mean</th>\n",
       "      <th>sd</th>\n",
       "      <th>hdi_3%</th>\n",
       "      <th>hdi_97%</th>\n",
       "      <th>mcse_mean</th>\n",
       "      <th>mcse_sd</th>\n",
       "      <th>ess_bulk</th>\n",
       "      <th>ess_tail</th>\n",
       "      <th>r_hat</th>\n",
       "    </tr>\n",
       "  </thead>\n",
       "  <tbody>\n",
       "    <tr>\n",
       "      <th>mu_coup</th>\n",
       "      <td>0.006</td>\n",
       "      <td>0.016</td>\n",
       "      <td>-0.023</td>\n",
       "      <td>0.036</td>\n",
       "      <td>0.000</td>\n",
       "      <td>0.000</td>\n",
       "      <td>20110.0</td>\n",
       "      <td>6182.0</td>\n",
       "      <td>1.0</td>\n",
       "    </tr>\n",
       "    <tr>\n",
       "      <th>b_coup[0]</th>\n",
       "      <td>-0.002</td>\n",
       "      <td>0.035</td>\n",
       "      <td>-0.071</td>\n",
       "      <td>0.060</td>\n",
       "      <td>0.000</td>\n",
       "      <td>0.000</td>\n",
       "      <td>12741.0</td>\n",
       "      <td>6664.0</td>\n",
       "      <td>1.0</td>\n",
       "    </tr>\n",
       "    <tr>\n",
       "      <th>b_coup[1]</th>\n",
       "      <td>0.006</td>\n",
       "      <td>0.033</td>\n",
       "      <td>-0.060</td>\n",
       "      <td>0.073</td>\n",
       "      <td>0.000</td>\n",
       "      <td>0.000</td>\n",
       "      <td>14629.0</td>\n",
       "      <td>6268.0</td>\n",
       "      <td>1.0</td>\n",
       "    </tr>\n",
       "    <tr>\n",
       "      <th>b_coup[2]</th>\n",
       "      <td>0.002</td>\n",
       "      <td>0.033</td>\n",
       "      <td>-0.063</td>\n",
       "      <td>0.064</td>\n",
       "      <td>0.000</td>\n",
       "      <td>0.000</td>\n",
       "      <td>14922.0</td>\n",
       "      <td>6225.0</td>\n",
       "      <td>1.0</td>\n",
       "    </tr>\n",
       "    <tr>\n",
       "      <th>b_coup[3]</th>\n",
       "      <td>-0.005</td>\n",
       "      <td>0.036</td>\n",
       "      <td>-0.077</td>\n",
       "      <td>0.060</td>\n",
       "      <td>0.000</td>\n",
       "      <td>0.000</td>\n",
       "      <td>11387.0</td>\n",
       "      <td>6517.0</td>\n",
       "      <td>1.0</td>\n",
       "    </tr>\n",
       "    <tr>\n",
       "      <th>...</th>\n",
       "      <td>...</td>\n",
       "      <td>...</td>\n",
       "      <td>...</td>\n",
       "      <td>...</td>\n",
       "      <td>...</td>\n",
       "      <td>...</td>\n",
       "      <td>...</td>\n",
       "      <td>...</td>\n",
       "      <td>...</td>\n",
       "    </tr>\n",
       "    <tr>\n",
       "      <th>b_coup[62]</th>\n",
       "      <td>0.009</td>\n",
       "      <td>0.033</td>\n",
       "      <td>-0.057</td>\n",
       "      <td>0.070</td>\n",
       "      <td>0.000</td>\n",
       "      <td>0.000</td>\n",
       "      <td>14260.0</td>\n",
       "      <td>6519.0</td>\n",
       "      <td>1.0</td>\n",
       "    </tr>\n",
       "    <tr>\n",
       "      <th>b_coup[63]</th>\n",
       "      <td>0.013</td>\n",
       "      <td>0.034</td>\n",
       "      <td>-0.046</td>\n",
       "      <td>0.082</td>\n",
       "      <td>0.000</td>\n",
       "      <td>0.000</td>\n",
       "      <td>12785.0</td>\n",
       "      <td>6659.0</td>\n",
       "      <td>1.0</td>\n",
       "    </tr>\n",
       "    <tr>\n",
       "      <th>b_coup[64]</th>\n",
       "      <td>0.011</td>\n",
       "      <td>0.034</td>\n",
       "      <td>-0.052</td>\n",
       "      <td>0.079</td>\n",
       "      <td>0.000</td>\n",
       "      <td>0.000</td>\n",
       "      <td>14425.0</td>\n",
       "      <td>6284.0</td>\n",
       "      <td>1.0</td>\n",
       "    </tr>\n",
       "    <tr>\n",
       "      <th>b_amg</th>\n",
       "      <td>-0.002</td>\n",
       "      <td>0.014</td>\n",
       "      <td>-0.029</td>\n",
       "      <td>0.025</td>\n",
       "      <td>0.000</td>\n",
       "      <td>0.000</td>\n",
       "      <td>18475.0</td>\n",
       "      <td>5221.0</td>\n",
       "      <td>1.0</td>\n",
       "    </tr>\n",
       "    <tr>\n",
       "      <th>mu_a</th>\n",
       "      <td>-0.027</td>\n",
       "      <td>0.444</td>\n",
       "      <td>-0.843</td>\n",
       "      <td>0.819</td>\n",
       "      <td>0.004</td>\n",
       "      <td>0.005</td>\n",
       "      <td>11035.0</td>\n",
       "      <td>6119.0</td>\n",
       "      <td>1.0</td>\n",
       "    </tr>\n",
       "  </tbody>\n",
       "</table>\n",
       "<p>68 rows × 9 columns</p>\n",
       "</div>"
      ],
      "text/plain": [
       "             mean     sd  hdi_3%  hdi_97%  mcse_mean  mcse_sd  ess_bulk  \\\n",
       "mu_coup     0.006  0.016  -0.023    0.036      0.000    0.000   20110.0   \n",
       "b_coup[0]  -0.002  0.035  -0.071    0.060      0.000    0.000   12741.0   \n",
       "b_coup[1]   0.006  0.033  -0.060    0.073      0.000    0.000   14629.0   \n",
       "b_coup[2]   0.002  0.033  -0.063    0.064      0.000    0.000   14922.0   \n",
       "b_coup[3]  -0.005  0.036  -0.077    0.060      0.000    0.000   11387.0   \n",
       "...           ...    ...     ...      ...        ...      ...       ...   \n",
       "b_coup[62]  0.009  0.033  -0.057    0.070      0.000    0.000   14260.0   \n",
       "b_coup[63]  0.013  0.034  -0.046    0.082      0.000    0.000   12785.0   \n",
       "b_coup[64]  0.011  0.034  -0.052    0.079      0.000    0.000   14425.0   \n",
       "b_amg      -0.002  0.014  -0.029    0.025      0.000    0.000   18475.0   \n",
       "mu_a       -0.027  0.444  -0.843    0.819      0.004    0.005   11035.0   \n",
       "\n",
       "            ess_tail  r_hat  \n",
       "mu_coup       6182.0    1.0  \n",
       "b_coup[0]     6664.0    1.0  \n",
       "b_coup[1]     6268.0    1.0  \n",
       "b_coup[2]     6225.0    1.0  \n",
       "b_coup[3]     6517.0    1.0  \n",
       "...              ...    ...  \n",
       "b_coup[62]    6519.0    1.0  \n",
       "b_coup[63]    6659.0    1.0  \n",
       "b_coup[64]    6284.0    1.0  \n",
       "b_amg         5221.0    1.0  \n",
       "mu_a          6119.0    1.0  \n",
       "\n",
       "[68 rows x 9 columns]"
      ]
     },
     "execution_count": 7,
     "metadata": {},
     "output_type": "execute_result"
    }
   ],
   "source": [
    "az.summary(trace_pe_ctrl, var_names=['mu_coup','b_coup','b_amg','mu_a'])"
   ]
  },
  {
   "cell_type": "code",
   "execution_count": 10,
   "id": "fd7e7ad7-d581-4260-8d92-71af73eba9a1",
   "metadata": {},
   "outputs": [
    {
     "data": {
      "text/plain": [
       "0.375"
      ]
     },
     "execution_count": 10,
     "metadata": {},
     "output_type": "execute_result"
    }
   ],
   "source": [
    "0.006/0.016"
   ]
  },
  {
   "cell_type": "code",
   "execution_count": 8,
   "id": "6e1e473c-b65c-4bd3-b0c8-42fbd7ee8624",
   "metadata": {},
   "outputs": [
    {
     "data": {
      "text/plain": [
       "Text(0.5, 1.0, 'PE and Functional Connectivity of Amygdala and Supramarginal Gyrus left')"
      ]
     },
     "execution_count": 8,
     "metadata": {},
     "output_type": "execute_result"
    },
    {
     "data": {
      "text/plain": [
       "<Figure size 1296x216 with 0 Axes>"
      ]
     },
     "metadata": {},
     "output_type": "display_data"
    },
    {
     "data": {
      "image/png": "[encoded data removed]",
      "text/plain": [
       "<Figure size 432x288 with 1 Axes>"
      ]
     },
     "metadata": {},
     "output_type": "display_data"
    }
   ],
   "source": [
    "sns.set_style('ticks')\n",
    "fig = plt.figure(figsize=(18,3))\n",
    "az.plot_posterior(trace_pe_ctrl, var_names='mu_coup',\n",
    "                  point_estimate='mean', kind='hist', ref_val=0).set_title(\"PE and Functional Connectivity of Amygdala and Supramarginal Gyrus left\")\n"
   ]
  },
  {
   "cell_type": "markdown",
   "id": "2566c26a-b42d-4e3d-9f45-0be9fa5bdcfe",
   "metadata": {},
   "source": [
    "# Comparing groups"
   ]
  },
  {
   "cell_type": "code",
   "execution_count": 6,
   "id": "900e96ce-f568-45aa-91d3-65a3abad87fc",
   "metadata": {},
   "outputs": [
    {
     "data": {
      "text/plain": [
       "array([0, 0, 0, ..., 0, 0, 0], dtype=int8)"
      ]
     },
     "execution_count": 6,
     "metadata": {},
     "output_type": "execute_result"
    }
   ],
   "source": [
    "df['group'] = df['group'].astype('category')\n",
    "\n",
    "groupIDX = df['group'].cat.codes.values\n",
    "groupIDX"
   ]
  },
  {
   "cell_type": "code",
   "execution_count": 16,
   "id": "d1eb25ee-f786-4677-b849-5860ead8c1e2",
   "metadata": {},
   "outputs": [
    {
     "data": {
      "text/plain": [
       "0       HC\n",
       "1       HC\n",
       "2       HC\n",
       "3       HC\n",
       "4       HC\n",
       "        ..\n",
       "4480    HC\n",
       "4481    HC\n",
       "4482    HC\n",
       "4483    HC\n",
       "4484    HC\n",
       "Name: group, Length: 4485, dtype: category\n",
       "Categories (3, object): ['HC', 'VCC', 'VPTSD']"
      ]
     },
     "execution_count": 16,
     "metadata": {},
     "output_type": "execute_result"
    }
   ],
   "source": [
    "df['group']"
   ]
  },
  {
   "cell_type": "markdown",
   "id": "d5c1e76b-ef6c-49a9-b39e-bd8eb5216cdf",
   "metadata": {},
   "source": [
    "## Different condition"
   ]
  },
  {
   "cell_type": "code",
   "execution_count": 26,
   "id": "9cf402fc-9d01-42ad-a47c-89f2fecfdd92",
   "metadata": {
    "tags": []
   },
   "outputs": [
    {
     "name": "stderr",
     "output_type": "stream",
     "text": [
      "Auto-assigning NUTS sampler...\n",
      "Initializing NUTS using jitter+adapt_diag...\n",
      "Multiprocess sampling (4 chains in 4 jobs)\n",
      "NUTS: [eps, grp, b_amg, b_trials, b_matt, sigma_b, mu_b, a_matt, sigma_a, mu_a]\n"
     ]
    },
    {
     "data": {
      "text/html": [
       "\n",
       "    <div>\n",
       "        <style>\n",
       "            /* Turns off some styling */\n",
       "            progress {\n",
       "                /* gets rid of default border in Firefox and Opera. */\n",
       "                border: none;\n",
       "                /* Needs to be in here for Safari polyfill so background images work as expected. */\n",
       "                background-size: auto;\n",
       "            }\n",
       "            .progress-bar-interrupted, .progress-bar-interrupted::-webkit-progress-bar {\n",
       "                background: #F44336;\n",
       "            }\n",
       "        </style>\n",
       "      <progress value='16000' class='' max='16000' style='width:300px; height:20px; vertical-align: middle;'></progress>\n",
       "      100.00% [16000/16000 08:40<00:00 Sampling 4 chains, 0 divergences]\n",
       "    </div>\n",
       "    "
      ],
      "text/plain": [
       "<IPython.core.display.HTML object>"
      ]
     },
     "metadata": {},
     "output_type": "display_data"
    },
    {
     "name": "stderr",
     "output_type": "stream",
     "text": [
      "Sampling 4 chains for 2_000 tune and 2_000 draw iterations (8_000 + 8_000 draws total) took 522 seconds.\n",
      "The number of effective samples is smaller than 10% for some parameters.\n"
     ]
    }
   ],
   "source": [
    "# use reparametarization of the same model\n",
    "# add hyperpriors\n",
    "with pm.Model() as modelG:\n",
    "    \n",
    "    \n",
    "    mu_a = pm.Normal('mu_a', mu=0, sigma=.5)\n",
    "    sigma_a = pm.HalfCauchy('sigma_a', .5)\n",
    "    a_matt = pm.Normal('a_matt', mu=0, sd=1, shape=n_sub)\n",
    "    a = pm.Deterministic('a', mu_a + sigma_a*a_matt)\n",
    "    \n",
    "    mu_b = pm.Normal('mu_b', mu=0, sigma=.5)\n",
    "    sigma_b = pm.HalfCauchy('sigma_b', .5)\n",
    "    b_matt = pm.Normal('b_matt', mu=0, sigma=1, shape=n_cond)\n",
    "    b_cond = pm.Deterministic('b_cond', mu_b + sigma_b*b_matt)\n",
    "    \n",
    "    # add trials and amygdala activation\n",
    "    b_trials = pm.Normal('b_trials', mu=0, sigma=.5)\n",
    "    b_amg = pm.Normal('b_amg', mu=0, sigma=.5)\n",
    "    # add group\n",
    "    group = pm.Normal('grp', mu=0, sigma=.5)\n",
    "   \n",
    "  \n",
    "    eps = pm.HalfCauchy('eps', .5)\n",
    "    \n",
    "    # make mu a determenistic distribution so we can test later vs. actual data\n",
    "    \n",
    "    mu = pm.Deterministic('mu',a[subIDX] + group*groupIDX + b_cond[condIDX] + b_trials*trials + b_amg*df.amg)\n",
    "    \n",
    "    y_hat = pm.Normal('y_hat', mu=mu, sigma=eps, observed=df.coupling)\n",
    "    \n",
    "    traceG = pm.sample(target_accept=.95, chains=4, cores=4, return_inferencedata=True, draws=2000, tune=2000, random_seed=123)    "
   ]
  },
  {
   "cell_type": "code",
   "execution_count": 27,
   "id": "60593a36-7b59-4882-9c44-4327e7ba873c",
   "metadata": {},
   "outputs": [
    {
     "data": {
      "text/html": [
       "<div>\n",
       "<style scoped>\n",
       "    .dataframe tbody tr th:only-of-type {\n",
       "        vertical-align: middle;\n",
       "    }\n",
       "\n",
       "    .dataframe tbody tr th {\n",
       "        vertical-align: top;\n",
       "    }\n",
       "\n",
       "    .dataframe thead th {\n",
       "        text-align: right;\n",
       "    }\n",
       "</style>\n",
       "<table border=\"1\" class=\"dataframe\">\n",
       "  <thead>\n",
       "    <tr style=\"text-align: right;\">\n",
       "      <th></th>\n",
       "      <th>mean</th>\n",
       "      <th>sd</th>\n",
       "      <th>hdi_3%</th>\n",
       "      <th>hdi_97%</th>\n",
       "      <th>mcse_mean</th>\n",
       "      <th>mcse_sd</th>\n",
       "      <th>ess_bulk</th>\n",
       "      <th>ess_tail</th>\n",
       "      <th>r_hat</th>\n",
       "    </tr>\n",
       "  </thead>\n",
       "  <tbody>\n",
       "    <tr>\n",
       "      <th>grp</th>\n",
       "      <td>0.034</td>\n",
       "      <td>0.031</td>\n",
       "      <td>-0.023</td>\n",
       "      <td>0.093</td>\n",
       "      <td>0.001</td>\n",
       "      <td>0.001</td>\n",
       "      <td>501.0</td>\n",
       "      <td>1109.0</td>\n",
       "      <td>1.0</td>\n",
       "    </tr>\n",
       "  </tbody>\n",
       "</table>\n",
       "</div>"
      ],
      "text/plain": [
       "      mean     sd  hdi_3%  hdi_97%  mcse_mean  mcse_sd  ess_bulk  ess_tail  \\\n",
       "grp  0.034  0.031  -0.023    0.093      0.001    0.001     501.0    1109.0   \n",
       "\n",
       "     r_hat  \n",
       "grp    1.0  "
      ]
     },
     "execution_count": 27,
     "metadata": {},
     "output_type": "execute_result"
    }
   ],
   "source": [
    "az.summary(traceG, var_names=['grp'])"
   ]
  },
  {
   "cell_type": "code",
   "execution_count": 7,
   "id": "dae4fe3b-e2bb-44ea-8e5d-4fb2b86269f8",
   "metadata": {},
   "outputs": [
    {
     "data": {
      "text/plain": [
       "1.0967741935483872"
      ]
     },
     "execution_count": 7,
     "metadata": {},
     "output_type": "execute_result"
    }
   ],
   "source": [
    "0.034/0.031\n"
   ]
  },
  {
   "cell_type": "code",
   "execution_count": 8,
   "id": "efbd0d6a-23ba-4981-bfd7-0ce7fa32d4cd",
   "metadata": {},
   "outputs": [
    {
     "name": "stderr",
     "output_type": "stream",
     "text": [
      "Auto-assigning NUTS sampler...\n",
      "Initializing NUTS using jitter+adapt_diag...\n",
      "Multiprocess sampling (4 chains in 4 jobs)\n",
      "NUTS: [eps, grp, b_amg, b_trials, b_matt, sigma_b, mu_b, a_matt, sigma_a, mu_a]\n"
     ]
    },
    {
     "data": {
      "text/html": [
       "\n",
       "    <div>\n",
       "        <style>\n",
       "            /* Turns off some styling */\n",
       "            progress {\n",
       "                /* gets rid of default border in Firefox and Opera. */\n",
       "                border: none;\n",
       "                /* Needs to be in here for Safari polyfill so background images work as expected. */\n",
       "                background-size: auto;\n",
       "            }\n",
       "            .progress-bar-interrupted, .progress-bar-interrupted::-webkit-progress-bar {\n",
       "                background: #F44336;\n",
       "            }\n",
       "        </style>\n",
       "      <progress value='16000' class='' max='16000' style='width:300px; height:20px; vertical-align: middle;'></progress>\n",
       "      100.00% [16000/16000 12:48<00:00 Sampling 4 chains, 0 divergences]\n",
       "    </div>\n",
       "    "
      ],
      "text/plain": [
       "<IPython.core.display.HTML object>"
      ]
     },
     "metadata": {},
     "output_type": "display_data"
    },
    {
     "name": "stderr",
     "output_type": "stream",
     "text": [
      "Sampling 4 chains for 2_000 tune and 2_000 draw iterations (8_000 + 8_000 draws total) took 770 seconds.\n",
      "The number of effective samples is smaller than 25% for some parameters.\n"
     ]
    }
   ],
   "source": [
    "# Different condition amg-vmpfc\n",
    "with pm.Model() as modelG_vmpfc:\n",
    "    \n",
    "    \n",
    "    mu_a = pm.Normal('mu_a', mu=0, sigma=.5)\n",
    "    sigma_a = pm.HalfCauchy('sigma_a', .5)\n",
    "    a_matt = pm.Normal('a_matt', mu=0, sd=1, shape=n_sub)\n",
    "    a = pm.Deterministic('a', mu_a + sigma_a*a_matt)\n",
    "    \n",
    "    mu_b = pm.Normal('mu_b', mu=0, sigma=.5)\n",
    "    sigma_b = pm.HalfCauchy('sigma_b', .5)\n",
    "    b_matt = pm.Normal('b_matt', mu=0, sigma=1, shape=n_cond)\n",
    "    b_cond = pm.Deterministic('b_cond', mu_b + sigma_b*b_matt)\n",
    "    \n",
    "    # add trials and amygdala activation\n",
    "    b_trials = pm.Normal('b_trials', mu=0, sigma=.5)\n",
    "    b_amg = pm.Normal('b_amg', mu=0, sigma=.5)\n",
    "    # add group\n",
    "    group = pm.Normal('grp', mu=0, sigma=.5)\n",
    "   \n",
    "  \n",
    "    eps = pm.HalfCauchy('eps', .5)\n",
    "    \n",
    "    # make mu a determenistic distribution so we can test later vs. actual data\n",
    "    \n",
    "    mu = pm.Deterministic('mu',a[subIDX] + group*groupIDX + b_cond[condIDX] + b_trials*trials + b_amg*df.amg)\n",
    "    \n",
    "    y_hat = pm.Normal('y_hat', mu=mu, sigma=eps, observed=df.amg_vmpfc)\n",
    "    \n",
    "    traceG_vmpfc = pm.sample(target_accept=.95, chains=4, cores=4, return_inferencedata=True, draws=2000, tune=2000, random_seed=123)    "
   ]
  },
  {
   "cell_type": "code",
   "execution_count": 9,
   "id": "165cc850-b9a6-44e0-b5b2-f29b71b4ad70",
   "metadata": {},
   "outputs": [
    {
     "data": {
      "text/html": [
       "<div>\n",
       "<style scoped>\n",
       "    .dataframe tbody tr th:only-of-type {\n",
       "        vertical-align: middle;\n",
       "    }\n",
       "\n",
       "    .dataframe tbody tr th {\n",
       "        vertical-align: top;\n",
       "    }\n",
       "\n",
       "    .dataframe thead th {\n",
       "        text-align: right;\n",
       "    }\n",
       "</style>\n",
       "<table border=\"1\" class=\"dataframe\">\n",
       "  <thead>\n",
       "    <tr style=\"text-align: right;\">\n",
       "      <th></th>\n",
       "      <th>mean</th>\n",
       "      <th>sd</th>\n",
       "      <th>hdi_3%</th>\n",
       "      <th>hdi_97%</th>\n",
       "      <th>mcse_mean</th>\n",
       "      <th>mcse_sd</th>\n",
       "      <th>ess_bulk</th>\n",
       "      <th>ess_tail</th>\n",
       "      <th>r_hat</th>\n",
       "    </tr>\n",
       "  </thead>\n",
       "  <tbody>\n",
       "    <tr>\n",
       "      <th>grp</th>\n",
       "      <td>-0.03</td>\n",
       "      <td>0.019</td>\n",
       "      <td>-0.065</td>\n",
       "      <td>0.006</td>\n",
       "      <td>0.0</td>\n",
       "      <td>0.0</td>\n",
       "      <td>1745.0</td>\n",
       "      <td>3001.0</td>\n",
       "      <td>1.0</td>\n",
       "    </tr>\n",
       "  </tbody>\n",
       "</table>\n",
       "</div>"
      ],
      "text/plain": [
       "     mean     sd  hdi_3%  hdi_97%  mcse_mean  mcse_sd  ess_bulk  ess_tail  \\\n",
       "grp -0.03  0.019  -0.065    0.006        0.0      0.0    1745.0    3001.0   \n",
       "\n",
       "     r_hat  \n",
       "grp    1.0  "
      ]
     },
     "execution_count": 9,
     "metadata": {},
     "output_type": "execute_result"
    }
   ],
   "source": [
    "az.summary(traceG_vmpfc, var_names=['grp'])"
   ]
  },
  {
   "cell_type": "markdown",
   "id": "4413c7bd-518c-4816-90d8-9a44a12da274",
   "metadata": {},
   "source": [
    "## SCR and groups"
   ]
  },
  {
   "cell_type": "code",
   "execution_count": 10,
   "id": "92e3e2af-e89d-4246-a0f6-90124cc20347",
   "metadata": {},
   "outputs": [
    {
     "name": "stderr",
     "output_type": "stream",
     "text": [
      "Auto-assigning NUTS sampler...\n",
      "Initializing NUTS using jitter+adapt_diag...\n",
      "Multiprocess sampling (4 chains in 10 jobs)\n",
      "NUTS: [eps, grp, b_coup, b_amg, b_trials, b_matt, sigma_b, mu_b, a_matt, sigma_a, mu_a]\n"
     ]
    },
    {
     "data": {
      "text/html": [
       "\n",
       "    <div>\n",
       "        <style>\n",
       "            /* Turns off some styling */\n",
       "            progress {\n",
       "                /* gets rid of default border in Firefox and Opera. */\n",
       "                border: none;\n",
       "                /* Needs to be in here for Safari polyfill so background images work as expected. */\n",
       "                background-size: auto;\n",
       "            }\n",
       "            .progress-bar-interrupted, .progress-bar-interrupted::-webkit-progress-bar {\n",
       "                background: #F44336;\n",
       "            }\n",
       "        </style>\n",
       "      <progress value='16000' class='' max='16000' style='width:300px; height:20px; vertical-align: middle;'></progress>\n",
       "      100.00% [16000/16000 09:38<00:00 Sampling 4 chains, 0 divergences]\n",
       "    </div>\n",
       "    "
      ],
      "text/plain": [
       "<IPython.core.display.HTML object>"
      ]
     },
     "metadata": {},
     "output_type": "display_data"
    },
    {
     "name": "stderr",
     "output_type": "stream",
     "text": [
      "Sampling 4 chains for 2_000 tune and 2_000 draw iterations (8_000 + 8_000 draws total) took 580 seconds.\n",
      "The number of effective samples is smaller than 25% for some parameters.\n"
     ]
    }
   ],
   "source": [
    "with pm.Model() as model1_scrG:\n",
    "    \n",
    "    \n",
    "    mu_a = pm.Normal('mu_a', mu=0, sigma=.5)\n",
    "    sigma_a = pm.HalfCauchy('sigma_a', .5)\n",
    "    a_matt = pm.Normal('a_matt', mu=0, sd=1, shape=n_sub)\n",
    "    a = pm.Deterministic('a', mu_a + sigma_a*a_matt)\n",
    "        \n",
    "    mu_b = pm.Normal('mu_b', mu=0, sigma=.5)\n",
    "    sigma_b = pm.HalfCauchy('sigma_b', .5)\n",
    "    b_matt = pm.Normal('b_matt', mu=0, sigma=1, shape=n_cond)\n",
    "    b_cond = pm.Deterministic('b_cond', mu_b + sigma_b*b_matt)\n",
    "    \n",
    "    # add trials and amygdala activation\n",
    "    b_trials = pm.Normal('b_trials', mu=0, sigma=.5)\n",
    "    b_amg = pm.Normal('b_amg', mu=0, sigma=.5)\n",
    "    \n",
    "    # add coupling\n",
    "    b_coup = pm.Normal('b_coup', mu=0, sigma=.5)\n",
    "    \n",
    "    # add group\n",
    "    group = pm.Normal('grp', mu=0, sigma=.5, shape=3)\n",
    "   \n",
    "  \n",
    "    eps = pm.HalfCauchy('eps', .5)\n",
    "    \n",
    "    # make mu a determenistic distribution so we can test later vs. actual data\n",
    "    \n",
    "    mu = pm.Deterministic('mu',a[subIDX] + group[groupIDX] + b_cond[condIDX] + b_trials*trials + b_amg*df.amg + b_coup*df.coupling)\n",
    "    \n",
    "    y_hat = pm.Normal('y_hat', mu=mu, sigma=eps, observed=df.scr)\n",
    "   \n",
    "    \n",
    "    trace_scrG = pm.sample(target_accept=.95, chains=4, cores=10, return_inferencedata=True, draws=2000, tune=2000)    "
   ]
  },
  {
   "cell_type": "code",
   "execution_count": 11,
   "id": "1262d4cc-0517-4c0c-b385-e95c2aaad3a6",
   "metadata": {},
   "outputs": [
    {
     "data": {
      "text/html": [
       "<div>\n",
       "<style scoped>\n",
       "    .dataframe tbody tr th:only-of-type {\n",
       "        vertical-align: middle;\n",
       "    }\n",
       "\n",
       "    .dataframe tbody tr th {\n",
       "        vertical-align: top;\n",
       "    }\n",
       "\n",
       "    .dataframe thead th {\n",
       "        text-align: right;\n",
       "    }\n",
       "</style>\n",
       "<table border=\"1\" class=\"dataframe\">\n",
       "  <thead>\n",
       "    <tr style=\"text-align: right;\">\n",
       "      <th></th>\n",
       "      <th>mean</th>\n",
       "      <th>sd</th>\n",
       "      <th>hdi_3%</th>\n",
       "      <th>hdi_97%</th>\n",
       "      <th>mcse_mean</th>\n",
       "      <th>mcse_sd</th>\n",
       "      <th>ess_bulk</th>\n",
       "      <th>ess_tail</th>\n",
       "      <th>r_hat</th>\n",
       "    </tr>\n",
       "  </thead>\n",
       "  <tbody>\n",
       "    <tr>\n",
       "      <th>grp[0]</th>\n",
       "      <td>0.442</td>\n",
       "      <td>0.280</td>\n",
       "      <td>-0.099</td>\n",
       "      <td>0.955</td>\n",
       "      <td>0.006</td>\n",
       "      <td>0.004</td>\n",
       "      <td>1934.0</td>\n",
       "      <td>2768.0</td>\n",
       "      <td>1.0</td>\n",
       "    </tr>\n",
       "    <tr>\n",
       "      <th>grp[1]</th>\n",
       "      <td>-0.061</td>\n",
       "      <td>0.278</td>\n",
       "      <td>-0.600</td>\n",
       "      <td>0.443</td>\n",
       "      <td>0.007</td>\n",
       "      <td>0.005</td>\n",
       "      <td>1797.0</td>\n",
       "      <td>2703.0</td>\n",
       "      <td>1.0</td>\n",
       "    </tr>\n",
       "    <tr>\n",
       "      <th>grp[2]</th>\n",
       "      <td>-0.043</td>\n",
       "      <td>0.276</td>\n",
       "      <td>-0.561</td>\n",
       "      <td>0.461</td>\n",
       "      <td>0.006</td>\n",
       "      <td>0.004</td>\n",
       "      <td>2031.0</td>\n",
       "      <td>3281.0</td>\n",
       "      <td>1.0</td>\n",
       "    </tr>\n",
       "    <tr>\n",
       "      <th>b_coup</th>\n",
       "      <td>0.058</td>\n",
       "      <td>0.024</td>\n",
       "      <td>0.014</td>\n",
       "      <td>0.103</td>\n",
       "      <td>0.000</td>\n",
       "      <td>0.000</td>\n",
       "      <td>4399.0</td>\n",
       "      <td>4482.0</td>\n",
       "      <td>1.0</td>\n",
       "    </tr>\n",
       "    <tr>\n",
       "      <th>b_cond[0]</th>\n",
       "      <td>0.020</td>\n",
       "      <td>0.388</td>\n",
       "      <td>-0.718</td>\n",
       "      <td>0.746</td>\n",
       "      <td>0.007</td>\n",
       "      <td>0.005</td>\n",
       "      <td>3222.0</td>\n",
       "      <td>4108.0</td>\n",
       "      <td>1.0</td>\n",
       "    </tr>\n",
       "    <tr>\n",
       "      <th>b_cond[1]</th>\n",
       "      <td>0.248</td>\n",
       "      <td>0.388</td>\n",
       "      <td>-0.480</td>\n",
       "      <td>0.986</td>\n",
       "      <td>0.007</td>\n",
       "      <td>0.005</td>\n",
       "      <td>3281.0</td>\n",
       "      <td>3996.0</td>\n",
       "      <td>1.0</td>\n",
       "    </tr>\n",
       "    <tr>\n",
       "      <th>b_cond[2]</th>\n",
       "      <td>0.672</td>\n",
       "      <td>0.389</td>\n",
       "      <td>-0.064</td>\n",
       "      <td>1.403</td>\n",
       "      <td>0.007</td>\n",
       "      <td>0.005</td>\n",
       "      <td>3301.0</td>\n",
       "      <td>4123.0</td>\n",
       "      <td>1.0</td>\n",
       "    </tr>\n",
       "    <tr>\n",
       "      <th>b_cond[3]</th>\n",
       "      <td>0.231</td>\n",
       "      <td>0.389</td>\n",
       "      <td>-0.516</td>\n",
       "      <td>0.947</td>\n",
       "      <td>0.007</td>\n",
       "      <td>0.005</td>\n",
       "      <td>3305.0</td>\n",
       "      <td>4096.0</td>\n",
       "      <td>1.0</td>\n",
       "    </tr>\n",
       "    <tr>\n",
       "      <th>b_cond[4]</th>\n",
       "      <td>0.325</td>\n",
       "      <td>0.389</td>\n",
       "      <td>-0.395</td>\n",
       "      <td>1.075</td>\n",
       "      <td>0.007</td>\n",
       "      <td>0.005</td>\n",
       "      <td>3259.0</td>\n",
       "      <td>3895.0</td>\n",
       "      <td>1.0</td>\n",
       "    </tr>\n",
       "    <tr>\n",
       "      <th>b_cond[5]</th>\n",
       "      <td>0.532</td>\n",
       "      <td>0.389</td>\n",
       "      <td>-0.211</td>\n",
       "      <td>1.257</td>\n",
       "      <td>0.007</td>\n",
       "      <td>0.005</td>\n",
       "      <td>3283.0</td>\n",
       "      <td>3950.0</td>\n",
       "      <td>1.0</td>\n",
       "    </tr>\n",
       "  </tbody>\n",
       "</table>\n",
       "</div>"
      ],
      "text/plain": [
       "            mean     sd  hdi_3%  hdi_97%  mcse_mean  mcse_sd  ess_bulk  \\\n",
       "grp[0]     0.442  0.280  -0.099    0.955      0.006    0.004    1934.0   \n",
       "grp[1]    -0.061  0.278  -0.600    0.443      0.007    0.005    1797.0   \n",
       "grp[2]    -0.043  0.276  -0.561    0.461      0.006    0.004    2031.0   \n",
       "b_coup     0.058  0.024   0.014    0.103      0.000    0.000    4399.0   \n",
       "b_cond[0]  0.020  0.388  -0.718    0.746      0.007    0.005    3222.0   \n",
       "b_cond[1]  0.248  0.388  -0.480    0.986      0.007    0.005    3281.0   \n",
       "b_cond[2]  0.672  0.389  -0.064    1.403      0.007    0.005    3301.0   \n",
       "b_cond[3]  0.231  0.389  -0.516    0.947      0.007    0.005    3305.0   \n",
       "b_cond[4]  0.325  0.389  -0.395    1.075      0.007    0.005    3259.0   \n",
       "b_cond[5]  0.532  0.389  -0.211    1.257      0.007    0.005    3283.0   \n",
       "\n",
       "           ess_tail  r_hat  \n",
       "grp[0]       2768.0    1.0  \n",
       "grp[1]       2703.0    1.0  \n",
       "grp[2]       3281.0    1.0  \n",
       "b_coup       4482.0    1.0  \n",
       "b_cond[0]    4108.0    1.0  \n",
       "b_cond[1]    3996.0    1.0  \n",
       "b_cond[2]    4123.0    1.0  \n",
       "b_cond[3]    4096.0    1.0  \n",
       "b_cond[4]    3895.0    1.0  \n",
       "b_cond[5]    3950.0    1.0  "
      ]
     },
     "execution_count": 11,
     "metadata": {},
     "output_type": "execute_result"
    }
   ],
   "source": [
    "az.summary(trace_scrG, var_names=['grp','b_coup', 'b_cond'])"
   ]
  },
  {
   "cell_type": "code",
   "execution_count": 27,
   "id": "1a0b7163-110d-4fe1-a179-a4f9f293d6f6",
   "metadata": {},
   "outputs": [
    {
     "data": {
      "text/plain": [
       "<matplotlib.legend.Legend at 0x2b2dcc246850>"
      ]
     },
     "execution_count": 27,
     "metadata": {},
     "output_type": "execute_result"
    },
    {
     "data": {
      "image/png": "[encoded data removed]",
      "text/plain": [
       "<Figure size 432x288 with 1 Axes>"
      ]
     },
     "metadata": {
      "needs_background": "light"
     },
     "output_type": "display_data"
    }
   ],
   "source": [
    "# seems to be differences between the groups\n",
    "# lets examine\n",
    "trStackedG = trace_scrG.posterior.stack(draws=('chain','draw'))\n",
    "trHC = trStackedG.grp[0,:].values\n",
    "trCC = trStackedG.grp[1,:].values\n",
    "trPTSD = trStackedG.grp[2,:].values\n",
    "sns.histplot(trHC, label = 'HC', color = 'blue')\n",
    "sns.histplot(trCC, label= 'CC', color = 'orange')\n",
    "sns.histplot(trPTSD, label = 'PTSD', color = 'red')\n",
    "plt.legend()"
   ]
  },
  {
   "cell_type": "code",
   "execution_count": 28,
   "id": "ccb467d6-ff7d-4cc5-8e81-3bb8a93cb50e",
   "metadata": {},
   "outputs": [
    {
     "data": {
      "text/plain": [
       "(8000,)"
      ]
     },
     "execution_count": 28,
     "metadata": {},
     "output_type": "execute_result"
    }
   ],
   "source": [
    "TRccPTSD = np.mean(np.stack([trCC, trPTSD]), axis=0)\n",
    "TRccPTSD.shape"
   ]
  },
  {
   "cell_type": "code",
   "execution_count": 29,
   "id": "a4d983eb-5490-4965-9967-f79f50841b04",
   "metadata": {},
   "outputs": [
    {
     "name": "stderr",
     "output_type": "stream",
     "text": [
      "arviz - WARNING - Shape validation failed: input_shape: (1, 8000), minimum_shape: (chains=2, draws=4)\n"
     ]
    },
    {
     "data": {
      "text/html": [
       "<div>\n",
       "<style scoped>\n",
       "    .dataframe tbody tr th:only-of-type {\n",
       "        vertical-align: middle;\n",
       "    }\n",
       "\n",
       "    .dataframe tbody tr th {\n",
       "        vertical-align: top;\n",
       "    }\n",
       "\n",
       "    .dataframe thead th {\n",
       "        text-align: right;\n",
       "    }\n",
       "</style>\n",
       "<table border=\"1\" class=\"dataframe\">\n",
       "  <thead>\n",
       "    <tr style=\"text-align: right;\">\n",
       "      <th></th>\n",
       "      <th>mean</th>\n",
       "      <th>sd</th>\n",
       "      <th>hdi_3%</th>\n",
       "      <th>hdi_97%</th>\n",
       "      <th>mcse_mean</th>\n",
       "      <th>mcse_sd</th>\n",
       "      <th>ess_bulk</th>\n",
       "      <th>ess_tail</th>\n",
       "      <th>r_hat</th>\n",
       "    </tr>\n",
       "  </thead>\n",
       "  <tbody>\n",
       "    <tr>\n",
       "      <th>x</th>\n",
       "      <td>0.494</td>\n",
       "      <td>0.122</td>\n",
       "      <td>0.269</td>\n",
       "      <td>0.727</td>\n",
       "      <td>0.005</td>\n",
       "      <td>0.003</td>\n",
       "      <td>676.0</td>\n",
       "      <td>1247.0</td>\n",
       "      <td>NaN</td>\n",
       "    </tr>\n",
       "  </tbody>\n",
       "</table>\n",
       "</div>"
      ],
      "text/plain": [
       "    mean     sd  hdi_3%  hdi_97%  mcse_mean  mcse_sd  ess_bulk  ess_tail  \\\n",
       "x  0.494  0.122   0.269    0.727      0.005    0.003     676.0    1247.0   \n",
       "\n",
       "   r_hat  \n",
       "x    NaN  "
      ]
     },
     "execution_count": 29,
     "metadata": {},
     "output_type": "execute_result"
    }
   ],
   "source": [
    "HC_vs_CCPTSD = trHC - (np.mean(np.stack([trCC, trPTSD]), axis=0))\n",
    "az.summary(HC_vs_CCPTSD)"
   ]
  },
  {
   "cell_type": "code",
   "execution_count": 30,
   "id": "d4f4048d-0586-4032-a0db-04c425e6ab57",
   "metadata": {},
   "outputs": [
    {
     "data": {
      "text/plain": [
       "4.049180327868853"
      ]
     },
     "execution_count": 30,
     "metadata": {},
     "output_type": "execute_result"
    }
   ],
   "source": [
    "0.494/0.122"
   ]
  },
  {
   "cell_type": "code",
   "execution_count": null,
   "id": "870cff1e-10ae-40e3-a793-80a528205836",
   "metadata": {},
   "outputs": [],
   "source": [
    "sns.set_style(\"ticks\")\n",
    "az.plot_posterior(trace_scrG, var_names=['b_coup'], kind='hist', point_estimate='mean',\n",
    "                 ref_val=0)"
   ]
  },
  {
   "cell_type": "markdown",
   "id": "c61a366b-facf-4a6a-a2ef-f1c5db61c95b",
   "metadata": {},
   "source": [
    "## Prediction error"
   ]
  },
  {
   "cell_type": "code",
   "execution_count": 32,
   "id": "3e98cb49-5251-4651-8e64-601b5dbcd0c7",
   "metadata": {},
   "outputs": [
    {
     "name": "stderr",
     "output_type": "stream",
     "text": [
      "Auto-assigning NUTS sampler...\n",
      "Initializing NUTS using jitter+adapt_diag...\n",
      "Multiprocess sampling (4 chains in 10 jobs)\n",
      "NUTS: [eps, grp, coup_matt, sigma_coup, mu_coup, b_amg, b_trials, a_matt, sigma_a, mu_a, intercept]\n"
     ]
    },
    {
     "data": {
      "text/html": [
       "\n",
       "    <div>\n",
       "        <style>\n",
       "            /* Turns off some styling */\n",
       "            progress {\n",
       "                /* gets rid of default border in Firefox and Opera. */\n",
       "                border: none;\n",
       "                /* Needs to be in here for Safari polyfill so background images work as expected. */\n",
       "                background-size: auto;\n",
       "            }\n",
       "            .progress-bar-interrupted, .progress-bar-interrupted::-webkit-progress-bar {\n",
       "                background: #F44336;\n",
       "            }\n",
       "        </style>\n",
       "      <progress value='16000' class='' max='16000' style='width:300px; height:20px; vertical-align: middle;'></progress>\n",
       "      100.00% [16000/16000 17:33<00:00 Sampling 4 chains, 0 divergences]\n",
       "    </div>\n",
       "    "
      ],
      "text/plain": [
       "<IPython.core.display.HTML object>"
      ]
     },
     "metadata": {},
     "output_type": "display_data"
    },
    {
     "name": "stderr",
     "output_type": "stream",
     "text": [
      "Sampling 4 chains for 2_000 tune and 2_000 draw iterations (8_000 + 8_000 draws total) took 1054 seconds.\n"
     ]
    }
   ],
   "source": [
    "with pm.Model() as model_peG:\n",
    "    \n",
    "    # adding intercept\n",
    "    intercept = pm.Normal('intercept', mu=0, sigma=1)\n",
    "    \n",
    "    mu_a = pm.Normal('mu_a', mu=0, sigma=.5)\n",
    "    sigma_a = pm.HalfCauchy('sigma_a', .5)\n",
    "    a_matt = pm.Normal('a_matt', mu=0, sd=1, shape=n_sub)\n",
    "    a = pm.Deterministic('a', mu_a + sigma_a*a_matt)\n",
    "        \n",
    "    \n",
    "    # add trials and amygdala activation\n",
    "    b_trials = pm.Normal('b_trials', mu=0, sigma=.5)\n",
    "    b_amg = pm.Normal('b_amg', mu=0, sigma=.5)\n",
    "    \n",
    "    # add coupling\n",
    "    #b_coup = pm.Normal('b_coup', mu=0, sigma=.5)\n",
    "    mu_coup = pm.Normal('mu_coup', mu=0, sigma=.5)\n",
    "    sigma_coup = pm.HalfCauchy('sigma_coup', .5)\n",
    "    coup_matt = pm.Normal('coup_matt', mu=0, sd=1, shape=n_sub)\n",
    "    b_coup = pm.Deterministic('b_coup', mu_coup + sigma_coup*coup_matt)\n",
    "    \n",
    "    # add group\n",
    "    group = pm.Normal('grp', mu=0, sigma=.5, shape=3)\n",
    "   \n",
    "    eps = pm.HalfCauchy('eps', .5)\n",
    "    \n",
    "    # make mu a determenistic distribution so we can test later vs. actual data\n",
    "    \n",
    "    mu = pm.Deterministic('mu',intercept + a[subIDX] + group[groupIDX] + b_trials*trials + b_amg*df.amg + b_coup[subIDX]*df.coupling)\n",
    "    \n",
    "    y_hat = pm.Normal('y_hat', mu=mu, sigma=eps, observed=df.pe)\n",
    "   \n",
    "    \n",
    "    trace_peG = pm.sample(target_accept=.95, chains=4, cores=10, return_inferencedata=True, draws=2000, tune=2000)"
   ]
  },
  {
   "cell_type": "code",
   "execution_count": 33,
   "id": "94201caa-b046-4d40-bcfb-98298476d16a",
   "metadata": {},
   "outputs": [
    {
     "data": {
      "text/html": [
       "<div>\n",
       "<style scoped>\n",
       "    .dataframe tbody tr th:only-of-type {\n",
       "        vertical-align: middle;\n",
       "    }\n",
       "\n",
       "    .dataframe tbody tr th {\n",
       "        vertical-align: top;\n",
       "    }\n",
       "\n",
       "    .dataframe thead th {\n",
       "        text-align: right;\n",
       "    }\n",
       "</style>\n",
       "<table border=\"1\" class=\"dataframe\">\n",
       "  <thead>\n",
       "    <tr style=\"text-align: right;\">\n",
       "      <th></th>\n",
       "      <th>mean</th>\n",
       "      <th>sd</th>\n",
       "      <th>hdi_3%</th>\n",
       "      <th>hdi_97%</th>\n",
       "      <th>mcse_mean</th>\n",
       "      <th>mcse_sd</th>\n",
       "      <th>ess_bulk</th>\n",
       "      <th>ess_tail</th>\n",
       "      <th>r_hat</th>\n",
       "    </tr>\n",
       "  </thead>\n",
       "  <tbody>\n",
       "    <tr>\n",
       "      <th>grp[0]</th>\n",
       "      <td>-0.016</td>\n",
       "      <td>0.276</td>\n",
       "      <td>-0.549</td>\n",
       "      <td>0.490</td>\n",
       "      <td>0.004</td>\n",
       "      <td>0.003</td>\n",
       "      <td>4319.0</td>\n",
       "      <td>5334.0</td>\n",
       "      <td>1.0</td>\n",
       "    </tr>\n",
       "    <tr>\n",
       "      <th>grp[1]</th>\n",
       "      <td>-0.021</td>\n",
       "      <td>0.276</td>\n",
       "      <td>-0.526</td>\n",
       "      <td>0.514</td>\n",
       "      <td>0.004</td>\n",
       "      <td>0.003</td>\n",
       "      <td>4341.0</td>\n",
       "      <td>5290.0</td>\n",
       "      <td>1.0</td>\n",
       "    </tr>\n",
       "    <tr>\n",
       "      <th>grp[2]</th>\n",
       "      <td>0.006</td>\n",
       "      <td>0.276</td>\n",
       "      <td>-0.531</td>\n",
       "      <td>0.509</td>\n",
       "      <td>0.004</td>\n",
       "      <td>0.003</td>\n",
       "      <td>4334.0</td>\n",
       "      <td>5561.0</td>\n",
       "      <td>1.0</td>\n",
       "    </tr>\n",
       "  </tbody>\n",
       "</table>\n",
       "</div>"
      ],
      "text/plain": [
       "         mean     sd  hdi_3%  hdi_97%  mcse_mean  mcse_sd  ess_bulk  ess_tail  \\\n",
       "grp[0] -0.016  0.276  -0.549    0.490      0.004    0.003    4319.0    5334.0   \n",
       "grp[1] -0.021  0.276  -0.526    0.514      0.004    0.003    4341.0    5290.0   \n",
       "grp[2]  0.006  0.276  -0.531    0.509      0.004    0.003    4334.0    5561.0   \n",
       "\n",
       "        r_hat  \n",
       "grp[0]    1.0  \n",
       "grp[1]    1.0  \n",
       "grp[2]    1.0  "
      ]
     },
     "execution_count": 33,
     "metadata": {},
     "output_type": "execute_result"
    }
   ],
   "source": [
    "az.summary(trace_peG, var_names='grp')"
   ]
  },
  {
   "cell_type": "code",
   "execution_count": 34,
   "id": "21331e57-a08b-4607-b5ce-c549ef318fec",
   "metadata": {},
   "outputs": [
    {
     "data": {
      "text/plain": [
       "<matplotlib.legend.Legend at 0x2b2da4318b50>"
      ]
     },
     "execution_count": 34,
     "metadata": {},
     "output_type": "execute_result"
    },
    {
     "data": {
      "image/png": "[encoded data removed]",
      "text/plain": [
       "<Figure size 432x288 with 1 Axes>"
      ]
     },
     "metadata": {
      "needs_background": "light"
     },
     "output_type": "display_data"
    }
   ],
   "source": [
    "trStackedGpe = trace_peG.posterior.stack(draws=('chain','draw'))\n",
    "trHC = trStackedGpe.grp[0,:].values\n",
    "trCC = trStackedGpe.grp[1,:].values\n",
    "trPTSD = trStackedGpe.grp[2,:].values\n",
    "sns.histplot(trHC, label = 'HC', color = 'blue')\n",
    "sns.histplot(trCC, label= 'CC', color = 'orange')\n",
    "sns.histplot(trPTSD, label = 'PTSD', color = 'red')\n",
    "plt.legend()"
   ]
  }
 ],
 "metadata": {
  "kernelspec": {
   "display_name": "Python 3 (ipykernel)",
   "language": "python",
   "name": "python3"
  },
  "language_info": {
   "codemirror_mode": {
    "name": "ipython",
    "version": 3
   },
   "file_extension": ".py",
   "mimetype": "text/x-python",
   "name": "python",
   "nbconvert_exporter": "python",
   "pygments_lexer": "ipython3",
   "version": "3.9.9"
  }
 },
 "nbformat": 4,
 "nbformat_minor": 5
}
