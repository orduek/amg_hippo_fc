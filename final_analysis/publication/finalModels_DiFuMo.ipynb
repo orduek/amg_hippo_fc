{
 "cells": [
  {
   "cell_type": "markdown",
   "id": "19d1860b-6347-419d-b2e3-b91b1cfe8732",
   "metadata": {},
   "source": [
    "# Running the final (best selected) models for comparison between conditions / assessing coefficient"
   ]
  },
  {
   "cell_type": "code",
   "execution_count": 5,
   "id": "25c2fd51-7c20-4f35-b362-122c65c3509d",
   "metadata": {},
   "outputs": [],
   "source": [
    "import pandas as pd\n",
    "import numpy as np\n",
    "import pymc3 as pm\n",
    "import arviz as az\n",
    "\n",
    "import matplotlib.pyplot as plt\n",
    "import seaborn as sns\n",
    "\n",
    "import pingouin as pg"
   ]
  },
  {
   "cell_type": "code",
   "execution_count": 6,
   "id": "9cf77fb3-9754-42e4-b365-b9feb5647194",
   "metadata": {},
   "outputs": [],
   "source": [
    "# grab data\n",
    "df = pd.read_csv('../../scr_amg_hipp_all.csv')"
   ]
  },
  {
   "cell_type": "code",
   "execution_count": 3,
   "id": "dc7b6e19-8b89-4bd8-8436-01d6f9bbd5ec",
   "metadata": {},
   "outputs": [
    {
     "data": {
      "text/html": [
       "<div>\n",
       "<style scoped>\n",
       "    .dataframe tbody tr th:only-of-type {\n",
       "        vertical-align: middle;\n",
       "    }\n",
       "\n",
       "    .dataframe tbody tr th {\n",
       "        vertical-align: top;\n",
       "    }\n",
       "\n",
       "    .dataframe thead th {\n",
       "        text-align: right;\n",
       "    }\n",
       "</style>\n",
       "<table border=\"1\" class=\"dataframe\">\n",
       "  <thead>\n",
       "    <tr style=\"text-align: right;\">\n",
       "      <th></th>\n",
       "      <th>sub</th>\n",
       "      <th>Condition</th>\n",
       "      <th>Event.Nr</th>\n",
       "      <th>CDA.AmpSum</th>\n",
       "      <th>expected_value</th>\n",
       "      <th>pe</th>\n",
       "      <th>scr</th>\n",
       "      <th>index</th>\n",
       "      <th>subject</th>\n",
       "      <th>trialNo</th>\n",
       "      <th>condition</th>\n",
       "      <th>coupling</th>\n",
       "      <th>amg</th>\n",
       "      <th>Sub</th>\n",
       "      <th>group</th>\n",
       "      <th>Eprime</th>\n",
       "      <th>amg_vmpfc</th>\n",
       "      <th>amg_HippAnt</th>\n",
       "      <th>amg_ctrl</th>\n",
       "    </tr>\n",
       "  </thead>\n",
       "  <tbody>\n",
       "    <tr>\n",
       "      <th>0</th>\n",
       "      <td>sub-189</td>\n",
       "      <td>CSplusUS1</td>\n",
       "      <td>1</td>\n",
       "      <td>0.2852</td>\n",
       "      <td>0.801175</td>\n",
       "      <td>0.500000</td>\n",
       "      <td>0.2852</td>\n",
       "      <td>1794</td>\n",
       "      <td>sub-189</td>\n",
       "      <td>1</td>\n",
       "      <td>CSplusUS1</td>\n",
       "      <td>0.309524</td>\n",
       "      <td>0.981121</td>\n",
       "      <td>sub-189</td>\n",
       "      <td>HC</td>\n",
       "      <td>A</td>\n",
       "      <td>0.904762</td>\n",
       "      <td>0.571429</td>\n",
       "      <td>0.523810</td>\n",
       "    </tr>\n",
       "    <tr>\n",
       "      <th>1</th>\n",
       "      <td>sub-189</td>\n",
       "      <td>CSminus1</td>\n",
       "      <td>2</td>\n",
       "      <td>0.1033</td>\n",
       "      <td>0.796939</td>\n",
       "      <td>-0.500000</td>\n",
       "      <td>0.1033</td>\n",
       "      <td>1795</td>\n",
       "      <td>sub-189</td>\n",
       "      <td>2</td>\n",
       "      <td>CSminus1</td>\n",
       "      <td>-0.571429</td>\n",
       "      <td>-0.027048</td>\n",
       "      <td>sub-189</td>\n",
       "      <td>HC</td>\n",
       "      <td>A</td>\n",
       "      <td>0.404762</td>\n",
       "      <td>-0.119048</td>\n",
       "      <td>0.404762</td>\n",
       "    </tr>\n",
       "    <tr>\n",
       "      <th>2</th>\n",
       "      <td>sub-189</td>\n",
       "      <td>CSplus1</td>\n",
       "      <td>3</td>\n",
       "      <td>0.0783</td>\n",
       "      <td>0.799047</td>\n",
       "      <td>-0.501304</td>\n",
       "      <td>0.0783</td>\n",
       "      <td>1796</td>\n",
       "      <td>sub-189</td>\n",
       "      <td>3</td>\n",
       "      <td>CSplus1</td>\n",
       "      <td>-0.476190</td>\n",
       "      <td>-0.045910</td>\n",
       "      <td>sub-189</td>\n",
       "      <td>HC</td>\n",
       "      <td>A</td>\n",
       "      <td>0.333333</td>\n",
       "      <td>-0.642857</td>\n",
       "      <td>0.119048</td>\n",
       "    </tr>\n",
       "    <tr>\n",
       "      <th>3</th>\n",
       "      <td>sub-189</td>\n",
       "      <td>CSplusUS1</td>\n",
       "      <td>4</td>\n",
       "      <td>0.1772</td>\n",
       "      <td>0.801165</td>\n",
       "      <td>0.500006</td>\n",
       "      <td>0.1772</td>\n",
       "      <td>1797</td>\n",
       "      <td>sub-189</td>\n",
       "      <td>4</td>\n",
       "      <td>CSplusUS1</td>\n",
       "      <td>0.166667</td>\n",
       "      <td>-0.674150</td>\n",
       "      <td>sub-189</td>\n",
       "      <td>HC</td>\n",
       "      <td>A</td>\n",
       "      <td>0.690476</td>\n",
       "      <td>0.357143</td>\n",
       "      <td>0.285714</td>\n",
       "    </tr>\n",
       "    <tr>\n",
       "      <th>4</th>\n",
       "      <td>sub-189</td>\n",
       "      <td>CSminus1</td>\n",
       "      <td>5</td>\n",
       "      <td>0.0000</td>\n",
       "      <td>0.794832</td>\n",
       "      <td>-0.498696</td>\n",
       "      <td>0.0000</td>\n",
       "      <td>1798</td>\n",
       "      <td>sub-189</td>\n",
       "      <td>5</td>\n",
       "      <td>CSminus1</td>\n",
       "      <td>0.214286</td>\n",
       "      <td>-0.065602</td>\n",
       "      <td>sub-189</td>\n",
       "      <td>HC</td>\n",
       "      <td>A</td>\n",
       "      <td>0.595238</td>\n",
       "      <td>0.309524</td>\n",
       "      <td>0.214286</td>\n",
       "    </tr>\n",
       "  </tbody>\n",
       "</table>\n",
       "</div>"
      ],
      "text/plain": [
       "       sub  Condition  Event.Nr  CDA.AmpSum  expected_value        pe     scr  \\\n",
       "0  sub-189  CSplusUS1         1      0.2852        0.801175  0.500000  0.2852   \n",
       "1  sub-189   CSminus1         2      0.1033        0.796939 -0.500000  0.1033   \n",
       "2  sub-189    CSplus1         3      0.0783        0.799047 -0.501304  0.0783   \n",
       "3  sub-189  CSplusUS1         4      0.1772        0.801165  0.500006  0.1772   \n",
       "4  sub-189   CSminus1         5      0.0000        0.794832 -0.498696  0.0000   \n",
       "\n",
       "   index  subject  trialNo  condition  coupling       amg      Sub group  \\\n",
       "0   1794  sub-189        1  CSplusUS1  0.309524  0.981121  sub-189    HC   \n",
       "1   1795  sub-189        2   CSminus1 -0.571429 -0.027048  sub-189    HC   \n",
       "2   1796  sub-189        3    CSplus1 -0.476190 -0.045910  sub-189    HC   \n",
       "3   1797  sub-189        4  CSplusUS1  0.166667 -0.674150  sub-189    HC   \n",
       "4   1798  sub-189        5   CSminus1  0.214286 -0.065602  sub-189    HC   \n",
       "\n",
       "  Eprime  amg_vmpfc  amg_HippAnt  amg_ctrl  \n",
       "0      A   0.904762     0.571429  0.523810  \n",
       "1      A   0.404762    -0.119048  0.404762  \n",
       "2      A   0.333333    -0.642857  0.119048  \n",
       "3      A   0.690476     0.357143  0.285714  \n",
       "4      A   0.595238     0.309524  0.214286  "
      ]
     },
     "execution_count": 3,
     "metadata": {},
     "output_type": "execute_result"
    }
   ],
   "source": [
    "df.head()"
   ]
  },
  {
   "cell_type": "code",
   "execution_count": 7,
   "id": "865b3f4c-05c7-4084-8200-d7206e06d148",
   "metadata": {},
   "outputs": [],
   "source": [
    "# organize data for the Bayes analysis\n",
    "df['sub'] = df['sub'].astype('category')\n",
    "#df['condition'] = df['condition'].astype('category')\n",
    "\n",
    "n_sub = len(df['sub'].unique())\n",
    "subIDX = df['sub'].cat.codes.values\n",
    "# condition\n",
    "n_cond = len(df['condition'].unique())\n",
    "#condIDX = df['condition'].cat.codes.values\n",
    "trials = df.trialNo.values - 1\n",
    "amygdala = df.amg.values\n",
    "df['cond'] = df['condition']#\n",
    "df = df.replace(to_replace={'cond': {'CSminus1':0, 'CSplus1':1, 'CSplusUS1':2, 'CSplus2':3, 'CSminus2':4, 'CSminusUS2':5}})\n",
    "condIDX = df.cond.values"
   ]
  },
  {
   "cell_type": "code",
   "execution_count": 16,
   "id": "7f092580-8230-4e26-8176-8d5de2394647",
   "metadata": {
    "tags": []
   },
   "outputs": [
    {
     "name": "stderr",
     "output_type": "stream",
     "text": [
      "Auto-assigning NUTS sampler...\n",
      "Initializing NUTS using jitter+adapt_diag...\n",
      "Multiprocess sampling (4 chains in 4 jobs)\n",
      "NUTS: [eps, b_amg, b_trials, b_matt, sigma_b, mu_b, a_matt, sigma_a, mu_a]\n"
     ]
    },
    {
     "data": {
      "text/html": [
       "\n",
       "    <div>\n",
       "        <style>\n",
       "            /* Turns off some styling */\n",
       "            progress {\n",
       "                /* gets rid of default border in Firefox and Opera. */\n",
       "                border: none;\n",
       "                /* Needs to be in here for Safari polyfill so background images work as expected. */\n",
       "                background-size: auto;\n",
       "            }\n",
       "            .progress-bar-interrupted, .progress-bar-interrupted::-webkit-progress-bar {\n",
       "                background: #F44336;\n",
       "            }\n",
       "        </style>\n",
       "      <progress value='16000' class='' max='16000' style='width:300px; height:20px; vertical-align: middle;'></progress>\n",
       "      100.00% [16000/16000 06:59<00:00 Sampling 4 chains, 0 divergences]\n",
       "    </div>\n",
       "    "
      ],
      "text/plain": [
       "<IPython.core.display.HTML object>"
      ]
     },
     "metadata": {},
     "output_type": "display_data"
    },
    {
     "name": "stderr",
     "output_type": "stream",
     "text": [
      "Sampling 4 chains for 2_000 tune and 2_000 draw iterations (8_000 + 8_000 draws total) took 421 seconds.\n",
      "The number of effective samples is smaller than 25% for some parameters.\n"
     ]
    }
   ],
   "source": [
    "# use reparametarization of the same model\n",
    "# add hyperpriors\n",
    "with pm.Model() as model:\n",
    "    \n",
    "    \n",
    "    mu_a = pm.Normal('mu_a', mu=0, sigma=.5)\n",
    "    sigma_a = pm.HalfCauchy('sigma_a', .5)\n",
    "    a_matt = pm.Normal('a_matt', mu=0, sd=1, shape=n_sub)\n",
    "    a = pm.Deterministic('a', mu_a + sigma_a*a_matt)\n",
    "    \n",
    "    mu_b = pm.Normal('mu_b', mu=0, sigma=.5)\n",
    "    sigma_b = pm.HalfCauchy('sigma_b', .5)\n",
    "    b_matt = pm.Normal('b_matt', mu=0, sigma=1, shape=n_cond)\n",
    "    b_cond = pm.Deterministic('b_cond', mu_b + sigma_b*b_matt)\n",
    "    \n",
    "    # add trials and amygdala activation\n",
    "    b_trials = pm.Normal('b_trials', mu=0, sigma=.5)\n",
    "    b_amg = pm.Normal('b_amg', mu=0, sigma=.5)\n",
    "   \n",
    "   \n",
    "  \n",
    "    eps = pm.HalfCauchy('eps', .5)\n",
    "    \n",
    "    # make mu a determenistic distribution so we can test later vs. actual data\n",
    "    \n",
    "    mu = pm.Deterministic('mu',a[subIDX] + b_cond[condIDX] + b_trials*trials + b_amg*df.amg)\n",
    "    \n",
    "    y_hat = pm.Normal('y_hat', mu=mu, sigma=eps, observed=df.coupling)\n",
    "    \n",
    "    trace = pm.sample(target_accept=.95, chains=4, cores=4, return_inferencedata=True, draws=2000, tune=2000, random_seed=123)    "
   ]
  },
  {
   "cell_type": "code",
   "execution_count": 17,
   "id": "502e60a9-6c7e-4160-bb3c-f84e6fa76f86",
   "metadata": {},
   "outputs": [
    {
     "data": {
      "text/html": [
       "<div>\n",
       "<style scoped>\n",
       "    .dataframe tbody tr th:only-of-type {\n",
       "        vertical-align: middle;\n",
       "    }\n",
       "\n",
       "    .dataframe tbody tr th {\n",
       "        vertical-align: top;\n",
       "    }\n",
       "\n",
       "    .dataframe thead th {\n",
       "        text-align: right;\n",
       "    }\n",
       "</style>\n",
       "<table border=\"1\" class=\"dataframe\">\n",
       "  <thead>\n",
       "    <tr style=\"text-align: right;\">\n",
       "      <th></th>\n",
       "      <th>mean</th>\n",
       "      <th>sd</th>\n",
       "      <th>hdi_3%</th>\n",
       "      <th>hdi_97%</th>\n",
       "      <th>mcse_mean</th>\n",
       "      <th>mcse_sd</th>\n",
       "      <th>ess_bulk</th>\n",
       "      <th>ess_tail</th>\n",
       "      <th>r_hat</th>\n",
       "    </tr>\n",
       "  </thead>\n",
       "  <tbody>\n",
       "    <tr>\n",
       "      <th>b_cond[0]</th>\n",
       "      <td>0.014</td>\n",
       "      <td>0.36</td>\n",
       "      <td>-0.681</td>\n",
       "      <td>0.679</td>\n",
       "      <td>0.007</td>\n",
       "      <td>0.005</td>\n",
       "      <td>2819.0</td>\n",
       "      <td>3978.0</td>\n",
       "      <td>1.0</td>\n",
       "    </tr>\n",
       "    <tr>\n",
       "      <th>b_cond[1]</th>\n",
       "      <td>-0.006</td>\n",
       "      <td>0.36</td>\n",
       "      <td>-0.705</td>\n",
       "      <td>0.651</td>\n",
       "      <td>0.007</td>\n",
       "      <td>0.005</td>\n",
       "      <td>2845.0</td>\n",
       "      <td>3811.0</td>\n",
       "      <td>1.0</td>\n",
       "    </tr>\n",
       "    <tr>\n",
       "      <th>b_cond[2]</th>\n",
       "      <td>0.087</td>\n",
       "      <td>0.36</td>\n",
       "      <td>-0.598</td>\n",
       "      <td>0.757</td>\n",
       "      <td>0.007</td>\n",
       "      <td>0.005</td>\n",
       "      <td>2862.0</td>\n",
       "      <td>3905.0</td>\n",
       "      <td>1.0</td>\n",
       "    </tr>\n",
       "    <tr>\n",
       "      <th>b_cond[3]</th>\n",
       "      <td>-0.025</td>\n",
       "      <td>0.36</td>\n",
       "      <td>-0.707</td>\n",
       "      <td>0.655</td>\n",
       "      <td>0.007</td>\n",
       "      <td>0.005</td>\n",
       "      <td>2854.0</td>\n",
       "      <td>4090.0</td>\n",
       "      <td>1.0</td>\n",
       "    </tr>\n",
       "    <tr>\n",
       "      <th>b_cond[4]</th>\n",
       "      <td>-0.020</td>\n",
       "      <td>0.36</td>\n",
       "      <td>-0.702</td>\n",
       "      <td>0.661</td>\n",
       "      <td>0.007</td>\n",
       "      <td>0.005</td>\n",
       "      <td>2837.0</td>\n",
       "      <td>3930.0</td>\n",
       "      <td>1.0</td>\n",
       "    </tr>\n",
       "    <tr>\n",
       "      <th>b_cond[5]</th>\n",
       "      <td>0.054</td>\n",
       "      <td>0.36</td>\n",
       "      <td>-0.594</td>\n",
       "      <td>0.767</td>\n",
       "      <td>0.007</td>\n",
       "      <td>0.005</td>\n",
       "      <td>2837.0</td>\n",
       "      <td>3772.0</td>\n",
       "      <td>1.0</td>\n",
       "    </tr>\n",
       "  </tbody>\n",
       "</table>\n",
       "</div>"
      ],
      "text/plain": [
       "            mean    sd  hdi_3%  hdi_97%  mcse_mean  mcse_sd  ess_bulk  \\\n",
       "b_cond[0]  0.014  0.36  -0.681    0.679      0.007    0.005    2819.0   \n",
       "b_cond[1] -0.006  0.36  -0.705    0.651      0.007    0.005    2845.0   \n",
       "b_cond[2]  0.087  0.36  -0.598    0.757      0.007    0.005    2862.0   \n",
       "b_cond[3] -0.025  0.36  -0.707    0.655      0.007    0.005    2854.0   \n",
       "b_cond[4] -0.020  0.36  -0.702    0.661      0.007    0.005    2837.0   \n",
       "b_cond[5]  0.054  0.36  -0.594    0.767      0.007    0.005    2837.0   \n",
       "\n",
       "           ess_tail  r_hat  \n",
       "b_cond[0]    3978.0    1.0  \n",
       "b_cond[1]    3811.0    1.0  \n",
       "b_cond[2]    3905.0    1.0  \n",
       "b_cond[3]    4090.0    1.0  \n",
       "b_cond[4]    3930.0    1.0  \n",
       "b_cond[5]    3772.0    1.0  "
      ]
     },
     "execution_count": 17,
     "metadata": {},
     "output_type": "execute_result"
    }
   ],
   "source": [
    "az.summary(trace, var_names=['b_cond'])"
   ]
  },
  {
   "cell_type": "code",
   "execution_count": 18,
   "id": "20956304-8519-4c00-9dc4-fcc9418ae117",
   "metadata": {},
   "outputs": [],
   "source": [
    "trStacked = trace.posterior.stack(draws=('chain','draw'))\n",
    "csminus1 = trStacked.b_cond[0,:].values\n",
    "csplus1 = trStacked.b_cond[1,:].values\n",
    "csPlusUS1 = trStacked.b_cond[2,:].values\n",
    "csminus2 = trStacked.b_cond[4,:].values\n",
    "csplus2 = trStacked.b_cond[3,:].values\n",
    "csPlusUS2 = trStacked.b_cond[5,:].values\n",
    "csUSboth = np.mean(np.stack([csPlusUS1, csPlusUS2]), axis=0) # averaging across USs\n",
    "csall = np.mean(np.stack([csminus1,csminus2, csplus1, csplus2]), axis=0) # averaging across CSs\n",
    "usVcs = csUSboth - csall"
   ]
  },
  {
   "cell_type": "code",
   "execution_count": 19,
   "id": "4809bc20-e7f2-4e03-adaf-a3afc922cd1c",
   "metadata": {},
   "outputs": [
    {
     "data": {
      "text/plain": [
       "Text(0.5, 1.0, 'CSPlusUS-CS')"
      ]
     },
     "execution_count": 19,
     "metadata": {},
     "output_type": "execute_result"
    },
    {
     "data": {
      "text/plain": [
       "<Figure size 1296x216 with 0 Axes>"
      ]
     },
     "metadata": {},
     "output_type": "display_data"
    },
    {
     "data": {
      "image/png": "[encoded data removed]",
      "text/plain": [
       "<Figure size 432x288 with 1 Axes>"
      ]
     },
     "metadata": {},
     "output_type": "display_data"
    }
   ],
   "source": [
    "sns.set_style('ticks')\n",
    "fig = plt.figure(figsize=(18,3))\n",
    "az.plot_posterior(usVcs, point_estimate='mean', kind='hist', ref_val=0).set_title(\"CSPlusUS-CS\")"
   ]
  },
  {
   "cell_type": "code",
   "execution_count": 20,
   "id": "2f15ccdb-616b-4538-8ab4-f1f275d5401c",
   "metadata": {},
   "outputs": [
    {
     "name": "stderr",
     "output_type": "stream",
     "text": [
      "arviz - WARNING - Shape validation failed: input_shape: (1, 8000), minimum_shape: (chains=2, draws=4)\n"
     ]
    },
    {
     "name": "stdout",
     "output_type": "stream",
     "text": [
      "Standardized coeficient 4.963066644001489\n"
     ]
    },
    {
     "data": {
      "text/html": [
       "<div>\n",
       "<style scoped>\n",
       "    .dataframe tbody tr th:only-of-type {\n",
       "        vertical-align: middle;\n",
       "    }\n",
       "\n",
       "    .dataframe tbody tr th {\n",
       "        vertical-align: top;\n",
       "    }\n",
       "\n",
       "    .dataframe thead th {\n",
       "        text-align: right;\n",
       "    }\n",
       "</style>\n",
       "<table border=\"1\" class=\"dataframe\">\n",
       "  <thead>\n",
       "    <tr style=\"text-align: right;\">\n",
       "      <th></th>\n",
       "      <th>mean</th>\n",
       "      <th>sd</th>\n",
       "      <th>hdi_3%</th>\n",
       "      <th>hdi_97%</th>\n",
       "      <th>mcse_mean</th>\n",
       "      <th>mcse_sd</th>\n",
       "      <th>ess_bulk</th>\n",
       "      <th>ess_tail</th>\n",
       "      <th>r_hat</th>\n",
       "    </tr>\n",
       "  </thead>\n",
       "  <tbody>\n",
       "    <tr>\n",
       "      <th>x</th>\n",
       "      <td>0.08</td>\n",
       "      <td>0.016</td>\n",
       "      <td>0.049</td>\n",
       "      <td>0.11</td>\n",
       "      <td>0.0</td>\n",
       "      <td>0.0</td>\n",
       "      <td>6154.0</td>\n",
       "      <td>4978.0</td>\n",
       "      <td>NaN</td>\n",
       "    </tr>\n",
       "  </tbody>\n",
       "</table>\n",
       "</div>"
      ],
      "text/plain": [
       "   mean     sd  hdi_3%  hdi_97%  mcse_mean  mcse_sd  ess_bulk  ess_tail  r_hat\n",
       "x  0.08  0.016   0.049     0.11        0.0      0.0    6154.0    4978.0    NaN"
      ]
     },
     "execution_count": 20,
     "metadata": {},
     "output_type": "execute_result"
    }
   ],
   "source": [
    "print(f'Standardized coeficient {np.mean(usVcs) / np.std(usVcs)}')\n",
    "az.summary(usVcs)"
   ]
  },
  {
   "cell_type": "code",
   "execution_count": 48,
   "id": "bf77e22f-e7da-4494-a0c7-2fa4d0ff78c5",
   "metadata": {},
   "outputs": [
    {
     "data": {
      "image/png": "[encoded data removed]",
      "text/plain": [
       "<Figure size 360x360 with 1 Axes>"
      ]
     },
     "metadata": {},
     "output_type": "display_data"
    }
   ],
   "source": [
    "# visualization\n",
    "sns.set(font_scale = 1.15)\n",
    "sns.set_style(\"white\")\n",
    "g = sns.catplot(y='coupling',x='condition', data=df, kind='bar', ci=68)\n",
    "g.set_xlabels(\"\")\n",
    "g.set_xticklabels(\n",
    "    labels=[\"CS1+US\", \"CS2-\", \"CS1+\", \"CS2+US\", \"CS1-\", \"CS2+\"], rotation=30)\n",
    "plt.text(0.9, 0.165, \"*\")\n",
    "plt.hlines(0.16, 0.1,1.9)\n",
    "plt.text(4, 0.197, \"*\")\n",
    "plt.hlines(0.195, 3.1,5)\n",
    "g.set_ylabels(\"Amygdala Hippocampus Coupling\")\n",
    "g.savefig('coupling_different_Conditions.png', dpi=300, bbox_inches='tight')"
   ]
  },
  {
   "cell_type": "markdown",
   "id": "59838219-aaf3-4490-bc9e-ea0d9e262ff8",
   "metadata": {},
   "source": [
    "## SCR and amg-hippocampus"
   ]
  },
  {
   "cell_type": "code",
   "execution_count": 36,
   "id": "5256db95-e4d1-4b70-b326-3e4bfa07b169",
   "metadata": {},
   "outputs": [],
   "source": [
    "# first we need to remove shock trials (as SCR in shock trials is not reliable)\n",
    "df_noShock = df[(df['condition']!='CSplusUS1') & (df['condition']!='CSminusUS2')]"
   ]
  },
  {
   "cell_type": "code",
   "execution_count": 38,
   "id": "b2747679-d8a8-49e1-809c-e64f665bf326",
   "metadata": {},
   "outputs": [
    {
     "data": {
      "text/plain": [
       "1       CSminus1\n",
       "2        CSplus1\n",
       "4       CSminus1\n",
       "5        CSplus1\n",
       "6        CSplus1\n",
       "          ...   \n",
       "4480     CSplus2\n",
       "4481    CSminus2\n",
       "4482    CSminus2\n",
       "4483     CSplus2\n",
       "4484    CSminus2\n",
       "Name: Condition, Length: 3640, dtype: object"
      ]
     },
     "execution_count": 38,
     "metadata": {},
     "output_type": "execute_result"
    }
   ],
   "source": [
    "df_noShock.Condition"
   ]
  },
  {
   "cell_type": "code",
   "execution_count": 39,
   "id": "76f0a276-b1d6-421c-bb58-ca6d67fc6369",
   "metadata": {},
   "outputs": [
    {
     "name": "stderr",
     "output_type": "stream",
     "text": [
      "/tmp/ipykernel_6559/1890040735.py:1: SettingWithCopyWarning: \n",
      "A value is trying to be set on a copy of a slice from a DataFrame.\n",
      "Try using .loc[row_indexer,col_indexer] = value instead\n",
      "\n",
      "See the caveats in the documentation: https://pandas.pydata.org/pandas-docs/stable/user_guide/indexing.html#returning-a-view-versus-a-copy\n",
      "  df_noShock['sub'] = df_noShock['sub'].astype('category')\n",
      "/tmp/ipykernel_6559/1890040735.py:11: SettingWithCopyWarning: \n",
      "A value is trying to be set on a copy of a slice from a DataFrame.\n",
      "Try using .loc[row_indexer,col_indexer] = value instead\n",
      "\n",
      "See the caveats in the documentation: https://pandas.pydata.org/pandas-docs/stable/user_guide/indexing.html#returning-a-view-versus-a-copy\n",
      "  df_noShock['cond'] = df_noShock['condition']#\n"
     ]
    }
   ],
   "source": [
    "df_noShock['sub'] = df_noShock['sub'].astype('category')\n",
    "#df['condition'] = df['condition'].astype('category')\n",
    "\n",
    "n_subNoShock = len(df_noShock['sub'].unique())\n",
    "subIDX_NoShock = df_noShock['sub'].cat.codes.values\n",
    "# condition\n",
    "n_cond_noShock = len(df_noShock['condition'].unique())\n",
    "#condIDX = df['condition'].cat.codes.values\n",
    "trials_noShock = df_noShock.trialNo.values - 1\n",
    "amygdala_NoShock = df_noShock.amg.values\n",
    "df_noShock['cond'] = df_noShock['condition']#\n",
    "df_noShock = df_noShock.replace(to_replace={'cond': {'CSminus1':0, 'CSplus1':1, 'CSplus2':2, 'CSminus2':3}})\n",
    "condIDX_noShock = df_noShock.cond.values"
   ]
  },
  {
   "cell_type": "code",
   "execution_count": 40,
   "id": "b4f28b5e-8629-4817-96f7-aaf88eb5df91",
   "metadata": {},
   "outputs": [
    {
     "name": "stderr",
     "output_type": "stream",
     "text": [
      "Auto-assigning NUTS sampler...\n",
      "Initializing NUTS using jitter+adapt_diag...\n",
      "Multiprocess sampling (4 chains in 10 jobs)\n",
      "NUTS: [eps, b_coup, b_amg, b_trials, b_matt, sigma_b, mu_b, a_matt, sigma_a, mu_a]\n"
     ]
    },
    {
     "data": {
      "text/html": [
       "\n",
       "    <div>\n",
       "        <style>\n",
       "            /* Turns off some styling */\n",
       "            progress {\n",
       "                /* gets rid of default border in Firefox and Opera. */\n",
       "                border: none;\n",
       "                /* Needs to be in here for Safari polyfill so background images work as expected. */\n",
       "                background-size: auto;\n",
       "            }\n",
       "            .progress-bar-interrupted, .progress-bar-interrupted::-webkit-progress-bar {\n",
       "                background: #F44336;\n",
       "            }\n",
       "        </style>\n",
       "      <progress value='16000' class='' max='16000' style='width:300px; height:20px; vertical-align: middle;'></progress>\n",
       "      100.00% [16000/16000 05:28<00:00 Sampling 4 chains, 1 divergences]\n",
       "    </div>\n",
       "    "
      ],
      "text/plain": [
       "<IPython.core.display.HTML object>"
      ]
     },
     "metadata": {},
     "output_type": "display_data"
    },
    {
     "name": "stderr",
     "output_type": "stream",
     "text": [
      "Sampling 4 chains for 2_000 tune and 2_000 draw iterations (8_000 + 8_000 draws total) took 329 seconds.\n",
      "There was 1 divergence after tuning. Increase `target_accept` or reparameterize.\n",
      "The number of effective samples is smaller than 10% for some parameters.\n"
     ]
    }
   ],
   "source": [
    "with pm.Model() as model1_scr:\n",
    "    \n",
    "    \n",
    "    mu_a = pm.Normal('mu_a', mu=0, sigma=.5)\n",
    "    sigma_a = pm.HalfCauchy('sigma_a', .5)\n",
    "    a_matt = pm.Normal('a_matt', mu=0, sd=1, shape=n_subNoShock)\n",
    "    a = pm.Deterministic('a', mu_a + sigma_a*a_matt)\n",
    "        \n",
    "    mu_b = pm.Normal('mu_b', mu=0, sigma=.5)\n",
    "    sigma_b = pm.HalfCauchy('sigma_b', .5)\n",
    "    b_matt = pm.Normal('b_matt', mu=0, sigma=1, shape=n_cond_noShock)\n",
    "    b_cond = pm.Deterministic('b_cond', mu_b + sigma_b*b_matt)\n",
    "    \n",
    "    # add trials and amygdala activation\n",
    "    b_trials = pm.Normal('b_trials', mu=0, sigma=.5)\n",
    "    b_amg = pm.Normal('b_amg', mu=0, sigma=.5)\n",
    "    \n",
    "    # add coupling\n",
    "    b_coup = pm.Normal('b_coup', mu=0, sigma=.5)\n",
    "    \n",
    "    \n",
    "  \n",
    "    eps = pm.HalfCauchy('eps', .5)\n",
    "    \n",
    "    # make mu a determenistic distribution so we can test later vs. actual data\n",
    "    \n",
    "    mu = pm.Deterministic('mu',a[subIDX_NoShock] + b_cond[condIDX_noShock] + b_trials*trials_noShock + b_amg*df_noShock.amg + b_coup*df_noShock.coupling)\n",
    "    \n",
    "    y_hat = pm.Normal('y_hat', mu=mu, sigma=eps, observed=df_noShock.scr)\n",
    "   \n",
    "    \n",
    "    trace_scr = pm.sample(target_accept=.95, chains=4, cores=10, return_inferencedata=True, draws=2000, tune=2000)    "
   ]
  },
  {
   "cell_type": "code",
   "execution_count": 41,
   "id": "6d91558c-082e-4f75-857f-cf86a798f27c",
   "metadata": {},
   "outputs": [
    {
     "data": {
      "text/html": [
       "<div>\n",
       "<style scoped>\n",
       "    .dataframe tbody tr th:only-of-type {\n",
       "        vertical-align: middle;\n",
       "    }\n",
       "\n",
       "    .dataframe tbody tr th {\n",
       "        vertical-align: top;\n",
       "    }\n",
       "\n",
       "    .dataframe thead th {\n",
       "        text-align: right;\n",
       "    }\n",
       "</style>\n",
       "<table border=\"1\" class=\"dataframe\">\n",
       "  <thead>\n",
       "    <tr style=\"text-align: right;\">\n",
       "      <th></th>\n",
       "      <th>mean</th>\n",
       "      <th>sd</th>\n",
       "      <th>hdi_3%</th>\n",
       "      <th>hdi_97%</th>\n",
       "      <th>mcse_mean</th>\n",
       "      <th>mcse_sd</th>\n",
       "      <th>ess_bulk</th>\n",
       "      <th>ess_tail</th>\n",
       "      <th>r_hat</th>\n",
       "    </tr>\n",
       "  </thead>\n",
       "  <tbody>\n",
       "    <tr>\n",
       "      <th>mu_a</th>\n",
       "      <td>0.294</td>\n",
       "      <td>0.358</td>\n",
       "      <td>-0.399</td>\n",
       "      <td>0.944</td>\n",
       "      <td>0.006</td>\n",
       "      <td>0.004</td>\n",
       "      <td>4178.0</td>\n",
       "      <td>3606.0</td>\n",
       "      <td>1.0</td>\n",
       "    </tr>\n",
       "    <tr>\n",
       "      <th>b_coup</th>\n",
       "      <td>0.030</td>\n",
       "      <td>0.021</td>\n",
       "      <td>-0.010</td>\n",
       "      <td>0.069</td>\n",
       "      <td>0.000</td>\n",
       "      <td>0.000</td>\n",
       "      <td>9104.0</td>\n",
       "      <td>6075.0</td>\n",
       "      <td>1.0</td>\n",
       "    </tr>\n",
       "    <tr>\n",
       "      <th>b_cond[0]</th>\n",
       "      <td>0.137</td>\n",
       "      <td>0.359</td>\n",
       "      <td>-0.537</td>\n",
       "      <td>0.806</td>\n",
       "      <td>0.006</td>\n",
       "      <td>0.005</td>\n",
       "      <td>4112.0</td>\n",
       "      <td>3735.0</td>\n",
       "      <td>1.0</td>\n",
       "    </tr>\n",
       "    <tr>\n",
       "      <th>b_cond[1]</th>\n",
       "      <td>0.362</td>\n",
       "      <td>0.359</td>\n",
       "      <td>-0.303</td>\n",
       "      <td>1.039</td>\n",
       "      <td>0.006</td>\n",
       "      <td>0.004</td>\n",
       "      <td>4091.0</td>\n",
       "      <td>3649.0</td>\n",
       "      <td>1.0</td>\n",
       "    </tr>\n",
       "    <tr>\n",
       "      <th>b_cond[2]</th>\n",
       "      <td>0.333</td>\n",
       "      <td>0.360</td>\n",
       "      <td>-0.342</td>\n",
       "      <td>1.007</td>\n",
       "      <td>0.006</td>\n",
       "      <td>0.004</td>\n",
       "      <td>4083.0</td>\n",
       "      <td>3717.0</td>\n",
       "      <td>1.0</td>\n",
       "    </tr>\n",
       "    <tr>\n",
       "      <th>b_cond[3]</th>\n",
       "      <td>0.427</td>\n",
       "      <td>0.360</td>\n",
       "      <td>-0.269</td>\n",
       "      <td>1.077</td>\n",
       "      <td>0.006</td>\n",
       "      <td>0.004</td>\n",
       "      <td>4097.0</td>\n",
       "      <td>3600.0</td>\n",
       "      <td>1.0</td>\n",
       "    </tr>\n",
       "  </tbody>\n",
       "</table>\n",
       "</div>"
      ],
      "text/plain": [
       "            mean     sd  hdi_3%  hdi_97%  mcse_mean  mcse_sd  ess_bulk  \\\n",
       "mu_a       0.294  0.358  -0.399    0.944      0.006    0.004    4178.0   \n",
       "b_coup     0.030  0.021  -0.010    0.069      0.000    0.000    9104.0   \n",
       "b_cond[0]  0.137  0.359  -0.537    0.806      0.006    0.005    4112.0   \n",
       "b_cond[1]  0.362  0.359  -0.303    1.039      0.006    0.004    4091.0   \n",
       "b_cond[2]  0.333  0.360  -0.342    1.007      0.006    0.004    4083.0   \n",
       "b_cond[3]  0.427  0.360  -0.269    1.077      0.006    0.004    4097.0   \n",
       "\n",
       "           ess_tail  r_hat  \n",
       "mu_a         3606.0    1.0  \n",
       "b_coup       6075.0    1.0  \n",
       "b_cond[0]    3735.0    1.0  \n",
       "b_cond[1]    3649.0    1.0  \n",
       "b_cond[2]    3717.0    1.0  \n",
       "b_cond[3]    3600.0    1.0  "
      ]
     },
     "execution_count": 41,
     "metadata": {},
     "output_type": "execute_result"
    }
   ],
   "source": [
    "az.summary(trace_scr, var_names=['mu_a','b_coup', 'b_cond'])"
   ]
  },
  {
   "cell_type": "code",
   "execution_count": 42,
   "id": "4937107b-24ca-4dfd-a86a-f01fb8c70083",
   "metadata": {},
   "outputs": [
    {
     "data": {
      "text/plain": [
       "<AxesSubplot:title={'center':'b_coup'}>"
      ]
     },
     "execution_count": 42,
     "metadata": {},
     "output_type": "execute_result"
    },
    {
     "data": {
      "image/png": "[encoded data removed]",
      "text/plain": [
       "<Figure size 432x288 with 1 Axes>"
      ]
     },
     "metadata": {},
     "output_type": "display_data"
    }
   ],
   "source": [
    "sns.set_style(\"ticks\")\n",
    "az.plot_posterior(trace_scr, var_names=['b_coup'], kind='hist', point_estimate='mean',\n",
    "                 ref_val=0)"
   ]
  },
  {
   "cell_type": "markdown",
   "id": "e1d2e1ed-d9b0-4659-8b33-196ca07e96a6",
   "metadata": {},
   "source": [
    "## Prediction error and amg-posterior hippocampus"
   ]
  },
  {
   "cell_type": "code",
   "execution_count": 22,
   "id": "fa3afd5c-a78d-400e-b0cc-618ca1cfea52",
   "metadata": {},
   "outputs": [
    {
     "name": "stderr",
     "output_type": "stream",
     "text": [
      "Auto-assigning NUTS sampler...\n",
      "Initializing NUTS using jitter+adapt_diag...\n",
      "Multiprocess sampling (4 chains in 12 jobs)\n",
      "NUTS: [eps, coup_matt, sigma_coup, mu_coup, b_amg, b_trials, a_matt, sigma_a, mu_a, intercept]\n"
     ]
    },
    {
     "data": {
      "text/html": [
       "\n",
       "<style>\n",
       "    /* Turns off some styling */\n",
       "    progress {\n",
       "        /* gets rid of default border in Firefox and Opera. */\n",
       "        border: none;\n",
       "        /* Needs to be in here for Safari polyfill so background images work as expected. */\n",
       "        background-size: auto;\n",
       "    }\n",
       "    .progress-bar-interrupted, .progress-bar-interrupted::-webkit-progress-bar {\n",
       "        background: #F44336;\n",
       "    }\n",
       "</style>\n"
      ],
      "text/plain": [
       "<IPython.core.display.HTML object>"
      ]
     },
     "metadata": {},
     "output_type": "display_data"
    },
    {
     "data": {
      "text/html": [
       "\n",
       "    <div>\n",
       "      <progress value='16000' class='' max='16000' style='width:300px; height:20px; vertical-align: middle;'></progress>\n",
       "      100.00% [16000/16000 14:13<00:00 Sampling 4 chains, 0 divergences]\n",
       "    </div>\n",
       "    "
      ],
      "text/plain": [
       "<IPython.core.display.HTML object>"
      ]
     },
     "metadata": {},
     "output_type": "display_data"
    },
    {
     "name": "stderr",
     "output_type": "stream",
     "text": [
      "Sampling 4 chains for 2_000 tune and 2_000 draw iterations (8_000 + 8_000 draws total) took 854 seconds.\n"
     ]
    }
   ],
   "source": [
    "with pm.Model() as model_pe:\n",
    "    \n",
    "    # adding intercept\n",
    "    intercept = pm.Normal('intercept', mu=0, sigma=1)\n",
    "    \n",
    "    mu_a = pm.Normal('mu_a', mu=0, sigma=.5)\n",
    "    sigma_a = pm.HalfCauchy('sigma_a', .5)\n",
    "    a_matt = pm.Normal('a_matt', mu=0, sd=1, shape=n_sub)\n",
    "    a = pm.Deterministic('a', mu_a + sigma_a*a_matt)\n",
    "        \n",
    "    \n",
    "    # add trials and amygdala activation\n",
    "    b_trials = pm.Normal('b_trials', mu=0, sigma=.5)\n",
    "    b_amg = pm.Normal('b_amg', mu=0, sigma=.5)\n",
    "    \n",
    "    # add coupling\n",
    "    #b_coup = pm.Normal('b_coup', mu=0, sigma=.5)\n",
    "    mu_coup = pm.Normal('mu_coup', mu=0, sigma=.5)\n",
    "    sigma_coup = pm.HalfCauchy('sigma_coup', .5)\n",
    "    coup_matt = pm.Normal('coup_matt', mu=0, sd=1, shape=n_sub)\n",
    "    b_coup = pm.Deterministic('b_coup', mu_coup + sigma_coup*coup_matt)\n",
    "    \n",
    "  \n",
    "    eps = pm.HalfCauchy('eps', .5)\n",
    "    \n",
    "    # make mu a determenistic distribution so we can test later vs. actual data\n",
    "    \n",
    "    mu = pm.Deterministic('mu',intercept + a[subIDX] + b_trials*trials + b_amg*df.amg + b_coup[subIDX]*df.coupling)\n",
    "    \n",
    "    y_hat = pm.Normal('y_hat', mu=mu, sigma=eps, observed=df.pe)\n",
    "   \n",
    "    \n",
    "    trace_pe = pm.sample(target_accept=.95, chains=4, cores=12, return_inferencedata=True, draws=2000, tune=2000)"
   ]
  },
  {
   "cell_type": "code",
   "execution_count": 23,
   "id": "511e2395-2c10-4818-930d-5a5b932ff5a1",
   "metadata": {},
   "outputs": [
    {
     "data": {
      "text/html": [
       "<div>\n",
       "<style scoped>\n",
       "    .dataframe tbody tr th:only-of-type {\n",
       "        vertical-align: middle;\n",
       "    }\n",
       "\n",
       "    .dataframe tbody tr th {\n",
       "        vertical-align: top;\n",
       "    }\n",
       "\n",
       "    .dataframe thead th {\n",
       "        text-align: right;\n",
       "    }\n",
       "</style>\n",
       "<table border=\"1\" class=\"dataframe\">\n",
       "  <thead>\n",
       "    <tr style=\"text-align: right;\">\n",
       "      <th></th>\n",
       "      <th>mean</th>\n",
       "      <th>sd</th>\n",
       "      <th>hdi_3%</th>\n",
       "      <th>hdi_97%</th>\n",
       "      <th>mcse_mean</th>\n",
       "      <th>mcse_sd</th>\n",
       "      <th>ess_bulk</th>\n",
       "      <th>ess_tail</th>\n",
       "      <th>r_hat</th>\n",
       "    </tr>\n",
       "  </thead>\n",
       "  <tbody>\n",
       "    <tr>\n",
       "      <th>mu_coup</th>\n",
       "      <td>0.071</td>\n",
       "      <td>0.019</td>\n",
       "      <td>0.036</td>\n",
       "      <td>0.105</td>\n",
       "      <td>0.000</td>\n",
       "      <td>0.000</td>\n",
       "      <td>8385.0</td>\n",
       "      <td>6227.0</td>\n",
       "      <td>1.0</td>\n",
       "    </tr>\n",
       "    <tr>\n",
       "      <th>b_coup[0]</th>\n",
       "      <td>-0.030</td>\n",
       "      <td>0.079</td>\n",
       "      <td>-0.183</td>\n",
       "      <td>0.114</td>\n",
       "      <td>0.001</td>\n",
       "      <td>0.001</td>\n",
       "      <td>12579.0</td>\n",
       "      <td>6110.0</td>\n",
       "      <td>1.0</td>\n",
       "    </tr>\n",
       "    <tr>\n",
       "      <th>b_coup[1]</th>\n",
       "      <td>0.045</td>\n",
       "      <td>0.067</td>\n",
       "      <td>-0.076</td>\n",
       "      <td>0.177</td>\n",
       "      <td>0.001</td>\n",
       "      <td>0.001</td>\n",
       "      <td>17799.0</td>\n",
       "      <td>6113.0</td>\n",
       "      <td>1.0</td>\n",
       "    </tr>\n",
       "    <tr>\n",
       "      <th>b_coup[2]</th>\n",
       "      <td>0.065</td>\n",
       "      <td>0.064</td>\n",
       "      <td>-0.052</td>\n",
       "      <td>0.189</td>\n",
       "      <td>0.000</td>\n",
       "      <td>0.001</td>\n",
       "      <td>17109.0</td>\n",
       "      <td>6236.0</td>\n",
       "      <td>1.0</td>\n",
       "    </tr>\n",
       "    <tr>\n",
       "      <th>b_coup[3]</th>\n",
       "      <td>0.094</td>\n",
       "      <td>0.077</td>\n",
       "      <td>-0.052</td>\n",
       "      <td>0.236</td>\n",
       "      <td>0.001</td>\n",
       "      <td>0.001</td>\n",
       "      <td>18459.0</td>\n",
       "      <td>5652.0</td>\n",
       "      <td>1.0</td>\n",
       "    </tr>\n",
       "    <tr>\n",
       "      <th>...</th>\n",
       "      <td>...</td>\n",
       "      <td>...</td>\n",
       "      <td>...</td>\n",
       "      <td>...</td>\n",
       "      <td>...</td>\n",
       "      <td>...</td>\n",
       "      <td>...</td>\n",
       "      <td>...</td>\n",
       "      <td>...</td>\n",
       "    </tr>\n",
       "    <tr>\n",
       "      <th>b_coup[64]</th>\n",
       "      <td>0.079</td>\n",
       "      <td>0.071</td>\n",
       "      <td>-0.057</td>\n",
       "      <td>0.211</td>\n",
       "      <td>0.000</td>\n",
       "      <td>0.001</td>\n",
       "      <td>21137.0</td>\n",
       "      <td>5454.0</td>\n",
       "      <td>1.0</td>\n",
       "    </tr>\n",
       "    <tr>\n",
       "      <th>b_amg</th>\n",
       "      <td>-0.010</td>\n",
       "      <td>0.014</td>\n",
       "      <td>-0.036</td>\n",
       "      <td>0.016</td>\n",
       "      <td>0.000</td>\n",
       "      <td>0.000</td>\n",
       "      <td>20609.0</td>\n",
       "      <td>5462.0</td>\n",
       "      <td>1.0</td>\n",
       "    </tr>\n",
       "    <tr>\n",
       "      <th>b_trials</th>\n",
       "      <td>0.001</td>\n",
       "      <td>0.000</td>\n",
       "      <td>0.001</td>\n",
       "      <td>0.002</td>\n",
       "      <td>0.000</td>\n",
       "      <td>0.000</td>\n",
       "      <td>19949.0</td>\n",
       "      <td>5484.0</td>\n",
       "      <td>1.0</td>\n",
       "    </tr>\n",
       "    <tr>\n",
       "      <th>mu_a</th>\n",
       "      <td>-0.033</td>\n",
       "      <td>0.441</td>\n",
       "      <td>-0.872</td>\n",
       "      <td>0.784</td>\n",
       "      <td>0.004</td>\n",
       "      <td>0.005</td>\n",
       "      <td>10834.0</td>\n",
       "      <td>5743.0</td>\n",
       "      <td>1.0</td>\n",
       "    </tr>\n",
       "    <tr>\n",
       "      <th>intercept</th>\n",
       "      <td>-0.128</td>\n",
       "      <td>0.441</td>\n",
       "      <td>-0.948</td>\n",
       "      <td>0.703</td>\n",
       "      <td>0.004</td>\n",
       "      <td>0.005</td>\n",
       "      <td>10819.0</td>\n",
       "      <td>5765.0</td>\n",
       "      <td>1.0</td>\n",
       "    </tr>\n",
       "  </tbody>\n",
       "</table>\n",
       "<p>70 rows × 9 columns</p>\n",
       "</div>"
      ],
      "text/plain": [
       "             mean     sd  hdi_3%  hdi_97%  mcse_mean  mcse_sd  ess_bulk  \\\n",
       "mu_coup     0.071  0.019   0.036    0.105      0.000    0.000    8385.0   \n",
       "b_coup[0]  -0.030  0.079  -0.183    0.114      0.001    0.001   12579.0   \n",
       "b_coup[1]   0.045  0.067  -0.076    0.177      0.001    0.001   17799.0   \n",
       "b_coup[2]   0.065  0.064  -0.052    0.189      0.000    0.001   17109.0   \n",
       "b_coup[3]   0.094  0.077  -0.052    0.236      0.001    0.001   18459.0   \n",
       "...           ...    ...     ...      ...        ...      ...       ...   \n",
       "b_coup[64]  0.079  0.071  -0.057    0.211      0.000    0.001   21137.0   \n",
       "b_amg      -0.010  0.014  -0.036    0.016      0.000    0.000   20609.0   \n",
       "b_trials    0.001  0.000   0.001    0.002      0.000    0.000   19949.0   \n",
       "mu_a       -0.033  0.441  -0.872    0.784      0.004    0.005   10834.0   \n",
       "intercept  -0.128  0.441  -0.948    0.703      0.004    0.005   10819.0   \n",
       "\n",
       "            ess_tail  r_hat  \n",
       "mu_coup       6227.0    1.0  \n",
       "b_coup[0]     6110.0    1.0  \n",
       "b_coup[1]     6113.0    1.0  \n",
       "b_coup[2]     6236.0    1.0  \n",
       "b_coup[3]     5652.0    1.0  \n",
       "...              ...    ...  \n",
       "b_coup[64]    5454.0    1.0  \n",
       "b_amg         5462.0    1.0  \n",
       "b_trials      5484.0    1.0  \n",
       "mu_a          5743.0    1.0  \n",
       "intercept     5765.0    1.0  \n",
       "\n",
       "[70 rows x 9 columns]"
      ]
     },
     "execution_count": 23,
     "metadata": {},
     "output_type": "execute_result"
    }
   ],
   "source": [
    "az.summary(trace_pe, var_names=['mu_coup','b_coup','b_amg','b_trials', 'mu_a', 'intercept'])"
   ]
  },
  {
   "cell_type": "code",
   "execution_count": 24,
   "id": "bf5bc072-639a-48e3-8e7e-8ff9a070b2a2",
   "metadata": {},
   "outputs": [
    {
     "data": {
      "text/plain": [
       "Text(0.5, 1.0, 'Amg-Hipp Coupling')"
      ]
     },
     "execution_count": 24,
     "metadata": {},
     "output_type": "execute_result"
    },
    {
     "data": {
      "image/png": "[encoded data removed]",
      "text/plain": [
       "<Figure size 432x288 with 1 Axes>"
      ]
     },
     "metadata": {},
     "output_type": "display_data"
    }
   ],
   "source": [
    "sns.set_style(\"ticks\")\n",
    "p = az.plot_posterior(trace_pe, var_names=['mu_coup'],\n",
    "                 kind='hist', ref_val=0, point_estimate='mean')\n",
    "p.set_title(\"Amg-Hipp Coupling\")"
   ]
  },
  {
   "cell_type": "code",
   "execution_count": 28,
   "id": "bc6c9a44-d12c-4b62-a1eb-5e86051c3dbd",
   "metadata": {},
   "outputs": [
    {
     "data": {
      "text/plain": [
       "0.999875"
      ]
     },
     "execution_count": 28,
     "metadata": {},
     "output_type": "execute_result"
    }
   ],
   "source": [
    "sum(trace_pe.posterior.stack(draws=('chain','draw'))['mu_coup'].values > 0) / len(trace_pe.posterior.stack(draws=('chain','draw'))['mu_coup'].values)"
   ]
  },
  {
   "cell_type": "code",
   "execution_count": 21,
   "id": "0cda4544-3ab2-4081-9869-e610dccf2903",
   "metadata": {},
   "outputs": [
    {
     "ename": "NameError",
     "evalue": "name 'trace_pe' is not defined",
     "output_type": "error",
     "traceback": [
      "\u001b[0;31m---------------------------------------------------------------------------\u001b[0m",
      "\u001b[0;31mNameError\u001b[0m                                 Traceback (most recent call last)",
      "Input \u001b[0;32mIn [21]\u001b[0m, in \u001b[0;36m<cell line: 1>\u001b[0;34m()\u001b[0m\n\u001b[0;32m----> 1\u001b[0m \u001b[43mtrace_pe\u001b[49m\n",
      "\u001b[0;31mNameError\u001b[0m: name 'trace_pe' is not defined"
     ]
    }
   ],
   "source": [
    "trace_pe"
   ]
  },
  {
   "cell_type": "code",
   "execution_count": 33,
   "id": "c05a096c-199f-4676-b8cc-981193f81bce",
   "metadata": {},
   "outputs": [
    {
     "data": {
      "text/html": [
       "<div>\n",
       "<style scoped>\n",
       "    .dataframe tbody tr th:only-of-type {\n",
       "        vertical-align: middle;\n",
       "    }\n",
       "\n",
       "    .dataframe tbody tr th {\n",
       "        vertical-align: top;\n",
       "    }\n",
       "\n",
       "    .dataframe thead th {\n",
       "        text-align: right;\n",
       "    }\n",
       "</style>\n",
       "<table border=\"1\" class=\"dataframe\">\n",
       "  <thead>\n",
       "    <tr style=\"text-align: right;\">\n",
       "      <th></th>\n",
       "      <th>n</th>\n",
       "      <th>r</th>\n",
       "      <th>CI95%</th>\n",
       "      <th>p-val</th>\n",
       "      <th>BF10</th>\n",
       "      <th>power</th>\n",
       "    </tr>\n",
       "  </thead>\n",
       "  <tbody>\n",
       "    <tr>\n",
       "      <th>pearson</th>\n",
       "      <td>69</td>\n",
       "      <td>0.440904</td>\n",
       "      <td>[0.23, 0.61]</td>\n",
       "      <td>0.00015</td>\n",
       "      <td>171.21</td>\n",
       "      <td>0.97193</td>\n",
       "    </tr>\n",
       "  </tbody>\n",
       "</table>\n",
       "</div>"
      ],
      "text/plain": [
       "          n         r         CI95%    p-val    BF10    power\n",
       "pearson  69  0.440904  [0.23, 0.61]  0.00015  171.21  0.97193"
      ]
     },
     "execution_count": 33,
     "metadata": {},
     "output_type": "execute_result"
    },
    {
     "data": {
      "image/png": "[encoded data removed]",
      "text/plain": [
       "<Figure size 360x360 with 1 Axes>"
      ]
     },
     "metadata": {},
     "output_type": "display_data"
    }
   ],
   "source": [
    "# visualization\n",
    "# plot results\n",
    "forPlot = df.groupby(['Event.Nr']).mean()\n",
    "sns.set(font_scale = 1.15)\n",
    "sns.set_style(\"whitegrid\")\n",
    "a = sns.lmplot(x ='pe', y='coupling', data= forPlot)\n",
    "a.set_axis_labels(\"Prediction Error\")\n",
    "a.set_ylabels(\"Amygdala Hippocampus Coupling\")\n",
    "plt.text(-0.6,0.23, \"r=0.44, p<0.00015\")\n",
    "\n",
    "a.set(xlim = (-0.7,0.95))\n",
    "a.set(xticks=np.linspace(-0.7, 0.95, 6).round(1))\n",
    "a.savefig('pe_coupling.png', dpi=300, bbox_inches='tight')\n",
    "pg.corr(forPlot['pe'], forPlot['coupling'])"
   ]
  },
  {
   "cell_type": "markdown",
   "id": "05bc2b98-633c-478c-990e-6488f6553f64",
   "metadata": {},
   "source": [
    "# Amygdala vmPFC"
   ]
  },
  {
   "cell_type": "code",
   "execution_count": 43,
   "id": "1322caaf-833b-4e79-9d71-f888ff2ca06c",
   "metadata": {},
   "outputs": [
    {
     "name": "stderr",
     "output_type": "stream",
     "text": [
      "Auto-assigning NUTS sampler...\n",
      "Initializing NUTS using jitter+adapt_diag...\n",
      "Multiprocess sampling (4 chains in 10 jobs)\n",
      "NUTS: [eps, b_amg, b_trials, b_matt, sigma_b, mu_b, a_matt, sigma_a, mu_a]\n"
     ]
    },
    {
     "data": {
      "text/html": [
       "\n",
       "    <div>\n",
       "        <style>\n",
       "            /* Turns off some styling */\n",
       "            progress {\n",
       "                /* gets rid of default border in Firefox and Opera. */\n",
       "                border: none;\n",
       "                /* Needs to be in here for Safari polyfill so background images work as expected. */\n",
       "                background-size: auto;\n",
       "            }\n",
       "            .progress-bar-interrupted, .progress-bar-interrupted::-webkit-progress-bar {\n",
       "                background: #F44336;\n",
       "            }\n",
       "        </style>\n",
       "      <progress value='16000' class='' max='16000' style='width:300px; height:20px; vertical-align: middle;'></progress>\n",
       "      100.00% [16000/16000 08:52<00:00 Sampling 4 chains, 0 divergences]\n",
       "    </div>\n",
       "    "
      ],
      "text/plain": [
       "<IPython.core.display.HTML object>"
      ]
     },
     "metadata": {},
     "output_type": "display_data"
    },
    {
     "name": "stderr",
     "output_type": "stream",
     "text": [
      "Sampling 4 chains for 2_000 tune and 2_000 draw iterations (8_000 + 8_000 draws total) took 532 seconds.\n",
      "The number of effective samples is smaller than 25% for some parameters.\n"
     ]
    }
   ],
   "source": [
    "with pm.Model() as model1_vmpfc:\n",
    "    \n",
    "    \n",
    "    mu_a = pm.Normal('mu_a', mu=0, sigma=.5)\n",
    "    sigma_a = pm.HalfCauchy('sigma_a', .5)\n",
    "    a_matt = pm.Normal('a_matt', mu=0, sd=1, shape=n_sub)\n",
    "    a = pm.Deterministic('a', mu_a + sigma_a*a_matt)\n",
    "    \n",
    "    mu_b = pm.Normal('mu_b', mu=0, sigma=.5)\n",
    "    sigma_b = pm.HalfCauchy('sigma_b', .5)\n",
    "    b_matt = pm.Normal('b_matt', mu=0, sigma=1, shape=n_cond)\n",
    "    b_cond = pm.Deterministic('b_cond', mu_b + sigma_b*b_matt)\n",
    "    \n",
    "    # add trials and amygdala activation\n",
    "    b_trials = pm.Normal('b_trials', mu=0, sigma=.5)\n",
    "    b_amg = pm.Normal('b_amg', mu=0, sigma=.5)\n",
    "   \n",
    "   \n",
    "  \n",
    "    eps = pm.HalfCauchy('eps', .5)\n",
    "    \n",
    "    # make mu a determenistic distribution so we can test later vs. actual data\n",
    "    \n",
    "    mu = pm.Deterministic('mu',a[subIDX] + b_cond[condIDX] + b_trials*trials + b_amg*df.amg)\n",
    "    \n",
    "    y_hat = pm.Normal('y_hat', mu=mu, sigma=eps, observed=df['amg_vmpfc'])\n",
    "    \n",
    "    trace1_vmpfc = pm.sample(target_accept=.95, chains=4, cores=10, return_inferencedata=True, draws=2000, tune=2000)    "
   ]
  },
  {
   "cell_type": "code",
   "execution_count": 44,
   "id": "9cb1ca12-6ca0-4135-a6d2-83960da7a934",
   "metadata": {},
   "outputs": [],
   "source": [
    "trStackedvmPFC = trace1_vmpfc.posterior.stack(draws=('chain','draw'))\n",
    "csminus1 = trStackedvmPFC.b_cond[0,:].values\n",
    "csplus1 = trStackedvmPFC.b_cond[1,:].values\n",
    "csPlusUS1 = trStackedvmPFC.b_cond[2,:].values\n",
    "csminus2 = trStackedvmPFC.b_cond[4,:].values\n",
    "csplus2 = trStackedvmPFC.b_cond[3,:].values\n",
    "csPlusUS2 = trStackedvmPFC.b_cond[5,:].values\n",
    "csUSboth = np.mean(np.stack([csPlusUS1, csPlusUS2]), axis=0) # averaging across USs\n",
    "csall = np.mean(np.stack([csminus1,csminus2, csplus1, csplus2]), axis=0) # averaging across CSs\n",
    "usVcs = csUSboth - csall\n"
   ]
  },
  {
   "cell_type": "code",
   "execution_count": 45,
   "id": "d32cfc6d-d252-4c06-9c18-69bcb0567973",
   "metadata": {},
   "outputs": [
    {
     "data": {
      "text/plain": [
       "Text(0.5, 1.0, 'CSPlusUS-CS in vmPFC')"
      ]
     },
     "execution_count": 45,
     "metadata": {},
     "output_type": "execute_result"
    },
    {
     "data": {
      "text/plain": [
       "<Figure size 1296x216 with 0 Axes>"
      ]
     },
     "metadata": {},
     "output_type": "display_data"
    },
    {
     "data": {
      "image/png": "[encoded data removed]",
      "text/plain": [
       "<Figure size 432x288 with 1 Axes>"
      ]
     },
     "metadata": {},
     "output_type": "display_data"
    }
   ],
   "source": [
    "sns.set_style('ticks')\n",
    "fig = plt.figure(figsize=(18,3))\n",
    "az.plot_posterior(usVcs, point_estimate='mean', kind='hist', ref_val=0).set_title(\"CSPlusUS-CS in vmPFC\")\n"
   ]
  },
  {
   "cell_type": "code",
   "execution_count": 46,
   "id": "9a8fca4b-1e5e-440a-88ae-7d2240454272",
   "metadata": {},
   "outputs": [
    {
     "name": "stderr",
     "output_type": "stream",
     "text": [
      "arviz - WARNING - Shape validation failed: input_shape: (1, 8000), minimum_shape: (chains=2, draws=4)\n"
     ]
    },
    {
     "name": "stdout",
     "output_type": "stream",
     "text": [
      "Standardized coeficient -0.9406397642280248\n"
     ]
    },
    {
     "data": {
      "text/html": [
       "<div>\n",
       "<style scoped>\n",
       "    .dataframe tbody tr th:only-of-type {\n",
       "        vertical-align: middle;\n",
       "    }\n",
       "\n",
       "    .dataframe tbody tr th {\n",
       "        vertical-align: top;\n",
       "    }\n",
       "\n",
       "    .dataframe thead th {\n",
       "        text-align: right;\n",
       "    }\n",
       "</style>\n",
       "<table border=\"1\" class=\"dataframe\">\n",
       "  <thead>\n",
       "    <tr style=\"text-align: right;\">\n",
       "      <th></th>\n",
       "      <th>mean</th>\n",
       "      <th>sd</th>\n",
       "      <th>hdi_3%</th>\n",
       "      <th>hdi_97%</th>\n",
       "      <th>mcse_mean</th>\n",
       "      <th>mcse_sd</th>\n",
       "      <th>ess_bulk</th>\n",
       "      <th>ess_tail</th>\n",
       "      <th>r_hat</th>\n",
       "    </tr>\n",
       "  </thead>\n",
       "  <tbody>\n",
       "    <tr>\n",
       "      <th>x</th>\n",
       "      <td>-0.011</td>\n",
       "      <td>0.011</td>\n",
       "      <td>-0.033</td>\n",
       "      <td>0.008</td>\n",
       "      <td>0.0</td>\n",
       "      <td>0.0</td>\n",
       "      <td>4559.0</td>\n",
       "      <td>6503.0</td>\n",
       "      <td>NaN</td>\n",
       "    </tr>\n",
       "  </tbody>\n",
       "</table>\n",
       "</div>"
      ],
      "text/plain": [
       "    mean     sd  hdi_3%  hdi_97%  mcse_mean  mcse_sd  ess_bulk  ess_tail  \\\n",
       "x -0.011  0.011  -0.033    0.008        0.0      0.0    4559.0    6503.0   \n",
       "\n",
       "   r_hat  \n",
       "x    NaN  "
      ]
     },
     "execution_count": 46,
     "metadata": {},
     "output_type": "execute_result"
    }
   ],
   "source": [
    "print(f'Standardized coeficient {np.mean(usVcs) / np.std(usVcs)}')\n",
    "az.summary(usVcs)"
   ]
  },
  {
   "cell_type": "code",
   "execution_count": 49,
   "id": "0d8213ee-8f66-4047-87dd-5088e7617177",
   "metadata": {},
   "outputs": [
    {
     "data": {
      "text/plain": [
       "<seaborn.axisgrid.FacetGrid at 0x2b95a9cb9520>"
      ]
     },
     "execution_count": 49,
     "metadata": {},
     "output_type": "execute_result"
    },
    {
     "data": {
      "image/png": "[encoded data removed]",
      "text/plain": [
       "<Figure size 360x360 with 1 Axes>"
      ]
     },
     "metadata": {},
     "output_type": "display_data"
    }
   ],
   "source": [
    "# visualization\n",
    "sns.set(font_scale = 1.15)\n",
    "sns.set_style(\"white\")\n",
    "g = sns.catplot(y='amg_vmpfc',x='condition', data=df, kind='bar', ci=68)\n",
    "g.set_xlabels(\"\")\n",
    "g.set_xticklabels(\n",
    "    labels=[\"CS1+US\", \"CS2-\", \"CS1+\", \"CS2+US\", \"CS1-\", \"CS2+\"], rotation=30)\n",
    "g.set_ylabels(\"Amygdala vmPFC Coupling\")\n",
    "g.savefig('coupling_different_Conditions.png', dpi=300, bbox_inches='tight')"
   ]
  },
  {
   "cell_type": "markdown",
   "id": "32068ada-b47a-484e-b6cc-b9be6c299435",
   "metadata": {},
   "source": [
    "## SCR"
   ]
  },
  {
   "cell_type": "code",
   "execution_count": null,
   "id": "3a8f4105-9c63-45c6-bbee-57d5bb432e4d",
   "metadata": {},
   "outputs": [],
   "source": [
    "with pm.Model() as scr_vmpfc:\n",
    "    \n",
    "    \n",
    "    mu_a = pm.Normal('mu_a', mu=0, sigma=.5)\n",
    "    sigma_a = pm.HalfCauchy('sigma_a', .5)\n",
    "    a_matt = pm.Normal('a_matt', mu=0, sd=1, shape=n_sub)\n",
    "    a = pm.Deterministic('a', mu_a + sigma_a*a_matt)\n",
    "        \n",
    "    mu_b = pm.Normal('mu_b', mu=0, sigma=.5)\n",
    "    sigma_b = pm.HalfCauchy('sigma_b', .5)\n",
    "    b_matt = pm.Normal('b_matt', mu=0, sigma=1, shape=n_cond)\n",
    "    b_cond = pm.Deterministic('b_cond', mu_b + sigma_b*b_matt)\n",
    "    \n",
    "    # add trials and amygdala activation\n",
    "    b_trials = pm.Normal('b_trials', mu=0, sigma=.5)\n",
    "    b_amg = pm.Normal('b_amg', mu=0, sigma=.5)\n",
    "    \n",
    "    # add coupling\n",
    "    b_coup = pm.Normal('b_coup', mu=0, sigma=.5)\n",
    "    \n",
    "    \n",
    "  \n",
    "    eps = pm.HalfCauchy('eps', .5)\n",
    "    \n",
    "    # make mu a determenistic distribution so we can test later vs. actual data\n",
    "    \n",
    "    #mu = pm.Deterministic('mu',a[subIDX] + b_cond[condIDX] + b_trials*trials + b_amg*df.amg + b_coup*df.amg_vmpfc)\n",
    "    \n",
    "    mu = a[subIDX] + b_cond[condIDX] + b_trials*trials + b_amg*df.amg + b_coup*df.amg_vmpfc\n",
    "    \n",
    "    y_hat = pm.Normal('y_hat', mu=mu, sigma=eps, observed=df.scr)\n",
    "   \n",
    "    \n",
    "    trace1_scr_vmpfc = pm.sample(target_accept=.98, chains=4, cores=10, return_inferencedata=True, draws=2000, tune=2000, random_seed=145)  "
   ]
  },
  {
   "cell_type": "code",
   "execution_count": null,
   "id": "f225ef14-8f00-46b7-b138-78d1a9262f5d",
   "metadata": {},
   "outputs": [],
   "source": [
    "az.summary(trace1_scr_vmpfc, var_names=['b_coup','b_cond','b_matt'])"
   ]
  },
  {
   "cell_type": "code",
   "execution_count": null,
   "id": "5e564cef-80c1-41b0-9a05-e5c8b541016d",
   "metadata": {},
   "outputs": [],
   "source": [
    "az.plot_posterior(trace1_scr_vmpfc,var_names=['b_coup'], kind='hist', ref_val=0, point_estimate='mean')"
   ]
  },
  {
   "cell_type": "markdown",
   "id": "3a869bfa-e330-4d04-8ae7-e50044f53ede",
   "metadata": {},
   "source": [
    "## prediction error"
   ]
  },
  {
   "cell_type": "code",
   "execution_count": 5,
   "id": "d753fe21-9add-4e63-a42a-2214780d246d",
   "metadata": {},
   "outputs": [
    {
     "name": "stderr",
     "output_type": "stream",
     "text": [
      "Auto-assigning NUTS sampler...\n",
      "Initializing NUTS using jitter+adapt_diag...\n",
      "Multiprocess sampling (4 chains in 10 jobs)\n",
      "NUTS: [eps, coup_matt, sigma_coup, mu_coup, b_amg, b_trials, a_matt, sigma_a, mu_a, intercept]\n"
     ]
    },
    {
     "data": {
      "text/html": [
       "\n",
       "<style>\n",
       "    /* Turns off some styling */\n",
       "    progress {\n",
       "        /* gets rid of default border in Firefox and Opera. */\n",
       "        border: none;\n",
       "        /* Needs to be in here for Safari polyfill so background images work as expected. */\n",
       "        background-size: auto;\n",
       "    }\n",
       "    .progress-bar-interrupted, .progress-bar-interrupted::-webkit-progress-bar {\n",
       "        background: #F44336;\n",
       "    }\n",
       "</style>\n"
      ],
      "text/plain": [
       "<IPython.core.display.HTML object>"
      ]
     },
     "metadata": {},
     "output_type": "display_data"
    },
    {
     "data": {
      "text/html": [
       "\n",
       "    <div>\n",
       "      <progress value='16000' class='' max='16000' style='width:300px; height:20px; vertical-align: middle;'></progress>\n",
       "      100.00% [16000/16000 14:02<00:00 Sampling 4 chains, 0 divergences]\n",
       "    </div>\n",
       "    "
      ],
      "text/plain": [
       "<IPython.core.display.HTML object>"
      ]
     },
     "metadata": {},
     "output_type": "display_data"
    },
    {
     "name": "stderr",
     "output_type": "stream",
     "text": [
      "Sampling 4 chains for 2_000 tune and 2_000 draw iterations (8_000 + 8_000 draws total) took 844 seconds.\n"
     ]
    }
   ],
   "source": [
    "with pm.Model() as model_pe_vmpfc:\n",
    "    \n",
    "    # adding intercept\n",
    "    intercept = pm.Normal('intercept', mu=0, sigma=1)\n",
    "    \n",
    "    mu_a = pm.Normal('mu_a', mu=0, sigma=.5)\n",
    "    sigma_a = pm.HalfCauchy('sigma_a', .5)\n",
    "    a_matt = pm.Normal('a_matt', mu=0, sd=1, shape=n_sub)\n",
    "    a = pm.Deterministic('a', mu_a + sigma_a*a_matt)\n",
    "        \n",
    "    \n",
    "    # add trials and amygdala activation\n",
    "    b_trials = pm.Normal('b_trials', mu=0, sigma=.5)\n",
    "    b_amg = pm.Normal('b_amg', mu=0, sigma=.5)\n",
    "    \n",
    "    # add coupling\n",
    "    #b_coup = pm.Normal('b_coup', mu=0, sigma=.5)\n",
    "    mu_coup = pm.Normal('mu_coup', mu=0, sigma=.5)\n",
    "    sigma_coup = pm.HalfCauchy('sigma_coup', .5)\n",
    "    coup_matt = pm.Normal('coup_matt', mu=0, sd=1, shape=n_sub)\n",
    "    b_coup = pm.Deterministic('b_coup', mu_coup + sigma_coup*coup_matt)\n",
    "    \n",
    "  \n",
    "    eps = pm.HalfCauchy('eps', .5)\n",
    "    \n",
    "    # make mu a determenistic distribution so we can test later vs. actual data\n",
    "    \n",
    "    mu = pm.Deterministic('mu',intercept + a[subIDX] + b_trials*trials + b_amg*df.amg + b_coup[subIDX]*df.amg_vmpfc)\n",
    "    \n",
    "    y_hat = pm.Normal('y_hat', mu=mu, sigma=eps, observed=df.pe)\n",
    "   \n",
    "    \n",
    "    trace_pe_vmpfc = pm.sample(target_accept=.95, chains=4, cores=10, return_inferencedata=True, draws=2000, tune=2000)"
   ]
  },
  {
   "cell_type": "code",
   "execution_count": 6,
   "id": "431f2d92-e1e3-43ba-8005-b27df5720ddc",
   "metadata": {},
   "outputs": [
    {
     "data": {
      "text/html": [
       "<div>\n",
       "<style scoped>\n",
       "    .dataframe tbody tr th:only-of-type {\n",
       "        vertical-align: middle;\n",
       "    }\n",
       "\n",
       "    .dataframe tbody tr th {\n",
       "        vertical-align: top;\n",
       "    }\n",
       "\n",
       "    .dataframe thead th {\n",
       "        text-align: right;\n",
       "    }\n",
       "</style>\n",
       "<table border=\"1\" class=\"dataframe\">\n",
       "  <thead>\n",
       "    <tr style=\"text-align: right;\">\n",
       "      <th></th>\n",
       "      <th>mean</th>\n",
       "      <th>sd</th>\n",
       "      <th>hdi_3%</th>\n",
       "      <th>hdi_97%</th>\n",
       "      <th>mcse_mean</th>\n",
       "      <th>mcse_sd</th>\n",
       "      <th>ess_bulk</th>\n",
       "      <th>ess_tail</th>\n",
       "      <th>r_hat</th>\n",
       "    </tr>\n",
       "  </thead>\n",
       "  <tbody>\n",
       "    <tr>\n",
       "      <th>mu_coup</th>\n",
       "      <td>-0.021</td>\n",
       "      <td>0.017</td>\n",
       "      <td>-0.053</td>\n",
       "      <td>0.009</td>\n",
       "      <td>0.000</td>\n",
       "      <td>0.000</td>\n",
       "      <td>18203.0</td>\n",
       "      <td>6267.0</td>\n",
       "      <td>1.0</td>\n",
       "    </tr>\n",
       "    <tr>\n",
       "      <th>b_coup[0]</th>\n",
       "      <td>-0.011</td>\n",
       "      <td>0.033</td>\n",
       "      <td>-0.070</td>\n",
       "      <td>0.057</td>\n",
       "      <td>0.000</td>\n",
       "      <td>0.000</td>\n",
       "      <td>12464.0</td>\n",
       "      <td>6352.0</td>\n",
       "      <td>1.0</td>\n",
       "    </tr>\n",
       "    <tr>\n",
       "      <th>b_coup[1]</th>\n",
       "      <td>-0.029</td>\n",
       "      <td>0.032</td>\n",
       "      <td>-0.090</td>\n",
       "      <td>0.035</td>\n",
       "      <td>0.000</td>\n",
       "      <td>0.000</td>\n",
       "      <td>12462.0</td>\n",
       "      <td>6277.0</td>\n",
       "      <td>1.0</td>\n",
       "    </tr>\n",
       "    <tr>\n",
       "      <th>b_coup[2]</th>\n",
       "      <td>-0.015</td>\n",
       "      <td>0.032</td>\n",
       "      <td>-0.072</td>\n",
       "      <td>0.049</td>\n",
       "      <td>0.000</td>\n",
       "      <td>0.000</td>\n",
       "      <td>13743.0</td>\n",
       "      <td>6526.0</td>\n",
       "      <td>1.0</td>\n",
       "    </tr>\n",
       "    <tr>\n",
       "      <th>b_coup[3]</th>\n",
       "      <td>-0.017</td>\n",
       "      <td>0.032</td>\n",
       "      <td>-0.077</td>\n",
       "      <td>0.047</td>\n",
       "      <td>0.000</td>\n",
       "      <td>0.000</td>\n",
       "      <td>16818.0</td>\n",
       "      <td>6068.0</td>\n",
       "      <td>1.0</td>\n",
       "    </tr>\n",
       "    <tr>\n",
       "      <th>...</th>\n",
       "      <td>...</td>\n",
       "      <td>...</td>\n",
       "      <td>...</td>\n",
       "      <td>...</td>\n",
       "      <td>...</td>\n",
       "      <td>...</td>\n",
       "      <td>...</td>\n",
       "      <td>...</td>\n",
       "      <td>...</td>\n",
       "    </tr>\n",
       "    <tr>\n",
       "      <th>b_coup[62]</th>\n",
       "      <td>-0.013</td>\n",
       "      <td>0.032</td>\n",
       "      <td>-0.072</td>\n",
       "      <td>0.053</td>\n",
       "      <td>0.000</td>\n",
       "      <td>0.000</td>\n",
       "      <td>12738.0</td>\n",
       "      <td>5892.0</td>\n",
       "      <td>1.0</td>\n",
       "    </tr>\n",
       "    <tr>\n",
       "      <th>b_coup[63]</th>\n",
       "      <td>-0.025</td>\n",
       "      <td>0.031</td>\n",
       "      <td>-0.084</td>\n",
       "      <td>0.036</td>\n",
       "      <td>0.000</td>\n",
       "      <td>0.000</td>\n",
       "      <td>14719.0</td>\n",
       "      <td>6435.0</td>\n",
       "      <td>1.0</td>\n",
       "    </tr>\n",
       "    <tr>\n",
       "      <th>b_coup[64]</th>\n",
       "      <td>-0.017</td>\n",
       "      <td>0.031</td>\n",
       "      <td>-0.077</td>\n",
       "      <td>0.047</td>\n",
       "      <td>0.000</td>\n",
       "      <td>0.000</td>\n",
       "      <td>13075.0</td>\n",
       "      <td>5942.0</td>\n",
       "      <td>1.0</td>\n",
       "    </tr>\n",
       "    <tr>\n",
       "      <th>b_amg</th>\n",
       "      <td>-0.007</td>\n",
       "      <td>0.015</td>\n",
       "      <td>-0.032</td>\n",
       "      <td>0.022</td>\n",
       "      <td>0.000</td>\n",
       "      <td>0.000</td>\n",
       "      <td>18058.0</td>\n",
       "      <td>5181.0</td>\n",
       "      <td>1.0</td>\n",
       "    </tr>\n",
       "    <tr>\n",
       "      <th>mu_a</th>\n",
       "      <td>-0.028</td>\n",
       "      <td>0.441</td>\n",
       "      <td>-0.880</td>\n",
       "      <td>0.755</td>\n",
       "      <td>0.004</td>\n",
       "      <td>0.005</td>\n",
       "      <td>10315.0</td>\n",
       "      <td>6405.0</td>\n",
       "      <td>1.0</td>\n",
       "    </tr>\n",
       "  </tbody>\n",
       "</table>\n",
       "<p>68 rows × 9 columns</p>\n",
       "</div>"
      ],
      "text/plain": [
       "             mean     sd  hdi_3%  hdi_97%  mcse_mean  mcse_sd  ess_bulk  \\\n",
       "mu_coup    -0.021  0.017  -0.053    0.009      0.000    0.000   18203.0   \n",
       "b_coup[0]  -0.011  0.033  -0.070    0.057      0.000    0.000   12464.0   \n",
       "b_coup[1]  -0.029  0.032  -0.090    0.035      0.000    0.000   12462.0   \n",
       "b_coup[2]  -0.015  0.032  -0.072    0.049      0.000    0.000   13743.0   \n",
       "b_coup[3]  -0.017  0.032  -0.077    0.047      0.000    0.000   16818.0   \n",
       "...           ...    ...     ...      ...        ...      ...       ...   \n",
       "b_coup[62] -0.013  0.032  -0.072    0.053      0.000    0.000   12738.0   \n",
       "b_coup[63] -0.025  0.031  -0.084    0.036      0.000    0.000   14719.0   \n",
       "b_coup[64] -0.017  0.031  -0.077    0.047      0.000    0.000   13075.0   \n",
       "b_amg      -0.007  0.015  -0.032    0.022      0.000    0.000   18058.0   \n",
       "mu_a       -0.028  0.441  -0.880    0.755      0.004    0.005   10315.0   \n",
       "\n",
       "            ess_tail  r_hat  \n",
       "mu_coup       6267.0    1.0  \n",
       "b_coup[0]     6352.0    1.0  \n",
       "b_coup[1]     6277.0    1.0  \n",
       "b_coup[2]     6526.0    1.0  \n",
       "b_coup[3]     6068.0    1.0  \n",
       "...              ...    ...  \n",
       "b_coup[62]    5892.0    1.0  \n",
       "b_coup[63]    6435.0    1.0  \n",
       "b_coup[64]    5942.0    1.0  \n",
       "b_amg         5181.0    1.0  \n",
       "mu_a          6405.0    1.0  \n",
       "\n",
       "[68 rows x 9 columns]"
      ]
     },
     "execution_count": 6,
     "metadata": {},
     "output_type": "execute_result"
    }
   ],
   "source": [
    "az.summary(trace_pe_vmpfc, var_names=['mu_coup','b_coup','b_amg','mu_a'])"
   ]
  },
  {
   "cell_type": "code",
   "execution_count": 29,
   "id": "df927cc3-631e-430c-80ec-aab66e53668c",
   "metadata": {},
   "outputs": [
    {
     "data": {
      "text/plain": [
       "array([<AxesSubplot:title={'center':'mu_coup'}>,\n",
       "       <AxesSubplot:title={'center':'b_amg'}>], dtype=object)"
      ]
     },
     "execution_count": 29,
     "metadata": {},
     "output_type": "execute_result"
    },
    {
     "data": {
      "image/png": "[encoded data removed]",
      "text/plain": [
       "<Figure size 993.6x331.2 with 2 Axes>"
      ]
     },
     "metadata": {},
     "output_type": "display_data"
    }
   ],
   "source": [
    "sns.set_style(\"ticks\")\n",
    "az.plot_posterior(trace_pe_vmpfc, var_names=['mu_coup','b_amg'], kind='hist',\n",
    "                 ref_val=0)"
   ]
  },
  {
   "cell_type": "markdown",
   "id": "0ea330b9-52ec-4c3c-b5d5-847d4a7576f9",
   "metadata": {},
   "source": [
    "## Amygdala and Anterior Hippocampus"
   ]
  },
  {
   "cell_type": "code",
   "execution_count": 7,
   "id": "65f12f97-057a-4ac3-bae6-4d8d0afd2f33",
   "metadata": {},
   "outputs": [
    {
     "name": "stderr",
     "output_type": "stream",
     "text": [
      "Auto-assigning NUTS sampler...\n",
      "Initializing NUTS using jitter+adapt_diag...\n",
      "Multiprocess sampling (4 chains in 10 jobs)\n",
      "NUTS: [eps, b_amg, b_trials, b_matt, sigma_b, mu_b, a_matt, sigma_a, mu_a]\n"
     ]
    },
    {
     "data": {
      "text/html": [
       "\n",
       "    <div>\n",
       "        <style>\n",
       "            /* Turns off some styling */\n",
       "            progress {\n",
       "                /* gets rid of default border in Firefox and Opera. */\n",
       "                border: none;\n",
       "                /* Needs to be in here for Safari polyfill so background images work as expected. */\n",
       "                background-size: auto;\n",
       "            }\n",
       "            .progress-bar-interrupted, .progress-bar-interrupted::-webkit-progress-bar {\n",
       "                background: #F44336;\n",
       "            }\n",
       "        </style>\n",
       "      <progress value='16000' class='' max='16000' style='width:300px; height:20px; vertical-align: middle;'></progress>\n",
       "      100.00% [16000/16000 09:02<00:00 Sampling 4 chains, 0 divergences]\n",
       "    </div>\n",
       "    "
      ],
      "text/plain": [
       "<IPython.core.display.HTML object>"
      ]
     },
     "metadata": {},
     "output_type": "display_data"
    },
    {
     "name": "stderr",
     "output_type": "stream",
     "text": [
      "Sampling 4 chains for 2_000 tune and 2_000 draw iterations (8_000 + 8_000 draws total) took 544 seconds.\n",
      "The number of effective samples is smaller than 25% for some parameters.\n"
     ]
    }
   ],
   "source": [
    "with pm.Model() as model1_antHipp:\n",
    "    \n",
    "    \n",
    "    mu_a = pm.Normal('mu_a', mu=0, sigma=.5)\n",
    "    sigma_a = pm.HalfCauchy('sigma_a', .5)\n",
    "    a_matt = pm.Normal('a_matt', mu=0, sd=1, shape=n_sub)\n",
    "    a = pm.Deterministic('a', mu_a + sigma_a*a_matt)\n",
    "    \n",
    "    mu_b = pm.Normal('mu_b', mu=0, sigma=.5)\n",
    "    sigma_b = pm.HalfCauchy('sigma_b', .5)\n",
    "    b_matt = pm.Normal('b_matt', mu=0, sigma=1, shape=n_cond)\n",
    "    b_cond = pm.Deterministic('b_cond', mu_b + sigma_b*b_matt)\n",
    "    \n",
    "    # add trials and amygdala activation\n",
    "    b_trials = pm.Normal('b_trials', mu=0, sigma=.5)\n",
    "    b_amg = pm.Normal('b_amg', mu=0, sigma=.5)\n",
    "   \n",
    "   \n",
    "  \n",
    "    eps = pm.HalfCauchy('eps', .5)\n",
    "    \n",
    "    # make mu a determenistic distribution so we can test later vs. actual data\n",
    "    \n",
    "    mu = pm.Deterministic('mu',a[subIDX] + b_cond[condIDX] + b_trials*trials + b_amg*df.amg)\n",
    "    \n",
    "    y_hat = pm.Normal('y_hat', mu=mu, sigma=eps, observed=df['amg_HippAnt'])\n",
    "    \n",
    "    trace1_antHipp = pm.sample(target_accept=.95, chains=4, cores=10, return_inferencedata=True, draws=2000, tune=2000)    "
   ]
  },
  {
   "cell_type": "code",
   "execution_count": 9,
   "id": "f20468b7-3793-4945-ac14-84ba3e268a9b",
   "metadata": {},
   "outputs": [],
   "source": [
    "trStackedantHip = trace1_antHipp.posterior.stack(draws=('chain','draw'))\n",
    "csminus1 = trStackedantHip.b_cond[0,:].values\n",
    "csplus1 = trStackedantHip.b_cond[1,:].values\n",
    "csPlusUS1 = trStackedantHip.b_cond[2,:].values\n",
    "csminus2 = trStackedantHip.b_cond[4,:].values\n",
    "csplus2 = trStackedantHip.b_cond[3,:].values\n",
    "csPlusUS2 = trStackedantHip.b_cond[5,:].values\n",
    "csUSboth = np.mean(np.stack([csPlusUS1, csPlusUS2]), axis=0) # averaging across USs\n",
    "csall = np.mean(np.stack([csminus1,csminus2, csplus1, csplus2]), axis=0) # averaging across CSs\n",
    "usVcs = csUSboth - csall\n"
   ]
  },
  {
   "cell_type": "code",
   "execution_count": 10,
   "id": "69834faa-17af-414e-a58f-d1c05f8a0687",
   "metadata": {},
   "outputs": [
    {
     "data": {
      "text/plain": [
       "Text(0.5, 1.0, 'CSPlusUS-CS in anterior Hippocampus')"
      ]
     },
     "execution_count": 10,
     "metadata": {},
     "output_type": "execute_result"
    },
    {
     "data": {
      "text/plain": [
       "<Figure size 1296x216 with 0 Axes>"
      ]
     },
     "metadata": {},
     "output_type": "display_data"
    },
    {
     "data": {
      "image/png": "[encoded data removed]",
      "text/plain": [
       "<Figure size 432x288 with 1 Axes>"
      ]
     },
     "metadata": {},
     "output_type": "display_data"
    }
   ],
   "source": [
    "sns.set_style('ticks')\n",
    "fig = plt.figure(figsize=(18,3))\n",
    "az.plot_posterior(usVcs, point_estimate='mean', kind='hist', ref_val=0).set_title(\"CSPlusUS-CS in anterior Hippocampus\")\n"
   ]
  },
  {
   "cell_type": "code",
   "execution_count": 11,
   "id": "8af2051d-3fce-436c-961e-647f0aa71ec3",
   "metadata": {},
   "outputs": [
    {
     "name": "stderr",
     "output_type": "stream",
     "text": [
      "arviz - WARNING - Shape validation failed: input_shape: (1, 8000), minimum_shape: (chains=2, draws=4)\n"
     ]
    },
    {
     "name": "stdout",
     "output_type": "stream",
     "text": [
      "Standardized coeficient 2.7758577170553806\n"
     ]
    },
    {
     "data": {
      "text/html": [
       "<div>\n",
       "<style scoped>\n",
       "    .dataframe tbody tr th:only-of-type {\n",
       "        vertical-align: middle;\n",
       "    }\n",
       "\n",
       "    .dataframe tbody tr th {\n",
       "        vertical-align: top;\n",
       "    }\n",
       "\n",
       "    .dataframe thead th {\n",
       "        text-align: right;\n",
       "    }\n",
       "</style>\n",
       "<table border=\"1\" class=\"dataframe\">\n",
       "  <thead>\n",
       "    <tr style=\"text-align: right;\">\n",
       "      <th></th>\n",
       "      <th>mean</th>\n",
       "      <th>sd</th>\n",
       "      <th>hdi_3%</th>\n",
       "      <th>hdi_97%</th>\n",
       "      <th>mcse_mean</th>\n",
       "      <th>mcse_sd</th>\n",
       "      <th>ess_bulk</th>\n",
       "      <th>ess_tail</th>\n",
       "      <th>r_hat</th>\n",
       "    </tr>\n",
       "  </thead>\n",
       "  <tbody>\n",
       "    <tr>\n",
       "      <th>x</th>\n",
       "      <td>0.043</td>\n",
       "      <td>0.016</td>\n",
       "      <td>0.015</td>\n",
       "      <td>0.073</td>\n",
       "      <td>0.0</td>\n",
       "      <td>0.0</td>\n",
       "      <td>4754.0</td>\n",
       "      <td>3233.0</td>\n",
       "      <td>NaN</td>\n",
       "    </tr>\n",
       "  </tbody>\n",
       "</table>\n",
       "</div>"
      ],
      "text/plain": [
       "    mean     sd  hdi_3%  hdi_97%  mcse_mean  mcse_sd  ess_bulk  ess_tail  \\\n",
       "x  0.043  0.016   0.015    0.073        0.0      0.0    4754.0    3233.0   \n",
       "\n",
       "   r_hat  \n",
       "x    NaN  "
      ]
     },
     "execution_count": 11,
     "metadata": {},
     "output_type": "execute_result"
    }
   ],
   "source": [
    "print(f'Standardized coeficient {np.mean(usVcs) / np.std(usVcs)}')\n",
    "az.summary(usVcs)"
   ]
  },
  {
   "cell_type": "code",
   "execution_count": 1,
   "id": "8b55e7b2-5613-432d-9b99-98b941382441",
   "metadata": {},
   "outputs": [
    {
     "ename": "NameError",
     "evalue": "name 'sns' is not defined",
     "output_type": "error",
     "traceback": [
      "\u001b[0;31m---------------------------------------------------------------------------\u001b[0m",
      "\u001b[0;31mNameError\u001b[0m                                 Traceback (most recent call last)",
      "Input \u001b[0;32mIn [1]\u001b[0m, in \u001b[0;36m<module>\u001b[0;34m\u001b[0m\n\u001b[1;32m      1\u001b[0m \u001b[38;5;66;03m# visualization\u001b[39;00m\n\u001b[0;32m----> 2\u001b[0m \u001b[43msns\u001b[49m\u001b[38;5;241m.\u001b[39mset(font_scale \u001b[38;5;241m=\u001b[39m \u001b[38;5;241m1.15\u001b[39m)\n\u001b[1;32m      3\u001b[0m sns\u001b[38;5;241m.\u001b[39mset_style(\u001b[38;5;124m\"\u001b[39m\u001b[38;5;124mwhite\u001b[39m\u001b[38;5;124m\"\u001b[39m)\n\u001b[1;32m      4\u001b[0m g \u001b[38;5;241m=\u001b[39m sns\u001b[38;5;241m.\u001b[39mcatplot(y\u001b[38;5;241m=\u001b[39m\u001b[38;5;124m'\u001b[39m\u001b[38;5;124mcoupling\u001b[39m\u001b[38;5;124m'\u001b[39m,x\u001b[38;5;241m=\u001b[39m\u001b[38;5;124m'\u001b[39m\u001b[38;5;124mcondition\u001b[39m\u001b[38;5;124m'\u001b[39m, data\u001b[38;5;241m=\u001b[39mdf, kind\u001b[38;5;241m=\u001b[39m\u001b[38;5;124m'\u001b[39m\u001b[38;5;124mbar\u001b[39m\u001b[38;5;124m'\u001b[39m, ci\u001b[38;5;241m=\u001b[39m\u001b[38;5;241m68\u001b[39m)\n",
      "\u001b[0;31mNameError\u001b[0m: name 'sns' is not defined"
     ]
    }
   ],
   "source": [
    "# visualization\n",
    "sns.set(font_scale = 1.15)\n",
    "sns.set_style(\"white\")\n",
    "g = sns.catplot(y='coupling',x='condition', data=df, kind='bar', ci=68)\n",
    "g.set_xlabels(\"\")\n",
    "g.set_xticklabels(\n",
    "    labels=[\"CS+US\", \"CS-\", \"CS+\", \"CS+US\", \"CS-\", \"CS+\"], rotation=30)\n",
    "g.set_ylabels(\"Amygdala Anterior Hippocampus Coupling\")\n",
    "#g.savefig('coupling_different_Conditions.png', dpi=300, bbox_inches='tight')"
   ]
  },
  {
   "cell_type": "markdown",
   "id": "adcffaa9-efdf-4a1a-97a3-45d477b2b949",
   "metadata": {},
   "source": [
    "## SCR"
   ]
  },
  {
   "cell_type": "code",
   "execution_count": 14,
   "id": "f451085f-7775-4e26-b389-95be74b740bf",
   "metadata": {},
   "outputs": [
    {
     "name": "stderr",
     "output_type": "stream",
     "text": [
      "Auto-assigning NUTS sampler...\n",
      "Initializing NUTS using jitter+adapt_diag...\n",
      "Multiprocess sampling (4 chains in 10 jobs)\n",
      "NUTS: [eps, b_coup, b_amg, b_trials, b_matt, sigma_b, mu_b, a_matt, sigma_a, mu_a]\n"
     ]
    },
    {
     "data": {
      "text/html": [
       "\n",
       "    <div>\n",
       "        <style>\n",
       "            /* Turns off some styling */\n",
       "            progress {\n",
       "                /* gets rid of default border in Firefox and Opera. */\n",
       "                border: none;\n",
       "                /* Needs to be in here for Safari polyfill so background images work as expected. */\n",
       "                background-size: auto;\n",
       "            }\n",
       "            .progress-bar-interrupted, .progress-bar-interrupted::-webkit-progress-bar {\n",
       "                background: #F44336;\n",
       "            }\n",
       "        </style>\n",
       "      <progress value='16000' class='' max='16000' style='width:300px; height:20px; vertical-align: middle;'></progress>\n",
       "      100.00% [16000/16000 08:18<00:00 Sampling 4 chains, 0 divergences]\n",
       "    </div>\n",
       "    "
      ],
      "text/plain": [
       "<IPython.core.display.HTML object>"
      ]
     },
     "metadata": {},
     "output_type": "display_data"
    },
    {
     "name": "stderr",
     "output_type": "stream",
     "text": [
      "Sampling 4 chains for 2_000 tune and 2_000 draw iterations (8_000 + 8_000 draws total) took 499 seconds.\n",
      "The number of effective samples is smaller than 10% for some parameters.\n"
     ]
    }
   ],
   "source": [
    "with pm.Model() as scr_antHipp:\n",
    "    \n",
    "    \n",
    "    mu_a = pm.Normal('mu_a', mu=0, sigma=.5)\n",
    "    sigma_a = pm.HalfCauchy('sigma_a', .5)\n",
    "    a_matt = pm.Normal('a_matt', mu=0, sd=1, shape=n_sub)\n",
    "    a = pm.Deterministic('a', mu_a + sigma_a*a_matt)\n",
    "        \n",
    "    mu_b = pm.Normal('mu_b', mu=0, sigma=.5)\n",
    "    sigma_b = pm.HalfCauchy('sigma_b', .5)\n",
    "    b_matt = pm.Normal('b_matt', mu=0, sigma=1, shape=n_cond)\n",
    "    b_cond = pm.Deterministic('b_cond', mu_b + sigma_b*b_matt)\n",
    "    \n",
    "    # add trials and amygdala activation\n",
    "    b_trials = pm.Normal('b_trials', mu=0, sigma=.5)\n",
    "    b_amg = pm.Normal('b_amg', mu=0, sigma=.5)\n",
    "    \n",
    "    # add coupling\n",
    "    b_coup = pm.Normal('b_coup', mu=0, sigma=.5)\n",
    "    \n",
    "    eps = pm.HalfCauchy('eps', .5)\n",
    "    \n",
    "       \n",
    "    mu = a[subIDX] + b_cond[condIDX] + b_trials*trials + b_amg*df.amg + b_coup*df.amg_HippAnt\n",
    "    \n",
    "    y_hat = pm.Normal('y_hat', mu=mu, sigma=eps, observed=df.scr)\n",
    "   \n",
    "    trace1_scr_antHipp = pm.sample(target_accept=.98, chains=4, cores=10, return_inferencedata=True, draws=2000, tune=2000, random_seed=145)  "
   ]
  },
  {
   "cell_type": "code",
   "execution_count": 15,
   "id": "cd2cf7e5-3a3d-4e37-a50d-c99a04a0325b",
   "metadata": {},
   "outputs": [
    {
     "data": {
      "text/html": [
       "<div>\n",
       "<style scoped>\n",
       "    .dataframe tbody tr th:only-of-type {\n",
       "        vertical-align: middle;\n",
       "    }\n",
       "\n",
       "    .dataframe tbody tr th {\n",
       "        vertical-align: top;\n",
       "    }\n",
       "\n",
       "    .dataframe thead th {\n",
       "        text-align: right;\n",
       "    }\n",
       "</style>\n",
       "<table border=\"1\" class=\"dataframe\">\n",
       "  <thead>\n",
       "    <tr style=\"text-align: right;\">\n",
       "      <th></th>\n",
       "      <th>mean</th>\n",
       "      <th>sd</th>\n",
       "      <th>hdi_3%</th>\n",
       "      <th>hdi_97%</th>\n",
       "      <th>mcse_mean</th>\n",
       "      <th>mcse_sd</th>\n",
       "      <th>ess_bulk</th>\n",
       "      <th>ess_tail</th>\n",
       "      <th>r_hat</th>\n",
       "    </tr>\n",
       "  </thead>\n",
       "  <tbody>\n",
       "    <tr>\n",
       "      <th>b_coup</th>\n",
       "      <td>0.031</td>\n",
       "      <td>0.024</td>\n",
       "      <td>-0.013</td>\n",
       "      <td>0.078</td>\n",
       "      <td>0.000</td>\n",
       "      <td>0.000</td>\n",
       "      <td>6806.0</td>\n",
       "      <td>6050.0</td>\n",
       "      <td>1.0</td>\n",
       "    </tr>\n",
       "    <tr>\n",
       "      <th>b_cond[0]</th>\n",
       "      <td>0.055</td>\n",
       "      <td>0.362</td>\n",
       "      <td>-0.646</td>\n",
       "      <td>0.706</td>\n",
       "      <td>0.007</td>\n",
       "      <td>0.005</td>\n",
       "      <td>2969.0</td>\n",
       "      <td>4257.0</td>\n",
       "      <td>1.0</td>\n",
       "    </tr>\n",
       "    <tr>\n",
       "      <th>b_cond[1]</th>\n",
       "      <td>0.282</td>\n",
       "      <td>0.362</td>\n",
       "      <td>-0.397</td>\n",
       "      <td>0.959</td>\n",
       "      <td>0.007</td>\n",
       "      <td>0.005</td>\n",
       "      <td>2951.0</td>\n",
       "      <td>4198.0</td>\n",
       "      <td>1.0</td>\n",
       "    </tr>\n",
       "    <tr>\n",
       "      <th>b_cond[2]</th>\n",
       "      <td>0.710</td>\n",
       "      <td>0.362</td>\n",
       "      <td>0.017</td>\n",
       "      <td>1.376</td>\n",
       "      <td>0.007</td>\n",
       "      <td>0.005</td>\n",
       "      <td>2973.0</td>\n",
       "      <td>4222.0</td>\n",
       "      <td>1.0</td>\n",
       "    </tr>\n",
       "    <tr>\n",
       "      <th>b_cond[3]</th>\n",
       "      <td>0.262</td>\n",
       "      <td>0.363</td>\n",
       "      <td>-0.436</td>\n",
       "      <td>0.931</td>\n",
       "      <td>0.007</td>\n",
       "      <td>0.005</td>\n",
       "      <td>2994.0</td>\n",
       "      <td>4341.0</td>\n",
       "      <td>1.0</td>\n",
       "    </tr>\n",
       "    <tr>\n",
       "      <th>b_cond[4]</th>\n",
       "      <td>0.357</td>\n",
       "      <td>0.363</td>\n",
       "      <td>-0.333</td>\n",
       "      <td>1.028</td>\n",
       "      <td>0.007</td>\n",
       "      <td>0.005</td>\n",
       "      <td>2992.0</td>\n",
       "      <td>4405.0</td>\n",
       "      <td>1.0</td>\n",
       "    </tr>\n",
       "    <tr>\n",
       "      <th>b_cond[5]</th>\n",
       "      <td>0.568</td>\n",
       "      <td>0.363</td>\n",
       "      <td>-0.105</td>\n",
       "      <td>1.262</td>\n",
       "      <td>0.007</td>\n",
       "      <td>0.005</td>\n",
       "      <td>2984.0</td>\n",
       "      <td>4232.0</td>\n",
       "      <td>1.0</td>\n",
       "    </tr>\n",
       "    <tr>\n",
       "      <th>b_matt[0]</th>\n",
       "      <td>-1.159</td>\n",
       "      <td>0.592</td>\n",
       "      <td>-2.310</td>\n",
       "      <td>-0.104</td>\n",
       "      <td>0.015</td>\n",
       "      <td>0.011</td>\n",
       "      <td>1531.0</td>\n",
       "      <td>2854.0</td>\n",
       "      <td>1.0</td>\n",
       "    </tr>\n",
       "    <tr>\n",
       "      <th>b_matt[1]</th>\n",
       "      <td>-0.290</td>\n",
       "      <td>0.440</td>\n",
       "      <td>-1.134</td>\n",
       "      <td>0.529</td>\n",
       "      <td>0.011</td>\n",
       "      <td>0.008</td>\n",
       "      <td>1475.0</td>\n",
       "      <td>2942.0</td>\n",
       "      <td>1.0</td>\n",
       "    </tr>\n",
       "    <tr>\n",
       "      <th>b_matt[2]</th>\n",
       "      <td>1.346</td>\n",
       "      <td>0.582</td>\n",
       "      <td>0.267</td>\n",
       "      <td>2.420</td>\n",
       "      <td>0.015</td>\n",
       "      <td>0.011</td>\n",
       "      <td>1545.0</td>\n",
       "      <td>2957.0</td>\n",
       "      <td>1.0</td>\n",
       "    </tr>\n",
       "    <tr>\n",
       "      <th>b_matt[3]</th>\n",
       "      <td>-0.366</td>\n",
       "      <td>0.450</td>\n",
       "      <td>-1.230</td>\n",
       "      <td>0.459</td>\n",
       "      <td>0.012</td>\n",
       "      <td>0.008</td>\n",
       "      <td>1514.0</td>\n",
       "      <td>2901.0</td>\n",
       "      <td>1.0</td>\n",
       "    </tr>\n",
       "    <tr>\n",
       "      <th>b_matt[4]</th>\n",
       "      <td>-0.003</td>\n",
       "      <td>0.423</td>\n",
       "      <td>-0.769</td>\n",
       "      <td>0.815</td>\n",
       "      <td>0.011</td>\n",
       "      <td>0.008</td>\n",
       "      <td>1499.0</td>\n",
       "      <td>2708.0</td>\n",
       "      <td>1.0</td>\n",
       "    </tr>\n",
       "    <tr>\n",
       "      <th>b_matt[5]</th>\n",
       "      <td>0.804</td>\n",
       "      <td>0.478</td>\n",
       "      <td>-0.095</td>\n",
       "      <td>1.681</td>\n",
       "      <td>0.012</td>\n",
       "      <td>0.009</td>\n",
       "      <td>1499.0</td>\n",
       "      <td>2656.0</td>\n",
       "      <td>1.0</td>\n",
       "    </tr>\n",
       "  </tbody>\n",
       "</table>\n",
       "</div>"
      ],
      "text/plain": [
       "            mean     sd  hdi_3%  hdi_97%  mcse_mean  mcse_sd  ess_bulk  \\\n",
       "b_coup     0.031  0.024  -0.013    0.078      0.000    0.000    6806.0   \n",
       "b_cond[0]  0.055  0.362  -0.646    0.706      0.007    0.005    2969.0   \n",
       "b_cond[1]  0.282  0.362  -0.397    0.959      0.007    0.005    2951.0   \n",
       "b_cond[2]  0.710  0.362   0.017    1.376      0.007    0.005    2973.0   \n",
       "b_cond[3]  0.262  0.363  -0.436    0.931      0.007    0.005    2994.0   \n",
       "b_cond[4]  0.357  0.363  -0.333    1.028      0.007    0.005    2992.0   \n",
       "b_cond[5]  0.568  0.363  -0.105    1.262      0.007    0.005    2984.0   \n",
       "b_matt[0] -1.159  0.592  -2.310   -0.104      0.015    0.011    1531.0   \n",
       "b_matt[1] -0.290  0.440  -1.134    0.529      0.011    0.008    1475.0   \n",
       "b_matt[2]  1.346  0.582   0.267    2.420      0.015    0.011    1545.0   \n",
       "b_matt[3] -0.366  0.450  -1.230    0.459      0.012    0.008    1514.0   \n",
       "b_matt[4] -0.003  0.423  -0.769    0.815      0.011    0.008    1499.0   \n",
       "b_matt[5]  0.804  0.478  -0.095    1.681      0.012    0.009    1499.0   \n",
       "\n",
       "           ess_tail  r_hat  \n",
       "b_coup       6050.0    1.0  \n",
       "b_cond[0]    4257.0    1.0  \n",
       "b_cond[1]    4198.0    1.0  \n",
       "b_cond[2]    4222.0    1.0  \n",
       "b_cond[3]    4341.0    1.0  \n",
       "b_cond[4]    4405.0    1.0  \n",
       "b_cond[5]    4232.0    1.0  \n",
       "b_matt[0]    2854.0    1.0  \n",
       "b_matt[1]    2942.0    1.0  \n",
       "b_matt[2]    2957.0    1.0  \n",
       "b_matt[3]    2901.0    1.0  \n",
       "b_matt[4]    2708.0    1.0  \n",
       "b_matt[5]    2656.0    1.0  "
      ]
     },
     "execution_count": 15,
     "metadata": {},
     "output_type": "execute_result"
    }
   ],
   "source": [
    "az.summary(trace1_scr_antHipp, var_names=['b_coup','b_cond','b_matt'])"
   ]
  },
  {
   "cell_type": "code",
   "execution_count": 20,
   "id": "5b8e3f91-f880-487e-b9a8-502411e7c044",
   "metadata": {},
   "outputs": [
    {
     "data": {
      "text/plain": [
       "1.2916666666666667"
      ]
     },
     "execution_count": 20,
     "metadata": {},
     "output_type": "execute_result"
    }
   ],
   "source": [
    "0.031/0.024"
   ]
  },
  {
   "cell_type": "code",
   "execution_count": 16,
   "id": "53a8bf51-9306-4a4f-a69a-0260d320d029",
   "metadata": {},
   "outputs": [
    {
     "data": {
      "text/plain": [
       "<AxesSubplot:title={'center':'b_coup'}>"
      ]
     },
     "execution_count": 16,
     "metadata": {},
     "output_type": "execute_result"
    },
    {
     "data": {
      "image/png": "[encoded data removed]",
      "text/plain": [
       "<Figure size 432x288 with 1 Axes>"
      ]
     },
     "metadata": {},
     "output_type": "display_data"
    }
   ],
   "source": [
    "az.plot_posterior(trace1_scr_antHipp,var_names=['b_coup'], kind='hist', ref_val=0, point_estimate='mean')"
   ]
  },
  {
   "cell_type": "markdown",
   "id": "0e513c4f-39a3-4edb-b1c1-a70123dab1d2",
   "metadata": {},
   "source": [
    "## prediction error"
   ]
  },
  {
   "cell_type": "code",
   "execution_count": 17,
   "id": "e4caad32-8e4d-4fe3-bab7-c456668814f4",
   "metadata": {},
   "outputs": [
    {
     "name": "stderr",
     "output_type": "stream",
     "text": [
      "Auto-assigning NUTS sampler...\n",
      "Initializing NUTS using jitter+adapt_diag...\n",
      "Multiprocess sampling (4 chains in 10 jobs)\n",
      "NUTS: [eps, coup_matt, sigma_coup, mu_coup, b_amg, b_trials, a_matt, sigma_a, mu_a, intercept]\n"
     ]
    },
    {
     "data": {
      "text/html": [
       "\n",
       "    <div>\n",
       "        <style>\n",
       "            /* Turns off some styling */\n",
       "            progress {\n",
       "                /* gets rid of default border in Firefox and Opera. */\n",
       "                border: none;\n",
       "                /* Needs to be in here for Safari polyfill so background images work as expected. */\n",
       "                background-size: auto;\n",
       "            }\n",
       "            .progress-bar-interrupted, .progress-bar-interrupted::-webkit-progress-bar {\n",
       "                background: #F44336;\n",
       "            }\n",
       "        </style>\n",
       "      <progress value='16000' class='' max='16000' style='width:300px; height:20px; vertical-align: middle;'></progress>\n",
       "      100.00% [16000/16000 14:27<00:00 Sampling 4 chains, 0 divergences]\n",
       "    </div>\n",
       "    "
      ],
      "text/plain": [
       "<IPython.core.display.HTML object>"
      ]
     },
     "metadata": {},
     "output_type": "display_data"
    },
    {
     "name": "stderr",
     "output_type": "stream",
     "text": [
      "Sampling 4 chains for 2_000 tune and 2_000 draw iterations (8_000 + 8_000 draws total) took 868 seconds.\n",
      "The number of effective samples is smaller than 25% for some parameters.\n"
     ]
    }
   ],
   "source": [
    "with pm.Model() as model_pe_antHipp:\n",
    "    \n",
    "    # adding intercept\n",
    "    intercept = pm.Normal('intercept', mu=0, sigma=1)\n",
    "    \n",
    "    mu_a = pm.Normal('mu_a', mu=0, sigma=.5)\n",
    "    sigma_a = pm.HalfCauchy('sigma_a', .5)\n",
    "    a_matt = pm.Normal('a_matt', mu=0, sd=1, shape=n_sub)\n",
    "    a = pm.Deterministic('a', mu_a + sigma_a*a_matt)\n",
    "        \n",
    "    \n",
    "    # add trials and amygdala activation\n",
    "    b_trials = pm.Normal('b_trials', mu=0, sigma=.5)\n",
    "    b_amg = pm.Normal('b_amg', mu=0, sigma=.5)\n",
    "    \n",
    "    # add coupling\n",
    "    #b_coup = pm.Normal('b_coup', mu=0, sigma=.5)\n",
    "    mu_coup = pm.Normal('mu_coup', mu=0, sigma=.5)\n",
    "    sigma_coup = pm.HalfCauchy('sigma_coup', .5)\n",
    "    coup_matt = pm.Normal('coup_matt', mu=0, sd=1, shape=n_sub)\n",
    "    b_coup = pm.Deterministic('b_coup', mu_coup + sigma_coup*coup_matt)\n",
    "    \n",
    "  \n",
    "    eps = pm.HalfCauchy('eps', .5)\n",
    "    \n",
    "    # make mu a determenistic distribution so we can test later vs. actual data\n",
    "    \n",
    "    mu = pm.Deterministic('mu',intercept + a[subIDX] + b_trials*trials + b_amg*df.amg + b_coup[subIDX]*df.amg_HippAnt)\n",
    "    \n",
    "    y_hat = pm.Normal('y_hat', mu=mu, sigma=eps, observed=df.pe)\n",
    "   \n",
    "    \n",
    "    trace_pe_antHipp = pm.sample(target_accept=.95, chains=4, cores=10, return_inferencedata=True, draws=2000, tune=2000)"
   ]
  },
  {
   "cell_type": "code",
   "execution_count": 18,
   "id": "b5c6f236-06a1-4fb1-b76e-149a508f1510",
   "metadata": {},
   "outputs": [
    {
     "data": {
      "text/html": [
       "<div>\n",
       "<style scoped>\n",
       "    .dataframe tbody tr th:only-of-type {\n",
       "        vertical-align: middle;\n",
       "    }\n",
       "\n",
       "    .dataframe tbody tr th {\n",
       "        vertical-align: top;\n",
       "    }\n",
       "\n",
       "    .dataframe thead th {\n",
       "        text-align: right;\n",
       "    }\n",
       "</style>\n",
       "<table border=\"1\" class=\"dataframe\">\n",
       "  <thead>\n",
       "    <tr style=\"text-align: right;\">\n",
       "      <th></th>\n",
       "      <th>mean</th>\n",
       "      <th>sd</th>\n",
       "      <th>hdi_3%</th>\n",
       "      <th>hdi_97%</th>\n",
       "      <th>mcse_mean</th>\n",
       "      <th>mcse_sd</th>\n",
       "      <th>ess_bulk</th>\n",
       "      <th>ess_tail</th>\n",
       "      <th>r_hat</th>\n",
       "    </tr>\n",
       "  </thead>\n",
       "  <tbody>\n",
       "    <tr>\n",
       "      <th>mu_coup</th>\n",
       "      <td>0.050</td>\n",
       "      <td>0.018</td>\n",
       "      <td>0.017</td>\n",
       "      <td>0.084</td>\n",
       "      <td>0.000</td>\n",
       "      <td>0.000</td>\n",
       "      <td>12097.0</td>\n",
       "      <td>6831.0</td>\n",
       "      <td>1.0</td>\n",
       "    </tr>\n",
       "    <tr>\n",
       "      <th>b_coup[0]</th>\n",
       "      <td>0.033</td>\n",
       "      <td>0.059</td>\n",
       "      <td>-0.080</td>\n",
       "      <td>0.144</td>\n",
       "      <td>0.000</td>\n",
       "      <td>0.001</td>\n",
       "      <td>15649.0</td>\n",
       "      <td>6192.0</td>\n",
       "      <td>1.0</td>\n",
       "    </tr>\n",
       "    <tr>\n",
       "      <th>b_coup[1]</th>\n",
       "      <td>0.048</td>\n",
       "      <td>0.060</td>\n",
       "      <td>-0.071</td>\n",
       "      <td>0.165</td>\n",
       "      <td>0.000</td>\n",
       "      <td>0.001</td>\n",
       "      <td>18495.0</td>\n",
       "      <td>5518.0</td>\n",
       "      <td>1.0</td>\n",
       "    </tr>\n",
       "    <tr>\n",
       "      <th>b_coup[2]</th>\n",
       "      <td>0.087</td>\n",
       "      <td>0.059</td>\n",
       "      <td>-0.022</td>\n",
       "      <td>0.201</td>\n",
       "      <td>0.001</td>\n",
       "      <td>0.000</td>\n",
       "      <td>11205.0</td>\n",
       "      <td>6423.0</td>\n",
       "      <td>1.0</td>\n",
       "    </tr>\n",
       "    <tr>\n",
       "      <th>b_coup[3]</th>\n",
       "      <td>0.062</td>\n",
       "      <td>0.060</td>\n",
       "      <td>-0.053</td>\n",
       "      <td>0.177</td>\n",
       "      <td>0.000</td>\n",
       "      <td>0.001</td>\n",
       "      <td>16897.0</td>\n",
       "      <td>6297.0</td>\n",
       "      <td>1.0</td>\n",
       "    </tr>\n",
       "    <tr>\n",
       "      <th>...</th>\n",
       "      <td>...</td>\n",
       "      <td>...</td>\n",
       "      <td>...</td>\n",
       "      <td>...</td>\n",
       "      <td>...</td>\n",
       "      <td>...</td>\n",
       "      <td>...</td>\n",
       "      <td>...</td>\n",
       "      <td>...</td>\n",
       "    </tr>\n",
       "    <tr>\n",
       "      <th>b_coup[62]</th>\n",
       "      <td>0.028</td>\n",
       "      <td>0.061</td>\n",
       "      <td>-0.094</td>\n",
       "      <td>0.142</td>\n",
       "      <td>0.000</td>\n",
       "      <td>0.001</td>\n",
       "      <td>15361.0</td>\n",
       "      <td>5978.0</td>\n",
       "      <td>1.0</td>\n",
       "    </tr>\n",
       "    <tr>\n",
       "      <th>b_coup[63]</th>\n",
       "      <td>0.114</td>\n",
       "      <td>0.066</td>\n",
       "      <td>0.005</td>\n",
       "      <td>0.245</td>\n",
       "      <td>0.001</td>\n",
       "      <td>0.001</td>\n",
       "      <td>6034.0</td>\n",
       "      <td>6105.0</td>\n",
       "      <td>1.0</td>\n",
       "    </tr>\n",
       "    <tr>\n",
       "      <th>b_coup[64]</th>\n",
       "      <td>-0.014</td>\n",
       "      <td>0.071</td>\n",
       "      <td>-0.153</td>\n",
       "      <td>0.112</td>\n",
       "      <td>0.001</td>\n",
       "      <td>0.001</td>\n",
       "      <td>7159.0</td>\n",
       "      <td>5786.0</td>\n",
       "      <td>1.0</td>\n",
       "    </tr>\n",
       "    <tr>\n",
       "      <th>b_amg</th>\n",
       "      <td>-0.004</td>\n",
       "      <td>0.014</td>\n",
       "      <td>-0.030</td>\n",
       "      <td>0.024</td>\n",
       "      <td>0.000</td>\n",
       "      <td>0.000</td>\n",
       "      <td>20569.0</td>\n",
       "      <td>5686.0</td>\n",
       "      <td>1.0</td>\n",
       "    </tr>\n",
       "    <tr>\n",
       "      <th>mu_a</th>\n",
       "      <td>-0.026</td>\n",
       "      <td>0.436</td>\n",
       "      <td>-0.823</td>\n",
       "      <td>0.821</td>\n",
       "      <td>0.004</td>\n",
       "      <td>0.005</td>\n",
       "      <td>11189.0</td>\n",
       "      <td>5994.0</td>\n",
       "      <td>1.0</td>\n",
       "    </tr>\n",
       "  </tbody>\n",
       "</table>\n",
       "<p>68 rows × 9 columns</p>\n",
       "</div>"
      ],
      "text/plain": [
       "             mean     sd  hdi_3%  hdi_97%  mcse_mean  mcse_sd  ess_bulk  \\\n",
       "mu_coup     0.050  0.018   0.017    0.084      0.000    0.000   12097.0   \n",
       "b_coup[0]   0.033  0.059  -0.080    0.144      0.000    0.001   15649.0   \n",
       "b_coup[1]   0.048  0.060  -0.071    0.165      0.000    0.001   18495.0   \n",
       "b_coup[2]   0.087  0.059  -0.022    0.201      0.001    0.000   11205.0   \n",
       "b_coup[3]   0.062  0.060  -0.053    0.177      0.000    0.001   16897.0   \n",
       "...           ...    ...     ...      ...        ...      ...       ...   \n",
       "b_coup[62]  0.028  0.061  -0.094    0.142      0.000    0.001   15361.0   \n",
       "b_coup[63]  0.114  0.066   0.005    0.245      0.001    0.001    6034.0   \n",
       "b_coup[64] -0.014  0.071  -0.153    0.112      0.001    0.001    7159.0   \n",
       "b_amg      -0.004  0.014  -0.030    0.024      0.000    0.000   20569.0   \n",
       "mu_a       -0.026  0.436  -0.823    0.821      0.004    0.005   11189.0   \n",
       "\n",
       "            ess_tail  r_hat  \n",
       "mu_coup       6831.0    1.0  \n",
       "b_coup[0]     6192.0    1.0  \n",
       "b_coup[1]     5518.0    1.0  \n",
       "b_coup[2]     6423.0    1.0  \n",
       "b_coup[3]     6297.0    1.0  \n",
       "...              ...    ...  \n",
       "b_coup[62]    5978.0    1.0  \n",
       "b_coup[63]    6105.0    1.0  \n",
       "b_coup[64]    5786.0    1.0  \n",
       "b_amg         5686.0    1.0  \n",
       "mu_a          5994.0    1.0  \n",
       "\n",
       "[68 rows x 9 columns]"
      ]
     },
     "execution_count": 18,
     "metadata": {},
     "output_type": "execute_result"
    }
   ],
   "source": [
    "az.summary(trace_pe_antHipp, var_names=['mu_coup','b_coup','b_amg','mu_a'])"
   ]
  },
  {
   "cell_type": "code",
   "execution_count": 21,
   "id": "e71d7ea1-2d4b-43f0-8e9f-79b696de8be2",
   "metadata": {},
   "outputs": [
    {
     "data": {
      "text/plain": [
       "2.777777777777778"
      ]
     },
     "execution_count": 21,
     "metadata": {},
     "output_type": "execute_result"
    }
   ],
   "source": [
    "0.05/0.018"
   ]
  },
  {
   "cell_type": "code",
   "execution_count": 19,
   "id": "0f2ced00-8dd4-4e16-a7b4-4f821d03d530",
   "metadata": {},
   "outputs": [
    {
     "data": {
      "text/plain": [
       "array([<AxesSubplot:title={'center':'mu_coup'}>,\n",
       "       <AxesSubplot:title={'center':'b_amg'}>], dtype=object)"
      ]
     },
     "execution_count": 19,
     "metadata": {},
     "output_type": "execute_result"
    },
    {
     "data": {
      "image/png": "[encoded data removed]",
      "text/plain": [
       "<Figure size 993.6x331.2 with 2 Axes>"
      ]
     },
     "metadata": {},
     "output_type": "display_data"
    }
   ],
   "source": [
    "sns.set_style(\"ticks\")\n",
    "az.plot_posterior(trace_pe_antHipp, var_names=['mu_coup','b_amg'], kind='hist',\n",
    "                 ref_val=0)"
   ]
  },
  {
   "cell_type": "markdown",
   "id": "70dfcea2-e25a-4ed9-88df-99789086a3dd",
   "metadata": {},
   "source": [
    "## Amygdala and Supramarginal Gyrus Left"
   ]
  },
  {
   "cell_type": "code",
   "execution_count": 8,
   "id": "d35b9058-e360-4d75-907e-8c86fed79a05",
   "metadata": {},
   "outputs": [],
   "source": [
    "from models import *"
   ]
  },
  {
   "cell_type": "code",
   "execution_count": 9,
   "id": "ae9c2bc9-a409-43cd-9220-28c9345e7e1e",
   "metadata": {},
   "outputs": [
    {
     "name": "stderr",
     "output_type": "stream",
     "text": [
      "\n",
      "KeyboardInterrupt\n",
      "\n"
     ]
    }
   ],
   "source": [
    "trace1_ctrl = conditionModel(n_sub, n_cond, subIDX, condIDX, trials, df, 'amg_ctrl')"
   ]
  },
  {
   "cell_type": "code",
   "execution_count": 33,
   "id": "ae985e5e-8ab6-41eb-81ca-a9b5b54144e9",
   "metadata": {},
   "outputs": [],
   "source": [
    "trStackedCtrl = trace1_ctrl.posterior.stack(draws=('chain','draw'))\n",
    "csminus1 = trStackedCtrl.b_cond[0,:].values\n",
    "csplus1 = trStackedCtrl.b_cond[1,:].values\n",
    "csPlusUS1 = trStackedCtrl.b_cond[2,:].values\n",
    "csminus2 = trStackedCtrl.b_cond[4,:].values\n",
    "csplus2 = trStackedCtrl.b_cond[3,:].values\n",
    "csPlusUS2 = trStackedCtrl.b_cond[5,:].values\n",
    "csUSboth = np.mean(np.stack([csPlusUS1, csPlusUS2]), axis=0) # averaging across USs\n",
    "csall = np.mean(np.stack([csminus1,csminus2, csplus1, csplus2]), axis=0) # averaging across CSs\n",
    "usVcs = csUSboth - csall\n"
   ]
  },
  {
   "cell_type": "code",
   "execution_count": 34,
   "id": "1911d30b-1735-41a6-9935-f832e7bb0b1c",
   "metadata": {},
   "outputs": [
    {
     "data": {
      "text/plain": [
       "Text(0.5, 1.0, 'CSPlusUS-CS in Supramarginal Gyrus')"
      ]
     },
     "execution_count": 34,
     "metadata": {},
     "output_type": "execute_result"
    },
    {
     "data": {
      "text/plain": [
       "<Figure size 1296x216 with 0 Axes>"
      ]
     },
     "metadata": {},
     "output_type": "display_data"
    },
    {
     "data": {
      "image/png": "[encoded data removed]",
      "text/plain": [
       "<Figure size 432x288 with 1 Axes>"
      ]
     },
     "metadata": {},
     "output_type": "display_data"
    }
   ],
   "source": [
    "sns.set_style('ticks')\n",
    "fig = plt.figure(figsize=(18,3))\n",
    "az.plot_posterior(usVcs, point_estimate='mean', kind='hist', ref_val=0).set_title(\"CSPlusUS-CS in Supramarginal Gyrus\")\n"
   ]
  },
  {
   "cell_type": "code",
   "execution_count": 35,
   "id": "080f7cbf-1637-49f6-a1f2-04e11e034099",
   "metadata": {},
   "outputs": [
    {
     "name": "stderr",
     "output_type": "stream",
     "text": [
      "arviz - WARNING - Shape validation failed: input_shape: (1, 8000), minimum_shape: (chains=2, draws=4)\n"
     ]
    },
    {
     "name": "stdout",
     "output_type": "stream",
     "text": [
      "Standardized coeficient 0.3585686525082373\n"
     ]
    },
    {
     "data": {
      "text/html": [
       "<div>\n",
       "<style scoped>\n",
       "    .dataframe tbody tr th:only-of-type {\n",
       "        vertical-align: middle;\n",
       "    }\n",
       "\n",
       "    .dataframe tbody tr th {\n",
       "        vertical-align: top;\n",
       "    }\n",
       "\n",
       "    .dataframe thead th {\n",
       "        text-align: right;\n",
       "    }\n",
       "</style>\n",
       "<table border=\"1\" class=\"dataframe\">\n",
       "  <thead>\n",
       "    <tr style=\"text-align: right;\">\n",
       "      <th></th>\n",
       "      <th>mean</th>\n",
       "      <th>sd</th>\n",
       "      <th>hdi_3%</th>\n",
       "      <th>hdi_97%</th>\n",
       "      <th>mcse_mean</th>\n",
       "      <th>mcse_sd</th>\n",
       "      <th>ess_bulk</th>\n",
       "      <th>ess_tail</th>\n",
       "      <th>r_hat</th>\n",
       "    </tr>\n",
       "  </thead>\n",
       "  <tbody>\n",
       "    <tr>\n",
       "      <th>x</th>\n",
       "      <td>0.004</td>\n",
       "      <td>0.01</td>\n",
       "      <td>-0.015</td>\n",
       "      <td>0.024</td>\n",
       "      <td>0.0</td>\n",
       "      <td>0.0</td>\n",
       "      <td>8159.0</td>\n",
       "      <td>7416.0</td>\n",
       "      <td>NaN</td>\n",
       "    </tr>\n",
       "  </tbody>\n",
       "</table>\n",
       "</div>"
      ],
      "text/plain": [
       "    mean    sd  hdi_3%  hdi_97%  mcse_mean  mcse_sd  ess_bulk  ess_tail  r_hat\n",
       "x  0.004  0.01  -0.015    0.024        0.0      0.0    8159.0    7416.0    NaN"
      ]
     },
     "execution_count": 35,
     "metadata": {},
     "output_type": "execute_result"
    }
   ],
   "source": [
    "print(f'Standardized coeficient {np.mean(usVcs) / np.std(usVcs)}')\n",
    "az.summary(usVcs)"
   ]
  },
  {
   "cell_type": "code",
   "execution_count": 36,
   "id": "bfc01cd5-b497-414c-a4c0-77ab057c9d47",
   "metadata": {},
   "outputs": [
    {
     "name": "stderr",
     "output_type": "stream",
     "text": [
      "Auto-assigning NUTS sampler...\n",
      "Initializing NUTS using jitter+adapt_diag...\n",
      "Multiprocess sampling (4 chains in 10 jobs)\n",
      "NUTS: [eps, b_coup, b_amg, b_trials, b_matt, sigma_b, mu_b, a_matt, sigma_a, mu_a]\n"
     ]
    },
    {
     "data": {
      "text/html": [
       "\n",
       "    <div>\n",
       "        <style>\n",
       "            /* Turns off some styling */\n",
       "            progress {\n",
       "                /* gets rid of default border in Firefox and Opera. */\n",
       "                border: none;\n",
       "                /* Needs to be in here for Safari polyfill so background images work as expected. */\n",
       "                background-size: auto;\n",
       "            }\n",
       "            .progress-bar-interrupted, .progress-bar-interrupted::-webkit-progress-bar {\n",
       "                background: #F44336;\n",
       "            }\n",
       "        </style>\n",
       "      <progress value='16000' class='' max='16000' style='width:300px; height:20px; vertical-align: middle;'></progress>\n",
       "      100.00% [16000/16000 06:37<00:00 Sampling 4 chains, 0 divergences]\n",
       "    </div>\n",
       "    "
      ],
      "text/plain": [
       "<IPython.core.display.HTML object>"
      ]
     },
     "metadata": {},
     "output_type": "display_data"
    },
    {
     "name": "stderr",
     "output_type": "stream",
     "text": [
      "Sampling 4 chains for 2_000 tune and 2_000 draw iterations (8_000 + 8_000 draws total) took 398 seconds.\n",
      "The number of effective samples is smaller than 10% for some parameters.\n"
     ]
    }
   ],
   "source": [
    "trace_scr_ctrl = scrModel(n_sub, n_cond, subIDX, condIDX, trials, df, 'scr', 'amg_ctrl')"
   ]
  },
  {
   "cell_type": "code",
   "execution_count": 37,
   "id": "3e08e9f9-a708-4b60-837e-fe9c52770291",
   "metadata": {},
   "outputs": [
    {
     "data": {
      "text/html": [
       "<div>\n",
       "<style scoped>\n",
       "    .dataframe tbody tr th:only-of-type {\n",
       "        vertical-align: middle;\n",
       "    }\n",
       "\n",
       "    .dataframe tbody tr th {\n",
       "        vertical-align: top;\n",
       "    }\n",
       "\n",
       "    .dataframe thead th {\n",
       "        text-align: right;\n",
       "    }\n",
       "</style>\n",
       "<table border=\"1\" class=\"dataframe\">\n",
       "  <thead>\n",
       "    <tr style=\"text-align: right;\">\n",
       "      <th></th>\n",
       "      <th>mean</th>\n",
       "      <th>sd</th>\n",
       "      <th>hdi_3%</th>\n",
       "      <th>hdi_97%</th>\n",
       "      <th>mcse_mean</th>\n",
       "      <th>mcse_sd</th>\n",
       "      <th>ess_bulk</th>\n",
       "      <th>ess_tail</th>\n",
       "      <th>r_hat</th>\n",
       "    </tr>\n",
       "  </thead>\n",
       "  <tbody>\n",
       "    <tr>\n",
       "      <th>b_coup</th>\n",
       "      <td>0.012</td>\n",
       "      <td>0.023</td>\n",
       "      <td>-0.032</td>\n",
       "      <td>0.055</td>\n",
       "      <td>0.000</td>\n",
       "      <td>0.000</td>\n",
       "      <td>8868.0</td>\n",
       "      <td>5520.0</td>\n",
       "      <td>1.0</td>\n",
       "    </tr>\n",
       "    <tr>\n",
       "      <th>b_cond[0]</th>\n",
       "      <td>0.065</td>\n",
       "      <td>0.356</td>\n",
       "      <td>-0.617</td>\n",
       "      <td>0.712</td>\n",
       "      <td>0.006</td>\n",
       "      <td>0.004</td>\n",
       "      <td>3961.0</td>\n",
       "      <td>4407.0</td>\n",
       "      <td>1.0</td>\n",
       "    </tr>\n",
       "    <tr>\n",
       "      <th>b_cond[1]</th>\n",
       "      <td>0.292</td>\n",
       "      <td>0.356</td>\n",
       "      <td>-0.385</td>\n",
       "      <td>0.943</td>\n",
       "      <td>0.006</td>\n",
       "      <td>0.004</td>\n",
       "      <td>3956.0</td>\n",
       "      <td>4368.0</td>\n",
       "      <td>1.0</td>\n",
       "    </tr>\n",
       "    <tr>\n",
       "      <th>b_cond[2]</th>\n",
       "      <td>0.721</td>\n",
       "      <td>0.357</td>\n",
       "      <td>0.060</td>\n",
       "      <td>1.392</td>\n",
       "      <td>0.006</td>\n",
       "      <td>0.004</td>\n",
       "      <td>3941.0</td>\n",
       "      <td>4530.0</td>\n",
       "      <td>1.0</td>\n",
       "    </tr>\n",
       "    <tr>\n",
       "      <th>b_cond[3]</th>\n",
       "      <td>0.274</td>\n",
       "      <td>0.358</td>\n",
       "      <td>-0.397</td>\n",
       "      <td>0.936</td>\n",
       "      <td>0.006</td>\n",
       "      <td>0.004</td>\n",
       "      <td>3962.0</td>\n",
       "      <td>4516.0</td>\n",
       "      <td>1.0</td>\n",
       "    </tr>\n",
       "    <tr>\n",
       "      <th>b_cond[4]</th>\n",
       "      <td>0.368</td>\n",
       "      <td>0.358</td>\n",
       "      <td>-0.307</td>\n",
       "      <td>1.026</td>\n",
       "      <td>0.006</td>\n",
       "      <td>0.004</td>\n",
       "      <td>3971.0</td>\n",
       "      <td>4419.0</td>\n",
       "      <td>1.0</td>\n",
       "    </tr>\n",
       "    <tr>\n",
       "      <th>b_cond[5]</th>\n",
       "      <td>0.581</td>\n",
       "      <td>0.358</td>\n",
       "      <td>-0.105</td>\n",
       "      <td>1.237</td>\n",
       "      <td>0.006</td>\n",
       "      <td>0.004</td>\n",
       "      <td>3932.0</td>\n",
       "      <td>4510.0</td>\n",
       "      <td>1.0</td>\n",
       "    </tr>\n",
       "  </tbody>\n",
       "</table>\n",
       "</div>"
      ],
      "text/plain": [
       "            mean     sd  hdi_3%  hdi_97%  mcse_mean  mcse_sd  ess_bulk  \\\n",
       "b_coup     0.012  0.023  -0.032    0.055      0.000    0.000    8868.0   \n",
       "b_cond[0]  0.065  0.356  -0.617    0.712      0.006    0.004    3961.0   \n",
       "b_cond[1]  0.292  0.356  -0.385    0.943      0.006    0.004    3956.0   \n",
       "b_cond[2]  0.721  0.357   0.060    1.392      0.006    0.004    3941.0   \n",
       "b_cond[3]  0.274  0.358  -0.397    0.936      0.006    0.004    3962.0   \n",
       "b_cond[4]  0.368  0.358  -0.307    1.026      0.006    0.004    3971.0   \n",
       "b_cond[5]  0.581  0.358  -0.105    1.237      0.006    0.004    3932.0   \n",
       "\n",
       "           ess_tail  r_hat  \n",
       "b_coup       5520.0    1.0  \n",
       "b_cond[0]    4407.0    1.0  \n",
       "b_cond[1]    4368.0    1.0  \n",
       "b_cond[2]    4530.0    1.0  \n",
       "b_cond[3]    4516.0    1.0  \n",
       "b_cond[4]    4419.0    1.0  \n",
       "b_cond[5]    4510.0    1.0  "
      ]
     },
     "execution_count": 37,
     "metadata": {},
     "output_type": "execute_result"
    }
   ],
   "source": [
    "az.summary(trace_scr_ctrl, var_names=['b_coup','b_cond'])"
   ]
  },
  {
   "cell_type": "code",
   "execution_count": 9,
   "id": "f86ae50b-14a2-453f-8185-024b106c55c1",
   "metadata": {},
   "outputs": [
    {
     "data": {
      "text/plain": [
       "0.5217391304347826"
      ]
     },
     "execution_count": 9,
     "metadata": {},
     "output_type": "execute_result"
    }
   ],
   "source": [
    "0.012/0.023"
   ]
  },
  {
   "cell_type": "code",
   "execution_count": 38,
   "id": "17bd61ed-7c0a-4ff5-8217-14cba5235e18",
   "metadata": {},
   "outputs": [
    {
     "data": {
      "text/plain": [
       "Text(0.5, 1.0, 'SCR and Functional Connectivity of Amygdala and Supramarginal Gyrus left')"
      ]
     },
     "execution_count": 38,
     "metadata": {},
     "output_type": "execute_result"
    },
    {
     "data": {
      "text/plain": [
       "<Figure size 1296x216 with 0 Axes>"
      ]
     },
     "metadata": {},
     "output_type": "display_data"
    },
    {
     "data": {
      "image/png": "[encoded data removed]",
      "text/plain": [
       "<Figure size 432x288 with 1 Axes>"
      ]
     },
     "metadata": {},
     "output_type": "display_data"
    }
   ],
   "source": [
    "sns.set_style('ticks')\n",
    "fig = plt.figure(figsize=(18,3))\n",
    "az.plot_posterior(trace_scr_ctrl, var_names='b_coup',\n",
    "                  point_estimate='mean', kind='hist', ref_val=0).set_title(\"SCR and Functional Connectivity of Amygdala and Supramarginal Gyrus left\")\n"
   ]
  },
  {
   "cell_type": "code",
   "execution_count": 10,
   "id": "9f01b6ba-cb3a-411d-a8b6-30fc26244da4",
   "metadata": {},
   "outputs": [
    {
     "name": "stderr",
     "output_type": "stream",
     "text": [
      "Auto-assigning NUTS sampler...\n",
      "Initializing NUTS using jitter+adapt_diag...\n",
      "Multiprocess sampling (4 chains in 10 jobs)\n",
      "NUTS: [eps, coup_matt, sigma_coup, mu_coup, b_amg, b_trials, a_matt, sigma_a, mu_a, intercept]\n"
     ]
    },
    {
     "data": {
      "text/html": [
       "\n",
       "<style>\n",
       "    /* Turns off some styling */\n",
       "    progress {\n",
       "        /* gets rid of default border in Firefox and Opera. */\n",
       "        border: none;\n",
       "        /* Needs to be in here for Safari polyfill so background images work as expected. */\n",
       "        background-size: auto;\n",
       "    }\n",
       "    .progress-bar-interrupted, .progress-bar-interrupted::-webkit-progress-bar {\n",
       "        background: #F44336;\n",
       "    }\n",
       "</style>\n"
      ],
      "text/plain": [
       "<IPython.core.display.HTML object>"
      ]
     },
     "metadata": {},
     "output_type": "display_data"
    },
    {
     "data": {
      "text/html": [
       "\n",
       "    <div>\n",
       "      <progress value='16000' class='' max='16000' style='width:300px; height:20px; vertical-align: middle;'></progress>\n",
       "      100.00% [16000/16000 13:59<00:00 Sampling 4 chains, 0 divergences]\n",
       "    </div>\n",
       "    "
      ],
      "text/plain": [
       "<IPython.core.display.HTML object>"
      ]
     },
     "metadata": {},
     "output_type": "display_data"
    },
    {
     "name": "stderr",
     "output_type": "stream",
     "text": [
      "Sampling 4 chains for 2_000 tune and 2_000 draw iterations (8_000 + 8_000 draws total) took 841 seconds.\n"
     ]
    }
   ],
   "source": [
    "trace_pe_ctrl = peModel(n_sub, n_cond, subIDX, condIDX, trials, df, 'amg_ctrl')"
   ]
  },
  {
   "cell_type": "code",
   "execution_count": 11,
   "id": "cf32abc3-ca9f-4c0b-9b94-b9dc11e3fa6d",
   "metadata": {},
   "outputs": [
    {
     "data": {
      "text/html": [
       "<div>\n",
       "<style scoped>\n",
       "    .dataframe tbody tr th:only-of-type {\n",
       "        vertical-align: middle;\n",
       "    }\n",
       "\n",
       "    .dataframe tbody tr th {\n",
       "        vertical-align: top;\n",
       "    }\n",
       "\n",
       "    .dataframe thead th {\n",
       "        text-align: right;\n",
       "    }\n",
       "</style>\n",
       "<table border=\"1\" class=\"dataframe\">\n",
       "  <thead>\n",
       "    <tr style=\"text-align: right;\">\n",
       "      <th></th>\n",
       "      <th>mean</th>\n",
       "      <th>sd</th>\n",
       "      <th>hdi_2.5%</th>\n",
       "      <th>hdi_97.5%</th>\n",
       "      <th>mcse_mean</th>\n",
       "      <th>mcse_sd</th>\n",
       "      <th>ess_bulk</th>\n",
       "      <th>ess_tail</th>\n",
       "      <th>r_hat</th>\n",
       "    </tr>\n",
       "  </thead>\n",
       "  <tbody>\n",
       "    <tr>\n",
       "      <th>mu_coup</th>\n",
       "      <td>0.000</td>\n",
       "      <td>0.015</td>\n",
       "      <td>-0.030</td>\n",
       "      <td>0.031</td>\n",
       "      <td>0.000</td>\n",
       "      <td>0.000</td>\n",
       "      <td>18390.0</td>\n",
       "      <td>5969.0</td>\n",
       "      <td>1.0</td>\n",
       "    </tr>\n",
       "    <tr>\n",
       "      <th>b_coup[0]</th>\n",
       "      <td>-0.009</td>\n",
       "      <td>0.035</td>\n",
       "      <td>-0.087</td>\n",
       "      <td>0.058</td>\n",
       "      <td>0.000</td>\n",
       "      <td>0.000</td>\n",
       "      <td>12258.0</td>\n",
       "      <td>5957.0</td>\n",
       "      <td>1.0</td>\n",
       "    </tr>\n",
       "    <tr>\n",
       "      <th>b_coup[1]</th>\n",
       "      <td>-0.002</td>\n",
       "      <td>0.034</td>\n",
       "      <td>-0.075</td>\n",
       "      <td>0.067</td>\n",
       "      <td>0.000</td>\n",
       "      <td>0.000</td>\n",
       "      <td>15132.0</td>\n",
       "      <td>5931.0</td>\n",
       "      <td>1.0</td>\n",
       "    </tr>\n",
       "    <tr>\n",
       "      <th>b_coup[2]</th>\n",
       "      <td>-0.003</td>\n",
       "      <td>0.033</td>\n",
       "      <td>-0.070</td>\n",
       "      <td>0.067</td>\n",
       "      <td>0.000</td>\n",
       "      <td>0.000</td>\n",
       "      <td>13991.0</td>\n",
       "      <td>6422.0</td>\n",
       "      <td>1.0</td>\n",
       "    </tr>\n",
       "    <tr>\n",
       "      <th>b_coup[3]</th>\n",
       "      <td>-0.011</td>\n",
       "      <td>0.036</td>\n",
       "      <td>-0.090</td>\n",
       "      <td>0.054</td>\n",
       "      <td>0.000</td>\n",
       "      <td>0.000</td>\n",
       "      <td>10819.0</td>\n",
       "      <td>5734.0</td>\n",
       "      <td>1.0</td>\n",
       "    </tr>\n",
       "    <tr>\n",
       "      <th>...</th>\n",
       "      <td>...</td>\n",
       "      <td>...</td>\n",
       "      <td>...</td>\n",
       "      <td>...</td>\n",
       "      <td>...</td>\n",
       "      <td>...</td>\n",
       "      <td>...</td>\n",
       "      <td>...</td>\n",
       "      <td>...</td>\n",
       "    </tr>\n",
       "    <tr>\n",
       "      <th>b_coup[62]</th>\n",
       "      <td>0.005</td>\n",
       "      <td>0.034</td>\n",
       "      <td>-0.060</td>\n",
       "      <td>0.080</td>\n",
       "      <td>0.000</td>\n",
       "      <td>0.000</td>\n",
       "      <td>14744.0</td>\n",
       "      <td>6297.0</td>\n",
       "      <td>1.0</td>\n",
       "    </tr>\n",
       "    <tr>\n",
       "      <th>b_coup[63]</th>\n",
       "      <td>0.004</td>\n",
       "      <td>0.033</td>\n",
       "      <td>-0.059</td>\n",
       "      <td>0.076</td>\n",
       "      <td>0.000</td>\n",
       "      <td>0.000</td>\n",
       "      <td>16857.0</td>\n",
       "      <td>6555.0</td>\n",
       "      <td>1.0</td>\n",
       "    </tr>\n",
       "    <tr>\n",
       "      <th>b_coup[64]</th>\n",
       "      <td>0.003</td>\n",
       "      <td>0.034</td>\n",
       "      <td>-0.062</td>\n",
       "      <td>0.079</td>\n",
       "      <td>0.000</td>\n",
       "      <td>0.000</td>\n",
       "      <td>15103.0</td>\n",
       "      <td>6706.0</td>\n",
       "      <td>1.0</td>\n",
       "    </tr>\n",
       "    <tr>\n",
       "      <th>b_amg</th>\n",
       "      <td>-0.006</td>\n",
       "      <td>0.014</td>\n",
       "      <td>-0.034</td>\n",
       "      <td>0.021</td>\n",
       "      <td>0.000</td>\n",
       "      <td>0.000</td>\n",
       "      <td>20766.0</td>\n",
       "      <td>5871.0</td>\n",
       "      <td>1.0</td>\n",
       "    </tr>\n",
       "    <tr>\n",
       "      <th>mu_a</th>\n",
       "      <td>-0.032</td>\n",
       "      <td>0.440</td>\n",
       "      <td>-0.914</td>\n",
       "      <td>0.800</td>\n",
       "      <td>0.004</td>\n",
       "      <td>0.005</td>\n",
       "      <td>10680.0</td>\n",
       "      <td>5898.0</td>\n",
       "      <td>1.0</td>\n",
       "    </tr>\n",
       "  </tbody>\n",
       "</table>\n",
       "<p>68 rows × 9 columns</p>\n",
       "</div>"
      ],
      "text/plain": [
       "             mean     sd  hdi_2.5%  hdi_97.5%  mcse_mean  mcse_sd  ess_bulk  \\\n",
       "mu_coup     0.000  0.015    -0.030      0.031      0.000    0.000   18390.0   \n",
       "b_coup[0]  -0.009  0.035    -0.087      0.058      0.000    0.000   12258.0   \n",
       "b_coup[1]  -0.002  0.034    -0.075      0.067      0.000    0.000   15132.0   \n",
       "b_coup[2]  -0.003  0.033    -0.070      0.067      0.000    0.000   13991.0   \n",
       "b_coup[3]  -0.011  0.036    -0.090      0.054      0.000    0.000   10819.0   \n",
       "...           ...    ...       ...        ...        ...      ...       ...   \n",
       "b_coup[62]  0.005  0.034    -0.060      0.080      0.000    0.000   14744.0   \n",
       "b_coup[63]  0.004  0.033    -0.059      0.076      0.000    0.000   16857.0   \n",
       "b_coup[64]  0.003  0.034    -0.062      0.079      0.000    0.000   15103.0   \n",
       "b_amg      -0.006  0.014    -0.034      0.021      0.000    0.000   20766.0   \n",
       "mu_a       -0.032  0.440    -0.914      0.800      0.004    0.005   10680.0   \n",
       "\n",
       "            ess_tail  r_hat  \n",
       "mu_coup       5969.0    1.0  \n",
       "b_coup[0]     5957.0    1.0  \n",
       "b_coup[1]     5931.0    1.0  \n",
       "b_coup[2]     6422.0    1.0  \n",
       "b_coup[3]     5734.0    1.0  \n",
       "...              ...    ...  \n",
       "b_coup[62]    6297.0    1.0  \n",
       "b_coup[63]    6555.0    1.0  \n",
       "b_coup[64]    6706.0    1.0  \n",
       "b_amg         5871.0    1.0  \n",
       "mu_a          5898.0    1.0  \n",
       "\n",
       "[68 rows x 9 columns]"
      ]
     },
     "execution_count": 11,
     "metadata": {},
     "output_type": "execute_result"
    }
   ],
   "source": [
    "az.summary(trace_pe_ctrl, var_names=['mu_coup','b_coup','b_amg','mu_a'], hdi_prob=.95)"
   ]
  },
  {
   "cell_type": "code",
   "execution_count": 10,
   "id": "fd7e7ad7-d581-4260-8d92-71af73eba9a1",
   "metadata": {},
   "outputs": [
    {
     "data": {
      "text/plain": [
       "0.375"
      ]
     },
     "execution_count": 10,
     "metadata": {},
     "output_type": "execute_result"
    }
   ],
   "source": [
    "0.006/0.016"
   ]
  },
  {
   "cell_type": "code",
   "execution_count": 15,
   "id": "6e1e473c-b65c-4bd3-b0c8-42fbd7ee8624",
   "metadata": {},
   "outputs": [
    {
     "data": {
      "text/plain": [
       "<Figure size 1296x216 with 0 Axes>"
      ]
     },
     "metadata": {},
     "output_type": "display_data"
    },
    {
     "data": {
      "image/png": "[encoded data removed]",
      "text/plain": [
       "<Figure size 432x288 with 1 Axes>"
      ]
     },
     "metadata": {},
     "output_type": "display_data"
    }
   ],
   "source": [
    "#sns.set_style('ticks')\n",
    "sns.set_style('white')\n",
    "fig = plt.figure(figsize=(18,3))\n",
    "az.plot_posterior(trace_pe_ctrl, var_names='mu_coup',\n",
    "                  point_estimate='mean', kind='hist', ref_val=0).figure.savefig('amg_supra_posterior.png')#.set_title(\"PE and Functional Connectivity of Amygdala and Supramarginal Gyrus left\")\n"
   ]
  },
  {
   "cell_type": "markdown",
   "id": "a42b9007-fb37-4239-8b31-2886bf7ee868",
   "metadata": {},
   "source": [
    "## Amygdala and mACC"
   ]
  },
  {
   "cell_type": "code",
   "execution_count": 8,
   "id": "77b22289-4260-4b06-8cfd-d65a6f3a429a",
   "metadata": {},
   "outputs": [
    {
     "name": "stderr",
     "output_type": "stream",
     "text": [
      "Auto-assigning NUTS sampler...\n",
      "Initializing NUTS using jitter+adapt_diag...\n",
      "Multiprocess sampling (4 chains in 10 jobs)\n",
      "NUTS: [eps, coup_matt, sigma_coup, mu_coup, b_amg, b_trials, a_matt, sigma_a, mu_a, intercept]\n"
     ]
    },
    {
     "data": {
      "text/html": [
       "\n",
       "<style>\n",
       "    /* Turns off some styling */\n",
       "    progress {\n",
       "        /* gets rid of default border in Firefox and Opera. */\n",
       "        border: none;\n",
       "        /* Needs to be in here for Safari polyfill so background images work as expected. */\n",
       "        background-size: auto;\n",
       "    }\n",
       "    .progress-bar-interrupted, .progress-bar-interrupted::-webkit-progress-bar {\n",
       "        background: #F44336;\n",
       "    }\n",
       "</style>\n"
      ],
      "text/plain": [
       "<IPython.core.display.HTML object>"
      ]
     },
     "metadata": {},
     "output_type": "display_data"
    },
    {
     "data": {
      "text/html": [
       "\n",
       "    <div>\n",
       "      <progress value='16000' class='' max='16000' style='width:300px; height:20px; vertical-align: middle;'></progress>\n",
       "      100.00% [16000/16000 14:21<00:00 Sampling 4 chains, 0 divergences]\n",
       "    </div>\n",
       "    "
      ],
      "text/plain": [
       "<IPython.core.display.HTML object>"
      ]
     },
     "metadata": {},
     "output_type": "display_data"
    },
    {
     "name": "stderr",
     "output_type": "stream",
     "text": [
      "Sampling 4 chains for 2_000 tune and 2_000 draw iterations (8_000 + 8_000 draws total) took 862 seconds.\n"
     ]
    }
   ],
   "source": [
    "trace_pe_macc = peModel(n_sub, n_cond, subIDX, condIDX, trials, df, 'amg_mAcc')"
   ]
  },
  {
   "cell_type": "code",
   "execution_count": 20,
   "id": "d25fd09d-6fa1-4abb-9742-90c6af1643b3",
   "metadata": {},
   "outputs": [
    {
     "data": {
      "text/plain": [
       "array([[<AxesSubplot:title={'center':'mu_coup'}>,\n",
       "        <AxesSubplot:title={'center':'mu_coup'}>],\n",
       "       [<AxesSubplot:title={'center':'b_coup'}>,\n",
       "        <AxesSubplot:title={'center':'b_coup'}>]], dtype=object)"
      ]
     },
     "execution_count": 20,
     "metadata": {},
     "output_type": "execute_result"
    },
    {
     "data": {
      "image/png": "[encoded data removed]",
      "text/plain": [
       "<Figure size 864x288 with 4 Axes>"
      ]
     },
     "metadata": {
      "needs_background": "light"
     },
     "output_type": "display_data"
    }
   ],
   "source": [
    "az.plot_trace(trace_pe_macc, var_names = ['mu_coup','b_coup'])"
   ]
  },
  {
   "cell_type": "code",
   "execution_count": 16,
   "id": "c95118aa-3930-405b-91d6-648e735d9d7f",
   "metadata": {},
   "outputs": [
    {
     "data": {
      "text/html": [
       "<div>\n",
       "<style scoped>\n",
       "    .dataframe tbody tr th:only-of-type {\n",
       "        vertical-align: middle;\n",
       "    }\n",
       "\n",
       "    .dataframe tbody tr th {\n",
       "        vertical-align: top;\n",
       "    }\n",
       "\n",
       "    .dataframe thead th {\n",
       "        text-align: right;\n",
       "    }\n",
       "</style>\n",
       "<table border=\"1\" class=\"dataframe\">\n",
       "  <thead>\n",
       "    <tr style=\"text-align: right;\">\n",
       "      <th></th>\n",
       "      <th>mean</th>\n",
       "      <th>sd</th>\n",
       "      <th>hdi_3%</th>\n",
       "      <th>hdi_97%</th>\n",
       "      <th>mcse_mean</th>\n",
       "      <th>mcse_sd</th>\n",
       "      <th>ess_bulk</th>\n",
       "      <th>ess_tail</th>\n",
       "      <th>r_hat</th>\n",
       "    </tr>\n",
       "  </thead>\n",
       "  <tbody>\n",
       "    <tr>\n",
       "      <th>mu_coup</th>\n",
       "      <td>-0.013</td>\n",
       "      <td>0.016</td>\n",
       "      <td>-0.043</td>\n",
       "      <td>0.018</td>\n",
       "      <td>0.0</td>\n",
       "      <td>0.0</td>\n",
       "      <td>16980.0</td>\n",
       "      <td>5853.0</td>\n",
       "      <td>1.0</td>\n",
       "    </tr>\n",
       "  </tbody>\n",
       "</table>\n",
       "</div>"
      ],
      "text/plain": [
       "          mean     sd  hdi_3%  hdi_97%  mcse_mean  mcse_sd  ess_bulk  \\\n",
       "mu_coup -0.013  0.016  -0.043    0.018        0.0      0.0   16980.0   \n",
       "\n",
       "         ess_tail  r_hat  \n",
       "mu_coup    5853.0    1.0  "
      ]
     },
     "execution_count": 16,
     "metadata": {},
     "output_type": "execute_result"
    }
   ],
   "source": [
    "az.summary(trace_pe_macc, var_names='mu_coup')"
   ]
  },
  {
   "cell_type": "code",
   "execution_count": 31,
   "id": "bbdaa85a-ef68-4358-8139-b1b8153aa6d8",
   "metadata": {},
   "outputs": [
    {
     "data": {
      "text/plain": [
       "0.75"
      ]
     },
     "execution_count": 31,
     "metadata": {},
     "output_type": "execute_result"
    }
   ],
   "source": [
    "0.012/0.016"
   ]
  },
  {
   "cell_type": "code",
   "execution_count": 17,
   "id": "0d164888-0c6b-49bb-9fa6-c76cdf318a6a",
   "metadata": {},
   "outputs": [
    {
     "data": {
      "image/png": "[encoded data removed]",
      "text/plain": [
       "<Figure size 432x288 with 1 Axes>"
      ]
     },
     "metadata": {
      "needs_background": "light"
     },
     "output_type": "display_data"
    }
   ],
   "source": [
    "az.plot_posterior(trace_pe_macc, var_names = 'mu_coup', ref_val=0, kind='hist').figure.savefig('amg_acc_posterior.png')"
   ]
  },
  {
   "cell_type": "code",
   "execution_count": 21,
   "id": "28a04677-bff3-4b1a-8188-ece3c9f231e6",
   "metadata": {},
   "outputs": [
    {
     "data": {
      "text/html": [
       "<div>\n",
       "<style scoped>\n",
       "    .dataframe tbody tr th:only-of-type {\n",
       "        vertical-align: middle;\n",
       "    }\n",
       "\n",
       "    .dataframe tbody tr th {\n",
       "        vertical-align: top;\n",
       "    }\n",
       "\n",
       "    .dataframe thead th {\n",
       "        text-align: right;\n",
       "    }\n",
       "</style>\n",
       "<table border=\"1\" class=\"dataframe\">\n",
       "  <thead>\n",
       "    <tr style=\"text-align: right;\">\n",
       "      <th></th>\n",
       "      <th>n</th>\n",
       "      <th>r</th>\n",
       "      <th>CI95%</th>\n",
       "      <th>p-val</th>\n",
       "      <th>BF10</th>\n",
       "      <th>power</th>\n",
       "    </tr>\n",
       "  </thead>\n",
       "  <tbody>\n",
       "    <tr>\n",
       "      <th>pearson</th>\n",
       "      <td>69</td>\n",
       "      <td>-0.048917</td>\n",
       "      <td>[-0.28, 0.19]</td>\n",
       "      <td>0.689781</td>\n",
       "      <td>0.163</td>\n",
       "      <td>0.068302</td>\n",
       "    </tr>\n",
       "  </tbody>\n",
       "</table>\n",
       "</div>"
      ],
      "text/plain": [
       "          n         r          CI95%     p-val   BF10     power\n",
       "pearson  69 -0.048917  [-0.28, 0.19]  0.689781  0.163  0.068302"
      ]
     },
     "execution_count": 21,
     "metadata": {},
     "output_type": "execute_result"
    },
    {
     "data": {
      "image/png": "[encoded data removed]",
      "text/plain": [
       "<Figure size 360x360 with 1 Axes>"
      ]
     },
     "metadata": {},
     "output_type": "display_data"
    }
   ],
   "source": [
    "# visualization\n",
    "# plot results\n",
    "forPlot = df.groupby(['Event.Nr']).mean()\n",
    "sns.set(font_scale = 1.15)\n",
    "sns.set_style(\"whitegrid\")\n",
    "a = sns.lmplot(x ='pe', y='amg_mAcc', data= forPlot)\n",
    "a.set_axis_labels(\"Prediction Error\")\n",
    "a.set_ylabels(\"Amygdala mACC Coupling\")\n",
    "plt.text(0.25,0.26, \"r=-0.04, p=0.69\")\n",
    "\n",
    "a.set(xlim = (-0.7,0.95))\n",
    "a.set(xticks=np.linspace(-0.7, 0.95, 6).round(1))\n",
    "a.savefig('pe_coupling_acc.png', dpi=300, bbox_inches='tight')\n",
    "pg.corr(forPlot['pe'], forPlot['amg_mAcc'])"
   ]
  },
  {
   "cell_type": "markdown",
   "id": "2566c26a-b42d-4e3d-9f45-0be9fa5bdcfe",
   "metadata": {},
   "source": [
    "# Comparing groups"
   ]
  },
  {
   "cell_type": "code",
   "execution_count": 6,
   "id": "900e96ce-f568-45aa-91d3-65a3abad87fc",
   "metadata": {},
   "outputs": [
    {
     "data": {
      "text/plain": [
       "array([0, 0, 0, ..., 0, 0, 0], dtype=int8)"
      ]
     },
     "execution_count": 6,
     "metadata": {},
     "output_type": "execute_result"
    }
   ],
   "source": [
    "df['group'] = df['group'].astype('category')\n",
    "\n",
    "groupIDX = df['group'].cat.codes.values\n",
    "groupIDX"
   ]
  },
  {
   "cell_type": "code",
   "execution_count": 16,
   "id": "d1eb25ee-f786-4677-b849-5860ead8c1e2",
   "metadata": {},
   "outputs": [
    {
     "data": {
      "text/plain": [
       "0       HC\n",
       "1       HC\n",
       "2       HC\n",
       "3       HC\n",
       "4       HC\n",
       "        ..\n",
       "4480    HC\n",
       "4481    HC\n",
       "4482    HC\n",
       "4483    HC\n",
       "4484    HC\n",
       "Name: group, Length: 4485, dtype: category\n",
       "Categories (3, object): ['HC', 'VCC', 'VPTSD']"
      ]
     },
     "execution_count": 16,
     "metadata": {},
     "output_type": "execute_result"
    }
   ],
   "source": [
    "df['group']"
   ]
  },
  {
   "cell_type": "markdown",
   "id": "d5c1e76b-ef6c-49a9-b39e-bd8eb5216cdf",
   "metadata": {},
   "source": [
    "## Different condition"
   ]
  },
  {
   "cell_type": "code",
   "execution_count": 26,
   "id": "9cf402fc-9d01-42ad-a47c-89f2fecfdd92",
   "metadata": {
    "tags": []
   },
   "outputs": [
    {
     "name": "stderr",
     "output_type": "stream",
     "text": [
      "Auto-assigning NUTS sampler...\n",
      "Initializing NUTS using jitter+adapt_diag...\n",
      "Multiprocess sampling (4 chains in 4 jobs)\n",
      "NUTS: [eps, grp, b_amg, b_trials, b_matt, sigma_b, mu_b, a_matt, sigma_a, mu_a]\n"
     ]
    },
    {
     "data": {
      "text/html": [
       "\n",
       "    <div>\n",
       "        <style>\n",
       "            /* Turns off some styling */\n",
       "            progress {\n",
       "                /* gets rid of default border in Firefox and Opera. */\n",
       "                border: none;\n",
       "                /* Needs to be in here for Safari polyfill so background images work as expected. */\n",
       "                background-size: auto;\n",
       "            }\n",
       "            .progress-bar-interrupted, .progress-bar-interrupted::-webkit-progress-bar {\n",
       "                background: #F44336;\n",
       "            }\n",
       "        </style>\n",
       "      <progress value='16000' class='' max='16000' style='width:300px; height:20px; vertical-align: middle;'></progress>\n",
       "      100.00% [16000/16000 08:40<00:00 Sampling 4 chains, 0 divergences]\n",
       "    </div>\n",
       "    "
      ],
      "text/plain": [
       "<IPython.core.display.HTML object>"
      ]
     },
     "metadata": {},
     "output_type": "display_data"
    },
    {
     "name": "stderr",
     "output_type": "stream",
     "text": [
      "Sampling 4 chains for 2_000 tune and 2_000 draw iterations (8_000 + 8_000 draws total) took 522 seconds.\n",
      "The number of effective samples is smaller than 10% for some parameters.\n"
     ]
    }
   ],
   "source": [
    "# use reparametarization of the same model\n",
    "# add hyperpriors\n",
    "with pm.Model() as modelG:\n",
    "    \n",
    "    \n",
    "    mu_a = pm.Normal('mu_a', mu=0, sigma=.5)\n",
    "    sigma_a = pm.HalfCauchy('sigma_a', .5)\n",
    "    a_matt = pm.Normal('a_matt', mu=0, sd=1, shape=n_sub)\n",
    "    a = pm.Deterministic('a', mu_a + sigma_a*a_matt)\n",
    "    \n",
    "    mu_b = pm.Normal('mu_b', mu=0, sigma=.5)\n",
    "    sigma_b = pm.HalfCauchy('sigma_b', .5)\n",
    "    b_matt = pm.Normal('b_matt', mu=0, sigma=1, shape=n_cond)\n",
    "    b_cond = pm.Deterministic('b_cond', mu_b + sigma_b*b_matt)\n",
    "    \n",
    "    # add trials and amygdala activation\n",
    "    b_trials = pm.Normal('b_trials', mu=0, sigma=.5)\n",
    "    b_amg = pm.Normal('b_amg', mu=0, sigma=.5)\n",
    "    # add group\n",
    "    group = pm.Normal('grp', mu=0, sigma=.5)\n",
    "   \n",
    "  \n",
    "    eps = pm.HalfCauchy('eps', .5)\n",
    "    \n",
    "    # make mu a determenistic distribution so we can test later vs. actual data\n",
    "    \n",
    "    mu = pm.Deterministic('mu',a[subIDX] + group*groupIDX + b_cond[condIDX] + b_trials*trials + b_amg*df.amg)\n",
    "    \n",
    "    y_hat = pm.Normal('y_hat', mu=mu, sigma=eps, observed=df.coupling)\n",
    "    \n",
    "    traceG = pm.sample(target_accept=.95, chains=4, cores=4, return_inferencedata=True, draws=2000, tune=2000, random_seed=123)    "
   ]
  },
  {
   "cell_type": "code",
   "execution_count": 27,
   "id": "60593a36-7b59-4882-9c44-4327e7ba873c",
   "metadata": {},
   "outputs": [
    {
     "data": {
      "text/html": [
       "<div>\n",
       "<style scoped>\n",
       "    .dataframe tbody tr th:only-of-type {\n",
       "        vertical-align: middle;\n",
       "    }\n",
       "\n",
       "    .dataframe tbody tr th {\n",
       "        vertical-align: top;\n",
       "    }\n",
       "\n",
       "    .dataframe thead th {\n",
       "        text-align: right;\n",
       "    }\n",
       "</style>\n",
       "<table border=\"1\" class=\"dataframe\">\n",
       "  <thead>\n",
       "    <tr style=\"text-align: right;\">\n",
       "      <th></th>\n",
       "      <th>mean</th>\n",
       "      <th>sd</th>\n",
       "      <th>hdi_3%</th>\n",
       "      <th>hdi_97%</th>\n",
       "      <th>mcse_mean</th>\n",
       "      <th>mcse_sd</th>\n",
       "      <th>ess_bulk</th>\n",
       "      <th>ess_tail</th>\n",
       "      <th>r_hat</th>\n",
       "    </tr>\n",
       "  </thead>\n",
       "  <tbody>\n",
       "    <tr>\n",
       "      <th>grp</th>\n",
       "      <td>0.034</td>\n",
       "      <td>0.031</td>\n",
       "      <td>-0.023</td>\n",
       "      <td>0.093</td>\n",
       "      <td>0.001</td>\n",
       "      <td>0.001</td>\n",
       "      <td>501.0</td>\n",
       "      <td>1109.0</td>\n",
       "      <td>1.0</td>\n",
       "    </tr>\n",
       "  </tbody>\n",
       "</table>\n",
       "</div>"
      ],
      "text/plain": [
       "      mean     sd  hdi_3%  hdi_97%  mcse_mean  mcse_sd  ess_bulk  ess_tail  \\\n",
       "grp  0.034  0.031  -0.023    0.093      0.001    0.001     501.0    1109.0   \n",
       "\n",
       "     r_hat  \n",
       "grp    1.0  "
      ]
     },
     "execution_count": 27,
     "metadata": {},
     "output_type": "execute_result"
    }
   ],
   "source": [
    "az.summary(traceG, var_names=['grp'])"
   ]
  },
  {
   "cell_type": "code",
   "execution_count": 7,
   "id": "dae4fe3b-e2bb-44ea-8e5d-4fb2b86269f8",
   "metadata": {},
   "outputs": [
    {
     "data": {
      "text/plain": [
       "1.0967741935483872"
      ]
     },
     "execution_count": 7,
     "metadata": {},
     "output_type": "execute_result"
    }
   ],
   "source": [
    "0.034/0.031\n"
   ]
  },
  {
   "cell_type": "code",
   "execution_count": 8,
   "id": "efbd0d6a-23ba-4981-bfd7-0ce7fa32d4cd",
   "metadata": {},
   "outputs": [
    {
     "name": "stderr",
     "output_type": "stream",
     "text": [
      "Auto-assigning NUTS sampler...\n",
      "Initializing NUTS using jitter+adapt_diag...\n",
      "Multiprocess sampling (4 chains in 4 jobs)\n",
      "NUTS: [eps, grp, b_amg, b_trials, b_matt, sigma_b, mu_b, a_matt, sigma_a, mu_a]\n"
     ]
    },
    {
     "data": {
      "text/html": [
       "\n",
       "    <div>\n",
       "        <style>\n",
       "            /* Turns off some styling */\n",
       "            progress {\n",
       "                /* gets rid of default border in Firefox and Opera. */\n",
       "                border: none;\n",
       "                /* Needs to be in here for Safari polyfill so background images work as expected. */\n",
       "                background-size: auto;\n",
       "            }\n",
       "            .progress-bar-interrupted, .progress-bar-interrupted::-webkit-progress-bar {\n",
       "                background: #F44336;\n",
       "            }\n",
       "        </style>\n",
       "      <progress value='16000' class='' max='16000' style='width:300px; height:20px; vertical-align: middle;'></progress>\n",
       "      100.00% [16000/16000 12:48<00:00 Sampling 4 chains, 0 divergences]\n",
       "    </div>\n",
       "    "
      ],
      "text/plain": [
       "<IPython.core.display.HTML object>"
      ]
     },
     "metadata": {},
     "output_type": "display_data"
    },
    {
     "name": "stderr",
     "output_type": "stream",
     "text": [
      "Sampling 4 chains for 2_000 tune and 2_000 draw iterations (8_000 + 8_000 draws total) took 770 seconds.\n",
      "The number of effective samples is smaller than 25% for some parameters.\n"
     ]
    }
   ],
   "source": [
    "# Different condition amg-vmpfc\n",
    "with pm.Model() as modelG_vmpfc:\n",
    "    \n",
    "    \n",
    "    mu_a = pm.Normal('mu_a', mu=0, sigma=.5)\n",
    "    sigma_a = pm.HalfCauchy('sigma_a', .5)\n",
    "    a_matt = pm.Normal('a_matt', mu=0, sd=1, shape=n_sub)\n",
    "    a = pm.Deterministic('a', mu_a + sigma_a*a_matt)\n",
    "    \n",
    "    mu_b = pm.Normal('mu_b', mu=0, sigma=.5)\n",
    "    sigma_b = pm.HalfCauchy('sigma_b', .5)\n",
    "    b_matt = pm.Normal('b_matt', mu=0, sigma=1, shape=n_cond)\n",
    "    b_cond = pm.Deterministic('b_cond', mu_b + sigma_b*b_matt)\n",
    "    \n",
    "    # add trials and amygdala activation\n",
    "    b_trials = pm.Normal('b_trials', mu=0, sigma=.5)\n",
    "    b_amg = pm.Normal('b_amg', mu=0, sigma=.5)\n",
    "    # add group\n",
    "    group = pm.Normal('grp', mu=0, sigma=.5)\n",
    "   \n",
    "  \n",
    "    eps = pm.HalfCauchy('eps', .5)\n",
    "    \n",
    "    # make mu a determenistic distribution so we can test later vs. actual data\n",
    "    \n",
    "    mu = pm.Deterministic('mu',a[subIDX] + group*groupIDX + b_cond[condIDX] + b_trials*trials + b_amg*df.amg)\n",
    "    \n",
    "    y_hat = pm.Normal('y_hat', mu=mu, sigma=eps, observed=df.amg_vmpfc)\n",
    "    \n",
    "    traceG_vmpfc = pm.sample(target_accept=.95, chains=4, cores=4, return_inferencedata=True, draws=2000, tune=2000, random_seed=123)    "
   ]
  },
  {
   "cell_type": "code",
   "execution_count": 9,
   "id": "165cc850-b9a6-44e0-b5b2-f29b71b4ad70",
   "metadata": {},
   "outputs": [
    {
     "data": {
      "text/html": [
       "<div>\n",
       "<style scoped>\n",
       "    .dataframe tbody tr th:only-of-type {\n",
       "        vertical-align: middle;\n",
       "    }\n",
       "\n",
       "    .dataframe tbody tr th {\n",
       "        vertical-align: top;\n",
       "    }\n",
       "\n",
       "    .dataframe thead th {\n",
       "        text-align: right;\n",
       "    }\n",
       "</style>\n",
       "<table border=\"1\" class=\"dataframe\">\n",
       "  <thead>\n",
       "    <tr style=\"text-align: right;\">\n",
       "      <th></th>\n",
       "      <th>mean</th>\n",
       "      <th>sd</th>\n",
       "      <th>hdi_3%</th>\n",
       "      <th>hdi_97%</th>\n",
       "      <th>mcse_mean</th>\n",
       "      <th>mcse_sd</th>\n",
       "      <th>ess_bulk</th>\n",
       "      <th>ess_tail</th>\n",
       "      <th>r_hat</th>\n",
       "    </tr>\n",
       "  </thead>\n",
       "  <tbody>\n",
       "    <tr>\n",
       "      <th>grp</th>\n",
       "      <td>-0.03</td>\n",
       "      <td>0.019</td>\n",
       "      <td>-0.065</td>\n",
       "      <td>0.006</td>\n",
       "      <td>0.0</td>\n",
       "      <td>0.0</td>\n",
       "      <td>1745.0</td>\n",
       "      <td>3001.0</td>\n",
       "      <td>1.0</td>\n",
       "    </tr>\n",
       "  </tbody>\n",
       "</table>\n",
       "</div>"
      ],
      "text/plain": [
       "     mean     sd  hdi_3%  hdi_97%  mcse_mean  mcse_sd  ess_bulk  ess_tail  \\\n",
       "grp -0.03  0.019  -0.065    0.006        0.0      0.0    1745.0    3001.0   \n",
       "\n",
       "     r_hat  \n",
       "grp    1.0  "
      ]
     },
     "execution_count": 9,
     "metadata": {},
     "output_type": "execute_result"
    }
   ],
   "source": [
    "az.summary(traceG_vmpfc, var_names=['grp'])"
   ]
  },
  {
   "cell_type": "markdown",
   "id": "4413c7bd-518c-4816-90d8-9a44a12da274",
   "metadata": {},
   "source": [
    "## SCR and groups"
   ]
  },
  {
   "cell_type": "code",
   "execution_count": 10,
   "id": "92e3e2af-e89d-4246-a0f6-90124cc20347",
   "metadata": {},
   "outputs": [
    {
     "name": "stderr",
     "output_type": "stream",
     "text": [
      "Auto-assigning NUTS sampler...\n",
      "Initializing NUTS using jitter+adapt_diag...\n",
      "Multiprocess sampling (4 chains in 10 jobs)\n",
      "NUTS: [eps, grp, b_coup, b_amg, b_trials, b_matt, sigma_b, mu_b, a_matt, sigma_a, mu_a]\n"
     ]
    },
    {
     "data": {
      "text/html": [
       "\n",
       "    <div>\n",
       "        <style>\n",
       "            /* Turns off some styling */\n",
       "            progress {\n",
       "                /* gets rid of default border in Firefox and Opera. */\n",
       "                border: none;\n",
       "                /* Needs to be in here for Safari polyfill so background images work as expected. */\n",
       "                background-size: auto;\n",
       "            }\n",
       "            .progress-bar-interrupted, .progress-bar-interrupted::-webkit-progress-bar {\n",
       "                background: #F44336;\n",
       "            }\n",
       "        </style>\n",
       "      <progress value='16000' class='' max='16000' style='width:300px; height:20px; vertical-align: middle;'></progress>\n",
       "      100.00% [16000/16000 09:38<00:00 Sampling 4 chains, 0 divergences]\n",
       "    </div>\n",
       "    "
      ],
      "text/plain": [
       "<IPython.core.display.HTML object>"
      ]
     },
     "metadata": {},
     "output_type": "display_data"
    },
    {
     "name": "stderr",
     "output_type": "stream",
     "text": [
      "Sampling 4 chains for 2_000 tune and 2_000 draw iterations (8_000 + 8_000 draws total) took 580 seconds.\n",
      "The number of effective samples is smaller than 25% for some parameters.\n"
     ]
    }
   ],
   "source": [
    "with pm.Model() as model1_scrG:\n",
    "    \n",
    "    \n",
    "    mu_a = pm.Normal('mu_a', mu=0, sigma=.5)\n",
    "    sigma_a = pm.HalfCauchy('sigma_a', .5)\n",
    "    a_matt = pm.Normal('a_matt', mu=0, sd=1, shape=n_sub)\n",
    "    a = pm.Deterministic('a', mu_a + sigma_a*a_matt)\n",
    "        \n",
    "    mu_b = pm.Normal('mu_b', mu=0, sigma=.5)\n",
    "    sigma_b = pm.HalfCauchy('sigma_b', .5)\n",
    "    b_matt = pm.Normal('b_matt', mu=0, sigma=1, shape=n_cond)\n",
    "    b_cond = pm.Deterministic('b_cond', mu_b + sigma_b*b_matt)\n",
    "    \n",
    "    # add trials and amygdala activation\n",
    "    b_trials = pm.Normal('b_trials', mu=0, sigma=.5)\n",
    "    b_amg = pm.Normal('b_amg', mu=0, sigma=.5)\n",
    "    \n",
    "    # add coupling\n",
    "    b_coup = pm.Normal('b_coup', mu=0, sigma=.5)\n",
    "    \n",
    "    # add group\n",
    "    group = pm.Normal('grp', mu=0, sigma=.5, shape=3)\n",
    "   \n",
    "  \n",
    "    eps = pm.HalfCauchy('eps', .5)\n",
    "    \n",
    "    # make mu a determenistic distribution so we can test later vs. actual data\n",
    "    \n",
    "    mu = pm.Deterministic('mu',a[subIDX] + group[groupIDX] + b_cond[condIDX] + b_trials*trials + b_amg*df.amg + b_coup*df.coupling)\n",
    "    \n",
    "    y_hat = pm.Normal('y_hat', mu=mu, sigma=eps, observed=df.scr)\n",
    "   \n",
    "    \n",
    "    trace_scrG = pm.sample(target_accept=.95, chains=4, cores=10, return_inferencedata=True, draws=2000, tune=2000)    "
   ]
  },
  {
   "cell_type": "code",
   "execution_count": 11,
   "id": "1262d4cc-0517-4c0c-b385-e95c2aaad3a6",
   "metadata": {},
   "outputs": [
    {
     "data": {
      "text/html": [
       "<div>\n",
       "<style scoped>\n",
       "    .dataframe tbody tr th:only-of-type {\n",
       "        vertical-align: middle;\n",
       "    }\n",
       "\n",
       "    .dataframe tbody tr th {\n",
       "        vertical-align: top;\n",
       "    }\n",
       "\n",
       "    .dataframe thead th {\n",
       "        text-align: right;\n",
       "    }\n",
       "</style>\n",
       "<table border=\"1\" class=\"dataframe\">\n",
       "  <thead>\n",
       "    <tr style=\"text-align: right;\">\n",
       "      <th></th>\n",
       "      <th>mean</th>\n",
       "      <th>sd</th>\n",
       "      <th>hdi_3%</th>\n",
       "      <th>hdi_97%</th>\n",
       "      <th>mcse_mean</th>\n",
       "      <th>mcse_sd</th>\n",
       "      <th>ess_bulk</th>\n",
       "      <th>ess_tail</th>\n",
       "      <th>r_hat</th>\n",
       "    </tr>\n",
       "  </thead>\n",
       "  <tbody>\n",
       "    <tr>\n",
       "      <th>grp[0]</th>\n",
       "      <td>0.442</td>\n",
       "      <td>0.280</td>\n",
       "      <td>-0.099</td>\n",
       "      <td>0.955</td>\n",
       "      <td>0.006</td>\n",
       "      <td>0.004</td>\n",
       "      <td>1934.0</td>\n",
       "      <td>2768.0</td>\n",
       "      <td>1.0</td>\n",
       "    </tr>\n",
       "    <tr>\n",
       "      <th>grp[1]</th>\n",
       "      <td>-0.061</td>\n",
       "      <td>0.278</td>\n",
       "      <td>-0.600</td>\n",
       "      <td>0.443</td>\n",
       "      <td>0.007</td>\n",
       "      <td>0.005</td>\n",
       "      <td>1797.0</td>\n",
       "      <td>2703.0</td>\n",
       "      <td>1.0</td>\n",
       "    </tr>\n",
       "    <tr>\n",
       "      <th>grp[2]</th>\n",
       "      <td>-0.043</td>\n",
       "      <td>0.276</td>\n",
       "      <td>-0.561</td>\n",
       "      <td>0.461</td>\n",
       "      <td>0.006</td>\n",
       "      <td>0.004</td>\n",
       "      <td>2031.0</td>\n",
       "      <td>3281.0</td>\n",
       "      <td>1.0</td>\n",
       "    </tr>\n",
       "    <tr>\n",
       "      <th>b_coup</th>\n",
       "      <td>0.058</td>\n",
       "      <td>0.024</td>\n",
       "      <td>0.014</td>\n",
       "      <td>0.103</td>\n",
       "      <td>0.000</td>\n",
       "      <td>0.000</td>\n",
       "      <td>4399.0</td>\n",
       "      <td>4482.0</td>\n",
       "      <td>1.0</td>\n",
       "    </tr>\n",
       "    <tr>\n",
       "      <th>b_cond[0]</th>\n",
       "      <td>0.020</td>\n",
       "      <td>0.388</td>\n",
       "      <td>-0.718</td>\n",
       "      <td>0.746</td>\n",
       "      <td>0.007</td>\n",
       "      <td>0.005</td>\n",
       "      <td>3222.0</td>\n",
       "      <td>4108.0</td>\n",
       "      <td>1.0</td>\n",
       "    </tr>\n",
       "    <tr>\n",
       "      <th>b_cond[1]</th>\n",
       "      <td>0.248</td>\n",
       "      <td>0.388</td>\n",
       "      <td>-0.480</td>\n",
       "      <td>0.986</td>\n",
       "      <td>0.007</td>\n",
       "      <td>0.005</td>\n",
       "      <td>3281.0</td>\n",
       "      <td>3996.0</td>\n",
       "      <td>1.0</td>\n",
       "    </tr>\n",
       "    <tr>\n",
       "      <th>b_cond[2]</th>\n",
       "      <td>0.672</td>\n",
       "      <td>0.389</td>\n",
       "      <td>-0.064</td>\n",
       "      <td>1.403</td>\n",
       "      <td>0.007</td>\n",
       "      <td>0.005</td>\n",
       "      <td>3301.0</td>\n",
       "      <td>4123.0</td>\n",
       "      <td>1.0</td>\n",
       "    </tr>\n",
       "    <tr>\n",
       "      <th>b_cond[3]</th>\n",
       "      <td>0.231</td>\n",
       "      <td>0.389</td>\n",
       "      <td>-0.516</td>\n",
       "      <td>0.947</td>\n",
       "      <td>0.007</td>\n",
       "      <td>0.005</td>\n",
       "      <td>3305.0</td>\n",
       "      <td>4096.0</td>\n",
       "      <td>1.0</td>\n",
       "    </tr>\n",
       "    <tr>\n",
       "      <th>b_cond[4]</th>\n",
       "      <td>0.325</td>\n",
       "      <td>0.389</td>\n",
       "      <td>-0.395</td>\n",
       "      <td>1.075</td>\n",
       "      <td>0.007</td>\n",
       "      <td>0.005</td>\n",
       "      <td>3259.0</td>\n",
       "      <td>3895.0</td>\n",
       "      <td>1.0</td>\n",
       "    </tr>\n",
       "    <tr>\n",
       "      <th>b_cond[5]</th>\n",
       "      <td>0.532</td>\n",
       "      <td>0.389</td>\n",
       "      <td>-0.211</td>\n",
       "      <td>1.257</td>\n",
       "      <td>0.007</td>\n",
       "      <td>0.005</td>\n",
       "      <td>3283.0</td>\n",
       "      <td>3950.0</td>\n",
       "      <td>1.0</td>\n",
       "    </tr>\n",
       "  </tbody>\n",
       "</table>\n",
       "</div>"
      ],
      "text/plain": [
       "            mean     sd  hdi_3%  hdi_97%  mcse_mean  mcse_sd  ess_bulk  \\\n",
       "grp[0]     0.442  0.280  -0.099    0.955      0.006    0.004    1934.0   \n",
       "grp[1]    -0.061  0.278  -0.600    0.443      0.007    0.005    1797.0   \n",
       "grp[2]    -0.043  0.276  -0.561    0.461      0.006    0.004    2031.0   \n",
       "b_coup     0.058  0.024   0.014    0.103      0.000    0.000    4399.0   \n",
       "b_cond[0]  0.020  0.388  -0.718    0.746      0.007    0.005    3222.0   \n",
       "b_cond[1]  0.248  0.388  -0.480    0.986      0.007    0.005    3281.0   \n",
       "b_cond[2]  0.672  0.389  -0.064    1.403      0.007    0.005    3301.0   \n",
       "b_cond[3]  0.231  0.389  -0.516    0.947      0.007    0.005    3305.0   \n",
       "b_cond[4]  0.325  0.389  -0.395    1.075      0.007    0.005    3259.0   \n",
       "b_cond[5]  0.532  0.389  -0.211    1.257      0.007    0.005    3283.0   \n",
       "\n",
       "           ess_tail  r_hat  \n",
       "grp[0]       2768.0    1.0  \n",
       "grp[1]       2703.0    1.0  \n",
       "grp[2]       3281.0    1.0  \n",
       "b_coup       4482.0    1.0  \n",
       "b_cond[0]    4108.0    1.0  \n",
       "b_cond[1]    3996.0    1.0  \n",
       "b_cond[2]    4123.0    1.0  \n",
       "b_cond[3]    4096.0    1.0  \n",
       "b_cond[4]    3895.0    1.0  \n",
       "b_cond[5]    3950.0    1.0  "
      ]
     },
     "execution_count": 11,
     "metadata": {},
     "output_type": "execute_result"
    }
   ],
   "source": [
    "az.summary(trace_scrG, var_names=['grp','b_coup', 'b_cond'])"
   ]
  },
  {
   "cell_type": "code",
   "execution_count": 27,
   "id": "1a0b7163-110d-4fe1-a179-a4f9f293d6f6",
   "metadata": {},
   "outputs": [
    {
     "data": {
      "text/plain": [
       "<matplotlib.legend.Legend at 0x2b2dcc246850>"
      ]
     },
     "execution_count": 27,
     "metadata": {},
     "output_type": "execute_result"
    },
    {
     "data": {
      "image/png": "[encoded data removed]",
      "text/plain": [
       "<Figure size 432x288 with 1 Axes>"
      ]
     },
     "metadata": {
      "needs_background": "light"
     },
     "output_type": "display_data"
    }
   ],
   "source": [
    "# seems to be differences between the groups\n",
    "# lets examine\n",
    "trStackedG = trace_scrG.posterior.stack(draws=('chain','draw'))\n",
    "trHC = trStackedG.grp[0,:].values\n",
    "trCC = trStackedG.grp[1,:].values\n",
    "trPTSD = trStackedG.grp[2,:].values\n",
    "sns.histplot(trHC, label = 'HC', color = 'blue')\n",
    "sns.histplot(trCC, label= 'CC', color = 'orange')\n",
    "sns.histplot(trPTSD, label = 'PTSD', color = 'red')\n",
    "plt.legend()"
   ]
  },
  {
   "cell_type": "code",
   "execution_count": 28,
   "id": "ccb467d6-ff7d-4cc5-8e81-3bb8a93cb50e",
   "metadata": {},
   "outputs": [
    {
     "data": {
      "text/plain": [
       "(8000,)"
      ]
     },
     "execution_count": 28,
     "metadata": {},
     "output_type": "execute_result"
    }
   ],
   "source": [
    "TRccPTSD = np.mean(np.stack([trCC, trPTSD]), axis=0)\n",
    "TRccPTSD.shape"
   ]
  },
  {
   "cell_type": "code",
   "execution_count": 29,
   "id": "a4d983eb-5490-4965-9967-f79f50841b04",
   "metadata": {},
   "outputs": [
    {
     "name": "stderr",
     "output_type": "stream",
     "text": [
      "arviz - WARNING - Shape validation failed: input_shape: (1, 8000), minimum_shape: (chains=2, draws=4)\n"
     ]
    },
    {
     "data": {
      "text/html": [
       "<div>\n",
       "<style scoped>\n",
       "    .dataframe tbody tr th:only-of-type {\n",
       "        vertical-align: middle;\n",
       "    }\n",
       "\n",
       "    .dataframe tbody tr th {\n",
       "        vertical-align: top;\n",
       "    }\n",
       "\n",
       "    .dataframe thead th {\n",
       "        text-align: right;\n",
       "    }\n",
       "</style>\n",
       "<table border=\"1\" class=\"dataframe\">\n",
       "  <thead>\n",
       "    <tr style=\"text-align: right;\">\n",
       "      <th></th>\n",
       "      <th>mean</th>\n",
       "      <th>sd</th>\n",
       "      <th>hdi_3%</th>\n",
       "      <th>hdi_97%</th>\n",
       "      <th>mcse_mean</th>\n",
       "      <th>mcse_sd</th>\n",
       "      <th>ess_bulk</th>\n",
       "      <th>ess_tail</th>\n",
       "      <th>r_hat</th>\n",
       "    </tr>\n",
       "  </thead>\n",
       "  <tbody>\n",
       "    <tr>\n",
       "      <th>x</th>\n",
       "      <td>0.494</td>\n",
       "      <td>0.122</td>\n",
       "      <td>0.269</td>\n",
       "      <td>0.727</td>\n",
       "      <td>0.005</td>\n",
       "      <td>0.003</td>\n",
       "      <td>676.0</td>\n",
       "      <td>1247.0</td>\n",
       "      <td>NaN</td>\n",
       "    </tr>\n",
       "  </tbody>\n",
       "</table>\n",
       "</div>"
      ],
      "text/plain": [
       "    mean     sd  hdi_3%  hdi_97%  mcse_mean  mcse_sd  ess_bulk  ess_tail  \\\n",
       "x  0.494  0.122   0.269    0.727      0.005    0.003     676.0    1247.0   \n",
       "\n",
       "   r_hat  \n",
       "x    NaN  "
      ]
     },
     "execution_count": 29,
     "metadata": {},
     "output_type": "execute_result"
    }
   ],
   "source": [
    "HC_vs_CCPTSD = trHC - (np.mean(np.stack([trCC, trPTSD]), axis=0))\n",
    "az.summary(HC_vs_CCPTSD)"
   ]
  },
  {
   "cell_type": "code",
   "execution_count": 30,
   "id": "d4f4048d-0586-4032-a0db-04c425e6ab57",
   "metadata": {},
   "outputs": [
    {
     "data": {
      "text/plain": [
       "4.049180327868853"
      ]
     },
     "execution_count": 30,
     "metadata": {},
     "output_type": "execute_result"
    }
   ],
   "source": [
    "0.494/0.122"
   ]
  },
  {
   "cell_type": "code",
   "execution_count": null,
   "id": "870cff1e-10ae-40e3-a793-80a528205836",
   "metadata": {},
   "outputs": [],
   "source": [
    "sns.set_style(\"ticks\")\n",
    "az.plot_posterior(trace_scrG, var_names=['b_coup'], kind='hist', point_estimate='mean',\n",
    "                 ref_val=0)"
   ]
  },
  {
   "cell_type": "markdown",
   "id": "c61a366b-facf-4a6a-a2ef-f1c5db61c95b",
   "metadata": {},
   "source": [
    "## Prediction error"
   ]
  },
  {
   "cell_type": "code",
   "execution_count": 32,
   "id": "3e98cb49-5251-4651-8e64-601b5dbcd0c7",
   "metadata": {},
   "outputs": [
    {
     "name": "stderr",
     "output_type": "stream",
     "text": [
      "Auto-assigning NUTS sampler...\n",
      "Initializing NUTS using jitter+adapt_diag...\n",
      "Multiprocess sampling (4 chains in 10 jobs)\n",
      "NUTS: [eps, grp, coup_matt, sigma_coup, mu_coup, b_amg, b_trials, a_matt, sigma_a, mu_a, intercept]\n"
     ]
    },
    {
     "data": {
      "text/html": [
       "\n",
       "    <div>\n",
       "        <style>\n",
       "            /* Turns off some styling */\n",
       "            progress {\n",
       "                /* gets rid of default border in Firefox and Opera. */\n",
       "                border: none;\n",
       "                /* Needs to be in here for Safari polyfill so background images work as expected. */\n",
       "                background-size: auto;\n",
       "            }\n",
       "            .progress-bar-interrupted, .progress-bar-interrupted::-webkit-progress-bar {\n",
       "                background: #F44336;\n",
       "            }\n",
       "        </style>\n",
       "      <progress value='16000' class='' max='16000' style='width:300px; height:20px; vertical-align: middle;'></progress>\n",
       "      100.00% [16000/16000 17:33<00:00 Sampling 4 chains, 0 divergences]\n",
       "    </div>\n",
       "    "
      ],
      "text/plain": [
       "<IPython.core.display.HTML object>"
      ]
     },
     "metadata": {},
     "output_type": "display_data"
    },
    {
     "name": "stderr",
     "output_type": "stream",
     "text": [
      "Sampling 4 chains for 2_000 tune and 2_000 draw iterations (8_000 + 8_000 draws total) took 1054 seconds.\n"
     ]
    }
   ],
   "source": [
    "with pm.Model() as model_peG:\n",
    "    \n",
    "    # adding intercept\n",
    "    intercept = pm.Normal('intercept', mu=0, sigma=1)\n",
    "    \n",
    "    mu_a = pm.Normal('mu_a', mu=0, sigma=.5)\n",
    "    sigma_a = pm.HalfCauchy('sigma_a', .5)\n",
    "    a_matt = pm.Normal('a_matt', mu=0, sd=1, shape=n_sub)\n",
    "    a = pm.Deterministic('a', mu_a + sigma_a*a_matt)\n",
    "        \n",
    "    \n",
    "    # add trials and amygdala activation\n",
    "    b_trials = pm.Normal('b_trials', mu=0, sigma=.5)\n",
    "    b_amg = pm.Normal('b_amg', mu=0, sigma=.5)\n",
    "    \n",
    "    # add coupling\n",
    "    #b_coup = pm.Normal('b_coup', mu=0, sigma=.5)\n",
    "    mu_coup = pm.Normal('mu_coup', mu=0, sigma=.5)\n",
    "    sigma_coup = pm.HalfCauchy('sigma_coup', .5)\n",
    "    coup_matt = pm.Normal('coup_matt', mu=0, sd=1, shape=n_sub)\n",
    "    b_coup = pm.Deterministic('b_coup', mu_coup + sigma_coup*coup_matt)\n",
    "    \n",
    "    # add group\n",
    "    group = pm.Normal('grp', mu=0, sigma=.5, shape=3)\n",
    "   \n",
    "    eps = pm.HalfCauchy('eps', .5)\n",
    "    \n",
    "    # make mu a determenistic distribution so we can test later vs. actual data\n",
    "    \n",
    "    mu = pm.Deterministic('mu',intercept + a[subIDX] + group[groupIDX] + b_trials*trials + b_amg*df.amg + b_coup[subIDX]*df.coupling)\n",
    "    \n",
    "    y_hat = pm.Normal('y_hat', mu=mu, sigma=eps, observed=df.pe)\n",
    "   \n",
    "    \n",
    "    trace_peG = pm.sample(target_accept=.95, chains=4, cores=10, return_inferencedata=True, draws=2000, tune=2000)"
   ]
  },
  {
   "cell_type": "code",
   "execution_count": 33,
   "id": "94201caa-b046-4d40-bcfb-98298476d16a",
   "metadata": {},
   "outputs": [
    {
     "data": {
      "text/html": [
       "<div>\n",
       "<style scoped>\n",
       "    .dataframe tbody tr th:only-of-type {\n",
       "        vertical-align: middle;\n",
       "    }\n",
       "\n",
       "    .dataframe tbody tr th {\n",
       "        vertical-align: top;\n",
       "    }\n",
       "\n",
       "    .dataframe thead th {\n",
       "        text-align: right;\n",
       "    }\n",
       "</style>\n",
       "<table border=\"1\" class=\"dataframe\">\n",
       "  <thead>\n",
       "    <tr style=\"text-align: right;\">\n",
       "      <th></th>\n",
       "      <th>mean</th>\n",
       "      <th>sd</th>\n",
       "      <th>hdi_3%</th>\n",
       "      <th>hdi_97%</th>\n",
       "      <th>mcse_mean</th>\n",
       "      <th>mcse_sd</th>\n",
       "      <th>ess_bulk</th>\n",
       "      <th>ess_tail</th>\n",
       "      <th>r_hat</th>\n",
       "    </tr>\n",
       "  </thead>\n",
       "  <tbody>\n",
       "    <tr>\n",
       "      <th>grp[0]</th>\n",
       "      <td>-0.016</td>\n",
       "      <td>0.276</td>\n",
       "      <td>-0.549</td>\n",
       "      <td>0.490</td>\n",
       "      <td>0.004</td>\n",
       "      <td>0.003</td>\n",
       "      <td>4319.0</td>\n",
       "      <td>5334.0</td>\n",
       "      <td>1.0</td>\n",
       "    </tr>\n",
       "    <tr>\n",
       "      <th>grp[1]</th>\n",
       "      <td>-0.021</td>\n",
       "      <td>0.276</td>\n",
       "      <td>-0.526</td>\n",
       "      <td>0.514</td>\n",
       "      <td>0.004</td>\n",
       "      <td>0.003</td>\n",
       "      <td>4341.0</td>\n",
       "      <td>5290.0</td>\n",
       "      <td>1.0</td>\n",
       "    </tr>\n",
       "    <tr>\n",
       "      <th>grp[2]</th>\n",
       "      <td>0.006</td>\n",
       "      <td>0.276</td>\n",
       "      <td>-0.531</td>\n",
       "      <td>0.509</td>\n",
       "      <td>0.004</td>\n",
       "      <td>0.003</td>\n",
       "      <td>4334.0</td>\n",
       "      <td>5561.0</td>\n",
       "      <td>1.0</td>\n",
       "    </tr>\n",
       "  </tbody>\n",
       "</table>\n",
       "</div>"
      ],
      "text/plain": [
       "         mean     sd  hdi_3%  hdi_97%  mcse_mean  mcse_sd  ess_bulk  ess_tail  \\\n",
       "grp[0] -0.016  0.276  -0.549    0.490      0.004    0.003    4319.0    5334.0   \n",
       "grp[1] -0.021  0.276  -0.526    0.514      0.004    0.003    4341.0    5290.0   \n",
       "grp[2]  0.006  0.276  -0.531    0.509      0.004    0.003    4334.0    5561.0   \n",
       "\n",
       "        r_hat  \n",
       "grp[0]    1.0  \n",
       "grp[1]    1.0  \n",
       "grp[2]    1.0  "
      ]
     },
     "execution_count": 33,
     "metadata": {},
     "output_type": "execute_result"
    }
   ],
   "source": [
    "az.summary(trace_peG, var_names='grp')"
   ]
  },
  {
   "cell_type": "code",
   "execution_count": 34,
   "id": "21331e57-a08b-4607-b5ce-c549ef318fec",
   "metadata": {},
   "outputs": [
    {
     "data": {
      "text/plain": [
       "<matplotlib.legend.Legend at 0x2b2da4318b50>"
      ]
     },
     "execution_count": 34,
     "metadata": {},
     "output_type": "execute_result"
    },
    {
     "data": {
      "image/png": "[encoded data removed]",
      "text/plain": [
       "<Figure size 432x288 with 1 Axes>"
      ]
     },
     "metadata": {
      "needs_background": "light"
     },
     "output_type": "display_data"
    }
   ],
   "source": [
    "trStackedGpe = trace_peG.posterior.stack(draws=('chain','draw'))\n",
    "trHC = trStackedGpe.grp[0,:].values\n",
    "trCC = trStackedGpe.grp[1,:].values\n",
    "trPTSD = trStackedGpe.grp[2,:].values\n",
    "sns.histplot(trHC, label = 'HC', color = 'blue')\n",
    "sns.histplot(trCC, label= 'CC', color = 'orange')\n",
    "sns.histplot(trPTSD, label = 'PTSD', color = 'red')\n",
    "plt.legend()"
   ]
  }
 ],
 "metadata": {
  "kernelspec": {
   "display_name": "Python 3 (ipykernel)",
   "language": "python",
   "name": "python3"
  },
  "language_info": {
   "codemirror_mode": {
    "name": "ipython",
    "version": 3
   },
   "file_extension": ".py",
   "mimetype": "text/x-python",
   "name": "python",
   "nbconvert_exporter": "python",
   "pygments_lexer": "ipython3",
   "version": "3.9.9"
  }
 },
 "nbformat": 4,
 "nbformat_minor": 5
}
