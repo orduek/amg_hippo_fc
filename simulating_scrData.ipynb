{
 "cells": [
  {
   "cell_type": "markdown",
   "id": "9955d7f0-ab8b-4d1f-9802-0a0c1a864271",
   "metadata": {},
   "source": [
    "# Testing the model\n",
    "In this notebook we will simulate SCR data of the reversal task\n",
    "- Start with only phase 1 (before reversal)\n",
    "- Test pymc3 model on the simulated data\n",
    "- If works well $\\rightarrow$ continue to phase 2"
   ]
  },
  {
   "cell_type": "code",
   "execution_count": 1,
   "id": "7fa48949-35c0-46ed-b470-3b20b8343074",
   "metadata": {},
   "outputs": [],
   "source": [
    "%config Completer.use_jedi = False\n",
    "\n",
    "import pandas as pd\n",
    "import numpy as np\n",
    "import matplotlib.pyplot as plt\n",
    "import seaborn as sns\n",
    "import theano\n",
    "import theano.tensor as tt\n",
    "import scipy\n",
    "import os\n",
    "# import stan\n",
    "\n",
    "import pymc3 as pm\n",
    "import arviz as az\n",
    "importn_subjtsmodels.api as sm\n",
    "import statsmodels.formula.api as smf"
   ]
  },
  {
   "cell_type": "code",
   "execution_count": 2,
   "id": "6fe2bc95-713d-4806-a414-6284359a61cc",
   "metadata": {},
   "outputs": [],
   "source": [
    "scr = pd.read_csv('firstSCRpart.csv')\n",
    "#scr_two = pd.read_csv('se')\n",
    "scr['sub'].unique()\n",
    "scrTwo = scr[(scr['sub']==30)]"
   ]
  },
  {
   "cell_type": "code",
   "execution_count": 3,
   "id": "f89c90bd-e9e4-43d4-b350-bc85f7c2bc5f",
   "metadata": {
    "tags": []
   },
   "outputs": [
    {
     "name": "stdout",
     "output_type": "stream",
     "text": [
      "(30,)\n",
      "(30,)\n",
      "(30,)\n"
     ]
    }
   ],
   "source": [
    "scrVec = scrTwo['CDA.AmpSum'].values\n",
    "print(scrVec.shape)\n",
    "shockVec = np.zeros(len(scrVec), dtype=np.int32) # vector to capture shock (1=yes, 0=no)\n",
    "stimVec = np.zeros(len(scrVec), dtype=np.int32) # vector to capture stimulus (1=CS+, 2= CS-)\n",
    "\n",
    "for i, cond in enumerate(scrTwo['Condition'].values):\n",
    "  \n",
    "    if cond=='CSplusUS1':\n",
    "        shockVec[i]= 1\n",
    "        stimVec[i] = 1\n",
    "    else:\n",
    "        shockVec[i] = 0\n",
    "        if cond=='CSminus1':\n",
    "            stimVec[i] = 0\n",
    "        else:\n",
    "            stimVec[i] = 1\n",
    "# increase trial number\n",
    "print(shockVec.shape)\n",
    "print(stimVec.shape)\n",
    "shockVec[27] = 1 # add another"
   ]
  },
  {
   "cell_type": "code",
   "execution_count": 4,
   "id": "ab844ef2-946c-421d-ba9c-a5b7bfc6d4e8",
   "metadata": {},
   "outputs": [
    {
     "name": "stdout",
     "output_type": "stream",
     "text": [
      "[1 0 1 1 0 1 1 0 1 0 1 1 0 1 0 0 1 1 0 1 1 0 1 1 0 1 0 1 1 0]\n",
      "[1 0 0 1 0 0 0 0 1 0 1 0 0 0 0 0 0 1 0 0 0 0 0 1 0 0 0 1 0 0]\n"
     ]
    }
   ],
   "source": [
    "print(stimVec)\n",
    "print(shockVec[:])"
   ]
  },
  {
   "cell_type": "code",
   "execution_count": 5,
   "id": "a70e162c-a38e-4765-a5fd-99e4bdb96c68",
   "metadata": {},
   "outputs": [],
   "source": [
    "shockVec = np.hstack([shockVec] *1)\n",
    "stimVec = np.hstack([stimVec] * 1)"
   ]
  },
  {
   "cell_type": "code",
   "execution_count": 6,
   "id": "67f5cce5-4ec4-4152-a6a4-49f5184ab78b",
   "metadata": {},
   "outputs": [
    {
     "data": {
      "text/plain": [
       "[<matplotlib.lines.Line2D at 0x7fd85ec5f5d0>]"
      ]
     },
     "execution_count": 6,
     "metadata": {},
     "output_type": "execute_result"
    },
    {
     "data": {
      "image/png": "[encoded data removed]",
      "text/plain": [
       "<Figure size 432x288 with 1 Axes>"
      ]
     },
     "metadata": {
      "needs_background": "light"
     },
     "output_type": "display_data"
    }
   ],
   "source": [
    "plt.plot(scrVec)\n",
    "#plt.plot(stimVec)\n",
    "plt.plot(shockVec)"
   ]
  },
  {
   "cell_type": "markdown",
   "id": "7fd37887-b2c3-4dcc-bb26-5b4acb676c39",
   "metadata": {},
   "source": [
    "# Simulate SCR based on stimulus and shock"
   ]
  },
  {
   "cell_type": "markdown",
   "id": "6dfc912f-df9a-4f24-9b8f-b31ece9bd7dd",
   "metadata": {},
   "source": [
    "## do it to subjects and run model"
   ]
  },
  {
   "cell_type": "code",
   "execution_count": 7,
   "id": "8817fa90-3282-4973-a937-18b6f02b8b1d",
   "metadata": {},
   "outputs": [],
   "source": [
    "def simulateSCR(alpha, stimVec, shockVec, intercept, slope):\n",
    "    scrSim = np.zeros(len(stimVec))\n",
    "    scrCSp = 0.5\n",
    "    scrCSm = 0.5\n",
    "    # set intercept and slopes\n",
    "    for i,(s,t) in enumerate(zip(stimVec,shockVec)):\n",
    "        # print(i)\n",
    "        # print(f'Stim is {s}')\n",
    "        # print(f'Shock is{t}')\n",
    "        if s==1:      \n",
    "            pe = t - scrCSp   # prediction error\n",
    "            scrCSp = scrCSp + alpha*pe\n",
    "            scrSim[i] = scrCSp\n",
    "        if s==0:\n",
    "            pe = t - scrCSm   # prediction error\n",
    "            scrCSm = scrCSm + alpha*pe\n",
    "            scrSim[i] = scrCSm\n",
    "        # add intercept and slope\n",
    "        scrSim[i] = scrSim[i] + np.random.normal(0,.1) # add noise #\n",
    "        \n",
    "        scrSim[i] =  slope*scrSim[i]\n",
    "        \n",
    "    return scrSim"
   ]
  },
  {
   "cell_type": "code",
   "execution_count": 8,
   "id": "8ae9deb0-621c-4724-8634-ab61e014c576",
   "metadata": {},
   "outputs": [],
   "source": [
    "# generate 10 subjects with different alphas\n",
    "n_subj = 10 # number of subjects\n",
    "alphalist = []\n",
    "interceptList = []\n",
    "slopeList = []\n",
    "\n",
    "subjects = np.empty([shockVec.shape[0],n_subj]) # create an empty matrix of trials X subjects\n",
    "for i in np.arange(n_subj):\n",
    "   # print(i)\n",
    "    alpha = np.random.beta(a=1,b=1)\n",
    "    intercept = np.random.normal(0,1)\n",
    "    slope = np.random.normal(0,1)\n",
    "    subjects[:,i] = simulateSCR(alpha, stimVec, shockVec, intercept, slope)\n",
    "    alphalist.append(alpha)\n",
    "    interceptList.append(intercept)\n",
    "    slopeList.append(slope)"
   ]
  },
  {
   "cell_type": "code",
   "execution_count": null,
   "id": "47165d29-2897-4837-9b6c-360cc3265763",
   "metadata": {},
   "outputs": [],
   "source": [
    "subjects.shape"
   ]
  },
  {
   "cell_type": "markdown",
   "id": "558a804d-f380-4478-98a8-8b78a9716d13",
   "metadata": {},
   "source": [
    "# Test logp with MLE"
   ]
  },
  {
   "cell_type": "code",
   "execution_count": 9,
   "id": "aa5e61da-c1a7-45a1-9abc-a442de2ce7ba",
   "metadata": {},
   "outputs": [],
   "source": [
    "def llik_td(x, *args):\n",
    "    # Extract the arguments as they are passed by scipy.optimize.minimize\n",
    "    alpha, beta = x\n",
    "    stim, shock, scr  = args\n",
    "    \n",
    "    scrSim = np.zeros(len(stim))\n",
    "    scrCSp = 0.5\n",
    "    scrCSm = 0.5\n",
    "    # set intercept and slopes\n",
    "    for i,(s,t) in enumerate(zip(stim,shock)):\n",
    "       \n",
    "        if s==1:      \n",
    "            pe = t - scrCSp   # prediction error\n",
    "            scrCSp = scrCSp + alpha*pe\n",
    "            scrSim[i] = scrCSp\n",
    "        if s==0:\n",
    "            pe = t - scrCSm   # prediction error\n",
    "            scrCSm = scrCSm + alpha*pe\n",
    "            scrSim[i] = scrCSm\n",
    "        # add intercept and slope\n",
    "        scrSim[i] = scrSim[i] \n",
    "        \n",
    "        scrSim[i] =  beta*scrSim[i]\n",
    "   \n",
    "    scrPred = scrSim\n",
    "    # Calculate the log-likelihood for normal distribution\n",
    "    LL = np.sum(scipy.stats.norm.logpdf(scr, scrPred))\n",
    "    # Calculate the negative log-likelihood\n",
    "    neg_LL = -1*LL\n",
    "    return neg_LL \n",
    "    "
   ]
  },
  {
   "cell_type": "code",
   "execution_count": 10,
   "id": "97ec69d6-9d87-4401-abf7-622d2f6d2679",
   "metadata": {},
   "outputs": [
    {
     "name": "stdout",
     "output_type": "stream",
     "text": [
      "[ 0.79822986 -0.33271889]\n",
      "[ 0.66744936 -1.45219295]\n",
      "[0.64421757 0.40373949]\n",
      "[ 0.05625863 -0.74120759]\n",
      "[0.07103946 0.59139927]\n",
      "[ 0.32404807 -0.65034563]\n",
      "[ 0.13912691 -1.46790815]\n",
      "[ 0.84340441 -1.63192903]\n",
      "[ 0.59427852 -0.38197911]\n",
      "[ 0.34318776 -0.04747848]\n"
     ]
    }
   ],
   "source": [
    "logSub = []\n",
    "estLog = []\n",
    "for i in np.arange(n_subj):\n",
    "    x0 = [alphalist[i], slopeList[i]]\n",
    "    estLog.append(scipy.optimize.minimize(llik_td, x0, args=(stimVec,shockVec , subjects[:,i]), method='L-BFGS-B'))\n",
    "    print(estLog[i].x)"
   ]
  },
  {
   "cell_type": "code",
   "execution_count": 11,
   "id": "ecec04fe-76f8-4424-a801-d749983c4270",
   "metadata": {},
   "outputs": [
    {
     "data": {
      "text/plain": [
       "[0.8928877893034539,\n",
       " 0.6210780971322087,\n",
       " 0.6383316086564161,\n",
       " 0.07323156882205992,\n",
       " 0.038476693618789824,\n",
       " 0.26981999008054647,\n",
       " 0.15444770169353894,\n",
       " 0.9063246992312924,\n",
       " 0.6337869702026921,\n",
       " 0.34442128265592353]"
      ]
     },
     "execution_count": 11,
     "metadata": {},
     "output_type": "execute_result"
    }
   ],
   "source": [
    "alphalist"
   ]
  },
  {
   "cell_type": "code",
   "execution_count": null,
   "id": "6297f323-f2e7-442e-9e61-20c5bee7bbc3",
   "metadata": {},
   "outputs": [],
   "source": [
    "slopeList"
   ]
  },
  {
   "cell_type": "markdown",
   "id": "b3760fbe-fbe2-4437-bca2-223f466f9906",
   "metadata": {},
   "source": [
    "# Test the PyMC code"
   ]
  },
  {
   "cell_type": "code",
   "execution_count": 12,
   "id": "977cb1a9-ab18-41f6-8088-3def85995785",
   "metadata": {},
   "outputs": [],
   "source": [
    "#scrs = tt.zeros(30) # set empty scr tensor (vector)\n",
    "   \n",
    "# generate functions to run\n",
    "def update_Q(stim, shock,\n",
    "             Qs,vec,\n",
    "             alpha, n_subj):\n",
    "    \"\"\"\n",
    "    This function updates the Q table according to the RL update rule.\n",
    "    It will be called by theano.scan to do so recursevely, given the observed data and the alpha parameter\n",
    "    This could have been replaced be the following lamba expression in the theano.scan fn argument:\n",
    "        fn=lamba action, reward, Qs, alpha: tt.set_subtensor(Qs[action], Qs[action] + alpha * (reward - Qs[action]))\n",
    "    \"\"\"\n",
    "     \n",
    "    PE = shock - Qs[tt.arange(n_subj), stim]\n",
    "    Qs = tt.set_subtensor(Qs[tt.arange(n_subj),stim], Qs[tt.arange(n_subj),stim] + alpha * PE)\n",
    "    \n",
    "    # in order to get a vector of expected outcome (dependent on the stimulus presentes [CS+, CS-] \n",
    "    # we us if statement (switch in theano)\n",
    "    vec = tt.set_subtensor(vec[tt.arange(n_subj),0], (tt.switch(tt.eq(stim,1), \n",
    "                                                                Qs[tt.arange(n_subj),1], Qs[tt.arange(n_subj),0])))\n",
    "    \n",
    "    return Qs, vec\n",
    "\n",
    "def theano_llik_td(alpha,  stim, shock, n_subj):\n",
    "   # stim = theano.shared(np.asarray(stim, dtype='int16'))\n",
    "   # shock = theano.shared(np.asarray(shock, dtype='int16'))\n",
    "\n",
    "    # Compute the Qs values\n",
    "    Qs = 0.5 * tt.ones((n_subj,2), dtype='float64') # set values for boths stimuli (CS+, CS-)\n",
    "    vec = 0.5 * tt.ones((n_subj,1), dtype='float64') # vector to save the relevant stimulus's expactation\n",
    "    [Qs,vec], updates = theano.scan(\n",
    "        fn=update_Q,\n",
    "        sequences=[stim, shock],\n",
    "        outputs_info=[Qs, vec],\n",
    "        non_sequences=[alpha, n_subj])\n",
    "    \n",
    "   \n",
    "    return Qs, vec"
   ]
  },
  {
   "cell_type": "code",
   "execution_count": 13,
   "id": "5ed0afc1-64b2-4646-b706-bb177590cf36",
   "metadata": {},
   "outputs": [],
   "source": [
    "#subIDX = np.array(subIDX).flatten()\n",
    "n_subj = subjects.shape[1]\n",
    "n_trials=stimVec.shape[0]"
   ]
  },
  {
   "cell_type": "code",
   "execution_count": 14,
   "id": "8c96fb70-2e1e-4aee-9588-f40738cdf8f9",
   "metadata": {},
   "outputs": [],
   "source": [
    "trials, subj = np.meshgrid(range(n_trials), range(n_subj))\n",
    "trials = tt.as_tensor_variable(trials.T)\n",
    "subj = tt.as_tensor_variable(subj.T)\n"
   ]
  },
  {
   "cell_type": "code",
   "execution_count": 15,
   "id": "f16a724f-7825-4884-9c9c-35088b53e0af",
   "metadata": {},
   "outputs": [],
   "source": [
    "# organize the vectors to feed\n",
    "stim =np.reshape([stimVec]*n_subj, (n_subj,n_trials)).T # transform to matrix trials x subject\n",
    "shock = np.reshape([shockVec]*n_subj, (n_subj,n_trials)).T\n"
   ]
  },
  {
   "cell_type": "code",
   "execution_count": 16,
   "id": "54107a95-9d81-4854-913d-62829f3a9b53",
   "metadata": {},
   "outputs": [
    {
     "data": {
      "text/plain": [
       "10"
      ]
     },
     "execution_count": 16,
     "metadata": {},
     "output_type": "execute_result"
    }
   ],
   "source": [
    "n_subj"
   ]
  },
  {
   "cell_type": "code",
   "execution_count": 17,
   "id": "b8a0f0b9-a314-44ae-988d-6691c58f0c16",
   "metadata": {},
   "outputs": [],
   "source": [
    "# turn to tensores\n",
    "stim = tt.as_tensor_variable(stim)\n",
    "shock = tt.as_tensor_variable(shock)"
   ]
  },
  {
   "cell_type": "code",
   "execution_count": 18,
   "id": "7a5c3fd1-2331-4ba8-94ca-4fb61f52695c",
   "metadata": {},
   "outputs": [],
   "source": [
    "# test the function first\n",
    "results, vec = theano_llik_td(alphalist,stim, shock, n_subj)"
   ]
  },
  {
   "cell_type": "code",
   "execution_count": 19,
   "id": "fcc670e5-e382-43fc-b6ce-dd99c305c762",
   "metadata": {},
   "outputs": [
    {
     "data": {
      "text/plain": [
       "(30, 10, 1)"
      ]
     },
     "execution_count": 19,
     "metadata": {},
     "output_type": "execute_result"
    }
   ],
   "source": [
    "vec.eval().shape"
   ]
  },
  {
   "cell_type": "markdown",
   "id": "8aa86e78-0fe7-47ba-984f-c549d411cc4a",
   "metadata": {},
   "source": [
    "# Now Comparing Different Models\n",
    "- Now we can test which of the models recovers the known $\\alpha$ from the data"
   ]
  },
  {
   "cell_type": "code",
   "execution_count": 20,
   "id": "70f05a6c-0814-4f5c-9813-e2845e279efe",
   "metadata": {
    "tags": []
   },
   "outputs": [
    {
     "name": "stderr",
     "output_type": "stream",
     "text": [
      "Auto-assigning NUTS sampler...\n",
      "Initializing NUTS using jitter+adapt_diag...\n",
      "Multiprocess sampling (4 chains in 10 jobs)\n",
      "NUTS: [eps, beta, alpha]\n"
     ]
    },
    {
     "data": {
      "text/html": [
       "\n",
       "    <div>\n",
       "        <style>\n",
       "            /* Turns off some styling */\n",
       "            progress {\n",
       "                /* gets rid of default border in Firefox and Opera. */\n",
       "                border: none;\n",
       "                /* Needs to be in here for Safari polyfill so background images work as expected. */\n",
       "                background-size: auto;\n",
       "            }\n",
       "            .progress-bar-interrupted, .progress-bar-interrupted::-webkit-progress-bar {\n",
       "                background: #F44336;\n",
       "            }\n",
       "        </style>\n",
       "      <progress value='8000' class='' max='8000' style='width:300px; height:20px; vertical-align: middle;'></progress>\n",
       "      100.00% [8000/8000 01:29<00:00 Sampling 4 chains, 0 divergences]\n",
       "    </div>\n",
       "    "
      ],
      "text/plain": [
       "<IPython.core.display.HTML object>"
      ]
     },
     "metadata": {},
     "output_type": "display_data"
    },
    {
     "name": "stderr",
     "output_type": "stream",
     "text": [
      "Sampling 4 chains for 1_000 tune and 1_000 draw iterations (4_000 + 4_000 draws total) took 90 seconds.\n"
     ]
    }
   ],
   "source": [
    "# try alpha as beta distribution\n",
    "with pm.Model() as mB:\n",
    "    \n",
    "   # betaHyper= pm.Normal('betaH', 0, 1)\n",
    "    alpha = pm.Beta('alpha', 1,1, shape=n_subj)\n",
    "    beta = pm.Normal('beta',0, 1, shape=n_subj)\n",
    "    eps = pm.HalfNormal('eps', 5)\n",
    "    \n",
    "    Qs = 0.5 * tt.ones((n_subj,2), dtype='float64') # set values for boths stimuli (CS+, CS-)\n",
    "    vec = 0.5 * tt.ones((n_subj,1), dtype='float64') # vector to save the relevant stimulus's expactation\n",
    "    \n",
    "    [Qs,vec], updates = theano.scan(\n",
    "        fn=update_Q,\n",
    "        sequences=[stim, shock],\n",
    "        outputs_info=[Qs, vec],\n",
    "        non_sequences=[alpha, n_subj])\n",
    "   \n",
    "    \n",
    "    vec_ = vec[trials, subj,0] * beta[subj]\n",
    "    \n",
    "    scrs = pm.Normal('scrs', vec_, eps, observed=subjects) \n",
    "    \n",
    "    trB = pm.sample(target_accept=.9, chains=4, cores=10, return_inferencedata=True)"
   ]
  },
  {
   "cell_type": "code",
   "execution_count": 22,
   "id": "0f990f23-9cf3-473e-aec3-84b81567268e",
   "metadata": {},
   "outputs": [
    {
     "data": {
      "text/html": [
       "<div>\n",
       "<style scoped>\n",
       "    .dataframe tbody tr th:only-of-type {\n",
       "        vertical-align: middle;\n",
       "    }\n",
       "\n",
       "    .dataframe tbody tr th {\n",
       "        vertical-align: top;\n",
       "    }\n",
       "\n",
       "    .dataframe thead th {\n",
       "        text-align: right;\n",
       "    }\n",
       "</style>\n",
       "<table border=\"1\" class=\"dataframe\">\n",
       "  <thead>\n",
       "    <tr style=\"text-align: right;\">\n",
       "      <th></th>\n",
       "      <th>mean</th>\n",
       "      <th>sd</th>\n",
       "      <th>hdi_3%</th>\n",
       "      <th>hdi_97%</th>\n",
       "      <th>mcse_mean</th>\n",
       "      <th>mcse_sd</th>\n",
       "      <th>ess_bulk</th>\n",
       "      <th>ess_tail</th>\n",
       "      <th>r_hat</th>\n",
       "    </tr>\n",
       "  </thead>\n",
       "  <tbody>\n",
       "    <tr>\n",
       "      <th>alpha[0]</th>\n",
       "      <td>0.789</td>\n",
       "      <td>0.097</td>\n",
       "      <td>0.617</td>\n",
       "      <td>0.969</td>\n",
       "      <td>0.002</td>\n",
       "      <td>0.001</td>\n",
       "      <td>3364.0</td>\n",
       "      <td>1888.0</td>\n",
       "      <td>1.0</td>\n",
       "    </tr>\n",
       "    <tr>\n",
       "      <th>alpha[1]</th>\n",
       "      <td>0.668</td>\n",
       "      <td>0.024</td>\n",
       "      <td>0.623</td>\n",
       "      <td>0.711</td>\n",
       "      <td>0.000</td>\n",
       "      <td>0.000</td>\n",
       "      <td>3705.0</td>\n",
       "      <td>3014.0</td>\n",
       "      <td>1.0</td>\n",
       "    </tr>\n",
       "    <tr>\n",
       "      <th>alpha[2]</th>\n",
       "      <td>0.642</td>\n",
       "      <td>0.093</td>\n",
       "      <td>0.471</td>\n",
       "      <td>0.825</td>\n",
       "      <td>0.002</td>\n",
       "      <td>0.001</td>\n",
       "      <td>3742.0</td>\n",
       "      <td>2237.0</td>\n",
       "      <td>1.0</td>\n",
       "    </tr>\n",
       "    <tr>\n",
       "      <th>alpha[3]</th>\n",
       "      <td>0.058</td>\n",
       "      <td>0.015</td>\n",
       "      <td>0.031</td>\n",
       "      <td>0.089</td>\n",
       "      <td>0.000</td>\n",
       "      <td>0.000</td>\n",
       "      <td>3892.0</td>\n",
       "      <td>2246.0</td>\n",
       "      <td>1.0</td>\n",
       "    </tr>\n",
       "    <tr>\n",
       "      <th>alpha[4]</th>\n",
       "      <td>0.074</td>\n",
       "      <td>0.024</td>\n",
       "      <td>0.031</td>\n",
       "      <td>0.119</td>\n",
       "      <td>0.000</td>\n",
       "      <td>0.000</td>\n",
       "      <td>2559.0</td>\n",
       "      <td>1464.0</td>\n",
       "      <td>1.0</td>\n",
       "    </tr>\n",
       "    <tr>\n",
       "      <th>alpha[5]</th>\n",
       "      <td>0.330</td>\n",
       "      <td>0.052</td>\n",
       "      <td>0.240</td>\n",
       "      <td>0.428</td>\n",
       "      <td>0.001</td>\n",
       "      <td>0.001</td>\n",
       "      <td>5207.0</td>\n",
       "      <td>2934.0</td>\n",
       "      <td>1.0</td>\n",
       "    </tr>\n",
       "    <tr>\n",
       "      <th>alpha[6]</th>\n",
       "      <td>0.140</td>\n",
       "      <td>0.013</td>\n",
       "      <td>0.116</td>\n",
       "      <td>0.164</td>\n",
       "      <td>0.000</td>\n",
       "      <td>0.000</td>\n",
       "      <td>4534.0</td>\n",
       "      <td>3316.0</td>\n",
       "      <td>1.0</td>\n",
       "    </tr>\n",
       "    <tr>\n",
       "      <th>alpha[7]</th>\n",
       "      <td>0.844</td>\n",
       "      <td>0.021</td>\n",
       "      <td>0.804</td>\n",
       "      <td>0.881</td>\n",
       "      <td>0.000</td>\n",
       "      <td>0.000</td>\n",
       "      <td>2971.0</td>\n",
       "      <td>2481.0</td>\n",
       "      <td>1.0</td>\n",
       "    </tr>\n",
       "    <tr>\n",
       "      <th>alpha[8]</th>\n",
       "      <td>0.595</td>\n",
       "      <td>0.101</td>\n",
       "      <td>0.394</td>\n",
       "      <td>0.774</td>\n",
       "      <td>0.002</td>\n",
       "      <td>0.001</td>\n",
       "      <td>3890.0</td>\n",
       "      <td>2460.0</td>\n",
       "      <td>1.0</td>\n",
       "    </tr>\n",
       "    <tr>\n",
       "      <th>alpha[9]</th>\n",
       "      <td>0.484</td>\n",
       "      <td>0.269</td>\n",
       "      <td>0.001</td>\n",
       "      <td>0.916</td>\n",
       "      <td>0.004</td>\n",
       "      <td>0.003</td>\n",
       "      <td>5041.0</td>\n",
       "      <td>2403.0</td>\n",
       "      <td>1.0</td>\n",
       "    </tr>\n",
       "  </tbody>\n",
       "</table>\n",
       "</div>"
      ],
      "text/plain": [
       "           mean     sd  hdi_3%  hdi_97%  mcse_mean  mcse_sd  ess_bulk  \\\n",
       "alpha[0]  0.789  0.097   0.617    0.969      0.002    0.001    3364.0   \n",
       "alpha[1]  0.668  0.024   0.623    0.711      0.000    0.000    3705.0   \n",
       "alpha[2]  0.642  0.093   0.471    0.825      0.002    0.001    3742.0   \n",
       "alpha[3]  0.058  0.015   0.031    0.089      0.000    0.000    3892.0   \n",
       "alpha[4]  0.074  0.024   0.031    0.119      0.000    0.000    2559.0   \n",
       "alpha[5]  0.330  0.052   0.240    0.428      0.001    0.001    5207.0   \n",
       "alpha[6]  0.140  0.013   0.116    0.164      0.000    0.000    4534.0   \n",
       "alpha[7]  0.844  0.021   0.804    0.881      0.000    0.000    2971.0   \n",
       "alpha[8]  0.595  0.101   0.394    0.774      0.002    0.001    3890.0   \n",
       "alpha[9]  0.484  0.269   0.001    0.916      0.004    0.003    5041.0   \n",
       "\n",
       "          ess_tail  r_hat  \n",
       "alpha[0]    1888.0    1.0  \n",
       "alpha[1]    3014.0    1.0  \n",
       "alpha[2]    2237.0    1.0  \n",
       "alpha[3]    2246.0    1.0  \n",
       "alpha[4]    1464.0    1.0  \n",
       "alpha[5]    2934.0    1.0  \n",
       "alpha[6]    3316.0    1.0  \n",
       "alpha[7]    2481.0    1.0  \n",
       "alpha[8]    2460.0    1.0  \n",
       "alpha[9]    2403.0    1.0  "
      ]
     },
     "execution_count": 22,
     "metadata": {},
     "output_type": "execute_result"
    }
   ],
   "source": [
    "az.summary(trB, var_names='alpha')"
   ]
  },
  {
   "cell_type": "code",
   "execution_count": 23,
   "id": "1a264a4d-6ae4-40d5-804e-8a9f5e08489a",
   "metadata": {},
   "outputs": [
    {
     "data": {
      "text/plain": [
       "[0.8928877893034539,\n",
       " 0.6210780971322087,\n",
       " 0.6383316086564161,\n",
       " 0.07323156882205992,\n",
       " 0.038476693618789824,\n",
       " 0.26981999008054647,\n",
       " 0.15444770169353894,\n",
       " 0.9063246992312924,\n",
       " 0.6337869702026921,\n",
       " 0.34442128265592353]"
      ]
     },
     "execution_count": 23,
     "metadata": {},
     "output_type": "execute_result"
    }
   ],
   "source": [
    "#slopeList\n",
    "alphalist"
   ]
  },
  {
   "cell_type": "code",
   "execution_count": null,
   "id": "3cf5497f-d6de-45fb-8804-cd9aa890e1bf",
   "metadata": {},
   "outputs": [],
   "source": [
    "az.plot_trace(trB)"
   ]
  },
  {
   "cell_type": "markdown",
   "id": "bb6174f5-f6fd-46b3-b09f-90e1f9ef9515",
   "metadata": {},
   "source": [
    "## Recovering ok but not perfect\n",
    "- When using 60 trials - recover is much better\n",
    "- Lets add hierarchy to see how helpful this can be"
   ]
  },
  {
   "cell_type": "code",
   "execution_count": 24,
   "id": "f00ba6d3-a134-4e04-93a1-7656ffe18f31",
   "metadata": {
    "tags": []
   },
   "outputs": [
    {
     "name": "stderr",
     "output_type": "stream",
     "text": [
      "Auto-assigning NUTS sampler...\n",
      "Initializing NUTS using jitter+adapt_diag...\n",
      "Multiprocess sampling (4 chains in 8 jobs)\n",
      "NUTS: [eps, beta, alpha, alpha_sigma, alpha_h]\n"
     ]
    },
    {
     "data": {
      "text/html": [
       "\n",
       "    <div>\n",
       "        <style>\n",
       "            /* Turns off some styling */\n",
       "            progress {\n",
       "                /* gets rid of default border in Firefox and Opera. */\n",
       "                border: none;\n",
       "                /* Needs to be in here for Safari polyfill so background images work as expected. */\n",
       "                background-size: auto;\n",
       "            }\n",
       "            .progress-bar-interrupted, .progress-bar-interrupted::-webkit-progress-bar {\n",
       "                background: #F44336;\n",
       "            }\n",
       "        </style>\n",
       "      <progress value='8000' class='' max='8000' style='width:300px; height:20px; vertical-align: middle;'></progress>\n",
       "      100.00% [8000/8000 01:25<00:00 Sampling 4 chains, 9 divergences]\n",
       "    </div>\n",
       "    "
      ],
      "text/plain": [
       "<IPython.core.display.HTML object>"
      ]
     },
     "metadata": {},
     "output_type": "display_data"
    },
    {
     "name": "stderr",
     "output_type": "stream",
     "text": [
      "Sampling 4 chains for 1_000 tune and 1_000 draw iterations (4_000 + 4_000 draws total) took 85 seconds.\n",
      "There were 5 divergences after tuning. Increase `target_accept` or reparameterize.\n",
      "There was 1 divergence after tuning. Increase `target_accept` or reparameterize.\n",
      "There were 3 divergences after tuning. Increase `target_accept` or reparameterize.\n"
     ]
    }
   ],
   "source": [
    "# try alpha as beta distribution\n",
    "with pm.Model() as m_H:\n",
    "    \n",
    "    #betaHyper= pm.Normal('betaH', 0, 1)\n",
    "    alpha_h = pm.Beta('alpha_h', 1,1)\n",
    "    alpha_sigma = pm.HalfNormal('alpha_sigma', .1)\n",
    "    alpha = pm.Normal('alpha', alpha_h , alpha_sigma, shape=n_subj)\n",
    "    \n",
    "    beta = pm.Normal('beta',0, 1, shape=n_subj)\n",
    "    eps = pm.HalfNormal('eps', 5)\n",
    "    \n",
    "    Qs = 0.5 * tt.ones((n_subj,2), dtype='float64') # set values for boths stimuli (CS+, CS-)\n",
    "    vec0 = 0.5 * tt.ones((n_subj,1), dtype='float64') # vector to save the relevant stimulus's expactation\n",
    "    \n",
    "    [Qs,vec], updates = theano.scan(\n",
    "        fn=update_Q,\n",
    "        sequences=[stim, shock],\n",
    "        outputs_info=[Qs, vec0],\n",
    "        non_sequences=[alpha, n_subj])\n",
    "   \n",
    "     \n",
    "    vec_ = vec[trials, subj,0] * beta[subj]\n",
    "    \n",
    "    scrs = pm.Normal('scrs', vec_, eps, observed=subjects) \n",
    "    \n",
    "    \n",
    "    tr_h = pm.sample(target_accept=.9, chains=4, cores=8, return_inferencedata=True)"
   ]
  },
  {
   "cell_type": "code",
   "execution_count": 26,
   "id": "5ef6c797-263c-47a2-807d-eb2f331812fe",
   "metadata": {},
   "outputs": [
    {
     "data": {
      "text/html": [
       "<div>\n",
       "<style scoped>\n",
       "    .dataframe tbody tr th:only-of-type {\n",
       "        vertical-align: middle;\n",
       "    }\n",
       "\n",
       "    .dataframe tbody tr th {\n",
       "        vertical-align: top;\n",
       "    }\n",
       "\n",
       "    .dataframe thead th {\n",
       "        text-align: right;\n",
       "    }\n",
       "</style>\n",
       "<table border=\"1\" class=\"dataframe\">\n",
       "  <thead>\n",
       "    <tr style=\"text-align: right;\">\n",
       "      <th></th>\n",
       "      <th>mean</th>\n",
       "      <th>sd</th>\n",
       "      <th>hdi_3%</th>\n",
       "      <th>hdi_97%</th>\n",
       "      <th>mcse_mean</th>\n",
       "      <th>mcse_sd</th>\n",
       "      <th>ess_bulk</th>\n",
       "      <th>ess_tail</th>\n",
       "      <th>r_hat</th>\n",
       "    </tr>\n",
       "  </thead>\n",
       "  <tbody>\n",
       "    <tr>\n",
       "      <th>alpha[0]</th>\n",
       "      <td>0.738</td>\n",
       "      <td>0.095</td>\n",
       "      <td>0.563</td>\n",
       "      <td>0.926</td>\n",
       "      <td>0.002</td>\n",
       "      <td>0.001</td>\n",
       "      <td>3913.0</td>\n",
       "      <td>2981.0</td>\n",
       "      <td>1.0</td>\n",
       "    </tr>\n",
       "    <tr>\n",
       "      <th>alpha[1]</th>\n",
       "      <td>0.666</td>\n",
       "      <td>0.024</td>\n",
       "      <td>0.622</td>\n",
       "      <td>0.710</td>\n",
       "      <td>0.000</td>\n",
       "      <td>0.000</td>\n",
       "      <td>4712.0</td>\n",
       "      <td>3307.0</td>\n",
       "      <td>1.0</td>\n",
       "    </tr>\n",
       "    <tr>\n",
       "      <th>alpha[2]</th>\n",
       "      <td>0.616</td>\n",
       "      <td>0.088</td>\n",
       "      <td>0.452</td>\n",
       "      <td>0.784</td>\n",
       "      <td>0.001</td>\n",
       "      <td>0.001</td>\n",
       "      <td>4114.0</td>\n",
       "      <td>3236.0</td>\n",
       "      <td>1.0</td>\n",
       "    </tr>\n",
       "    <tr>\n",
       "      <th>alpha[3]</th>\n",
       "      <td>0.059</td>\n",
       "      <td>0.016</td>\n",
       "      <td>0.030</td>\n",
       "      <td>0.089</td>\n",
       "      <td>0.000</td>\n",
       "      <td>0.000</td>\n",
       "      <td>3290.0</td>\n",
       "      <td>2795.0</td>\n",
       "      <td>1.0</td>\n",
       "    </tr>\n",
       "    <tr>\n",
       "      <th>alpha[4]</th>\n",
       "      <td>0.078</td>\n",
       "      <td>0.023</td>\n",
       "      <td>0.033</td>\n",
       "      <td>0.121</td>\n",
       "      <td>0.000</td>\n",
       "      <td>0.000</td>\n",
       "      <td>3086.0</td>\n",
       "      <td>2557.0</td>\n",
       "      <td>1.0</td>\n",
       "    </tr>\n",
       "    <tr>\n",
       "      <th>alpha[5]</th>\n",
       "      <td>0.334</td>\n",
       "      <td>0.050</td>\n",
       "      <td>0.240</td>\n",
       "      <td>0.422</td>\n",
       "      <td>0.001</td>\n",
       "      <td>0.001</td>\n",
       "      <td>4914.0</td>\n",
       "      <td>3195.0</td>\n",
       "      <td>1.0</td>\n",
       "    </tr>\n",
       "    <tr>\n",
       "      <th>alpha[6]</th>\n",
       "      <td>0.140</td>\n",
       "      <td>0.013</td>\n",
       "      <td>0.116</td>\n",
       "      <td>0.164</td>\n",
       "      <td>0.000</td>\n",
       "      <td>0.000</td>\n",
       "      <td>4701.0</td>\n",
       "      <td>2942.0</td>\n",
       "      <td>1.0</td>\n",
       "    </tr>\n",
       "    <tr>\n",
       "      <th>alpha[7]</th>\n",
       "      <td>0.841</td>\n",
       "      <td>0.021</td>\n",
       "      <td>0.804</td>\n",
       "      <td>0.882</td>\n",
       "      <td>0.000</td>\n",
       "      <td>0.000</td>\n",
       "      <td>3239.0</td>\n",
       "      <td>2868.0</td>\n",
       "      <td>1.0</td>\n",
       "    </tr>\n",
       "    <tr>\n",
       "      <th>alpha[8]</th>\n",
       "      <td>0.576</td>\n",
       "      <td>0.094</td>\n",
       "      <td>0.399</td>\n",
       "      <td>0.750</td>\n",
       "      <td>0.002</td>\n",
       "      <td>0.001</td>\n",
       "      <td>3914.0</td>\n",
       "      <td>3046.0</td>\n",
       "      <td>1.0</td>\n",
       "    </tr>\n",
       "    <tr>\n",
       "      <th>alpha[9]</th>\n",
       "      <td>0.444</td>\n",
       "      <td>0.225</td>\n",
       "      <td>0.037</td>\n",
       "      <td>0.861</td>\n",
       "      <td>0.004</td>\n",
       "      <td>0.003</td>\n",
       "      <td>3448.0</td>\n",
       "      <td>2795.0</td>\n",
       "      <td>1.0</td>\n",
       "    </tr>\n",
       "  </tbody>\n",
       "</table>\n",
       "</div>"
      ],
      "text/plain": [
       "           mean     sd  hdi_3%  hdi_97%  mcse_mean  mcse_sd  ess_bulk  \\\n",
       "alpha[0]  0.738  0.095   0.563    0.926      0.002    0.001    3913.0   \n",
       "alpha[1]  0.666  0.024   0.622    0.710      0.000    0.000    4712.0   \n",
       "alpha[2]  0.616  0.088   0.452    0.784      0.001    0.001    4114.0   \n",
       "alpha[3]  0.059  0.016   0.030    0.089      0.000    0.000    3290.0   \n",
       "alpha[4]  0.078  0.023   0.033    0.121      0.000    0.000    3086.0   \n",
       "alpha[5]  0.334  0.050   0.240    0.422      0.001    0.001    4914.0   \n",
       "alpha[6]  0.140  0.013   0.116    0.164      0.000    0.000    4701.0   \n",
       "alpha[7]  0.841  0.021   0.804    0.882      0.000    0.000    3239.0   \n",
       "alpha[8]  0.576  0.094   0.399    0.750      0.002    0.001    3914.0   \n",
       "alpha[9]  0.444  0.225   0.037    0.861      0.004    0.003    3448.0   \n",
       "\n",
       "          ess_tail  r_hat  \n",
       "alpha[0]    2981.0    1.0  \n",
       "alpha[1]    3307.0    1.0  \n",
       "alpha[2]    3236.0    1.0  \n",
       "alpha[3]    2795.0    1.0  \n",
       "alpha[4]    2557.0    1.0  \n",
       "alpha[5]    3195.0    1.0  \n",
       "alpha[6]    2942.0    1.0  \n",
       "alpha[7]    2868.0    1.0  \n",
       "alpha[8]    3046.0    1.0  \n",
       "alpha[9]    2795.0    1.0  "
      ]
     },
     "execution_count": 26,
     "metadata": {},
     "output_type": "execute_result"
    }
   ],
   "source": [
    "az.summary(tr_h, var_names='alpha')"
   ]
  },
  {
   "cell_type": "code",
   "execution_count": 27,
   "id": "bd81e7a1-83de-4e1e-a863-57edefd6a73d",
   "metadata": {},
   "outputs": [
    {
     "name": "stderr",
     "output_type": "stream",
     "text": [
      "/home/or/miniconda3/envs/neuroAnalysis/lib/python3.7/site-packages/arviz/stats/stats.py:695: UserWarning: Estimated shape parameter of Pareto distribution is greater than 0.7 for one or more samples. You should consider using a more robust model, this is because importance sampling is less likely to work well if the marginal posterior and LOO posterior are very different. This is more likely to happen with a non-robust model and highly influential observations.\n",
      "  \"Estimated shape parameter of Pareto distribution is greater than 0.7 for \"\n"
     ]
    },
    {
     "data": {
      "text/html": [
       "<div>\n",
       "<style scoped>\n",
       "    .dataframe tbody tr th:only-of-type {\n",
       "        vertical-align: middle;\n",
       "    }\n",
       "\n",
       "    .dataframe tbody tr th {\n",
       "        vertical-align: top;\n",
       "    }\n",
       "\n",
       "    .dataframe thead th {\n",
       "        text-align: right;\n",
       "    }\n",
       "</style>\n",
       "<table border=\"1\" class=\"dataframe\">\n",
       "  <thead>\n",
       "    <tr style=\"text-align: right;\">\n",
       "      <th></th>\n",
       "      <th>rank</th>\n",
       "      <th>loo</th>\n",
       "      <th>p_loo</th>\n",
       "      <th>d_loo</th>\n",
       "      <th>weight</th>\n",
       "      <th>se</th>\n",
       "      <th>dse</th>\n",
       "      <th>warning</th>\n",
       "      <th>loo_scale</th>\n",
       "    </tr>\n",
       "  </thead>\n",
       "  <tbody>\n",
       "    <tr>\n",
       "      <th>model2</th>\n",
       "      <td>0</td>\n",
       "      <td>312.632657</td>\n",
       "      <td>22.875316</td>\n",
       "      <td>0.000000</td>\n",
       "      <td>1.0</td>\n",
       "      <td>18.860148</td>\n",
       "      <td>0.000000</td>\n",
       "      <td>True</td>\n",
       "      <td>log</td>\n",
       "    </tr>\n",
       "    <tr>\n",
       "      <th>model1</th>\n",
       "      <td>1</td>\n",
       "      <td>312.554419</td>\n",
       "      <td>23.095167</td>\n",
       "      <td>0.078238</td>\n",
       "      <td>0.0</td>\n",
       "      <td>18.873842</td>\n",
       "      <td>0.387287</td>\n",
       "      <td>False</td>\n",
       "      <td>log</td>\n",
       "    </tr>\n",
       "  </tbody>\n",
       "</table>\n",
       "</div>"
      ],
      "text/plain": [
       "        rank         loo      p_loo     d_loo  weight         se       dse  \\\n",
       "model2     0  312.632657  22.875316  0.000000     1.0  18.860148  0.000000   \n",
       "model1     1  312.554419  23.095167  0.078238     0.0  18.873842  0.387287   \n",
       "\n",
       "        warning loo_scale  \n",
       "model2     True       log  \n",
       "model1    False       log  "
      ]
     },
     "execution_count": 27,
     "metadata": {},
     "output_type": "execute_result"
    }
   ],
   "source": [
    "az.compare({'model1':trB, 'model2':tr_h}, ic='loo')"
   ]
  },
  {
   "cell_type": "markdown",
   "id": "6d11aa3b-cc97-4ee5-b3c4-fd1988c5a903",
   "metadata": {},
   "source": [
    "## Use both $\\alpha$ and $\\beta$ as pooled"
   ]
  },
  {
   "cell_type": "code",
   "execution_count": 66,
   "id": "a9a2a937-86b3-4f82-922a-958323207294",
   "metadata": {},
   "outputs": [
    {
     "name": "stderr",
     "output_type": "stream",
     "text": [
      "Auto-assigning NUTS sampler...\n",
      "Initializing NUTS using jitter+adapt_diag...\n",
      "Multiprocess sampling (4 chains in 8 jobs)\n",
      "NUTS: [eps, beta, beta_sd, beta_h, alpha, kappa_log, phi]\n"
     ]
    },
    {
     "data": {
      "text/html": [
       "\n",
       "    <div>\n",
       "        <style>\n",
       "            /* Turns off some styling */\n",
       "            progress {\n",
       "                /* gets rid of default border in Firefox and Opera. */\n",
       "                border: none;\n",
       "                /* Needs to be in here for Safari polyfill so background images work as expected. */\n",
       "                background-size: auto;\n",
       "            }\n",
       "            .progress-bar-interrupted, .progress-bar-interrupted::-webkit-progress-bar {\n",
       "                background: #F44336;\n",
       "            }\n",
       "        </style>\n",
       "      <progress value='8000' class='' max='8000' style='width:300px; height:20px; vertical-align: middle;'></progress>\n",
       "      100.00% [8000/8000 01:58<00:00 Sampling 4 chains, 0 divergences]\n",
       "    </div>\n",
       "    "
      ],
      "text/plain": [
       "<IPython.core.display.HTML object>"
      ]
     },
     "metadata": {},
     "output_type": "display_data"
    },
    {
     "name": "stderr",
     "output_type": "stream",
     "text": [
      "Sampling 4 chains for 1_000 tune and 1_000 draw iterations (4_000 + 4_000 draws total) took 118 seconds.\n"
     ]
    }
   ],
   "source": [
    "# try alpha as beta distribution\n",
    "with pm.Model() as m_H:\n",
    "    \n",
    "    #betaHyper= pm.Normal('betaH', 0, 1)\n",
    "    # alpha_h = pm.Beta('alpha_h', 1,1)\n",
    "    # alpha_sigma = pm.HalfNormal('alpha_sigma', .1)\n",
    "    # alpha = pm.Normal('alpha', alpha_h , alpha_sigma, shape=n_subj)\n",
    "    # try something here\n",
    "    phi = pm.Uniform(\"phi\", lower=0.0, upper=1.0)\n",
    "\n",
    "    kappa_log = pm.Exponential(\"kappa_log\", lam=1.5)\n",
    "    kappa = pm.Deterministic(\"kappa\", tt.exp(kappa_log))\n",
    "\n",
    "    alpha = pm.Beta(\"alpha\", alpha=phi * kappa, beta=(1.0 - phi) * kappa, shape=n_subj)\n",
    "    \n",
    "    \n",
    "    beta_h = pm.Normal('beta_h', 0,1)\n",
    "    beta_sd = pm.HalfNormal('beta_sd', 1)\n",
    "    beta = pm.Normal('beta',beta_h, beta_sd, shape=n_subj)\n",
    "       \n",
    "    eps = pm.HalfNormal('eps', 5)\n",
    "    \n",
    "    Qs = 0.5 * tt.ones((n_subj,2), dtype='float64') # set values for boths stimuli (CS+, CS-)\n",
    "    vec0 = 0.5 * tt.ones((n_subj,1), dtype='float64') # vector to save the relevant stimulus's expactation\n",
    "    \n",
    "    [Qs,vec], updates = theano.scan(\n",
    "        fn=update_Q,\n",
    "        sequences=[stim, shock],\n",
    "        outputs_info=[Qs, vec0],\n",
    "        non_sequences=[alpha, n_subj])\n",
    "   \n",
    "     \n",
    "    vec_ = vec[trials, subj,0] * beta[subj]\n",
    "    \n",
    "    scrs = pm.Normal('scrs', vec_, eps, observed=subjects) \n",
    "    \n",
    "    \n",
    "    tr_hB = pm.sample(target_accept=.9, chains=4, cores=8, return_inferencedata=True)"
   ]
  },
  {
   "cell_type": "code",
   "execution_count": 70,
   "id": "19376a75-bd99-4c9b-ba96-68b094f48df5",
   "metadata": {},
   "outputs": [
    {
     "data": {
      "text/html": [
       "<div>\n",
       "<style scoped>\n",
       "    .dataframe tbody tr th:only-of-type {\n",
       "        vertical-align: middle;\n",
       "    }\n",
       "\n",
       "    .dataframe tbody tr th {\n",
       "        vertical-align: top;\n",
       "    }\n",
       "\n",
       "    .dataframe thead th {\n",
       "        text-align: right;\n",
       "    }\n",
       "</style>\n",
       "<table border=\"1\" class=\"dataframe\">\n",
       "  <thead>\n",
       "    <tr style=\"text-align: right;\">\n",
       "      <th></th>\n",
       "      <th>mean</th>\n",
       "      <th>sd</th>\n",
       "      <th>hdi_3%</th>\n",
       "      <th>hdi_97%</th>\n",
       "      <th>mcse_mean</th>\n",
       "      <th>mcse_sd</th>\n",
       "      <th>ess_bulk</th>\n",
       "      <th>ess_tail</th>\n",
       "      <th>r_hat</th>\n",
       "    </tr>\n",
       "  </thead>\n",
       "  <tbody>\n",
       "    <tr>\n",
       "      <th>beta[0]</th>\n",
       "      <td>-0.333</td>\n",
       "      <td>0.041</td>\n",
       "      <td>-0.405</td>\n",
       "      <td>-0.251</td>\n",
       "      <td>0.001</td>\n",
       "      <td>0.001</td>\n",
       "      <td>3115.0</td>\n",
       "      <td>2957.0</td>\n",
       "      <td>1.0</td>\n",
       "    </tr>\n",
       "    <tr>\n",
       "      <th>beta[1]</th>\n",
       "      <td>-1.449</td>\n",
       "      <td>0.043</td>\n",
       "      <td>-1.532</td>\n",
       "      <td>-1.371</td>\n",
       "      <td>0.001</td>\n",
       "      <td>0.000</td>\n",
       "      <td>4367.0</td>\n",
       "      <td>3134.0</td>\n",
       "      <td>1.0</td>\n",
       "    </tr>\n",
       "    <tr>\n",
       "      <th>beta[2]</th>\n",
       "      <td>0.399</td>\n",
       "      <td>0.043</td>\n",
       "      <td>0.311</td>\n",
       "      <td>0.473</td>\n",
       "      <td>0.001</td>\n",
       "      <td>0.001</td>\n",
       "      <td>3669.0</td>\n",
       "      <td>2216.0</td>\n",
       "      <td>1.0</td>\n",
       "    </tr>\n",
       "    <tr>\n",
       "      <th>beta[3]</th>\n",
       "      <td>-0.742</td>\n",
       "      <td>0.043</td>\n",
       "      <td>-0.827</td>\n",
       "      <td>-0.664</td>\n",
       "      <td>0.001</td>\n",
       "      <td>0.000</td>\n",
       "      <td>4311.0</td>\n",
       "      <td>3113.0</td>\n",
       "      <td>1.0</td>\n",
       "    </tr>\n",
       "    <tr>\n",
       "      <th>beta[4]</th>\n",
       "      <td>0.588</td>\n",
       "      <td>0.044</td>\n",
       "      <td>0.509</td>\n",
       "      <td>0.673</td>\n",
       "      <td>0.001</td>\n",
       "      <td>0.001</td>\n",
       "      <td>3603.0</td>\n",
       "      <td>2334.0</td>\n",
       "      <td>1.0</td>\n",
       "    </tr>\n",
       "    <tr>\n",
       "      <th>beta[5]</th>\n",
       "      <td>-0.645</td>\n",
       "      <td>0.044</td>\n",
       "      <td>-0.724</td>\n",
       "      <td>-0.562</td>\n",
       "      <td>0.001</td>\n",
       "      <td>0.000</td>\n",
       "      <td>4646.0</td>\n",
       "      <td>2670.0</td>\n",
       "      <td>1.0</td>\n",
       "    </tr>\n",
       "    <tr>\n",
       "      <th>beta[6]</th>\n",
       "      <td>-1.465</td>\n",
       "      <td>0.044</td>\n",
       "      <td>-1.546</td>\n",
       "      <td>-1.379</td>\n",
       "      <td>0.001</td>\n",
       "      <td>0.000</td>\n",
       "      <td>5014.0</td>\n",
       "      <td>2966.0</td>\n",
       "      <td>1.0</td>\n",
       "    </tr>\n",
       "    <tr>\n",
       "      <th>beta[7]</th>\n",
       "      <td>-1.629</td>\n",
       "      <td>0.041</td>\n",
       "      <td>-1.707</td>\n",
       "      <td>-1.553</td>\n",
       "      <td>0.001</td>\n",
       "      <td>0.000</td>\n",
       "      <td>3906.0</td>\n",
       "      <td>2603.0</td>\n",
       "      <td>1.0</td>\n",
       "    </tr>\n",
       "    <tr>\n",
       "      <th>beta[8]</th>\n",
       "      <td>-0.379</td>\n",
       "      <td>0.044</td>\n",
       "      <td>-0.457</td>\n",
       "      <td>-0.292</td>\n",
       "      <td>0.001</td>\n",
       "      <td>0.000</td>\n",
       "      <td>4666.0</td>\n",
       "      <td>2958.0</td>\n",
       "      <td>1.0</td>\n",
       "    </tr>\n",
       "    <tr>\n",
       "      <th>beta[9]</th>\n",
       "      <td>-0.042</td>\n",
       "      <td>0.040</td>\n",
       "      <td>-0.118</td>\n",
       "      <td>0.030</td>\n",
       "      <td>0.001</td>\n",
       "      <td>0.001</td>\n",
       "      <td>4216.0</td>\n",
       "      <td>2932.0</td>\n",
       "      <td>1.0</td>\n",
       "    </tr>\n",
       "  </tbody>\n",
       "</table>\n",
       "</div>"
      ],
      "text/plain": [
       "          mean     sd  hdi_3%  hdi_97%  mcse_mean  mcse_sd  ess_bulk  \\\n",
       "beta[0] -0.333  0.041  -0.405   -0.251      0.001    0.001    3115.0   \n",
       "beta[1] -1.449  0.043  -1.532   -1.371      0.001    0.000    4367.0   \n",
       "beta[2]  0.399  0.043   0.311    0.473      0.001    0.001    3669.0   \n",
       "beta[3] -0.742  0.043  -0.827   -0.664      0.001    0.000    4311.0   \n",
       "beta[4]  0.588  0.044   0.509    0.673      0.001    0.001    3603.0   \n",
       "beta[5] -0.645  0.044  -0.724   -0.562      0.001    0.000    4646.0   \n",
       "beta[6] -1.465  0.044  -1.546   -1.379      0.001    0.000    5014.0   \n",
       "beta[7] -1.629  0.041  -1.707   -1.553      0.001    0.000    3906.0   \n",
       "beta[8] -0.379  0.044  -0.457   -0.292      0.001    0.000    4666.0   \n",
       "beta[9] -0.042  0.040  -0.118    0.030      0.001    0.001    4216.0   \n",
       "\n",
       "         ess_tail  r_hat  \n",
       "beta[0]    2957.0    1.0  \n",
       "beta[1]    3134.0    1.0  \n",
       "beta[2]    2216.0    1.0  \n",
       "beta[3]    3113.0    1.0  \n",
       "beta[4]    2334.0    1.0  \n",
       "beta[5]    2670.0    1.0  \n",
       "beta[6]    2966.0    1.0  \n",
       "beta[7]    2603.0    1.0  \n",
       "beta[8]    2958.0    1.0  \n",
       "beta[9]    2932.0    1.0  "
      ]
     },
     "execution_count": 70,
     "metadata": {},
     "output_type": "execute_result"
    }
   ],
   "source": [
    "az.summary(tr_hB, var_names='beta')"
   ]
  },
  {
   "cell_type": "code",
   "execution_count": 69,
   "id": "da17372c-9e1f-4d43-8594-aa694847ccdf",
   "metadata": {},
   "outputs": [
    {
     "data": {
      "text/plain": [
       "[-0.3107594662046618,\n",
       " -1.5201502083777563,\n",
       " 0.41516377147630834,\n",
       " -0.7962646290060615,\n",
       " 0.5325741147674201,\n",
       " -0.6375391184890005,\n",
       " -1.3806617035582316,\n",
       " -1.4518515188016656,\n",
       " -0.3871198646696866,\n",
       " -0.04480516569467175]"
      ]
     },
     "execution_count": 69,
     "metadata": {},
     "output_type": "execute_result"
    }
   ],
   "source": [
    "slopeList"
   ]
  },
  {
   "cell_type": "code",
   "execution_count": 71,
   "id": "1589b314-9fa2-4249-b9d6-5acb38a50b3b",
   "metadata": {},
   "outputs": [
    {
     "name": "stderr",
     "output_type": "stream",
     "text": [
      "/home/or/miniconda3/envs/neuroAnalysis/lib/python3.7/site-packages/arviz/stats/stats.py:695: UserWarning: Estimated shape parameter of Pareto distribution is greater than 0.7 for one or more samples. You should consider using a more robust model, this is because importance sampling is less likely to work well if the marginal posterior and LOO posterior are very different. This is more likely to happen with a non-robust model and highly influential observations.\n",
      "  \"Estimated shape parameter of Pareto distribution is greater than 0.7 for \"\n"
     ]
    },
    {
     "data": {
      "text/html": [
       "<div>\n",
       "<style scoped>\n",
       "    .dataframe tbody tr th:only-of-type {\n",
       "        vertical-align: middle;\n",
       "    }\n",
       "\n",
       "    .dataframe tbody tr th {\n",
       "        vertical-align: top;\n",
       "    }\n",
       "\n",
       "    .dataframe thead th {\n",
       "        text-align: right;\n",
       "    }\n",
       "</style>\n",
       "<table border=\"1\" class=\"dataframe\">\n",
       "  <thead>\n",
       "    <tr style=\"text-align: right;\">\n",
       "      <th></th>\n",
       "      <th>rank</th>\n",
       "      <th>loo</th>\n",
       "      <th>p_loo</th>\n",
       "      <th>d_loo</th>\n",
       "      <th>weight</th>\n",
       "      <th>se</th>\n",
       "      <th>dse</th>\n",
       "      <th>warning</th>\n",
       "      <th>loo_scale</th>\n",
       "    </tr>\n",
       "  </thead>\n",
       "  <tbody>\n",
       "    <tr>\n",
       "      <th>model3</th>\n",
       "      <td>0</td>\n",
       "      <td>313.051768</td>\n",
       "      <td>22.473802</td>\n",
       "      <td>0.000000</td>\n",
       "      <td>1.000000e+00</td>\n",
       "      <td>18.791935</td>\n",
       "      <td>0.000000</td>\n",
       "      <td>False</td>\n",
       "      <td>log</td>\n",
       "    </tr>\n",
       "    <tr>\n",
       "      <th>model2</th>\n",
       "      <td>1</td>\n",
       "      <td>312.632657</td>\n",
       "      <td>22.875316</td>\n",
       "      <td>0.419112</td>\n",
       "      <td>2.775558e-16</td>\n",
       "      <td>18.860148</td>\n",
       "      <td>0.382741</td>\n",
       "      <td>True</td>\n",
       "      <td>log</td>\n",
       "    </tr>\n",
       "    <tr>\n",
       "      <th>model1</th>\n",
       "      <td>2</td>\n",
       "      <td>312.554419</td>\n",
       "      <td>23.095167</td>\n",
       "      <td>0.497349</td>\n",
       "      <td>0.000000e+00</td>\n",
       "      <td>18.873842</td>\n",
       "      <td>0.209239</td>\n",
       "      <td>False</td>\n",
       "      <td>log</td>\n",
       "    </tr>\n",
       "  </tbody>\n",
       "</table>\n",
       "</div>"
      ],
      "text/plain": [
       "        rank         loo      p_loo     d_loo        weight         se  \\\n",
       "model3     0  313.051768  22.473802  0.000000  1.000000e+00  18.791935   \n",
       "model2     1  312.632657  22.875316  0.419112  2.775558e-16  18.860148   \n",
       "model1     2  312.554419  23.095167  0.497349  0.000000e+00  18.873842   \n",
       "\n",
       "             dse  warning loo_scale  \n",
       "model3  0.000000    False       log  \n",
       "model2  0.382741     True       log  \n",
       "model1  0.209239    False       log  "
      ]
     },
     "execution_count": 71,
     "metadata": {},
     "output_type": "execute_result"
    }
   ],
   "source": [
    "az.compare({'model1':trB, 'model2':tr_h, 'model3': tr_hB}, ic='loo')"
   ]
  },
  {
   "cell_type": "markdown",
   "id": "c2d06d3d-1313-45fc-a411-19a4dc7a9519",
   "metadata": {},
   "source": [
    "## Stan style model"
   ]
  },
  {
   "cell_type": "code",
   "execution_count": 58,
   "id": "1a49a201-03da-42a3-93b0-141c8b17b25c",
   "metadata": {},
   "outputs": [
    {
     "name": "stderr",
     "output_type": "stream",
     "text": [
      "Auto-assigning NUTS sampler...\n",
      "Initializing NUTS using jitter+adapt_diag...\n",
      "Multiprocess sampling (4 chains in 10 jobs)\n",
      "NUTS: [eps, beta_matt, alpha_h, alpha_sigma, sd, mu]\n"
     ]
    },
    {
     "data": {
      "text/html": [
       "\n",
       "    <div>\n",
       "        <style>\n",
       "            /* Turns off some styling */\n",
       "            progress {\n",
       "                /* gets rid of default border in Firefox and Opera. */\n",
       "                border: none;\n",
       "                /* Needs to be in here for Safari polyfill so background images work as expected. */\n",
       "                background-size: auto;\n",
       "            }\n",
       "            .progress-bar-interrupted, .progress-bar-interrupted::-webkit-progress-bar {\n",
       "                background: #F44336;\n",
       "            }\n",
       "        </style>\n",
       "      <progress value='8000' class='' max='8000' style='width:300px; height:20px; vertical-align: middle;'></progress>\n",
       "      100.00% [8000/8000 24:19<00:00 Sampling 4 chains, 776 divergences]\n",
       "    </div>\n",
       "    "
      ],
      "text/plain": [
       "<IPython.core.display.HTML object>"
      ]
     },
     "metadata": {},
     "output_type": "display_data"
    },
    {
     "name": "stderr",
     "output_type": "stream",
     "text": [
      "Sampling 4 chains for 1_000 tune and 1_000 draw iterations (4_000 + 4_000 draws total) took 1460 seconds.\n",
      "There were 225 divergences after tuning. Increase `target_accept` or reparameterize.\n",
      "The acceptance probability does not match the target. It is 0.8336511338250668, but should be close to 0.9. Try to increase the number of tuning steps.\n",
      "There were 141 divergences after tuning. Increase `target_accept` or reparameterize.\n",
      "There were 208 divergences after tuning. Increase `target_accept` or reparameterize.\n",
      "There were 202 divergences after tuning. Increase `target_accept` or reparameterize.\n",
      "The acceptance probability does not match the target. It is 0.826296112217274, but should be close to 0.9. Try to increase the number of tuning steps.\n",
      "The rhat statistic is larger than 1.05 for some parameters. This indicates slight problems during sampling.\n",
      "The estimated number of effective samples is smaller than 200 for some parameters.\n"
     ]
    }
   ],
   "source": [
    "with pm.Model() as m_stan:\n",
    "    mu = pm.Normal('mu', 0, 1, shape=2)\n",
    "    sd = pm.HalfNormal('sd',5, shape=2)\n",
    "        \n",
    "   # alpha_h = pm.Normal('alpha_h', 0,1, shape= n_subj)\n",
    "    alpha_sigma = pm.HalfNormal('alpha_sigma', .1)\n",
    "    #alpha = pm.Normal('alpha', alpha_h , alpha_sigma, shape=n_subj)\n",
    "    alpha_h = pm.Beta('alpha_h',1,  1, shape = n_subj)\n",
    "    alpha = pm.Deterministic('alpha', alpha_h + mu[0] *alpha_sigma)\n",
    "    \n",
    "    \n",
    "    beta_matt = pm.Normal('beta_matt',0, 1, shape=n_subj)\n",
    "    beta = pm.Deterministic('beta', beta_matt + mu[1]*sd[1])\n",
    "    \n",
    "    eps = pm.HalfNormal('eps', 5)\n",
    "  \n",
    "    Qs = 0.5 * tt.ones((n_subj,2), dtype='float64') # set values for boths stimuli (CS+, CS-)\n",
    "    vec = 0.5 * tt.ones((n_subj,1), dtype='float64') # vector to save the relevant stimulus's expactation\n",
    "    \n",
    "    [Qs,vec], updates = theano.scan(\n",
    "        fn=update_Q,\n",
    "        sequences=[stim, shock],\n",
    "        outputs_info=[Qs, vec],\n",
    "        non_sequences=[alpha, n_subj])\n",
    "   \n",
    "    \n",
    "    vec_ = vec[trials, subj,0] * beta[subj]\n",
    "    \n",
    "    scrs = pm.Normal('scrs', vec_, eps, observed=subjects) \n",
    "    \n",
    "    trH_Stan = pm.sample(target_accept=.9, chains=4, cores=10, return_inferencedata=True)"
   ]
  },
  {
   "cell_type": "code",
   "execution_count": 60,
   "id": "089d5014-bbab-491b-bc21-24385394c09b",
   "metadata": {},
   "outputs": [
    {
     "data": {
      "text/html": [
       "<div>\n",
       "<style scoped>\n",
       "    .dataframe tbody tr th:only-of-type {\n",
       "        vertical-align: middle;\n",
       "    }\n",
       "\n",
       "    .dataframe tbody tr th {\n",
       "        vertical-align: top;\n",
       "    }\n",
       "\n",
       "    .dataframe thead th {\n",
       "        text-align: right;\n",
       "    }\n",
       "</style>\n",
       "<table border=\"1\" class=\"dataframe\">\n",
       "  <thead>\n",
       "    <tr style=\"text-align: right;\">\n",
       "      <th></th>\n",
       "      <th>mean</th>\n",
       "      <th>sd</th>\n",
       "      <th>hdi_3%</th>\n",
       "      <th>hdi_97%</th>\n",
       "      <th>mcse_mean</th>\n",
       "      <th>mcse_sd</th>\n",
       "      <th>ess_bulk</th>\n",
       "      <th>ess_tail</th>\n",
       "      <th>r_hat</th>\n",
       "    </tr>\n",
       "  </thead>\n",
       "  <tbody>\n",
       "    <tr>\n",
       "      <th>alpha[0]</th>\n",
       "      <td>0.778</td>\n",
       "      <td>0.103</td>\n",
       "      <td>0.600</td>\n",
       "      <td>0.974</td>\n",
       "      <td>0.005</td>\n",
       "      <td>0.004</td>\n",
       "      <td>406.0</td>\n",
       "      <td>167.0</td>\n",
       "      <td>1.01</td>\n",
       "    </tr>\n",
       "    <tr>\n",
       "      <th>alpha[1]</th>\n",
       "      <td>0.668</td>\n",
       "      <td>0.024</td>\n",
       "      <td>0.624</td>\n",
       "      <td>0.712</td>\n",
       "      <td>0.001</td>\n",
       "      <td>0.000</td>\n",
       "      <td>1618.0</td>\n",
       "      <td>1487.0</td>\n",
       "      <td>1.00</td>\n",
       "    </tr>\n",
       "    <tr>\n",
       "      <th>alpha[2]</th>\n",
       "      <td>0.640</td>\n",
       "      <td>0.094</td>\n",
       "      <td>0.469</td>\n",
       "      <td>0.817</td>\n",
       "      <td>0.003</td>\n",
       "      <td>0.002</td>\n",
       "      <td>1163.0</td>\n",
       "      <td>1271.0</td>\n",
       "      <td>1.00</td>\n",
       "    </tr>\n",
       "    <tr>\n",
       "      <th>alpha[3]</th>\n",
       "      <td>0.060</td>\n",
       "      <td>0.016</td>\n",
       "      <td>0.032</td>\n",
       "      <td>0.091</td>\n",
       "      <td>0.001</td>\n",
       "      <td>0.000</td>\n",
       "      <td>986.0</td>\n",
       "      <td>825.0</td>\n",
       "      <td>1.01</td>\n",
       "    </tr>\n",
       "    <tr>\n",
       "      <th>alpha[4]</th>\n",
       "      <td>0.076</td>\n",
       "      <td>0.022</td>\n",
       "      <td>0.033</td>\n",
       "      <td>0.115</td>\n",
       "      <td>0.001</td>\n",
       "      <td>0.000</td>\n",
       "      <td>1476.0</td>\n",
       "      <td>2385.0</td>\n",
       "      <td>1.00</td>\n",
       "    </tr>\n",
       "    <tr>\n",
       "      <th>alpha[5]</th>\n",
       "      <td>0.330</td>\n",
       "      <td>0.051</td>\n",
       "      <td>0.234</td>\n",
       "      <td>0.428</td>\n",
       "      <td>0.002</td>\n",
       "      <td>0.001</td>\n",
       "      <td>840.0</td>\n",
       "      <td>327.0</td>\n",
       "      <td>1.00</td>\n",
       "    </tr>\n",
       "    <tr>\n",
       "      <th>alpha[6]</th>\n",
       "      <td>0.140</td>\n",
       "      <td>0.013</td>\n",
       "      <td>0.117</td>\n",
       "      <td>0.166</td>\n",
       "      <td>0.000</td>\n",
       "      <td>0.000</td>\n",
       "      <td>1099.0</td>\n",
       "      <td>478.0</td>\n",
       "      <td>1.00</td>\n",
       "    </tr>\n",
       "    <tr>\n",
       "      <th>alpha[7]</th>\n",
       "      <td>0.843</td>\n",
       "      <td>0.019</td>\n",
       "      <td>0.807</td>\n",
       "      <td>0.880</td>\n",
       "      <td>0.000</td>\n",
       "      <td>0.000</td>\n",
       "      <td>1975.0</td>\n",
       "      <td>2344.0</td>\n",
       "      <td>1.00</td>\n",
       "    </tr>\n",
       "    <tr>\n",
       "      <th>alpha[8]</th>\n",
       "      <td>0.601</td>\n",
       "      <td>0.106</td>\n",
       "      <td>0.405</td>\n",
       "      <td>0.800</td>\n",
       "      <td>0.005</td>\n",
       "      <td>0.003</td>\n",
       "      <td>552.0</td>\n",
       "      <td>620.0</td>\n",
       "      <td>1.01</td>\n",
       "    </tr>\n",
       "    <tr>\n",
       "      <th>alpha[9]</th>\n",
       "      <td>0.450</td>\n",
       "      <td>0.269</td>\n",
       "      <td>0.029</td>\n",
       "      <td>0.932</td>\n",
       "      <td>0.010</td>\n",
       "      <td>0.007</td>\n",
       "      <td>853.0</td>\n",
       "      <td>1187.0</td>\n",
       "      <td>1.01</td>\n",
       "    </tr>\n",
       "  </tbody>\n",
       "</table>\n",
       "</div>"
      ],
      "text/plain": [
       "           mean     sd  hdi_3%  hdi_97%  mcse_mean  mcse_sd  ess_bulk  \\\n",
       "alpha[0]  0.778  0.103   0.600    0.974      0.005    0.004     406.0   \n",
       "alpha[1]  0.668  0.024   0.624    0.712      0.001    0.000    1618.0   \n",
       "alpha[2]  0.640  0.094   0.469    0.817      0.003    0.002    1163.0   \n",
       "alpha[3]  0.060  0.016   0.032    0.091      0.001    0.000     986.0   \n",
       "alpha[4]  0.076  0.022   0.033    0.115      0.001    0.000    1476.0   \n",
       "alpha[5]  0.330  0.051   0.234    0.428      0.002    0.001     840.0   \n",
       "alpha[6]  0.140  0.013   0.117    0.166      0.000    0.000    1099.0   \n",
       "alpha[7]  0.843  0.019   0.807    0.880      0.000    0.000    1975.0   \n",
       "alpha[8]  0.601  0.106   0.405    0.800      0.005    0.003     552.0   \n",
       "alpha[9]  0.450  0.269   0.029    0.932      0.010    0.007     853.0   \n",
       "\n",
       "          ess_tail  r_hat  \n",
       "alpha[0]     167.0   1.01  \n",
       "alpha[1]    1487.0   1.00  \n",
       "alpha[2]    1271.0   1.00  \n",
       "alpha[3]     825.0   1.01  \n",
       "alpha[4]    2385.0   1.00  \n",
       "alpha[5]     327.0   1.00  \n",
       "alpha[6]     478.0   1.00  \n",
       "alpha[7]    2344.0   1.00  \n",
       "alpha[8]     620.0   1.01  \n",
       "alpha[9]    1187.0   1.01  "
      ]
     },
     "execution_count": 60,
     "metadata": {},
     "output_type": "execute_result"
    }
   ],
   "source": [
    "az.summary(trH_Stan, var_names='alpha')"
   ]
  },
  {
   "cell_type": "code",
   "execution_count": 61,
   "id": "07e5db82-2bd2-4e0c-81d4-9b7968994129",
   "metadata": {},
   "outputs": [
    {
     "data": {
      "text/plain": [
       "[0.8928877893034539,\n",
       " 0.6210780971322087,\n",
       " 0.6383316086564161,\n",
       " 0.07323156882205992,\n",
       " 0.038476693618789824,\n",
       " 0.26981999008054647,\n",
       " 0.15444770169353894,\n",
       " 0.9063246992312924,\n",
       " 0.6337869702026921,\n",
       " 0.34442128265592353]"
      ]
     },
     "execution_count": 61,
     "metadata": {},
     "output_type": "execute_result"
    }
   ],
   "source": [
    "alphalist"
   ]
  },
  {
   "cell_type": "code",
   "execution_count": 62,
   "id": "52b56b7e-cf48-449d-be98-58ff86b71d97",
   "metadata": {},
   "outputs": [
    {
     "name": "stderr",
     "output_type": "stream",
     "text": [
      "/home/or/miniconda3/envs/neuroAnalysis/lib/python3.7/site-packages/arviz/stats/stats.py:695: UserWarning: Estimated shape parameter of Pareto distribution is greater than 0.7 for one or more samples. You should consider using a more robust model, this is because importance sampling is less likely to work well if the marginal posterior and LOO posterior are very different. This is more likely to happen with a non-robust model and highly influential observations.\n",
      "  \"Estimated shape parameter of Pareto distribution is greater than 0.7 for \"\n"
     ]
    },
    {
     "data": {
      "text/html": [
       "<div>\n",
       "<style scoped>\n",
       "    .dataframe tbody tr th:only-of-type {\n",
       "        vertical-align: middle;\n",
       "    }\n",
       "\n",
       "    .dataframe tbody tr th {\n",
       "        vertical-align: top;\n",
       "    }\n",
       "\n",
       "    .dataframe thead th {\n",
       "        text-align: right;\n",
       "    }\n",
       "</style>\n",
       "<table border=\"1\" class=\"dataframe\">\n",
       "  <thead>\n",
       "    <tr style=\"text-align: right;\">\n",
       "      <th></th>\n",
       "      <th>rank</th>\n",
       "      <th>loo</th>\n",
       "      <th>p_loo</th>\n",
       "      <th>d_loo</th>\n",
       "      <th>weight</th>\n",
       "      <th>se</th>\n",
       "      <th>dse</th>\n",
       "      <th>warning</th>\n",
       "      <th>loo_scale</th>\n",
       "    </tr>\n",
       "  </thead>\n",
       "  <tbody>\n",
       "    <tr>\n",
       "      <th>model3</th>\n",
       "      <td>0</td>\n",
       "      <td>313.174388</td>\n",
       "      <td>22.330112</td>\n",
       "      <td>0.000000</td>\n",
       "      <td>1.000000e+00</td>\n",
       "      <td>18.825712</td>\n",
       "      <td>0.000000</td>\n",
       "      <td>False</td>\n",
       "      <td>log</td>\n",
       "    </tr>\n",
       "    <tr>\n",
       "      <th>model2</th>\n",
       "      <td>1</td>\n",
       "      <td>312.632657</td>\n",
       "      <td>22.875316</td>\n",
       "      <td>0.541731</td>\n",
       "      <td>3.053113e-16</td>\n",
       "      <td>18.860148</td>\n",
       "      <td>0.238669</td>\n",
       "      <td>True</td>\n",
       "      <td>log</td>\n",
       "    </tr>\n",
       "    <tr>\n",
       "      <th>model1</th>\n",
       "      <td>2</td>\n",
       "      <td>312.554419</td>\n",
       "      <td>23.095167</td>\n",
       "      <td>0.619969</td>\n",
       "      <td>0.000000e+00</td>\n",
       "      <td>18.873842</td>\n",
       "      <td>0.458743</td>\n",
       "      <td>False</td>\n",
       "      <td>log</td>\n",
       "    </tr>\n",
       "    <tr>\n",
       "      <th>model4</th>\n",
       "      <td>3</td>\n",
       "      <td>312.459384</td>\n",
       "      <td>22.969457</td>\n",
       "      <td>0.715004</td>\n",
       "      <td>0.000000e+00</td>\n",
       "      <td>18.677537</td>\n",
       "      <td>0.429202</td>\n",
       "      <td>False</td>\n",
       "      <td>log</td>\n",
       "    </tr>\n",
       "  </tbody>\n",
       "</table>\n",
       "</div>"
      ],
      "text/plain": [
       "        rank         loo      p_loo     d_loo        weight         se  \\\n",
       "model3     0  313.174388  22.330112  0.000000  1.000000e+00  18.825712   \n",
       "model2     1  312.632657  22.875316  0.541731  3.053113e-16  18.860148   \n",
       "model1     2  312.554419  23.095167  0.619969  0.000000e+00  18.873842   \n",
       "model4     3  312.459384  22.969457  0.715004  0.000000e+00  18.677537   \n",
       "\n",
       "             dse  warning loo_scale  \n",
       "model3  0.000000    False       log  \n",
       "model2  0.238669     True       log  \n",
       "model1  0.458743    False       log  \n",
       "model4  0.429202    False       log  "
      ]
     },
     "execution_count": 62,
     "metadata": {},
     "output_type": "execute_result"
    }
   ],
   "source": [
    "az.compare({'model1':trB, 'model2':tr_h, 'model3': tr_hB,\n",
    "           'model4': trH_Stan}, ic='loo')"
   ]
  }
 ],
 "metadata": {
  "kernelspec": {
   "display_name": "Python 3 (ipykernel)",
   "language": "python",
   "name": "python3"
  },
  "language_info": {
   "codemirror_mode": {
    "name": "ipython",
    "version": 3
   },
   "file_extension": ".py",
   "mimetype": "text/x-python",
   "name": "python",
   "nbconvert_exporter": "python",
   "pygments_lexer": "ipython3",
   "version": "3.7.7"
  }
 },
 "nbformat": 4,
 "nbformat_minor": 5
}
