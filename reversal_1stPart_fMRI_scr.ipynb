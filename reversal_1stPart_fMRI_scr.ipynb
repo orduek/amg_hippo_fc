{
 "cells": [
  {
   "cell_type": "markdown",
   "id": "1b2e257f",
   "metadata": {},
   "source": [
    "## This will be used to analyze the reversal data"
   ]
  },
  {
   "cell_type": "code",
   "execution_count": 1,
   "id": "ff242f4c",
   "metadata": {},
   "outputs": [],
   "source": [
    "import pandas as pd \n",
    "\n",
    "import numpy as np\n",
    "import os\n",
    "import glob\n",
    "import matplotlib.pyplot as plt\n",
    "import seaborn as sns\n",
    "import scipy\n",
    "\n",
    "# regular GLMs\n",
    "import pingouin as pg\n",
    "import statsmodels.api as sm\n",
    "import statsmodels.formula.api as smf\n",
    "%config Completer.use_jedi = False\n"
   ]
  },
  {
   "cell_type": "code",
   "execution_count": 2,
   "id": "25799b3c",
   "metadata": {},
   "outputs": [],
   "source": [
    "output_dir = '/gpfs/gibbs/pi/levy_ifat/Or/RV_FC'"
   ]
  },
  {
   "cell_type": "code",
   "execution_count": 3,
   "id": "cb582970",
   "metadata": {},
   "outputs": [
    {
     "data": {
      "text/plain": [
       "Component                          168\n",
       "Difumo_names      Hippocampus anterior\n",
       "Yeo_networks7         No network found\n",
       "Yeo_networks17                DefaultC\n",
       "GM                            0.640856\n",
       "WM                            0.312741\n",
       "CSF                           0.046405\n",
       "Name: 167, dtype: object"
      ]
     },
     "execution_count": 3,
     "metadata": {},
     "output_type": "execute_result"
    }
   ],
   "source": [
    "# get difumo's labels\n",
    "labels = pd.read_csv('/gpfs/gibbs/pi/levy_ifat/Or/DiFuMo_atlas/256/labels_256_dictionary.csv')\n",
    "labels.iloc[167]\n",
    "#labels['Difumo_names']=='Ventromedial Prefrontal'"
   ]
  },
  {
   "cell_type": "code",
   "execution_count": 4,
   "id": "e7cf24a8",
   "metadata": {},
   "outputs": [],
   "source": [
    "tsFiles =  glob.glob((os.path.join(output_dir, 'timeSeries','sub*.npy')))\n",
    "ts_total57 = [] # the 570 timeseries\n",
    "ts_total55 = [] # the 555\n",
    "ts_total51 = [] # the 514\n",
    "sub51 = []\n",
    "sub55 = {}\n",
    "sub57 = []\n",
    "for f in tsFiles:\n",
    "    ts = np.load(f)\n",
    "    sub = os.path.basename(f).split('_')[0]\n",
    "    if ts.shape[0] > 545:\n",
    "        # z-score\n",
    "        t = ts[:548]\n",
    "        tz = scipy.stats.zscore(t, axis=0)\n",
    "        # append\n",
    "        ts_total55.append(tz)\n",
    "        sub55[sub] = tz # make it a dictionary\n",
    "\n",
    "    else:\n",
    "        ts_total51.append(ts[2:])\n",
    "        sub51.append(sub)\n",
    "            "
   ]
  },
  {
   "cell_type": "code",
   "execution_count": 5,
   "id": "bebca370",
   "metadata": {},
   "outputs": [
    {
     "name": "stdout",
     "output_type": "stream",
     "text": [
      "(0,)\n",
      "(24,)\n",
      "(89, 548, 256)\n"
     ]
    },
    {
     "name": "stderr",
     "output_type": "stream",
     "text": [
      "/tmp/ipykernel_11638/3254487080.py:11: VisibleDeprecationWarning: Creating an ndarray from ragged nested sequences (which is a list-or-tuple of lists-or-tuples-or ndarrays with different lengths or shapes) is deprecated. If you meant to do this, you must specify 'dtype=object' when creating the ndarray.\n",
      "  print(np.array(ts_total51).shape)\n"
     ]
    }
   ],
   "source": [
    "# remove items and subejcts\n",
    "for i in range(len(ts_total55)):\n",
    "    if ts_total55[i].shape[0] < 545:\n",
    "        #print(i)\n",
    "        #print(ts_total55[i].shape)\n",
    "        sub55.pop(i)\n",
    "        ts_total55.pop(i)\n",
    "        \n",
    "        \n",
    "print(np.array(ts_total57).shape)\n",
    "print(np.array(ts_total51).shape)\n",
    "print(np.array(ts_total55).shape)        "
   ]
  },
  {
   "cell_type": "code",
   "execution_count": 6,
   "id": "999fafc1",
   "metadata": {},
   "outputs": [
    {
     "data": {
      "text/plain": [
       "89"
      ]
     },
     "execution_count": 6,
     "metadata": {},
     "output_type": "execute_result"
    }
   ],
   "source": [
    "len(sub55)"
   ]
  },
  {
   "cell_type": "code",
   "execution_count": 7,
   "id": "712a6d46",
   "metadata": {},
   "outputs": [],
   "source": [
    "# now lets take the actual conditions\n",
    "# we have two different sets\n",
    "stimList = pd.read_csv('Behavioral/StimList.csv')\n",
    "stimOnset = np.array(stimList.Time)/2 # divide by two as tr=2\n",
    "\n",
    "# take only the first part of experiment (first 30 stimuli)\n",
    "stimFirst = stimOnset[0:30]"
   ]
  },
  {
   "cell_type": "code",
   "execution_count": 22,
   "id": "3346b9db",
   "metadata": {},
   "outputs": [],
   "source": [
    "roi1 = 20 # amygdala\n",
    "roi2 = 94 #167 - Antrior hippocampus, 42- VMPFC, 94 - hippocampus posterior\n",
    "length = 8 # number of trs\n",
    "array = sub55#ts_total55\n",
    "fmriCoupling = {} # create a dictionary of Amygdala posterior hippomcapus coupling\n",
    "amgAct = {} # add amygdala activation to test it as well\n",
    "for sub in array.keys():\n",
    "    #print(sub)\n",
    "    #print(array[sub])\n",
    "    dist = []\n",
    "    amg = []\n",
    "    for i in stimFirst:\n",
    "        \n",
    "        i = int(i)\n",
    "        #print(i)\n",
    "        a = array[sub][i:i+length,roi1] \n",
    "        b = array[sub][i:i+length,roi2]\n",
    "        dist.append(scipy.stats.spearmanr(a,b)[0])\n",
    "        amg.append(np.mean(a)) # add amygdala activation to test as well\n",
    "    fmriCoupling[sub] = dist\n",
    "    amgAct[sub] = amg"
   ]
  },
  {
   "cell_type": "markdown",
   "id": "cc9f988d",
   "metadata": {},
   "source": [
    "# Grab SCR data"
   ]
  },
  {
   "cell_type": "code",
   "execution_count": 23,
   "id": "6b7eec70",
   "metadata": {},
   "outputs": [],
   "source": [
    "scr = pd.read_csv('firstSCRpart.csv')\n",
    "scr = scr[['Event.Nr', 'CDA.AmpSum', 'sub']] #  grab relevant columns"
   ]
  },
  {
   "cell_type": "code",
   "execution_count": 24,
   "id": "56e02441",
   "metadata": {},
   "outputs": [
    {
     "data": {
      "text/plain": [
       "101"
      ]
     },
     "execution_count": 24,
     "metadata": {},
     "output_type": "execute_result"
    }
   ],
   "source": [
    "scr_subs = scr['sub'].unique()\n",
    "len(scr_subs)"
   ]
  },
  {
   "cell_type": "code",
   "execution_count": 25,
   "id": "96b8975b",
   "metadata": {},
   "outputs": [
    {
     "name": "stdout",
     "output_type": "stream",
     "text": [
      "Subject sub-143 has no data\n",
      "Subject sub-188 has no data\n",
      "Subject sub-190 has no data\n",
      "Subject sub-194 has no data\n",
      "Subject sub-135 has no data\n",
      "Subject sub-161 has no data\n",
      "Subject sub-140 has no data\n",
      "Subject sub-025 has no data\n",
      "Subject sub-137 has no data\n",
      "Subject sub-1207 has no data\n",
      "Subject sub-148 has no data\n",
      "Subject sub-147 has no data\n",
      "Subject sub-195 has no data\n"
     ]
    }
   ],
   "source": [
    "var = 'CDA.AmpSum'#'CDA.PhasicMax' # which we test\n",
    "fmriSubs = fmriCoupling.keys()\n",
    "len(fmriSubs)\n",
    "scr_fmriCoup = {}\n",
    "scr_amg = {} # add amygdala\n",
    "ampSums = [] # grab array of all, just for plotting porpuses\n",
    "fmriSums = [] # grab fmri coupling for plotting\n",
    "for sub in fmriSubs:\n",
    "    #print(sub)\n",
    "    sInt =  sub.split('-')[1] #subject as integer\n",
    "    #print(sInt)\n",
    "    #try:\n",
    "    ampSum = scr[var][scr['sub']==int(sInt)].values\n",
    "    fmri = fmriCoupling[sub]\n",
    "    amygdala = amgAct[sub]\n",
    "    if len(ampSum)==0: # check if empty data\n",
    "        print(f'Subject {sub} has no data')\n",
    "    else:\n",
    "\n",
    "        #plt.plot(ampSum, color='red')\n",
    "        #plt.plot(fmri, color='blue')\n",
    "        #plt.show()\n",
    "        scr_fmriCoup[sub] = scipy.stats.pearsonr(ampSum, fmri)\n",
    "        scr_amg[sub] = scipy.stats.pearsonr(ampSum, amygdala)\n",
    "        ampSums.append(ampSum)\n",
    "        fmriSums.append(fmri)\n",
    "    #except:\n",
    "     #   print(f'Subject {sub} doesnt have data')"
   ]
  },
  {
   "cell_type": "code",
   "execution_count": 26,
   "id": "3064db4d",
   "metadata": {},
   "outputs": [
    {
     "name": "stderr",
     "output_type": "stream",
     "text": [
      "/gpfs/ysm/project/joormann/oad4/conda_envs/neuroAnalysis/lib/python3.9/site-packages/seaborn/_decorators.py:36: FutureWarning: Pass the following variables as keyword args: x, y. From version 0.12, the only valid positional argument will be `data`, and passing other arguments without an explicit keyword will result in an error or misinterpretation.\n",
      "  warnings.warn(\n",
      "/gpfs/ysm/project/joormann/oad4/conda_envs/neuroAnalysis/lib/python3.9/site-packages/seaborn/_decorators.py:36: FutureWarning: Pass the following variables as keyword args: x, y. From version 0.12, the only valid positional argument will be `data`, and passing other arguments without an explicit keyword will result in an error or misinterpretation.\n",
      "  warnings.warn(\n"
     ]
    },
    {
     "data": {
      "text/plain": [
       "<AxesSubplot:xlabel='variable', ylabel='value'>"
      ]
     },
     "execution_count": 26,
     "metadata": {},
     "output_type": "execute_result"
    },
    {
     "data": {
      "image/png": "[encoded data removed]",
      "text/plain": [
       "<Figure size 864x432 with 1 Axes>"
      ]
     },
     "metadata": {
      "needs_background": "light"
     },
     "output_type": "display_data"
    }
   ],
   "source": [
    "# plot amplitude sum and fmri coupling\n",
    "d = pd.DataFrame(np.array(ampSums)) # scr \n",
    "e = pd.DataFrame(np.array(fmriSums)) # fmri\n",
    "d = pd.melt(d)\n",
    "e = pd.melt(e)\n",
    "\n",
    "#%matplotlib notebook\n",
    "plt.figure(figsize=[12,6])\n",
    "sns.lineplot('variable','value', data=d, color='red')\n",
    "sns.lineplot('variable','value', data=e, color = 'blue')"
   ]
  },
  {
   "cell_type": "code",
   "execution_count": 27,
   "id": "4bcb9ce2",
   "metadata": {},
   "outputs": [
    {
     "data": {
      "text/html": [
       "<div>\n",
       "<style scoped>\n",
       "    .dataframe tbody tr th:only-of-type {\n",
       "        vertical-align: middle;\n",
       "    }\n",
       "\n",
       "    .dataframe tbody tr th {\n",
       "        vertical-align: top;\n",
       "    }\n",
       "\n",
       "    .dataframe thead th {\n",
       "        text-align: right;\n",
       "    }\n",
       "</style>\n",
       "<table border=\"1\" class=\"dataframe\">\n",
       "  <thead>\n",
       "    <tr style=\"text-align: right;\">\n",
       "      <th></th>\n",
       "      <th>r</th>\n",
       "      <th>p</th>\n",
       "    </tr>\n",
       "  </thead>\n",
       "  <tbody>\n",
       "    <tr>\n",
       "      <th>count</th>\n",
       "      <td>76.000000</td>\n",
       "      <td>76.000000</td>\n",
       "    </tr>\n",
       "    <tr>\n",
       "      <th>mean</th>\n",
       "      <td>0.063593</td>\n",
       "      <td>0.440544</td>\n",
       "    </tr>\n",
       "    <tr>\n",
       "      <th>std</th>\n",
       "      <td>0.206794</td>\n",
       "      <td>0.297679</td>\n",
       "    </tr>\n",
       "    <tr>\n",
       "      <th>min</th>\n",
       "      <td>-0.371522</td>\n",
       "      <td>0.002287</td>\n",
       "    </tr>\n",
       "    <tr>\n",
       "      <th>25%</th>\n",
       "      <td>-0.094095</td>\n",
       "      <td>0.173168</td>\n",
       "    </tr>\n",
       "    <tr>\n",
       "      <th>50%</th>\n",
       "      <td>0.070615</td>\n",
       "      <td>0.424034</td>\n",
       "    </tr>\n",
       "    <tr>\n",
       "      <th>75%</th>\n",
       "      <td>0.196680</td>\n",
       "      <td>0.701591</td>\n",
       "    </tr>\n",
       "    <tr>\n",
       "      <th>max</th>\n",
       "      <td>0.535602</td>\n",
       "      <td>0.984508</td>\n",
       "    </tr>\n",
       "  </tbody>\n",
       "</table>\n",
       "</div>"
      ],
      "text/plain": [
       "               r          p\n",
       "count  76.000000  76.000000\n",
       "mean    0.063593   0.440544\n",
       "std     0.206794   0.297679\n",
       "min    -0.371522   0.002287\n",
       "25%    -0.094095   0.173168\n",
       "50%     0.070615   0.424034\n",
       "75%     0.196680   0.701591\n",
       "max     0.535602   0.984508"
      ]
     },
     "execution_count": 27,
     "metadata": {},
     "output_type": "execute_result"
    }
   ],
   "source": [
    "len(scr_fmriCoup) # 76 participants\n",
    "scrDf = pd.DataFrame(scr_fmriCoup).T\n",
    "scrDf.columns = ['r','p']\n",
    "scrDf.describe()\n"
   ]
  },
  {
   "cell_type": "code",
   "execution_count": 28,
   "id": "d55937fc",
   "metadata": {},
   "outputs": [
    {
     "data": {
      "text/html": [
       "<div>\n",
       "<style scoped>\n",
       "    .dataframe tbody tr th:only-of-type {\n",
       "        vertical-align: middle;\n",
       "    }\n",
       "\n",
       "    .dataframe tbody tr th {\n",
       "        vertical-align: top;\n",
       "    }\n",
       "\n",
       "    .dataframe thead th {\n",
       "        text-align: right;\n",
       "    }\n",
       "</style>\n",
       "<table border=\"1\" class=\"dataframe\">\n",
       "  <thead>\n",
       "    <tr style=\"text-align: right;\">\n",
       "      <th></th>\n",
       "      <th>T</th>\n",
       "      <th>dof</th>\n",
       "      <th>alternative</th>\n",
       "      <th>p-val</th>\n",
       "      <th>CI95%</th>\n",
       "      <th>cohen-d</th>\n",
       "      <th>BF10</th>\n",
       "      <th>power</th>\n",
       "    </tr>\n",
       "  </thead>\n",
       "  <tbody>\n",
       "    <tr>\n",
       "      <th>T-test</th>\n",
       "      <td>2.68088</td>\n",
       "      <td>75</td>\n",
       "      <td>two-sided</td>\n",
       "      <td>0.009024</td>\n",
       "      <td>[0.02, 0.11]</td>\n",
       "      <td>0.307518</td>\n",
       "      <td>3.489</td>\n",
       "      <td>0.753786</td>\n",
       "    </tr>\n",
       "  </tbody>\n",
       "</table>\n",
       "</div>"
      ],
      "text/plain": [
       "              T  dof alternative     p-val         CI95%   cohen-d   BF10  \\\n",
       "T-test  2.68088   75   two-sided  0.009024  [0.02, 0.11]  0.307518  3.489   \n",
       "\n",
       "           power  \n",
       "T-test  0.753786  "
      ]
     },
     "execution_count": 28,
     "metadata": {},
     "output_type": "execute_result"
    }
   ],
   "source": [
    "pg.ttest(x=scrDf['r'], y=0) # test if correlation is different than zero"
   ]
  },
  {
   "cell_type": "code",
   "execution_count": 29,
   "id": "46464b2d",
   "metadata": {},
   "outputs": [
    {
     "data": {
      "text/html": [
       "<div>\n",
       "<style scoped>\n",
       "    .dataframe tbody tr th:only-of-type {\n",
       "        vertical-align: middle;\n",
       "    }\n",
       "\n",
       "    .dataframe tbody tr th {\n",
       "        vertical-align: top;\n",
       "    }\n",
       "\n",
       "    .dataframe thead th {\n",
       "        text-align: right;\n",
       "    }\n",
       "</style>\n",
       "<table border=\"1\" class=\"dataframe\">\n",
       "  <thead>\n",
       "    <tr style=\"text-align: right;\">\n",
       "      <th></th>\n",
       "      <th>r_amg</th>\n",
       "      <th>p</th>\n",
       "    </tr>\n",
       "  </thead>\n",
       "  <tbody>\n",
       "    <tr>\n",
       "      <th>count</th>\n",
       "      <td>76.000000</td>\n",
       "      <td>76.000000</td>\n",
       "    </tr>\n",
       "    <tr>\n",
       "      <th>mean</th>\n",
       "      <td>0.052186</td>\n",
       "      <td>0.477650</td>\n",
       "    </tr>\n",
       "    <tr>\n",
       "      <th>std</th>\n",
       "      <td>0.210633</td>\n",
       "      <td>0.313085</td>\n",
       "    </tr>\n",
       "    <tr>\n",
       "      <th>min</th>\n",
       "      <td>-0.447234</td>\n",
       "      <td>0.001215</td>\n",
       "    </tr>\n",
       "    <tr>\n",
       "      <th>25%</th>\n",
       "      <td>-0.081052</td>\n",
       "      <td>0.219977</td>\n",
       "    </tr>\n",
       "    <tr>\n",
       "      <th>50%</th>\n",
       "      <td>0.032213</td>\n",
       "      <td>0.455270</td>\n",
       "    </tr>\n",
       "    <tr>\n",
       "      <th>75%</th>\n",
       "      <td>0.186060</td>\n",
       "      <td>0.772709</td>\n",
       "    </tr>\n",
       "    <tr>\n",
       "      <th>max</th>\n",
       "      <td>0.562488</td>\n",
       "      <td>0.993942</td>\n",
       "    </tr>\n",
       "  </tbody>\n",
       "</table>\n",
       "</div>"
      ],
      "text/plain": [
       "           r_amg          p\n",
       "count  76.000000  76.000000\n",
       "mean    0.052186   0.477650\n",
       "std     0.210633   0.313085\n",
       "min    -0.447234   0.001215\n",
       "25%    -0.081052   0.219977\n",
       "50%     0.032213   0.455270\n",
       "75%     0.186060   0.772709\n",
       "max     0.562488   0.993942"
      ]
     },
     "execution_count": 29,
     "metadata": {},
     "output_type": "execute_result"
    }
   ],
   "source": [
    "scr_dfAmg = pd.DataFrame(scr_amg).T\n",
    "scr_dfAmg.columns = ['r_amg','p']\n",
    "scr_dfAmg.describe()\n"
   ]
  },
  {
   "cell_type": "code",
   "execution_count": 30,
   "id": "37a40b72",
   "metadata": {},
   "outputs": [
    {
     "data": {
      "text/html": [
       "<div>\n",
       "<style scoped>\n",
       "    .dataframe tbody tr th:only-of-type {\n",
       "        vertical-align: middle;\n",
       "    }\n",
       "\n",
       "    .dataframe tbody tr th {\n",
       "        vertical-align: top;\n",
       "    }\n",
       "\n",
       "    .dataframe thead th {\n",
       "        text-align: right;\n",
       "    }\n",
       "</style>\n",
       "<table border=\"1\" class=\"dataframe\">\n",
       "  <thead>\n",
       "    <tr style=\"text-align: right;\">\n",
       "      <th></th>\n",
       "      <th>T</th>\n",
       "      <th>dof</th>\n",
       "      <th>alternative</th>\n",
       "      <th>p-val</th>\n",
       "      <th>CI95%</th>\n",
       "      <th>cohen-d</th>\n",
       "      <th>BF10</th>\n",
       "      <th>power</th>\n",
       "    </tr>\n",
       "  </thead>\n",
       "  <tbody>\n",
       "    <tr>\n",
       "      <th>T-test</th>\n",
       "      <td>2.159904</td>\n",
       "      <td>75</td>\n",
       "      <td>two-sided</td>\n",
       "      <td>0.033976</td>\n",
       "      <td>[0.0, 0.1]</td>\n",
       "      <td>0.247758</td>\n",
       "      <td>1.126</td>\n",
       "      <td>0.568393</td>\n",
       "    </tr>\n",
       "  </tbody>\n",
       "</table>\n",
       "</div>"
      ],
      "text/plain": [
       "               T  dof alternative     p-val       CI95%   cohen-d   BF10  \\\n",
       "T-test  2.159904   75   two-sided  0.033976  [0.0, 0.1]  0.247758  1.126   \n",
       "\n",
       "           power  \n",
       "T-test  0.568393  "
      ]
     },
     "execution_count": 30,
     "metadata": {},
     "output_type": "execute_result"
    }
   ],
   "source": [
    "pg.ttest(x=scr_dfAmg['r_amg'], y=0) # test if correlation is different than zero"
   ]
  },
  {
   "cell_type": "markdown",
   "id": "ca891502",
   "metadata": {},
   "source": [
    "## Correlation between amygdala-hippocampus and SCR different than zero\n",
    "\n",
    "- Correlation between anterior hippocampus and amygdala and scr is different than zero\n",
    "- Correlation between posterior hippocampus-amygdala and scr is also different than zero\n",
    "- Correlation between amygdala-vmPFC and scr is zero"
   ]
  },
  {
   "cell_type": "markdown",
   "id": "5f1d5ddf",
   "metadata": {},
   "source": [
    "# Test Different Groups"
   ]
  },
  {
   "cell_type": "code",
   "execution_count": 31,
   "id": "684d67a6",
   "metadata": {},
   "outputs": [],
   "source": [
    "dfGroups = pd.read_csv('Behavioral/SubGroupLists.csv', dtype={'Sub': 'string'})\n",
    "dfGroups = dfGroups[['Sub','group', 'Eprime']]\n",
    "for i in dfGroups.iterrows():\n",
    "    dfGroups.at[i[0], 'Sub'] = \"sub-\" + str(i[1].Sub)"
   ]
  },
  {
   "cell_type": "code",
   "execution_count": 32,
   "id": "c5d61e88",
   "metadata": {},
   "outputs": [],
   "source": [
    "# merge both data frames (by index in the dfGroups)\n",
    "dfBoth = dfGroups.merge(scrDf, left_on='Sub', right_on=None, right_index=True)"
   ]
  },
  {
   "cell_type": "code",
   "execution_count": 33,
   "id": "e65fe1a7",
   "metadata": {},
   "outputs": [],
   "source": [
    "dfBoth['z_r'] = np.arctan(dfBoth['r']) # transform to fisher-z to compare between groups"
   ]
  },
  {
   "cell_type": "code",
   "execution_count": 36,
   "id": "15414ded",
   "metadata": {},
   "outputs": [
    {
     "data": {
      "text/plain": [
       "<AxesSubplot:xlabel='group', ylabel='z_r'>"
      ]
     },
     "execution_count": 36,
     "metadata": {},
     "output_type": "execute_result"
    },
    {
     "data": {
      "image/png": "[encoded data removed]",
      "text/plain": [
       "<Figure size 432x288 with 1 Axes>"
      ]
     },
     "metadata": {
      "needs_background": "light"
     },
     "output_type": "display_data"
    }
   ],
   "source": [
    "sns.barplot(x='group', y='z_r', data=dfBoth)"
   ]
  },
  {
   "cell_type": "code",
   "execution_count": 35,
   "id": "5bf6c80d",
   "metadata": {},
   "outputs": [
    {
     "data": {
      "text/html": [
       "<div>\n",
       "<style scoped>\n",
       "    .dataframe tbody tr th:only-of-type {\n",
       "        vertical-align: middle;\n",
       "    }\n",
       "\n",
       "    .dataframe tbody tr th {\n",
       "        vertical-align: top;\n",
       "    }\n",
       "\n",
       "    .dataframe thead th {\n",
       "        text-align: right;\n",
       "    }\n",
       "</style>\n",
       "<table border=\"1\" class=\"dataframe\">\n",
       "  <thead>\n",
       "    <tr style=\"text-align: right;\">\n",
       "      <th></th>\n",
       "      <th>Source</th>\n",
       "      <th>ddof1</th>\n",
       "      <th>ddof2</th>\n",
       "      <th>F</th>\n",
       "      <th>p-unc</th>\n",
       "      <th>np2</th>\n",
       "    </tr>\n",
       "  </thead>\n",
       "  <tbody>\n",
       "    <tr>\n",
       "      <th>0</th>\n",
       "      <td>group</td>\n",
       "      <td>2</td>\n",
       "      <td>66</td>\n",
       "      <td>0.58654</td>\n",
       "      <td>0.559121</td>\n",
       "      <td>0.017464</td>\n",
       "    </tr>\n",
       "  </tbody>\n",
       "</table>\n",
       "</div>"
      ],
      "text/plain": [
       "  Source  ddof1  ddof2        F     p-unc       np2\n",
       "0  group      2     66  0.58654  0.559121  0.017464"
      ]
     },
     "execution_count": 35,
     "metadata": {},
     "output_type": "execute_result"
    }
   ],
   "source": [
    "pg.anova(dfBoth, dv='r', between='group')"
   ]
  },
  {
   "cell_type": "code",
   "execution_count": 180,
   "id": "0eeceb76",
   "metadata": {},
   "outputs": [
    {
     "name": "stdout",
     "output_type": "stream",
     "text": [
      "                            OLS Regression Results                            \n",
      "==============================================================================\n",
      "Dep. Variable:                    z_r   R-squared:                       0.019\n",
      "Model:                            OLS   Adj. R-squared:                 -0.011\n",
      "Method:                 Least Squares   F-statistic:                    0.6373\n",
      "Date:                Mon, 08 Nov 2021   Prob (F-statistic):              0.532\n",
      "Time:                        11:12:56   Log-Likelihood:                 25.143\n",
      "No. Observations:                  69   AIC:                            -44.29\n",
      "Df Residuals:                      66   BIC:                            -37.58\n",
      "Df Model:                           2                                         \n",
      "Covariance Type:            nonrobust                                         \n",
      "==================================================================================\n",
      "                     coef    std err          t      P>|t|      [0.025      0.975]\n",
      "----------------------------------------------------------------------------------\n",
      "Intercept          0.0257      0.039      0.651      0.518      -0.053       0.104\n",
      "group[T.VCC]       0.0537      0.051      1.051      0.297      -0.048       0.156\n",
      "group[T.VPTSD]     0.0137      0.054      0.255      0.799      -0.094       0.121\n",
      "==============================================================================\n",
      "Omnibus:                        0.040   Durbin-Watson:                   2.411\n",
      "Prob(Omnibus):                  0.980   Jarque-Bera (JB):                0.210\n",
      "Skew:                          -0.011   Prob(JB):                        0.900\n",
      "Kurtosis:                       2.730   Cond. No.                         4.08\n",
      "==============================================================================\n",
      "\n",
      "Notes:\n",
      "[1] Standard Errors assume that the covariance matrix of the errors is correctly specified.\n"
     ]
    }
   ],
   "source": [
    "glm = smf.ols('z_r ~ group', data=dfBoth)\n",
    "model1 = glm.fit()\n",
    "print(model1.summary())"
   ]
  },
  {
   "cell_type": "markdown",
   "id": "5b70beb8",
   "metadata": {},
   "source": [
    "### Group differences\n",
    "- vmPFC shows no difference between groups (although healthy controls are a bit higher)\n",
    "- anterior hippocampus also shows no differences between groups\n",
    "- posterior - no group difference as well"
   ]
  },
  {
   "cell_type": "code",
   "execution_count": 183,
   "id": "784c851e",
   "metadata": {},
   "outputs": [],
   "source": [
    "# merge both data frames (by index in the dfGroups)\n",
    "dfBothA = dfBoth.merge(scr_dfAmg, left_on='Sub', right_on=None, right_index=True)"
   ]
  },
  {
   "cell_type": "code",
   "execution_count": 185,
   "id": "c624e047",
   "metadata": {},
   "outputs": [
    {
     "data": {
      "text/html": [
       "<div>\n",
       "<style scoped>\n",
       "    .dataframe tbody tr th:only-of-type {\n",
       "        vertical-align: middle;\n",
       "    }\n",
       "\n",
       "    .dataframe tbody tr th {\n",
       "        vertical-align: top;\n",
       "    }\n",
       "\n",
       "    .dataframe thead th {\n",
       "        text-align: right;\n",
       "    }\n",
       "</style>\n",
       "<table border=\"1\" class=\"dataframe\">\n",
       "  <thead>\n",
       "    <tr style=\"text-align: right;\">\n",
       "      <th></th>\n",
       "      <th>Source</th>\n",
       "      <th>ddof1</th>\n",
       "      <th>ddof2</th>\n",
       "      <th>F</th>\n",
       "      <th>p-unc</th>\n",
       "      <th>np2</th>\n",
       "    </tr>\n",
       "  </thead>\n",
       "  <tbody>\n",
       "    <tr>\n",
       "      <th>0</th>\n",
       "      <td>group</td>\n",
       "      <td>2</td>\n",
       "      <td>66</td>\n",
       "      <td>1.58944</td>\n",
       "      <td>0.21175</td>\n",
       "      <td>0.045952</td>\n",
       "    </tr>\n",
       "  </tbody>\n",
       "</table>\n",
       "</div>"
      ],
      "text/plain": [
       "  Source  ddof1  ddof2        F    p-unc       np2\n",
       "0  group      2     66  1.58944  0.21175  0.045952"
      ]
     },
     "execution_count": 185,
     "metadata": {},
     "output_type": "execute_result"
    }
   ],
   "source": [
    "pg.anova(dfBothA, dv='r_amg', between='group')\n",
    "# amygdala has above zero correlation but still no group differences"
   ]
  },
  {
   "cell_type": "markdown",
   "id": "cc06d5e6",
   "metadata": {},
   "source": [
    "# Remove first two trials\n",
    "- Just to make sure it's not mainly the habituation of SCR"
   ]
  },
  {
   "cell_type": "code",
   "execution_count": 91,
   "id": "e357da2a",
   "metadata": {},
   "outputs": [
    {
     "name": "stdout",
     "output_type": "stream",
     "text": [
      "Subject sub-143 has no data\n",
      "Subject sub-188 has no data\n",
      "Subject sub-190 has no data\n",
      "Subject sub-194 has no data\n",
      "Subject sub-135 has no data\n",
      "Subject sub-161 has no data\n",
      "Subject sub-140 has no data\n",
      "Subject sub-025 has no data\n",
      "Subject sub-137 has no data\n",
      "Subject sub-1207 has no data\n",
      "Subject sub-148 has no data\n",
      "Subject sub-147 has no data\n",
      "Subject sub-195 has no data\n"
     ]
    }
   ],
   "source": [
    "fmriSubs = fmriCoupling.keys()\n",
    "len(fmriSubs)\n",
    "scr_fmriCoup = {}\n",
    "ampSums = [] # grab array of all, just for plotting porpuses\n",
    "fmriSums = [] # grab fmri coupling for plotting\n",
    "for sub in fmriSubs:\n",
    "    #print(sub)\n",
    "    sInt =  sub.split('-')[1] #subject as integer\n",
    "    #print(sInt)\n",
    "    #try:\n",
    "    ampSum = scr['CDA.AmpSum'][scr['sub']==int(sInt)].values\n",
    "    fmri = fmriCoupling[sub]\n",
    "    if len(ampSum)==0: # check if empty data\n",
    "        print(f'Subject {sub} has no data')\n",
    "    else:\n",
    "\n",
    "        #plt.plot(ampSum, color='red')\n",
    "        #plt.plot(fmri, color='blue')\n",
    "        #plt.show()\n",
    "        scr_fmriCoup[sub] = scipy.stats.pearsonr(ampSum[2:-5], fmri[2:-5])\n",
    "        ampSums.append(ampSum)\n",
    "        fmriSums.append(fmri)"
   ]
  },
  {
   "cell_type": "code",
   "execution_count": 92,
   "id": "9d985b37",
   "metadata": {},
   "outputs": [
    {
     "data": {
      "text/html": [
       "<div>\n",
       "<style scoped>\n",
       "    .dataframe tbody tr th:only-of-type {\n",
       "        vertical-align: middle;\n",
       "    }\n",
       "\n",
       "    .dataframe tbody tr th {\n",
       "        vertical-align: top;\n",
       "    }\n",
       "\n",
       "    .dataframe thead th {\n",
       "        text-align: right;\n",
       "    }\n",
       "</style>\n",
       "<table border=\"1\" class=\"dataframe\">\n",
       "  <thead>\n",
       "    <tr style=\"text-align: right;\">\n",
       "      <th></th>\n",
       "      <th>r</th>\n",
       "      <th>p</th>\n",
       "    </tr>\n",
       "  </thead>\n",
       "  <tbody>\n",
       "    <tr>\n",
       "      <th>count</th>\n",
       "      <td>76.000000</td>\n",
       "      <td>76.000000</td>\n",
       "    </tr>\n",
       "    <tr>\n",
       "      <th>mean</th>\n",
       "      <td>0.049195</td>\n",
       "      <td>0.465204</td>\n",
       "    </tr>\n",
       "    <tr>\n",
       "      <th>std</th>\n",
       "      <td>0.212281</td>\n",
       "      <td>0.272721</td>\n",
       "    </tr>\n",
       "    <tr>\n",
       "      <th>min</th>\n",
       "      <td>-0.392217</td>\n",
       "      <td>0.010589</td>\n",
       "    </tr>\n",
       "    <tr>\n",
       "      <th>25%</th>\n",
       "      <td>-0.117718</td>\n",
       "      <td>0.245754</td>\n",
       "    </tr>\n",
       "    <tr>\n",
       "      <th>50%</th>\n",
       "      <td>0.064508</td>\n",
       "      <td>0.468144</td>\n",
       "    </tr>\n",
       "    <tr>\n",
       "      <th>75%</th>\n",
       "      <td>0.230535</td>\n",
       "      <td>0.662119</td>\n",
       "    </tr>\n",
       "    <tr>\n",
       "      <th>max</th>\n",
       "      <td>0.522183</td>\n",
       "      <td>0.991257</td>\n",
       "    </tr>\n",
       "  </tbody>\n",
       "</table>\n",
       "</div>"
      ],
      "text/plain": [
       "               r          p\n",
       "count  76.000000  76.000000\n",
       "mean    0.049195   0.465204\n",
       "std     0.212281   0.272721\n",
       "min    -0.392217   0.010589\n",
       "25%    -0.117718   0.245754\n",
       "50%     0.064508   0.468144\n",
       "75%     0.230535   0.662119\n",
       "max     0.522183   0.991257"
      ]
     },
     "execution_count": 92,
     "metadata": {},
     "output_type": "execute_result"
    }
   ],
   "source": [
    "len(scr_fmriCoup) # 76 participants\n",
    "scrDf = pd.DataFrame(scr_fmriCoup).T\n",
    "scrDf.columns = ['r','p']\n",
    "scrDf.describe()"
   ]
  },
  {
   "cell_type": "code",
   "execution_count": 93,
   "id": "a5ed0aab",
   "metadata": {},
   "outputs": [
    {
     "data": {
      "text/html": [
       "<div>\n",
       "<style scoped>\n",
       "    .dataframe tbody tr th:only-of-type {\n",
       "        vertical-align: middle;\n",
       "    }\n",
       "\n",
       "    .dataframe tbody tr th {\n",
       "        vertical-align: top;\n",
       "    }\n",
       "\n",
       "    .dataframe thead th {\n",
       "        text-align: right;\n",
       "    }\n",
       "</style>\n",
       "<table border=\"1\" class=\"dataframe\">\n",
       "  <thead>\n",
       "    <tr style=\"text-align: right;\">\n",
       "      <th></th>\n",
       "      <th>T</th>\n",
       "      <th>dof</th>\n",
       "      <th>alternative</th>\n",
       "      <th>p-val</th>\n",
       "      <th>CI95%</th>\n",
       "      <th>cohen-d</th>\n",
       "      <th>BF10</th>\n",
       "      <th>power</th>\n",
       "    </tr>\n",
       "  </thead>\n",
       "  <tbody>\n",
       "    <tr>\n",
       "      <th>T-test</th>\n",
       "      <td>2.020296</td>\n",
       "      <td>75</td>\n",
       "      <td>two-sided</td>\n",
       "      <td>0.046924</td>\n",
       "      <td>[0.0, 0.1]</td>\n",
       "      <td>0.231744</td>\n",
       "      <td>0.862</td>\n",
       "      <td>0.513771</td>\n",
       "    </tr>\n",
       "  </tbody>\n",
       "</table>\n",
       "</div>"
      ],
      "text/plain": [
       "               T  dof alternative     p-val       CI95%   cohen-d   BF10  \\\n",
       "T-test  2.020296   75   two-sided  0.046924  [0.0, 0.1]  0.231744  0.862   \n",
       "\n",
       "           power  \n",
       "T-test  0.513771  "
      ]
     },
     "execution_count": 93,
     "metadata": {},
     "output_type": "execute_result"
    }
   ],
   "source": [
    "pg.ttest(x=scrDf['r'], y=0) # test if correlation is different than zero"
   ]
  }
 ],
 "metadata": {
  "interpreter": {
   "hash": "5e405ff2f839620d6a09f52036c3a6f28ae3d8af733c0d3b4601cc4729e2f166"
  },
  "kernelspec": {
   "display_name": "Python 3 (ipykernel)",
   "language": "python",
   "name": "python3"
  },
  "language_info": {
   "codemirror_mode": {
    "name": "ipython",
    "version": 3
   },
   "file_extension": ".py",
   "mimetype": "text/x-python",
   "name": "python",
   "nbconvert_exporter": "python",
   "pygments_lexer": "ipython3",
   "version": "3.9.7"
  }
 },
 "nbformat": 4,
 "nbformat_minor": 5
}
