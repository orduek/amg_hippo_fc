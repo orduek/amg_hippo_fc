{
 "cells": [
  {
   "cell_type": "markdown",
   "metadata": {},
   "source": [
    "# Use PyMC Model for Bayes Hierarchical RL\n",
    "- Estimate learning rate (i.e. alpha) for each subject using this model"
   ]
  },
  {
   "cell_type": "code",
   "execution_count": 1,
   "metadata": {},
   "outputs": [
    {
     "name": "stderr",
     "output_type": "stream",
     "text": [
      "/gpfs/ysm/project/joormann/oad4/conda_envs/pymc4/lib/python3.9/site-packages/aesara/link/jax/dispatch.py:87: UserWarning: JAX omnistaging couldn't be disabled: Disabling of omnistaging is no longer supported in JAX version 0.2.12 and higher: see https://github.com/google/jax/blob/main/design_notes/omnistaging.md.\n",
      "  warnings.warn(f\"JAX omnistaging couldn't be disabled: {e}\")\n",
      "/gpfs/ysm/project/joormann/oad4/conda_envs/pymc4/lib/python3.9/site-packages/pymc/sampling_jax.py:36: UserWarning: This module is experimental.\n",
      "  warnings.warn(\"This module is experimental.\")\n"
     ]
    }
   ],
   "source": [
    "%config Completer.use_jedi = False\n",
    "\n",
    "import pandas as pd\n",
    "import numpy as np\n",
    "import matplotlib.pyplot as plt\n",
    "import seaborn as sns\n",
    "import scipy\n",
    "import os\n",
    "# import stan\n",
    "\n",
    "import pymc as pm\n",
    "import pymc.sampling_jax\n",
    "import arviz as az\n",
    "\n",
    "import aesara.tensor as at # used by PyMC 4.0\n",
    "import aesara\n",
    "# import learning package\n",
    "#import DMpy"
   ]
  },
  {
   "cell_type": "code",
   "execution_count": 2,
   "metadata": {},
   "outputs": [
    {
     "data": {
      "text/html": [
       "<div>\n",
       "<style scoped>\n",
       "    .dataframe tbody tr th:only-of-type {\n",
       "        vertical-align: middle;\n",
       "    }\n",
       "\n",
       "    .dataframe tbody tr th {\n",
       "        vertical-align: top;\n",
       "    }\n",
       "\n",
       "    .dataframe thead th {\n",
       "        text-align: right;\n",
       "    }\n",
       "</style>\n",
       "<table border=\"1\" class=\"dataframe\">\n",
       "  <thead>\n",
       "    <tr style=\"text-align: right;\">\n",
       "      <th></th>\n",
       "      <th>Event.Nr</th>\n",
       "      <th>CDA.nSCR</th>\n",
       "      <th>CDA.Latency</th>\n",
       "      <th>CDA.AmpSum</th>\n",
       "      <th>CDA.SCR</th>\n",
       "      <th>CDA.ISCR</th>\n",
       "      <th>CDA.PhasicMax</th>\n",
       "      <th>CDA.Tonic</th>\n",
       "      <th>TTP.nSCR</th>\n",
       "      <th>TTP.Latency</th>\n",
       "      <th>TTP.AmpSum</th>\n",
       "      <th>Global.Mean</th>\n",
       "      <th>Global.MaxDeflection</th>\n",
       "      <th>Event.NID</th>\n",
       "      <th>Event.Name</th>\n",
       "      <th>Condition</th>\n",
       "      <th>group</th>\n",
       "      <th>sub</th>\n",
       "    </tr>\n",
       "  </thead>\n",
       "  <tbody>\n",
       "    <tr>\n",
       "      <th>0</th>\n",
       "      <td>1</td>\n",
       "      <td>5</td>\n",
       "      <td>0.8435</td>\n",
       "      <td>0.2852</td>\n",
       "      <td>0.0003</td>\n",
       "      <td>0.1339</td>\n",
       "      <td>8.1296</td>\n",
       "      <td>2.3324</td>\n",
       "      <td>1</td>\n",
       "      <td>3.9335</td>\n",
       "      <td>0.5884</td>\n",
       "      <td>2.4822</td>\n",
       "      <td>0.5884</td>\n",
       "      <td>5</td>\n",
       "      <td>5</td>\n",
       "      <td>CSplusUS1</td>\n",
       "      <td>HC</td>\n",
       "      <td>189</td>\n",
       "    </tr>\n",
       "    <tr>\n",
       "      <th>1</th>\n",
       "      <td>2</td>\n",
       "      <td>4</td>\n",
       "      <td>0.7335</td>\n",
       "      <td>0.1033</td>\n",
       "      <td>0.0012</td>\n",
       "      <td>0.4737</td>\n",
       "      <td>0.3046</td>\n",
       "      <td>4.0029</td>\n",
       "      <td>0</td>\n",
       "      <td>NaN</td>\n",
       "      <td>0.0000</td>\n",
       "      <td>4.3933</td>\n",
       "      <td>0.0000</td>\n",
       "      <td>5</td>\n",
       "      <td>5</td>\n",
       "      <td>CSminus1</td>\n",
       "      <td>HC</td>\n",
       "      <td>189</td>\n",
       "    </tr>\n",
       "    <tr>\n",
       "      <th>2</th>\n",
       "      <td>3</td>\n",
       "      <td>3</td>\n",
       "      <td>2.9835</td>\n",
       "      <td>0.0783</td>\n",
       "      <td>0.0008</td>\n",
       "      <td>0.3237</td>\n",
       "      <td>0.1352</td>\n",
       "      <td>3.9579</td>\n",
       "      <td>1</td>\n",
       "      <td>2.8335</td>\n",
       "      <td>0.0260</td>\n",
       "      <td>3.9900</td>\n",
       "      <td>0.0154</td>\n",
       "      <td>5</td>\n",
       "      <td>5</td>\n",
       "      <td>CSplus1</td>\n",
       "      <td>HC</td>\n",
       "      <td>189</td>\n",
       "    </tr>\n",
       "    <tr>\n",
       "      <th>3</th>\n",
       "      <td>4</td>\n",
       "      <td>1</td>\n",
       "      <td>3.4935</td>\n",
       "      <td>0.1772</td>\n",
       "      <td>0.0002</td>\n",
       "      <td>0.0993</td>\n",
       "      <td>7.0748</td>\n",
       "      <td>3.8756</td>\n",
       "      <td>1</td>\n",
       "      <td>3.5335</td>\n",
       "      <td>0.5186</td>\n",
       "      <td>3.9212</td>\n",
       "      <td>0.5186</td>\n",
       "      <td>5</td>\n",
       "      <td>5</td>\n",
       "      <td>CSplusUS1</td>\n",
       "      <td>HC</td>\n",
       "      <td>189</td>\n",
       "    </tr>\n",
       "    <tr>\n",
       "      <th>4</th>\n",
       "      <td>5</td>\n",
       "      <td>0</td>\n",
       "      <td>NaN</td>\n",
       "      <td>0.0000</td>\n",
       "      <td>0.0004</td>\n",
       "      <td>0.1532</td>\n",
       "      <td>0.1604</td>\n",
       "      <td>4.2513</td>\n",
       "      <td>0</td>\n",
       "      <td>NaN</td>\n",
       "      <td>0.0000</td>\n",
       "      <td>4.3461</td>\n",
       "      <td>0.0000</td>\n",
       "      <td>5</td>\n",
       "      <td>5</td>\n",
       "      <td>CSminus1</td>\n",
       "      <td>HC</td>\n",
       "      <td>189</td>\n",
       "    </tr>\n",
       "  </tbody>\n",
       "</table>\n",
       "</div>"
      ],
      "text/plain": [
       "   Event.Nr  CDA.nSCR CDA.Latency  CDA.AmpSum  CDA.SCR  CDA.ISCR  \\\n",
       "0         1         5      0.8435      0.2852   0.0003    0.1339   \n",
       "1         2         4      0.7335      0.1033   0.0012    0.4737   \n",
       "2         3         3      2.9835      0.0783   0.0008    0.3237   \n",
       "3         4         1      3.4935      0.1772   0.0002    0.0993   \n",
       "4         5         0         NaN      0.0000   0.0004    0.1532   \n",
       "\n",
       "   CDA.PhasicMax  CDA.Tonic  TTP.nSCR TTP.Latency  TTP.AmpSum  Global.Mean  \\\n",
       "0         8.1296     2.3324         1      3.9335      0.5884       2.4822   \n",
       "1         0.3046     4.0029         0         NaN      0.0000       4.3933   \n",
       "2         0.1352     3.9579         1      2.8335      0.0260       3.9900   \n",
       "3         7.0748     3.8756         1      3.5335      0.5186       3.9212   \n",
       "4         0.1604     4.2513         0         NaN      0.0000       4.3461   \n",
       "\n",
       "   Global.MaxDeflection  Event.NID  Event.Name  Condition group  sub  \n",
       "0                0.5884          5           5  CSplusUS1    HC  189  \n",
       "1                0.0000          5           5   CSminus1    HC  189  \n",
       "2                0.0154          5           5    CSplus1    HC  189  \n",
       "3                0.5186          5           5  CSplusUS1    HC  189  \n",
       "4                0.0000          5           5   CSminus1    HC  189  "
      ]
     },
     "execution_count": 2,
     "metadata": {},
     "output_type": "execute_result"
    }
   ],
   "source": [
    "# read scr file\n",
    "#scr = pd.read_csv('/media/Data/Lab_Projects/PTSD_Reversal/Behavioral/SCR3.csv')\n",
    "scr = pd.read_csv('Behavioral/SCR3.csv')\n",
    "scr.head()\n",
    "\n"
   ]
  },
  {
   "cell_type": "code",
   "execution_count": 3,
   "metadata": {},
   "outputs": [],
   "source": [
    "scr = scr[['sub','Condition','Event.Nr','CDA.AmpSum']]\n",
    "scr['sub'] = scr['sub'].astype('string')\n",
    "for i in scr.iterrows():\n",
    "    if len(i[1]['sub'])<=2:\n",
    "        #print(i[1]['sub'])\n",
    "        sub = 'sub-0' + str(i[1]['sub'])\n",
    "    else:\n",
    "        sub = 'sub-' + str(i[1]['sub'])\n",
    "    #print(sub)\n",
    "    scr.at[i[0], 'sub'] = sub\n",
    "    "
   ]
  },
  {
   "cell_type": "code",
   "execution_count": 4,
   "metadata": {},
   "outputs": [
    {
     "data": {
      "text/plain": [
       "101"
      ]
     },
     "execution_count": 4,
     "metadata": {},
     "output_type": "execute_result"
    }
   ],
   "source": [
    "len(scr['sub'].unique())"
   ]
  },
  {
   "cell_type": "code",
   "execution_count": 6,
   "metadata": {
    "tags": []
   },
   "outputs": [
    {
     "data": {
      "text/plain": [
       "86"
      ]
     },
     "execution_count": 6,
     "metadata": {},
     "output_type": "execute_result"
    }
   ],
   "source": [
    "# grab subjects with 69 trials\n",
    "scr_clean = scr.copy() # make a copy of original\n",
    "for sub in scr['sub'].unique():\n",
    "    df = scr[scr['sub']==sub]\n",
    "    #print (len(df))\n",
    "    if len(df)<69:\n",
    "        scr_clean = scr_clean[scr_clean['sub']!=sub]\n",
    "        \n",
    "len(scr_clean['sub'].unique()) # total of 86 valid subjects\n"
   ]
  },
  {
   "cell_type": "code",
   "execution_count": 7,
   "metadata": {},
   "outputs": [],
   "source": [
    "# list of subjects that has both fMRI and SCR data\n",
    "subject_list = ['sub-189', 'sub-205', 'sub-071', 'sub-204', 'sub-085', 'sub-100', 'sub-132', 'sub-185', 'sub-167', 'sub-043', 'sub-062', 'sub-073',\n",
    "       'sub-082', 'sub-030', 'sub-160', 'sub-196', 'sub-1223', 'sub-169', 'sub-1222', 'sub-055', 'sub-170', 'sub-047', 'sub-177', 'sub-130',\n",
    "       'sub-172', 'sub-200', 'sub-173', 'sub-026', 'sub-059', 'sub-072', 'sub-1232', 'sub-166', 'sub-032', 'sub-016', 'sub-1205', 'sub-186',\n",
    "       'sub-056', 'sub-053', 'sub-150', 'sub-065', 'sub-154', 'sub-193', 'sub-165', 'sub-103', 'sub-168', 'sub-102', 'sub-048', 'sub-027',\n",
    "       'sub-182', 'sub-202', 'sub-203', 'sub-066', 'sub-038', 'sub-184', 'sub-171', 'sub-179', 'sub-153', 'sub-144', 'sub-178', 'sub-063',\n",
    "       'sub-010', 'sub-158', 'sub-083', 'sub-126', 'sub-152']\n"
   ]
  },
  {
   "cell_type": "code",
   "execution_count": 8,
   "metadata": {},
   "outputs": [
    {
     "data": {
      "text/plain": [
       "array([ 1,  2,  3, ..., 67, 68, 69])"
      ]
     },
     "execution_count": 8,
     "metadata": {},
     "output_type": "execute_result"
    }
   ],
   "source": [
    "# grab only relevant subjects (with both MRI and SCR data)\n",
    "scrTwo = scr_clean[scr_clean['sub'].isin(subject_list)]#[(scr['sub']==152) |(scr['sub']==189) | (scr['sub']==86) | (scr['sub']==48)]\n",
    "scrTwo['Event.Nr'].values"
   ]
  },
  {
   "cell_type": "markdown",
   "metadata": {},
   "source": [
    "Organize the data for the analysis"
   ]
  },
  {
   "cell_type": "code",
   "execution_count": 9,
   "metadata": {},
   "outputs": [
    {
     "name": "stdout",
     "output_type": "stream",
     "text": [
      "(4485,)\n",
      "(4485,)\n",
      "(4485,)\n"
     ]
    }
   ],
   "source": [
    "# organize data accordingly\n",
    "# first, grab just the relevant variables (subject, trial, stimuli, shock)\n",
    "# we need to generate a new variable shock (1=yes, 0=no)\n",
    "# we also need a new variable stim (1=CS+, 2=CS-)\n",
    "scrVec = scrTwo['CDA.AmpSum'].values\n",
    "print(scrVec.shape)\n",
    "shockVec = np.zeros(len(scrVec), dtype=np.int32) # vector to capture shock (1=yes, 0=no)\n",
    "stimVec = np.zeros(len(scrVec), dtype=np.int32) # vector to capture stimulus (1=CS+, 2= CS-)\n",
    "\n",
    "for i, cond in enumerate(scrTwo['Condition'].values):\n",
    "    if cond=='CSplusUS1':\n",
    "        shockVec[i]= 1\n",
    "        stimVec[i] = 1\n",
    "    elif cond=='CSminusUS2':\n",
    "            # after reversal so minus becomes plus\n",
    "        shockVec[i]= 1\n",
    "        stimVec[i] = 0\n",
    "    elif cond=='CSplus2':\n",
    "            # after reversal so plus becomes minus\n",
    "            shockVec[i]=0\n",
    "            stimVec[i] = 1\n",
    "    elif cond=='CSplus1':\n",
    "            stimVec[i] = 1\n",
    "            shockVec[i]= 0\n",
    "    elif cond=='CSminus1':\n",
    "            stimVec[i] = 0\n",
    "            shockVec[i] = 0\n",
    "    elif cond=='CSminus2':\n",
    "        stimVec[i] = 0\n",
    "        shockVec[i] = 0\n",
    "    else:\n",
    "        print(f' Condition is {cond}')\n",
    "        stimVec[i] = 9\n",
    "        shockVec[i] = 9\n",
    "print(shockVec.shape)\n",
    "print(stimVec.shape)"
   ]
  },
  {
   "cell_type": "code",
   "execution_count": 10,
   "metadata": {},
   "outputs": [
    {
     "data": {
      "text/plain": [
       "0.38235294117647056"
      ]
     },
     "execution_count": 10,
     "metadata": {},
     "output_type": "execute_result"
    }
   ],
   "source": [
    "sum(shockVec) / sum(stimVec) "
   ]
  },
  {
   "cell_type": "code",
   "execution_count": 11,
   "metadata": {},
   "outputs": [],
   "source": [
    "n_trials, n_subj = 69,len(scrTwo['sub'].unique())\n",
    "trials, subj = np.meshgrid(range(n_trials), range(n_subj))"
   ]
  },
  {
   "cell_type": "code",
   "execution_count": 12,
   "metadata": {},
   "outputs": [],
   "source": [
    "n_trials, n_subj = 69,len(scrTwo['sub'].unique())\n",
    "trials, subj = np.meshgrid(range(n_trials), range(n_subj))\n",
    "\n",
    "trials = at.as_tensor_variable(trials.T)\n",
    "subj = at.as_tensor_variable(subj.T)\n",
    "stim = np.reshape(stimVec, (n_subj,n_trials)).T # transform to matrix trials x subject\n",
    "shock = np.reshape(shockVec, (n_subj,n_trials)).T \n",
    "scrMat = np.reshape(scrVec, (n_subj, n_trials)).T"
   ]
  },
  {
   "cell_type": "code",
   "execution_count": 13,
   "metadata": {},
   "outputs": [],
   "source": [
    "stim = at.as_tensor_variable(stim)\n",
    "shock = at.as_tensor_variable(shock)\n"
   ]
  },
  {
   "cell_type": "markdown",
   "metadata": {},
   "source": [
    "# Build PyMC code"
   ]
  },
  {
   "cell_type": "code",
   "execution_count": 14,
   "metadata": {},
   "outputs": [],
   "source": [
    "#scrs = tt.zeros(30) # set empty scr tensor (vector)\n",
    "   \n",
    "# generate functions to run\n",
    "def update_Q(stim, shock,\n",
    "             Qs,vec,\n",
    "             alpha, n_subj):\n",
    "    \"\"\"\n",
    "    This function updates the Q table according to the RL update rule.\n",
    "    It will be called by theano.scan to do so recursevely, given the observed data and the alpha parameter\n",
    "    This could have been replaced be the following lamba expression in the theano.scan fn argument:\n",
    "        fn=lamba action, reward, Qs, alpha: tt.set_subtensor(Qs[action], Qs[action] + alpha * (reward - Qs[action]))\n",
    "    \"\"\"\n",
    "      \n",
    "    PE = shock - Qs[at.arange(n_subj), stim]\n",
    "    Qs = at.set_subtensor(Qs[at.arange(n_subj),stim], Qs[at.arange(n_subj),stim] + alpha * PE)\n",
    "    \n",
    "    # in order to get a vector of expected outcome (dependent on the stimulus presentes [CS+, CS-] \n",
    "    # we us if statement (switch in theano)\n",
    "    vec = at.set_subtensor(vec[at.arange(n_subj),0], (at.switch(at.eq(stim,1), \n",
    "                                                                Qs[at.arange(n_subj),1], Qs[at.arange(n_subj),0])))\n",
    "    \n",
    "    return Qs, vec, PE\n",
    "\n",
    "def theano_llik_td(alpha,  stim, shock, n_subj):\n",
    "   # stim = theano.shared(np.asarray(stim, dtype='int16'))\n",
    "   # shock = theano.shared(np.asarray(shock, dtype='int16'))\n",
    "\n",
    "    # Compute the Qs values\n",
    "    Qs = 0.5 * at.ones((n_subj,2), dtype='float64') # set values for boths stimuli (CS+, CS-)\n",
    "    vec = 0.5 * at.ones((n_subj,1), dtype='float64') # vector to save the relevant stimulus's expactation\n",
    "    [Qs,vec, PE], updates = aesara.scan(\n",
    "        fn=update_Q,\n",
    "        sequences=[stim, shock],\n",
    "        outputs_info=[Qs, vec, None],\n",
    "        non_sequences=[alpha, n_subj])\n",
    "\n",
    "       \n",
    "    return Qs, vec, PE"
   ]
  },
  {
   "cell_type": "code",
   "execution_count": 19,
   "metadata": {},
   "outputs": [],
   "source": [
    "results, vec, pe = theano_llik_td(0.2, stim, shock, n_subj)\n",
    "vec_ = vec[trials, subj,0]\n",
    "v = at.reshape(vec_.T, n_subj*n_trials, ndim=1)\n",
    "vec_clean = v[shockVec==0]"
   ]
  },
  {
   "cell_type": "code",
   "execution_count": 21,
   "metadata": {
    "tags": []
   },
   "outputs": [
    {
     "data": {
      "text/plain": [
       "array([0.4       , 0.48      , 0.32      , ..., 0.22667535, 0.00543432,\n",
       "       0.18134028])"
      ]
     },
     "execution_count": 21,
     "metadata": {},
     "output_type": "execute_result"
    }
   ],
   "source": [
    "vec_clean.eval()"
   ]
  },
  {
   "cell_type": "code",
   "execution_count": 16,
   "metadata": {},
   "outputs": [],
   "source": [
    "# get index\n",
    "shIn = np.argwhere(shockVec==1)\n",
    "# remove shocks from SCR vector (feed the model)\n",
    "scrV = np.reshape(scrMat.T, n_subj*n_trials)\n",
    "# clean scr from shocks\n",
    "scrClean = scrVec[shockVec==0]#np.delete(scrVec, shIn)"
   ]
  },
  {
   "cell_type": "code",
   "execution_count": 23,
   "metadata": {},
   "outputs": [
    {
     "data": {
      "text/plain": [
       "(3640,)"
      ]
     },
     "execution_count": 23,
     "metadata": {},
     "output_type": "execute_result"
    }
   ],
   "source": [
    "scrClean.shape"
   ]
  },
  {
   "cell_type": "code",
   "execution_count": 32,
   "metadata": {},
   "outputs": [
    {
     "data": {
      "text/plain": [
       "0.0"
      ]
     },
     "execution_count": 32,
     "metadata": {},
     "output_type": "execute_result"
    }
   ],
   "source": [
    "np.min(scrClean)"
   ]
  },
  {
   "cell_type": "code",
   "execution_count": 30,
   "metadata": {},
   "outputs": [
    {
     "data": {
      "text/plain": [
       "<AxesSubplot:ylabel='Count'>"
      ]
     },
     "execution_count": 30,
     "metadata": {},
     "output_type": "execute_result"
    },
    {
     "data": {
      "image/png": "[encoded data removed]",
      "text/plain": [
       "<Figure size 432x288 with 1 Axes>"
      ]
     },
     "metadata": {
      "needs_background": "light"
     },
     "output_type": "display_data"
    }
   ],
   "source": [
    "sns.histplot(scrClean)"
   ]
  },
  {
   "cell_type": "markdown",
   "metadata": {},
   "source": [
    "# Model using hyperparameter in different way\n",
    "- For reference:\n",
    "https://docs.pymc.io/en/v3/pymc-examples/examples/case_studies/hierarchical_partial_pooling.html"
   ]
  },
  {
   "cell_type": "code",
   "execution_count": 17,
   "metadata": {},
   "outputs": [],
   "source": [
    "with pm.Model() as m5:\n",
    "    \n",
    "    # α\n",
    "    phi = pm.Uniform(\"phi\", lower=0.0, upper=1.0)\n",
    "    kappa_log = pm.Exponential(\"kappa_log\", lam=1.5)\n",
    "    kappa = pm.Deterministic(\"kappa\", at.exp(kappa_log))\n",
    "    alpha = pm.Beta(\"alpha\", alpha=phi * kappa, beta=(1.0 - phi) * kappa, shape=n_subj)\n",
    "    \n",
    "    # β (reparametarization)\n",
    "    beta_h = pm.Normal('beta_h', 0,1, shape=n_subj)\n",
    "    beta_sd = pm.HalfNormal('beta_sd', 5)\n",
    "    beta = pm.Deterministic('beta',0 + beta_h*beta_sd)\n",
    "       \n",
    "    eps = pm.HalfNormal('eps', 5)\n",
    "    \n",
    "    Qs = 0.5 * at.ones((n_subj,2), dtype='float64') # set values for boths stimuli (CS+, CS-)\n",
    "    vec = 0.5 * at.ones((n_subj,1), dtype='float64') # vector to save the relevant stimulus's expactation\n",
    "    \n",
    "    [Qs,vec, pe], updates = aesara.scan(\n",
    "        fn=update_Q,\n",
    "        sequences=[stim, shock],\n",
    "        outputs_info=[Qs, vec, None],\n",
    "        non_sequences=[alpha, n_subj])\n",
    "   \n",
    "     \n",
    "    vec_ = vec[trials, subj,0] * beta[subj]\n",
    "    # add matrix of expected values (trials X subjects)\n",
    "    ev = pm.Deterministic('expected_value', vec_)\n",
    "    # add PE\n",
    "    pe = pm.Deterministic('pe', pe)\n",
    "    \n",
    "    # transform to vector\n",
    "    v = at.reshape(vec_.T, n_subj*n_trials, ndim=1)\n",
    "    # clean shocks\n",
    "    vec_clean = v[shockVec==0]\n",
    "       \n",
    "    # likelihood function\n",
    "    scrs = pm.Normal('scrs', mu = vec_clean, sigma = eps, observed=scrClean) \n",
    "   "
   ]
  },
  {
   "cell_type": "code",
   "execution_count": 19,
   "metadata": {},
   "outputs": [
    {
     "name": "stderr",
     "output_type": "stream",
     "text": [
      "Auto-assigning NUTS sampler...\n",
      "INFO:pymc:Auto-assigning NUTS sampler...\n",
      "Initializing NUTS using jitter+adapt_diag...\n",
      "INFO:pymc:Initializing NUTS using jitter+adapt_diag...\n",
      "Multiprocess sampling (4 chains in 4 jobs)\n",
      "INFO:pymc:Multiprocess sampling (4 chains in 4 jobs)\n",
      "NUTS: [phi, kappa_log, alpha, beta_h, beta_sd, eps]\n",
      "INFO:pymc:NUTS: [phi, kappa_log, alpha, beta_h, beta_sd, eps]\n"
     ]
    },
    {
     "data": {
      "text/html": [
       "\n",
       "<style>\n",
       "    /* Turns off some styling */\n",
       "    progress {\n",
       "        /* gets rid of default border in Firefox and Opera. */\n",
       "        border: none;\n",
       "        /* Needs to be in here for Safari polyfill so background images work as expected. */\n",
       "        background-size: auto;\n",
       "    }\n",
       "    .progress-bar-interrupted, .progress-bar-interrupted::-webkit-progress-bar {\n",
       "        background: #F44336;\n",
       "    }\n",
       "</style>\n"
      ],
      "text/plain": [
       "<IPython.core.display.HTML object>"
      ]
     },
     "metadata": {},
     "output_type": "display_data"
    },
    {
     "data": {
      "text/html": [
       "\n",
       "    <div>\n",
       "      <progress value='24000' class='' max='24000' style='width:300px; height:20px; vertical-align: middle;'></progress>\n",
       "      100.00% [24000/24000 49:01<00:00 Sampling 4 chains, 0 divergences]\n",
       "    </div>\n",
       "    "
      ],
      "text/plain": [
       "<IPython.core.display.HTML object>"
      ]
     },
     "metadata": {},
     "output_type": "display_data"
    },
    {
     "name": "stderr",
     "output_type": "stream",
     "text": [
      "Sampling 4 chains for 1_000 tune and 5_000 draw iterations (4_000 + 20_000 draws total) took 2944 seconds.\n",
      "INFO:pymc:Sampling 4 chains for 1_000 tune and 5_000 draw iterations (4_000 + 20_000 draws total) took 2944 seconds.\n"
     ]
    }
   ],
   "source": [
    "with m5:\n",
    "    trH_phi = pm.sample(target_accept=.95, chains=4,  draws = 5000)"
   ]
  },
  {
   "cell_type": "code",
   "execution_count": 19,
   "metadata": {
    "collapsed": true,
    "jupyter": {
     "outputs_hidden": true
    },
    "tags": []
   },
   "outputs": [
    {
     "data": {
      "image/svg+xml": [
       "<?xml version=\"1.0\" encoding=\"UTF-8\" standalone=\"no\"?>\n",
       "<!DOCTYPE svg PUBLIC \"-//W3C//DTD SVG 1.1//EN\"\n",
       " \"http://www.w3.org/Graphics/SVG/1.1/DTD/svg11.dtd\">\n",
       "<!-- Generated by graphviz version 2.50.0 (20211209.0339)\n",
       " -->\n",
       "<!-- Pages: 1 -->\n",
       "<svg width=\"460pt\" height=\"466pt\"\n",
       " viewBox=\"0.00 0.00 459.67 465.81\" xmlns=\"http://www.w3.org/2000/svg\" xmlns:xlink=\"http://www.w3.org/1999/xlink\">\n",
       "<g id=\"graph0\" class=\"graph\" transform=\"scale(1 1) rotate(0) translate(4 461.81)\">\n",
       "<polygon fill=\"white\" stroke=\"transparent\" points=\"-4,4 -4,-461.81 455.67,-461.81 455.67,4 -4,4\"/>\n",
       "<g id=\"clust1\" class=\"cluster\">\n",
       "<title>cluster86</title>\n",
       "<path fill=\"none\" stroke=\"black\" d=\"M153.98,-129.95C153.98,-129.95 312.98,-129.95 312.98,-129.95 318.98,-129.95 324.98,-135.95 324.98,-141.95 324.98,-141.95 324.98,-231.91 324.98,-231.91 324.98,-237.91 318.98,-243.91 312.98,-243.91 312.98,-243.91 153.98,-243.91 153.98,-243.91 147.98,-243.91 141.98,-237.91 141.98,-231.91 141.98,-231.91 141.98,-141.95 141.98,-141.95 141.98,-135.95 147.98,-129.95 153.98,-129.95\"/>\n",
       "<text text-anchor=\"middle\" x=\"309.98\" y=\"-137.75\" font-family=\"Times,serif\" font-size=\"14.00\">86</text>\n",
       "</g>\n",
       "<g id=\"clust2\" class=\"cluster\">\n",
       "<title>cluster69 x 86</title>\n",
       "<path fill=\"none\" stroke=\"black\" d=\"M71.98,-8C71.98,-8 376.98,-8 376.98,-8 382.98,-8 388.98,-14 388.98,-20 388.98,-20 388.98,-109.95 388.98,-109.95 388.98,-115.95 382.98,-121.95 376.98,-121.95 376.98,-121.95 71.98,-121.95 71.98,-121.95 65.98,-121.95 59.98,-115.95 59.98,-109.95 59.98,-109.95 59.98,-20 59.98,-20 59.98,-14 65.98,-8 71.98,-8\"/>\n",
       "<text text-anchor=\"middle\" x=\"359.98\" y=\"-15.8\" font-family=\"Times,serif\" font-size=\"14.00\">69 x 86</text>\n",
       "</g>\n",
       "<!-- kappa_log -->\n",
       "<g id=\"node1\" class=\"node\">\n",
       "<title>kappa_log</title>\n",
       "<ellipse fill=\"none\" stroke=\"black\" cx=\"57.98\" cy=\"-420.34\" rx=\"57.97\" ry=\"37.45\"/>\n",
       "<text text-anchor=\"middle\" x=\"57.98\" y=\"-431.64\" font-family=\"Times,serif\" font-size=\"14.00\">kappa_log</text>\n",
       "<text text-anchor=\"middle\" x=\"57.98\" y=\"-416.64\" font-family=\"Times,serif\" font-size=\"14.00\">~</text>\n",
       "<text text-anchor=\"middle\" x=\"57.98\" y=\"-401.64\" font-family=\"Times,serif\" font-size=\"14.00\">Exponential</text>\n",
       "</g>\n",
       "<!-- kappa -->\n",
       "<g id=\"node2\" class=\"node\">\n",
       "<title>kappa</title>\n",
       "<polygon fill=\"none\" stroke=\"black\" points=\"103.98,-335.88 11.98,-335.88 11.98,-282.88 103.98,-282.88 103.98,-335.88\"/>\n",
       "<text text-anchor=\"middle\" x=\"57.98\" y=\"-320.68\" font-family=\"Times,serif\" font-size=\"14.00\">kappa</text>\n",
       "<text text-anchor=\"middle\" x=\"57.98\" y=\"-305.68\" font-family=\"Times,serif\" font-size=\"14.00\">~</text>\n",
       "<text text-anchor=\"middle\" x=\"57.98\" y=\"-290.68\" font-family=\"Times,serif\" font-size=\"14.00\">Deterministic</text>\n",
       "</g>\n",
       "<!-- kappa_log&#45;&gt;kappa -->\n",
       "<g id=\"edge1\" class=\"edge\">\n",
       "<title>kappa_log&#45;&gt;kappa</title>\n",
       "<path fill=\"none\" stroke=\"black\" d=\"M57.98,-382.75C57.98,-371.02 57.98,-358.03 57.98,-346.34\"/>\n",
       "<polygon fill=\"black\" stroke=\"black\" points=\"61.48,-346.04 57.98,-336.04 54.48,-346.04 61.48,-346.04\"/>\n",
       "</g>\n",
       "<!-- alpha -->\n",
       "<g id=\"node7\" class=\"node\">\n",
       "<title>alpha</title>\n",
       "<ellipse fill=\"none\" stroke=\"black\" cx=\"182.98\" cy=\"-198.43\" rx=\"32.55\" ry=\"37.45\"/>\n",
       "<text text-anchor=\"middle\" x=\"182.98\" y=\"-209.73\" font-family=\"Times,serif\" font-size=\"14.00\">alpha</text>\n",
       "<text text-anchor=\"middle\" x=\"182.98\" y=\"-194.73\" font-family=\"Times,serif\" font-size=\"14.00\">~</text>\n",
       "<text text-anchor=\"middle\" x=\"182.98\" y=\"-179.73\" font-family=\"Times,serif\" font-size=\"14.00\">Beta</text>\n",
       "</g>\n",
       "<!-- kappa&#45;&gt;alpha -->\n",
       "<g id=\"edge3\" class=\"edge\">\n",
       "<title>kappa&#45;&gt;alpha</title>\n",
       "<path fill=\"none\" stroke=\"black\" d=\"M87.29,-282.84C105.94,-266.59 130.13,-245.49 149.53,-228.59\"/>\n",
       "<polygon fill=\"black\" stroke=\"black\" points=\"152.01,-231.07 157.25,-221.86 147.41,-225.79 152.01,-231.07\"/>\n",
       "</g>\n",
       "<!-- beta_sd -->\n",
       "<g id=\"node3\" class=\"node\">\n",
       "<title>beta_sd</title>\n",
       "<ellipse fill=\"none\" stroke=\"black\" cx=\"290.98\" cy=\"-309.38\" rx=\"58.88\" ry=\"37.45\"/>\n",
       "<text text-anchor=\"middle\" x=\"290.98\" y=\"-320.68\" font-family=\"Times,serif\" font-size=\"14.00\">beta_sd</text>\n",
       "<text text-anchor=\"middle\" x=\"290.98\" y=\"-305.68\" font-family=\"Times,serif\" font-size=\"14.00\">~</text>\n",
       "<text text-anchor=\"middle\" x=\"290.98\" y=\"-290.68\" font-family=\"Times,serif\" font-size=\"14.00\">HalfNormal</text>\n",
       "</g>\n",
       "<!-- beta -->\n",
       "<g id=\"node8\" class=\"node\">\n",
       "<title>beta</title>\n",
       "<ellipse fill=\"none\" stroke=\"black\" cx=\"274.98\" cy=\"-198.43\" rx=\"41.94\" ry=\"37.45\"/>\n",
       "<text text-anchor=\"middle\" x=\"274.98\" y=\"-209.73\" font-family=\"Times,serif\" font-size=\"14.00\">beta</text>\n",
       "<text text-anchor=\"middle\" x=\"274.98\" y=\"-194.73\" font-family=\"Times,serif\" font-size=\"14.00\">~</text>\n",
       "<text text-anchor=\"middle\" x=\"274.98\" y=\"-179.73\" font-family=\"Times,serif\" font-size=\"14.00\">Normal</text>\n",
       "</g>\n",
       "<!-- beta_sd&#45;&gt;beta -->\n",
       "<g id=\"edge5\" class=\"edge\">\n",
       "<title>beta_sd&#45;&gt;beta</title>\n",
       "<path fill=\"none\" stroke=\"black\" d=\"M285.61,-271.8C284.38,-263.45 283.06,-254.46 281.79,-245.76\"/>\n",
       "<polygon fill=\"black\" stroke=\"black\" points=\"285.23,-245.12 280.31,-235.73 278.3,-246.13 285.23,-245.12\"/>\n",
       "</g>\n",
       "<!-- phi -->\n",
       "<g id=\"node4\" class=\"node\">\n",
       "<title>phi</title>\n",
       "<ellipse fill=\"none\" stroke=\"black\" cx=\"167.98\" cy=\"-309.38\" rx=\"45.92\" ry=\"37.45\"/>\n",
       "<text text-anchor=\"middle\" x=\"167.98\" y=\"-320.68\" font-family=\"Times,serif\" font-size=\"14.00\">phi</text>\n",
       "<text text-anchor=\"middle\" x=\"167.98\" y=\"-305.68\" font-family=\"Times,serif\" font-size=\"14.00\">~</text>\n",
       "<text text-anchor=\"middle\" x=\"167.98\" y=\"-290.68\" font-family=\"Times,serif\" font-size=\"14.00\">Uniform</text>\n",
       "</g>\n",
       "<!-- phi&#45;&gt;alpha -->\n",
       "<g id=\"edge2\" class=\"edge\">\n",
       "<title>phi&#45;&gt;alpha</title>\n",
       "<path fill=\"none\" stroke=\"black\" d=\"M172.98,-272.1C174.14,-263.65 175.4,-254.54 176.61,-245.71\"/>\n",
       "<polygon fill=\"black\" stroke=\"black\" points=\"180.11,-245.94 178.01,-235.55 173.18,-244.98 180.11,-245.94\"/>\n",
       "</g>\n",
       "<!-- beta_h -->\n",
       "<g id=\"node5\" class=\"node\">\n",
       "<title>beta_h</title>\n",
       "<ellipse fill=\"none\" stroke=\"black\" cx=\"408.98\" cy=\"-309.38\" rx=\"41.94\" ry=\"37.45\"/>\n",
       "<text text-anchor=\"middle\" x=\"408.98\" y=\"-320.68\" font-family=\"Times,serif\" font-size=\"14.00\">beta_h</text>\n",
       "<text text-anchor=\"middle\" x=\"408.98\" y=\"-305.68\" font-family=\"Times,serif\" font-size=\"14.00\">~</text>\n",
       "<text text-anchor=\"middle\" x=\"408.98\" y=\"-290.68\" font-family=\"Times,serif\" font-size=\"14.00\">Normal</text>\n",
       "</g>\n",
       "<!-- beta_h&#45;&gt;beta -->\n",
       "<g id=\"edge4\" class=\"edge\">\n",
       "<title>beta_h&#45;&gt;beta</title>\n",
       "<path fill=\"none\" stroke=\"black\" d=\"M377.05,-284.73C361.18,-272.76 341.84,-257.85 324.98,-243.91 320.51,-240.21 315.88,-236.26 311.32,-232.3\"/>\n",
       "<polygon fill=\"black\" stroke=\"black\" points=\"313.58,-229.63 303.76,-225.66 308.96,-234.89 313.58,-229.63\"/>\n",
       "</g>\n",
       "<!-- eps -->\n",
       "<g id=\"node6\" class=\"node\">\n",
       "<title>eps</title>\n",
       "<ellipse fill=\"none\" stroke=\"black\" cx=\"392.98\" cy=\"-198.43\" rx=\"58.88\" ry=\"37.45\"/>\n",
       "<text text-anchor=\"middle\" x=\"392.98\" y=\"-209.73\" font-family=\"Times,serif\" font-size=\"14.00\">eps</text>\n",
       "<text text-anchor=\"middle\" x=\"392.98\" y=\"-194.73\" font-family=\"Times,serif\" font-size=\"14.00\">~</text>\n",
       "<text text-anchor=\"middle\" x=\"392.98\" y=\"-179.73\" font-family=\"Times,serif\" font-size=\"14.00\">HalfNormal</text>\n",
       "</g>\n",
       "<!-- scrs -->\n",
       "<g id=\"node10\" class=\"node\">\n",
       "<title>scrs</title>\n",
       "<ellipse fill=\"lightgrey\" stroke=\"black\" cx=\"338.98\" cy=\"-76.48\" rx=\"41.94\" ry=\"37.45\"/>\n",
       "<text text-anchor=\"middle\" x=\"338.98\" y=\"-87.78\" font-family=\"Times,serif\" font-size=\"14.00\">scrs</text>\n",
       "<text text-anchor=\"middle\" x=\"338.98\" y=\"-72.78\" font-family=\"Times,serif\" font-size=\"14.00\">~</text>\n",
       "<text text-anchor=\"middle\" x=\"338.98\" y=\"-57.78\" font-family=\"Times,serif\" font-size=\"14.00\">Normal</text>\n",
       "</g>\n",
       "<!-- eps&#45;&gt;scrs -->\n",
       "<g id=\"edge9\" class=\"edge\">\n",
       "<title>eps&#45;&gt;scrs</title>\n",
       "<path fill=\"none\" stroke=\"black\" d=\"M377.07,-162.09C371.26,-149.17 364.62,-134.42 358.52,-120.88\"/>\n",
       "<polygon fill=\"black\" stroke=\"black\" points=\"361.7,-119.42 354.41,-111.74 355.32,-122.3 361.7,-119.42\"/>\n",
       "</g>\n",
       "<!-- expected_value -->\n",
       "<g id=\"node9\" class=\"node\">\n",
       "<title>expected_value</title>\n",
       "<polygon fill=\"none\" stroke=\"black\" points=\"279.48,-102.98 178.48,-102.98 178.48,-49.98 279.48,-49.98 279.48,-102.98\"/>\n",
       "<text text-anchor=\"middle\" x=\"228.98\" y=\"-87.78\" font-family=\"Times,serif\" font-size=\"14.00\">expected_value</text>\n",
       "<text text-anchor=\"middle\" x=\"228.98\" y=\"-72.78\" font-family=\"Times,serif\" font-size=\"14.00\">~</text>\n",
       "<text text-anchor=\"middle\" x=\"228.98\" y=\"-57.78\" font-family=\"Times,serif\" font-size=\"14.00\">Deterministic</text>\n",
       "</g>\n",
       "<!-- alpha&#45;&gt;expected_value -->\n",
       "<g id=\"edge6\" class=\"edge\">\n",
       "<title>alpha&#45;&gt;expected_value</title>\n",
       "<path fill=\"none\" stroke=\"black\" d=\"M195.92,-163.7C201.99,-147.86 209.23,-128.98 215.39,-112.93\"/>\n",
       "<polygon fill=\"black\" stroke=\"black\" points=\"218.75,-113.94 219.06,-103.35 212.21,-111.44 218.75,-113.94\"/>\n",
       "</g>\n",
       "<!-- alpha&#45;&gt;scrs -->\n",
       "<g id=\"edge10\" class=\"edge\">\n",
       "<title>alpha&#45;&gt;scrs</title>\n",
       "<path fill=\"none\" stroke=\"black\" d=\"M195.78,-163.9C202.31,-151.25 211.55,-137.99 223.98,-129.95 248.43,-114.16 262.46,-133.95 288.98,-121.95 294.48,-119.47 299.8,-116.16 304.79,-112.47\"/>\n",
       "<polygon fill=\"black\" stroke=\"black\" points=\"307.26,-114.98 312.85,-105.98 302.87,-109.53 307.26,-114.98\"/>\n",
       "</g>\n",
       "<!-- pe -->\n",
       "<g id=\"node11\" class=\"node\">\n",
       "<title>pe</title>\n",
       "<polygon fill=\"none\" stroke=\"black\" points=\"159.98,-102.98 67.98,-102.98 67.98,-49.98 159.98,-49.98 159.98,-102.98\"/>\n",
       "<text text-anchor=\"middle\" x=\"113.98\" y=\"-87.78\" font-family=\"Times,serif\" font-size=\"14.00\">pe</text>\n",
       "<text text-anchor=\"middle\" x=\"113.98\" y=\"-72.78\" font-family=\"Times,serif\" font-size=\"14.00\">~</text>\n",
       "<text text-anchor=\"middle\" x=\"113.98\" y=\"-57.78\" font-family=\"Times,serif\" font-size=\"14.00\">Deterministic</text>\n",
       "</g>\n",
       "<!-- alpha&#45;&gt;pe -->\n",
       "<g id=\"edge8\" class=\"edge\">\n",
       "<title>alpha&#45;&gt;pe</title>\n",
       "<path fill=\"none\" stroke=\"black\" d=\"M165.39,-166.85C155.74,-150.06 143.73,-129.19 133.75,-111.85\"/>\n",
       "<polygon fill=\"black\" stroke=\"black\" points=\"136.76,-110.06 128.74,-103.13 130.69,-113.55 136.76,-110.06\"/>\n",
       "</g>\n",
       "<!-- beta&#45;&gt;expected_value -->\n",
       "<g id=\"edge7\" class=\"edge\">\n",
       "<title>beta&#45;&gt;expected_value</title>\n",
       "<path fill=\"none\" stroke=\"black\" d=\"M261.68,-162.73C255.66,-147.03 248.55,-128.5 242.5,-112.74\"/>\n",
       "<polygon fill=\"black\" stroke=\"black\" points=\"245.74,-111.41 238.9,-103.33 239.21,-113.92 245.74,-111.41\"/>\n",
       "</g>\n",
       "<!-- beta&#45;&gt;scrs -->\n",
       "<g id=\"edge11\" class=\"edge\">\n",
       "<title>beta&#45;&gt;scrs</title>\n",
       "<path fill=\"none\" stroke=\"black\" d=\"M292.64,-164.33C300.06,-150.44 308.77,-134.11 316.62,-119.39\"/>\n",
       "<polygon fill=\"black\" stroke=\"black\" points=\"319.76,-120.93 321.38,-110.46 313.59,-117.64 319.76,-120.93\"/>\n",
       "</g>\n",
       "</g>\n",
       "</svg>\n"
      ],
      "text/plain": [
       "<graphviz.graphs.Digraph at 0x2ad4110b55e0>"
      ]
     },
     "execution_count": 19,
     "metadata": {},
     "output_type": "execute_result"
    }
   ],
   "source": [
    "pm.model_to_graphviz(m5)"
   ]
  },
  {
   "cell_type": "code",
   "execution_count": 17,
   "metadata": {},
   "outputs": [
    {
     "data": {
      "text/plain": [
       "'trH_phi_noShocks.nc'"
      ]
     },
     "execution_count": 17,
     "metadata": {},
     "output_type": "execute_result"
    }
   ],
   "source": [
    "trH_phi.to_netcdf('trH_phi_noShocks.nc') # saving the trace\n",
    "# loading\n",
    "#trH_phi = az.from_netcdf(\"trH_phi.nc\")"
   ]
  },
  {
   "cell_type": "code",
   "execution_count": 18,
   "metadata": {
    "tags": []
   },
   "outputs": [
    {
     "data": {
      "text/plain": [
       "array([[<AxesSubplot:title={'center':'alpha'}>,\n",
       "        <AxesSubplot:title={'center':'alpha'}>]], dtype=object)"
      ]
     },
     "execution_count": 18,
     "metadata": {},
     "output_type": "execute_result"
    },
    {
     "data": {
      "image/png": "[encoded data removed]",
      "text/plain": [
       "<Figure size 864x144 with 2 Axes>"
      ]
     },
     "metadata": {
      "needs_background": "light"
     },
     "output_type": "display_data"
    }
   ],
   "source": [
    "az.plot_trace(trH_phi, var_names='alpha')"
   ]
  },
  {
   "cell_type": "code",
   "execution_count": 19,
   "metadata": {
    "tags": []
   },
   "outputs": [
    {
     "data": {
      "text/html": [
       "<div>\n",
       "<style scoped>\n",
       "    .dataframe tbody tr th:only-of-type {\n",
       "        vertical-align: middle;\n",
       "    }\n",
       "\n",
       "    .dataframe tbody tr th {\n",
       "        vertical-align: top;\n",
       "    }\n",
       "\n",
       "    .dataframe thead th {\n",
       "        text-align: right;\n",
       "    }\n",
       "</style>\n",
       "<table border=\"1\" class=\"dataframe\">\n",
       "  <thead>\n",
       "    <tr style=\"text-align: right;\">\n",
       "      <th></th>\n",
       "      <th>mean</th>\n",
       "      <th>sd</th>\n",
       "      <th>hdi_3%</th>\n",
       "      <th>hdi_97%</th>\n",
       "      <th>mcse_mean</th>\n",
       "      <th>mcse_sd</th>\n",
       "      <th>ess_bulk</th>\n",
       "      <th>ess_tail</th>\n",
       "      <th>r_hat</th>\n",
       "    </tr>\n",
       "  </thead>\n",
       "  <tbody>\n",
       "    <tr>\n",
       "      <th>alpha[0]</th>\n",
       "      <td>0.003</td>\n",
       "      <td>0.002</td>\n",
       "      <td>0.000</td>\n",
       "      <td>0.007</td>\n",
       "      <td>0.000</td>\n",
       "      <td>0.000</td>\n",
       "      <td>8085.0</td>\n",
       "      <td>6259.0</td>\n",
       "      <td>1.0</td>\n",
       "    </tr>\n",
       "    <tr>\n",
       "      <th>alpha[1]</th>\n",
       "      <td>0.185</td>\n",
       "      <td>0.079</td>\n",
       "      <td>0.053</td>\n",
       "      <td>0.333</td>\n",
       "      <td>0.001</td>\n",
       "      <td>0.000</td>\n",
       "      <td>15396.0</td>\n",
       "      <td>12103.0</td>\n",
       "      <td>1.0</td>\n",
       "    </tr>\n",
       "    <tr>\n",
       "      <th>alpha[2]</th>\n",
       "      <td>0.153</td>\n",
       "      <td>0.064</td>\n",
       "      <td>0.046</td>\n",
       "      <td>0.272</td>\n",
       "      <td>0.000</td>\n",
       "      <td>0.000</td>\n",
       "      <td>19550.0</td>\n",
       "      <td>13224.0</td>\n",
       "      <td>1.0</td>\n",
       "    </tr>\n",
       "    <tr>\n",
       "      <th>alpha[3]</th>\n",
       "      <td>0.109</td>\n",
       "      <td>0.053</td>\n",
       "      <td>0.025</td>\n",
       "      <td>0.208</td>\n",
       "      <td>0.000</td>\n",
       "      <td>0.000</td>\n",
       "      <td>16680.0</td>\n",
       "      <td>12858.0</td>\n",
       "      <td>1.0</td>\n",
       "    </tr>\n",
       "    <tr>\n",
       "      <th>alpha[4]</th>\n",
       "      <td>0.176</td>\n",
       "      <td>0.146</td>\n",
       "      <td>0.000</td>\n",
       "      <td>0.423</td>\n",
       "      <td>0.003</td>\n",
       "      <td>0.003</td>\n",
       "      <td>5137.0</td>\n",
       "      <td>2268.0</td>\n",
       "      <td>1.0</td>\n",
       "    </tr>\n",
       "    <tr>\n",
       "      <th>...</th>\n",
       "      <td>...</td>\n",
       "      <td>...</td>\n",
       "      <td>...</td>\n",
       "      <td>...</td>\n",
       "      <td>...</td>\n",
       "      <td>...</td>\n",
       "      <td>...</td>\n",
       "      <td>...</td>\n",
       "      <td>...</td>\n",
       "    </tr>\n",
       "    <tr>\n",
       "      <th>alpha[60]</th>\n",
       "      <td>0.179</td>\n",
       "      <td>0.147</td>\n",
       "      <td>0.000</td>\n",
       "      <td>0.430</td>\n",
       "      <td>0.003</td>\n",
       "      <td>0.003</td>\n",
       "      <td>5402.0</td>\n",
       "      <td>2237.0</td>\n",
       "      <td>1.0</td>\n",
       "    </tr>\n",
       "    <tr>\n",
       "      <th>alpha[61]</th>\n",
       "      <td>0.002</td>\n",
       "      <td>0.002</td>\n",
       "      <td>0.000</td>\n",
       "      <td>0.006</td>\n",
       "      <td>0.000</td>\n",
       "      <td>0.000</td>\n",
       "      <td>7993.0</td>\n",
       "      <td>5354.0</td>\n",
       "      <td>1.0</td>\n",
       "    </tr>\n",
       "    <tr>\n",
       "      <th>alpha[62]</th>\n",
       "      <td>0.152</td>\n",
       "      <td>0.126</td>\n",
       "      <td>0.000</td>\n",
       "      <td>0.368</td>\n",
       "      <td>0.002</td>\n",
       "      <td>0.002</td>\n",
       "      <td>9878.0</td>\n",
       "      <td>4639.0</td>\n",
       "      <td>1.0</td>\n",
       "    </tr>\n",
       "    <tr>\n",
       "      <th>alpha[63]</th>\n",
       "      <td>0.183</td>\n",
       "      <td>0.138</td>\n",
       "      <td>0.000</td>\n",
       "      <td>0.419</td>\n",
       "      <td>0.003</td>\n",
       "      <td>0.003</td>\n",
       "      <td>6586.0</td>\n",
       "      <td>2676.0</td>\n",
       "      <td>1.0</td>\n",
       "    </tr>\n",
       "    <tr>\n",
       "      <th>alpha[64]</th>\n",
       "      <td>0.213</td>\n",
       "      <td>0.133</td>\n",
       "      <td>0.009</td>\n",
       "      <td>0.450</td>\n",
       "      <td>0.002</td>\n",
       "      <td>0.002</td>\n",
       "      <td>5507.0</td>\n",
       "      <td>3421.0</td>\n",
       "      <td>1.0</td>\n",
       "    </tr>\n",
       "  </tbody>\n",
       "</table>\n",
       "<p>65 rows × 9 columns</p>\n",
       "</div>"
      ],
      "text/plain": [
       "            mean     sd  hdi_3%  hdi_97%  mcse_mean  mcse_sd  ess_bulk  \\\n",
       "alpha[0]   0.003  0.002   0.000    0.007      0.000    0.000    8085.0   \n",
       "alpha[1]   0.185  0.079   0.053    0.333      0.001    0.000   15396.0   \n",
       "alpha[2]   0.153  0.064   0.046    0.272      0.000    0.000   19550.0   \n",
       "alpha[3]   0.109  0.053   0.025    0.208      0.000    0.000   16680.0   \n",
       "alpha[4]   0.176  0.146   0.000    0.423      0.003    0.003    5137.0   \n",
       "...          ...    ...     ...      ...        ...      ...       ...   \n",
       "alpha[60]  0.179  0.147   0.000    0.430      0.003    0.003    5402.0   \n",
       "alpha[61]  0.002  0.002   0.000    0.006      0.000    0.000    7993.0   \n",
       "alpha[62]  0.152  0.126   0.000    0.368      0.002    0.002    9878.0   \n",
       "alpha[63]  0.183  0.138   0.000    0.419      0.003    0.003    6586.0   \n",
       "alpha[64]  0.213  0.133   0.009    0.450      0.002    0.002    5507.0   \n",
       "\n",
       "           ess_tail  r_hat  \n",
       "alpha[0]     6259.0    1.0  \n",
       "alpha[1]    12103.0    1.0  \n",
       "alpha[2]    13224.0    1.0  \n",
       "alpha[3]    12858.0    1.0  \n",
       "alpha[4]     2268.0    1.0  \n",
       "...             ...    ...  \n",
       "alpha[60]    2237.0    1.0  \n",
       "alpha[61]    5354.0    1.0  \n",
       "alpha[62]    4639.0    1.0  \n",
       "alpha[63]    2676.0    1.0  \n",
       "alpha[64]    3421.0    1.0  \n",
       "\n",
       "[65 rows x 9 columns]"
      ]
     },
     "execution_count": 19,
     "metadata": {},
     "output_type": "execute_result"
    }
   ],
   "source": [
    "az.summary(trH_phi, var_names='alpha')"
   ]
  },
  {
   "cell_type": "code",
   "execution_count": 82,
   "metadata": {
    "collapsed": true,
    "jupyter": {
     "outputs_hidden": true
    },
    "tags": []
   },
   "outputs": [
    {
     "name": "stderr",
     "output_type": "stream",
     "text": [
      "/gpfs/ysm/project/joormann/oad4/conda_envs/neuroAnalysis/lib/python3.9/site-packages/arviz/stats/stats.py:145: UserWarning: The default method used to estimate the weights for each model,has changed from BB-pseudo-BMA to stacking\n",
      "  warnings.warn(\n",
      "/gpfs/ysm/project/joormann/oad4/conda_envs/neuroAnalysis/lib/python3.9/site-packages/arviz/stats/stats.py:655: UserWarning: Estimated shape parameter of Pareto distribution is greater than 0.7 for one or more samples. You should consider using a more robust model, this is because importance sampling is less likely to work well if the marginal posterior and LOO posterior are very different. This is more likely to happen with a non-robust model and highly influential observations.\n",
      "  warnings.warn(\n",
      "/gpfs/ysm/project/joormann/oad4/conda_envs/neuroAnalysis/lib/python3.9/site-packages/arviz/stats/stats.py:655: UserWarning: Estimated shape parameter of Pareto distribution is greater than 0.7 for one or more samples. You should consider using a more robust model, this is because importance sampling is less likely to work well if the marginal posterior and LOO posterior are very different. This is more likely to happen with a non-robust model and highly influential observations.\n",
      "  warnings.warn(\n"
     ]
    },
    {
     "ename": "ValueError",
     "evalue": "The number of observations should be the same across all models",
     "output_type": "error",
     "traceback": [
      "\u001b[0;31m---------------------------------------------------------------------------\u001b[0m",
      "\u001b[0;31mValueError\u001b[0m                                Traceback (most recent call last)",
      "Input \u001b[0;32mIn [82]\u001b[0m, in \u001b[0;36m<module>\u001b[0;34m\u001b[0m\n\u001b[0;32m----> 1\u001b[0m \u001b[43maz\u001b[49m\u001b[38;5;241;43m.\u001b[39;49m\u001b[43mcompare\u001b[49m\u001b[43m(\u001b[49m\u001b[43m{\u001b[49m\u001b[38;5;124;43m'\u001b[39;49m\u001b[38;5;124;43msimpleModel\u001b[39;49m\u001b[38;5;124;43m'\u001b[39;49m\u001b[43m:\u001b[49m\u001b[43mtr\u001b[49m\u001b[43m,\u001b[49m\u001b[43m \u001b[49m\u001b[38;5;124;43m'\u001b[39;49m\u001b[38;5;124;43mhierarchy\u001b[39;49m\u001b[38;5;124;43m'\u001b[39;49m\u001b[43m:\u001b[49m\u001b[43mtrH_phi\u001b[49m\u001b[43m}\u001b[49m\u001b[43m)\u001b[49m\n",
      "File \u001b[0;32m/gpfs/ysm/project/joormann/oad4/conda_envs/neuroAnalysis/lib/python3.9/site-packages/arviz/stats/stats.py:218\u001b[0m, in \u001b[0;36mcompare\u001b[0;34m(dataset_dict, ic, method, b_samples, alpha, seed, scale)\u001b[0m\n\u001b[1;32m    215\u001b[0m ics[ic_i] \u001b[38;5;241m=\u001b[39m ics[ic_i]\u001b[38;5;241m.\u001b[39mapply(\u001b[38;5;28;01mlambda\u001b[39;00m x: x\u001b[38;5;241m.\u001b[39mvalues\u001b[38;5;241m.\u001b[39mflatten())\n\u001b[1;32m    217\u001b[0m \u001b[38;5;28;01mif\u001b[39;00m method\u001b[38;5;241m.\u001b[39mlower() \u001b[38;5;241m==\u001b[39m \u001b[38;5;124m\"\u001b[39m\u001b[38;5;124mstacking\u001b[39m\u001b[38;5;124m\"\u001b[39m:\n\u001b[0;32m--> 218\u001b[0m     rows, cols, ic_i_val \u001b[38;5;241m=\u001b[39m \u001b[43m_ic_matrix\u001b[49m\u001b[43m(\u001b[49m\u001b[43mics\u001b[49m\u001b[43m,\u001b[49m\u001b[43m \u001b[49m\u001b[43mic_i\u001b[49m\u001b[43m)\u001b[49m\n\u001b[1;32m    219\u001b[0m     exp_ic_i \u001b[38;5;241m=\u001b[39m np\u001b[38;5;241m.\u001b[39mexp(ic_i_val \u001b[38;5;241m/\u001b[39m scale_value)\n\u001b[1;32m    220\u001b[0m     km1 \u001b[38;5;241m=\u001b[39m cols \u001b[38;5;241m-\u001b[39m \u001b[38;5;241m1\u001b[39m\n",
      "File \u001b[0;32m/gpfs/ysm/project/joormann/oad4/conda_envs/neuroAnalysis/lib/python3.9/site-packages/arviz/stats/stats.py:315\u001b[0m, in \u001b[0;36m_ic_matrix\u001b[0;34m(ics, ic_i)\u001b[0m\n\u001b[1;32m    312\u001b[0m     ic \u001b[38;5;241m=\u001b[39m ics\u001b[38;5;241m.\u001b[39mloc[val][ic_i]\n\u001b[1;32m    314\u001b[0m     \u001b[38;5;28;01mif\u001b[39;00m \u001b[38;5;28mlen\u001b[39m(ic) \u001b[38;5;241m!=\u001b[39m rows:\n\u001b[0;32m--> 315\u001b[0m         \u001b[38;5;28;01mraise\u001b[39;00m \u001b[38;5;167;01mValueError\u001b[39;00m(\u001b[38;5;124m\"\u001b[39m\u001b[38;5;124mThe number of observations should be the same across all models\u001b[39m\u001b[38;5;124m\"\u001b[39m)\n\u001b[1;32m    317\u001b[0m     ic_i_val[:, idx] \u001b[38;5;241m=\u001b[39m ic\n\u001b[1;32m    319\u001b[0m \u001b[38;5;28;01mreturn\u001b[39;00m rows, cols, ic_i_val\n",
      "\u001b[0;31mValueError\u001b[0m: The number of observations should be the same across all models"
     ]
    }
   ],
   "source": [
    "az.compare({'simpleModel':tr, 'hierarchy':trH_phi})"
   ]
  },
  {
   "cell_type": "markdown",
   "metadata": {},
   "source": [
    "### Same but with intercept"
   ]
  },
  {
   "cell_type": "code",
   "execution_count": 30,
   "metadata": {},
   "outputs": [
    {
     "name": "stderr",
     "output_type": "stream",
     "text": [
      "Auto-assigning NUTS sampler...\n",
      "Initializing NUTS using jitter+adapt_diag...\n",
      "Multiprocess sampling (4 chains in 10 jobs)\n",
      "NUTS: [eps, beta_sd, beta_h, alpha, kappa_log, phi, intercept_matt, sd, mu]\n"
     ]
    },
    {
     "data": {
      "text/html": [
       "\n",
       "<style>\n",
       "    /* Turns off some styling */\n",
       "    progress {\n",
       "        /* gets rid of default border in Firefox and Opera. */\n",
       "        border: none;\n",
       "        /* Needs to be in here for Safari polyfill so background images work as expected. */\n",
       "        background-size: auto;\n",
       "    }\n",
       "    .progress-bar-interrupted, .progress-bar-interrupted::-webkit-progress-bar {\n",
       "        background: #F44336;\n",
       "    }\n",
       "</style>\n"
      ],
      "text/plain": [
       "<IPython.core.display.HTML object>"
      ]
     },
     "metadata": {},
     "output_type": "display_data"
    },
    {
     "data": {
      "text/html": [
       "\n",
       "    <div>\n",
       "      <progress value='24000' class='' max='24000' style='width:300px; height:20px; vertical-align: middle;'></progress>\n",
       "      100.00% [24000/24000 2:18:17<00:00 Sampling 4 chains, 0 divergences]\n",
       "    </div>\n",
       "    "
      ],
      "text/plain": [
       "<IPython.core.display.HTML object>"
      ]
     },
     "metadata": {},
     "output_type": "display_data"
    },
    {
     "name": "stderr",
     "output_type": "stream",
     "text": [
      "Sampling 4 chains for 1_000 tune and 5_000 draw iterations (4_000 + 20_000 draws total) took 8298 seconds.\n",
      "The rhat statistic is larger than 1.2 for some parameters.\n",
      "The estimated number of effective samples is smaller than 200 for some parameters.\n"
     ]
    }
   ],
   "source": [
    "with pm.Model() as m5_intercept:\n",
    "    \n",
    "    # intercept\n",
    "    mu = pm.Normal('mu', 0, 5)\n",
    "    sd = pm.HalfNormal('sd',5) \n",
    "    intercept_matt = pm.Normal('intercept_matt', mu=0, sd=1, shape=n_subj)\n",
    "    intercept = pm.Deterministic('intercept',mu + intercept_matt*sd)\n",
    "    \n",
    "    # \\alpha\n",
    "    phi = pm.Uniform(\"phi\", lower=0.0, upper=1.0)\n",
    "    kappa_log = pm.Exponential(\"kappa_log\", lam=1.5)\n",
    "    kappa = pm.Deterministic(\"kappa\", tt.exp(kappa_log))\n",
    "    alpha = pm.Beta(\"alpha\", alpha=phi * kappa, beta=(1.0 - phi) * kappa, shape=n_subj)\n",
    "    \n",
    "    # β (reparametarization)\n",
    "    beta_h = pm.Normal('beta_h', 0,1, shape=n_subj)\n",
    "    beta_sd = pm.HalfNormal('beta_sd', 5)\n",
    "    beta = pm.Deterministic('beta',0 + beta_h*beta_sd)\n",
    "       \n",
    "    eps = pm.HalfNormal('eps', 5)\n",
    "    \n",
    "    Qs = 0.5 * tt.ones((n_subj,2), dtype='float64') # set values for boths stimuli (CS+, CS-)\n",
    "    vec = 0.5 * tt.ones((n_subj,1), dtype='float64') # vector to save the relevant stimulus's expactation\n",
    "    \n",
    "    [Qs,vec, pe], updates = theano.scan(\n",
    "        fn=update_Q,\n",
    "        sequences=[stim, shock],\n",
    "        outputs_info=[Qs, vec, None],\n",
    "        non_sequences=[alpha, n_subj])\n",
    "   \n",
    "     \n",
    "    vec_ = vec[trials, subj,0] * beta[subj] + intercept[subj]\n",
    "    \n",
    "    # transform to vector\n",
    "    v = tt.reshape(vec_.T, n_subj*n_trials, ndim=1)\n",
    "    # clean shocks\n",
    "    vec_clean = v[shockVec==0]\n",
    "       \n",
    "    # likelihood function\n",
    "    scrs = pm.Normal('scrs', mu = vec_clean, sd = eps, observed=scrClean) \n",
    "    \n",
    "    trH_phi2 = pm.sample(target_accept=.95, chains=4, cores=10, return_inferencedata=True,\n",
    "                        draws = 5000)"
   ]
  },
  {
   "cell_type": "code",
   "execution_count": 34,
   "metadata": {},
   "outputs": [
    {
     "data": {
      "text/plain": [
       "'trH_phi_intercept_noShocks.nc'"
      ]
     },
     "execution_count": 34,
     "metadata": {},
     "output_type": "execute_result"
    }
   ],
   "source": [
    "# saving\n",
    "trH_phi2.to_netcdf('trH_phi_intercept_noShocks.nc') # saving the trace"
   ]
  },
  {
   "cell_type": "code",
   "execution_count": null,
   "metadata": {},
   "outputs": [],
   "source": [
    "az.summary(trH_phi2)"
   ]
  },
  {
   "cell_type": "code",
   "execution_count": 35,
   "metadata": {},
   "outputs": [
    {
     "name": "stderr",
     "output_type": "stream",
     "text": [
      "/gpfs/ysm/project/joormann/oad4/conda_envs/neuroAnalysis/lib/python3.9/site-packages/arviz/stats/stats.py:145: UserWarning: The default method used to estimate the weights for each model,has changed from BB-pseudo-BMA to stacking\n",
      "  warnings.warn(\n",
      "/gpfs/ysm/project/joormann/oad4/conda_envs/neuroAnalysis/lib/python3.9/site-packages/arviz/stats/stats.py:1405: UserWarning: For one or more samples the posterior variance of the log predictive densities exceeds 0.4. This could be indication of WAIC starting to fail. \n",
      "See http://arxiv.org/abs/1507.04544 for details\n",
      "  warnings.warn(\n",
      "/gpfs/ysm/project/joormann/oad4/conda_envs/neuroAnalysis/lib/python3.9/site-packages/arviz/stats/stats.py:212: FutureWarning: The frame.append method is deprecated and will be removed from pandas in a future version. Use pandas.concat instead.\n",
      "  ics = ics.append([ic_func(dataset, pointwise=True, scale=scale)])\n",
      "/gpfs/ysm/project/joormann/oad4/conda_envs/neuroAnalysis/lib/python3.9/site-packages/arviz/stats/stats.py:1405: UserWarning: For one or more samples the posterior variance of the log predictive densities exceeds 0.4. This could be indication of WAIC starting to fail. \n",
      "See http://arxiv.org/abs/1507.04544 for details\n",
      "  warnings.warn(\n",
      "/gpfs/ysm/project/joormann/oad4/conda_envs/neuroAnalysis/lib/python3.9/site-packages/arviz/stats/stats.py:212: FutureWarning: The frame.append method is deprecated and will be removed from pandas in a future version. Use pandas.concat instead.\n",
      "  ics = ics.append([ic_func(dataset, pointwise=True, scale=scale)])\n"
     ]
    },
    {
     "data": {
      "text/html": [
       "<div>\n",
       "<style scoped>\n",
       "    .dataframe tbody tr th:only-of-type {\n",
       "        vertical-align: middle;\n",
       "    }\n",
       "\n",
       "    .dataframe tbody tr th {\n",
       "        vertical-align: top;\n",
       "    }\n",
       "\n",
       "    .dataframe thead th {\n",
       "        text-align: right;\n",
       "    }\n",
       "</style>\n",
       "<table border=\"1\" class=\"dataframe\">\n",
       "  <thead>\n",
       "    <tr style=\"text-align: right;\">\n",
       "      <th></th>\n",
       "      <th>rank</th>\n",
       "      <th>waic</th>\n",
       "      <th>p_waic</th>\n",
       "      <th>d_waic</th>\n",
       "      <th>weight</th>\n",
       "      <th>se</th>\n",
       "      <th>dse</th>\n",
       "      <th>warning</th>\n",
       "      <th>waic_scale</th>\n",
       "    </tr>\n",
       "  </thead>\n",
       "  <tbody>\n",
       "    <tr>\n",
       "      <th>model2</th>\n",
       "      <td>0</td>\n",
       "      <td>-2235.143338</td>\n",
       "      <td>183.768053</td>\n",
       "      <td>0.000000</td>\n",
       "      <td>0.82686</td>\n",
       "      <td>185.008247</td>\n",
       "      <td>0.000000</td>\n",
       "      <td>True</td>\n",
       "      <td>log</td>\n",
       "    </tr>\n",
       "    <tr>\n",
       "      <th>model1</th>\n",
       "      <td>1</td>\n",
       "      <td>-2259.875565</td>\n",
       "      <td>146.610635</td>\n",
       "      <td>24.732226</td>\n",
       "      <td>0.17314</td>\n",
       "      <td>180.847988</td>\n",
       "      <td>10.173971</td>\n",
       "      <td>True</td>\n",
       "      <td>log</td>\n",
       "    </tr>\n",
       "  </tbody>\n",
       "</table>\n",
       "</div>"
      ],
      "text/plain": [
       "        rank         waic      p_waic     d_waic   weight          se  \\\n",
       "model2     0 -2235.143338  183.768053   0.000000  0.82686  185.008247   \n",
       "model1     1 -2259.875565  146.610635  24.732226  0.17314  180.847988   \n",
       "\n",
       "              dse  warning waic_scale  \n",
       "model2   0.000000     True        log  \n",
       "model1  10.173971     True        log  "
      ]
     },
     "execution_count": 35,
     "metadata": {},
     "output_type": "execute_result"
    }
   ],
   "source": [
    "comp = az.compare({'model1': trH_phi, 'model2':trH_phi2}, ic='waic')\n",
    "comp"
   ]
  },
  {
   "cell_type": "code",
   "execution_count": 36,
   "metadata": {},
   "outputs": [
    {
     "data": {
      "image/png": "[encoded data removed]",
      "text/plain": [
       "<Figure size 432x144 with 1 Axes>"
      ]
     },
     "metadata": {
      "needs_background": "light"
     },
     "output_type": "display_data"
    }
   ],
   "source": [
    "az.plot_compare(comp, insample_dev=False);"
   ]
  },
  {
   "cell_type": "code",
   "execution_count": 31,
   "metadata": {},
   "outputs": [
    {
     "data": {
      "text/plain": [
       "<matplotlib.legend.Legend at 0x2b299e1d4400>"
      ]
     },
     "execution_count": 31,
     "metadata": {},
     "output_type": "execute_result"
    },
    {
     "data": {
      "image/png": "[encoded data removed]",
      "text/plain": [
       "<Figure size 432x288 with 1 Axes>"
      ]
     },
     "metadata": {
      "needs_background": "light"
     },
     "output_type": "display_data"
    }
   ],
   "source": [
    "# calculate logP\n",
    "# calculate logP\n",
    "logP = trH_phi.sample_stats.lp.stack(draws=('chain','draw'))\n",
    "logP1 = trH_phi2.sample_stats.lp.stack(draws=('chain','draw'))\n",
    "sns.histplot(logP, label='Hierarchical', color='blue')\n",
    "sns.histplot(logP1, label='Non Hierarchical', color='purple')\n",
    "plt.legend()\n",
    "#plt.vlines(np.mean(logP), 0, 250, color='red')"
   ]
  },
  {
   "cell_type": "markdown",
   "metadata": {},
   "source": [
    "# Correlate with actual data"
   ]
  },
  {
   "cell_type": "code",
   "execution_count": 21,
   "metadata": {
    "collapsed": true,
    "jupyter": {
     "outputs_hidden": true
    },
    "tags": []
   },
   "outputs": [
    {
     "data": {
      "text/html": [
       "<div>\n",
       "<style scoped>\n",
       "    .dataframe tbody tr th:only-of-type {\n",
       "        vertical-align: middle;\n",
       "    }\n",
       "\n",
       "    .dataframe tbody tr th {\n",
       "        vertical-align: top;\n",
       "    }\n",
       "\n",
       "    .dataframe thead th {\n",
       "        text-align: right;\n",
       "    }\n",
       "</style>\n",
       "<table border=\"1\" class=\"dataframe\">\n",
       "  <thead>\n",
       "    <tr style=\"text-align: right;\">\n",
       "      <th></th>\n",
       "      <th>subject</th>\n",
       "      <th>alphas</th>\n",
       "    </tr>\n",
       "  </thead>\n",
       "  <tbody>\n",
       "    <tr>\n",
       "      <th>0</th>\n",
       "      <td>sub-189</td>\n",
       "      <td>0.002609</td>\n",
       "    </tr>\n",
       "    <tr>\n",
       "      <th>1</th>\n",
       "      <td>sub-205</td>\n",
       "      <td>0.184995</td>\n",
       "    </tr>\n",
       "    <tr>\n",
       "      <th>2</th>\n",
       "      <td>sub-071</td>\n",
       "      <td>0.153141</td>\n",
       "    </tr>\n",
       "    <tr>\n",
       "      <th>3</th>\n",
       "      <td>sub-204</td>\n",
       "      <td>0.109353</td>\n",
       "    </tr>\n",
       "    <tr>\n",
       "      <th>4</th>\n",
       "      <td>sub-085</td>\n",
       "      <td>0.176157</td>\n",
       "    </tr>\n",
       "    <tr>\n",
       "      <th>...</th>\n",
       "      <td>...</td>\n",
       "      <td>...</td>\n",
       "    </tr>\n",
       "    <tr>\n",
       "      <th>60</th>\n",
       "      <td>sub-010</td>\n",
       "      <td>0.179446</td>\n",
       "    </tr>\n",
       "    <tr>\n",
       "      <th>61</th>\n",
       "      <td>sub-158</td>\n",
       "      <td>0.002370</td>\n",
       "    </tr>\n",
       "    <tr>\n",
       "      <th>62</th>\n",
       "      <td>sub-083</td>\n",
       "      <td>0.152149</td>\n",
       "    </tr>\n",
       "    <tr>\n",
       "      <th>63</th>\n",
       "      <td>sub-126</td>\n",
       "      <td>0.183158</td>\n",
       "    </tr>\n",
       "    <tr>\n",
       "      <th>64</th>\n",
       "      <td>sub-152</td>\n",
       "      <td>0.213034</td>\n",
       "    </tr>\n",
       "  </tbody>\n",
       "</table>\n",
       "<p>65 rows × 2 columns</p>\n",
       "</div>"
      ],
      "text/plain": [
       "    subject    alphas\n",
       "0   sub-189  0.002609\n",
       "1   sub-205  0.184995\n",
       "2   sub-071  0.153141\n",
       "3   sub-204  0.109353\n",
       "4   sub-085  0.176157\n",
       "..      ...       ...\n",
       "60  sub-010  0.179446\n",
       "61  sub-158  0.002370\n",
       "62  sub-083  0.152149\n",
       "63  sub-126  0.183158\n",
       "64  sub-152  0.213034\n",
       "\n",
       "[65 rows x 2 columns]"
      ]
     },
     "execution_count": 21,
     "metadata": {},
     "output_type": "execute_result"
    }
   ],
   "source": [
    "# grab alphas\n",
    "alphas = trH_phi.posterior.stack(draws=('chain','draw'))\n",
    "alphas = np.mean(alphas.alpha, axis=1)\n",
    "\n",
    "alphas = pd.DataFrame({'subject': scrTwo['sub'].unique(), 'alphas':alphas })\n",
    "alphas"
   ]
  },
  {
   "cell_type": "code",
   "execution_count": 22,
   "metadata": {},
   "outputs": [
    {
     "data": {
      "text/plain": [
       "(69, 65, 20000)"
      ]
     },
     "execution_count": 22,
     "metadata": {},
     "output_type": "execute_result"
    }
   ],
   "source": [
    "# stack all chains\n",
    "a = trH_phi.posterior.stack(draws=('chain','draw'))\n",
    "a = a.expected_value\n",
    "a.shape"
   ]
  },
  {
   "cell_type": "code",
   "execution_count": 23,
   "metadata": {
    "tags": []
   },
   "outputs": [
    {
     "data": {
      "text/plain": [
       "(69, 65)"
      ]
     },
     "execution_count": 23,
     "metadata": {},
     "output_type": "execute_result"
    }
   ],
   "source": [
    "mean_a = np.mean(a, axis=2)\n",
    "mean_a.shape"
   ]
  },
  {
   "cell_type": "code",
   "execution_count": 24,
   "metadata": {},
   "outputs": [],
   "source": [
    "# grab Prediction error\n",
    "mean_pe = trH_phi.posterior.stack(draws=('chain','draw')).pe\n",
    "mean_pe = np.mean(mean_pe, axis=2)\n"
   ]
  },
  {
   "cell_type": "code",
   "execution_count": 25,
   "metadata": {
    "collapsed": true,
    "jupyter": {
     "outputs_hidden": true
    },
    "tags": []
   },
   "outputs": [
    {
     "name": "stdout",
     "output_type": "stream",
     "text": [
      "(-0.33196507227021943, 0.005325968439900554)\n",
      "(0.6665858064212723, 4.0463901298786694e-10)\n",
      "(0.5595001324272292, 5.804910774660625e-07)\n",
      "(0.6271060838411354, 8.151666050064887e-09)\n",
      "(0.3886217234504577, 0.0009672048911012346)\n",
      "(0.5317895745583491, 2.5748217714560563e-06)\n",
      "(0.4130646508684521, 0.00041964844617333347)\n",
      "(0.31573577634377153, 0.008223417049061451)\n",
      "(0.7311763739564323, 9.761851322599483e-13)\n",
      "(0.626436666394091, 8.54647431015084e-09)\n",
      "(0.2261134421532405, 0.06173407657608152)\n",
      "(0.05795390045924833, 0.6362099779841711)\n",
      "(0.4503505688994873, 0.0001032638857494796)\n",
      "(0.5741649549486095, 2.4947277671119764e-07)\n",
      "(0.5317826668524265, 2.5757360305777203e-06)\n",
      "(0.6953796498249633, 3.349190307638337e-11)\n",
      "(0.5056720496322373, 9.335684886543669e-06)\n",
      "(0.5590117650825984, 5.966343163467964e-07)\n",
      "(0.7246204020184215, 1.9435501728678356e-12)\n",
      "(0.3226600915491454, 0.00685136183954492)\n",
      "(0.5365733229529256, 2.0097890794524677e-06)\n",
      "(0.48898844795343366, 2.0142028123436578e-05)\n",
      "(0.8234026753006134, 3.821760651134082e-18)\n",
      "(0.7278969234813619, 1.3810486620608276e-12)\n",
      "(0.5737810549457042, 2.551836277068068e-07)\n",
      "(0.2785332466368522, 0.020478208094268247)\n",
      "(0.6253456293930948, 9.229119051984885e-09)\n",
      "(0.8982420568482383, 1.2903616401170172e-25)\n",
      "(0.5792914059365476, 1.8388746975647646e-07)\n",
      "(0.5154207214636983, 5.844404711815683e-06)\n",
      "(0.2539028614197663, 0.03527589978081605)\n",
      "(0.7403149100193565, 3.6126459082700437e-13)\n",
      "(0.3097560675805584, 0.009595858638256845)\n",
      "(0.5741159500752566, 2.501949927449662e-07)\n",
      "(0.6057896471684223, 3.484593845842743e-08)\n",
      "(0.3496903621541376, 0.003226675709096581)\n",
      "(0.6051530632485923, 3.633144710980718e-08)\n",
      "(0.39530584466121327, 0.0007746014998642834)\n",
      "(0.43583048396442503, 0.00018175002613199856)\n",
      "(0.375493045706587, 0.0014763065310707457)\n",
      "(0.6596495880140458, 7.083055468504326e-10)\n",
      "(0.7417164156138517, 3.0904715501703565e-13)\n",
      "(0.49542183089198677, 1.504493832408339e-05)\n",
      "(0.6430917497943014, 2.5456955867984078e-09)\n",
      "(0.6426486108885816, 2.6315708775261055e-09)\n",
      "(0.7244441972055417, 1.979318250250013e-12)\n",
      "(0.4871022442559609, 2.1916615151333146e-05)\n",
      "(0.5828639947450751, 1.4821259128565427e-07)\n",
      "(0.7345634404462434, 6.785631171566519e-13)\n",
      "(0.631179312483904, 6.098191523053398e-09)\n",
      "(0.5912201095224986, 8.858588294190435e-08)\n",
      "(-0.04190507252174714, 0.7324406689030252)\n",
      "(0.5743997641224111, 2.4603945945190467e-07)\n",
      "(0.6623746471092923, 5.694455475772252e-10)\n",
      "(0.6098511897387404, 2.6639887930949758e-08)\n",
      "(0.539339587293307, 1.7384960050982674e-06)\n",
      "(-0.8831555216815967, 1.030500945865473e-23)\n",
      "(0.5635544999211604, 4.614861492382846e-07)\n",
      "(0.5079934354901393, 8.361349953145011e-06)\n",
      "(0.45281243257093917, 9.358676864320123e-05)\n",
      "(0.40292835281885947, 0.0005978877100466064)\n",
      "(-0.2881051086257871, 0.016368174335824704)\n",
      "(0.27143332663610936, 0.024068116540947038)\n",
      "(0.3963222898582035, 0.0007485761083158742)\n",
      "(0.5153811496754457, 5.855698034304956e-06)\n"
     ]
    }
   ],
   "source": [
    "# calculate \n",
    "for i in np.arange(n_subj):\n",
    "    cor1 = scipy.stats.pearsonr(scrMat[:,i], mean_a[:,i])\n",
    "    print(cor1)"
   ]
  },
  {
   "cell_type": "code",
   "execution_count": 26,
   "metadata": {},
   "outputs": [],
   "source": [
    "# seems that some subjects are really problematic. \n",
    "# should consider removing them from analysis\n",
    "\n",
    "mean_a_vec = np.reshape(mean_a.T, (69*n_subj,1)) # reshape to fit dataframe\n",
    "mean_pe_vec = np.reshape(mean_pe.T, (69*n_subj,1)) # reshape PE"
   ]
  },
  {
   "cell_type": "code",
   "execution_count": 27,
   "metadata": {},
   "outputs": [
    {
     "name": "stderr",
     "output_type": "stream",
     "text": [
      "/tmp/ipykernel_30729/1811389849.py:1: SettingWithCopyWarning: \n",
      "A value is trying to be set on a copy of a slice from a DataFrame.\n",
      "Try using .loc[row_indexer,col_indexer] = value instead\n",
      "\n",
      "See the caveats in the documentation: https://pandas.pydata.org/pandas-docs/stable/user_guide/indexing.html#returning-a-view-versus-a-copy\n",
      "  scrTwo['expected_value'] = mean_a_vec.values\n",
      "/tmp/ipykernel_30729/1811389849.py:2: SettingWithCopyWarning: \n",
      "A value is trying to be set on a copy of a slice from a DataFrame.\n",
      "Try using .loc[row_indexer,col_indexer] = value instead\n",
      "\n",
      "See the caveats in the documentation: https://pandas.pydata.org/pandas-docs/stable/user_guide/indexing.html#returning-a-view-versus-a-copy\n",
      "  scrTwo['pe'] = mean_pe_vec.values\n"
     ]
    }
   ],
   "source": [
    "scrTwo['expected_value'] = mean_a_vec.values\n",
    "scrTwo['pe'] = mean_pe_vec.values"
   ]
  },
  {
   "cell_type": "code",
   "execution_count": 28,
   "metadata": {},
   "outputs": [
    {
     "name": "stderr",
     "output_type": "stream",
     "text": [
      "/tmp/ipykernel_30729/1130903711.py:1: SettingWithCopyWarning: \n",
      "A value is trying to be set on a copy of a slice from a DataFrame.\n",
      "Try using .loc[row_indexer,col_indexer] = value instead\n",
      "\n",
      "See the caveats in the documentation: https://pandas.pydata.org/pandas-docs/stable/user_guide/indexing.html#returning-a-view-versus-a-copy\n",
      "  scrTwo['scr'] = scrTwo['CDA.AmpSum']\n"
     ]
    }
   ],
   "source": [
    "scrTwo['scr'] = scrTwo['CDA.AmpSum']"
   ]
  },
  {
   "cell_type": "code",
   "execution_count": 29,
   "metadata": {},
   "outputs": [],
   "source": [
    "# save file\n",
    "scrTwo.to_csv('scr_clean2.csv', index=False)"
   ]
  },
  {
   "cell_type": "markdown",
   "metadata": {},
   "source": [
    "# Load brain data\n",
    "Hippocampus - amygdala coupling"
   ]
  },
  {
   "cell_type": "code",
   "execution_count": 38,
   "metadata": {},
   "outputs": [
    {
     "data": {
      "text/html": [
       "<div>\n",
       "<style scoped>\n",
       "    .dataframe tbody tr th:only-of-type {\n",
       "        vertical-align: middle;\n",
       "    }\n",
       "\n",
       "    .dataframe tbody tr th {\n",
       "        vertical-align: top;\n",
       "    }\n",
       "\n",
       "    .dataframe thead th {\n",
       "        text-align: right;\n",
       "    }\n",
       "</style>\n",
       "<table border=\"1\" class=\"dataframe\">\n",
       "  <thead>\n",
       "    <tr style=\"text-align: right;\">\n",
       "      <th></th>\n",
       "      <th>index</th>\n",
       "      <th>subject</th>\n",
       "      <th>trialNo</th>\n",
       "      <th>condition</th>\n",
       "      <th>coupling</th>\n",
       "      <th>amg</th>\n",
       "      <th>Sub</th>\n",
       "      <th>group</th>\n",
       "      <th>Eprime</th>\n",
       "      <th>sub</th>\n",
       "      <th>Condition</th>\n",
       "      <th>Event.Nr</th>\n",
       "      <th>CDA.AmpSum</th>\n",
       "      <th>scr</th>\n",
       "    </tr>\n",
       "  </thead>\n",
       "  <tbody>\n",
       "    <tr>\n",
       "      <th>0</th>\n",
       "      <td>0</td>\n",
       "      <td>sub-167</td>\n",
       "      <td>1</td>\n",
       "      <td>CSplusUS1</td>\n",
       "      <td>0.761905</td>\n",
       "      <td>-0.665134</td>\n",
       "      <td>sub-167</td>\n",
       "      <td>HC</td>\n",
       "      <td>A</td>\n",
       "      <td>sub-167</td>\n",
       "      <td>CSplusUS1</td>\n",
       "      <td>1</td>\n",
       "      <td>1.4637</td>\n",
       "      <td>1.4637</td>\n",
       "    </tr>\n",
       "    <tr>\n",
       "      <th>1</th>\n",
       "      <td>1</td>\n",
       "      <td>sub-167</td>\n",
       "      <td>2</td>\n",
       "      <td>CSminus1</td>\n",
       "      <td>-0.238095</td>\n",
       "      <td>-0.060757</td>\n",
       "      <td>sub-167</td>\n",
       "      <td>HC</td>\n",
       "      <td>A</td>\n",
       "      <td>sub-167</td>\n",
       "      <td>CSminus1</td>\n",
       "      <td>2</td>\n",
       "      <td>1.3764</td>\n",
       "      <td>1.3764</td>\n",
       "    </tr>\n",
       "    <tr>\n",
       "      <th>2</th>\n",
       "      <td>2</td>\n",
       "      <td>sub-167</td>\n",
       "      <td>3</td>\n",
       "      <td>CSplus1</td>\n",
       "      <td>0.095238</td>\n",
       "      <td>0.984678</td>\n",
       "      <td>sub-167</td>\n",
       "      <td>HC</td>\n",
       "      <td>A</td>\n",
       "      <td>sub-167</td>\n",
       "      <td>CSplus1</td>\n",
       "      <td>3</td>\n",
       "      <td>2.2023</td>\n",
       "      <td>2.2023</td>\n",
       "    </tr>\n",
       "    <tr>\n",
       "      <th>3</th>\n",
       "      <td>3</td>\n",
       "      <td>sub-167</td>\n",
       "      <td>4</td>\n",
       "      <td>CSplusUS1</td>\n",
       "      <td>0.523810</td>\n",
       "      <td>0.488085</td>\n",
       "      <td>sub-167</td>\n",
       "      <td>HC</td>\n",
       "      <td>A</td>\n",
       "      <td>sub-167</td>\n",
       "      <td>CSplusUS1</td>\n",
       "      <td>4</td>\n",
       "      <td>2.7164</td>\n",
       "      <td>2.7164</td>\n",
       "    </tr>\n",
       "    <tr>\n",
       "      <th>4</th>\n",
       "      <td>4</td>\n",
       "      <td>sub-167</td>\n",
       "      <td>5</td>\n",
       "      <td>CSminus1</td>\n",
       "      <td>-0.428571</td>\n",
       "      <td>0.053875</td>\n",
       "      <td>sub-167</td>\n",
       "      <td>HC</td>\n",
       "      <td>A</td>\n",
       "      <td>sub-167</td>\n",
       "      <td>CSminus1</td>\n",
       "      <td>5</td>\n",
       "      <td>2.3635</td>\n",
       "      <td>2.3635</td>\n",
       "    </tr>\n",
       "    <tr>\n",
       "      <th>...</th>\n",
       "      <td>...</td>\n",
       "      <td>...</td>\n",
       "      <td>...</td>\n",
       "      <td>...</td>\n",
       "      <td>...</td>\n",
       "      <td>...</td>\n",
       "      <td>...</td>\n",
       "      <td>...</td>\n",
       "      <td>...</td>\n",
       "      <td>...</td>\n",
       "      <td>...</td>\n",
       "      <td>...</td>\n",
       "      <td>...</td>\n",
       "      <td>...</td>\n",
       "    </tr>\n",
       "    <tr>\n",
       "      <th>4616</th>\n",
       "      <td>1720</td>\n",
       "      <td>sub-200</td>\n",
       "      <td>65</td>\n",
       "      <td>CSplus2</td>\n",
       "      <td>-0.023810</td>\n",
       "      <td>-0.128837</td>\n",
       "      <td>sub-200</td>\n",
       "      <td>HC</td>\n",
       "      <td>B</td>\n",
       "      <td>sub-200</td>\n",
       "      <td>CSplus2</td>\n",
       "      <td>65</td>\n",
       "      <td>0.0839</td>\n",
       "      <td>0.0839</td>\n",
       "    </tr>\n",
       "    <tr>\n",
       "      <th>4617</th>\n",
       "      <td>1721</td>\n",
       "      <td>sub-200</td>\n",
       "      <td>66</td>\n",
       "      <td>CSminus2</td>\n",
       "      <td>-0.500000</td>\n",
       "      <td>-0.126025</td>\n",
       "      <td>sub-200</td>\n",
       "      <td>HC</td>\n",
       "      <td>B</td>\n",
       "      <td>sub-200</td>\n",
       "      <td>CSminus2</td>\n",
       "      <td>66</td>\n",
       "      <td>0.9347</td>\n",
       "      <td>0.9347</td>\n",
       "    </tr>\n",
       "    <tr>\n",
       "      <th>4618</th>\n",
       "      <td>1722</td>\n",
       "      <td>sub-200</td>\n",
       "      <td>67</td>\n",
       "      <td>CSminus2</td>\n",
       "      <td>-0.119048</td>\n",
       "      <td>-0.097882</td>\n",
       "      <td>sub-200</td>\n",
       "      <td>HC</td>\n",
       "      <td>B</td>\n",
       "      <td>sub-200</td>\n",
       "      <td>CSminus2</td>\n",
       "      <td>67</td>\n",
       "      <td>0.5522</td>\n",
       "      <td>0.5522</td>\n",
       "    </tr>\n",
       "    <tr>\n",
       "      <th>4619</th>\n",
       "      <td>1723</td>\n",
       "      <td>sub-200</td>\n",
       "      <td>68</td>\n",
       "      <td>CSplus2</td>\n",
       "      <td>0.452381</td>\n",
       "      <td>0.117315</td>\n",
       "      <td>sub-200</td>\n",
       "      <td>HC</td>\n",
       "      <td>B</td>\n",
       "      <td>sub-200</td>\n",
       "      <td>CSplus2</td>\n",
       "      <td>68</td>\n",
       "      <td>0.0786</td>\n",
       "      <td>0.0786</td>\n",
       "    </tr>\n",
       "    <tr>\n",
       "      <th>4620</th>\n",
       "      <td>1724</td>\n",
       "      <td>sub-200</td>\n",
       "      <td>69</td>\n",
       "      <td>CSminus2</td>\n",
       "      <td>0.400000</td>\n",
       "      <td>-0.397169</td>\n",
       "      <td>sub-200</td>\n",
       "      <td>HC</td>\n",
       "      <td>B</td>\n",
       "      <td>sub-200</td>\n",
       "      <td>CSminus2</td>\n",
       "      <td>69</td>\n",
       "      <td>1.1525</td>\n",
       "      <td>1.1525</td>\n",
       "    </tr>\n",
       "  </tbody>\n",
       "</table>\n",
       "<p>4621 rows × 14 columns</p>\n",
       "</div>"
      ],
      "text/plain": [
       "      index  subject  trialNo  condition  coupling       amg      Sub group  \\\n",
       "0         0  sub-167        1  CSplusUS1  0.761905 -0.665134  sub-167    HC   \n",
       "1         1  sub-167        2   CSminus1 -0.238095 -0.060757  sub-167    HC   \n",
       "2         2  sub-167        3    CSplus1  0.095238  0.984678  sub-167    HC   \n",
       "3         3  sub-167        4  CSplusUS1  0.523810  0.488085  sub-167    HC   \n",
       "4         4  sub-167        5   CSminus1 -0.428571  0.053875  sub-167    HC   \n",
       "...     ...      ...      ...        ...       ...       ...      ...   ...   \n",
       "4616   1720  sub-200       65    CSplus2 -0.023810 -0.128837  sub-200    HC   \n",
       "4617   1721  sub-200       66   CSminus2 -0.500000 -0.126025  sub-200    HC   \n",
       "4618   1722  sub-200       67   CSminus2 -0.119048 -0.097882  sub-200    HC   \n",
       "4619   1723  sub-200       68    CSplus2  0.452381  0.117315  sub-200    HC   \n",
       "4620   1724  sub-200       69   CSminus2  0.400000 -0.397169  sub-200    HC   \n",
       "\n",
       "     Eprime      sub  Condition  Event.Nr  CDA.AmpSum     scr  \n",
       "0         A  sub-167  CSplusUS1         1      1.4637  1.4637  \n",
       "1         A  sub-167   CSminus1         2      1.3764  1.3764  \n",
       "2         A  sub-167    CSplus1         3      2.2023  2.2023  \n",
       "3         A  sub-167  CSplusUS1         4      2.7164  2.7164  \n",
       "4         A  sub-167   CSminus1         5      2.3635  2.3635  \n",
       "...     ...      ...        ...       ...         ...     ...  \n",
       "4616      B  sub-200    CSplus2        65      0.0839  0.0839  \n",
       "4617      B  sub-200   CSminus2        66      0.9347  0.9347  \n",
       "4618      B  sub-200   CSminus2        67      0.5522  0.5522  \n",
       "4619      B  sub-200    CSplus2        68      0.0786  0.0786  \n",
       "4620      B  sub-200   CSminus2        69      1.1525  1.1525  \n",
       "\n",
       "[4621 rows x 14 columns]"
      ]
     },
     "execution_count": 38,
     "metadata": {},
     "output_type": "execute_result"
    }
   ],
   "source": [
    "amg_hipp = pd.read_csv('dfSCR_coupling.csv')#('amg_hipp_fc_allTrials.csv')\n",
    "amg_hipp"
   ]
  },
  {
   "cell_type": "code",
   "execution_count": 39,
   "metadata": {},
   "outputs": [],
   "source": [
    "vmpfc_amg = pd.read_csv('vmPFCcoupling.csv')\n",
    "vmpfc_amg = vmpfc_amg.rename(columns={'coupling': 'amg_vmpfc'})\n",
    "amg_hipp['amg_vmpfc'] = vmpfc_amg['amg_vmpfc'] # add this to amg hippocampus data"
   ]
  },
  {
   "cell_type": "code",
   "execution_count": 40,
   "metadata": {},
   "outputs": [
    {
     "data": {
      "text/plain": [
       "4621"
      ]
     },
     "execution_count": 40,
     "metadata": {},
     "output_type": "execute_result"
    }
   ],
   "source": [
    "len(vmpfc_amg['amg_vmpfc'])"
   ]
  },
  {
   "cell_type": "code",
   "execution_count": 41,
   "metadata": {},
   "outputs": [
    {
     "data": {
      "text/plain": [
       "0"
      ]
     },
     "execution_count": 41,
     "metadata": {},
     "output_type": "execute_result"
    }
   ],
   "source": [
    "sum(np.isnan(amg_hipp['amg_vmpfc']))"
   ]
  },
  {
   "cell_type": "code",
   "execution_count": 42,
   "metadata": {},
   "outputs": [],
   "source": [
    "# add hippocampus anterior\n",
    "hippAnt_amg = pd.read_csv('HippAntcoupling.csv')\n",
    "hippAnt_amg = hippAnt_amg.rename(columns = {'coupling': 'amg_HippAnt'})\n",
    "amg_hipp['amg_HippAnt'] = hippAnt_amg['amg_HippAnt']"
   ]
  },
  {
   "cell_type": "code",
   "execution_count": 43,
   "metadata": {},
   "outputs": [],
   "source": [
    "# add control regions\n",
    "ctrl_amg = pd.read_csv('controlROI.csv')\n",
    "ctrl_amg = ctrl_amg.rename(columns = {'coupling': 'amg_ctrl'})\n",
    "amg_hipp['amg_ctrl'] = ctrl_amg['amg_ctrl']"
   ]
  },
  {
   "cell_type": "code",
   "execution_count": 77,
   "metadata": {},
   "outputs": [],
   "source": [
    "m_acc = pd.read_csv('mACC_coupling.csv')\n",
    "m_acc = m_acc.rename(columns = {'coupling': 'amg_mACC'})"
   ]
  },
  {
   "cell_type": "code",
   "execution_count": 44,
   "metadata": {},
   "outputs": [
    {
     "data": {
      "text/html": [
       "<div>\n",
       "<style scoped>\n",
       "    .dataframe tbody tr th:only-of-type {\n",
       "        vertical-align: middle;\n",
       "    }\n",
       "\n",
       "    .dataframe tbody tr th {\n",
       "        vertical-align: top;\n",
       "    }\n",
       "\n",
       "    .dataframe thead th {\n",
       "        text-align: right;\n",
       "    }\n",
       "</style>\n",
       "<table border=\"1\" class=\"dataframe\">\n",
       "  <thead>\n",
       "    <tr style=\"text-align: right;\">\n",
       "      <th></th>\n",
       "      <th>sub</th>\n",
       "      <th>Condition</th>\n",
       "      <th>Event.Nr</th>\n",
       "      <th>CDA.AmpSum</th>\n",
       "      <th>expected_value</th>\n",
       "      <th>pe</th>\n",
       "      <th>scr</th>\n",
       "      <th>index</th>\n",
       "      <th>subject</th>\n",
       "      <th>trialNo</th>\n",
       "      <th>condition</th>\n",
       "      <th>coupling</th>\n",
       "      <th>amg</th>\n",
       "      <th>Sub</th>\n",
       "      <th>group</th>\n",
       "      <th>Eprime</th>\n",
       "      <th>amg_vmpfc</th>\n",
       "      <th>amg_HippAnt</th>\n",
       "      <th>amg_ctrl</th>\n",
       "    </tr>\n",
       "  </thead>\n",
       "  <tbody>\n",
       "    <tr>\n",
       "      <th>0</th>\n",
       "      <td>sub-189</td>\n",
       "      <td>CSplusUS1</td>\n",
       "      <td>1</td>\n",
       "      <td>0.2852</td>\n",
       "      <td>0.801175</td>\n",
       "      <td>0.500000</td>\n",
       "      <td>0.2852</td>\n",
       "      <td>1794</td>\n",
       "      <td>sub-189</td>\n",
       "      <td>1</td>\n",
       "      <td>CSplusUS1</td>\n",
       "      <td>0.309524</td>\n",
       "      <td>0.981121</td>\n",
       "      <td>sub-189</td>\n",
       "      <td>HC</td>\n",
       "      <td>A</td>\n",
       "      <td>0.904762</td>\n",
       "      <td>0.571429</td>\n",
       "      <td>0.523810</td>\n",
       "    </tr>\n",
       "    <tr>\n",
       "      <th>1</th>\n",
       "      <td>sub-189</td>\n",
       "      <td>CSminus1</td>\n",
       "      <td>2</td>\n",
       "      <td>0.1033</td>\n",
       "      <td>0.796939</td>\n",
       "      <td>-0.500000</td>\n",
       "      <td>0.1033</td>\n",
       "      <td>1795</td>\n",
       "      <td>sub-189</td>\n",
       "      <td>2</td>\n",
       "      <td>CSminus1</td>\n",
       "      <td>-0.571429</td>\n",
       "      <td>-0.027048</td>\n",
       "      <td>sub-189</td>\n",
       "      <td>HC</td>\n",
       "      <td>A</td>\n",
       "      <td>0.404762</td>\n",
       "      <td>-0.119048</td>\n",
       "      <td>0.404762</td>\n",
       "    </tr>\n",
       "    <tr>\n",
       "      <th>2</th>\n",
       "      <td>sub-189</td>\n",
       "      <td>CSplus1</td>\n",
       "      <td>3</td>\n",
       "      <td>0.0783</td>\n",
       "      <td>0.799047</td>\n",
       "      <td>-0.501304</td>\n",
       "      <td>0.0783</td>\n",
       "      <td>1796</td>\n",
       "      <td>sub-189</td>\n",
       "      <td>3</td>\n",
       "      <td>CSplus1</td>\n",
       "      <td>-0.476190</td>\n",
       "      <td>-0.045910</td>\n",
       "      <td>sub-189</td>\n",
       "      <td>HC</td>\n",
       "      <td>A</td>\n",
       "      <td>0.333333</td>\n",
       "      <td>-0.642857</td>\n",
       "      <td>0.119048</td>\n",
       "    </tr>\n",
       "    <tr>\n",
       "      <th>3</th>\n",
       "      <td>sub-189</td>\n",
       "      <td>CSplusUS1</td>\n",
       "      <td>4</td>\n",
       "      <td>0.1772</td>\n",
       "      <td>0.801165</td>\n",
       "      <td>0.500006</td>\n",
       "      <td>0.1772</td>\n",
       "      <td>1797</td>\n",
       "      <td>sub-189</td>\n",
       "      <td>4</td>\n",
       "      <td>CSplusUS1</td>\n",
       "      <td>0.166667</td>\n",
       "      <td>-0.674150</td>\n",
       "      <td>sub-189</td>\n",
       "      <td>HC</td>\n",
       "      <td>A</td>\n",
       "      <td>0.690476</td>\n",
       "      <td>0.357143</td>\n",
       "      <td>0.285714</td>\n",
       "    </tr>\n",
       "    <tr>\n",
       "      <th>4</th>\n",
       "      <td>sub-189</td>\n",
       "      <td>CSminus1</td>\n",
       "      <td>5</td>\n",
       "      <td>0.0000</td>\n",
       "      <td>0.794832</td>\n",
       "      <td>-0.498696</td>\n",
       "      <td>0.0000</td>\n",
       "      <td>1798</td>\n",
       "      <td>sub-189</td>\n",
       "      <td>5</td>\n",
       "      <td>CSminus1</td>\n",
       "      <td>0.214286</td>\n",
       "      <td>-0.065602</td>\n",
       "      <td>sub-189</td>\n",
       "      <td>HC</td>\n",
       "      <td>A</td>\n",
       "      <td>0.595238</td>\n",
       "      <td>0.309524</td>\n",
       "      <td>0.214286</td>\n",
       "    </tr>\n",
       "  </tbody>\n",
       "</table>\n",
       "</div>"
      ],
      "text/plain": [
       "       sub  Condition  Event.Nr  CDA.AmpSum  expected_value        pe     scr  \\\n",
       "0  sub-189  CSplusUS1         1      0.2852        0.801175  0.500000  0.2852   \n",
       "1  sub-189   CSminus1         2      0.1033        0.796939 -0.500000  0.1033   \n",
       "2  sub-189    CSplus1         3      0.0783        0.799047 -0.501304  0.0783   \n",
       "3  sub-189  CSplusUS1         4      0.1772        0.801165  0.500006  0.1772   \n",
       "4  sub-189   CSminus1         5      0.0000        0.794832 -0.498696  0.0000   \n",
       "\n",
       "   index  subject  trialNo  condition  coupling       amg      Sub group  \\\n",
       "0   1794  sub-189        1  CSplusUS1  0.309524  0.981121  sub-189    HC   \n",
       "1   1795  sub-189        2   CSminus1 -0.571429 -0.027048  sub-189    HC   \n",
       "2   1796  sub-189        3    CSplus1 -0.476190 -0.045910  sub-189    HC   \n",
       "3   1797  sub-189        4  CSplusUS1  0.166667 -0.674150  sub-189    HC   \n",
       "4   1798  sub-189        5   CSminus1  0.214286 -0.065602  sub-189    HC   \n",
       "\n",
       "  Eprime  amg_vmpfc  amg_HippAnt  amg_ctrl  \n",
       "0      A   0.904762     0.571429  0.523810  \n",
       "1      A   0.404762    -0.119048  0.404762  \n",
       "2      A   0.333333    -0.642857  0.119048  \n",
       "3      A   0.690476     0.357143  0.285714  \n",
       "4      A   0.595238     0.309524  0.214286  "
      ]
     },
     "execution_count": 44,
     "metadata": {},
     "output_type": "execute_result"
    }
   ],
   "source": [
    "dfAll = pd.merge(scrTwo, amg_hipp)#, right_on=['subject','trialNo'], left_on=['sub','Event.Nr'])\n",
    "dfAll.head()"
   ]
  },
  {
   "cell_type": "code",
   "execution_count": 45,
   "metadata": {},
   "outputs": [
    {
     "data": {
      "text/plain": [
       "0"
      ]
     },
     "execution_count": 45,
     "metadata": {},
     "output_type": "execute_result"
    }
   ],
   "source": [
    "sum(np.isnan(dfAll['amg_vmpfc']))"
   ]
  },
  {
   "cell_type": "code",
   "execution_count": 46,
   "metadata": {},
   "outputs": [
    {
     "data": {
      "text/plain": [
       "0"
      ]
     },
     "execution_count": 46,
     "metadata": {},
     "output_type": "execute_result"
    }
   ],
   "source": [
    "sum(np.isnan(dfAll['amg_ctrl']))"
   ]
  },
  {
   "cell_type": "code",
   "execution_count": 47,
   "metadata": {},
   "outputs": [],
   "source": [
    "dfAll.to_csv('scr_amg_hipp_all.csv', index=False)"
   ]
  },
  {
   "cell_type": "code",
   "execution_count": 50,
   "metadata": {},
   "outputs": [
    {
     "data": {
      "text/plain": [
       "65"
      ]
     },
     "execution_count": 50,
     "metadata": {},
     "output_type": "execute_result"
    }
   ],
   "source": [
    "len(dfAll['sub'].unique())"
   ]
  },
  {
   "cell_type": "code",
   "execution_count": 48,
   "metadata": {
    "tags": []
   },
   "outputs": [
    {
     "name": "stdout",
     "output_type": "stream",
     "text": [
      "                Mixed Linear Model Regression Results\n",
      "======================================================================\n",
      "Model:                MixedLM    Dependent Variable:    expected_value\n",
      "No. Observations:     4485       Method:                REML          \n",
      "No. Groups:           65         Scale:                 0.0569        \n",
      "Min. group size:      69         Log-Likelihood:        -148.0076     \n",
      "Max. group size:      69         Converged:             Yes           \n",
      "Mean group size:      69.0                                            \n",
      "----------------------------------------------------------------------\n",
      "                           Coef.  Std.Err.    z    P>|z| [0.025 0.975]\n",
      "----------------------------------------------------------------------\n",
      "Intercept                   0.380    0.060   6.365 0.000  0.263  0.497\n",
      "C(Condition)[T.CSminus2]    0.167    0.017   9.850 0.000  0.134  0.200\n",
      "C(Condition)[T.CSminusUS2]  0.223    0.018  12.714 0.000  0.189  0.258\n",
      "C(Condition)[T.CSplus1]     0.167    0.012  13.822 0.000  0.144  0.191\n",
      "C(Condition)[T.CSplus2]     0.013    0.017   0.749 0.454 -0.020  0.045\n",
      "C(Condition)[T.CSplusUS1]   0.279    0.015  18.708 0.000  0.250  0.309\n",
      "coupling                    0.023    0.009   2.435 0.015  0.004  0.041\n",
      "amg                         0.002    0.008   0.202 0.840 -0.015  0.018\n",
      "trialNo                    -0.004    0.000 -11.967 0.000 -0.005 -0.004\n",
      "subject Var                 0.225    0.168                            \n",
      "======================================================================\n",
      "\n"
     ]
    }
   ],
   "source": [
    "# Statistical analysis\n",
    "import statsmodels.api as sm\n",
    "import statsmodels.formula.api as smf\n",
    "glm = smf.mixedlm('expected_value ~ coupling+ C(Condition) + amg + trialNo', data=dfAll, \n",
    "    groups = 'subject', \n",
    "                 missing='drop')\n",
    "model1 = glm.fit()\n",
    "print(model1.summary())"
   ]
  },
  {
   "cell_type": "code",
   "execution_count": 49,
   "metadata": {},
   "outputs": [
    {
     "name": "stdout",
     "output_type": "stream",
     "text": [
      "                Mixed Linear Model Regression Results\n",
      "======================================================================\n",
      "Model:                MixedLM    Dependent Variable:    expected_value\n",
      "No. Observations:     4485       Method:                REML          \n",
      "No. Groups:           65         Scale:                 0.0569        \n",
      "Min. group size:      69         Log-Likelihood:        -148.0076     \n",
      "Max. group size:      69         Converged:             Yes           \n",
      "Mean group size:      69.0                                            \n",
      "----------------------------------------------------------------------\n",
      "                           Coef.  Std.Err.    z    P>|z| [0.025 0.975]\n",
      "----------------------------------------------------------------------\n",
      "Intercept                   0.380    0.060   6.365 0.000  0.263  0.497\n",
      "C(Condition)[T.CSminus2]    0.167    0.017   9.850 0.000  0.134  0.200\n",
      "C(Condition)[T.CSminusUS2]  0.223    0.018  12.714 0.000  0.189  0.258\n",
      "C(Condition)[T.CSplus1]     0.167    0.012  13.822 0.000  0.144  0.191\n",
      "C(Condition)[T.CSplus2]     0.013    0.017   0.749 0.454 -0.020  0.045\n",
      "C(Condition)[T.CSplusUS1]   0.279    0.015  18.708 0.000  0.250  0.309\n",
      "coupling                    0.023    0.009   2.435 0.015  0.004  0.041\n",
      "amg                         0.002    0.008   0.202 0.840 -0.015  0.018\n",
      "trialNo                    -0.004    0.000 -11.967 0.000 -0.005 -0.004\n",
      "subject Var                 0.225    0.168                            \n",
      "======================================================================\n",
      "\n"
     ]
    }
   ],
   "source": [
    "# Statistical analysis\n",
    "import statsmodels.api as sm\n",
    "import statsmodels.formula.api as smf\n",
    "glm = smf.mixedlm('expected_value ~ coupling+ C(Condition) + amg + trialNo', data=dfAll, \n",
    "    groups = 'subject', \n",
    "                 missing='drop')\n",
    "model1 = glm.fit()\n",
    "print(model1.summary())"
   ]
  },
  {
   "cell_type": "code",
   "execution_count": 50,
   "metadata": {},
   "outputs": [
    {
     "name": "stderr",
     "output_type": "stream",
     "text": [
      "/gpfs/ysm/project/joormann/oad4/conda_envs/neuroAnalysis/lib/python3.9/site-packages/statsmodels/regression/mixed_linear_model.py:1634: UserWarning: Random effects covariance is singular\n",
      "  warnings.warn(msg)\n"
     ]
    },
    {
     "name": "stdout",
     "output_type": "stream",
     "text": [
      "         Mixed Linear Model Regression Results\n",
      "========================================================\n",
      "Model:            MixedLM Dependent Variable: pe        \n",
      "No. Observations: 4485    Method:             REML      \n",
      "No. Groups:       65      Scale:              0.1589    \n",
      "Min. group size:  69      Log-Likelihood:     -2254.3617\n",
      "Max. group size:  69      Converged:          Yes       \n",
      "Mean group size:  69.0                                  \n",
      "--------------------------------------------------------\n",
      "             Coef.  Std.Err.    z    P>|z| [0.025 0.975]\n",
      "--------------------------------------------------------\n",
      "Intercept    -0.164    0.012 -13.657 0.000 -0.188 -0.141\n",
      "coupling      0.070    0.014   5.002 0.000  0.043  0.097\n",
      "amg          -0.010    0.014  -0.734 0.463 -0.037  0.017\n",
      "trialNo       0.001    0.000   4.629 0.000  0.001  0.002\n",
      "subject Var   0.000    0.001                            \n",
      "========================================================\n",
      "\n"
     ]
    },
    {
     "name": "stderr",
     "output_type": "stream",
     "text": [
      "/gpfs/ysm/project/joormann/oad4/conda_envs/neuroAnalysis/lib/python3.9/site-packages/statsmodels/regression/mixed_linear_model.py:1634: UserWarning: Random effects covariance is singular\n",
      "  warnings.warn(msg)\n",
      "/gpfs/ysm/project/joormann/oad4/conda_envs/neuroAnalysis/lib/python3.9/site-packages/statsmodels/regression/mixed_linear_model.py:2237: ConvergenceWarning: The MLE may be on the boundary of the parameter space.\n",
      "  warnings.warn(msg, ConvergenceWarning)\n"
     ]
    }
   ],
   "source": [
    "# assessing prediction error\n",
    "glm_1 = smf.mixedlm('pe ~ coupling +  amg + trialNo', data=dfAll, \n",
    "    groups = 'subject', \n",
    "                 missing='drop')\n",
    "model1_1 = glm_1.fit()\n",
    "print(model1_1.summary())"
   ]
  },
  {
   "cell_type": "code",
   "execution_count": 109,
   "metadata": {},
   "outputs": [
    {
     "data": {
      "image/png": "[encoded data removed]",
      "text/plain": [
       "<Figure size 864x504 with 1 Axes>"
      ]
     },
     "metadata": {},
     "output_type": "display_data"
    }
   ],
   "source": [
    "plt.rc('figure', figsize=(12, 7))\n",
    "plt.text(0.01, 0.05, str(model1.summary()), {'fontsize': 12}, fontproperties = 'monospace') \n",
    "plt.axis('off')\n",
    "plt.tight_layout()\n",
    "plt.savefig('outputEV_Coupling.png')"
   ]
  },
  {
   "cell_type": "markdown",
   "metadata": {},
   "source": [
    "# Plotting results"
   ]
  },
  {
   "cell_type": "code",
   "execution_count": 52,
   "metadata": {},
   "outputs": [
    {
     "data": {
      "text/plain": [
       "(0.44207895950602594, 0.0001429445638346312)"
      ]
     },
     "execution_count": 52,
     "metadata": {},
     "output_type": "execute_result"
    },
    {
     "data": {
      "image/png": "[encoded data removed]",
      "text/plain": [
       "<Figure size 360x360 with 1 Axes>"
      ]
     },
     "metadata": {},
     "output_type": "display_data"
    }
   ],
   "source": [
    "# plot results\n",
    "forPlot = dfAll.groupby(['Event.Nr']).mean()\n",
    "sns.set(font_scale = 1.15)\n",
    "sns.set_style(\"whitegrid\")\n",
    "a = sns.lmplot(x ='pe', y='coupling', data= forPlot)\n",
    "a.set_axis_labels(\"Prediction Error\")\n",
    "a.set_ylabels(\"Amygdala Hippocampus Coupling\")\n",
    "plt.text(-0.6,0.23, \"r=0.44, p<0.0001\")\n",
    "\n",
    "a.set(xlim = (-0.7,0.95))\n",
    "a.set(xticks=np.linspace(-0.7, 0.95, 6).round(1))\n",
    "#a.savefig('pe_coupling.png', dpi=300, bbox_inches='tight')\n",
    "scipy.stats.pearsonr(forPlot['pe'], forPlot['coupling'])\n"
   ]
  },
  {
   "cell_type": "markdown",
   "metadata": {},
   "source": [
    "# Do the same with VMPFC"
   ]
  },
  {
   "cell_type": "code",
   "execution_count": 141,
   "metadata": {},
   "outputs": [
    {
     "name": "stdout",
     "output_type": "stream",
     "text": [
      "                Mixed Linear Model Regression Results\n",
      "======================================================================\n",
      "Model:                MixedLM    Dependent Variable:    expected_value\n",
      "No. Observations:     4485       Method:                REML          \n",
      "No. Groups:           65         Scale:                 0.0557        \n",
      "Min. group size:      69         Log-Likelihood:        -102.4209     \n",
      "Max. group size:      69         Converged:             Yes           \n",
      "Mean group size:      69.0                                            \n",
      "----------------------------------------------------------------------\n",
      "                           Coef.  Std.Err.    z    P>|z| [0.025 0.975]\n",
      "----------------------------------------------------------------------\n",
      "Intercept                   0.381    0.059   6.425 0.000  0.265  0.497\n",
      "C(Condition)[T.CSminus2]    0.170    0.017  10.162 0.000  0.137  0.203\n",
      "C(Condition)[T.CSminusUS2]  0.235    0.017  13.509 0.000  0.201  0.269\n",
      "C(Condition)[T.CSplus1]     0.170    0.012  14.224 0.000  0.147  0.194\n",
      "C(Condition)[T.CSplus2]     0.012    0.017   0.734 0.463 -0.020  0.045\n",
      "C(Condition)[T.CSplusUS1]   0.292    0.015  19.770 0.000  0.263  0.321\n",
      "amg_vmpfc                   0.005    0.010   0.460 0.645 -0.015  0.025\n",
      "amg                         0.003    0.008   0.355 0.723 -0.013  0.019\n",
      "trialNo                    -0.004    0.000 -12.163 0.000 -0.005 -0.004\n",
      "subject Var                 0.221    0.167                            \n",
      "======================================================================\n",
      "\n"
     ]
    }
   ],
   "source": [
    "glmVM = smf.mixedlm('expected_value ~ amg_vmpfc+ C(Condition) + amg + trialNo', data=dfAll, \n",
    "    groups = 'subject', \n",
    "                 missing='drop')\n",
    "modelVM = glmVM.fit()\n",
    "print(modelVM.summary())"
   ]
  },
  {
   "cell_type": "code",
   "execution_count": 142,
   "metadata": {},
   "outputs": [
    {
     "name": "stdout",
     "output_type": "stream",
     "text": [
      "         Mixed Linear Model Regression Results\n",
      "========================================================\n",
      "Model:            MixedLM Dependent Variable: pe        \n",
      "No. Observations: 4485    Method:             REML      \n",
      "No. Groups:       65      Scale:              0.1601    \n",
      "Min. group size:  69      Log-Likelihood:     -2272.3676\n",
      "Max. group size:  69      Converged:          Yes       \n",
      "Mean group size:  69.0                                  \n",
      "--------------------------------------------------------\n",
      "             Coef.  Std.Err.    z    P>|z| [0.025 0.975]\n",
      "--------------------------------------------------------\n",
      "Intercept    -0.152    0.014 -11.123 0.000 -0.178 -0.125\n",
      "amg_vmpfc    -0.021    0.016  -1.308 0.191 -0.053  0.011\n",
      "amg          -0.007    0.014  -0.481 0.631 -0.034  0.021\n",
      "trialNo       0.002    0.000   4.999 0.000  0.001  0.002\n",
      "subject Var   0.000    0.001                            \n",
      "========================================================\n",
      "\n"
     ]
    },
    {
     "name": "stderr",
     "output_type": "stream",
     "text": [
      "/gpfs/ysm/project/joormann/oad4/conda_envs/neuroAnalysis/lib/python3.9/site-packages/statsmodels/regression/mixed_linear_model.py:1634: UserWarning: Random effects covariance is singular\n",
      "  warnings.warn(msg)\n",
      "/gpfs/ysm/project/joormann/oad4/conda_envs/neuroAnalysis/lib/python3.9/site-packages/statsmodels/regression/mixed_linear_model.py:2237: ConvergenceWarning: The MLE may be on the boundary of the parameter space.\n",
      "  warnings.warn(msg, ConvergenceWarning)\n"
     ]
    }
   ],
   "source": [
    "glmVM_pe = smf.mixedlm('pe ~ amg_vmpfc+ amg + trialNo', data=dfAll, \n",
    "    groups = 'subject', \n",
    "                 missing='drop')\n",
    "modelVM_pe = glmVM_pe.fit()\n",
    "print(modelVM_pe.summary())"
   ]
  },
  {
   "cell_type": "code",
   "execution_count": 54,
   "metadata": {},
   "outputs": [
    {
     "data": {
      "text/plain": [
       "(-0.22545513110744397, 0.06251617328812986)"
      ]
     },
     "execution_count": 54,
     "metadata": {},
     "output_type": "execute_result"
    },
    {
     "data": {
      "image/png": "[encoded data removed]",
      "text/plain": [
       "<Figure size 360x360 with 1 Axes>"
      ]
     },
     "metadata": {},
     "output_type": "display_data"
    }
   ],
   "source": [
    "forPlot = dfAll.groupby(['Event.Nr']).mean()\n",
    "sns.set(font_scale = 1.15)\n",
    "sns.set_style(\"whitegrid\")\n",
    "a = sns.lmplot(x ='pe', y='amg_vmpfc', data= forPlot)\n",
    "a.set_axis_labels(\"Prediction Error\")\n",
    "a.set_ylabels(\"Amygdala vmPFC Coupling\")\n",
    "plt.text(0.3,0.47, \"r=-0.22, p<0.06\")\n",
    "\n",
    "a.set(xlim = (-0.7,0.95))\n",
    "a.set(xticks=np.linspace(-0.7, 0.95, 6).round(1))\n",
    "#a.savefig('pe_VMPFCcoupling.png', dpi=300, bbox_inches='tight')\n",
    "scipy.stats.pearsonr(forPlot['pe'], forPlot['amg_vmpfc'])\n"
   ]
  },
  {
   "cell_type": "markdown",
   "metadata": {},
   "source": [
    "# Now with Amygdala-Anterior hippocampus"
   ]
  },
  {
   "cell_type": "code",
   "execution_count": 55,
   "metadata": {},
   "outputs": [
    {
     "name": "stdout",
     "output_type": "stream",
     "text": [
      "                Mixed Linear Model Regression Results\n",
      "======================================================================\n",
      "Model:                MixedLM    Dependent Variable:    expected_value\n",
      "No. Observations:     4485       Method:                REML          \n",
      "No. Groups:           65         Scale:                 0.0570        \n",
      "Min. group size:      69         Log-Likelihood:        -150.8862     \n",
      "Max. group size:      69         Converged:             Yes           \n",
      "Mean group size:      69.0                                            \n",
      "----------------------------------------------------------------------\n",
      "                           Coef.  Std.Err.    z    P>|z| [0.025 0.975]\n",
      "----------------------------------------------------------------------\n",
      "Intercept                   0.379    0.060   6.364 0.000  0.263  0.496\n",
      "C(Condition)[T.CSminus2]    0.166    0.017   9.775 0.000  0.132  0.199\n",
      "C(Condition)[T.CSminusUS2]  0.224    0.018  12.733 0.000  0.190  0.259\n",
      "C(Condition)[T.CSplus1]     0.167    0.012  13.774 0.000  0.143  0.190\n",
      "C(Condition)[T.CSplus2]     0.011    0.017   0.673 0.501 -0.022  0.044\n",
      "C(Condition)[T.CSplusUS1]   0.281    0.015  18.809 0.000  0.252  0.310\n",
      "amg_HippAnt                 0.003    0.010   0.319 0.750 -0.016  0.022\n",
      "amg                         0.003    0.008   0.345 0.730 -0.013  0.019\n",
      "trialNo                    -0.004    0.000 -11.830 0.000 -0.005 -0.004\n",
      "subject Var                 0.224    0.168                            \n",
      "======================================================================\n",
      "\n"
     ]
    }
   ],
   "source": [
    "glmAH = smf.mixedlm('expected_value ~ amg_HippAnt+ C(Condition) + amg + trialNo', data=dfAll, \n",
    "    groups = 'subject', \n",
    "                 missing='drop')\n",
    "modelAH = glmAH.fit()\n",
    "print(modelAH.summary())"
   ]
  },
  {
   "cell_type": "code",
   "execution_count": 56,
   "metadata": {},
   "outputs": [
    {
     "name": "stdout",
     "output_type": "stream",
     "text": [
      "         Mixed Linear Model Regression Results\n",
      "========================================================\n",
      "Model:            MixedLM Dependent Variable: pe        \n",
      "No. Observations: 4485    Method:             REML      \n",
      "No. Groups:       65      Scale:              0.1593    \n",
      "Min. group size:  69      Log-Likelihood:     -2260.6282\n",
      "Max. group size:  69      Converged:          Yes       \n",
      "Mean group size:  69.0                                  \n",
      "--------------------------------------------------------\n",
      "             Coef.  Std.Err.    z    P>|z| [0.025 0.975]\n",
      "--------------------------------------------------------\n",
      "Intercept    -0.174    0.013 -13.902 0.000 -0.198 -0.149\n",
      "amg_HippAnt   0.054    0.015   3.562 0.000  0.024  0.084\n",
      "amg          -0.008    0.014  -0.552 0.581 -0.035  0.020\n",
      "trialNo       0.001    0.000   4.770 0.000  0.001  0.002\n",
      "subject Var   0.000    0.001                            \n",
      "========================================================\n",
      "\n"
     ]
    },
    {
     "name": "stderr",
     "output_type": "stream",
     "text": [
      "/gpfs/ysm/project/joormann/oad4/conda_envs/neuroAnalysis/lib/python3.9/site-packages/statsmodels/regression/mixed_linear_model.py:1634: UserWarning: Random effects covariance is singular\n",
      "  warnings.warn(msg)\n",
      "/gpfs/ysm/project/joormann/oad4/conda_envs/neuroAnalysis/lib/python3.9/site-packages/statsmodels/regression/mixed_linear_model.py:2237: ConvergenceWarning: The MLE may be on the boundary of the parameter space.\n",
      "  warnings.warn(msg, ConvergenceWarning)\n"
     ]
    }
   ],
   "source": [
    "glmAH_pe = smf.mixedlm('pe ~ amg_HippAnt+ amg + trialNo', data=dfAll, \n",
    "    groups = 'subject', \n",
    "                 missing='drop')\n",
    "modelAH_pe = glmAH_pe.fit()\n",
    "print(modelAH_pe.summary())"
   ]
  },
  {
   "cell_type": "code",
   "execution_count": 57,
   "metadata": {},
   "outputs": [
    {
     "data": {
      "text/plain": [
       "(0.38798332275942493, 0.0009876991485325444)"
      ]
     },
     "execution_count": 57,
     "metadata": {},
     "output_type": "execute_result"
    },
    {
     "data": {
      "image/png": "[encoded data removed]",
      "text/plain": [
       "<Figure size 360x360 with 1 Axes>"
      ]
     },
     "metadata": {},
     "output_type": "display_data"
    }
   ],
   "source": [
    "forPlot = dfAll.groupby(['Event.Nr']).mean()\n",
    "sns.set(font_scale = 1.15)\n",
    "sns.set_style(\"whitegrid\")\n",
    "a = sns.lmplot(x ='pe', y='amg_HippAnt', data= forPlot)\n",
    "a.set_axis_labels(\"Prediction Error\")\n",
    "a.set_ylabels(\"Amygdala Anterior Hippocampus Coupling\")\n",
    "plt.text(0.38,0.34, \"r=0.38, p= .001\")\n",
    "\n",
    "a.set(xlim = (-0.7,0.95))\n",
    "a.set(xticks=np.linspace(-0.7, 0.95, 6).round(1))\n",
    "#a.savefig('pe_AnteriorHippocampusCoupling.png', dpi=300, bbox_inches='tight')\n",
    "scipy.stats.pearsonr(forPlot['pe'], forPlot['amg_HippAnt'])"
   ]
  },
  {
   "cell_type": "markdown",
   "metadata": {},
   "source": [
    "# Summary:\n",
    "- Amg-Hippocampus coupling is significantly predicting expected value!\n",
    "- Amg - vmPFC is not\n",
    "\n",
    "## Look at groups?"
   ]
  },
  {
   "cell_type": "code",
   "execution_count": 59,
   "metadata": {},
   "outputs": [],
   "source": [
    "dfGroups = pd.read_csv('Behavioral/SubGroupLists.csv', dtype={'Sub': 'string'})\n",
    "dfGroups = dfGroups[['Sub','group', 'Eprime']]\n",
    "for i in dfGroups.iterrows():\n",
    "    dfGroups.at[i[0], 'Sub'] = \"sub-\" + str(i[1].Sub)\n"
   ]
  },
  {
   "cell_type": "code",
   "execution_count": 60,
   "metadata": {},
   "outputs": [
    {
     "data": {
      "text/html": [
       "<div>\n",
       "<style scoped>\n",
       "    .dataframe tbody tr th:only-of-type {\n",
       "        vertical-align: middle;\n",
       "    }\n",
       "\n",
       "    .dataframe tbody tr th {\n",
       "        vertical-align: top;\n",
       "    }\n",
       "\n",
       "    .dataframe thead th {\n",
       "        text-align: right;\n",
       "    }\n",
       "</style>\n",
       "<table border=\"1\" class=\"dataframe\">\n",
       "  <thead>\n",
       "    <tr style=\"text-align: right;\">\n",
       "      <th></th>\n",
       "      <th>Source</th>\n",
       "      <th>ddof1</th>\n",
       "      <th>ddof2</th>\n",
       "      <th>F</th>\n",
       "      <th>p-unc</th>\n",
       "      <th>np2</th>\n",
       "    </tr>\n",
       "  </thead>\n",
       "  <tbody>\n",
       "    <tr>\n",
       "      <th>0</th>\n",
       "      <td>group</td>\n",
       "      <td>2</td>\n",
       "      <td>62</td>\n",
       "      <td>1.589356</td>\n",
       "      <td>0.212258</td>\n",
       "      <td>0.048769</td>\n",
       "    </tr>\n",
       "  </tbody>\n",
       "</table>\n",
       "</div>"
      ],
      "text/plain": [
       "  Source  ddof1  ddof2         F     p-unc       np2\n",
       "0  group      2     62  1.589356  0.212258  0.048769"
      ]
     },
     "execution_count": 60,
     "metadata": {},
     "output_type": "execute_result"
    },
    {
     "data": {
      "image/png": "[encoded data removed]",
      "text/plain": [
       "<Figure size 360x360 with 1 Axes>"
      ]
     },
     "metadata": {},
     "output_type": "display_data"
    }
   ],
   "source": [
    "# test alphas and groups\n",
    "alphas_b = pd.merge(alphas, dfGroups, left_on='subject', right_on='Sub')\n",
    "sns.catplot(x='group',y='alphas', data=alphas_b, kind='swarm')\n",
    "import pingouin as pg\n",
    "pg.anova(data=alphas_b, between='group',dv='alphas')"
   ]
  },
  {
   "cell_type": "code",
   "execution_count": 61,
   "metadata": {},
   "outputs": [],
   "source": [
    "alphas_b.to_csv('alphas_Reversal.csv', index=False)"
   ]
  },
  {
   "cell_type": "code",
   "execution_count": 62,
   "metadata": {},
   "outputs": [
    {
     "data": {
      "text/html": [
       "<div>\n",
       "<style scoped>\n",
       "    .dataframe tbody tr th:only-of-type {\n",
       "        vertical-align: middle;\n",
       "    }\n",
       "\n",
       "    .dataframe tbody tr th {\n",
       "        vertical-align: top;\n",
       "    }\n",
       "\n",
       "    .dataframe thead tr th {\n",
       "        text-align: left;\n",
       "    }\n",
       "\n",
       "    .dataframe thead tr:last-of-type th {\n",
       "        text-align: right;\n",
       "    }\n",
       "</style>\n",
       "<table border=\"1\" class=\"dataframe\">\n",
       "  <thead>\n",
       "    <tr>\n",
       "      <th></th>\n",
       "      <th colspan=\"8\" halign=\"left\">alphas</th>\n",
       "    </tr>\n",
       "    <tr>\n",
       "      <th></th>\n",
       "      <th>count</th>\n",
       "      <th>mean</th>\n",
       "      <th>std</th>\n",
       "      <th>min</th>\n",
       "      <th>25%</th>\n",
       "      <th>50%</th>\n",
       "      <th>75%</th>\n",
       "      <th>max</th>\n",
       "    </tr>\n",
       "    <tr>\n",
       "      <th>group</th>\n",
       "      <th></th>\n",
       "      <th></th>\n",
       "      <th></th>\n",
       "      <th></th>\n",
       "      <th></th>\n",
       "      <th></th>\n",
       "      <th></th>\n",
       "      <th></th>\n",
       "    </tr>\n",
       "  </thead>\n",
       "  <tbody>\n",
       "    <tr>\n",
       "      <th>HC</th>\n",
       "      <td>19.0</td>\n",
       "      <td>0.127779</td>\n",
       "      <td>0.069006</td>\n",
       "      <td>0.002370</td>\n",
       "      <td>0.086285</td>\n",
       "      <td>0.159727</td>\n",
       "      <td>0.183278</td>\n",
       "      <td>0.213034</td>\n",
       "    </tr>\n",
       "    <tr>\n",
       "      <th>VCC</th>\n",
       "      <td>25.0</td>\n",
       "      <td>0.140846</td>\n",
       "      <td>0.039780</td>\n",
       "      <td>0.048419</td>\n",
       "      <td>0.121430</td>\n",
       "      <td>0.151145</td>\n",
       "      <td>0.176067</td>\n",
       "      <td>0.196630</td>\n",
       "    </tr>\n",
       "    <tr>\n",
       "      <th>VPTSD</th>\n",
       "      <td>21.0</td>\n",
       "      <td>0.156837</td>\n",
       "      <td>0.045837</td>\n",
       "      <td>0.040433</td>\n",
       "      <td>0.154539</td>\n",
       "      <td>0.171670</td>\n",
       "      <td>0.176996</td>\n",
       "      <td>0.220806</td>\n",
       "    </tr>\n",
       "  </tbody>\n",
       "</table>\n",
       "</div>"
      ],
      "text/plain": [
       "      alphas                                                              \\\n",
       "       count      mean       std       min       25%       50%       75%   \n",
       "group                                                                      \n",
       "HC      19.0  0.127779  0.069006  0.002370  0.086285  0.159727  0.183278   \n",
       "VCC     25.0  0.140846  0.039780  0.048419  0.121430  0.151145  0.176067   \n",
       "VPTSD   21.0  0.156837  0.045837  0.040433  0.154539  0.171670  0.176996   \n",
       "\n",
       "                 \n",
       "            max  \n",
       "group            \n",
       "HC     0.213034  \n",
       "VCC    0.196630  \n",
       "VPTSD  0.220806  "
      ]
     },
     "execution_count": 62,
     "metadata": {},
     "output_type": "execute_result"
    }
   ],
   "source": [
    "alphas_b.groupby('group').describe()"
   ]
  },
  {
   "cell_type": "code",
   "execution_count": 64,
   "metadata": {},
   "outputs": [
    {
     "data": {
      "text/html": [
       "<div>\n",
       "<style scoped>\n",
       "    .dataframe tbody tr th:only-of-type {\n",
       "        vertical-align: middle;\n",
       "    }\n",
       "\n",
       "    .dataframe tbody tr th {\n",
       "        vertical-align: top;\n",
       "    }\n",
       "\n",
       "    .dataframe thead th {\n",
       "        text-align: right;\n",
       "    }\n",
       "</style>\n",
       "<table border=\"1\" class=\"dataframe\">\n",
       "  <thead>\n",
       "    <tr style=\"text-align: right;\">\n",
       "      <th></th>\n",
       "      <th>T</th>\n",
       "      <th>dof</th>\n",
       "      <th>alternative</th>\n",
       "      <th>p-val</th>\n",
       "      <th>CI95%</th>\n",
       "      <th>cohen-d</th>\n",
       "      <th>BF10</th>\n",
       "      <th>power</th>\n",
       "    </tr>\n",
       "  </thead>\n",
       "  <tbody>\n",
       "    <tr>\n",
       "      <th>T-test</th>\n",
       "      <td>-1.551701</td>\n",
       "      <td>30.819605</td>\n",
       "      <td>two-sided</td>\n",
       "      <td>0.130943</td>\n",
       "      <td>[-0.07, 0.01]</td>\n",
       "      <td>0.501185</td>\n",
       "      <td>0.794</td>\n",
       "      <td>0.338566</td>\n",
       "    </tr>\n",
       "  </tbody>\n",
       "</table>\n",
       "</div>"
      ],
      "text/plain": [
       "               T        dof alternative     p-val          CI95%   cohen-d  \\\n",
       "T-test -1.551701  30.819605   two-sided  0.130943  [-0.07, 0.01]  0.501185   \n",
       "\n",
       "         BF10     power  \n",
       "T-test  0.794  0.338566  "
      ]
     },
     "execution_count": 64,
     "metadata": {},
     "output_type": "execute_result"
    }
   ],
   "source": [
    "pg.ttest(alphas_b['alphas'][alphas_b['group']=='HC'], alphas_b['alphas'][alphas_b['group']=='VPTSD'])"
   ]
  },
  {
   "cell_type": "code",
   "execution_count": 65,
   "metadata": {},
   "outputs": [
    {
     "data": {
      "text/html": [
       "<div>\n",
       "<style scoped>\n",
       "    .dataframe tbody tr th:only-of-type {\n",
       "        vertical-align: middle;\n",
       "    }\n",
       "\n",
       "    .dataframe tbody tr th {\n",
       "        vertical-align: top;\n",
       "    }\n",
       "\n",
       "    .dataframe thead th {\n",
       "        text-align: right;\n",
       "    }\n",
       "</style>\n",
       "<table border=\"1\" class=\"dataframe\">\n",
       "  <thead>\n",
       "    <tr style=\"text-align: right;\">\n",
       "      <th></th>\n",
       "      <th>sub</th>\n",
       "      <th>Condition</th>\n",
       "      <th>Event.Nr</th>\n",
       "      <th>CDA.AmpSum</th>\n",
       "      <th>expected_value</th>\n",
       "      <th>pe</th>\n",
       "      <th>scr</th>\n",
       "      <th>index</th>\n",
       "      <th>subject</th>\n",
       "      <th>trialNo</th>\n",
       "      <th>...</th>\n",
       "      <th>amg</th>\n",
       "      <th>Sub_x</th>\n",
       "      <th>group_x</th>\n",
       "      <th>Eprime_x</th>\n",
       "      <th>amg_vmpfc</th>\n",
       "      <th>amg_HippAnt</th>\n",
       "      <th>amg_ctrl</th>\n",
       "      <th>Sub_y</th>\n",
       "      <th>group_y</th>\n",
       "      <th>Eprime_y</th>\n",
       "    </tr>\n",
       "  </thead>\n",
       "  <tbody>\n",
       "    <tr>\n",
       "      <th>0</th>\n",
       "      <td>sub-189</td>\n",
       "      <td>CSplusUS1</td>\n",
       "      <td>1</td>\n",
       "      <td>0.2852</td>\n",
       "      <td>0.801175</td>\n",
       "      <td>0.500000</td>\n",
       "      <td>0.2852</td>\n",
       "      <td>1794</td>\n",
       "      <td>sub-189</td>\n",
       "      <td>1</td>\n",
       "      <td>...</td>\n",
       "      <td>0.981121</td>\n",
       "      <td>sub-189</td>\n",
       "      <td>HC</td>\n",
       "      <td>A</td>\n",
       "      <td>0.904762</td>\n",
       "      <td>0.571429</td>\n",
       "      <td>0.523810</td>\n",
       "      <td>sub-189</td>\n",
       "      <td>HC</td>\n",
       "      <td>A</td>\n",
       "    </tr>\n",
       "    <tr>\n",
       "      <th>1</th>\n",
       "      <td>sub-189</td>\n",
       "      <td>CSminus1</td>\n",
       "      <td>2</td>\n",
       "      <td>0.1033</td>\n",
       "      <td>0.796939</td>\n",
       "      <td>-0.500000</td>\n",
       "      <td>0.1033</td>\n",
       "      <td>1795</td>\n",
       "      <td>sub-189</td>\n",
       "      <td>2</td>\n",
       "      <td>...</td>\n",
       "      <td>-0.027048</td>\n",
       "      <td>sub-189</td>\n",
       "      <td>HC</td>\n",
       "      <td>A</td>\n",
       "      <td>0.404762</td>\n",
       "      <td>-0.119048</td>\n",
       "      <td>0.404762</td>\n",
       "      <td>sub-189</td>\n",
       "      <td>HC</td>\n",
       "      <td>A</td>\n",
       "    </tr>\n",
       "    <tr>\n",
       "      <th>2</th>\n",
       "      <td>sub-189</td>\n",
       "      <td>CSplus1</td>\n",
       "      <td>3</td>\n",
       "      <td>0.0783</td>\n",
       "      <td>0.799047</td>\n",
       "      <td>-0.501304</td>\n",
       "      <td>0.0783</td>\n",
       "      <td>1796</td>\n",
       "      <td>sub-189</td>\n",
       "      <td>3</td>\n",
       "      <td>...</td>\n",
       "      <td>-0.045910</td>\n",
       "      <td>sub-189</td>\n",
       "      <td>HC</td>\n",
       "      <td>A</td>\n",
       "      <td>0.333333</td>\n",
       "      <td>-0.642857</td>\n",
       "      <td>0.119048</td>\n",
       "      <td>sub-189</td>\n",
       "      <td>HC</td>\n",
       "      <td>A</td>\n",
       "    </tr>\n",
       "    <tr>\n",
       "      <th>3</th>\n",
       "      <td>sub-189</td>\n",
       "      <td>CSplusUS1</td>\n",
       "      <td>4</td>\n",
       "      <td>0.1772</td>\n",
       "      <td>0.801165</td>\n",
       "      <td>0.500006</td>\n",
       "      <td>0.1772</td>\n",
       "      <td>1797</td>\n",
       "      <td>sub-189</td>\n",
       "      <td>4</td>\n",
       "      <td>...</td>\n",
       "      <td>-0.674150</td>\n",
       "      <td>sub-189</td>\n",
       "      <td>HC</td>\n",
       "      <td>A</td>\n",
       "      <td>0.690476</td>\n",
       "      <td>0.357143</td>\n",
       "      <td>0.285714</td>\n",
       "      <td>sub-189</td>\n",
       "      <td>HC</td>\n",
       "      <td>A</td>\n",
       "    </tr>\n",
       "    <tr>\n",
       "      <th>4</th>\n",
       "      <td>sub-189</td>\n",
       "      <td>CSminus1</td>\n",
       "      <td>5</td>\n",
       "      <td>0.0000</td>\n",
       "      <td>0.794832</td>\n",
       "      <td>-0.498696</td>\n",
       "      <td>0.0000</td>\n",
       "      <td>1798</td>\n",
       "      <td>sub-189</td>\n",
       "      <td>5</td>\n",
       "      <td>...</td>\n",
       "      <td>-0.065602</td>\n",
       "      <td>sub-189</td>\n",
       "      <td>HC</td>\n",
       "      <td>A</td>\n",
       "      <td>0.595238</td>\n",
       "      <td>0.309524</td>\n",
       "      <td>0.214286</td>\n",
       "      <td>sub-189</td>\n",
       "      <td>HC</td>\n",
       "      <td>A</td>\n",
       "    </tr>\n",
       "  </tbody>\n",
       "</table>\n",
       "<p>5 rows × 22 columns</p>\n",
       "</div>"
      ],
      "text/plain": [
       "       sub  Condition  Event.Nr  CDA.AmpSum  expected_value        pe     scr  \\\n",
       "0  sub-189  CSplusUS1         1      0.2852        0.801175  0.500000  0.2852   \n",
       "1  sub-189   CSminus1         2      0.1033        0.796939 -0.500000  0.1033   \n",
       "2  sub-189    CSplus1         3      0.0783        0.799047 -0.501304  0.0783   \n",
       "3  sub-189  CSplusUS1         4      0.1772        0.801165  0.500006  0.1772   \n",
       "4  sub-189   CSminus1         5      0.0000        0.794832 -0.498696  0.0000   \n",
       "\n",
       "   index  subject  trialNo  ...       amg    Sub_x  group_x Eprime_x  \\\n",
       "0   1794  sub-189        1  ...  0.981121  sub-189       HC        A   \n",
       "1   1795  sub-189        2  ... -0.027048  sub-189       HC        A   \n",
       "2   1796  sub-189        3  ... -0.045910  sub-189       HC        A   \n",
       "3   1797  sub-189        4  ... -0.674150  sub-189       HC        A   \n",
       "4   1798  sub-189        5  ... -0.065602  sub-189       HC        A   \n",
       "\n",
       "  amg_vmpfc amg_HippAnt  amg_ctrl    Sub_y  group_y Eprime_y  \n",
       "0  0.904762    0.571429  0.523810  sub-189       HC        A  \n",
       "1  0.404762   -0.119048  0.404762  sub-189       HC        A  \n",
       "2  0.333333   -0.642857  0.119048  sub-189       HC        A  \n",
       "3  0.690476    0.357143  0.285714  sub-189       HC        A  \n",
       "4  0.595238    0.309524  0.214286  sub-189       HC        A  \n",
       "\n",
       "[5 rows x 22 columns]"
      ]
     },
     "execution_count": 65,
     "metadata": {},
     "output_type": "execute_result"
    }
   ],
   "source": [
    "dfAll = pd.merge(dfAll, dfGroups, left_on='subject',right_on='Sub')\n",
    "dfAll.head()"
   ]
  },
  {
   "cell_type": "code",
   "execution_count": null,
   "metadata": {},
   "outputs": [],
   "source": [
    "dfAll.to_csv('')"
   ]
  },
  {
   "cell_type": "code",
   "execution_count": 67,
   "metadata": {},
   "outputs": [
    {
     "name": "stdout",
     "output_type": "stream",
     "text": [
      "                 Mixed Linear Model Regression Results\n",
      "========================================================================\n",
      "Model:                MixedLM     Dependent Variable:     expected_value\n",
      "No. Observations:     4485        Method:                 REML          \n",
      "No. Groups:           65          Scale:                  0.0568        \n",
      "Min. group size:      69          Log-Likelihood:         -144.8244     \n",
      "Max. group size:      69          Converged:              Yes           \n",
      "Mean group size:      69.0                                              \n",
      "------------------------------------------------------------------------\n",
      "                             Coef.  Std.Err.    z    P>|z| [0.025 0.975]\n",
      "------------------------------------------------------------------------\n",
      "Intercept                     0.711    0.099   7.200 0.000  0.518  0.905\n",
      "C(group_x)[T.VCC]            -0.442    0.130  -3.391 0.001 -0.698 -0.187\n",
      "C(group_x)[T.VPTSD]          -0.501    0.136  -3.693 0.000 -0.767 -0.235\n",
      "C(condition)[T.CSminus2]      0.166    0.017   9.816 0.000  0.133  0.199\n",
      "C(condition)[T.CSminusUS2]    0.223    0.018  12.669 0.000  0.188  0.257\n",
      "C(condition)[T.CSplus1]       0.167    0.012  13.821 0.000  0.143  0.191\n",
      "C(condition)[T.CSplus2]       0.011    0.017   0.677 0.498 -0.021  0.044\n",
      "C(condition)[T.CSplusUS1]     0.280    0.015  18.741 0.000  0.250  0.309\n",
      "coupling                      0.064    0.017   3.661 0.000  0.030  0.098\n",
      "coupling:C(group_x)[T.VCC]   -0.058    0.023  -2.528 0.011 -0.103 -0.013\n",
      "coupling:C(group_x)[T.VPTSD] -0.057    0.024  -2.393 0.017 -0.103 -0.010\n",
      "amg                           0.002    0.008   0.238 0.812 -0.014  0.018\n",
      "trialNo                      -0.004    0.000 -11.814 0.000 -0.005 -0.004\n",
      "subject Var                   0.183    0.139                            \n",
      "========================================================================\n",
      "\n"
     ]
    }
   ],
   "source": [
    "# Statistical analysis\n",
    "import statsmodels.api as sm\n",
    "import statsmodels.formula.api as smf\n",
    "glm2 = smf.mixedlm('expected_value ~ coupling*C(group_x) + C(condition) + amg + trialNo', data=dfAll, \n",
    "    groups = 'subject', \n",
    "                 missing='drop')\n",
    "model2 = glm2.fit()\n",
    "print(model2.summary())"
   ]
  },
  {
   "cell_type": "code",
   "execution_count": 39,
   "metadata": {},
   "outputs": [
    {
     "data": {
      "image/png": "[encoded data removed]",
      "text/plain": [
       "<Figure size 864x504 with 1 Axes>"
      ]
     },
     "metadata": {
      "needs_background": "light"
     },
     "output_type": "display_data"
    }
   ],
   "source": [
    "plt.rc('figure', figsize=(12, 7))\n",
    "plt.text(0.01, 0.05, str(model2.summary()), {'fontsize': 12}, fontproperties = 'monospace') \n",
    "plt.axis('off')\n",
    "plt.tight_layout()\n",
    "plt.savefig('outputEV_Coupling_groups.png')"
   ]
  },
  {
   "cell_type": "code",
   "execution_count": 72,
   "metadata": {},
   "outputs": [
    {
     "data": {
      "text/plain": [
       "<seaborn.axisgrid.FacetGrid at 0x2b299e2e4f10>"
      ]
     },
     "execution_count": 72,
     "metadata": {},
     "output_type": "execute_result"
    },
    {
     "data": {
      "image/png": "[encoded data removed]",
      "text/plain": [
       "<Figure size 447.415x360 with 1 Axes>"
      ]
     },
     "metadata": {},
     "output_type": "display_data"
    }
   ],
   "source": [
    "# using aggregate to summarize across groups\n",
    "# this link is a nice reference: https://www.shanelynn.ie/summarising-aggregation-and-grouping-data-in-python-pandas/\n",
    "dd = dfAll.groupby(['group_y', 'Event.Nr'], as_index=False).agg({'pe': 'mean', 'coupling':'mean'})\n",
    "\n",
    "# plot\n",
    "sns.lmplot(x='pe', y='coupling', hue='group_y', data=dd)"
   ]
  },
  {
   "cell_type": "code",
   "execution_count": 73,
   "metadata": {},
   "outputs": [
    {
     "data": {
      "text/plain": [
       "<seaborn.axisgrid.FacetGrid at 0x2b299e6d8580>"
      ]
     },
     "execution_count": 73,
     "metadata": {},
     "output_type": "execute_result"
    },
    {
     "data": {
      "image/png": "[encoded data removed]",
      "text/plain": [
       "<Figure size 447.415x360 with 1 Axes>"
      ]
     },
     "metadata": {},
     "output_type": "display_data"
    }
   ],
   "source": [
    "dd = dfAll.groupby(['group_x', 'Event.Nr'], as_index=False).agg({'pe': 'mean', 'amg_vmpfc':'mean'})\n",
    "sns.lmplot(x='pe', y='amg_vmpfc', hue='group_x', data=dd)"
   ]
  },
  {
   "cell_type": "code",
   "execution_count": 77,
   "metadata": {},
   "outputs": [
    {
     "name": "stdout",
     "output_type": "stream",
     "text": [
      "                 Mixed Linear Model Regression Results\n",
      "========================================================================\n",
      "Model:                  MixedLM      Dependent Variable:      pe        \n",
      "No. Observations:       4485         Method:                  REML      \n",
      "No. Groups:             65           Scale:                   0.1596    \n",
      "Min. group size:        69           Log-Likelihood:          -2273.8879\n",
      "Max. group size:        69           Converged:               Yes       \n",
      "Mean group size:        69.0                                            \n",
      "------------------------------------------------------------------------\n",
      "                              Coef.  Std.Err.   z    P>|z| [0.025 0.975]\n",
      "------------------------------------------------------------------------\n",
      "Intercept                     -0.175    0.020 -8.833 0.000 -0.213 -0.136\n",
      "C(group_x)[T.VCC]              0.047    0.023  2.060 0.039  0.002  0.092\n",
      "C(group_x)[T.VPTSD]            0.015    0.022  0.661 0.509 -0.029  0.058\n",
      "amg_vmpfc                     -0.001    0.032 -0.026 0.979 -0.064  0.062\n",
      "amg_vmpfc:C(group_x)[T.VCC]   -0.069    0.042 -1.659 0.097 -0.151  0.013\n",
      "amg_vmpfc:C(group_x)[T.VPTSD]  0.015    0.042  0.367 0.713 -0.067  0.098\n",
      "amg                           -0.006    0.014 -0.456 0.648 -0.034  0.021\n",
      "trialNo                        0.001    0.000  4.965 0.000  0.001  0.002\n",
      "subject Var                    0.000    0.001                           \n",
      "========================================================================\n",
      "\n"
     ]
    },
    {
     "name": "stderr",
     "output_type": "stream",
     "text": [
      "/gpfs/ysm/project/joormann/oad4/conda_envs/neuroAnalysis/lib/python3.9/site-packages/statsmodels/regression/mixed_linear_model.py:1634: UserWarning: Random effects covariance is singular\n",
      "  warnings.warn(msg)\n",
      "/gpfs/ysm/project/joormann/oad4/conda_envs/neuroAnalysis/lib/python3.9/site-packages/statsmodels/regression/mixed_linear_model.py:2237: ConvergenceWarning: The MLE may be on the boundary of the parameter space.\n",
      "  warnings.warn(msg, ConvergenceWarning)\n"
     ]
    }
   ],
   "source": [
    "glm3 = smf.mixedlm('pe ~ amg_vmpfc*C(group_x)+ amg + trialNo', data=dfAll, \n",
    "    groups = 'subject', \n",
    "                 missing='drop')\n",
    "model3 = glm3.fit()\n",
    "print(model3.summary())"
   ]
  },
  {
   "cell_type": "code",
   "execution_count": 78,
   "metadata": {},
   "outputs": [
    {
     "ename": "ValueError",
     "evalue": "cannot convert float NaN to integer",
     "output_type": "error",
     "traceback": [
      "\u001b[0;31m---------------------------------------------------------------------------\u001b[0m",
      "\u001b[0;31mValueError\u001b[0m                                Traceback (most recent call last)",
      "Input \u001b[0;32mIn [78]\u001b[0m, in \u001b[0;36m<cell line: 1>\u001b[0;34m()\u001b[0m\n\u001b[0;32m----> 1\u001b[0m \u001b[43mpg\u001b[49m\u001b[38;5;241;43m.\u001b[39;49m\u001b[43mmixed_anova\u001b[49m\u001b[43m(\u001b[49m\u001b[43mdata\u001b[49m\u001b[38;5;241;43m=\u001b[39;49m\u001b[43mdfAll\u001b[49m\u001b[43m,\u001b[49m\u001b[43m \u001b[49m\u001b[43mdv\u001b[49m\u001b[43m \u001b[49m\u001b[38;5;241;43m=\u001b[39;49m\u001b[43m \u001b[49m\u001b[38;5;124;43m'\u001b[39;49m\u001b[38;5;124;43mpe\u001b[39;49m\u001b[38;5;124;43m'\u001b[39;49m\u001b[43m,\u001b[49m\u001b[43m \u001b[49m\u001b[43mbetween\u001b[49m\u001b[43m \u001b[49m\u001b[38;5;241;43m=\u001b[39;49m\u001b[43m \u001b[49m\u001b[38;5;124;43m'\u001b[39;49m\u001b[38;5;124;43mgroup_x\u001b[39;49m\u001b[38;5;124;43m'\u001b[39;49m\u001b[43m,\u001b[49m\u001b[43m \u001b[49m\u001b[43msubject\u001b[49m\u001b[38;5;241;43m=\u001b[39;49m\u001b[38;5;124;43m'\u001b[39;49m\u001b[38;5;124;43msubject\u001b[39;49m\u001b[38;5;124;43m'\u001b[39;49m\u001b[43m,\u001b[49m\u001b[43m \u001b[49m\u001b[43mwithin\u001b[49m\u001b[38;5;241;43m=\u001b[39;49m\u001b[38;5;124;43m'\u001b[39;49m\u001b[38;5;124;43mamg_vmpfc\u001b[39;49m\u001b[38;5;124;43m'\u001b[39;49m\u001b[43m)\u001b[49m\n",
      "File \u001b[0;32m/gpfs/ysm/project/joormann/oad4/conda_envs/neuroAnalysis/lib/python3.9/site-packages/pingouin/parametric.py:1431\u001b[0m, in \u001b[0;36mmixed_anova\u001b[0;34m(data, dv, within, subject, between, correction, effsize)\u001b[0m\n\u001b[1;32m   1429\u001b[0m ss_total \u001b[38;5;241m=\u001b[39m ((data[dv] \u001b[38;5;241m-\u001b[39m grandmean)\u001b[38;5;241m*\u001b[39m\u001b[38;5;241m*\u001b[39m\u001b[38;5;241m2\u001b[39m)\u001b[38;5;241m.\u001b[39msum()\n\u001b[1;32m   1430\u001b[0m \u001b[38;5;66;03m# Extract main effects of within and between factors\u001b[39;00m\n\u001b[0;32m-> 1431\u001b[0m aov_with \u001b[38;5;241m=\u001b[39m \u001b[43mrm_anova\u001b[49m\u001b[43m(\u001b[49m\n\u001b[1;32m   1432\u001b[0m \u001b[43m    \u001b[49m\u001b[43mdv\u001b[49m\u001b[38;5;241;43m=\u001b[39;49m\u001b[43mdv\u001b[49m\u001b[43m,\u001b[49m\u001b[43m \u001b[49m\u001b[43mwithin\u001b[49m\u001b[38;5;241;43m=\u001b[39;49m\u001b[43mwithin\u001b[49m\u001b[43m,\u001b[49m\u001b[43m \u001b[49m\u001b[43msubject\u001b[49m\u001b[38;5;241;43m=\u001b[39;49m\u001b[43msubject\u001b[49m\u001b[43m,\u001b[49m\u001b[43m \u001b[49m\u001b[43mdata\u001b[49m\u001b[38;5;241;43m=\u001b[39;49m\u001b[43mdata\u001b[49m\u001b[43m,\u001b[49m\u001b[43m \u001b[49m\u001b[43mcorrection\u001b[49m\u001b[38;5;241;43m=\u001b[39;49m\u001b[43mcorrection\u001b[49m\u001b[43m,\u001b[49m\u001b[43m \u001b[49m\u001b[43mdetailed\u001b[49m\u001b[38;5;241;43m=\u001b[39;49m\u001b[38;5;28;43;01mTrue\u001b[39;49;00m\u001b[43m)\u001b[49m\n\u001b[1;32m   1433\u001b[0m aov_betw \u001b[38;5;241m=\u001b[39m anova(dv\u001b[38;5;241m=\u001b[39mdv, between\u001b[38;5;241m=\u001b[39mbetween, data\u001b[38;5;241m=\u001b[39mdata, detailed\u001b[38;5;241m=\u001b[39m\u001b[38;5;28;01mTrue\u001b[39;00m)\n\u001b[1;32m   1434\u001b[0m ss_betw \u001b[38;5;241m=\u001b[39m aov_betw\u001b[38;5;241m.\u001b[39mat[\u001b[38;5;241m0\u001b[39m, \u001b[38;5;124m'\u001b[39m\u001b[38;5;124mSS\u001b[39m\u001b[38;5;124m'\u001b[39m]\n",
      "File \u001b[0;32m/gpfs/ysm/project/joormann/oad4/conda_envs/neuroAnalysis/lib/python3.9/site-packages/pingouin/parametric.py:530\u001b[0m, in \u001b[0;36mrm_anova\u001b[0;34m(data, dv, within, subject, correction, detailed, effsize)\u001b[0m\n\u001b[1;32m    528\u001b[0m rm \u001b[38;5;241m=\u001b[39m \u001b[38;5;28mlist\u001b[39m(data[within]\u001b[38;5;241m.\u001b[39munique())\n\u001b[1;32m    529\u001b[0m n_rm \u001b[38;5;241m=\u001b[39m \u001b[38;5;28mlen\u001b[39m(rm)\n\u001b[0;32m--> 530\u001b[0m n_obs \u001b[38;5;241m=\u001b[39m \u001b[38;5;28;43mint\u001b[39;49m\u001b[43m(\u001b[49m\u001b[43mgrp_with\u001b[49m\u001b[38;5;241;43m.\u001b[39;49m\u001b[43mcount\u001b[49m\u001b[43m(\u001b[49m\u001b[43m)\u001b[49m\u001b[38;5;241;43m.\u001b[39;49m\u001b[43mmax\u001b[49m\u001b[43m(\u001b[49m\u001b[43m)\u001b[49m\u001b[43m)\u001b[49m\n\u001b[1;32m    531\u001b[0m grandmean \u001b[38;5;241m=\u001b[39m data[dv]\u001b[38;5;241m.\u001b[39mmean()\n\u001b[1;32m    533\u001b[0m \u001b[38;5;66;03m# Calculate sums of squares\u001b[39;00m\n",
      "\u001b[0;31mValueError\u001b[0m: cannot convert float NaN to integer"
     ]
    }
   ],
   "source": [
    "pg.mixed_anova(data=dfAll, dv = 'pe', between = 'group_x', subject='subject', within='amg_vmpfc')"
   ]
  },
  {
   "cell_type": "markdown",
   "metadata": {},
   "source": [
    "# Implement mixed level model with pymc3"
   ]
  },
  {
   "cell_type": "code",
   "execution_count": 74,
   "metadata": {},
   "outputs": [],
   "source": [
    "dfAll['subject'] = dfAll.subject.astype('category')\n",
    "subIDX = dfAll.subject.cat.codes.values"
   ]
  },
  {
   "cell_type": "code",
   "execution_count": 61,
   "metadata": {},
   "outputs": [
    {
     "data": {
      "text/plain": [
       "array([57, 57, 57, ..., 36, 36, 36], dtype=int8)"
      ]
     },
     "execution_count": 61,
     "metadata": {},
     "output_type": "execute_result"
    }
   ],
   "source": [
    "subIDX"
   ]
  },
  {
   "cell_type": "code",
   "execution_count": 75,
   "metadata": {},
   "outputs": [
    {
     "name": "stderr",
     "output_type": "stream",
     "text": [
      "Auto-assigning NUTS sampler...\n",
      "Initializing NUTS using jitter+adapt_diag...\n",
      "Multiprocess sampling (4 chains in 10 jobs)\n",
      "NUTS: [sigms, b2, b]\n"
     ]
    },
    {
     "data": {
      "text/html": [
       "\n",
       "<style>\n",
       "    /* Turns off some styling */\n",
       "    progress {\n",
       "        /* gets rid of default border in Firefox and Opera. */\n",
       "        border: none;\n",
       "        /* Needs to be in here for Safari polyfill so background images work as expected. */\n",
       "        background-size: auto;\n",
       "    }\n",
       "    .progress-bar-interrupted, .progress-bar-interrupted::-webkit-progress-bar {\n",
       "        background: #F44336;\n",
       "    }\n",
       "</style>\n"
      ],
      "text/plain": [
       "<IPython.core.display.HTML object>"
      ]
     },
     "metadata": {},
     "output_type": "display_data"
    },
    {
     "data": {
      "text/html": [
       "\n",
       "    <div>\n",
       "      <progress value='8000' class='' max='8000' style='width:300px; height:20px; vertical-align: middle;'></progress>\n",
       "      100.00% [8000/8000 00:28<00:00 Sampling 4 chains, 0 divergences]\n",
       "    </div>\n",
       "    "
      ],
      "text/plain": [
       "<IPython.core.display.HTML object>"
      ]
     },
     "metadata": {},
     "output_type": "display_data"
    },
    {
     "name": "stderr",
     "output_type": "stream",
     "text": [
      "Sampling 4 chains for 1_000 tune and 1_000 draw iterations (4_000 + 4_000 draws total) took 29 seconds.\n"
     ]
    }
   ],
   "source": [
    "with pm.Model() as m:\n",
    "    \n",
    "    # linear mixed effects\n",
    "    b = pm.Normal('b', 0,1, shape=n_subj) # intercept\n",
    "    b2 = pm.Normal('b2', 0,1, shape=3) # effect of coupling[0], trialNo[1] and amygdala[2]\n",
    "    sigma = pm.HalfNormal('sigms', 5)\n",
    "  \n",
    "  \n",
    "    y = pm.Normal('y', b[subIDX] + b2[0]*dfAll.coupling + b2[1]*dfAll.trialNo + b2[2]*dfAll.amg,sigma,\n",
    "                  observed=dfAll.pe)\n",
    "    \n",
    "    tr = pm.sample(target_accept=.9, chains=4, cores=10, return_inferencedata=True)"
   ]
  },
  {
   "cell_type": "code",
   "execution_count": 76,
   "metadata": {},
   "outputs": [
    {
     "data": {
      "text/html": [
       "<div>\n",
       "<style scoped>\n",
       "    .dataframe tbody tr th:only-of-type {\n",
       "        vertical-align: middle;\n",
       "    }\n",
       "\n",
       "    .dataframe tbody tr th {\n",
       "        vertical-align: top;\n",
       "    }\n",
       "\n",
       "    .dataframe thead th {\n",
       "        text-align: right;\n",
       "    }\n",
       "</style>\n",
       "<table border=\"1\" class=\"dataframe\">\n",
       "  <thead>\n",
       "    <tr style=\"text-align: right;\">\n",
       "      <th></th>\n",
       "      <th>mean</th>\n",
       "      <th>sd</th>\n",
       "      <th>hdi_3%</th>\n",
       "      <th>hdi_97%</th>\n",
       "      <th>mcse_mean</th>\n",
       "      <th>mcse_sd</th>\n",
       "      <th>ess_bulk</th>\n",
       "      <th>ess_tail</th>\n",
       "      <th>r_hat</th>\n",
       "    </tr>\n",
       "  </thead>\n",
       "  <tbody>\n",
       "    <tr>\n",
       "      <th>b2[0]</th>\n",
       "      <td>0.083</td>\n",
       "      <td>0.015</td>\n",
       "      <td>0.054</td>\n",
       "      <td>0.111</td>\n",
       "      <td>0.0</td>\n",
       "      <td>0.0</td>\n",
       "      <td>4605.0</td>\n",
       "      <td>2937.0</td>\n",
       "      <td>1.0</td>\n",
       "    </tr>\n",
       "    <tr>\n",
       "      <th>b2[1]</th>\n",
       "      <td>0.001</td>\n",
       "      <td>0.000</td>\n",
       "      <td>0.001</td>\n",
       "      <td>0.002</td>\n",
       "      <td>0.0</td>\n",
       "      <td>0.0</td>\n",
       "      <td>1733.0</td>\n",
       "      <td>2511.0</td>\n",
       "      <td>1.0</td>\n",
       "    </tr>\n",
       "    <tr>\n",
       "      <th>b2[2]</th>\n",
       "      <td>-0.011</td>\n",
       "      <td>0.014</td>\n",
       "      <td>-0.036</td>\n",
       "      <td>0.015</td>\n",
       "      <td>0.0</td>\n",
       "      <td>0.0</td>\n",
       "      <td>5324.0</td>\n",
       "      <td>3190.0</td>\n",
       "      <td>1.0</td>\n",
       "    </tr>\n",
       "  </tbody>\n",
       "</table>\n",
       "</div>"
      ],
      "text/plain": [
       "        mean     sd  hdi_3%  hdi_97%  mcse_mean  mcse_sd  ess_bulk  ess_tail  \\\n",
       "b2[0]  0.083  0.015   0.054    0.111        0.0      0.0    4605.0    2937.0   \n",
       "b2[1]  0.001  0.000   0.001    0.002        0.0      0.0    1733.0    2511.0   \n",
       "b2[2] -0.011  0.014  -0.036    0.015        0.0      0.0    5324.0    3190.0   \n",
       "\n",
       "       r_hat  \n",
       "b2[0]    1.0  \n",
       "b2[1]    1.0  \n",
       "b2[2]    1.0  "
      ]
     },
     "execution_count": 76,
     "metadata": {},
     "output_type": "execute_result"
    }
   ],
   "source": [
    "az.summary(tr, var_names='b2')"
   ]
  },
  {
   "cell_type": "code",
   "execution_count": 118,
   "metadata": {},
   "outputs": [
    {
     "data": {
      "image/png": "[encoded data removed]",
      "text/plain": [
       "<Figure size 1490.4x331.2 with 3 Axes>"
      ]
     },
     "metadata": {},
     "output_type": "display_data"
    }
   ],
   "source": [
    "g = az.plot_posterior(tr, var_names='b2', kind='hist', ref_val=0)\n",
    "g[0].title.set_text(\"Coupling\")\n",
    "g[1].title.set_text(\"Trial No.\")\n",
    "g[2].title.set_text(\"Amygdala Activation\")"
   ]
  },
  {
   "cell_type": "markdown",
   "metadata": {},
   "source": [
    "# Summary\n",
    "- Coupling predicting changes"
   ]
  },
  {
   "cell_type": "code",
   "execution_count": 38,
   "metadata": {},
   "outputs": [
    {
     "data": {
      "text/html": [
       "\n",
       "    <div>\n",
       "        <style>\n",
       "            /* Turns off some styling */\n",
       "            progress {\n",
       "                /* gets rid of default border in Firefox and Opera. */\n",
       "                border: none;\n",
       "                /* Needs to be in here for Safari polyfill so background images work as expected. */\n",
       "                background-size: auto;\n",
       "            }\n",
       "            .progress-bar-interrupted, .progress-bar-interrupted::-webkit-progress-bar {\n",
       "                background: #F44336;\n",
       "            }\n",
       "        </style>\n",
       "      <progress value='12' class='' max='4000' style='width:300px; height:20px; vertical-align: middle;'></progress>\n",
       "      0.30% [12/4000 00:08<46:33]\n",
       "    </div>\n",
       "    "
      ],
      "text/plain": [
       "<IPython.core.display.HTML object>"
      ]
     },
     "metadata": {},
     "output_type": "display_data"
    }
   ],
   "source": [
    "with m:\n",
    "    ppc = pm.sample_posterior_predictive(tr)"
   ]
  },
  {
   "cell_type": "code",
   "execution_count": null,
   "metadata": {},
   "outputs": [],
   "source": [
    "az.plot_ppc(az.from_pymc3(posterior_predictive=ppc, model=m), var_names='scrs')"
   ]
  },
  {
   "cell_type": "markdown",
   "metadata": {},
   "source": [
    "### Posterior predictive for the m5 model"
   ]
  },
  {
   "cell_type": "code",
   "execution_count": 20,
   "metadata": {},
   "outputs": [
    {
     "data": {
      "text/html": [
       "\n",
       "<style>\n",
       "    /* Turns off some styling */\n",
       "    progress {\n",
       "        /* gets rid of default border in Firefox and Opera. */\n",
       "        border: none;\n",
       "        /* Needs to be in here for Safari polyfill so background images work as expected. */\n",
       "        background-size: auto;\n",
       "    }\n",
       "    .progress-bar-interrupted, .progress-bar-interrupted::-webkit-progress-bar {\n",
       "        background: #F44336;\n",
       "    }\n",
       "</style>\n"
      ],
      "text/plain": [
       "<IPython.core.display.HTML object>"
      ]
     },
     "metadata": {},
     "output_type": "display_data"
    },
    {
     "data": {
      "text/html": [
       "\n",
       "    <div>\n",
       "      <progress value='20000' class='' max='20000' style='width:300px; height:20px; vertical-align: middle;'></progress>\n",
       "      100.00% [20000/20000 01:04<00:00]\n",
       "    </div>\n",
       "    "
      ],
      "text/plain": [
       "<IPython.core.display.HTML object>"
      ]
     },
     "metadata": {},
     "output_type": "display_data"
    }
   ],
   "source": [
    "with m5:\n",
    "    ppc = pm.sample_posterior_predictive(trH_phi)"
   ]
  },
  {
   "cell_type": "code",
   "execution_count": 24,
   "metadata": {},
   "outputs": [
    {
     "data": {
      "text/plain": [
       "<AxesSubplot:xlabel='scrs / scrs'>"
      ]
     },
     "execution_count": 24,
     "metadata": {},
     "output_type": "execute_result"
    },
    {
     "data": {
      "image/png": "[encoded data removed]",
      "text/plain": [
       "<Figure size 432x288 with 1 Axes>"
      ]
     },
     "metadata": {
      "needs_background": "light"
     },
     "output_type": "display_data"
    }
   ],
   "source": [
    "az.plot_ppc(ppc)"
   ]
  },
  {
   "cell_type": "code",
   "execution_count": 29,
   "metadata": {},
   "outputs": [
    {
     "data": {
      "text/plain": [
       "<AxesSubplot:ylabel='Count'>"
      ]
     },
     "execution_count": 29,
     "metadata": {},
     "output_type": "execute_result"
    },
    {
     "data": {
      "image/png": "[encoded data removed]",
      "text/plain": [
       "<Figure size 432x288 with 1 Axes>"
      ]
     },
     "metadata": {
      "needs_background": "light"
     },
     "output_type": "display_data"
    }
   ],
   "source": [
    "sns.histplot(trH_phi.observed_data.scrs.values)"
   ]
  },
  {
   "cell_type": "code",
   "execution_count": 23,
   "metadata": {},
   "outputs": [
    {
     "ename": "AttributeError",
     "evalue": "'Dataset' object has no attribute 'shape'",
     "output_type": "error",
     "traceback": [
      "\u001b[0;31m---------------------------------------------------------------------------\u001b[0m",
      "\u001b[0;31mAttributeError\u001b[0m                            Traceback (most recent call last)",
      "Input \u001b[0;32mIn [23]\u001b[0m, in \u001b[0;36m<cell line: 1>\u001b[0;34m()\u001b[0m\n\u001b[0;32m----> 1\u001b[0m az\u001b[38;5;241m.\u001b[39mplot_ppc(\u001b[43maz\u001b[49m\u001b[38;5;241;43m.\u001b[39;49m\u001b[43mfrom_pymc3\u001b[49m\u001b[43m(\u001b[49m\u001b[43mposterior_predictive\u001b[49m\u001b[38;5;241;43m=\u001b[39;49m\u001b[43mppc\u001b[49m\u001b[43m,\u001b[49m\u001b[43m \u001b[49m\u001b[43mmodel\u001b[49m\u001b[38;5;241;43m=\u001b[39;49m\u001b[43mm5\u001b[49m\u001b[43m)\u001b[49m)\n",
      "File \u001b[0;32m/gpfs/ysm/project/joormann/oad4/conda_envs/pymc4/lib/python3.9/site-packages/arviz/data/io_pymc3_3x.py:580\u001b[0m, in \u001b[0;36mfrom_pymc3\u001b[0;34m(trace, prior, posterior_predictive, log_likelihood, coords, dims, model, save_warmup, density_dist_obs)\u001b[0m\n\u001b[1;32m    528\u001b[0m \u001b[38;5;28;01mdef\u001b[39;00m \u001b[38;5;21mfrom_pymc3\u001b[39m(\n\u001b[1;32m    529\u001b[0m     trace\u001b[38;5;241m=\u001b[39m\u001b[38;5;28;01mNone\u001b[39;00m,\n\u001b[1;32m    530\u001b[0m     \u001b[38;5;241m*\u001b[39m,\n\u001b[0;32m   (...)\u001b[0m\n\u001b[1;32m    538\u001b[0m     density_dist_obs\u001b[38;5;241m=\u001b[39m\u001b[38;5;28;01mTrue\u001b[39;00m,\n\u001b[1;32m    539\u001b[0m ):\n\u001b[1;32m    540\u001b[0m     \u001b[38;5;124;03m\"\"\"Convert pymc3 data into an InferenceData object.\u001b[39;00m\n\u001b[1;32m    541\u001b[0m \n\u001b[1;32m    542\u001b[0m \u001b[38;5;124;03m    All three of them are optional arguments, but at least one of ``trace``,\u001b[39;00m\n\u001b[0;32m   (...)\u001b[0m\n\u001b[1;32m    578\u001b[0m \u001b[38;5;124;03m    InferenceData\u001b[39;00m\n\u001b[1;32m    579\u001b[0m \u001b[38;5;124;03m    \"\"\"\u001b[39;00m\n\u001b[0;32m--> 580\u001b[0m     \u001b[38;5;28;01mreturn\u001b[39;00m \u001b[43mPyMC3Converter\u001b[49m\u001b[43m(\u001b[49m\n\u001b[1;32m    581\u001b[0m \u001b[43m        \u001b[49m\u001b[43mtrace\u001b[49m\u001b[38;5;241;43m=\u001b[39;49m\u001b[43mtrace\u001b[49m\u001b[43m,\u001b[49m\n\u001b[1;32m    582\u001b[0m \u001b[43m        \u001b[49m\u001b[43mprior\u001b[49m\u001b[38;5;241;43m=\u001b[39;49m\u001b[43mprior\u001b[49m\u001b[43m,\u001b[49m\n\u001b[1;32m    583\u001b[0m \u001b[43m        \u001b[49m\u001b[43mposterior_predictive\u001b[49m\u001b[38;5;241;43m=\u001b[39;49m\u001b[43mposterior_predictive\u001b[49m\u001b[43m,\u001b[49m\n\u001b[1;32m    584\u001b[0m \u001b[43m        \u001b[49m\u001b[43mlog_likelihood\u001b[49m\u001b[38;5;241;43m=\u001b[39;49m\u001b[43mlog_likelihood\u001b[49m\u001b[43m,\u001b[49m\n\u001b[1;32m    585\u001b[0m \u001b[43m        \u001b[49m\u001b[43mcoords\u001b[49m\u001b[38;5;241;43m=\u001b[39;49m\u001b[43mcoords\u001b[49m\u001b[43m,\u001b[49m\n\u001b[1;32m    586\u001b[0m \u001b[43m        \u001b[49m\u001b[43mdims\u001b[49m\u001b[38;5;241;43m=\u001b[39;49m\u001b[43mdims\u001b[49m\u001b[43m,\u001b[49m\n\u001b[1;32m    587\u001b[0m \u001b[43m        \u001b[49m\u001b[43mmodel\u001b[49m\u001b[38;5;241;43m=\u001b[39;49m\u001b[43mmodel\u001b[49m\u001b[43m,\u001b[49m\n\u001b[1;32m    588\u001b[0m \u001b[43m        \u001b[49m\u001b[43msave_warmup\u001b[49m\u001b[38;5;241;43m=\u001b[39;49m\u001b[43msave_warmup\u001b[49m\u001b[43m,\u001b[49m\n\u001b[1;32m    589\u001b[0m \u001b[43m        \u001b[49m\u001b[43mdensity_dist_obs\u001b[49m\u001b[38;5;241;43m=\u001b[39;49m\u001b[43mdensity_dist_obs\u001b[49m\u001b[43m,\u001b[49m\n\u001b[1;32m    590\u001b[0m \u001b[43m    \u001b[49m\u001b[43m)\u001b[49m\u001b[38;5;241m.\u001b[39mto_inference_data()\n",
      "File \u001b[0;32m/gpfs/ysm/project/joormann/oad4/conda_envs/pymc4/lib/python3.9/site-packages/arviz/data/io_pymc3_3x.py:169\u001b[0m, in \u001b[0;36mPyMC3Converter.__init__\u001b[0;34m(self, trace, prior, posterior_predictive, log_likelihood, predictions, coords, dims, model, save_warmup, density_dist_obs)\u001b[0m\n\u001b[1;32m    163\u001b[0m         \u001b[38;5;28;01mraise\u001b[39;00m \u001b[38;5;167;01mValueError\u001b[39;00m(\n\u001b[1;32m    164\u001b[0m             \u001b[38;5;124m\"\u001b[39m\u001b[38;5;124mWhen constructing InferenceData must have at least\u001b[39m\u001b[38;5;124m\"\u001b[39m\n\u001b[1;32m    165\u001b[0m             \u001b[38;5;124m\"\u001b[39m\u001b[38;5;124m one of trace, prior, posterior_predictive or predictions.\u001b[39m\u001b[38;5;124m\"\u001b[39m\n\u001b[1;32m    166\u001b[0m         )\n\u001b[1;32m    168\u001b[0m     aelem \u001b[38;5;241m=\u001b[39m arbitrary_element(get_from)\n\u001b[0;32m--> 169\u001b[0m     \u001b[38;5;28mself\u001b[39m\u001b[38;5;241m.\u001b[39mndraws \u001b[38;5;241m=\u001b[39m \u001b[43maelem\u001b[49m\u001b[38;5;241;43m.\u001b[39;49m\u001b[43mshape\u001b[49m[\u001b[38;5;241m0\u001b[39m]\n\u001b[1;32m    171\u001b[0m \u001b[38;5;28mself\u001b[39m\u001b[38;5;241m.\u001b[39mcoords \u001b[38;5;241m=\u001b[39m {} \u001b[38;5;28;01mif\u001b[39;00m coords \u001b[38;5;129;01mis\u001b[39;00m \u001b[38;5;28;01mNone\u001b[39;00m \u001b[38;5;28;01melse\u001b[39;00m coords\n\u001b[1;32m    172\u001b[0m \u001b[38;5;28;01mif\u001b[39;00m \u001b[38;5;28mhasattr\u001b[39m(\u001b[38;5;28mself\u001b[39m\u001b[38;5;241m.\u001b[39mmodel, \u001b[38;5;124m\"\u001b[39m\u001b[38;5;124mcoords\u001b[39m\u001b[38;5;124m\"\u001b[39m):\n",
      "File \u001b[0;32m/gpfs/ysm/project/joormann/oad4/conda_envs/pymc4/lib/python3.9/site-packages/xarray/core/common.py:239\u001b[0m, in \u001b[0;36mAttrAccessMixin.__getattr__\u001b[0;34m(self, name)\u001b[0m\n\u001b[1;32m    237\u001b[0m         \u001b[38;5;28;01mwith\u001b[39;00m suppress(\u001b[38;5;167;01mKeyError\u001b[39;00m):\n\u001b[1;32m    238\u001b[0m             \u001b[38;5;28;01mreturn\u001b[39;00m source[name]\n\u001b[0;32m--> 239\u001b[0m \u001b[38;5;28;01mraise\u001b[39;00m \u001b[38;5;167;01mAttributeError\u001b[39;00m(\n\u001b[1;32m    240\u001b[0m     \u001b[38;5;124mf\u001b[39m\u001b[38;5;124m\"\u001b[39m\u001b[38;5;132;01m{\u001b[39;00m\u001b[38;5;28mtype\u001b[39m(\u001b[38;5;28mself\u001b[39m)\u001b[38;5;241m.\u001b[39m\u001b[38;5;18m__name__\u001b[39m\u001b[38;5;132;01m!r}\u001b[39;00m\u001b[38;5;124m object has no attribute \u001b[39m\u001b[38;5;132;01m{\u001b[39;00mname\u001b[38;5;132;01m!r}\u001b[39;00m\u001b[38;5;124m\"\u001b[39m\n\u001b[1;32m    241\u001b[0m )\n",
      "\u001b[0;31mAttributeError\u001b[0m: 'Dataset' object has no attribute 'shape'"
     ]
    }
   ],
   "source": [
    "az.plot_ppc(az.from_pymc3(posterior_predictive=ppc, model=m5))#, var_names='scrs')"
   ]
  }
 ],
 "metadata": {
  "interpreter": {
   "hash": "5e405ff2f839620d6a09f52036c3a6f28ae3d8af733c0d3b4601cc4729e2f166"
  },
  "kernelspec": {
   "display_name": "pymc4",
   "language": "python",
   "name": "pymc4"
  },
  "language_info": {
   "codemirror_mode": {
    "name": "ipython",
    "version": 3
   },
   "file_extension": ".py",
   "mimetype": "text/x-python",
   "name": "python",
   "nbconvert_exporter": "python",
   "pygments_lexer": "ipython3",
   "version": "3.9.12"
  }
 },
 "nbformat": 4,
 "nbformat_minor": 4
}
