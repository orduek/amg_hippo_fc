{
 "cells": [
  {
   "cell_type": "markdown",
   "id": "1b2e257f",
   "metadata": {},
   "source": [
    "## This will be used to analyze the reversal data"
   ]
  },
  {
   "cell_type": "code",
   "execution_count": 1,
   "id": "ff242f4c",
   "metadata": {},
   "outputs": [],
   "source": [
    "import pandas as pd \n",
    "\n",
    "import numpy as np\n",
    "import os\n",
    "import glob\n",
    "import matplotlib.pyplot as plt\n",
    "import seaborn as sns\n",
    "import scipy\n",
    "\n",
    "# regular GLMs\n",
    "import pingouin as pg\n",
    "import statsmodels.api as sm\n",
    "import statsmodels.formula.api as smf\n",
    "%config Completer.use_jedi = False\n"
   ]
  },
  {
   "cell_type": "code",
   "execution_count": 2,
   "id": "bc591062",
   "metadata": {},
   "outputs": [],
   "source": [
    "output_dir = '/gpfs/gibbs/pi/levy_ifat/Or/RV_FC'"
   ]
  },
  {
   "cell_type": "code",
   "execution_count": 3,
   "id": "cb582970",
   "metadata": {},
   "outputs": [],
   "source": [
    "# get difumo's labels\n",
    "labels = pd.read_csv('/gpfs/gibbs/pi/levy_ifat/Or/DiFuMo_atlas/256/labels_256_dictionary.csv')"
   ]
  },
  {
   "cell_type": "code",
   "execution_count": 4,
   "id": "e7cf24a8",
   "metadata": {},
   "outputs": [],
   "source": [
    "tsFiles =  glob.glob((os.path.join(output_dir, 'timeSeries','sub*.npy')))\n",
    "ts_total57 = [] # the 570 timeseries\n",
    "ts_total55 = [] # the 555\n",
    "ts_total51 = [] # the 514\n",
    "sub51 = []\n",
    "sub55 = []\n",
    "sub57 = []\n",
    "for f in tsFiles:\n",
    "    ts = np.load(f)\n",
    "    sub = os.path.basename(f).split('_')[0]\n",
    "    if ts.shape[0] > 545:\n",
    "        # z-score\n",
    "        t = ts[:548]\n",
    "        tz = scipy.stats.zscore(t, axis=0)\n",
    "        # append\n",
    "        ts_total55.append(tz)\n",
    "        sub55.append(sub)\n",
    "\n",
    "    else:\n",
    "        ts_total51.append(ts[2:])\n",
    "        sub51.append(sub)\n",
    "            "
   ]
  },
  {
   "cell_type": "code",
   "execution_count": 5,
   "id": "bebca370",
   "metadata": {},
   "outputs": [
    {
     "name": "stdout",
     "output_type": "stream",
     "text": [
      "(0,)\n",
      "(24,)\n",
      "(89, 548, 256)\n"
     ]
    },
    {
     "name": "stderr",
     "output_type": "stream",
     "text": [
      "/tmp/ipykernel_22149/3254487080.py:11: VisibleDeprecationWarning: Creating an ndarray from ragged nested sequences (which is a list-or-tuple of lists-or-tuples-or ndarrays with different lengths or shapes) is deprecated. If you meant to do this, you must specify 'dtype=object' when creating the ndarray.\n",
      "  print(np.array(ts_total51).shape)\n"
     ]
    }
   ],
   "source": [
    "# remove items and subejcts\n",
    "for i in range(len(ts_total55)):\n",
    "    if ts_total55[i].shape[0] < 545:\n",
    "        #print(i)\n",
    "        #print(ts_total55[i].shape)\n",
    "        sub55.pop(i)\n",
    "        ts_total55.pop(i)\n",
    "        \n",
    "        \n",
    "print(np.array(ts_total57).shape)\n",
    "print(np.array(ts_total51).shape)\n",
    "print(np.array(ts_total55).shape)        "
   ]
  },
  {
   "cell_type": "code",
   "execution_count": null,
   "id": "f065c83c",
   "metadata": {},
   "outputs": [],
   "source": [
    "#%matplotlib notebook # this will allow us to use interactive zoom \n",
    "# plot average timeseries of amygdala and posterior-hippocampus\n",
    "%matplotlib inline\n",
    "d = pd.DataFrame(np.array(ts_total55)[:,2:,20]) # amygdala\n",
    "e = pd.DataFrame(np.array(ts_total55)[:,2:,94]) # hippocampus\n",
    "d = pd.melt(d)\n",
    "e = pd.melt(e)\n",
    "\n",
    "#%matplotlib notebook\n",
    "plt.figure(figsize=[12,6])\n",
    "sns.lineplot('variable','value', data=d)\n",
    "sns.lineplot('variable','value', data=e)"
   ]
  },
  {
   "cell_type": "code",
   "execution_count": 6,
   "id": "712a6d46",
   "metadata": {},
   "outputs": [
    {
     "data": {
      "text/plain": [
       "array([  0.,   8.,  16.,  24.,  32.,  40.,  48.,  56.,  64.,  72.,  80.,\n",
       "        88.,  96., 104., 112., 120., 128., 136., 144., 152., 160., 168.,\n",
       "       176., 184., 192., 200., 208., 216., 224., 232., 240., 248., 256.,\n",
       "       264., 272., 280., 288., 296., 304., 312., 320., 328., 336., 344.,\n",
       "       352., 360., 368., 376., 384., 392., 400., 408., 416., 424., 432.,\n",
       "       440., 448., 456., 464., 472., 480., 488., 496., 504., 512., 520.,\n",
       "       528., 536., 544.])"
      ]
     },
     "execution_count": 6,
     "metadata": {},
     "output_type": "execute_result"
    }
   ],
   "source": [
    "# now lets take the actual conditions\n",
    "# we have two different sets\n",
    "stimList = pd.read_csv('Behavioral/StimList.csv')\n",
    "np.array(stimList.Time)/2"
   ]
  },
  {
   "cell_type": "code",
   "execution_count": 8,
   "id": "d996c8f4",
   "metadata": {},
   "outputs": [],
   "source": [
    "dfGroups = pd.read_csv('Behavioral/SubGroupLists.csv', dtype={'Sub': 'string'})\n",
    "dfGroups = dfGroups[['Sub','group', 'Eprime']]\n",
    "for i in dfGroups.iterrows():\n",
    "    dfGroups.at[i[0], 'Sub'] = \"sub-\" + str(i[1].Sub)\n"
   ]
  },
  {
   "cell_type": "code",
   "execution_count": 9,
   "id": "ff0adebb-c53c-4f2f-8661-45537ebdd602",
   "metadata": {},
   "outputs": [
    {
     "data": {
      "text/html": [
       "<div>\n",
       "<style scoped>\n",
       "    .dataframe tbody tr th:only-of-type {\n",
       "        vertical-align: middle;\n",
       "    }\n",
       "\n",
       "    .dataframe tbody tr th {\n",
       "        vertical-align: top;\n",
       "    }\n",
       "\n",
       "    .dataframe thead th {\n",
       "        text-align: right;\n",
       "    }\n",
       "</style>\n",
       "<table border=\"1\" class=\"dataframe\">\n",
       "  <thead>\n",
       "    <tr style=\"text-align: right;\">\n",
       "      <th></th>\n",
       "      <th>Sub</th>\n",
       "      <th>group</th>\n",
       "      <th>Eprime</th>\n",
       "    </tr>\n",
       "  </thead>\n",
       "  <tbody>\n",
       "    <tr>\n",
       "      <th>0</th>\n",
       "      <td>sub-001</td>\n",
       "      <td>VPTSD</td>\n",
       "      <td>A</td>\n",
       "    </tr>\n",
       "    <tr>\n",
       "      <th>1</th>\n",
       "      <td>sub-004</td>\n",
       "      <td>VPTSD</td>\n",
       "      <td>A</td>\n",
       "    </tr>\n",
       "    <tr>\n",
       "      <th>2</th>\n",
       "      <td>sub-005</td>\n",
       "      <td>VCC</td>\n",
       "      <td>A</td>\n",
       "    </tr>\n",
       "    <tr>\n",
       "      <th>3</th>\n",
       "      <td>sub-008</td>\n",
       "      <td>VCC</td>\n",
       "      <td>A</td>\n",
       "    </tr>\n",
       "    <tr>\n",
       "      <th>4</th>\n",
       "      <td>sub-010</td>\n",
       "      <td>VCC</td>\n",
       "      <td>A</td>\n",
       "    </tr>\n",
       "    <tr>\n",
       "      <th>...</th>\n",
       "      <td>...</td>\n",
       "      <td>...</td>\n",
       "      <td>...</td>\n",
       "    </tr>\n",
       "    <tr>\n",
       "      <th>109</th>\n",
       "      <td>sub-195</td>\n",
       "      <td>HC</td>\n",
       "      <td>A</td>\n",
       "    </tr>\n",
       "    <tr>\n",
       "      <th>110</th>\n",
       "      <td>sub-196</td>\n",
       "      <td>HC</td>\n",
       "      <td>B</td>\n",
       "    </tr>\n",
       "    <tr>\n",
       "      <th>111</th>\n",
       "      <td>sub-200</td>\n",
       "      <td>HC</td>\n",
       "      <td>B</td>\n",
       "    </tr>\n",
       "    <tr>\n",
       "      <th>112</th>\n",
       "      <td>sub-201</td>\n",
       "      <td>HC</td>\n",
       "      <td>A</td>\n",
       "    </tr>\n",
       "    <tr>\n",
       "      <th>113</th>\n",
       "      <td>sub-202</td>\n",
       "      <td>HC</td>\n",
       "      <td>B</td>\n",
       "    </tr>\n",
       "  </tbody>\n",
       "</table>\n",
       "<p>114 rows × 3 columns</p>\n",
       "</div>"
      ],
      "text/plain": [
       "         Sub  group Eprime\n",
       "0    sub-001  VPTSD      A\n",
       "1    sub-004  VPTSD      A\n",
       "2    sub-005    VCC      A\n",
       "3    sub-008    VCC      A\n",
       "4    sub-010    VCC      A\n",
       "..       ...    ...    ...\n",
       "109  sub-195     HC      A\n",
       "110  sub-196     HC      B\n",
       "111  sub-200     HC      B\n",
       "112  sub-201     HC      A\n",
       "113  sub-202     HC      B\n",
       "\n",
       "[114 rows x 3 columns]"
      ]
     },
     "execution_count": 9,
     "metadata": {},
     "output_type": "execute_result"
    }
   ],
   "source": [
    "dfGroups"
   ]
  },
  {
   "cell_type": "code",
   "execution_count": 10,
   "id": "b24e5bac",
   "metadata": {},
   "outputs": [],
   "source": [
    "# lets take just the subjects in the B list and see something how the timeline looks in different conditions\n",
    "dfA = dfGroups[(dfGroups.Eprime==\"A\")]\n",
    "dfB = dfGroups[(dfGroups.Eprime==\"B\")]"
   ]
  },
  {
   "cell_type": "code",
   "execution_count": 11,
   "id": "bea3850b",
   "metadata": {
    "scrolled": true
   },
   "outputs": [
    {
     "name": "stdout",
     "output_type": "stream",
     "text": [
      "sub sub-177 was not found in bothList\n",
      "sub sub-143 was not found in bothList\n",
      "sub sub-094 was not found in bothList\n",
      "sub sub-011 was not found in bothList\n",
      "sub sub-178 was not found in bothList\n",
      "sub sub-1232 was not found in bothList\n",
      "sub sub-169 was not found in bothList\n",
      "sub sub-188 was not found in bothList\n",
      "sub sub-190 was not found in bothList\n",
      "sub sub-154 was not found in bothList\n",
      "sub sub-103 was not found in bothList\n",
      "sub sub-089 was not found in bothList\n",
      "sub sub-135 was not found in bothList\n",
      "sub sub-202 was not found in bothList\n",
      "sub sub-161 was not found in bothList\n",
      "sub sub-172 was not found in bothList\n",
      "sub sub-196 was not found in bothList\n",
      "sub sub-140 was not found in bothList\n",
      "sub sub-184 was not found in bothList\n",
      "sub sub-170 was not found in bothList\n",
      "sub sub-025 was not found in bothList\n",
      "sub sub-152 was not found in bothList\n",
      "sub sub-158 was not found in bothList\n",
      "sub sub-186 was not found in bothList\n",
      "sub sub-137 was not found in bothList\n",
      "sub sub-165 was not found in bothList\n",
      "sub sub-100 was not found in bothList\n",
      "sub sub-1205 was not found in bothList\n",
      "sub sub-024 was not found in bothList\n",
      "sub sub-148 was not found in bothList\n",
      "sub sub-204 was not found in bothList\n",
      "sub sub-193 was not found in bothList\n",
      "sub sub-020 was not found in bothList\n",
      "sub sub-080 was not found in bothList\n",
      "sub sub-144 was not found in bothList\n",
      "sub sub-147 was not found in bothList\n",
      "sub sub-126 was not found in bothList\n",
      "sub sub-022 was not found in bothList\n",
      "sub sub-130 was not found in bothList\n",
      "sub sub-200 was not found in bothList\n"
     ]
    }
   ],
   "source": [
    "# find the subjects that matched both A list and 55 list\n",
    "bothList = set(dfA.Sub).intersection(sub55)\n",
    "len(bothList) # 49 subjects\n",
    "# extract their time series for amygdala and hippocampus\n",
    "a_array = []\n",
    "sub_a = []\n",
    "for i, sub in enumerate(sub55):\n",
    "    if sub in bothList: # check if subject is in the list\n",
    "       # print(sub)\n",
    "        a_array.append(ts_total55[i])\n",
    "        sub_a.append(sub)\n",
    "    else:\n",
    "        print(f'sub {sub} was not found in bothList')"
   ]
  },
  {
   "cell_type": "code",
   "execution_count": 12,
   "id": "f27ea4db",
   "metadata": {
    "scrolled": true
   },
   "outputs": [
    {
     "name": "stdout",
     "output_type": "stream",
     "text": [
      "sub sub-143 was not found in bothList\n",
      "sub sub-094 was not found in bothList\n",
      "sub sub-011 was not found in bothList\n",
      "sub sub-167 was not found in bothList\n",
      "sub sub-038 was not found in bothList\n",
      "sub sub-071 was not found in bothList\n",
      "sub sub-063 was not found in bothList\n",
      "sub sub-168 was not found in bothList\n",
      "sub sub-085 was not found in bothList\n",
      "sub sub-073 was not found in bothList\n",
      "sub sub-188 was not found in bothList\n",
      "sub sub-179 was not found in bothList\n",
      "sub sub-194 was not found in bothList\n",
      "sub sub-083 was not found in bothList\n",
      "sub sub-089 was not found in bothList\n",
      "sub sub-135 was not found in bothList\n",
      "sub sub-150 was not found in bothList\n",
      "sub sub-010 was not found in bothList\n",
      "sub sub-082 was not found in bothList\n",
      "sub sub-053 was not found in bothList\n",
      "sub sub-016 was not found in bothList\n",
      "sub sub-048 was not found in bothList\n",
      "sub sub-173 was not found in bothList\n",
      "sub sub-032 was not found in bothList\n",
      "sub sub-059 was not found in bothList\n",
      "sub sub-043 was not found in bothList\n",
      "sub sub-185 was not found in bothList\n",
      "sub sub-182 was not found in bothList\n",
      "sub sub-1223 was not found in bothList\n",
      "sub sub-005 was not found in bothList\n",
      "sub sub-160 was not found in bothList\n",
      "sub sub-140 was not found in bothList\n",
      "sub sub-132 was not found in bothList\n",
      "sub sub-189 was not found in bothList\n",
      "sub sub-025 was not found in bothList\n",
      "sub sub-026 was not found in bothList\n",
      "sub sub-153 was not found in bothList\n",
      "sub sub-137 was not found in bothList\n",
      "sub sub-065 was not found in bothList\n",
      "sub sub-066 was not found in bothList\n",
      "sub sub-1207 was not found in bothList\n",
      "sub sub-024 was not found in bothList\n",
      "sub sub-148 was not found in bothList\n",
      "sub sub-056 was not found in bothList\n",
      "sub sub-166 was not found in bothList\n",
      "sub sub-1222 was not found in bothList\n",
      "sub sub-203 was not found in bothList\n",
      "sub sub-072 was not found in bothList\n",
      "sub sub-027 was not found in bothList\n",
      "sub sub-062 was not found in bothList\n",
      "sub sub-030 was not found in bothList\n",
      "sub sub-020 was not found in bothList\n",
      "sub sub-008 was not found in bothList\n",
      "sub sub-205 was not found in bothList\n",
      "sub sub-080 was not found in bothList\n",
      "sub sub-147 was not found in bothList\n",
      "sub sub-047 was not found in bothList\n",
      "sub sub-013 was not found in bothList\n",
      "sub sub-195 was not found in bothList\n",
      "sub sub-183 was not found in bothList\n",
      "sub sub-102 was not found in bothList\n",
      "sub sub-171 was not found in bothList\n",
      "sub sub-022 was not found in bothList\n",
      "sub sub-055 was not found in bothList\n"
     ]
    }
   ],
   "source": [
    "bothListB = set(dfB.Sub).intersection(sub55)\n",
    "len(bothListB) # 49 subjects\n",
    "# extract their time series for amygdala and hippocampus\n",
    "a_arrayB = []\n",
    "sub_a_B = []\n",
    "for i, sub in enumerate(sub55):\n",
    "    if sub in bothListB: # check if subject is in the list\n",
    "       # print(sub)\n",
    "        a_arrayB.append(ts_total55[i])\n",
    "        sub_a_B.append(sub)\n",
    "    else:\n",
    "        print(f'sub {sub} was not found in bothList')"
   ]
  },
  {
   "cell_type": "code",
   "execution_count": 13,
   "id": "62ccc7fb",
   "metadata": {},
   "outputs": [],
   "source": [
    "#len(a_arrayB) # 25\n",
    "# build lists that will hold subjects, trialNo, condition and coupling\n",
    "length = 8\n",
    "roi1 = 20\n",
    "roi2 = 94\n",
    "subjects = []\n",
    "trialNo = []\n",
    "condition = []\n",
    "coupling = []\n",
    "amg = [] # capture average amygdala activation\n",
    "for sub,v in enumerate(a_array):\n",
    "        #print(sub)\n",
    "        #print(v.shape)\n",
    "        dist = []\n",
    "        # plus US\n",
    "        for i in stimList.iterrows():\n",
    "            onset = int(i[1].Time /2)\n",
    "            #print(onset)\n",
    "            con = i[1].A\n",
    "            #print(con)\n",
    "            subj = sub_a[sub]\n",
    "            #print(subj)\n",
    "            trial = i[1].Trial\n",
    "\n",
    "            #i = int(i)\n",
    "            a = np.array(v)[onset:onset+length,roi1] \n",
    "            b = np.array(v)[onset:onset+length,roi2] \n",
    "            coupling.append(scipy.stats.spearmanr(a,b)[0])\n",
    "            subjects.append(subj)\n",
    "            condition.append(con)\n",
    "            trialNo.append(trial)\n",
    "            amg.append(np.mean(a))\n",
    "        #distUS_b.append(dist)"
   ]
  },
  {
   "cell_type": "code",
   "execution_count": 14,
   "id": "f452e735",
   "metadata": {},
   "outputs": [
    {
     "data": {
      "text/html": [
       "<div>\n",
       "<style scoped>\n",
       "    .dataframe tbody tr th:only-of-type {\n",
       "        vertical-align: middle;\n",
       "    }\n",
       "\n",
       "    .dataframe tbody tr th {\n",
       "        vertical-align: top;\n",
       "    }\n",
       "\n",
       "    .dataframe thead th {\n",
       "        text-align: right;\n",
       "    }\n",
       "</style>\n",
       "<table border=\"1\" class=\"dataframe\">\n",
       "  <thead>\n",
       "    <tr style=\"text-align: right;\">\n",
       "      <th></th>\n",
       "      <th>subject</th>\n",
       "      <th>trialNo</th>\n",
       "      <th>condition</th>\n",
       "      <th>coupling</th>\n",
       "      <th>amg</th>\n",
       "    </tr>\n",
       "  </thead>\n",
       "  <tbody>\n",
       "    <tr>\n",
       "      <th>0</th>\n",
       "      <td>sub-167</td>\n",
       "      <td>1</td>\n",
       "      <td>CSplusUS1</td>\n",
       "      <td>0.761905</td>\n",
       "      <td>-0.665134</td>\n",
       "    </tr>\n",
       "    <tr>\n",
       "      <th>1</th>\n",
       "      <td>sub-167</td>\n",
       "      <td>2</td>\n",
       "      <td>CSminus1</td>\n",
       "      <td>-0.238095</td>\n",
       "      <td>-0.060757</td>\n",
       "    </tr>\n",
       "    <tr>\n",
       "      <th>2</th>\n",
       "      <td>sub-167</td>\n",
       "      <td>3</td>\n",
       "      <td>CSplus1</td>\n",
       "      <td>0.095238</td>\n",
       "      <td>0.984678</td>\n",
       "    </tr>\n",
       "    <tr>\n",
       "      <th>3</th>\n",
       "      <td>sub-167</td>\n",
       "      <td>4</td>\n",
       "      <td>CSplusUS1</td>\n",
       "      <td>0.523810</td>\n",
       "      <td>0.488085</td>\n",
       "    </tr>\n",
       "    <tr>\n",
       "      <th>4</th>\n",
       "      <td>sub-167</td>\n",
       "      <td>5</td>\n",
       "      <td>CSminus1</td>\n",
       "      <td>-0.428571</td>\n",
       "      <td>0.053875</td>\n",
       "    </tr>\n",
       "    <tr>\n",
       "      <th>...</th>\n",
       "      <td>...</td>\n",
       "      <td>...</td>\n",
       "      <td>...</td>\n",
       "      <td>...</td>\n",
       "      <td>...</td>\n",
       "    </tr>\n",
       "    <tr>\n",
       "      <th>3376</th>\n",
       "      <td>sub-055</td>\n",
       "      <td>65</td>\n",
       "      <td>CSminus2</td>\n",
       "      <td>0.500000</td>\n",
       "      <td>0.405472</td>\n",
       "    </tr>\n",
       "    <tr>\n",
       "      <th>3377</th>\n",
       "      <td>sub-055</td>\n",
       "      <td>66</td>\n",
       "      <td>CSplus2</td>\n",
       "      <td>0.238095</td>\n",
       "      <td>-0.140839</td>\n",
       "    </tr>\n",
       "    <tr>\n",
       "      <th>3378</th>\n",
       "      <td>sub-055</td>\n",
       "      <td>67</td>\n",
       "      <td>CSminus2</td>\n",
       "      <td>0.761905</td>\n",
       "      <td>-0.051440</td>\n",
       "    </tr>\n",
       "    <tr>\n",
       "      <th>3379</th>\n",
       "      <td>sub-055</td>\n",
       "      <td>68</td>\n",
       "      <td>CSplus2</td>\n",
       "      <td>0.523810</td>\n",
       "      <td>-0.163185</td>\n",
       "    </tr>\n",
       "    <tr>\n",
       "      <th>3380</th>\n",
       "      <td>sub-055</td>\n",
       "      <td>69</td>\n",
       "      <td>CSminus2</td>\n",
       "      <td>0.800000</td>\n",
       "      <td>0.193318</td>\n",
       "    </tr>\n",
       "  </tbody>\n",
       "</table>\n",
       "<p>3381 rows × 5 columns</p>\n",
       "</div>"
      ],
      "text/plain": [
       "      subject  trialNo  condition  coupling       amg\n",
       "0     sub-167        1  CSplusUS1  0.761905 -0.665134\n",
       "1     sub-167        2   CSminus1 -0.238095 -0.060757\n",
       "2     sub-167        3    CSplus1  0.095238  0.984678\n",
       "3     sub-167        4  CSplusUS1  0.523810  0.488085\n",
       "4     sub-167        5   CSminus1 -0.428571  0.053875\n",
       "...       ...      ...        ...       ...       ...\n",
       "3376  sub-055       65   CSminus2  0.500000  0.405472\n",
       "3377  sub-055       66    CSplus2  0.238095 -0.140839\n",
       "3378  sub-055       67   CSminus2  0.761905 -0.051440\n",
       "3379  sub-055       68    CSplus2  0.523810 -0.163185\n",
       "3380  sub-055       69   CSminus2  0.800000  0.193318\n",
       "\n",
       "[3381 rows x 5 columns]"
      ]
     },
     "execution_count": 14,
     "metadata": {},
     "output_type": "execute_result"
    }
   ],
   "source": [
    "dfCoupl = pd.DataFrame({'subject': subjects, 'trialNo': trialNo,\n",
    "'condition': condition, 'coupling': coupling, 'amg': amg})\n",
    "\n",
    "dfCoupl_first = dfCoupl#[dfCoupl.trialNo<=30] # take just first half\n",
    "dfCoupl_first"
   ]
  },
  {
   "cell_type": "code",
   "execution_count": 15,
   "id": "b0fbec57",
   "metadata": {},
   "outputs": [],
   "source": [
    "# add second stimuli order (B)\n",
    "subjects = []\n",
    "trialNo = []\n",
    "condition = []\n",
    "coupling = []\n",
    "amg = []\n",
    "for sub,v in enumerate(a_arrayB):\n",
    "        #print(sub)\n",
    "        #print(v.shape)\n",
    "        dist = []\n",
    "        # plus US\n",
    "        for i in stimList.iterrows():\n",
    "            onset = int(i[1].Time /2)\n",
    "            #print(onset)\n",
    "            con = i[1].A\n",
    "            #print(con)\n",
    "            subj = sub_a_B[sub]\n",
    "            #print(subj)\n",
    "            trial = i[1].Trial\n",
    "\n",
    "            #i = int(i)\n",
    "            a = np.array(v)[onset:onset+length,roi1] \n",
    "            b = np.array(v)[onset:onset+length,roi2] \n",
    "            coupling.append(scipy.stats.spearmanr(a,b)[0])\n",
    "            subjects.append(subj)\n",
    "            condition.append(con)\n",
    "            trialNo.append(trial)\n",
    "            amg.append(np.mean(a))\n",
    "        #distUS_b.append(dist)"
   ]
  },
  {
   "cell_type": "code",
   "execution_count": 16,
   "id": "c5746311",
   "metadata": {},
   "outputs": [],
   "source": [
    "dfCouplB = pd.DataFrame({'subject': subjects, 'trialNo': trialNo,\n",
    "'condition': condition, 'coupling': coupling, 'amg':amg})\n",
    "\n",
    "dfCouplB_first = dfCouplB#[dfCouplB.trialNo<=30] # take just first half\n",
    "#dfCouplB_first\n",
    "\n",
    "# combine both\n",
    "dfBoth = pd.concat([dfCoupl_first, dfCouplB_first]).reset_index()\n",
    "dfBoth.to_csv('amg_hipp_fc_allTrials.csv', index=False)"
   ]
  },
  {
   "cell_type": "code",
   "execution_count": 17,
   "id": "5050f863-ad37-4fea-9cd6-778fd0b56bf7",
   "metadata": {},
   "outputs": [
    {
     "data": {
      "text/html": [
       "<div>\n",
       "<style scoped>\n",
       "    .dataframe tbody tr th:only-of-type {\n",
       "        vertical-align: middle;\n",
       "    }\n",
       "\n",
       "    .dataframe tbody tr th {\n",
       "        vertical-align: top;\n",
       "    }\n",
       "\n",
       "    .dataframe thead tr th {\n",
       "        text-align: left;\n",
       "    }\n",
       "\n",
       "    .dataframe thead tr:last-of-type th {\n",
       "        text-align: right;\n",
       "    }\n",
       "</style>\n",
       "<table border=\"1\" class=\"dataframe\">\n",
       "  <thead>\n",
       "    <tr>\n",
       "      <th></th>\n",
       "      <th colspan=\"8\" halign=\"left\">index</th>\n",
       "      <th colspan=\"2\" halign=\"left\">trialNo</th>\n",
       "      <th>...</th>\n",
       "      <th colspan=\"2\" halign=\"left\">coupling</th>\n",
       "      <th colspan=\"8\" halign=\"left\">amg</th>\n",
       "    </tr>\n",
       "    <tr>\n",
       "      <th></th>\n",
       "      <th>count</th>\n",
       "      <th>mean</th>\n",
       "      <th>std</th>\n",
       "      <th>min</th>\n",
       "      <th>25%</th>\n",
       "      <th>50%</th>\n",
       "      <th>75%</th>\n",
       "      <th>max</th>\n",
       "      <th>count</th>\n",
       "      <th>mean</th>\n",
       "      <th>...</th>\n",
       "      <th>75%</th>\n",
       "      <th>max</th>\n",
       "      <th>count</th>\n",
       "      <th>mean</th>\n",
       "      <th>std</th>\n",
       "      <th>min</th>\n",
       "      <th>25%</th>\n",
       "      <th>50%</th>\n",
       "      <th>75%</th>\n",
       "      <th>max</th>\n",
       "    </tr>\n",
       "    <tr>\n",
       "      <th>group</th>\n",
       "      <th></th>\n",
       "      <th></th>\n",
       "      <th></th>\n",
       "      <th></th>\n",
       "      <th></th>\n",
       "      <th></th>\n",
       "      <th></th>\n",
       "      <th></th>\n",
       "      <th></th>\n",
       "      <th></th>\n",
       "      <th></th>\n",
       "      <th></th>\n",
       "      <th></th>\n",
       "      <th></th>\n",
       "      <th></th>\n",
       "      <th></th>\n",
       "      <th></th>\n",
       "      <th></th>\n",
       "      <th></th>\n",
       "      <th></th>\n",
       "      <th></th>\n",
       "    </tr>\n",
       "  </thead>\n",
       "  <tbody>\n",
       "    <tr>\n",
       "      <th>HC</th>\n",
       "      <td>21.0</td>\n",
       "      <td>1179.571429</td>\n",
       "      <td>837.406686</td>\n",
       "      <td>0.0</td>\n",
       "      <td>621.0</td>\n",
       "      <td>966.0</td>\n",
       "      <td>1587.00</td>\n",
       "      <td>3243.0</td>\n",
       "      <td>21.0</td>\n",
       "      <td>1.0</td>\n",
       "      <td>...</td>\n",
       "      <td>0.595238</td>\n",
       "      <td>0.880952</td>\n",
       "      <td>21.0</td>\n",
       "      <td>0.485107</td>\n",
       "      <td>0.793698</td>\n",
       "      <td>-0.665134</td>\n",
       "      <td>0.011983</td>\n",
       "      <td>0.386670</td>\n",
       "      <td>0.712247</td>\n",
       "      <td>2.190369</td>\n",
       "    </tr>\n",
       "    <tr>\n",
       "      <th>VCC</th>\n",
       "      <td>28.0</td>\n",
       "      <td>1414.500000</td>\n",
       "      <td>1018.859330</td>\n",
       "      <td>69.0</td>\n",
       "      <td>724.5</td>\n",
       "      <td>1173.0</td>\n",
       "      <td>2225.25</td>\n",
       "      <td>3312.0</td>\n",
       "      <td>28.0</td>\n",
       "      <td>1.0</td>\n",
       "      <td>...</td>\n",
       "      <td>0.719449</td>\n",
       "      <td>0.976190</td>\n",
       "      <td>28.0</td>\n",
       "      <td>0.299758</td>\n",
       "      <td>0.621791</td>\n",
       "      <td>-0.922499</td>\n",
       "      <td>-0.159265</td>\n",
       "      <td>0.316977</td>\n",
       "      <td>0.683874</td>\n",
       "      <td>1.604924</td>\n",
       "    </tr>\n",
       "    <tr>\n",
       "      <th>VPTSD</th>\n",
       "      <td>25.0</td>\n",
       "      <td>1498.680000</td>\n",
       "      <td>933.525206</td>\n",
       "      <td>0.0</td>\n",
       "      <td>552.0</td>\n",
       "      <td>1449.0</td>\n",
       "      <td>2346.00</td>\n",
       "      <td>3105.0</td>\n",
       "      <td>25.0</td>\n",
       "      <td>1.0</td>\n",
       "      <td>...</td>\n",
       "      <td>0.452381</td>\n",
       "      <td>0.976190</td>\n",
       "      <td>25.0</td>\n",
       "      <td>0.248910</td>\n",
       "      <td>0.631847</td>\n",
       "      <td>-0.561972</td>\n",
       "      <td>-0.116851</td>\n",
       "      <td>0.082874</td>\n",
       "      <td>0.442022</td>\n",
       "      <td>2.528585</td>\n",
       "    </tr>\n",
       "  </tbody>\n",
       "</table>\n",
       "<p>3 rows × 32 columns</p>\n",
       "</div>"
      ],
      "text/plain": [
       "      index                                                                  \\\n",
       "      count         mean          std   min    25%     50%      75%     max   \n",
       "group                                                                         \n",
       "HC     21.0  1179.571429   837.406686   0.0  621.0   966.0  1587.00  3243.0   \n",
       "VCC    28.0  1414.500000  1018.859330  69.0  724.5  1173.0  2225.25  3312.0   \n",
       "VPTSD  25.0  1498.680000   933.525206   0.0  552.0  1449.0  2346.00  3105.0   \n",
       "\n",
       "      trialNo       ...  coupling             amg                      \\\n",
       "        count mean  ...       75%       max count      mean       std   \n",
       "group               ...                                                 \n",
       "HC       21.0  1.0  ...  0.595238  0.880952  21.0  0.485107  0.793698   \n",
       "VCC      28.0  1.0  ...  0.719449  0.976190  28.0  0.299758  0.621791   \n",
       "VPTSD    25.0  1.0  ...  0.452381  0.976190  25.0  0.248910  0.631847   \n",
       "\n",
       "                                                         \n",
       "            min       25%       50%       75%       max  \n",
       "group                                                    \n",
       "HC    -0.665134  0.011983  0.386670  0.712247  2.190369  \n",
       "VCC   -0.922499 -0.159265  0.316977  0.683874  1.604924  \n",
       "VPTSD -0.561972 -0.116851  0.082874  0.442022  2.528585  \n",
       "\n",
       "[3 rows x 32 columns]"
      ]
     },
     "execution_count": 17,
     "metadata": {},
     "output_type": "execute_result"
    }
   ],
   "source": [
    "# descriptives\n",
    "dfBoth = dfBoth.merge(dfGroups, left_on='subject',right_on='Sub')\n",
    "#dfBoth\n",
    "dfBoth[dfBoth.trialNo==1].groupby('group').describe()"
   ]
  },
  {
   "cell_type": "code",
   "execution_count": 29,
   "id": "41087adb",
   "metadata": {},
   "outputs": [
    {
     "name": "stdout",
     "output_type": "stream",
     "text": [
      "                Mixed Linear Model Regression Results\n",
      "=====================================================================\n",
      "Model:                 MixedLM     Dependent Variable:     coupling  \n",
      "No. Observations:      5106        Method:                 REML      \n",
      "No. Groups:            74          Scale:                  0.1499    \n",
      "Min. group size:       69          Log-Likelihood:         -2528.1241\n",
      "Max. group size:       69          Converged:              Yes       \n",
      "Mean group size:       69.0                                          \n",
      "---------------------------------------------------------------------\n",
      "                           Coef.  Std.Err.   z    P>|z| [0.025 0.975]\n",
      "---------------------------------------------------------------------\n",
      "Intercept                   0.021    0.026  0.795 0.427 -0.031  0.072\n",
      "C(condition)[T.CSminus2]   -0.023    0.026 -0.897 0.370 -0.074  0.027\n",
      "C(condition)[T.CSminusUS2]  0.058    0.027  2.167 0.030  0.006  0.110\n",
      "C(condition)[T.CSplus1]     0.001    0.018  0.051 0.960 -0.035  0.037\n",
      "C(condition)[T.CSplus2]    -0.019    0.026 -0.756 0.450 -0.069  0.031\n",
      "C(condition)[T.CSplusUS1]   0.066    0.023  2.915 0.004  0.022  0.110\n",
      "trialNo                     0.002    0.001  3.846 0.000  0.001  0.003\n",
      "amg                         0.038    0.012  3.076 0.002  0.014  0.062\n",
      "subject Var                 0.033    0.015                           \n",
      "=====================================================================\n",
      "\n"
     ]
    }
   ],
   "source": [
    "glm = smf.mixedlm('coupling ~ C(condition) + trialNo+ amg', data=dfBoth, \n",
    "    groups = 'subject', \n",
    "                 missing='drop')\n",
    "model1 = glm.fit()\n",
    "print(model1.summary())"
   ]
  },
  {
   "cell_type": "code",
   "execution_count": 44,
   "id": "9d2bf92f-f6ec-42a9-9929-655fadc20864",
   "metadata": {
    "tags": []
   },
   "outputs": [
    {
     "data": {
      "image/png": "[encoded data removed]",
      "text/plain": [
       "<Figure size 864x504 with 1 Axes>"
      ]
     },
     "metadata": {
      "needs_background": "light"
     },
     "output_type": "display_data"
    }
   ],
   "source": [
    "plt.rc('figure', figsize=(12, 7))\n",
    "plt.text(0.01, 0.05, str(model1.summary()), {'fontsize': 12}, fontproperties = 'monospace') \n",
    "plt.axis('off')\n",
    "plt.tight_layout()\n",
    "plt.savefig('output.png')"
   ]
  },
  {
   "cell_type": "markdown",
   "id": "e0b43ad7-8f3b-4933-a0fe-4db90860a376",
   "metadata": {},
   "source": [
    "Normality test"
   ]
  },
  {
   "cell_type": "code",
   "execution_count": null,
   "id": "922c1d6f-1e85-44d8-89a0-7e8e7939de56",
   "metadata": {},
   "outputs": [],
   "source": [
    "sns.distplot(model1.resid, hist = False, kde_kws = {\"shade\" : True, \"lw\": 1}, fit = scipy.stats.norm)\n"
   ]
  },
  {
   "cell_type": "code",
   "execution_count": null,
   "id": "91ccec2d-975b-49a0-9cb7-4a0f3d6700dd",
   "metadata": {},
   "outputs": [],
   "source": [
    "## Q-Q PLot\n",
    "\n",
    "fig = plt.figure(figsize = (16, 9))\n",
    "ax = fig.add_subplot(111)\n",
    "\n",
    "sm.qqplot(model1.resid, dist = scipy.stats.norm, line = 's', ax = ax)\n",
    "\n",
    "ax.set_title(\"Q-Q Plot\")\n",
    "labels = [\"Statistic\", \"p-value\"]\n",
    "norm_res = scipy.stats.shapiro(model1.resid)\n",
    "\n",
    "for key, val in dict(zip(labels, norm_res)).items():\n",
    "    print(key, val)"
   ]
  },
  {
   "cell_type": "markdown",
   "id": "14feb3d3-f313-42c7-a9cc-fca31b02eea0",
   "metadata": {},
   "source": [
    "Heteroscedasticity"
   ]
  },
  {
   "cell_type": "code",
   "execution_count": null,
   "id": "4fed0c00-80f5-4b68-912a-f9307e498725",
   "metadata": {},
   "outputs": [],
   "source": [
    "sns.scatterplot(y = model1.resid, x = model1.fittedvalues)"
   ]
  },
  {
   "cell_type": "code",
   "execution_count": null,
   "id": "31adb713-7b73-48b7-84cf-3d54042b7483",
   "metadata": {},
   "outputs": [],
   "source": [
    "from statsmodels.stats.diagnostic import het_white\n",
    "\n",
    "het_white_res = het_white(model1.resid, model1.model.exog)\n",
    "\n",
    "labels = [\"LM Statistic\", \"LM-Test p-value\", \"F-Statistic\", \"F-Test p-value\"]\n",
    "\n",
    "for key, val in dict(zip(labels, het_white_res)).items():\n",
    "    print(key, val)"
   ]
  },
  {
   "cell_type": "code",
   "execution_count": null,
   "id": "d25a05b1-1cc2-4bcb-bbc4-fea68a01d338",
   "metadata": {},
   "outputs": [],
   "source": [
    "A = np.identity(len(model1.params)) #generate a matrix of the parameters\n",
    "#A = A[2,:] # take only US\n",
    "print(A)\n",
    "model1.f_test(A) #F(1,222)=6.58, p=0.0103\n",
    "#model1.params"
   ]
  },
  {
   "cell_type": "code",
   "execution_count": null,
   "id": "e4e19894",
   "metadata": {},
   "outputs": [],
   "source": [
    "dfBoth.head()"
   ]
  },
  {
   "cell_type": "markdown",
   "id": "14d26189",
   "metadata": {},
   "source": [
    "# Interim Summary\n",
    "- We have establish that coupling between amg-hipp is associated with CS+US\n",
    "- Now we need to see how SCR is connected"
   ]
  },
  {
   "cell_type": "code",
   "execution_count": 56,
   "id": "9ed11f24",
   "metadata": {},
   "outputs": [],
   "source": [
    "# grab scr and melt it. \n",
    "# model scr as dependent and coupling as predictor (including time, condition and interaction)\n",
    "#scr = pd.read_csv('firstSCRpart.csv')\n",
    "scr = pd.read_csv('Behavioral/SCR3.csv')\n",
    "scr = scr[['sub','Condition','Event.Nr','CDA.AmpSum']]\n",
    "scr['sub'] = scr['sub'].astype('string')\n",
    "for i in scr.iterrows():\n",
    "    if len(i[1]['sub'])<=2:\n",
    "        #print(i[1]['sub'])\n",
    "        sub = 'sub-0' + str(i[1]['sub'])\n",
    "    else:\n",
    "        sub = 'sub-' + str(i[1]['sub'])\n",
    "    #print(sub)\n",
    "    scr.at[i[0], 'sub'] = sub\n",
    "    "
   ]
  },
  {
   "cell_type": "code",
   "execution_count": 57,
   "id": "05cc0fa5",
   "metadata": {},
   "outputs": [
    {
     "data": {
      "text/plain": [
       "<StringArray>\n",
       "['sub-189', 'sub-086', 'sub-205', 'sub-071', 'sub-087', 'sub-204', 'sub-085',\n",
       " 'sub-024', 'sub-101', 'sub-100',\n",
       " ...\n",
       " 'sub-124', 'sub-021', 'sub-019', 'sub-010', 'sub-158', 'sub-083', 'sub-113',\n",
       " 'sub-107', 'sub-126', 'sub-152']\n",
       "Length: 101, dtype: string"
      ]
     },
     "execution_count": 57,
     "metadata": {},
     "output_type": "execute_result"
    }
   ],
   "source": [
    "scr['sub'].unique()"
   ]
  },
  {
   "cell_type": "code",
   "execution_count": 58,
   "id": "db8db3cb",
   "metadata": {},
   "outputs": [
    {
     "data": {
      "text/html": [
       "<div>\n",
       "<style scoped>\n",
       "    .dataframe tbody tr th:only-of-type {\n",
       "        vertical-align: middle;\n",
       "    }\n",
       "\n",
       "    .dataframe tbody tr th {\n",
       "        vertical-align: top;\n",
       "    }\n",
       "\n",
       "    .dataframe thead th {\n",
       "        text-align: right;\n",
       "    }\n",
       "</style>\n",
       "<table border=\"1\" class=\"dataframe\">\n",
       "  <thead>\n",
       "    <tr style=\"text-align: right;\">\n",
       "      <th></th>\n",
       "      <th>sub</th>\n",
       "      <th>Condition</th>\n",
       "      <th>Event.Nr</th>\n",
       "      <th>CDA.AmpSum</th>\n",
       "      <th>trialNo</th>\n",
       "      <th>scr</th>\n",
       "    </tr>\n",
       "  </thead>\n",
       "  <tbody>\n",
       "    <tr>\n",
       "      <th>0</th>\n",
       "      <td>sub-189</td>\n",
       "      <td>CSplusUS1</td>\n",
       "      <td>1</td>\n",
       "      <td>0.2852</td>\n",
       "      <td>1</td>\n",
       "      <td>0.2852</td>\n",
       "    </tr>\n",
       "    <tr>\n",
       "      <th>1</th>\n",
       "      <td>sub-189</td>\n",
       "      <td>CSminus1</td>\n",
       "      <td>2</td>\n",
       "      <td>0.1033</td>\n",
       "      <td>2</td>\n",
       "      <td>0.1033</td>\n",
       "    </tr>\n",
       "    <tr>\n",
       "      <th>2</th>\n",
       "      <td>sub-189</td>\n",
       "      <td>CSplus1</td>\n",
       "      <td>3</td>\n",
       "      <td>0.0783</td>\n",
       "      <td>3</td>\n",
       "      <td>0.0783</td>\n",
       "    </tr>\n",
       "    <tr>\n",
       "      <th>3</th>\n",
       "      <td>sub-189</td>\n",
       "      <td>CSplusUS1</td>\n",
       "      <td>4</td>\n",
       "      <td>0.1772</td>\n",
       "      <td>4</td>\n",
       "      <td>0.1772</td>\n",
       "    </tr>\n",
       "    <tr>\n",
       "      <th>4</th>\n",
       "      <td>sub-189</td>\n",
       "      <td>CSminus1</td>\n",
       "      <td>5</td>\n",
       "      <td>0.0000</td>\n",
       "      <td>5</td>\n",
       "      <td>0.0000</td>\n",
       "    </tr>\n",
       "  </tbody>\n",
       "</table>\n",
       "</div>"
      ],
      "text/plain": [
       "       sub  Condition  Event.Nr  CDA.AmpSum  trialNo     scr\n",
       "0  sub-189  CSplusUS1         1      0.2852        1  0.2852\n",
       "1  sub-189   CSminus1         2      0.1033        2  0.1033\n",
       "2  sub-189    CSplus1         3      0.0783        3  0.0783\n",
       "3  sub-189  CSplusUS1         4      0.1772        4  0.1772\n",
       "4  sub-189   CSminus1         5      0.0000        5  0.0000"
      ]
     },
     "execution_count": 58,
     "metadata": {},
     "output_type": "execute_result"
    }
   ],
   "source": [
    "scr['trialNo'] = scr['Event.Nr']\n",
    "scr['scr'] = scr['CDA.AmpSum']\n",
    "scr.head()"
   ]
  },
  {
   "cell_type": "code",
   "execution_count": 59,
   "id": "f9f593f7",
   "metadata": {},
   "outputs": [],
   "source": [
    "dfSCR_coupling = pd.merge(dfBoth, scr, left_on=['subject','trialNo'], right_on=['sub','trialNo'])\n",
    "dfSCR_coupling.to_csv('dfSCR_coupling.csv', index=False)"
   ]
  },
  {
   "cell_type": "code",
   "execution_count": 60,
   "id": "ec751ce3",
   "metadata": {},
   "outputs": [
    {
     "data": {
      "text/plain": [
       "67"
      ]
     },
     "execution_count": 60,
     "metadata": {},
     "output_type": "execute_result"
    }
   ],
   "source": [
    "len(dfSCR_coupling.subject.unique())"
   ]
  },
  {
   "cell_type": "code",
   "execution_count": 62,
   "id": "5a0c9523",
   "metadata": {},
   "outputs": [
    {
     "name": "stdout",
     "output_type": "stream",
     "text": [
      "                Mixed Linear Model Regression Results\n",
      "======================================================================\n",
      "Model:                  MixedLM     Dependent Variable:     scr       \n",
      "No. Observations:       4621        Method:                 REML      \n",
      "No. Groups:             67          Scale:                  0.3852    \n",
      "Min. group size:        68          Log-Likelihood:         -4502.0177\n",
      "Max. group size:        69          Converged:              Yes       \n",
      "Mean group size:        69.0                                          \n",
      "----------------------------------------------------------------------\n",
      "                           Coef.  Std.Err.    z    P>|z| [0.025 0.975]\n",
      "----------------------------------------------------------------------\n",
      "Intercept                   0.510    0.065   7.788 0.000  0.382  0.638\n",
      "C(condition)[T.CSminus2]    0.313    0.043   7.194 0.000  0.228  0.398\n",
      "C(condition)[T.CSminusUS2]  0.399    0.045   8.871 0.000  0.311  0.487\n",
      "C(condition)[T.CSplus1]     0.191    0.031   6.164 0.000  0.130  0.252\n",
      "C(condition)[T.CSplus2]     0.214    0.043   4.968 0.000  0.129  0.298\n",
      "C(condition)[T.CSplusUS1]   0.426    0.038  11.154 0.000  0.351  0.501\n",
      "coupling                    0.072    0.024   3.029 0.002  0.025  0.118\n",
      "trialNo                    -0.010    0.001 -11.335 0.000 -0.012 -0.009\n",
      "amg                        -0.014    0.021  -0.668 0.504 -0.056  0.028\n",
      "Group Var                   0.241    0.070                            \n",
      "======================================================================\n",
      "\n"
     ]
    }
   ],
   "source": [
    "glm2 = smf.mixedlm('scr ~ C(condition) + coupling + trialNo+ amg', data=dfSCR_coupling, \n",
    "    groups = dfSCR_coupling.subject,\n",
    "                 missing='drop')\n",
    "model2 = glm2.fit()\n",
    "print(model2.summary())"
   ]
  },
  {
   "cell_type": "code",
   "execution_count": 67,
   "id": "08ff3ed9-951d-4658-9251-a87af1bd651e",
   "metadata": {},
   "outputs": [
    {
     "data": {
      "text/plain": [
       "(0.0, 1.0, 0.0, 1.0)"
      ]
     },
     "execution_count": 67,
     "metadata": {},
     "output_type": "execute_result"
    },
    {
     "data": {
      "image/png": "[encoded data removed]",
      "text/plain": [
       "<Figure size 864x504 with 1 Axes>"
      ]
     },
     "metadata": {
      "needs_background": "light"
     },
     "output_type": "display_data"
    }
   ],
   "source": [
    "plt.rc('figure', figsize=(12, 7))\n",
    "plt.text(0.01, 0.05, str(model2.summary()), {'fontsize': 12}, fontproperties = 'monospace') \n",
    "plt.axis('off')\n",
    "#plt.tight_layout(pad=0.01)\n",
    "#plt.savefig('outputSCR_coupling.png', bbox_inches='tight')"
   ]
  },
  {
   "cell_type": "code",
   "execution_count": null,
   "id": "fc8ccf0d-c12a-406f-a0ca-b6db2a5457ab",
   "metadata": {},
   "outputs": [],
   "source": [
    "print(model2.params)\n",
    "B = np.identity(len(model2.params)) #generate a matrix of the parameters\n",
    "B = B[:,3] # take only coupling\n",
    "print(B)\n",
    "print(f'Coupling vs. everything {model2.f_test(B)}') #F(1,2000)=5.69, p=0.017\n",
    "contCoup_amg = np.array([0,0,0,1,0,0,0,-1,0])\n",
    "print(f'Coupling vs. amygdala activation {model2.f_test(contCoup_amg)}')\n",
    "\n",
    "contCoup_cond = np.array([1/3,1/3,1/3,0,-1/2,-1/2,0,0,0])\n",
    "print(f'F of condition {model2.f_test(contCoup_cond)}')\n",
    "\n",
    "# interaction = np.array([0,0,0,1/3,1/3,1/3,0,0,0])\n",
    "# print(f'interaction {model2.f_test(interaction)}')\n"
   ]
  },
  {
   "cell_type": "code",
   "execution_count": null,
   "id": "e7d72e9a-d571-44fd-92a8-2274263be0d2",
   "metadata": {},
   "outputs": [],
   "source": [
    "2e+03"
   ]
  },
  {
   "cell_type": "markdown",
   "id": "bbb6b788",
   "metadata": {},
   "source": [
    "### Test with vmPFC and other regions\n",
    "- To make sure the effect is specific to amygdala - hippocampus"
   ]
  },
  {
   "cell_type": "code",
   "execution_count": 48,
   "id": "42e9938e",
   "metadata": {},
   "outputs": [],
   "source": [
    "# add second stimuli order (B)\n",
    "def grabCoupling (sub_array, stimList, neuro_array, roi1, roi2):\n",
    "    length = 8\n",
    "    subjects = []\n",
    "    trialNo = []\n",
    "    condition = []\n",
    "    coupling = []\n",
    "    amg = [] # assuming roi1 is amygdala\n",
    "    for sub,v in enumerate(neuro_array):\n",
    "           \n",
    "            for i in stimList.iterrows():\n",
    "                onset = int(i[1].Time /2)\n",
    "                #print(onset)\n",
    "                con = i[1].A\n",
    "                #print(con)\n",
    "                subj = sub_array[sub]\n",
    "                #print(subj)\n",
    "                trial = i[1].Trial\n",
    "\n",
    "                #i = int(i)\n",
    "                a = np.array(v)[onset:onset+length,roi1] \n",
    "                b = np.array(v)[onset:onset+length,roi2] \n",
    "                coupling.append(scipy.stats.spearmanr(a,b)[0])\n",
    "                subjects.append(subj)\n",
    "                condition.append(con)\n",
    "                trialNo.append(trial)\n",
    "                if roi1==20: \n",
    "                    amg.append(np.mean(a))\n",
    "                else:\n",
    "                    print('ROI1 was not defined as amygdala')\n",
    "\n",
    "\n",
    "    dfCoupl = pd.DataFrame({'subject': subjects, 'trialNo': trialNo,\n",
    "    'condition': condition, 'coupling': coupling, 'amg': amg})\n",
    "\n",
    "    dfCoupl_first = dfCoupl#[dfCoupl.trialNo<=30] # take just first half\n",
    "    return dfCoupl_first\n",
    "        #distUS_b.append(dist)"
   ]
  },
  {
   "cell_type": "code",
   "execution_count": 49,
   "id": "ca700309",
   "metadata": {},
   "outputs": [],
   "source": [
    "df_amg_vmpfc1 = grabCoupling(sub_a, stimList, a_array, 20, 42)\n",
    "df_amg_vmpfc2 = grabCoupling(sub_a_B, stimList, a_arrayB, 20, 42)"
   ]
  },
  {
   "cell_type": "code",
   "execution_count": 50,
   "id": "2be955e9",
   "metadata": {},
   "outputs": [],
   "source": [
    "dfBothVMPFC = pd.concat([df_amg_vmpfc1, df_amg_vmpfc2]).reset_index()\n"
   ]
  },
  {
   "cell_type": "code",
   "execution_count": 51,
   "id": "7d1b378a",
   "metadata": {},
   "outputs": [
    {
     "name": "stdout",
     "output_type": "stream",
     "text": [
      "                Mixed Linear Model Regression Results\n",
      "=====================================================================\n",
      "Model:                 MixedLM     Dependent Variable:     coupling  \n",
      "No. Observations:      5106        Method:                 REML      \n",
      "No. Groups:            74          Scale:                  0.1216    \n",
      "Min. group size:       69          Log-Likelihood:         -1977.1953\n",
      "Max. group size:       69          Converged:              Yes       \n",
      "Mean group size:       69.0                                          \n",
      "---------------------------------------------------------------------\n",
      "                           Coef.  Std.Err.   z    P>|z| [0.025 0.975]\n",
      "---------------------------------------------------------------------\n",
      "Intercept                   0.386    0.020 18.912 0.000  0.346  0.426\n",
      "C(condition)[T.CSminus2]    0.032    0.023  1.384 0.166 -0.013  0.078\n",
      "C(condition)[T.CSminusUS2]  0.001    0.024  0.052 0.958 -0.046  0.048\n",
      "C(condition)[T.CSplus1]     0.006    0.017  0.366 0.714 -0.026  0.039\n",
      "C(condition)[T.CSplus2]     0.024    0.023  1.030 0.303 -0.021  0.069\n",
      "C(condition)[T.CSplusUS1]   0.009    0.020  0.425 0.671 -0.031  0.049\n",
      "trialNo                    -0.000    0.000 -0.362 0.717 -0.001  0.001\n",
      "amg                        -0.025    0.011 -2.214 0.027 -0.047 -0.003\n",
      "subject Var                 0.016    0.009                           \n",
      "=====================================================================\n",
      "\n"
     ]
    }
   ],
   "source": [
    "glm3 = smf.mixedlm('coupling ~ C(condition) + trialNo + amg', data=dfBothVMPFC, \n",
    "    groups = 'subject', \n",
    "                 missing='drop')\n",
    "model3 = glm3.fit()\n",
    "print(model3.summary())"
   ]
  },
  {
   "cell_type": "code",
   "execution_count": 54,
   "id": "fac30421-a86a-44f1-b641-5303e651abf1",
   "metadata": {},
   "outputs": [
    {
     "data": {
      "image/png": "[encoded data removed]",
      "text/plain": [
       "<Figure size 864x504 with 1 Axes>"
      ]
     },
     "metadata": {
      "needs_background": "light"
     },
     "output_type": "display_data"
    }
   ],
   "source": [
    "plt.rc('figure', figsize=(12, 7))\n",
    "plt.text(0.01, 0.05, str(model3.summary()), {'fontsize': 12}, fontproperties = 'monospace') \n",
    "plt.axis('off')\n",
    "plt.tight_layout(pad=0.8)\n",
    "plt.savefig('output_modelVMPFC.png')"
   ]
  },
  {
   "cell_type": "markdown",
   "id": "b1e76ad8",
   "metadata": {},
   "source": [
    "# VMPFC - Amygdala\n",
    "- No effect for condition in the VMPFC - Amygdala coupling"
   ]
  },
  {
   "cell_type": "code",
   "execution_count": null,
   "id": "31447f18",
   "metadata": {},
   "outputs": [],
   "source": [
    "# scr amg-vmpfc\n",
    "dfSCR_couplingVMPFC = pd.merge(dfBothVMPFC, scr, left_on=['subject','trialNo'], right_on=['sub','trialNo'])\n"
   ]
  },
  {
   "cell_type": "code",
   "execution_count": null,
   "id": "1287628d",
   "metadata": {},
   "outputs": [],
   "source": [
    "glm4 = smf.mixedlm('scr ~ C(condition)*coupling + trialNo + amg', data=dfSCR_couplingVMPFC, \n",
    "    groups = 'subject', \n",
    "                 missing='drop')\n",
    "model4 = glm4.fit()\n",
    "print(model4.summary())"
   ]
  },
  {
   "cell_type": "markdown",
   "id": "015cb48c",
   "metadata": {},
   "source": [
    "### Control region\n",
    "- Using Supramarginal Gyrus"
   ]
  },
  {
   "cell_type": "code",
   "execution_count": null,
   "id": "74106c96",
   "metadata": {},
   "outputs": [],
   "source": [
    "# generate amygdala Supramarginal gyrus anterior LH coupling for each condition in the A timeline\n",
    "dist_a_amgLC = generateDistDF(a_array, sub_a, us1, csminus, csplus, 20, 250, length = 8) # 250 for Supramarginal gyrus anterior LH\n",
    "# in the B\n",
    "dist_b_amgLC = generateDistDF(a_arrayB, sub_a_B, us1_b, csminus_b, csplus_b, 20, 250, length = 8)\n",
    "df_amg_lc = pd.concat([dist_a_amgLC[0], dist_b_amgLC[0]])\n",
    "df_amg_lc.groupby('variable').describe()"
   ]
  },
  {
   "cell_type": "code",
   "execution_count": null,
   "id": "02ff94b1",
   "metadata": {},
   "outputs": [],
   "source": [
    "df = df_amg_lc.pivot_table(index='subject', columns= 'variable', values= 'value')\n",
    "sns.pairplot(df[['minus','plus','plusUS']], kind='scatter')\n",
    "\n"
   ]
  },
  {
   "cell_type": "code",
   "execution_count": null,
   "id": "a021665b",
   "metadata": {},
   "outputs": [],
   "source": [
    "pg.rm_anova(df_amg_lc, dv='value', within='variable', subject='subject')"
   ]
  },
  {
   "cell_type": "code",
   "execution_count": null,
   "id": "a8ca3064",
   "metadata": {},
   "outputs": [],
   "source": [
    "glm = smf.mixedlm('value ~ variable', data=df_amg_lc, groups = df_amg_lc.subject, \n",
    "                 missing='drop')\n",
    "model1 = glm.fit()\n",
    "print(model1.summary())"
   ]
  },
  {
   "cell_type": "markdown",
   "id": "315083b4",
   "metadata": {},
   "source": [
    "## Summary:\n",
    "- Using spearman (can be pearson) correlation with 8 TR after event (i.e. maximum difference between events):\n",
    "    1. Amygdala - Hippocampus highly coupled when CS+US compared to other conditions\n",
    "    2. Amygdala - vmPFC not coupled\n",
    "    3. Using supramarginal gyrus asr control region- no difference between the conditions in coupling\n",
    "- These results suggest there's a possibility the amygdala-hippocampus are biomarker of aversive learning."
   ]
  },
  {
   "cell_type": "markdown",
   "id": "17d72fe5",
   "metadata": {},
   "source": [
    "# Test correlation of amg-hipp coupling with other learning markers\n",
    "#### Use amg-hipp coupling on CS+ (without US)\n",
    "- These suppose to be extinction trial\n",
    "\n",
    "#### Use amg-hipp coupling with amygdala activation\n",
    "\n",
    "- Not sure its great idea, maybe amygdala activation in CS+ without US\n",
    "\n",
    "#### Use amg-hipp coupling with SCR\n",
    "\n",
    "- Here we will take the SCR score in the trial following US (or the actual trial)"
   ]
  },
  {
   "cell_type": "code",
   "execution_count": null,
   "id": "2cbd7cc2",
   "metadata": {},
   "outputs": [],
   "source": [
    "# check cs+US coupling correlation with CS+ coupling in the next trial(s)\n",
    "\n",
    "# grab CS+US trials amg-hipp r\n",
    "# grab next trial (CS+ ) amg-hipp r\n",
    "# run for all subjects\n",
    "# end with two vectors of r's and correlate them\n",
    "\n",
    "# first lets mark the cs+us and the consecutive cs+\n",
    "stimListA = stimList[['Trial', 'A', 'Time']]\n",
    "# remove cs-\n",
    "stimListA = stimListA[(stimListA['A']!='CSminus1') & (stimListA['A']!='CSminus2') & (stimListA['A']!='CSplus2')\n",
    "                     & (stimListA['A']!='CSplusUS2') * (stimListA['A']!='CSminusUS2')]\n",
    "stimListA\n",
    "# build vectors of cs+us and cs+\n",
    "usCoup = np.array([0,48,160,272,368]) / 2\n",
    "csCoup = np.array([32, 80, 176, 304, 400]) /2"
   ]
  },
  {
   "cell_type": "code",
   "execution_count": null,
   "id": "727fc021",
   "metadata": {},
   "outputs": [],
   "source": [
    "stimListB = stimList[['Trial', 'B', 'Time']]\n",
    "# remove cs-\n",
    "stimListB = stimListB[(stimListB['B']!='CSminus1') & (stimListB['B']!='CSminus2') & (stimListB['B']!='CSplus2')\n",
    "                     & (stimListB['B']!='CSplusUS2') * (stimListB['B']!='CSminusUS2')]\n",
    "stimListB\n",
    "# build vectors of cs+us and cs+\n",
    "usCoup_b = np.array([0,48,96,160,256,384]) / 2\n",
    "csCoup_b = np.array([16, 80, 128, 176,304,400]) /2"
   ]
  },
  {
   "cell_type": "markdown",
   "id": "575448f9",
   "metadata": {},
   "source": [
    "## Correlation between amg-hipp coupling in CS+US vs. CS+\n",
    "- Taking only CS+ following the CS+US"
   ]
  },
  {
   "cell_type": "code",
   "execution_count": null,
   "id": "32b8f83f",
   "metadata": {},
   "outputs": [],
   "source": [
    "def makeAmgHippCorr(usCoup, csCoup, array):\n",
    "    corTotal = [] # get correlation between US and CS\n",
    "\n",
    "    for i in array:#list(range(len(a_array))):\n",
    "        uscorPerSub = []\n",
    "        cscorPerSub = []\n",
    "        for loc in np.arange(len(usCoup)):\n",
    "\n",
    "            amgUS = i[int(usCoup[loc]):int(usCoup[loc]+8),20]\n",
    "            hippUS = i[int(usCoup[loc]):int(usCoup[loc]+8),94]\n",
    "            amgCS = i[int(csCoup[loc]):int(csCoup[loc]+8),20]\n",
    "            hippCS = i[int(csCoup[loc]):int(csCoup[loc]+8),94]\n",
    "            uscor = scipy.stats.spearmanr(amgUS,hippUS)[0]\n",
    "            cscor = scipy.stats.spearmanr(amgCS,hippCS)[0]\n",
    "            uscorPerSub.append(uscor)\n",
    "            cscorPerSub.append(cscor)\n",
    "        #UScorTotal_a.append(uscorPerSub)\n",
    "        #CScorTotal_a.append(cscorPerSub)\n",
    "        corTotal.append(scipy.stats.pearsonr(uscorPerSub, cscorPerSub)[0])\n",
    "    return corTotal\n",
    "    "
   ]
  },
  {
   "cell_type": "code",
   "execution_count": null,
   "id": "04d9595f",
   "metadata": {},
   "outputs": [],
   "source": [
    "corTotal_a = makeAmgHippCorr(usCoup, csCoup, a_array)\n",
    "dfCoupling = pd.DataFrame({'subject': sub_a,'cor': corTotal_a})# 'USCor': UScorTotal_a, 'CSCor': CScorTotal_a})"
   ]
  },
  {
   "cell_type": "code",
   "execution_count": null,
   "id": "c2d5fc9c",
   "metadata": {},
   "outputs": [],
   "source": [
    "corTotal_b = makeAmgHippCorr(usCoup_b, csCoup_b, a_arrayB )\n",
    "dfCoupling_b = pd.DataFrame({'subject': sub_a_B,'cor': corTotal_b})"
   ]
  },
  {
   "cell_type": "code",
   "execution_count": null,
   "id": "b11df032",
   "metadata": {},
   "outputs": [],
   "source": [
    "dfCoupling_both = pd.concat([dfCoupling, dfCoupling_b])"
   ]
  },
  {
   "cell_type": "code",
   "execution_count": null,
   "id": "48c4caa5",
   "metadata": {
    "scrolled": true
   },
   "outputs": [],
   "source": [
    "dfCoupling1 = pd.merge(dfCoupling_both, dfGroups, left_on='subject', right_on='Sub')\n",
    "dfCoupling1.groupby('group').describe()\n"
   ]
  },
  {
   "cell_type": "code",
   "execution_count": null,
   "id": "c10f11ce",
   "metadata": {},
   "outputs": [],
   "source": [
    "# simple regression model\n",
    "simple_reg = smf.ols('cor ~ C(group)', data=dfCoupling1).fit()\n",
    "print(simple_reg.summary())"
   ]
  },
  {
   "cell_type": "code",
   "execution_count": null,
   "id": "b3756660",
   "metadata": {},
   "outputs": [],
   "source": [
    "pg.anova(data=dfCoupling1, dv='cor', between='group', detailed=True)"
   ]
  },
  {
   "cell_type": "code",
   "execution_count": null,
   "id": "8708848d",
   "metadata": {},
   "outputs": [],
   "source": [
    "# plot\n",
    "#sns.swarmplot(x='group',y='cor', data=dfCoupling1)\n",
    "sns.barplot(x='group',y='cor', data=dfCoupling1, ci=68)"
   ]
  },
  {
   "cell_type": "markdown",
   "id": "c6ca929b",
   "metadata": {},
   "source": [
    "## Summary\n",
    "- Interesting difference between the combat controls and PTSD \n",
    "- PTSD show higher correlation between coupling of amg-hippocampus in CS+US and CS+\n",
    "- CC show lower (negative) correlation between the two - fitting extinction\n",
    "* So - it might show the mechanism in which extinction doesn't work in PTSD?\n",
    "- Because PTSD and HC are similar, maybe what we see here is some kind of resciliencey by the CC?"
   ]
  },
  {
   "cell_type": "markdown",
   "id": "cabb69a5",
   "metadata": {},
   "source": [
    "## Use Amygdala activation\n",
    "- Take amygdala activation in the trials following\n",
    "Here we need to think which exact window of activation do we want (time zero + something? or from time zero?)\n"
   ]
  },
  {
   "cell_type": "code",
   "execution_count": null,
   "id": "e20c2e33",
   "metadata": {},
   "outputs": [],
   "source": [
    "# use the same method to take average amygdala activation during US and CS+ (following US)\n",
    "# then test correlation between this and amg-hipp coupling on US\n",
    "corTotal = [] # get correlation between US and CS\n",
    "\n",
    "for i in a_array:#list(range(len(a_array))):\n",
    "    uscorPerSub = []\n",
    "    amgCSarr = []\n",
    "    amgUSarr = []\n",
    "    for loc in np.arange(len(usCoup)):\n",
    "\n",
    "        amgUS = i[int(usCoup[loc]):int(usCoup[loc]+8),20]\n",
    "        hippUS = i[int(usCoup[loc]):int(usCoup[loc]+8),94]\n",
    "        amgCS = np.mean(i[int(csCoup[loc]+2):int(csCoup[loc]+4),20]) # taking amygdala activation 4 seconds after and ending with 8 seconds after\n",
    "        uscor = scipy.stats.spearmanr(amgUS,hippUS)[0]\n",
    "        cscorAmg = scipy.stats.spearmanr(amgCS,uscor)[0]\n",
    "        uscorPerSub.append(uscor)\n",
    "        amgCSarr.append(amgCS)\n",
    "        amgUSarr.append(amgUS)\n",
    "    #UScorTotal_a.append(uscorPerSub)\n",
    "    #CScorTotal_a.append(cscorPerSub)\n",
    "    corTotal.append(scipy.stats.pearsonr(uscorPerSub, amgCSarr)[0])"
   ]
  },
  {
   "cell_type": "code",
   "execution_count": null,
   "id": "2e802f4d",
   "metadata": {},
   "outputs": [],
   "source": [
    "corTotalB = [] # get correlation between US and CS\n",
    "\n",
    "for i in a_arrayB:#list(range(len(a_array))):\n",
    "    uscorPerSub = []\n",
    "    amgCSarr = []\n",
    "    amgUSarr = []\n",
    "    for loc in np.arange(len(usCoup)):\n",
    "\n",
    "        amgUS = i[int(usCoup[loc]):int(usCoup[loc]+8),20]\n",
    "        hippUS = i[int(usCoup[loc]):int(usCoup[loc]+8),94]\n",
    "        amgCS = np.mean(i[int(csCoup[loc]+2):int(csCoup[loc]+4),20]) # taking amygdala activation 4 seconds after and ending with 8 seconds after\n",
    "        uscor = scipy.stats.spearmanr(amgUS,hippUS)[0]\n",
    "        cscorAmg = scipy.stats.spearmanr(amgCS,uscor)[0]\n",
    "        uscorPerSub.append(uscor)\n",
    "        amgCSarr.append(amgCS)\n",
    "        amgUSarr.append(amgUS)\n",
    "    #UScorTotal_a.append(uscorPerSub)\n",
    "    #CScorTotal_a.append(cscorPerSub)\n",
    "    corTotalB.append(scipy.stats.pearsonr(uscorPerSub, amgCSarr)[0])"
   ]
  },
  {
   "cell_type": "code",
   "execution_count": null,
   "id": "11e888bd",
   "metadata": {},
   "outputs": [],
   "source": [
    "dfCouplingAMG = pd.DataFrame({'subject': sub_a,'cor': corTotal})\n",
    "dfCouplingAMG_b = pd.DataFrame({'subject': sub_a_B,'cor': corTotalB})\n",
    "dfCouplingAMG_both = pd.concat([dfCouplingAMG, dfCouplingAMG_b])\n",
    "dfCouplingAMG_1 = pd.merge(dfCouplingAMG_both, dfGroups, left_on='subject', right_on='Sub')\n",
    "dfCouplingAMG_1.groupby('group').describe()\n",
    "\n"
   ]
  },
  {
   "cell_type": "code",
   "execution_count": null,
   "id": "acb41118",
   "metadata": {},
   "outputs": [],
   "source": [
    "#sns.swarmplot(x='group',y='cor', data=dfCouplingAMG_1)\n",
    "sns.barplot(x='group',y='cor', data=dfCouplingAMG_1, ci=68)\n",
    "pg.anova(data=dfCouplingAMG_1, dv='cor', between='group')"
   ]
  },
  {
   "cell_type": "code",
   "execution_count": null,
   "id": "3a82ad1b",
   "metadata": {},
   "outputs": [],
   "source": [
    "# simple regression model\n",
    "simple_reg_amgActivation = smf.ols('cor ~ C(group)', data=dfCouplingAMG_1).fit()\n",
    "print(simple_reg_amgActivation.summary())"
   ]
  },
  {
   "cell_type": "markdown",
   "id": "9d1d55b7",
   "metadata": {},
   "source": [
    "## Test amg-hipp coupling with SCR\n",
    "- First: correlation between mean coupling and CS+ vs. CS- across 1st half\n",
    "- Following similar method\n",
    "- Grabbing SCR in the US trials and the ones following"
   ]
  },
  {
   "cell_type": "code",
   "execution_count": null,
   "id": "eb83cc5a",
   "metadata": {},
   "outputs": [],
   "source": [
    "# read scr file\n",
    "scr_df = pd.read_csv('plus_minus.csv')\n",
    "subjs = []\n",
    "for i,row in scr_df.iterrows():\n",
    "    sub = 'sub-' + str(row.subject)\n",
    "    subjs.append(sub)\n",
    "    \n",
    "scr_df['subject'] = subjs\n",
    "scr_df\n"
   ]
  },
  {
   "cell_type": "code",
   "execution_count": null,
   "id": "892a5230",
   "metadata": {},
   "outputs": [],
   "source": [
    "# grab only the USplus value\n",
    "df_amg_plus = df_amg_hipp[df_amg_hipp.variable=='plusUS']\n",
    "# merge with CS+ vs CS- SCR\n",
    "df_scr_plusMinus = pd.merge(df_amg_plus, scr_df)\n",
    "df_scr_plusMinus.groupby('group').corr()\n",
    "\n",
    "pg.corr(df_scr_plusMinus.value, df_scr_plusMinus.plusMinus)"
   ]
  },
  {
   "cell_type": "code",
   "execution_count": null,
   "id": "f6c67fb8",
   "metadata": {},
   "outputs": [],
   "source": [
    "reg_amgHipp_scr = smf.rlm('plusMinus ~ C(group) * value', data=df_scr_plusMinus).fit()\n",
    "reg_amgHipp_scr.summary()"
   ]
  },
  {
   "cell_type": "code",
   "execution_count": null,
   "id": "6f17a318",
   "metadata": {},
   "outputs": [],
   "source": [
    "sns.lmplot(data=df_scr_plusMinus[df_scr_plusMinus.group!='HC'], x='plusMinus', y='value', hue='group')"
   ]
  },
  {
   "cell_type": "markdown",
   "id": "7a6553c2",
   "metadata": {},
   "source": [
    "## just Second half of first part"
   ]
  },
  {
   "cell_type": "code",
   "execution_count": null,
   "id": "91aa3fe4",
   "metadata": {},
   "outputs": [],
   "source": [
    "scr_s = pd.read_csv('plus_minus_2.csv')\n",
    "subjs = []\n",
    "for i,row in scr_s.iterrows():\n",
    "    sub = 'sub-' + str(row.subject)\n",
    "    subjs.append(sub)\n",
    "    \n",
    "scr_s['subject'] = subjs\n",
    "\n",
    "df_scr_plusMinus = pd.merge(df_amg_plus, scr_s)\n",
    "df_scr_plusMinus\n",
    "df_scr_plusMinus.groupby('group').corr()\n",
    "pg.corr(df_scr_plusMinus.value, df_scr_plusMinus.plusMinus)"
   ]
  },
  {
   "cell_type": "code",
   "execution_count": null,
   "id": "4ed67ebb",
   "metadata": {},
   "outputs": [],
   "source": [
    "# Grab SCR data\n",
    "scrDat = pd.read_csv('Behavioral/SCR3.csv', dtype= {'sub': 'string'} )\n",
    "scrDat = scrDat[['sub','Event.Nr','CDA.PhasicMax', 'Condition']]\n",
    "# add sub to subject\n",
    "for i in scrDat.iterrows():\n",
    "    subNum = scrDat.at[i[0], 'sub']\n",
    "    if len(subNum) < 2:\n",
    "        sub = 'sub-' + '00' + subNum\n",
    "       # print(sub)\n",
    "    elif len(subNum) ==2:\n",
    "        sub = 'sub-' + '0' + subNum\n",
    "       # print(sub)\n",
    "    else:\n",
    "        sub = 'sub-' + subNum\n",
    "    scrDat.at[i[0], 'sub'] = sub\n"
   ]
  },
  {
   "cell_type": "code",
   "execution_count": null,
   "id": "f0d7fe7c",
   "metadata": {},
   "outputs": [],
   "source": [
    "# take just 1st part\n",
    "scrDat = scrDat[(scrDat['Condition']!='CSminus1') & (scrDat['Condition']!='CSminus2') & \n",
    "                (scrDat['Condition']!='CSplus2')\n",
    "                     & (scrDat['Condition']!='CSplusUS2') * (scrDat['Condition']!='CSminusUS2')]"
   ]
  },
  {
   "cell_type": "code",
   "execution_count": null,
   "id": "d08ccc02",
   "metadata": {},
   "outputs": [],
   "source": [
    "scrSub = scrDat['sub'].unique() # grab scr subject list\n",
    "scrSub = np.array(scrSub)"
   ]
  },
  {
   "cell_type": "code",
   "execution_count": null,
   "id": "a730a5d4",
   "metadata": {
    "scrolled": true
   },
   "outputs": [],
   "source": [
    "scrSubs = set(sub_a).intersection(scrSub) # find intersection between both lists\n",
    "scrSubs_b = set(sub_a_B).intersection(scrSub)\n",
    "len(scrSubs)"
   ]
  },
  {
   "cell_type": "code",
   "execution_count": null,
   "id": "155f8237",
   "metadata": {
    "tags": []
   },
   "outputs": [],
   "source": [
    "# grab each subject's scr data (only relevant one)\n",
    "scr_relevant = {}\n",
    "for sub in scrSubs:\n",
    "    print(sub)\n",
    "    scSub = scrDat[scrDat['sub']==sub]\n",
    "    scSub = scSub[['sub','CDA.PhasicMax','Condition']]\n",
    "   # print(scSub)\n",
    "    # now grab phasicmax after US\n",
    "    scr_us = [] # empty holder for list of phasicmax per subject\n",
    "    csTick=0 ## set ticker for CSplusUS conditions\n",
    "    for i in scSub.iterrows():\n",
    "        if csTick==1: # if it was previously CSplusUS1\n",
    "            # specific case when consecutive USs are in \n",
    "            if i[1]['Condition']!= 'CSplusUS1':\n",
    "                print(i[1]['Condition'])\n",
    "                scr_us.append(i[1]['CDA.PhasicMax'])\n",
    "            else:\n",
    "                csTick=1\n",
    "        else:\n",
    "            print('previous non US trial')\n",
    "        if i[1]['Condition']=='CSplusUS1':\n",
    "            csTick = 1\n",
    "        else:\n",
    "            csTick=0\n",
    "            print('Not US trial')\n",
    "        \n",
    "    scr_relevant[sub] = scr_us\n",
    "    "
   ]
  },
  {
   "cell_type": "code",
   "execution_count": null,
   "id": "9101fbec",
   "metadata": {
    "tags": []
   },
   "outputs": [],
   "source": [
    "scr_relevant_b = {}\n",
    "for sub in scrSubs_b:\n",
    "    print(sub)\n",
    "    scSub = scrDat[scrDat['sub']==sub]\n",
    "    scSub = scSub[['sub','CDA.PhasicMax','Condition']]\n",
    "   # print(scSub)\n",
    "    # now grab phasicmax after US\n",
    "    scr_us = [] # empty holder for list of phasicmax per subject\n",
    "    csTick=0 ## set ticker for CSplusUS conditions\n",
    "    for i in scSub.iterrows():\n",
    "        if csTick==1: # if it was previously CSplusUS1\n",
    "            # specific case when consecutive USs are in \n",
    "            if i[1]['Condition']!= 'CSplusUS1':\n",
    "                print(i[1]['Condition'])\n",
    "                scr_us.append(i[1]['CDA.PhasicMax'])\n",
    "            else:\n",
    "                csTick=1\n",
    "        else:\n",
    "            print('previous non US trial')\n",
    "        if i[1]['Condition']=='CSplusUS1':\n",
    "            csTick = 1\n",
    "        else:\n",
    "            csTick=0\n",
    "            print('Not US trial')\n",
    "        \n",
    "    scr_relevant_b[sub] = scr_us"
   ]
  },
  {
   "cell_type": "code",
   "execution_count": null,
   "id": "d169af4f",
   "metadata": {},
   "outputs": [],
   "source": [
    "## now I can take that and correlate with amygdala-hippocampus coupling\n",
    "corTotal = {} # get correlation between US and CS\n",
    "\n",
    "for i,sub in zip(a_array, sub_a):#list(range(len(a_array))):\n",
    "    \n",
    "    uscorPerSub = []\n",
    "    for loc in np.arange(len(usCoup)):\n",
    "\n",
    "        amgUS = i[int(usCoup[loc]):int(usCoup[loc]+8),20]\n",
    "        hippUS = i[int(usCoup[loc]):int(usCoup[loc]+8),94]\n",
    "        uscor = scipy.stats.pearsonr(amgUS,hippUS)[0]\n",
    "        uscorPerSub.append(uscor)\n",
    "       \n",
    "    corTotal[sub]=np.array(uscorPerSub)"
   ]
  },
  {
   "cell_type": "code",
   "execution_count": null,
   "id": "0d4afc64",
   "metadata": {},
   "outputs": [],
   "source": [
    "## now I can take that and correlate with amygdala-hippocampus coupling\n",
    "corTotal_B = {} # get correlation between US and CS\n",
    "\n",
    "for i,sub in zip(a_arrayB, sub_a_B):#list(range(len(a_array))):\n",
    "    \n",
    "    uscorPerSub = []\n",
    "    for loc in np.arange(len(usCoup_b)):\n",
    "\n",
    "        amgUS = i[int(usCoup_b[loc]):int(usCoup_b[loc]+8),20]\n",
    "        hippUS = i[int(usCoup_b[loc]):int(usCoup_b[loc]+8),94]\n",
    "        uscor = scipy.stats.pearsonr(amgUS,hippUS)[0]\n",
    "        uscorPerSub.append(uscor)\n",
    "       \n",
    "    corTotal_B[sub]=np.array(uscorPerSub)"
   ]
  },
  {
   "cell_type": "code",
   "execution_count": null,
   "id": "070a1a0f",
   "metadata": {},
   "outputs": [],
   "source": [
    "scrBrain_cor = {}\n",
    "for sub in scrSubs:\n",
    "    amgHipp = corTotal[sub] # grab amygdala hippocampus coupling\n",
    "    # grab scr\n",
    "    scrGrab = scr_relevant[sub]\n",
    "    scrAmgHipp_correlation = scipy.stats.spearmanr(amgHipp, scrGrab)[0]\n",
    "    scrBrain_cor[sub] = scrAmgHipp_correlation"
   ]
  },
  {
   "cell_type": "code",
   "execution_count": null,
   "id": "d833ade7",
   "metadata": {},
   "outputs": [],
   "source": [
    "scrBrain_cor_b = {}\n",
    "for sub in scrSubs_b:\n",
    "    amgHipp = corTotal_B[sub] # grab amygdala hippocampus coupling\n",
    "    # grab scr\n",
    "    scrGrab = scr_relevant_b[sub]\n",
    "    scrAmgHipp_correlation = scipy.stats.spearmanr(amgHipp, scrGrab)[0]\n",
    "    scrBrain_cor_b[sub] = scrAmgHipp_correlation"
   ]
  },
  {
   "cell_type": "code",
   "execution_count": null,
   "id": "b8b13640",
   "metadata": {},
   "outputs": [],
   "source": [
    "values = scrBrain_cor.items()\n",
    "scrBrain_cor1 = pd.DataFrame(values, columns=['subject','scrCor'])\n",
    "values_b = scrBrain_cor_b.items()\n",
    "scrBrain_cor1_b = pd.DataFrame(values_b, columns=['subject','scrCor'])\n",
    "scrBrain_both = pd.concat([scrBrain_cor1, scrBrain_cor1_b])\n",
    "scrBrain_cor1 = pd.merge(scrBrain_both, dfGroups, left_on='subject', right_on='Sub')\n",
    "scrBrain_cor1.groupby('group').describe()"
   ]
  },
  {
   "cell_type": "code",
   "execution_count": null,
   "id": "67b55d59",
   "metadata": {},
   "outputs": [],
   "source": [
    "pg.anova(scrBrain_cor1, between='group', dv='scrCor')"
   ]
  },
  {
   "cell_type": "markdown",
   "id": "e6d2c816",
   "metadata": {},
   "source": [
    "Nothing. But should try a different approach, correlating all subjects (or just from each group) with each trial"
   ]
  },
  {
   "cell_type": "code",
   "execution_count": null,
   "id": "69265ced",
   "metadata": {},
   "outputs": [],
   "source": [
    "# simple regression model\n",
    "simple_reg_scr = smf.ols('scrCor ~ C(group)', data=scrBrain_cor1).fit()\n",
    "print(simple_reg_scr.summary())"
   ]
  },
  {
   "cell_type": "markdown",
   "id": "4e598f03",
   "metadata": {},
   "source": [
    "### Different approach  of SCR\n",
    "- Correlate each trial (i.e. all subjects/one group)"
   ]
  },
  {
   "cell_type": "code",
   "execution_count": null,
   "id": "56f7fdf4",
   "metadata": {},
   "outputs": [],
   "source": [
    "\n",
    "## now I can take that and correlate with amygdala-hippocampus coupling\n",
    "corTotal = {} # get correlation between US and CS\n",
    "\n",
    "for loc in np.arange(len(usCoup)):\n",
    "    uscorPerTrial = []\n",
    "    for i,sub in zip(a_array, sub_a):#list(range(len(a_array))):\n",
    "        \n",
    "        amgUS = i[int(usCoup[loc]):int(usCoup[loc]+8),20]\n",
    "        hippUS = i[int(usCoup[loc]):int(usCoup[loc]+8),94]\n",
    "        uscor = scipy.stats.pearsonr(amgUS,hippUS)[0]\n",
    "        uscorPerTrial.append(uscor)\n",
    "       \n",
    "    corTotal[str(loc)]=np.array(uscorPerTrial)"
   ]
  },
  {
   "cell_type": "code",
   "execution_count": null,
   "id": "e076137f",
   "metadata": {},
   "outputs": [],
   "source": [
    "## now I can take that and correlate with amygdala-hippocampus coupling\n",
    "corTotal_B = {} # get correlation between US and CS\n",
    "\n",
    "for loc in np.arange(len(usCoup_b)):\n",
    "    uscorPerTrial = []\n",
    "    for i,sub in zip(a_arrayB, sub_a_B):#list(range(len(a_array))):\n",
    "        \n",
    "        amgUS = i[int(usCoup_b[loc]):int(usCoup_b[loc]+8),20]\n",
    "        hippUS = i[int(usCoup_b[loc]):int(usCoup_b[loc]+8),94]\n",
    "        uscor = scipy.stats.pearsonr(amgUS,hippUS)[0]\n",
    "        uscorPerTrial.append(uscor)\n",
    "       \n",
    "    corTotal_B[str(loc)]=np.array(uscorPerTrial)"
   ]
  },
  {
   "cell_type": "code",
   "execution_count": null,
   "id": "a8eac981",
   "metadata": {
    "scrolled": true
   },
   "outputs": [],
   "source": [
    "scr_relevantDf = pd.DataFrame(scr_relevant).T\n",
    "scr_relevantDf.columns = ['SCR1', 'SCR2','SCR3','SCR4','SCR5']\n",
    "corTotal_Df = pd.DataFrame(corTotal)\n",
    "\n",
    "corTotal_Df['subject'] = sub_a\n",
    "#scr_relevantDf\n",
    "corTotal_Df.columns = ['Trial1','Trial2','Trial3','Trial4', 'Trial5', 'subject']\n"
   ]
  },
  {
   "cell_type": "code",
   "execution_count": null,
   "id": "928b596b",
   "metadata": {
    "scrolled": true
   },
   "outputs": [],
   "source": [
    "scr_relevantDf_b = pd.DataFrame(scr_relevant_b).T\n",
    "corTotal_Df_b = pd.DataFrame(corTotal_B)\n",
    "\n",
    "\n",
    "corTotal_Df_b['subject'] = sub_a_B\n",
    "#scr_relevantDf\n",
    "corTotal_Df_b.columns = ['Trial1','Trial2','Trial3','Trial4', 'Trial5', 'Trial6', 'subject']\n",
    "scr_relevantDf_b.columns = ['SCR1', 'SCR2','SCR3','SCR4','SCR5', 'SCR6']"
   ]
  },
  {
   "cell_type": "code",
   "execution_count": null,
   "id": "721da0eb",
   "metadata": {},
   "outputs": [],
   "source": [
    "scr_relevant_DF1 = scr_relevantDf.merge(corTotal_Df, right_on='subject', left_index=True)"
   ]
  },
  {
   "cell_type": "code",
   "execution_count": null,
   "id": "b2e6138e",
   "metadata": {},
   "outputs": [],
   "source": [
    "scr_relevant_DF2 = scr_relevantDf_b.merge(corTotal_Df_b, right_on='subject', left_index=True)"
   ]
  },
  {
   "cell_type": "code",
   "execution_count": null,
   "id": "6845219e",
   "metadata": {},
   "outputs": [],
   "source": [
    "corTotalBoth = pd.concat([scr_relevant_DF1, scr_relevant_DF2], join='outer')\n",
    "sns.heatmap(corTotalBoth.corr(), cmap='coolwarm', vmin = -1)"
   ]
  },
  {
   "cell_type": "markdown",
   "id": "d719c865",
   "metadata": {},
   "source": [
    "## Different groups"
   ]
  },
  {
   "cell_type": "code",
   "execution_count": null,
   "id": "8b9ea89a",
   "metadata": {},
   "outputs": [],
   "source": [
    "corTotalBoth = pd.merge(corTotalBoth, dfGroups, left_on='subject', right_on='Sub')\n",
    "corTotalBoth.head()"
   ]
  },
  {
   "cell_type": "code",
   "execution_count": null,
   "id": "a97238a8",
   "metadata": {},
   "outputs": [],
   "source": [
    "sns.heatmap(corTotalBoth[corTotalBoth.group=='VPTSD'].corr(), cmap='coolwarm', vmin = -1)"
   ]
  },
  {
   "cell_type": "code",
   "execution_count": null,
   "id": "de0bcdc5",
   "metadata": {},
   "outputs": [],
   "source": [
    "sns.heatmap(corTotalBoth[corTotalBoth.group=='VCC'].corr(), cmap='coolwarm', vmin = -1)"
   ]
  },
  {
   "cell_type": "code",
   "execution_count": null,
   "id": "d808e510",
   "metadata": {},
   "outputs": [],
   "source": [
    "plt.figure(figsize=(8,8))\n",
    "sns.heatmap(corTotalBoth[corTotalBoth.group=='HC'].corr(), cmap='coolwarm', vmin = -1,\n",
    "           annot=True)"
   ]
  },
  {
   "cell_type": "code",
   "execution_count": null,
   "id": "4b2440e4",
   "metadata": {},
   "outputs": [],
   "source": [
    "## Take Trial1 - SCR1 etc.\n",
    "totalCor = corTotalBoth.corr()\n",
    "# grab relevant correlations\n",
    "trials = ['Trial1','Trial2','Trial3','Trial4', 'Trial5', 'Trial6']\n",
    "scrs = ['SCR1', 'SCR2','SCR3','SCR4','SCR5', 'SCR6']\n",
    "\n",
    "allCor = []\n",
    "for t, s in zip(trials, scrs):\n",
    "    print(t , s)\n",
    "    allCor.append(totalCor.at[t, s])"
   ]
  },
  {
   "cell_type": "code",
   "execution_count": null,
   "id": "8385f592",
   "metadata": {},
   "outputs": [],
   "source": [
    "# same for PTSD\n",
    "## Take Trial1 - SCR1 etc.\n",
    "totalCor = corTotalBoth[corTotalBoth.group=='VPTSD'].corr()\n",
    "# grab relevant correlations\n",
    "trials = ['Trial1','Trial2','Trial3','Trial4', 'Trial5', 'Trial6']\n",
    "scrs = ['SCR1', 'SCR2','SCR3','SCR4','SCR5', 'SCR6']\n",
    "\n",
    "allCorPT = []\n",
    "for t, s in zip(trials, scrs):\n",
    "    #print(t , s)\n",
    "    allCorPT.append(totalCor.at[t, s])"
   ]
  },
  {
   "cell_type": "code",
   "execution_count": null,
   "id": "2d57733d",
   "metadata": {
    "scrolled": true
   },
   "outputs": [],
   "source": [
    "# same for VCC\n",
    "## Take Trial1 - SCR1 etc.\n",
    "totalCor = corTotalBoth[corTotalBoth.group=='VCC'].corr()\n",
    "# grab relevant correlations\n",
    "trials = ['Trial1','Trial2','Trial3','Trial4', 'Trial5', 'Trial6']\n",
    "scrs = ['SCR1', 'SCR2','SCR3','SCR4','SCR5', 'SCR6']\n",
    "\n",
    "allCorCC = []\n",
    "for t, s in zip(trials, scrs):\n",
    "   # print(t , s)\n",
    "    allCorCC.append(totalCor.at[t, s])"
   ]
  },
  {
   "cell_type": "code",
   "execution_count": null,
   "id": "494f0410",
   "metadata": {},
   "outputs": [],
   "source": [
    "# same for HC\n",
    "## Take Trial1 - SCR1 etc.\n",
    "totalCor = corTotalBoth[corTotalBoth.group=='HC'].corr()\n",
    "# grab relevant correlations\n",
    "trials = ['Trial1','Trial2','Trial3','Trial4', 'Trial5', 'Trial6']\n",
    "scrs = ['SCR1', 'SCR2','SCR3','SCR4','SCR5', 'SCR6']\n",
    "\n",
    "allCorHC = []\n",
    "for t, s in zip(trials, scrs):\n",
    "    #print(t , s)\n",
    "    allCorHC.append(totalCor.at[t, s])"
   ]
  },
  {
   "cell_type": "code",
   "execution_count": null,
   "id": "8f96e4aa",
   "metadata": {},
   "outputs": [],
   "source": [
    "print(f'PTSD {allCorPT}')\n",
    "print(f'HC {allCorHC}')\n",
    "print(f'CC {allCorCC}')"
   ]
  },
  {
   "cell_type": "markdown",
   "id": "4d92b179",
   "metadata": {},
   "source": [
    "Doesn't look interesting"
   ]
  },
  {
   "cell_type": "markdown",
   "id": "6ae296cc",
   "metadata": {},
   "source": [
    "1. Is correlation is indicator of learning\n",
    "2. Uncoupling as predictor for extinction\n",
    "Ifat - Try to use alpha with average coupling"
   ]
  }
 ],
 "metadata": {
  "interpreter": {
   "hash": "5e405ff2f839620d6a09f52036c3a6f28ae3d8af733c0d3b4601cc4729e2f166"
  },
  "kernelspec": {
   "display_name": "Python 3 (ipykernel)",
   "language": "python",
   "name": "python3"
  },
  "language_info": {
   "codemirror_mode": {
    "name": "ipython",
    "version": 3
   },
   "file_extension": ".py",
   "mimetype": "text/x-python",
   "name": "python",
   "nbconvert_exporter": "python",
   "pygments_lexer": "ipython3",
   "version": "3.9.9"
  }
 },
 "nbformat": 4,
 "nbformat_minor": 5
}
