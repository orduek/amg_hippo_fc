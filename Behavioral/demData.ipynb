{
 "cells": [
  {
   "cell_type": "markdown",
   "id": "3f713837-6e71-4896-9832-eeb73e9cde5c",
   "metadata": {},
   "source": [
    "# Organize demographic data"
   ]
  },
  {
   "cell_type": "code",
   "execution_count": 1,
   "id": "0470ef09-a166-41e4-8bdb-bc4ed0e4fba5",
   "metadata": {},
   "outputs": [
    {
     "name": "stderr",
     "output_type": "stream",
     "text": [
      "/gpfs/ysm/project/joormann/oad4/conda_envs/neuroAnalysis/lib/python3.9/site-packages/outdated/utils.py:14: OutdatedPackageWarning: The package pingouin is out of date. Your version is 0.5.0, the latest is 0.5.1.\n",
      "Set the environment variable OUTDATED_IGNORE=1 to disable these warnings.\n",
      "  return warn(\n"
     ]
    }
   ],
   "source": [
    "import pandas as pd\n",
    "import numpy as np\n",
    "import matplotlib.pyplot as plt\n",
    "import seaborn as sns\n",
    "# for stat of demographic\n",
    "import pingouin as pg"
   ]
  },
  {
   "cell_type": "code",
   "execution_count": 56,
   "id": "1880f3e4-940b-4ee8-b623-58274c9f209f",
   "metadata": {},
   "outputs": [],
   "source": [
    "# dm = pd.read_excel('demData.xlsx', dtype = {'sub_id': 'int'})\n",
    "# dm['sub_id'] = dm['sub_id'].astype('string')\n",
    "# for i in dm.iterrows():\n",
    "#     if len(i[1]['sub_id'])<=2:\n",
    "#         #print(i[1]['sub'])\n",
    "#         sub = 'sub-0' + str(i[1]['sub_id'])\n",
    "#     else:\n",
    "#         sub = 'sub-' + str(i[1]['sub_id'])\n",
    "#     #print(sub)\n",
    "#     dm.at[i[0], 'sub_id'] = sub"
   ]
  },
  {
   "cell_type": "code",
   "execution_count": 57,
   "id": "3a707080-7866-42dd-8b32-dc95a178a4f4",
   "metadata": {},
   "outputs": [],
   "source": [
    "#dm.to_csv('demographic.csv', index=False)"
   ]
  },
  {
   "cell_type": "code",
   "execution_count": 58,
   "id": "89c3547c-effc-407a-a4c5-4a297f330184",
   "metadata": {},
   "outputs": [],
   "source": [
    "dm = pd.read_csv('demographic.csv')"
   ]
  },
  {
   "cell_type": "code",
   "execution_count": null,
   "id": "b9c9f3e6-8119-44e6-9537-8679c640d917",
   "metadata": {},
   "outputs": [],
   "source": []
  },
  {
   "cell_type": "code",
   "execution_count": 59,
   "id": "bfb944e1-1716-484f-9a65-89f71ab7a5b1",
   "metadata": {},
   "outputs": [
    {
     "data": {
      "text/plain": [
       "array(['sub-010', 'sub-016', 'sub-021', 'sub-026', 'sub-027', 'sub-030',\n",
       "       'sub-032', 'sub-038', 'sub-043', 'sub-047', 'sub-048', 'sub-053',\n",
       "       'sub-055', 'sub-056', 'sub-059', 'sub-062', 'sub-063', 'sub-065',\n",
       "       'sub-066', 'sub-071', 'sub-072', 'sub-073', 'sub-075', 'sub-081',\n",
       "       'sub-082', 'sub-083', 'sub-085', 'sub-086', 'sub-087', 'sub-102',\n",
       "       'sub-103', 'sub-132', 'sub-144', 'sub-160', 'sub-165', 'sub-166',\n",
       "       'sub-169', 'sub-177', 'sub-178', 'sub-179', 'sub-182', 'sub-184',\n",
       "       'sub-185', 'sub-186', 'sub-203', 'sub-204', 'sub-205', 'sub-1205',\n",
       "       'sub-1222', 'sub-1223', 'sub-1232', 'sub-100', 'sub-105',\n",
       "       'sub-121', 'sub-126', 'sub-130', 'sub-150', 'sub-152', 'sub-153',\n",
       "       'sub-154', 'sub-158', 'sub-167', 'sub-168', 'sub-170', 'sub-171',\n",
       "       'sub-172', 'sub-173', 'sub-189', 'sub-193', 'sub-196', 'sub-200',\n",
       "       'sub-202', 'sub-001', 'sub-004', 'sub-005', 'sub-008', 'sub-011',\n",
       "       'sub-019', 'sub-020', 'sub-022', 'sub-024', 'sub-080', 'sub-089',\n",
       "       'sub-094', 'sub-095'], dtype=object)"
      ]
     },
     "execution_count": 59,
     "metadata": {},
     "output_type": "execute_result"
    }
   ],
   "source": [
    "dm['sub_id'].values"
   ]
  },
  {
   "cell_type": "code",
   "execution_count": 60,
   "id": "d1b0ea7b-0793-418d-a2ad-19c6d9886133",
   "metadata": {},
   "outputs": [
    {
     "data": {
      "text/html": [
       "<div>\n",
       "<style scoped>\n",
       "    .dataframe tbody tr th:only-of-type {\n",
       "        vertical-align: middle;\n",
       "    }\n",
       "\n",
       "    .dataframe tbody tr th {\n",
       "        vertical-align: top;\n",
       "    }\n",
       "\n",
       "    .dataframe thead th {\n",
       "        text-align: right;\n",
       "    }\n",
       "</style>\n",
       "<table border=\"1\" class=\"dataframe\">\n",
       "  <thead>\n",
       "    <tr style=\"text-align: right;\">\n",
       "      <th></th>\n",
       "      <th>Gender</th>\n",
       "      <th>Age</th>\n",
       "    </tr>\n",
       "  </thead>\n",
       "  <tbody>\n",
       "    <tr>\n",
       "      <th>count</th>\n",
       "      <td>85.000000</td>\n",
       "      <td>85.000000</td>\n",
       "    </tr>\n",
       "    <tr>\n",
       "      <th>mean</th>\n",
       "      <td>1.200000</td>\n",
       "      <td>29.682353</td>\n",
       "    </tr>\n",
       "    <tr>\n",
       "      <th>std</th>\n",
       "      <td>0.402374</td>\n",
       "      <td>7.509061</td>\n",
       "    </tr>\n",
       "    <tr>\n",
       "      <th>min</th>\n",
       "      <td>1.000000</td>\n",
       "      <td>18.000000</td>\n",
       "    </tr>\n",
       "    <tr>\n",
       "      <th>25%</th>\n",
       "      <td>1.000000</td>\n",
       "      <td>24.000000</td>\n",
       "    </tr>\n",
       "    <tr>\n",
       "      <th>50%</th>\n",
       "      <td>1.000000</td>\n",
       "      <td>28.000000</td>\n",
       "    </tr>\n",
       "    <tr>\n",
       "      <th>75%</th>\n",
       "      <td>1.000000</td>\n",
       "      <td>33.000000</td>\n",
       "    </tr>\n",
       "    <tr>\n",
       "      <th>max</th>\n",
       "      <td>2.000000</td>\n",
       "      <td>51.000000</td>\n",
       "    </tr>\n",
       "  </tbody>\n",
       "</table>\n",
       "</div>"
      ],
      "text/plain": [
       "          Gender        Age\n",
       "count  85.000000  85.000000\n",
       "mean    1.200000  29.682353\n",
       "std     0.402374   7.509061\n",
       "min     1.000000  18.000000\n",
       "25%     1.000000  24.000000\n",
       "50%     1.000000  28.000000\n",
       "75%     1.000000  33.000000\n",
       "max     2.000000  51.000000"
      ]
     },
     "execution_count": 60,
     "metadata": {},
     "output_type": "execute_result"
    }
   ],
   "source": [
    "dm.describe()"
   ]
  },
  {
   "cell_type": "code",
   "execution_count": 61,
   "id": "ba6ff560-10ea-4992-8998-da04354e5a19",
   "metadata": {},
   "outputs": [
    {
     "data": {
      "text/html": [
       "<div>\n",
       "<style scoped>\n",
       "    .dataframe tbody tr th:only-of-type {\n",
       "        vertical-align: middle;\n",
       "    }\n",
       "\n",
       "    .dataframe tbody tr th {\n",
       "        vertical-align: top;\n",
       "    }\n",
       "\n",
       "    .dataframe thead th {\n",
       "        text-align: right;\n",
       "    }\n",
       "</style>\n",
       "<table border=\"1\" class=\"dataframe\">\n",
       "  <thead>\n",
       "    <tr style=\"text-align: right;\">\n",
       "      <th></th>\n",
       "      <th>sub_id</th>\n",
       "      <th>group</th>\n",
       "      <th>Age</th>\n",
       "    </tr>\n",
       "    <tr>\n",
       "      <th>Gender</th>\n",
       "      <th></th>\n",
       "      <th></th>\n",
       "      <th></th>\n",
       "    </tr>\n",
       "  </thead>\n",
       "  <tbody>\n",
       "    <tr>\n",
       "      <th>1.0</th>\n",
       "      <td>68</td>\n",
       "      <td>68</td>\n",
       "      <td>68</td>\n",
       "    </tr>\n",
       "    <tr>\n",
       "      <th>2.0</th>\n",
       "      <td>17</td>\n",
       "      <td>17</td>\n",
       "      <td>17</td>\n",
       "    </tr>\n",
       "  </tbody>\n",
       "</table>\n",
       "</div>"
      ],
      "text/plain": [
       "        sub_id  group  Age\n",
       "Gender                    \n",
       "1.0         68     68   68\n",
       "2.0         17     17   17"
      ]
     },
     "execution_count": 61,
     "metadata": {},
     "output_type": "execute_result"
    }
   ],
   "source": [
    "dm.groupby('Gender').count()"
   ]
  },
  {
   "cell_type": "code",
   "execution_count": 62,
   "id": "a6cc786e-169c-44ae-95e7-ad5fdf349832",
   "metadata": {},
   "outputs": [
    {
     "data": {
      "text/html": [
       "<div>\n",
       "<style scoped>\n",
       "    .dataframe tbody tr th:only-of-type {\n",
       "        vertical-align: middle;\n",
       "    }\n",
       "\n",
       "    .dataframe tbody tr th {\n",
       "        vertical-align: top;\n",
       "    }\n",
       "\n",
       "    .dataframe thead th {\n",
       "        text-align: right;\n",
       "    }\n",
       "</style>\n",
       "<table border=\"1\" class=\"dataframe\">\n",
       "  <thead>\n",
       "    <tr style=\"text-align: right;\">\n",
       "      <th></th>\n",
       "      <th>sub_id</th>\n",
       "      <th>Gender</th>\n",
       "      <th>Age</th>\n",
       "    </tr>\n",
       "    <tr>\n",
       "      <th>group</th>\n",
       "      <th></th>\n",
       "      <th></th>\n",
       "      <th></th>\n",
       "    </tr>\n",
       "  </thead>\n",
       "  <tbody>\n",
       "    <tr>\n",
       "      <th>HC</th>\n",
       "      <td>30</td>\n",
       "      <td>30</td>\n",
       "      <td>30</td>\n",
       "    </tr>\n",
       "    <tr>\n",
       "      <th>VCC</th>\n",
       "      <td>29</td>\n",
       "      <td>29</td>\n",
       "      <td>29</td>\n",
       "    </tr>\n",
       "    <tr>\n",
       "      <th>VPTSD</th>\n",
       "      <td>26</td>\n",
       "      <td>26</td>\n",
       "      <td>26</td>\n",
       "    </tr>\n",
       "  </tbody>\n",
       "</table>\n",
       "</div>"
      ],
      "text/plain": [
       "       sub_id  Gender  Age\n",
       "group                     \n",
       "HC         30      30   30\n",
       "VCC        29      29   29\n",
       "VPTSD      26      26   26"
      ]
     },
     "execution_count": 62,
     "metadata": {},
     "output_type": "execute_result"
    }
   ],
   "source": [
    "dm.groupby('group').count()"
   ]
  },
  {
   "cell_type": "code",
   "execution_count": 63,
   "id": "5776622d-0fe3-4a17-90ed-7d55b563a4ad",
   "metadata": {},
   "outputs": [
    {
     "data": {
      "text/html": [
       "<div>\n",
       "<style scoped>\n",
       "    .dataframe tbody tr th:only-of-type {\n",
       "        vertical-align: middle;\n",
       "    }\n",
       "\n",
       "    .dataframe tbody tr th {\n",
       "        vertical-align: top;\n",
       "    }\n",
       "\n",
       "    .dataframe thead tr th {\n",
       "        text-align: left;\n",
       "    }\n",
       "\n",
       "    .dataframe thead tr:last-of-type th {\n",
       "        text-align: right;\n",
       "    }\n",
       "</style>\n",
       "<table border=\"1\" class=\"dataframe\">\n",
       "  <thead>\n",
       "    <tr>\n",
       "      <th></th>\n",
       "      <th colspan=\"8\" halign=\"left\">Gender</th>\n",
       "      <th colspan=\"8\" halign=\"left\">Age</th>\n",
       "    </tr>\n",
       "    <tr>\n",
       "      <th></th>\n",
       "      <th>count</th>\n",
       "      <th>mean</th>\n",
       "      <th>std</th>\n",
       "      <th>min</th>\n",
       "      <th>25%</th>\n",
       "      <th>50%</th>\n",
       "      <th>75%</th>\n",
       "      <th>max</th>\n",
       "      <th>count</th>\n",
       "      <th>mean</th>\n",
       "      <th>std</th>\n",
       "      <th>min</th>\n",
       "      <th>25%</th>\n",
       "      <th>50%</th>\n",
       "      <th>75%</th>\n",
       "      <th>max</th>\n",
       "    </tr>\n",
       "    <tr>\n",
       "      <th>group</th>\n",
       "      <th></th>\n",
       "      <th></th>\n",
       "      <th></th>\n",
       "      <th></th>\n",
       "      <th></th>\n",
       "      <th></th>\n",
       "      <th></th>\n",
       "      <th></th>\n",
       "      <th></th>\n",
       "      <th></th>\n",
       "      <th></th>\n",
       "      <th></th>\n",
       "      <th></th>\n",
       "      <th></th>\n",
       "      <th></th>\n",
       "      <th></th>\n",
       "    </tr>\n",
       "  </thead>\n",
       "  <tbody>\n",
       "    <tr>\n",
       "      <th>HC</th>\n",
       "      <td>30.0</td>\n",
       "      <td>1.400000</td>\n",
       "      <td>0.498273</td>\n",
       "      <td>1.0</td>\n",
       "      <td>1.0</td>\n",
       "      <td>1.0</td>\n",
       "      <td>2.0</td>\n",
       "      <td>2.0</td>\n",
       "      <td>30.0</td>\n",
       "      <td>24.600000</td>\n",
       "      <td>3.728733</td>\n",
       "      <td>18.0</td>\n",
       "      <td>22.00</td>\n",
       "      <td>24.0</td>\n",
       "      <td>26.0</td>\n",
       "      <td>34.0</td>\n",
       "    </tr>\n",
       "    <tr>\n",
       "      <th>VCC</th>\n",
       "      <td>29.0</td>\n",
       "      <td>1.068966</td>\n",
       "      <td>0.257881</td>\n",
       "      <td>1.0</td>\n",
       "      <td>1.0</td>\n",
       "      <td>1.0</td>\n",
       "      <td>1.0</td>\n",
       "      <td>2.0</td>\n",
       "      <td>29.0</td>\n",
       "      <td>31.620690</td>\n",
       "      <td>7.752483</td>\n",
       "      <td>21.0</td>\n",
       "      <td>26.00</td>\n",
       "      <td>29.0</td>\n",
       "      <td>36.0</td>\n",
       "      <td>46.0</td>\n",
       "    </tr>\n",
       "    <tr>\n",
       "      <th>VPTSD</th>\n",
       "      <td>26.0</td>\n",
       "      <td>1.115385</td>\n",
       "      <td>0.325813</td>\n",
       "      <td>1.0</td>\n",
       "      <td>1.0</td>\n",
       "      <td>1.0</td>\n",
       "      <td>1.0</td>\n",
       "      <td>2.0</td>\n",
       "      <td>26.0</td>\n",
       "      <td>33.384615</td>\n",
       "      <td>7.510403</td>\n",
       "      <td>21.0</td>\n",
       "      <td>29.25</td>\n",
       "      <td>31.5</td>\n",
       "      <td>36.5</td>\n",
       "      <td>51.0</td>\n",
       "    </tr>\n",
       "  </tbody>\n",
       "</table>\n",
       "</div>"
      ],
      "text/plain": [
       "      Gender                                                Age             \\\n",
       "       count      mean       std  min  25%  50%  75%  max count       mean   \n",
       "group                                                                        \n",
       "HC      30.0  1.400000  0.498273  1.0  1.0  1.0  2.0  2.0  30.0  24.600000   \n",
       "VCC     29.0  1.068966  0.257881  1.0  1.0  1.0  1.0  2.0  29.0  31.620690   \n",
       "VPTSD   26.0  1.115385  0.325813  1.0  1.0  1.0  1.0  2.0  26.0  33.384615   \n",
       "\n",
       "                                                \n",
       "            std   min    25%   50%   75%   max  \n",
       "group                                           \n",
       "HC     3.728733  18.0  22.00  24.0  26.0  34.0  \n",
       "VCC    7.752483  21.0  26.00  29.0  36.0  46.0  \n",
       "VPTSD  7.510403  21.0  29.25  31.5  36.5  51.0  "
      ]
     },
     "execution_count": 63,
     "metadata": {},
     "output_type": "execute_result"
    }
   ],
   "source": [
    "dm.groupby('group').describe()"
   ]
  },
  {
   "cell_type": "code",
   "execution_count": 64,
   "id": "7c6072e6-9d70-4420-ba59-e6c8a0c08990",
   "metadata": {},
   "outputs": [
    {
     "data": {
      "text/plain": [
       "<seaborn.axisgrid.PairGrid at 0x2b09f7aa51f0>"
      ]
     },
     "execution_count": 64,
     "metadata": {},
     "output_type": "execute_result"
    },
    {
     "data": {
      "image/png": "[encoded data removed]",
      "text/plain": [
       "<Figure size 428.875x360 with 6 Axes>"
      ]
     },
     "metadata": {
      "needs_background": "light"
     },
     "output_type": "display_data"
    }
   ],
   "source": [
    "sns.pairplot(dm, hue='group')"
   ]
  },
  {
   "cell_type": "code",
   "execution_count": 65,
   "id": "57161c3b-9f9f-4cda-870c-7c4e24cb69a5",
   "metadata": {},
   "outputs": [
    {
     "data": {
      "text/html": [
       "<div>\n",
       "<style scoped>\n",
       "    .dataframe tbody tr th:only-of-type {\n",
       "        vertical-align: middle;\n",
       "    }\n",
       "\n",
       "    .dataframe tbody tr th {\n",
       "        vertical-align: top;\n",
       "    }\n",
       "\n",
       "    .dataframe thead th {\n",
       "        text-align: right;\n",
       "    }\n",
       "</style>\n",
       "<table border=\"1\" class=\"dataframe\">\n",
       "  <thead>\n",
       "    <tr style=\"text-align: right;\">\n",
       "      <th></th>\n",
       "      <th>Source</th>\n",
       "      <th>ddof1</th>\n",
       "      <th>ddof2</th>\n",
       "      <th>F</th>\n",
       "      <th>p-unc</th>\n",
       "      <th>np2</th>\n",
       "    </tr>\n",
       "  </thead>\n",
       "  <tbody>\n",
       "    <tr>\n",
       "      <th>0</th>\n",
       "      <td>group</td>\n",
       "      <td>2</td>\n",
       "      <td>82</td>\n",
       "      <td>14.544419</td>\n",
       "      <td>0.000004</td>\n",
       "      <td>0.261852</td>\n",
       "    </tr>\n",
       "  </tbody>\n",
       "</table>\n",
       "</div>"
      ],
      "text/plain": [
       "  Source  ddof1  ddof2          F     p-unc       np2\n",
       "0  group      2     82  14.544419  0.000004  0.261852"
      ]
     },
     "execution_count": 65,
     "metadata": {},
     "output_type": "execute_result"
    }
   ],
   "source": [
    "pg.anova(data=dm, dv='Age', between='group')\n",
    "# there is a group difference (HC are younger)"
   ]
  },
  {
   "cell_type": "code",
   "execution_count": 66,
   "id": "5d743c2b-d36d-4475-b66c-055bf0f7d8a9",
   "metadata": {},
   "outputs": [
    {
     "name": "stderr",
     "output_type": "stream",
     "text": [
      "/gpfs/ysm/project/joormann/oad4/conda_envs/neuroAnalysis/lib/python3.9/site-packages/pingouin/contingency.py:151: UserWarning: Low count on observed frequencies.\n",
      "  warnings.warn('Low count on {} frequencies.'.format(name))\n"
     ]
    },
    {
     "data": {
      "text/plain": [
       "(Gender   1.0  2.0\n",
       " group            \n",
       " HC      24.0  6.0\n",
       " VCC     23.2  5.8\n",
       " VPTSD   20.8  5.2,\n",
       " Gender  1.0  2.0\n",
       " group           \n",
       " HC       18   12\n",
       " VCC      27    2\n",
       " VPTSD    23    3,\n",
       "                  test    lambda       chi2  dof      pval    cramer     power\n",
       " 0             pearson  1.000000  11.775531  2.0  0.002773  0.372204  0.876834\n",
       " 1        cressie-read  0.666667  11.587749  2.0  0.003046  0.369224  0.871311\n",
       " 2      log-likelihood  0.000000  11.535721  2.0  0.003126  0.368394  0.869743\n",
       " 3       freeman-tukey -0.500000  11.793654  2.0  0.002748  0.372490  0.877356\n",
       " 4  mod-log-likelihood -1.000000  12.341420  2.0  0.002090  0.381042  0.892242\n",
       " 5              neyman -2.000000  14.578583  2.0  0.000683  0.414141  0.937717)"
      ]
     },
     "execution_count": 66,
     "metadata": {},
     "output_type": "execute_result"
    }
   ],
   "source": [
    "pg.chi2_independence(dm, 'group', 'Gender') # also HC are more equivalent compared to combat groups"
   ]
  },
  {
   "cell_type": "code",
   "execution_count": 67,
   "id": "a68dabbe-5f7e-49ba-9eab-c7c628c51ad4",
   "metadata": {},
   "outputs": [],
   "source": [
    "dfAll = pd.read_csv('../scr_amg_hipp_all.csv')"
   ]
  },
  {
   "cell_type": "code",
   "execution_count": 68,
   "id": "69e8e3d3-8414-4a86-95fd-8550223adde4",
   "metadata": {},
   "outputs": [
    {
     "data": {
      "text/plain": [
       "65"
      ]
     },
     "execution_count": 68,
     "metadata": {},
     "output_type": "execute_result"
    }
   ],
   "source": [
    "# find were same subject occur\n",
    "both = set(dfAll['sub'].unique()).intersection(dm['sub_id'].unique()) \n",
    "len(both)"
   ]
  },
  {
   "cell_type": "code",
   "execution_count": 69,
   "id": "f3758290-c035-44ed-bf2c-ce50173c0035",
   "metadata": {},
   "outputs": [
    {
     "data": {
      "text/html": [
       "<div>\n",
       "<style scoped>\n",
       "    .dataframe tbody tr th:only-of-type {\n",
       "        vertical-align: middle;\n",
       "    }\n",
       "\n",
       "    .dataframe tbody tr th {\n",
       "        vertical-align: top;\n",
       "    }\n",
       "\n",
       "    .dataframe thead th {\n",
       "        text-align: right;\n",
       "    }\n",
       "</style>\n",
       "<table border=\"1\" class=\"dataframe\">\n",
       "  <thead>\n",
       "    <tr style=\"text-align: right;\">\n",
       "      <th></th>\n",
       "      <th>sub_id</th>\n",
       "      <th>group</th>\n",
       "      <th>Gender</th>\n",
       "      <th>Age</th>\n",
       "    </tr>\n",
       "  </thead>\n",
       "  <tbody>\n",
       "    <tr>\n",
       "      <th>0</th>\n",
       "      <td>sub-010</td>\n",
       "      <td>VCC</td>\n",
       "      <td>2.0</td>\n",
       "      <td>29.0</td>\n",
       "    </tr>\n",
       "    <tr>\n",
       "      <th>1</th>\n",
       "      <td>sub-016</td>\n",
       "      <td>VCC</td>\n",
       "      <td>1.0</td>\n",
       "      <td>25.0</td>\n",
       "    </tr>\n",
       "    <tr>\n",
       "      <th>3</th>\n",
       "      <td>sub-026</td>\n",
       "      <td>VPTSD</td>\n",
       "      <td>1.0</td>\n",
       "      <td>32.0</td>\n",
       "    </tr>\n",
       "    <tr>\n",
       "      <th>4</th>\n",
       "      <td>sub-027</td>\n",
       "      <td>VCC</td>\n",
       "      <td>1.0</td>\n",
       "      <td>35.0</td>\n",
       "    </tr>\n",
       "    <tr>\n",
       "      <th>5</th>\n",
       "      <td>sub-030</td>\n",
       "      <td>VPTSD</td>\n",
       "      <td>1.0</td>\n",
       "      <td>44.0</td>\n",
       "    </tr>\n",
       "  </tbody>\n",
       "</table>\n",
       "</div>"
      ],
      "text/plain": [
       "    sub_id  group  Gender   Age\n",
       "0  sub-010    VCC     2.0  29.0\n",
       "1  sub-016    VCC     1.0  25.0\n",
       "3  sub-026  VPTSD     1.0  32.0\n",
       "4  sub-027    VCC     1.0  35.0\n",
       "5  sub-030  VPTSD     1.0  44.0"
      ]
     },
     "execution_count": 69,
     "metadata": {},
     "output_type": "execute_result"
    }
   ],
   "source": [
    "# grab demographic only of those in both\n",
    "dm_clean = dm[dm['sub_id'].isin(both)]\n",
    "dm_clean.head()"
   ]
  },
  {
   "cell_type": "code",
   "execution_count": 70,
   "id": "c1476207-ae8c-4363-8a64-178db3d0cc93",
   "metadata": {},
   "outputs": [
    {
     "data": {
      "text/plain": [
       "65"
      ]
     },
     "execution_count": 70,
     "metadata": {},
     "output_type": "execute_result"
    }
   ],
   "source": [
    "len(dm_clean['sub_id'])"
   ]
  },
  {
   "cell_type": "code",
   "execution_count": 71,
   "id": "60096c0a-eddb-4934-b8c1-46353c8444ac",
   "metadata": {},
   "outputs": [
    {
     "data": {
      "text/html": [
       "<div>\n",
       "<style scoped>\n",
       "    .dataframe tbody tr th:only-of-type {\n",
       "        vertical-align: middle;\n",
       "    }\n",
       "\n",
       "    .dataframe tbody tr th {\n",
       "        vertical-align: top;\n",
       "    }\n",
       "\n",
       "    .dataframe thead th {\n",
       "        text-align: right;\n",
       "    }\n",
       "</style>\n",
       "<table border=\"1\" class=\"dataframe\">\n",
       "  <thead>\n",
       "    <tr style=\"text-align: right;\">\n",
       "      <th></th>\n",
       "      <th>Gender</th>\n",
       "      <th>Age</th>\n",
       "    </tr>\n",
       "  </thead>\n",
       "  <tbody>\n",
       "    <tr>\n",
       "      <th>count</th>\n",
       "      <td>65.000000</td>\n",
       "      <td>65.000000</td>\n",
       "    </tr>\n",
       "    <tr>\n",
       "      <th>mean</th>\n",
       "      <td>1.184615</td>\n",
       "      <td>30.353846</td>\n",
       "    </tr>\n",
       "    <tr>\n",
       "      <th>std</th>\n",
       "      <td>0.391005</td>\n",
       "      <td>7.657575</td>\n",
       "    </tr>\n",
       "    <tr>\n",
       "      <th>min</th>\n",
       "      <td>1.000000</td>\n",
       "      <td>18.000000</td>\n",
       "    </tr>\n",
       "    <tr>\n",
       "      <th>25%</th>\n",
       "      <td>1.000000</td>\n",
       "      <td>25.000000</td>\n",
       "    </tr>\n",
       "    <tr>\n",
       "      <th>50%</th>\n",
       "      <td>1.000000</td>\n",
       "      <td>29.000000</td>\n",
       "    </tr>\n",
       "    <tr>\n",
       "      <th>75%</th>\n",
       "      <td>1.000000</td>\n",
       "      <td>34.000000</td>\n",
       "    </tr>\n",
       "    <tr>\n",
       "      <th>max</th>\n",
       "      <td>2.000000</td>\n",
       "      <td>51.000000</td>\n",
       "    </tr>\n",
       "  </tbody>\n",
       "</table>\n",
       "</div>"
      ],
      "text/plain": [
       "          Gender        Age\n",
       "count  65.000000  65.000000\n",
       "mean    1.184615  30.353846\n",
       "std     0.391005   7.657575\n",
       "min     1.000000  18.000000\n",
       "25%     1.000000  25.000000\n",
       "50%     1.000000  29.000000\n",
       "75%     1.000000  34.000000\n",
       "max     2.000000  51.000000"
      ]
     },
     "execution_count": 71,
     "metadata": {},
     "output_type": "execute_result"
    }
   ],
   "source": [
    "dm_clean.describe()"
   ]
  },
  {
   "cell_type": "code",
   "execution_count": 83,
   "id": "3db3f9df-78ad-40cc-a206-2a189355a8ba",
   "metadata": {},
   "outputs": [
    {
     "data": {
      "text/html": [
       "<div>\n",
       "<style scoped>\n",
       "    .dataframe tbody tr th:only-of-type {\n",
       "        vertical-align: middle;\n",
       "    }\n",
       "\n",
       "    .dataframe tbody tr th {\n",
       "        vertical-align: top;\n",
       "    }\n",
       "\n",
       "    .dataframe thead tr th {\n",
       "        text-align: left;\n",
       "    }\n",
       "\n",
       "    .dataframe thead tr:last-of-type th {\n",
       "        text-align: right;\n",
       "    }\n",
       "</style>\n",
       "<table border=\"1\" class=\"dataframe\">\n",
       "  <thead>\n",
       "    <tr>\n",
       "      <th></th>\n",
       "      <th></th>\n",
       "      <th colspan=\"8\" halign=\"left\">Age</th>\n",
       "    </tr>\n",
       "    <tr>\n",
       "      <th></th>\n",
       "      <th></th>\n",
       "      <th>count</th>\n",
       "      <th>mean</th>\n",
       "      <th>std</th>\n",
       "      <th>min</th>\n",
       "      <th>25%</th>\n",
       "      <th>50%</th>\n",
       "      <th>75%</th>\n",
       "      <th>max</th>\n",
       "    </tr>\n",
       "    <tr>\n",
       "      <th>group</th>\n",
       "      <th>Gender</th>\n",
       "      <th></th>\n",
       "      <th></th>\n",
       "      <th></th>\n",
       "      <th></th>\n",
       "      <th></th>\n",
       "      <th></th>\n",
       "      <th></th>\n",
       "      <th></th>\n",
       "    </tr>\n",
       "  </thead>\n",
       "  <tbody>\n",
       "    <tr>\n",
       "      <th rowspan=\"2\" valign=\"top\">HC</th>\n",
       "      <th>1.0</th>\n",
       "      <td>12.0</td>\n",
       "      <td>23.750000</td>\n",
       "      <td>3.250874</td>\n",
       "      <td>18.0</td>\n",
       "      <td>21.75</td>\n",
       "      <td>24.0</td>\n",
       "      <td>26.25</td>\n",
       "      <td>29.0</td>\n",
       "    </tr>\n",
       "    <tr>\n",
       "      <th>2.0</th>\n",
       "      <td>7.0</td>\n",
       "      <td>26.428571</td>\n",
       "      <td>4.503967</td>\n",
       "      <td>21.0</td>\n",
       "      <td>24.00</td>\n",
       "      <td>25.0</td>\n",
       "      <td>28.50</td>\n",
       "      <td>34.0</td>\n",
       "    </tr>\n",
       "    <tr>\n",
       "      <th rowspan=\"2\" valign=\"top\">VCC</th>\n",
       "      <th>1.0</th>\n",
       "      <td>23.0</td>\n",
       "      <td>32.434783</td>\n",
       "      <td>7.328810</td>\n",
       "      <td>24.0</td>\n",
       "      <td>27.00</td>\n",
       "      <td>30.0</td>\n",
       "      <td>38.00</td>\n",
       "      <td>46.0</td>\n",
       "    </tr>\n",
       "    <tr>\n",
       "      <th>2.0</th>\n",
       "      <td>2.0</td>\n",
       "      <td>26.000000</td>\n",
       "      <td>4.242641</td>\n",
       "      <td>23.0</td>\n",
       "      <td>24.50</td>\n",
       "      <td>26.0</td>\n",
       "      <td>27.50</td>\n",
       "      <td>29.0</td>\n",
       "    </tr>\n",
       "    <tr>\n",
       "      <th rowspan=\"2\" valign=\"top\">VPTSD</th>\n",
       "      <th>1.0</th>\n",
       "      <td>18.0</td>\n",
       "      <td>32.944444</td>\n",
       "      <td>8.591872</td>\n",
       "      <td>21.0</td>\n",
       "      <td>27.50</td>\n",
       "      <td>30.5</td>\n",
       "      <td>35.00</td>\n",
       "      <td>51.0</td>\n",
       "    </tr>\n",
       "    <tr>\n",
       "      <th>2.0</th>\n",
       "      <td>3.0</td>\n",
       "      <td>37.333333</td>\n",
       "      <td>3.511885</td>\n",
       "      <td>34.0</td>\n",
       "      <td>35.50</td>\n",
       "      <td>37.0</td>\n",
       "      <td>39.00</td>\n",
       "      <td>41.0</td>\n",
       "    </tr>\n",
       "  </tbody>\n",
       "</table>\n",
       "</div>"
      ],
      "text/plain": [
       "               Age                                                     \n",
       "             count       mean       std   min    25%   50%    75%   max\n",
       "group Gender                                                           \n",
       "HC    1.0     12.0  23.750000  3.250874  18.0  21.75  24.0  26.25  29.0\n",
       "      2.0      7.0  26.428571  4.503967  21.0  24.00  25.0  28.50  34.0\n",
       "VCC   1.0     23.0  32.434783  7.328810  24.0  27.00  30.0  38.00  46.0\n",
       "      2.0      2.0  26.000000  4.242641  23.0  24.50  26.0  27.50  29.0\n",
       "VPTSD 1.0     18.0  32.944444  8.591872  21.0  27.50  30.5  35.00  51.0\n",
       "      2.0      3.0  37.333333  3.511885  34.0  35.50  37.0  39.00  41.0"
      ]
     },
     "execution_count": 83,
     "metadata": {},
     "output_type": "execute_result"
    }
   ],
   "source": [
    "dm_clean.groupby(['group','Gender']).describe()"
   ]
  },
  {
   "cell_type": "code",
   "execution_count": 72,
   "id": "5b6f8586-578f-4822-a644-7936ad4e2ed6",
   "metadata": {},
   "outputs": [
    {
     "data": {
      "text/plain": [
       "<seaborn.axisgrid.PairGrid at 0x2b0a0836c6d0>"
      ]
     },
     "execution_count": 72,
     "metadata": {},
     "output_type": "execute_result"
    },
    {
     "data": {
      "image/png": "[encoded data removed]",
      "text/plain": [
       "<Figure size 428.875x360 with 6 Axes>"
      ]
     },
     "metadata": {
      "needs_background": "light"
     },
     "output_type": "display_data"
    }
   ],
   "source": [
    "sns.pairplot(dm_clean, hue='group')"
   ]
  },
  {
   "cell_type": "code",
   "execution_count": 73,
   "id": "ef568af8-47a8-4b75-94b4-393a952317b1",
   "metadata": {},
   "outputs": [
    {
     "data": {
      "text/html": [
       "<div>\n",
       "<style scoped>\n",
       "    .dataframe tbody tr th:only-of-type {\n",
       "        vertical-align: middle;\n",
       "    }\n",
       "\n",
       "    .dataframe tbody tr th {\n",
       "        vertical-align: top;\n",
       "    }\n",
       "\n",
       "    .dataframe thead th {\n",
       "        text-align: right;\n",
       "    }\n",
       "</style>\n",
       "<table border=\"1\" class=\"dataframe\">\n",
       "  <thead>\n",
       "    <tr style=\"text-align: right;\">\n",
       "      <th></th>\n",
       "      <th>T</th>\n",
       "      <th>dof</th>\n",
       "      <th>alternative</th>\n",
       "      <th>p-val</th>\n",
       "      <th>CI95%</th>\n",
       "      <th>cohen-d</th>\n",
       "      <th>BF10</th>\n",
       "      <th>power</th>\n",
       "    </tr>\n",
       "  </thead>\n",
       "  <tbody>\n",
       "    <tr>\n",
       "      <th>T-test</th>\n",
       "      <td>4.443377</td>\n",
       "      <td>29.194759</td>\n",
       "      <td>two-sided</td>\n",
       "      <td>0.000117</td>\n",
       "      <td>[4.77, 12.9]</td>\n",
       "      <td>1.362001</td>\n",
       "      <td>279.363</td>\n",
       "      <td>0.987148</td>\n",
       "    </tr>\n",
       "  </tbody>\n",
       "</table>\n",
       "</div>"
      ],
      "text/plain": [
       "               T        dof alternative     p-val         CI95%   cohen-d  \\\n",
       "T-test  4.443377  29.194759   two-sided  0.000117  [4.77, 12.9]  1.362001   \n",
       "\n",
       "           BF10     power  \n",
       "T-test  279.363  0.987148  "
      ]
     },
     "execution_count": 73,
     "metadata": {},
     "output_type": "execute_result"
    }
   ],
   "source": [
    "pg.ttest(dm_clean['Age'][dm_clean['group']=='VPTSD'], dm_clean['Age'][dm_clean['group']=='HC'])"
   ]
  },
  {
   "cell_type": "code",
   "execution_count": 74,
   "id": "1a09d9dd-01db-4982-ac49-920c9c1c63d7",
   "metadata": {},
   "outputs": [
    {
     "data": {
      "text/html": [
       "<div>\n",
       "<style scoped>\n",
       "    .dataframe tbody tr th:only-of-type {\n",
       "        vertical-align: middle;\n",
       "    }\n",
       "\n",
       "    .dataframe tbody tr th {\n",
       "        vertical-align: top;\n",
       "    }\n",
       "\n",
       "    .dataframe thead th {\n",
       "        text-align: right;\n",
       "    }\n",
       "</style>\n",
       "<table border=\"1\" class=\"dataframe\">\n",
       "  <thead>\n",
       "    <tr style=\"text-align: right;\">\n",
       "      <th></th>\n",
       "      <th>Source</th>\n",
       "      <th>ddof1</th>\n",
       "      <th>ddof2</th>\n",
       "      <th>F</th>\n",
       "      <th>p-unc</th>\n",
       "      <th>np2</th>\n",
       "    </tr>\n",
       "  </thead>\n",
       "  <tbody>\n",
       "    <tr>\n",
       "      <th>0</th>\n",
       "      <td>group</td>\n",
       "      <td>2</td>\n",
       "      <td>62</td>\n",
       "      <td>9.470324</td>\n",
       "      <td>0.000258</td>\n",
       "      <td>0.234007</td>\n",
       "    </tr>\n",
       "  </tbody>\n",
       "</table>\n",
       "</div>"
      ],
      "text/plain": [
       "  Source  ddof1  ddof2         F     p-unc       np2\n",
       "0  group      2     62  9.470324  0.000258  0.234007"
      ]
     },
     "execution_count": 74,
     "metadata": {},
     "output_type": "execute_result"
    }
   ],
   "source": [
    "pg.anova(data=dm_clean, dv='Age', between='group')"
   ]
  },
  {
   "cell_type": "markdown",
   "id": "af750261-7892-4355-a8e4-0fb305380dc4",
   "metadata": {},
   "source": [
    "Indeed age is significantly different between healthy controls and PTSD/CC groups"
   ]
  },
  {
   "cell_type": "code",
   "execution_count": 75,
   "id": "00766c7a-3544-4f79-8cc8-49b65ad26a06",
   "metadata": {},
   "outputs": [
    {
     "name": "stderr",
     "output_type": "stream",
     "text": [
      "/gpfs/ysm/project/joormann/oad4/conda_envs/neuroAnalysis/lib/python3.9/site-packages/pingouin/contingency.py:151: UserWarning: Low count on observed frequencies.\n",
      "  warnings.warn('Low count on {} frequencies.'.format(name))\n",
      "/gpfs/ysm/project/joormann/oad4/conda_envs/neuroAnalysis/lib/python3.9/site-packages/pingouin/contingency.py:151: UserWarning: Low count on expected frequencies.\n",
      "  warnings.warn('Low count on {} frequencies.'.format(name))\n"
     ]
    },
    {
     "data": {
      "text/plain": [
       "(Gender        1.0       2.0\n",
       " group                      \n",
       " HC      15.492308  3.507692\n",
       " VCC     20.384615  4.615385\n",
       " VPTSD   17.123077  3.876923,\n",
       " Gender  1.0  2.0\n",
       " group           \n",
       " HC       12    7\n",
       " VCC      23    2\n",
       " VPTSD    18    3,\n",
       "                  test    lambda      chi2  dof      pval    cramer     power\n",
       " 0             pearson  1.000000  6.325105  2.0  0.042318  0.311944  0.608265\n",
       " 1        cressie-read  0.666667  6.169202  2.0  0.045748  0.308076  0.596769\n",
       " 2      log-likelihood  0.000000  6.010109  2.0  0.049536  0.304078  0.584808\n",
       " 3       freeman-tukey -0.500000  6.019920  2.0  0.049294  0.304326  0.585552\n",
       " 4  mod-log-likelihood -1.000000  6.143032  2.0  0.046351  0.307422  0.594817\n",
       " 5              neyman -2.000000  6.775240  2.0  0.033789  0.322854  0.640199)"
      ]
     },
     "execution_count": 75,
     "metadata": {},
     "output_type": "execute_result"
    }
   ],
   "source": [
    "pg.chi2_independence(dm_clean, 'group', 'Gender')"
   ]
  },
  {
   "cell_type": "code",
   "execution_count": 76,
   "id": "79375e0e-8895-4ba0-896d-0aceb3bc50a1",
   "metadata": {},
   "outputs": [
    {
     "name": "stderr",
     "output_type": "stream",
     "text": [
      "/gpfs/ysm/project/joormann/oad4/conda_envs/neuroAnalysis/lib/python3.9/site-packages/pingouin/contingency.py:151: UserWarning: Low count on observed frequencies.\n",
      "  warnings.warn('Low count on {} frequencies.'.format(name))\n",
      "/gpfs/ysm/project/joormann/oad4/conda_envs/neuroAnalysis/lib/python3.9/site-packages/pingouin/contingency.py:151: UserWarning: Low count on expected frequencies.\n",
      "  warnings.warn('Low count on {} frequencies.'.format(name))\n"
     ]
    },
    {
     "data": {
      "text/plain": [
       "(Gender        1.0       2.0\n",
       " group                      \n",
       " VCC     22.282609  2.717391\n",
       " VPTSD   18.717391  2.282609,\n",
       " Gender   1.0  2.0\n",
       " group            \n",
       " VCC     22.5  2.5\n",
       " VPTSD   18.5  2.5,\n",
       "                  test    lambda      chi2  dof      pval    cramer     power\n",
       " 0             pearson  1.000000  0.042741  1.0  0.836214  0.030482  0.054910\n",
       " 1        cressie-read  0.666667  0.042688  1.0  0.836313  0.030463  0.054904\n",
       " 2      log-likelihood  0.000000  0.042600  1.0  0.836481  0.030432  0.054894\n",
       " 3       freeman-tukey -0.500000  0.042547  1.0  0.836580  0.030413  0.054888\n",
       " 4  mod-log-likelihood -1.000000  0.042507  1.0  0.836657  0.030398  0.054883\n",
       " 5              neyman -2.000000  0.042462  1.0  0.836741  0.030382  0.054878)"
      ]
     },
     "execution_count": 76,
     "metadata": {},
     "output_type": "execute_result"
    }
   ],
   "source": [
    "pg.chi2_independence(dm_clean[dm_clean['group']!='HC'], 'group', 'Gender')"
   ]
  },
  {
   "cell_type": "code",
   "execution_count": 82,
   "id": "0f80834c-7df1-45d3-acfb-82ea22959267",
   "metadata": {},
   "outputs": [
    {
     "data": {
      "text/html": [
       "<div>\n",
       "<style scoped>\n",
       "    .dataframe tbody tr th:only-of-type {\n",
       "        vertical-align: middle;\n",
       "    }\n",
       "\n",
       "    .dataframe tbody tr th {\n",
       "        vertical-align: top;\n",
       "    }\n",
       "\n",
       "    .dataframe thead th {\n",
       "        text-align: right;\n",
       "    }\n",
       "</style>\n",
       "<table border=\"1\" class=\"dataframe\">\n",
       "  <thead>\n",
       "    <tr style=\"text-align: right;\">\n",
       "      <th></th>\n",
       "      <th>sub_id</th>\n",
       "      <th>group</th>\n",
       "      <th>Gender</th>\n",
       "      <th>Age</th>\n",
       "    </tr>\n",
       "  </thead>\n",
       "  <tbody>\n",
       "    <tr>\n",
       "      <th>51</th>\n",
       "      <td>sub-100</td>\n",
       "      <td>HC</td>\n",
       "      <td>1.0</td>\n",
       "      <td>20.0</td>\n",
       "    </tr>\n",
       "    <tr>\n",
       "      <th>54</th>\n",
       "      <td>sub-126</td>\n",
       "      <td>HC</td>\n",
       "      <td>1.0</td>\n",
       "      <td>24.0</td>\n",
       "    </tr>\n",
       "    <tr>\n",
       "      <th>55</th>\n",
       "      <td>sub-130</td>\n",
       "      <td>HC</td>\n",
       "      <td>1.0</td>\n",
       "      <td>26.0</td>\n",
       "    </tr>\n",
       "    <tr>\n",
       "      <th>56</th>\n",
       "      <td>sub-150</td>\n",
       "      <td>HC</td>\n",
       "      <td>1.0</td>\n",
       "      <td>24.0</td>\n",
       "    </tr>\n",
       "    <tr>\n",
       "      <th>57</th>\n",
       "      <td>sub-152</td>\n",
       "      <td>HC</td>\n",
       "      <td>2.0</td>\n",
       "      <td>24.0</td>\n",
       "    </tr>\n",
       "    <tr>\n",
       "      <th>58</th>\n",
       "      <td>sub-153</td>\n",
       "      <td>HC</td>\n",
       "      <td>1.0</td>\n",
       "      <td>22.0</td>\n",
       "    </tr>\n",
       "    <tr>\n",
       "      <th>59</th>\n",
       "      <td>sub-154</td>\n",
       "      <td>HC</td>\n",
       "      <td>1.0</td>\n",
       "      <td>18.0</td>\n",
       "    </tr>\n",
       "    <tr>\n",
       "      <th>60</th>\n",
       "      <td>sub-158</td>\n",
       "      <td>HC</td>\n",
       "      <td>1.0</td>\n",
       "      <td>21.0</td>\n",
       "    </tr>\n",
       "    <tr>\n",
       "      <th>61</th>\n",
       "      <td>sub-167</td>\n",
       "      <td>HC</td>\n",
       "      <td>2.0</td>\n",
       "      <td>34.0</td>\n",
       "    </tr>\n",
       "    <tr>\n",
       "      <th>62</th>\n",
       "      <td>sub-168</td>\n",
       "      <td>HC</td>\n",
       "      <td>2.0</td>\n",
       "      <td>25.0</td>\n",
       "    </tr>\n",
       "    <tr>\n",
       "      <th>63</th>\n",
       "      <td>sub-170</td>\n",
       "      <td>HC</td>\n",
       "      <td>1.0</td>\n",
       "      <td>22.0</td>\n",
       "    </tr>\n",
       "    <tr>\n",
       "      <th>64</th>\n",
       "      <td>sub-171</td>\n",
       "      <td>HC</td>\n",
       "      <td>1.0</td>\n",
       "      <td>27.0</td>\n",
       "    </tr>\n",
       "    <tr>\n",
       "      <th>65</th>\n",
       "      <td>sub-172</td>\n",
       "      <td>HC</td>\n",
       "      <td>1.0</td>\n",
       "      <td>29.0</td>\n",
       "    </tr>\n",
       "    <tr>\n",
       "      <th>66</th>\n",
       "      <td>sub-173</td>\n",
       "      <td>HC</td>\n",
       "      <td>1.0</td>\n",
       "      <td>25.0</td>\n",
       "    </tr>\n",
       "    <tr>\n",
       "      <th>67</th>\n",
       "      <td>sub-189</td>\n",
       "      <td>HC</td>\n",
       "      <td>2.0</td>\n",
       "      <td>26.0</td>\n",
       "    </tr>\n",
       "    <tr>\n",
       "      <th>68</th>\n",
       "      <td>sub-193</td>\n",
       "      <td>HC</td>\n",
       "      <td>2.0</td>\n",
       "      <td>31.0</td>\n",
       "    </tr>\n",
       "    <tr>\n",
       "      <th>69</th>\n",
       "      <td>sub-196</td>\n",
       "      <td>HC</td>\n",
       "      <td>1.0</td>\n",
       "      <td>27.0</td>\n",
       "    </tr>\n",
       "    <tr>\n",
       "      <th>70</th>\n",
       "      <td>sub-200</td>\n",
       "      <td>HC</td>\n",
       "      <td>2.0</td>\n",
       "      <td>21.0</td>\n",
       "    </tr>\n",
       "    <tr>\n",
       "      <th>71</th>\n",
       "      <td>sub-202</td>\n",
       "      <td>HC</td>\n",
       "      <td>2.0</td>\n",
       "      <td>24.0</td>\n",
       "    </tr>\n",
       "  </tbody>\n",
       "</table>\n",
       "</div>"
      ],
      "text/plain": [
       "     sub_id group  Gender   Age\n",
       "51  sub-100    HC     1.0  20.0\n",
       "54  sub-126    HC     1.0  24.0\n",
       "55  sub-130    HC     1.0  26.0\n",
       "56  sub-150    HC     1.0  24.0\n",
       "57  sub-152    HC     2.0  24.0\n",
       "58  sub-153    HC     1.0  22.0\n",
       "59  sub-154    HC     1.0  18.0\n",
       "60  sub-158    HC     1.0  21.0\n",
       "61  sub-167    HC     2.0  34.0\n",
       "62  sub-168    HC     2.0  25.0\n",
       "63  sub-170    HC     1.0  22.0\n",
       "64  sub-171    HC     1.0  27.0\n",
       "65  sub-172    HC     1.0  29.0\n",
       "66  sub-173    HC     1.0  25.0\n",
       "67  sub-189    HC     2.0  26.0\n",
       "68  sub-193    HC     2.0  31.0\n",
       "69  sub-196    HC     1.0  27.0\n",
       "70  sub-200    HC     2.0  21.0\n",
       "71  sub-202    HC     2.0  24.0"
      ]
     },
     "execution_count": 82,
     "metadata": {},
     "output_type": "execute_result"
    }
   ],
   "source": [
    "dm_clean[dm_clean['group']=='HC']"
   ]
  },
  {
   "cell_type": "markdown",
   "id": "b58eab15-e862-48fd-95c4-617c15131c99",
   "metadata": {},
   "source": [
    "Gender also divides differently in HC group"
   ]
  }
 ],
 "metadata": {
  "kernelspec": {
   "display_name": "Python 3 (ipykernel)",
   "language": "python",
   "name": "python3"
  },
  "language_info": {
   "codemirror_mode": {
    "name": "ipython",
    "version": 3
   },
   "file_extension": ".py",
   "mimetype": "text/x-python",
   "name": "python",
   "nbconvert_exporter": "python",
   "pygments_lexer": "ipython3",
   "version": "3.9.9"
  }
 },
 "nbformat": 4,
 "nbformat_minor": 5
}
